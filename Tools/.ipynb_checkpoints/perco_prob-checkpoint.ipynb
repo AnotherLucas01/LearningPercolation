{
 "cells": [
  {
   "cell_type": "code",
   "execution_count": null,
   "id": "9508cbf0-80f5-4bf0-ad3a-796ca313793f",
   "metadata": {},
   "outputs": [
    {
     "name": "stdout",
     "output_type": "stream",
     "text": [
      "Computing for size 5×5...\n"
     ]
    },
    {
     "name": "stderr",
     "output_type": "stream",
     "text": [
      "Size 5:   0%|                                                                                                | 0/51 [00:00<?, ?it/s]"
     ]
    }
   ],
   "source": [
    "import numpy as np\n",
    "import matplotlib.pyplot as plt\n",
    "from scipy.ndimage import label\n",
    "from tqdm import tqdm\n",
    "import itertools\n",
    "\n",
    "def generate_percolation_lattice(size, p):\n",
    "    \"\"\"Generate a percolation lattice with given size and occupation probability\"\"\"\n",
    "    return np.random.choice([0, 1], (size, size), p=[1-p, p])\n",
    "\n",
    "def check_percolation(lattice):\n",
    "    \"\"\"Check if lattice percolates (top-bottom or left-right)\"\"\"\n",
    "    labeled, _ = label(lattice)\n",
    "    \n",
    "    # Vertical percolation (top-bottom)\n",
    "    top = set(labeled[0, :]) - {0}\n",
    "    bottom = set(labeled[-1, :]) - {0}\n",
    "    vertical = bool(top & bottom)\n",
    "    \n",
    "    # Horizontal percolation (left-right)\n",
    "    left = set(labeled[:, 0]) - {0}\n",
    "    right = set(labeled[:, -1]) - {0}\n",
    "    horizontal = bool(left & right)\n",
    "    \n",
    "    return float(vertical or horizontal)\n",
    "\n",
    "def exact_percolation_probability(size, p):\n",
    "    \"\"\"Compute exact percolation probability for small lattices (size <= 5)\"\"\"\n",
    "    total_configs = 0\n",
    "    percolating_configs = 0\n",
    "    \n",
    "    # Generate all possible configurations\n",
    "    for config in itertools.product([0, 1], repeat=size*size):\n",
    "        lattice = np.array(config).reshape(size, size)\n",
    "        total_configs += 1\n",
    "        if check_percolation(lattice):\n",
    "            percolating_configs += 1\n",
    "            \n",
    "    return percolating_configs / total_configs\n",
    "\n",
    "def monte_carlo_percolation_probability(size, p, num_samples=10000):\n",
    "    \"\"\"Compute percolation probability using Monte Carlo for larger lattices\"\"\"\n",
    "    percolating_count = 0\n",
    "    for _ in range(num_samples):\n",
    "        lattice = generate_percolation_lattice(size, p)\n",
    "        if check_percolation(lattice):\n",
    "            percolating_count += 1\n",
    "    return percolating_count / num_samples\n",
    "\n",
    "# Configuration\n",
    "sizes = [3, 4, 5, 6]  # Sizes to compute (6 is the practical limit)\n",
    "p_values = np.linspace(0, 1, 51)  # Probability values to evaluate\n",
    "num_samples = 5000  # Monte Carlo samples for larger sizes\n",
    "\n",
    "# Compute percolation probabilities\n",
    "results = {}\n",
    "for size in sizes:\n",
    "    print(f\"Computing for size {size}×{size}...\")\n",
    "    probs = []\n",
    "    \n",
    "    # Use exact method for small sizes, Monte Carlo for larger\n",
    "    method = exact_percolation_probability if size <= 4 else monte_carlo_percolation_probability\n",
    "    \n",
    "    for p in tqdm(p_values, desc=f\"Size {size}\"):\n",
    "        if size <= 5:\n",
    "            prob = method(size, p)\n",
    "        else:\n",
    "            prob = method(size, p, num_samples)\n",
    "        probs.append(prob)\n",
    "    \n",
    "    results[size] = probs\n",
    "\n",
    "# Plot results\n",
    "plt.figure(figsize=(10, 6))\n",
    "for size, probs in results.items():\n",
    "    plt.plot(p_values, probs, 'o-', label=f'{size}×{size}', markersize=4)\n",
    "\n",
    "# Theoretical critical point\n",
    "plt.axvline(0.5927, color='black', linestyle='--', alpha=0.7, label='Theoretical $p_c$ (0.5927)')\n",
    "\n",
    "plt.xlabel('Occupation Probability (p)')\n",
    "plt.ylabel('Percolation Probability')\n",
    "plt.title('Finite-Size Scaling of Percolation Threshold')\n",
    "plt.legend()\n",
    "plt.grid(True, alpha=0.3)\n",
    "plt.tight_layout()\n",
    "plt.savefig('percolation_finite_size_scaling.pdf', bbox_inches='tight')\n",
    "plt.show()"
   ]
  }
 ],
 "metadata": {
  "kernelspec": {
   "display_name": "Python 3 (ipykernel)",
   "language": "python",
   "name": "python3"
  },
  "language_info": {
   "codemirror_mode": {
    "name": "ipython",
    "version": 3
   },
   "file_extension": ".py",
   "mimetype": "text/x-python",
   "name": "python",
   "nbconvert_exporter": "python",
   "pygments_lexer": "ipython3",
   "version": "3.9.4"
  }
 },
 "nbformat": 4,
 "nbformat_minor": 5
}

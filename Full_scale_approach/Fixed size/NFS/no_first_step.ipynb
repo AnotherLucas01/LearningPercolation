{
 "cells": [
  {
   "cell_type": "code",
   "execution_count": 1,
   "id": "8a9099ef-5d74-4f4c-8f22-3fc450939724",
   "metadata": {},
   "outputs": [],
   "source": [
    "# Core Imports and Functions\n",
    "import numpy as np\n",
    "import torch\n",
    "import torch.nn as nn\n",
    "import torch.nn.functional as F\n",
    "import torch.optim as optim\n",
    "from scipy.ndimage import label\n",
    "from tqdm import tqdm\n",
    "\n",
    "# Configuration Parameters\n",
    "DIM = 3  # Base dimension\n",
    "POWER = 4  # Lattice size = DIM^POWER\n",
    "MAX_STEPS = POWER + 5  # Maximum coarse-graining steps\n",
    "\n",
    "def generate_percolation_lattice(size, p):\n",
    "    return np.random.choice([0, 1], (size, size), p=[1-p, p])\n",
    "\n",
    "def check_percolation(lattice):\n",
    "    labeled, _ = label(lattice)\n",
    "    \n",
    "    # Vertical percolation (top-bottom)\n",
    "    top = set(labeled[0, :]) - {0}\n",
    "    bottom = set(labeled[-1, :]) - {0}\n",
    "    vertical = bool(top & bottom)\n",
    "    \n",
    "    # Horizontal percolation (left-right)\n",
    "    left = set(labeled[:, 0]) - {0}\n",
    "    right = set(labeled[:, -1]) - {0}\n",
    "    horizontal = bool(left & right)\n",
    "    \n",
    "    return float(vertical or horizontal)\n",
    "\n",
    "\n",
    "class PercolationModel(nn.Module):\n",
    "    def __init__(self, dim):\n",
    "        super().__init__()\n",
    "        self.dim = dim\n",
    "        self.rule = nn.Sequential(\n",
    "            nn.Linear(dim*dim, 64),\n",
    "            nn.ReLU(),\n",
    "            nn.Linear(64, 1),\n",
    "            nn.Sigmoid()\n",
    "        )\n",
    "    \n",
    "    def forward(self, x, max_steps=MAX_STEPS):\n",
    "        b, c, H, W = x.shape\n",
    "        \n",
    "        for _ in range(max_steps):\n",
    "            if H < self.dim or W < self.dim: break\n",
    "            \n",
    "            # Extract dimxdim patches\n",
    "            patches = F.unfold(x, kernel_size=self.dim, stride=self.dim)\n",
    "            patches = patches.permute(0, 2, 1).contiguous()\n",
    "            patches = patches.view(-1, self.dim*self.dim)\n",
    "            \n",
    "            out = self.rule(patches)\n",
    "            \n",
    "            new_h, new_w = H // self.dim, W // self.dim\n",
    "            x = out.view(b, 1, new_h, new_w)\n",
    "            _, c, H, W = x.shape\n",
    "\n",
    "        return x.squeeze()\n",
    "\n",
    "def prepare_dataset(num_samples, lattice_size):\n",
    "    data = []\n",
    "    for _ in tqdm(range(num_samples), desc=\"Generating data\"):\n",
    "        p = np.random.uniform(0, 1)\n",
    "        lattice = generate_percolation_lattice(lattice_size, p)\n",
    "        lbl = check_percolation(lattice)\n",
    "        data.append((lattice, lbl))\n",
    "    return data\n",
    "\n",
    "def train_epoch(model, device, train_data, batch_size, optimizer, criterion, dim):\n",
    "    model.train()\n",
    "    running_loss = 0.0\n",
    "    for i in tqdm(range(0, len(train_data), batch_size), desc=\"Training\"):\n",
    "        batch = train_data[i:i+batch_size]\n",
    "        \n",
    "        # FIXED: pull out x (the lattice) for each sample, convert to float tensor\n",
    "        lattices = [torch.tensor(x, dtype=torch.float32) for x, _ in batch]\n",
    "        labels   = [y for _, y in batch]\n",
    "        \n",
    "        # stack into a (B, 1, H, W) tensor\n",
    "        inputs  = torch.stack(lattices).unsqueeze(1).to(device)\n",
    "        targets = torch.tensor(labels, dtype=torch.float32).to(device)\n",
    "        \n",
    "        optimizer.zero_grad()\n",
    "        outputs = model(inputs, max_steps=MAX_STEPS)      # (B,) after .squeeze()\n",
    "        loss    = criterion(outputs, targets)\n",
    "        loss.backward()\n",
    "        optimizer.step()\n",
    "        \n",
    "        running_loss += loss.item() * len(batch)\n",
    "    \n",
    "    return running_loss / len(train_data)"
   ]
  },
  {
   "cell_type": "code",
   "execution_count": 2,
   "id": "5cdb046c-3b37-4efb-834a-0f07e13fd3ca",
   "metadata": {},
   "outputs": [
    {
     "name": "stderr",
     "output_type": "stream",
     "text": [
      "Generating data: 100%|████████████████████████████████████████████████████████████████████████| 8000/8000 [00:04<00:00, 1857.99it/s]\n"
     ]
    }
   ],
   "source": [
    "# Initialization\n",
    "DEVICE = torch.device('cuda' if torch.cuda.is_available() else 'cpu')\n",
    "SIZE = DIM ** POWER\n",
    "TRAIN_SAMPLES = 8000\n",
    "BATCH_SIZE = 10\n",
    "EPOCHS = 5\n",
    "\n",
    "# Generate datasets\n",
    "train_data = prepare_dataset(TRAIN_SAMPLES, SIZE)\n",
    "\n",
    "# Initialize model\n",
    "model = PercolationModel(dim=DIM).to(DEVICE)\n",
    "optimizer = optim.Adam(model.parameters(), lr=0.001)\n",
    "criterion = nn.BCELoss()"
   ]
  },
  {
   "cell_type": "code",
   "execution_count": 3,
   "id": "55580e07-fccf-45aa-a070-d72f3f8255cf",
   "metadata": {},
   "outputs": [
    {
     "name": "stderr",
     "output_type": "stream",
     "text": [
      "Training: 100%|██████████████████████████████████████████████████████████████████████████████████| 800/800 [00:04<00:00, 170.13it/s]\n"
     ]
    },
    {
     "name": "stdout",
     "output_type": "stream",
     "text": [
      "Epoch 1 - Loss: 0.1725\n"
     ]
    },
    {
     "name": "stderr",
     "output_type": "stream",
     "text": [
      "Training: 100%|██████████████████████████████████████████████████████████████████████████████████| 800/800 [00:04<00:00, 199.35it/s]\n"
     ]
    },
    {
     "name": "stdout",
     "output_type": "stream",
     "text": [
      "Epoch 2 - Loss: 0.0409\n"
     ]
    },
    {
     "name": "stderr",
     "output_type": "stream",
     "text": [
      "Training: 100%|██████████████████████████████████████████████████████████████████████████████████| 800/800 [00:04<00:00, 198.72it/s]\n"
     ]
    },
    {
     "name": "stdout",
     "output_type": "stream",
     "text": [
      "Epoch 3 - Loss: 0.0395\n"
     ]
    },
    {
     "name": "stderr",
     "output_type": "stream",
     "text": [
      "Training: 100%|██████████████████████████████████████████████████████████████████████████████████| 800/800 [00:04<00:00, 198.46it/s]\n"
     ]
    },
    {
     "name": "stdout",
     "output_type": "stream",
     "text": [
      "Epoch 4 - Loss: 0.0387\n"
     ]
    },
    {
     "name": "stderr",
     "output_type": "stream",
     "text": [
      "Training: 100%|██████████████████████████████████████████████████████████████████████████████████| 800/800 [00:04<00:00, 197.90it/s]"
     ]
    },
    {
     "name": "stdout",
     "output_type": "stream",
     "text": [
      "Epoch 5 - Loss: 0.0383\n"
     ]
    },
    {
     "name": "stderr",
     "output_type": "stream",
     "text": [
      "\n"
     ]
    }
   ],
   "source": [
    "# Training\n",
    "for epoch in range(EPOCHS):\n",
    "    loss = train_epoch(model, DEVICE, train_data, BATCH_SIZE, optimizer, criterion, DIM)\n",
    "    print(f\"Epoch {epoch+1} - Loss: {loss:.4f}\")"
   ]
  },
  {
   "cell_type": "code",
   "execution_count": 6,
   "id": "b01589da-2a04-44f1-ab50-dfe4ee0414b3",
   "metadata": {},
   "outputs": [
    {
     "name": "stderr",
     "output_type": "stream",
     "text": [
      "Testing 27x27: 100%|█████████████████████████████████████████████████████████████████████████████| 100/100 [00:00<00:00, 846.61it/s]\n"
     ]
    },
    {
     "name": "stdout",
     "output_type": "stream",
     "text": [
      "\n",
      "27x27 Results:\n",
      "Accuracy: 5.00%\n",
      "Avg prediction | Perc: 0.086\n",
      "Avg prediction | Non-Perc: 0.960\n"
     ]
    },
    {
     "name": "stderr",
     "output_type": "stream",
     "text": [
      "Testing 81x81: 100%|█████████████████████████████████████████████████████████████████████████████| 100/100 [00:00<00:00, 578.84it/s]\n"
     ]
    },
    {
     "name": "stdout",
     "output_type": "stream",
     "text": [
      "\n",
      "81x81 Results:\n",
      "Accuracy: 97.00%\n",
      "Avg prediction | Perc: 0.983\n",
      "Avg prediction | Non-Perc: 0.034\n"
     ]
    },
    {
     "name": "stderr",
     "output_type": "stream",
     "text": [
      "Testing 729x729: 100%|██████████████████████████████████████████████████████████████████████████████| 20/20 [00:01<00:00, 19.84it/s]\n"
     ]
    },
    {
     "name": "stdout",
     "output_type": "stream",
     "text": [
      "\n",
      "729x729 Results:\n",
      "Accuracy: 100.00%\n",
      "Avg prediction | Perc: 0.997\n",
      "Avg prediction | Non-Perc: 0.002\n"
     ]
    },
    {
     "name": "stderr",
     "output_type": "stream",
     "text": [
      "Testing 81x81: 100%|█████████████████████████████████████████████████████████████████████████████| 200/200 [00:00<00:00, 471.01it/s]"
     ]
    },
    {
     "name": "stdout",
     "output_type": "stream",
     "text": [
      "\n",
      "81x81 Results:\n",
      "Accuracy: 75.00%\n",
      "Avg prediction | Perc: 0.733\n",
      "Avg prediction | Non-Perc: 0.546\n",
      "Saved test summary to 3x3_accuracy_NFS.txt\n"
     ]
    },
    {
     "name": "stderr",
     "output_type": "stream",
     "text": [
      "\n"
     ]
    }
   ],
   "source": [
    "# Full testing\n",
    "\n",
    "def test_systems(model, dim, power, device='cpu', num_tests=10,\n",
    "                          system_size='standard', p_range=(0, 1), verbose=True):\n",
    "    \"\"\"\n",
    "    Tests model on raw lattices without initial coarse-graining\n",
    "    Args:\n",
    "        system_size: 'smaller' (dim^(power-1)), 'standard' (dim^power), or 'larger' (dim^(power+1))\n",
    "    \"\"\"\n",
    "    model.eval()\n",
    "    \n",
    "    # Calculate lattice size\n",
    "    size_power = {\n",
    "        'smaller': power - 1,\n",
    "        'standard': power,\n",
    "        'larger': power + 1\n",
    "    }[system_size]\n",
    "    \n",
    "    lattice_size = dim ** size_power\n",
    "    results = []\n",
    "    \n",
    "    for _ in tqdm(range(num_tests), desc=f\"Testing {lattice_size}x{lattice_size}\"):\n",
    "        # Generate raw lattice\n",
    "        p = np.random.uniform(*p_range)\n",
    "        lattice = generate_percolation_lattice(lattice_size, p)\n",
    "        true_label = check_percolation(lattice)\n",
    "        \n",
    "        # Directly convert to tensor (no coarse-graining)\n",
    "        input_tensor = torch.tensor(lattice, dtype=torch.float32)\n",
    "        input_tensor = input_tensor.unsqueeze(0).unsqueeze(0).to(device)  # [1,1,H,W]\n",
    "        \n",
    "        with torch.no_grad():\n",
    "            pred = model(input_tensor).item()\n",
    "        \n",
    "        results.append((lattice, true_label, pred))\n",
    "    \n",
    "    # Calculate metrics\n",
    "    threshold = 0.5\n",
    "    correct = sum(1 for _, lbl, pred in results if (pred > threshold) == lbl)\n",
    "    acc = correct / num_tests\n",
    "    \n",
    "    if verbose:\n",
    "        print(f\"\\n{lattice_size}x{lattice_size} Results:\")\n",
    "        print(f\"Accuracy: {acc:.2%}\")\n",
    "        print(f\"Avg prediction | Perc: {np.mean([p for _,l,p in results if l==1]):.3f}\")\n",
    "        print(f\"Avg prediction | Non-Perc: {np.mean([p for _,l,p in results if l==0]):.3f}\")\n",
    "    \n",
    "    return results\n",
    "\n",
    "# Test configurations\n",
    "test_configs = [\n",
    "    {'system_size': 'smaller', 'num_tests': 100, 'p_range': (0.1, 0.9)},\n",
    "    {'system_size': 'standard', 'num_tests': 100, 'p_range': (0.1, 0.9)},\n",
    "    {'system_size': 'larger', 'num_tests': 100, 'p_range': (0.1, 0.9)},\n",
    "    {'system_size': 'standard', 'num_tests': 200, 'p_range': (0.58, 0.61)}\n",
    "]\n",
    "\n",
    "# Unified test execution\n",
    "test_results = {}\n",
    "for config in test_configs:\n",
    "    key = f\"{config['system_size']}_{config['p_range'][0]}-{config['p_range'][1]}\"\n",
    "    test_results[key] = test_systems(\n",
    "        model=model,\n",
    "        dim=DIM,\n",
    "        power=POWER,\n",
    "        device=DEVICE,\n",
    "        **config\n",
    "    )\n",
    "\n",
    "# 1. Compute summary statistics for each config\n",
    "summaries = {}\n",
    "for key, results in test_results.items():\n",
    "    # results is a list of (lattice, true_label, pred) tuples\n",
    "    acc = sum((pred > 0.5) == lbl for _, lbl, pred in results) / len(results)\n",
    "    mean_perc     = np.mean([pred for _, lbl, pred in results if lbl == 1]) if any(lbl==1 for _,lbl,_ in results) else float('nan')\n",
    "    mean_non_perc = np.mean([pred for _, lbl, pred in results if lbl == 0]) if any(lbl==0 for _,lbl,_ in results) else float('nan')\n",
    "    summaries[key] = (acc, mean_perc, mean_non_perc)\n",
    "\n",
    "# 2. Write to file\n",
    "filename = f'{DIM}x{DIM}_accuracy_NFS.txt'\n",
    "with open(filename, 'w', encoding='utf-8') as f:\n",
    "    f.write(f'PercolationModel {DIM}×{DIM} results via NFS\\n')\n",
    "    f.write('='*40 + '\\n\\n')\n",
    "    for key, (acc, mp, mnp) in summaries.items():\n",
    "        f.write(f'Config: {key}\\n')\n",
    "        f.write(f'  -> Accuracy       : {acc:.2%}\\n')\n",
    "        f.write(f'  -> Avg if perc    : {mp:.3f}\\n')\n",
    "        f.write(f'  -> Avg if non-perc: {mnp:.3f}\\n\\n')\n",
    "\n",
    "print(f\"Saved test summary to {filename}\")\n"
   ]
  },
  {
   "cell_type": "code",
   "execution_count": 5,
   "id": "ec807ee9-0c11-42c3-9c62-48c827ee6da5",
   "metadata": {},
   "outputs": [
    {
     "data": {
      "image/png": "[encoded data removed]",
      "text/plain": [
       "<Figure size 700x500 with 1 Axes>"
      ]
     },
     "metadata": {},
     "output_type": "display_data"
    }
   ],
   "source": [
    "import numpy as np\n",
    "import torch\n",
    "import matplotlib.pyplot as plt\n",
    "\n",
    "# ─── Assumptions ───────────────────────────────────────────────────────────────\n",
    "# You have already defined/loaded:\n",
    "#   - model     : your trained PercolationModel instance\n",
    "#   - DIM       : patch size (should be 3)\n",
    "#   - DEVICE    : torch.device('cuda' or 'cpu')\n",
    "# And model.rule maps a flattened (DIM*DIM)-vector → scalar.\n",
    "\n",
    "model.eval()\n",
    "\n",
    "# ─── Grid of p values ────────────────────────────────────────────────────────────\n",
    "ps_coarse = np.linspace(0.0, 1.0, 101)\n",
    "ps_fine   = np.linspace(0.5, 0.7, 201)\n",
    "ps = np.unique(np.concatenate((ps_coarse, ps_fine)))\n",
    "ps.sort()\n",
    "\n",
    "# ─── Sampling parameters ─────────────────────────────────────────────────────────\n",
    "n_patches = 1000   # how many random 3×3 lattices per p\n",
    "\n",
    "# ─── Compute one-step curve ─────────────────────────────────────────────────────\n",
    "mean_outputs = []\n",
    "with torch.no_grad():\n",
    "    for p in ps:\n",
    "        # generate (n_patches x DIM x DIM) random binary lattices\n",
    "        mats = np.random.rand(n_patches, DIM, DIM) < p    # boolean\n",
    "        mats = mats.astype(np.float32).reshape(n_patches, -1)  # flatten to [n,9]\n",
    "        \n",
    "        # to tensor\n",
    "        inp = torch.from_numpy(mats).to(DEVICE)  # shape [n_patches, 9]\n",
    "        \n",
    "        # rule output\n",
    "        outs = model.rule(inp).cpu().numpy().flatten()  # [n_patches]\n",
    "        \n",
    "        mean_outputs.append(outs.mean())\n",
    "\n",
    "# ─── Plot ───────────────────────────────────────────────────────────────────────\n",
    "plt.figure(figsize=(7,5))\n",
    "plt.plot(ps, mean_outputs, '-o', markersize=3)\n",
    "plt.axvline(0.5927, color='gray', linestyle=':', label='pc ≈ 0.5927')\n",
    "plt.xlabel(\"Patch density $p$\")\n",
    "plt.ylabel(\"Mean one-step output\")\n",
    "plt.title(\"Empirical One‐Step Mapping via Random 3×3 Patches\")\n",
    "plt.grid(True)\n",
    "plt.legend()\n",
    "plt.tight_layout()\n",
    "plt.savefig(f'{DIM}x{DIM}_one_step_NFS.pdf')\n",
    "plt.show()\n"
   ]
  }
 ],
 "metadata": {
  "kernelspec": {
   "display_name": "Python 3 (ipykernel)",
   "language": "python",
   "name": "python3"
  },
  "language_info": {
   "codemirror_mode": {
    "name": "ipython",
    "version": 3
   },
   "file_extension": ".py",
   "mimetype": "text/x-python",
   "name": "python",
   "nbconvert_exporter": "python",
   "pygments_lexer": "ipython3",
   "version": "3.9.4"
  }
 },
 "nbformat": 4,
 "nbformat_minor": 5
}

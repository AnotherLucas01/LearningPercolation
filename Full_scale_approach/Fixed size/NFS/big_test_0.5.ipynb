{
 "cells": [
  {
   "cell_type": "code",
   "execution_count": 1,
   "id": "3ee1e0c5-c53b-4e36-b0c0-ebd2d24c1103",
   "metadata": {},
   "outputs": [],
   "source": [
    "# Core Imports and Functions\n",
    "import numpy as np\n",
    "import torch\n",
    "import torch.nn as nn\n",
    "import torch.nn.functional as F\n",
    "import torch.optim as optim\n",
    "from scipy.ndimage import label\n",
    "from tqdm import tqdm\n",
    "import matplotlib.pyplot as plt\n",
    "from matplotlib.backends.backend_pdf import PdfPages\n",
    "import itertools\n",
    "\n",
    "# Configuration Parameters\n",
    "DIM = 3        # Base dimension for patches (3×3)\n",
    "POWER = 4      # Lattice size = DIM^POWER\n",
    "MAX_STEPS = POWER + 5  # Maximum coarse-graining steps\n",
    "\n",
    "def generate_percolation_lattice(size, p):\n",
    "    return np.random.choice([0, 1], (size, size), p=[1 - p, p])\n",
    "\n",
    "def check_percolation(lattice):\n",
    "    labeled, _ = label(lattice)\n",
    "    \n",
    "    # Vertical percolation (top-bottom)\n",
    "    top = set(labeled[0, :]) - {0}\n",
    "    bottom = set(labeled[-1, :]) - {0}\n",
    "    vertical = bool(top & bottom)\n",
    "    \n",
    "    # Horizontal percolation (left-right)\n",
    "    left = set(labeled[:, 0]) - {0}\n",
    "    right = set(labeled[:, -1]) - {0}\n",
    "    horizontal = bool(left & right)\n",
    "    \n",
    "    return float(vertical or horizontal)\n",
    "\n",
    "class PercolationModel(nn.Module):\n",
    "    def __init__(self, dim):\n",
    "        super().__init__()\n",
    "        self.dim = dim\n",
    "        self.rule = nn.Sequential(\n",
    "            nn.Linear(dim * dim, 64),\n",
    "            nn.ReLU(),\n",
    "            nn.Linear(64, 1),\n",
    "            nn.Sigmoid()\n",
    "        )\n",
    "    \n",
    "    def forward(self, x, max_steps=MAX_STEPS):\n",
    "        b, c, H, W = x.shape\n",
    "        \n",
    "        for _ in range(max_steps):\n",
    "            if H < self.dim or W < self.dim:\n",
    "                break\n",
    "            \n",
    "            # Extract dim×dim patches\n",
    "            patches = F.unfold(x, kernel_size=self.dim, stride=self.dim)\n",
    "            patches = patches.permute(0, 2, 1).contiguous()  # (B, #patches, dim*dim)\n",
    "            patches = patches.view(-1, self.dim * self.dim)   # (B * #patches, dim*dim)\n",
    "            \n",
    "            out = self.rule(patches)  # (B * #patches, 1)\n",
    "            \n",
    "            new_h, new_w = H // self.dim, W // self.dim\n",
    "            x = out.view(b, 1, new_h, new_w)  # (B, 1, new_h, new_w)\n",
    "            _, c, H, W = x.shape\n",
    "\n",
    "        return x.squeeze()  # (B,)\n",
    "\n",
    "def prepare_dataset(num_samples, lattice_size):\n",
    "    data = []\n",
    "    for _ in tqdm(range(num_samples), desc=\"Generating data\"):\n",
    "        p = np.random.uniform(0, 1)\n",
    "        lattice = generate_percolation_lattice(lattice_size, p)\n",
    "        lbl = check_percolation(lattice)\n",
    "        data.append((lattice, lbl))\n",
    "    return data\n",
    "\n",
    "def train_epoch(model, device, train_data, batch_size, optimizer, criterion, dim):\n",
    "    model.train()\n",
    "    running_loss = 0.0\n",
    "    for i in tqdm(range(0, len(train_data), batch_size), desc=\"Training\"):\n",
    "        batch = train_data[i : i + batch_size]\n",
    "        \n",
    "        # Extract lattices and labels\n",
    "        lattices = [torch.tensor(x, dtype=torch.float32) for x, _ in batch]\n",
    "        labels = [y for _, y in batch]\n",
    "        \n",
    "        # Stack into a (B, 1, H, W) tensor\n",
    "        inputs = torch.stack(lattices).unsqueeze(1).to(device)\n",
    "        targets = torch.tensor(labels, dtype=torch.float32).to(device)\n",
    "        \n",
    "        optimizer.zero_grad()\n",
    "        outputs = model(inputs, max_steps=MAX_STEPS)  # (B,) after .squeeze()\n",
    "        loss = criterion(outputs, targets)\n",
    "        loss.backward()\n",
    "        optimizer.step()\n",
    "        \n",
    "        running_loss += loss.item() * len(batch)\n",
    "    \n",
    "    return running_loss / len(train_data)\n",
    "\n",
    "def test_systems(model, dim, power, device=\"cpu\", num_tests=10,\n",
    "                 system_size=\"standard\", p_range=(0, 1), verbose=True):\n",
    "    \"\"\"\n",
    "    Tests model on raw lattices without initial coarse-graining.\n",
    "    Args:\n",
    "        system_size: 'smaller' (dim^(power-1)), 'standard' (dim^power), or 'larger' (dim^(power+1))\n",
    "    \"\"\"\n",
    "    model.eval()\n",
    "    \n",
    "    size_power = {\n",
    "        \"smaller\": power - 1,\n",
    "        \"standard\": power,\n",
    "        \"larger\": power + 1\n",
    "    }[system_size]\n",
    "    \n",
    "    lattice_size = dim ** size_power\n",
    "    results = []\n",
    "    \n",
    "    for _ in tqdm(range(num_tests), desc=f\"Testing {lattice_size}x{lattice_size}\"):\n",
    "        p = np.random.uniform(*p_range)\n",
    "        lattice = generate_percolation_lattice(lattice_size, p)\n",
    "        true_label = check_percolation(lattice)\n",
    "        \n",
    "        input_tensor = torch.tensor(lattice, dtype=torch.float32)\n",
    "        input_tensor = input_tensor.unsqueeze(0).unsqueeze(0).to(device)  # [1,1,H,W]\n",
    "        \n",
    "        with torch.no_grad():\n",
    "            pred = model(input_tensor).item()\n",
    "        \n",
    "        results.append((lattice, true_label, pred))\n",
    "    \n",
    "    threshold = 0.5\n",
    "    correct = sum(1 for _, lbl, pred in results if (pred > threshold) == lbl)\n",
    "    acc = correct / num_tests\n",
    "    \n",
    "    if verbose:\n",
    "        print(f\"\\n{lattice_size}x{lattice_size} Results:\")\n",
    "        print(f\"Accuracy: {acc:.2%}\")\n",
    "        print(f\"Avg prediction | Perc: {np.mean([p for _, l, p in results if l == 1]):.3f}\")\n",
    "        print(f\"Avg prediction | Non-Perc: {np.mean([p for _, l, p in results if l == 0]):.3f}\")\n",
    "    \n",
    "    return results"
   ]
  },
  {
   "cell_type": "code",
   "execution_count": 2,
   "id": "38863cfc-7d8d-4a03-bf30-ba047b70e169",
   "metadata": {},
   "outputs": [],
   "source": [
    "# Initialization\n",
    "DEVICE = torch.device(\"cuda\" if torch.cuda.is_available() else \"cpu\")\n",
    "SIZE = DIM ** POWER\n",
    "TRAIN_SAMPLES = 10000\n",
    "BATCH_SIZE = 10\n",
    "EPOCHS = 5\n",
    "\n",
    "def run_experiment(DIM, POWER, run_num):\n",
    "    SIZE = DIM ** POWER\n",
    "    MAX_STEPS = POWER + 5\n",
    "    \n",
    "    # Generate training dataset\n",
    "    train_data = prepare_dataset(TRAIN_SAMPLES, SIZE)\n",
    "    \n",
    "    # Initialize model, optimizer, loss\n",
    "    model = PercolationModel(dim=DIM).to(DEVICE)\n",
    "    optimizer = optim.Adam(model.parameters(), lr=0.001)\n",
    "    criterion = nn.BCELoss()\n",
    "\n",
    "    # Training loop\n",
    "    for epoch in range(EPOCHS):\n",
    "        loss = train_epoch(model, DEVICE, train_data, BATCH_SIZE, optimizer, criterion, DIM)\n",
    "\n",
    "    # Testing configurations\n",
    "    test_configs = [\n",
    "        {\"system_size\": \"smaller\", \"num_tests\": 100, \"p_range\": (0.1, 0.9)},\n",
    "        {\"system_size\": \"standard\", \"num_tests\": 100, \"p_range\": (0.1, 0.9)},\n",
    "        {\"system_size\": \"larger\", \"num_tests\": 100, \"p_range\": (0.1, 0.9)},\n",
    "        {\"system_size\": \"standard\", \"num_tests\": 200, \"p_range\": (0.58, 0.61)},\n",
    "    ]\n",
    "    \n",
    "    test_results = {}\n",
    "    for config in test_configs:\n",
    "        key = f\"{config['system_size']}_{config['p_range'][0]}-{config['p_range'][1]}\"\n",
    "        test_results[key] = test_systems(\n",
    "            model=model,\n",
    "            dim=DIM,\n",
    "            power=POWER,\n",
    "            device=DEVICE,\n",
    "            **config\n",
    "        )\n",
    "\n",
    "    # Summarize test results\n",
    "    summaries = {}\n",
    "    for key, results in test_results.items():\n",
    "        acc = sum((pred > 0.5) == lbl for _, lbl, pred in results) / len(results)\n",
    "        mean_perc = np.nanmean([pred for _, lbl, pred in results if lbl == 1])\n",
    "        mean_non_perc = np.nanmean([pred for _, lbl, pred in results if lbl == 0])\n",
    "        summaries[key] = (acc, mean_perc, mean_non_perc)\n",
    "\n",
    "    # Generate rule-projection data by feeding 3×3 patch of constant p\n",
    "    ps_coarse = np.linspace(0.0, 1.0, 101)\n",
    "    ps_fine = np.linspace(0.5, 0.7, 201)\n",
    "    ps = np.unique(np.concatenate((ps_coarse, ps_fine)))\n",
    "    ps.sort()\n",
    "\n",
    "    mean_outputs = []\n",
    "    with torch.no_grad():\n",
    "        for p in ps:\n",
    "            # Create a single 3×3 patch with all entries = p\n",
    "            patch = np.full((DIM * DIM,), p, dtype=np.float32)        # shape: (dim*dim,)\n",
    "            patch_tensor = torch.from_numpy(patch).unsqueeze(0).to(DEVICE)  # (1, dim*dim)\n",
    "            out = model.rule(patch_tensor).cpu().numpy().item()        # scalar\n",
    "            mean_outputs.append(out)\n",
    "\n",
    "    return summaries, (ps, mean_outputs)"
   ]
  },
  {
   "cell_type": "code",
   "execution_count": 3,
   "id": "53ba5f7d-f3ff-486b-9013-3af22f332a90",
   "metadata": {
    "scrolled": true
   },
   "outputs": [
    {
     "name": "stdout",
     "output_type": "stream",
     "text": [
      "\n",
      "Running 3^2 - Run 1/10\n"
     ]
    },
    {
     "name": "stderr",
     "output_type": "stream",
     "text": [
      "Generating data: 100%|█████████████████████████████████████████████████████████████████████| 10000/10000 [00:00<00:00, 10572.71it/s]\n",
      "Training: 100%|████████████████████████████████████████████████████████████████████████████████| 1000/1000 [00:01<00:00, 695.99it/s]\n",
      "Training: 100%|████████████████████████████████████████████████████████████████████████████████| 1000/1000 [00:02<00:00, 497.09it/s]\n",
      "Training: 100%|████████████████████████████████████████████████████████████████████████████████| 1000/1000 [00:01<00:00, 549.65it/s]\n",
      "Training: 100%|████████████████████████████████████████████████████████████████████████████████| 1000/1000 [00:01<00:00, 567.70it/s]\n",
      "Training: 100%|████████████████████████████████████████████████████████████████████████████████| 1000/1000 [00:01<00:00, 571.20it/s]\n",
      "Testing 3x3: 100%|██████████████████████████████████████████████████████████████████████████████| 100/100 [00:00<00:00, 3200.39it/s]\n"
     ]
    },
    {
     "name": "stdout",
     "output_type": "stream",
     "text": [
      "\n",
      "3x3 Results:\n",
      "Accuracy: 11.00%\n",
      "Avg prediction | Perc: 0.212\n",
      "Avg prediction | Non-Perc: 0.897\n"
     ]
    },
    {
     "name": "stderr",
     "output_type": "stream",
     "text": [
      "Testing 9x9: 100%|██████████████████████████████████████████████████████████████████████████████| 100/100 [00:00<00:00, 1600.01it/s]\n"
     ]
    },
    {
     "name": "stdout",
     "output_type": "stream",
     "text": [
      "\n",
      "9x9 Results:\n",
      "Accuracy: 89.00%\n",
      "Avg prediction | Perc: 0.894\n",
      "Avg prediction | Non-Perc: 0.115\n"
     ]
    },
    {
     "name": "stderr",
     "output_type": "stream",
     "text": [
      "Testing 27x27: 100%|████████████████████████████████████████████████████████████████████████████| 100/100 [00:00<00:00, 1271.81it/s]\n"
     ]
    },
    {
     "name": "stdout",
     "output_type": "stream",
     "text": [
      "\n",
      "27x27 Results:\n",
      "Accuracy: 4.00%\n",
      "Avg prediction | Perc: 0.004\n",
      "Avg prediction | Non-Perc: 0.933\n"
     ]
    },
    {
     "name": "stderr",
     "output_type": "stream",
     "text": [
      "Testing 9x9: 100%|██████████████████████████████████████████████████████████████████████████████| 200/200 [00:00<00:00, 1828.54it/s]\n"
     ]
    },
    {
     "name": "stdout",
     "output_type": "stream",
     "text": [
      "\n",
      "9x9 Results:\n",
      "Accuracy: 74.00%\n",
      "Avg prediction | Perc: 0.810\n",
      "Avg prediction | Non-Perc: 0.585\n",
      "\n",
      "Running 3^2 - Run 2/10\n"
     ]
    },
    {
     "name": "stderr",
     "output_type": "stream",
     "text": [
      "Generating data: 100%|██████████████████████████████████████████████████████████████████████| 10000/10000 [00:01<00:00, 9707.34it/s]\n",
      "Training: 100%|████████████████████████████████████████████████████████████████████████████████| 1000/1000 [00:02<00:00, 490.17it/s]\n",
      "Training: 100%|████████████████████████████████████████████████████████████████████████████████| 1000/1000 [00:02<00:00, 481.42it/s]\n",
      "Training: 100%|████████████████████████████████████████████████████████████████████████████████| 1000/1000 [00:02<00:00, 439.66it/s]\n",
      "Training: 100%|████████████████████████████████████████████████████████████████████████████████| 1000/1000 [00:01<00:00, 640.44it/s]\n",
      "Training: 100%|████████████████████████████████████████████████████████████████████████████████| 1000/1000 [00:01<00:00, 641.59it/s]\n",
      "Testing 3x3: 100%|██████████████████████████████████████████████████████████████████████████████| 100/100 [00:00<00:00, 2685.92it/s]\n"
     ]
    },
    {
     "name": "stdout",
     "output_type": "stream",
     "text": [
      "\n",
      "3x3 Results:\n",
      "Accuracy: 10.00%\n",
      "Avg prediction | Perc: 0.154\n",
      "Avg prediction | Non-Perc: 0.885\n"
     ]
    },
    {
     "name": "stderr",
     "output_type": "stream",
     "text": [
      "Testing 9x9: 100%|██████████████████████████████████████████████████████████████████████████████| 100/100 [00:00<00:00, 2201.46it/s]\n"
     ]
    },
    {
     "name": "stdout",
     "output_type": "stream",
     "text": [
      "\n",
      "9x9 Results:\n",
      "Accuracy: 88.00%\n",
      "Avg prediction | Perc: 0.833\n",
      "Avg prediction | Non-Perc: 0.126\n"
     ]
    },
    {
     "name": "stderr",
     "output_type": "stream",
     "text": [
      "Testing 27x27: 100%|████████████████████████████████████████████████████████████████████████████| 100/100 [00:00<00:00, 1638.36it/s]\n"
     ]
    },
    {
     "name": "stdout",
     "output_type": "stream",
     "text": [
      "\n",
      "27x27 Results:\n",
      "Accuracy: 8.00%\n",
      "Avg prediction | Perc: 0.002\n",
      "Avg prediction | Non-Perc: 0.877\n"
     ]
    },
    {
     "name": "stderr",
     "output_type": "stream",
     "text": [
      "Testing 9x9: 100%|██████████████████████████████████████████████████████████████████████████████| 200/200 [00:00<00:00, 2233.71it/s]\n"
     ]
    },
    {
     "name": "stdout",
     "output_type": "stream",
     "text": [
      "\n",
      "9x9 Results:\n",
      "Accuracy: 79.00%\n",
      "Avg prediction | Perc: 0.819\n",
      "Avg prediction | Non-Perc: 0.546\n",
      "\n",
      "Running 3^2 - Run 3/10\n"
     ]
    },
    {
     "name": "stderr",
     "output_type": "stream",
     "text": [
      "Generating data: 100%|█████████████████████████████████████████████████████████████████████| 10000/10000 [00:00<00:00, 10754.90it/s]\n",
      "Training: 100%|████████████████████████████████████████████████████████████████████████████████| 1000/1000 [00:01<00:00, 666.98it/s]\n",
      "Training: 100%|████████████████████████████████████████████████████████████████████████████████| 1000/1000 [00:01<00:00, 651.08it/s]\n",
      "Training: 100%|████████████████████████████████████████████████████████████████████████████████| 1000/1000 [00:01<00:00, 649.82it/s]\n",
      "Training: 100%|████████████████████████████████████████████████████████████████████████████████| 1000/1000 [00:01<00:00, 620.98it/s]\n",
      "Training: 100%|████████████████████████████████████████████████████████████████████████████████| 1000/1000 [00:01<00:00, 624.12it/s]\n",
      "Testing 3x3: 100%|██████████████████████████████████████████████████████████████████████████████| 100/100 [00:00<00:00, 3242.68it/s]\n"
     ]
    },
    {
     "name": "stdout",
     "output_type": "stream",
     "text": [
      "\n",
      "3x3 Results:\n",
      "Accuracy: 9.00%\n",
      "Avg prediction | Perc: 0.220\n",
      "Avg prediction | Non-Perc: 0.907\n"
     ]
    },
    {
     "name": "stderr",
     "output_type": "stream",
     "text": [
      "Testing 9x9: 100%|██████████████████████████████████████████████████████████████████████████████| 100/100 [00:00<00:00, 2192.18it/s]\n"
     ]
    },
    {
     "name": "stdout",
     "output_type": "stream",
     "text": [
      "\n",
      "9x9 Results:\n",
      "Accuracy: 90.00%\n",
      "Avg prediction | Perc: 0.874\n",
      "Avg prediction | Non-Perc: 0.111\n"
     ]
    },
    {
     "name": "stderr",
     "output_type": "stream",
     "text": [
      "Testing 27x27: 100%|████████████████████████████████████████████████████████████████████████████| 100/100 [00:00<00:00, 1639.05it/s]\n"
     ]
    },
    {
     "name": "stdout",
     "output_type": "stream",
     "text": [
      "\n",
      "27x27 Results:\n",
      "Accuracy: 7.00%\n",
      "Avg prediction | Perc: 0.022\n",
      "Avg prediction | Non-Perc: 0.899\n"
     ]
    },
    {
     "name": "stderr",
     "output_type": "stream",
     "text": [
      "Testing 9x9: 100%|██████████████████████████████████████████████████████████████████████████████| 200/200 [00:00<00:00, 2229.73it/s]\n"
     ]
    },
    {
     "name": "stdout",
     "output_type": "stream",
     "text": [
      "\n",
      "9x9 Results:\n",
      "Accuracy: 80.00%\n",
      "Avg prediction | Perc: 0.810\n",
      "Avg prediction | Non-Perc: 0.529\n",
      "\n",
      "Running 3^2 - Run 4/10\n"
     ]
    },
    {
     "name": "stderr",
     "output_type": "stream",
     "text": [
      "Generating data: 100%|█████████████████████████████████████████████████████████████████████| 10000/10000 [00:00<00:00, 11182.42it/s]\n",
      "Training: 100%|████████████████████████████████████████████████████████████████████████████████| 1000/1000 [00:01<00:00, 663.05it/s]\n",
      "Training: 100%|████████████████████████████████████████████████████████████████████████████████| 1000/1000 [00:01<00:00, 563.93it/s]\n",
      "Training: 100%|████████████████████████████████████████████████████████████████████████████████| 1000/1000 [00:02<00:00, 497.99it/s]\n",
      "Training: 100%|████████████████████████████████████████████████████████████████████████████████| 1000/1000 [00:01<00:00, 535.34it/s]\n",
      "Training: 100%|████████████████████████████████████████████████████████████████████████████████| 1000/1000 [00:01<00:00, 543.50it/s]\n",
      "Testing 3x3: 100%|██████████████████████████████████████████████████████████████████████████████| 100/100 [00:00<00:00, 2596.64it/s]\n"
     ]
    },
    {
     "name": "stdout",
     "output_type": "stream",
     "text": [
      "\n",
      "3x3 Results:\n",
      "Accuracy: 92.00%\n",
      "Avg prediction | Perc: 0.812\n",
      "Avg prediction | Non-Perc: 0.101\n"
     ]
    },
    {
     "name": "stderr",
     "output_type": "stream",
     "text": [
      "Testing 9x9: 100%|██████████████████████████████████████████████████████████████████████████████| 100/100 [00:00<00:00, 1872.50it/s]\n"
     ]
    },
    {
     "name": "stdout",
     "output_type": "stream",
     "text": [
      "\n",
      "9x9 Results:\n",
      "Accuracy: 87.00%\n",
      "Avg prediction | Perc: 0.941\n",
      "Avg prediction | Non-Perc: 0.185\n"
     ]
    },
    {
     "name": "stderr",
     "output_type": "stream",
     "text": [
      "Testing 27x27: 100%|████████████████████████████████████████████████████████████████████████████| 100/100 [00:00<00:00, 1328.34it/s]\n"
     ]
    },
    {
     "name": "stdout",
     "output_type": "stream",
     "text": [
      "\n",
      "27x27 Results:\n",
      "Accuracy: 91.00%\n",
      "Avg prediction | Perc: 0.994\n",
      "Avg prediction | Non-Perc: 0.141\n"
     ]
    },
    {
     "name": "stderr",
     "output_type": "stream",
     "text": [
      "Testing 9x9: 100%|██████████████████████████████████████████████████████████████████████████████| 200/200 [00:00<00:00, 1753.17it/s]\n"
     ]
    },
    {
     "name": "stdout",
     "output_type": "stream",
     "text": [
      "\n",
      "9x9 Results:\n",
      "Accuracy: 76.50%\n",
      "Avg prediction | Perc: 0.895\n",
      "Avg prediction | Non-Perc: 0.695\n",
      "\n",
      "Running 3^2 - Run 5/10\n"
     ]
    },
    {
     "name": "stderr",
     "output_type": "stream",
     "text": [
      "Generating data: 100%|██████████████████████████████████████████████████████████████████████| 10000/10000 [00:01<00:00, 9955.25it/s]\n",
      "Training: 100%|████████████████████████████████████████████████████████████████████████████████| 1000/1000 [00:01<00:00, 643.72it/s]\n",
      "Training: 100%|████████████████████████████████████████████████████████████████████████████████| 1000/1000 [00:01<00:00, 640.37it/s]\n",
      "Training: 100%|████████████████████████████████████████████████████████████████████████████████| 1000/1000 [00:01<00:00, 637.44it/s]\n",
      "Training: 100%|████████████████████████████████████████████████████████████████████████████████| 1000/1000 [00:01<00:00, 637.20it/s]\n",
      "Training: 100%|████████████████████████████████████████████████████████████████████████████████| 1000/1000 [00:01<00:00, 642.45it/s]\n",
      "Testing 3x3: 100%|██████████████████████████████████████████████████████████████████████████████| 100/100 [00:00<00:00, 3299.77it/s]\n"
     ]
    },
    {
     "name": "stdout",
     "output_type": "stream",
     "text": [
      "\n",
      "3x3 Results:\n",
      "Accuracy: 19.00%\n",
      "Avg prediction | Perc: 0.379\n",
      "Avg prediction | Non-Perc: 0.961\n"
     ]
    },
    {
     "name": "stderr",
     "output_type": "stream",
     "text": [
      "Testing 9x9: 100%|██████████████████████████████████████████████████████████████████████████████| 100/100 [00:00<00:00, 2199.07it/s]\n"
     ]
    },
    {
     "name": "stdout",
     "output_type": "stream",
     "text": [
      "\n",
      "9x9 Results:\n",
      "Accuracy: 91.00%\n",
      "Avg prediction | Perc: 0.835\n",
      "Avg prediction | Non-Perc: 0.077\n"
     ]
    },
    {
     "name": "stderr",
     "output_type": "stream",
     "text": [
      "Testing 27x27: 100%|████████████████████████████████████████████████████████████████████████████| 100/100 [00:00<00:00, 1607.68it/s]\n"
     ]
    },
    {
     "name": "stdout",
     "output_type": "stream",
     "text": [
      "\n",
      "27x27 Results:\n",
      "Accuracy: 8.00%\n",
      "Avg prediction | Perc: 0.117\n",
      "Avg prediction | Non-Perc: 0.938\n"
     ]
    },
    {
     "name": "stderr",
     "output_type": "stream",
     "text": [
      "Testing 9x9: 100%|██████████████████████████████████████████████████████████████████████████████| 200/200 [00:00<00:00, 2257.83it/s]\n"
     ]
    },
    {
     "name": "stdout",
     "output_type": "stream",
     "text": [
      "\n",
      "9x9 Results:\n",
      "Accuracy: 73.00%\n",
      "Avg prediction | Perc: 0.685\n",
      "Avg prediction | Non-Perc: 0.409\n",
      "\n",
      "Running 3^2 - Run 6/10\n"
     ]
    },
    {
     "name": "stderr",
     "output_type": "stream",
     "text": [
      "Generating data: 100%|█████████████████████████████████████████████████████████████████████| 10000/10000 [00:00<00:00, 11117.78it/s]\n",
      "Training: 100%|████████████████████████████████████████████████████████████████████████████████| 1000/1000 [00:01<00:00, 659.16it/s]\n",
      "Training: 100%|████████████████████████████████████████████████████████████████████████████████| 1000/1000 [00:01<00:00, 640.17it/s]\n",
      "Training: 100%|████████████████████████████████████████████████████████████████████████████████| 1000/1000 [00:01<00:00, 592.76it/s]\n",
      "Training: 100%|████████████████████████████████████████████████████████████████████████████████| 1000/1000 [00:01<00:00, 627.19it/s]\n",
      "Training: 100%|████████████████████████████████████████████████████████████████████████████████| 1000/1000 [00:01<00:00, 632.21it/s]\n",
      "Testing 3x3: 100%|██████████████████████████████████████████████████████████████████████████████| 100/100 [00:00<00:00, 3129.42it/s]\n"
     ]
    },
    {
     "name": "stdout",
     "output_type": "stream",
     "text": [
      "\n",
      "3x3 Results:\n",
      "Accuracy: 94.00%\n",
      "Avg prediction | Perc: 0.837\n",
      "Avg prediction | Non-Perc: 0.067\n"
     ]
    },
    {
     "name": "stderr",
     "output_type": "stream",
     "text": [
      "Testing 9x9: 100%|██████████████████████████████████████████████████████████████████████████████| 100/100 [00:00<00:00, 2196.57it/s]\n"
     ]
    },
    {
     "name": "stdout",
     "output_type": "stream",
     "text": [
      "\n",
      "9x9 Results:\n",
      "Accuracy: 90.00%\n",
      "Avg prediction | Perc: 0.830\n",
      "Avg prediction | Non-Perc: 0.083\n"
     ]
    },
    {
     "name": "stderr",
     "output_type": "stream",
     "text": [
      "Testing 27x27: 100%|████████████████████████████████████████████████████████████████████████████| 100/100 [00:00<00:00, 1607.30it/s]\n"
     ]
    },
    {
     "name": "stdout",
     "output_type": "stream",
     "text": [
      "\n",
      "27x27 Results:\n",
      "Accuracy: 95.00%\n",
      "Avg prediction | Perc: 0.994\n",
      "Avg prediction | Non-Perc: 0.098\n"
     ]
    },
    {
     "name": "stderr",
     "output_type": "stream",
     "text": [
      "Testing 9x9: 100%|██████████████████████████████████████████████████████████████████████████████| 200/200 [00:00<00:00, 2198.83it/s]\n"
     ]
    },
    {
     "name": "stdout",
     "output_type": "stream",
     "text": [
      "\n",
      "9x9 Results:\n",
      "Accuracy: 79.00%\n",
      "Avg prediction | Perc: 0.795\n",
      "Avg prediction | Non-Perc: 0.541\n",
      "\n",
      "Running 3^2 - Run 7/10\n"
     ]
    },
    {
     "name": "stderr",
     "output_type": "stream",
     "text": [
      "Generating data: 100%|█████████████████████████████████████████████████████████████████████| 10000/10000 [00:00<00:00, 10984.22it/s]\n",
      "Training: 100%|████████████████████████████████████████████████████████████████████████████████| 1000/1000 [00:01<00:00, 656.07it/s]\n",
      "Training: 100%|████████████████████████████████████████████████████████████████████████████████| 1000/1000 [00:01<00:00, 558.13it/s]\n",
      "Training: 100%|████████████████████████████████████████████████████████████████████████████████| 1000/1000 [00:01<00:00, 613.92it/s]\n",
      "Training: 100%|████████████████████████████████████████████████████████████████████████████████| 1000/1000 [00:01<00:00, 627.23it/s]\n",
      "Training: 100%|████████████████████████████████████████████████████████████████████████████████| 1000/1000 [00:01<00:00, 604.13it/s]\n",
      "Testing 3x3: 100%|██████████████████████████████████████████████████████████████████████████████| 100/100 [00:00<00:00, 3117.42it/s]\n"
     ]
    },
    {
     "name": "stdout",
     "output_type": "stream",
     "text": [
      "\n",
      "3x3 Results:\n",
      "Accuracy: 91.00%\n",
      "Avg prediction | Perc: 0.810\n",
      "Avg prediction | Non-Perc: 0.071\n"
     ]
    },
    {
     "name": "stderr",
     "output_type": "stream",
     "text": [
      "Testing 9x9: 100%|██████████████████████████████████████████████████████████████████████████████| 100/100 [00:00<00:00, 2015.74it/s]\n"
     ]
    },
    {
     "name": "stdout",
     "output_type": "stream",
     "text": [
      "\n",
      "9x9 Results:\n",
      "Accuracy: 93.00%\n",
      "Avg prediction | Perc: 0.851\n",
      "Avg prediction | Non-Perc: 0.050\n"
     ]
    },
    {
     "name": "stderr",
     "output_type": "stream",
     "text": [
      "Testing 27x27: 100%|████████████████████████████████████████████████████████████████████████████| 100/100 [00:00<00:00, 1643.41it/s]\n"
     ]
    },
    {
     "name": "stdout",
     "output_type": "stream",
     "text": [
      "\n",
      "27x27 Results:\n",
      "Accuracy: 96.00%\n",
      "Avg prediction | Perc: 0.955\n",
      "Avg prediction | Non-Perc: 0.040\n"
     ]
    },
    {
     "name": "stderr",
     "output_type": "stream",
     "text": [
      "Testing 9x9: 100%|██████████████████████████████████████████████████████████████████████████████| 200/200 [00:00<00:00, 2235.81it/s]\n"
     ]
    },
    {
     "name": "stdout",
     "output_type": "stream",
     "text": [
      "\n",
      "9x9 Results:\n",
      "Accuracy: 78.00%\n",
      "Avg prediction | Perc: 0.754\n",
      "Avg prediction | Non-Perc: 0.473\n",
      "\n",
      "Running 3^2 - Run 8/10\n"
     ]
    },
    {
     "name": "stderr",
     "output_type": "stream",
     "text": [
      "Generating data: 100%|█████████████████████████████████████████████████████████████████████| 10000/10000 [00:00<00:00, 10969.98it/s]\n",
      "Training: 100%|████████████████████████████████████████████████████████████████████████████████| 1000/1000 [00:01<00:00, 650.57it/s]\n",
      "Training: 100%|████████████████████████████████████████████████████████████████████████████████| 1000/1000 [00:01<00:00, 637.20it/s]\n",
      "Training: 100%|████████████████████████████████████████████████████████████████████████████████| 1000/1000 [00:01<00:00, 618.35it/s]\n",
      "Training: 100%|████████████████████████████████████████████████████████████████████████████████| 1000/1000 [00:01<00:00, 637.49it/s]\n",
      "Training: 100%|████████████████████████████████████████████████████████████████████████████████| 1000/1000 [00:01<00:00, 633.85it/s]\n",
      "Testing 3x3: 100%|██████████████████████████████████████████████████████████████████████████████| 100/100 [00:00<00:00, 3167.54it/s]\n"
     ]
    },
    {
     "name": "stdout",
     "output_type": "stream",
     "text": [
      "\n",
      "3x3 Results:\n",
      "Accuracy: 11.00%\n",
      "Avg prediction | Perc: 0.242\n",
      "Avg prediction | Non-Perc: 0.895\n"
     ]
    },
    {
     "name": "stderr",
     "output_type": "stream",
     "text": [
      "Testing 9x9: 100%|██████████████████████████████████████████████████████████████████████████████| 100/100 [00:00<00:00, 2169.44it/s]\n"
     ]
    },
    {
     "name": "stdout",
     "output_type": "stream",
     "text": [
      "\n",
      "9x9 Results:\n",
      "Accuracy: 96.00%\n",
      "Avg prediction | Perc: 0.959\n",
      "Avg prediction | Non-Perc: 0.067\n"
     ]
    },
    {
     "name": "stderr",
     "output_type": "stream",
     "text": [
      "Testing 27x27: 100%|████████████████████████████████████████████████████████████████████████████| 100/100 [00:00<00:00, 1608.39it/s]\n"
     ]
    },
    {
     "name": "stdout",
     "output_type": "stream",
     "text": [
      "\n",
      "27x27 Results:\n",
      "Accuracy: 6.00%\n",
      "Avg prediction | Perc: 0.014\n",
      "Avg prediction | Non-Perc: 0.902\n"
     ]
    },
    {
     "name": "stderr",
     "output_type": "stream",
     "text": [
      "Testing 9x9: 100%|██████████████████████████████████████████████████████████████████████████████| 200/200 [00:00<00:00, 2222.27it/s]\n"
     ]
    },
    {
     "name": "stdout",
     "output_type": "stream",
     "text": [
      "\n",
      "9x9 Results:\n",
      "Accuracy: 75.50%\n",
      "Avg prediction | Perc: 0.819\n",
      "Avg prediction | Non-Perc: 0.557\n",
      "\n",
      "Running 3^2 - Run 9/10\n"
     ]
    },
    {
     "name": "stderr",
     "output_type": "stream",
     "text": [
      "Generating data: 100%|█████████████████████████████████████████████████████████████████████| 10000/10000 [00:00<00:00, 11134.53it/s]\n",
      "Training: 100%|████████████████████████████████████████████████████████████████████████████████| 1000/1000 [00:01<00:00, 655.18it/s]\n",
      "Training: 100%|████████████████████████████████████████████████████████████████████████████████| 1000/1000 [00:01<00:00, 639.98it/s]\n",
      "Training: 100%|████████████████████████████████████████████████████████████████████████████████| 1000/1000 [00:01<00:00, 550.63it/s]\n",
      "Training: 100%|████████████████████████████████████████████████████████████████████████████████| 1000/1000 [00:01<00:00, 631.71it/s]\n",
      "Training: 100%|████████████████████████████████████████████████████████████████████████████████| 1000/1000 [00:01<00:00, 637.59it/s]\n",
      "Testing 3x3: 100%|██████████████████████████████████████████████████████████████████████████████| 100/100 [00:00<00:00, 3116.77it/s]\n"
     ]
    },
    {
     "name": "stdout",
     "output_type": "stream",
     "text": [
      "\n",
      "3x3 Results:\n",
      "Accuracy: 9.00%\n",
      "Avg prediction | Perc: 0.185\n",
      "Avg prediction | Non-Perc: 0.906\n"
     ]
    },
    {
     "name": "stderr",
     "output_type": "stream",
     "text": [
      "Testing 9x9: 100%|███████████████████████████████████████████████████████████████████████████████| 100/100 [00:00<00:00, 917.83it/s]\n"
     ]
    },
    {
     "name": "stdout",
     "output_type": "stream",
     "text": [
      "\n",
      "9x9 Results:\n",
      "Accuracy: 94.00%\n",
      "Avg prediction | Perc: 0.888\n",
      "Avg prediction | Non-Perc: 0.062\n"
     ]
    },
    {
     "name": "stderr",
     "output_type": "stream",
     "text": [
      "Testing 27x27: 100%|████████████████████████████████████████████████████████████████████████████| 100/100 [00:00<00:00, 1592.89it/s]\n"
     ]
    },
    {
     "name": "stdout",
     "output_type": "stream",
     "text": [
      "\n",
      "27x27 Results:\n",
      "Accuracy: 4.00%\n",
      "Avg prediction | Perc: 0.014\n",
      "Avg prediction | Non-Perc: 0.924\n"
     ]
    },
    {
     "name": "stderr",
     "output_type": "stream",
     "text": [
      "Testing 9x9: 100%|██████████████████████████████████████████████████████████████████████████████| 200/200 [00:00<00:00, 2253.77it/s]\n"
     ]
    },
    {
     "name": "stdout",
     "output_type": "stream",
     "text": [
      "\n",
      "9x9 Results:\n",
      "Accuracy: 74.50%\n",
      "Avg prediction | Perc: 0.838\n",
      "Avg prediction | Non-Perc: 0.611\n",
      "\n",
      "Running 3^2 - Run 10/10\n"
     ]
    },
    {
     "name": "stderr",
     "output_type": "stream",
     "text": [
      "Generating data: 100%|█████████████████████████████████████████████████████████████████████| 10000/10000 [00:00<00:00, 10973.76it/s]\n",
      "Training: 100%|████████████████████████████████████████████████████████████████████████████████| 1000/1000 [00:01<00:00, 651.24it/s]\n",
      "Training: 100%|████████████████████████████████████████████████████████████████████████████████| 1000/1000 [00:01<00:00, 637.10it/s]\n",
      "Training: 100%|████████████████████████████████████████████████████████████████████████████████| 1000/1000 [00:01<00:00, 636.78it/s]\n",
      "Training: 100%|████████████████████████████████████████████████████████████████████████████████| 1000/1000 [00:01<00:00, 639.93it/s]\n",
      "Training: 100%|████████████████████████████████████████████████████████████████████████████████| 1000/1000 [00:01<00:00, 615.53it/s]\n",
      "Testing 3x3: 100%|██████████████████████████████████████████████████████████████████████████████| 100/100 [00:00<00:00, 2991.59it/s]\n"
     ]
    },
    {
     "name": "stdout",
     "output_type": "stream",
     "text": [
      "\n",
      "3x3 Results:\n",
      "Accuracy: 7.00%\n",
      "Avg prediction | Perc: 0.158\n",
      "Avg prediction | Non-Perc: 0.904\n"
     ]
    },
    {
     "name": "stderr",
     "output_type": "stream",
     "text": [
      "Testing 9x9: 100%|██████████████████████████████████████████████████████████████████████████████| 100/100 [00:00<00:00, 2252.94it/s]\n"
     ]
    },
    {
     "name": "stdout",
     "output_type": "stream",
     "text": [
      "\n",
      "9x9 Results:\n",
      "Accuracy: 91.00%\n",
      "Avg prediction | Perc: 0.864\n",
      "Avg prediction | Non-Perc: 0.090\n"
     ]
    },
    {
     "name": "stderr",
     "output_type": "stream",
     "text": [
      "Testing 27x27: 100%|████████████████████████████████████████████████████████████████████████████| 100/100 [00:00<00:00, 1565.40it/s]\n"
     ]
    },
    {
     "name": "stdout",
     "output_type": "stream",
     "text": [
      "\n",
      "27x27 Results:\n",
      "Accuracy: 7.00%\n",
      "Avg prediction | Perc: 0.016\n",
      "Avg prediction | Non-Perc: 0.885\n"
     ]
    },
    {
     "name": "stderr",
     "output_type": "stream",
     "text": [
      "Testing 9x9: 100%|██████████████████████████████████████████████████████████████████████████████| 200/200 [00:00<00:00, 2216.81it/s]\n"
     ]
    },
    {
     "name": "stdout",
     "output_type": "stream",
     "text": [
      "\n",
      "9x9 Results:\n",
      "Accuracy: 76.50%\n",
      "Avg prediction | Perc: 0.838\n",
      "Avg prediction | Non-Perc: 0.544\n",
      "\n",
      "Running 3^3 - Run 1/10\n"
     ]
    },
    {
     "name": "stderr",
     "output_type": "stream",
     "text": [
      "Generating data: 100%|██████████████████████████████████████████████████████████████████████| 10000/10000 [00:01<00:00, 8599.16it/s]\n",
      "Training: 100%|████████████████████████████████████████████████████████████████████████████████| 1000/1000 [00:02<00:00, 424.83it/s]\n",
      "Training: 100%|████████████████████████████████████████████████████████████████████████████████| 1000/1000 [00:02<00:00, 419.20it/s]\n",
      "Training: 100%|████████████████████████████████████████████████████████████████████████████████| 1000/1000 [00:02<00:00, 436.35it/s]\n",
      "Training: 100%|████████████████████████████████████████████████████████████████████████████████| 1000/1000 [00:02<00:00, 435.51it/s]\n",
      "Training: 100%|████████████████████████████████████████████████████████████████████████████████| 1000/1000 [00:02<00:00, 432.23it/s]\n",
      "Testing 9x9: 100%|██████████████████████████████████████████████████████████████████████████████| 100/100 [00:00<00:00, 2136.84it/s]\n"
     ]
    },
    {
     "name": "stdout",
     "output_type": "stream",
     "text": [
      "\n",
      "9x9 Results:\n",
      "Accuracy: 40.00%\n",
      "Avg prediction | Perc: 0.133\n",
      "Avg prediction | Non-Perc: 0.452\n"
     ]
    },
    {
     "name": "stderr",
     "output_type": "stream",
     "text": [
      "Testing 27x27: 100%|████████████████████████████████████████████████████████████████████████████| 100/100 [00:00<00:00, 1541.38it/s]\n"
     ]
    },
    {
     "name": "stdout",
     "output_type": "stream",
     "text": [
      "\n",
      "27x27 Results:\n",
      "Accuracy: 96.00%\n",
      "Avg prediction | Perc: 0.894\n",
      "Avg prediction | Non-Perc: 0.098\n"
     ]
    },
    {
     "name": "stderr",
     "output_type": "stream",
     "text": [
      "Testing 81x81: 100%|█████████████████████████████████████████████████████████████████████████████| 100/100 [00:00<00:00, 877.33it/s]\n"
     ]
    },
    {
     "name": "stdout",
     "output_type": "stream",
     "text": [
      "\n",
      "81x81 Results:\n",
      "Accuracy: 31.00%\n",
      "Avg prediction | Perc: 0.419\n",
      "Avg prediction | Non-Perc: 0.910\n"
     ]
    },
    {
     "name": "stderr",
     "output_type": "stream",
     "text": [
      "Testing 27x27: 100%|████████████████████████████████████████████████████████████████████████████| 200/200 [00:00<00:00, 1560.92it/s]\n"
     ]
    },
    {
     "name": "stdout",
     "output_type": "stream",
     "text": [
      "\n",
      "27x27 Results:\n",
      "Accuracy: 61.00%\n",
      "Avg prediction | Perc: 0.537\n",
      "Avg prediction | Non-Perc: 0.448\n",
      "\n",
      "Running 3^3 - Run 2/10\n"
     ]
    },
    {
     "name": "stderr",
     "output_type": "stream",
     "text": [
      "Generating data: 100%|██████████████████████████████████████████████████████████████████████| 10000/10000 [00:01<00:00, 8519.06it/s]\n",
      "Training: 100%|████████████████████████████████████████████████████████████████████████████████| 1000/1000 [00:02<00:00, 432.59it/s]\n",
      "Training: 100%|████████████████████████████████████████████████████████████████████████████████| 1000/1000 [00:02<00:00, 411.50it/s]\n",
      "Training: 100%|████████████████████████████████████████████████████████████████████████████████| 1000/1000 [00:02<00:00, 421.02it/s]\n",
      "Training: 100%|████████████████████████████████████████████████████████████████████████████████| 1000/1000 [00:02<00:00, 435.71it/s]\n",
      "Training: 100%|████████████████████████████████████████████████████████████████████████████████| 1000/1000 [00:02<00:00, 402.60it/s]\n",
      "Testing 9x9: 100%|██████████████████████████████████████████████████████████████████████████████| 100/100 [00:00<00:00, 2148.41it/s]\n"
     ]
    },
    {
     "name": "stdout",
     "output_type": "stream",
     "text": [
      "\n",
      "9x9 Results:\n",
      "Accuracy: 45.00%\n",
      "Avg prediction | Perc: 0.085\n",
      "Avg prediction | Non-Perc: 0.370\n"
     ]
    },
    {
     "name": "stderr",
     "output_type": "stream",
     "text": [
      "Testing 27x27: 100%|████████████████████████████████████████████████████████████████████████████| 100/100 [00:00<00:00, 1628.69it/s]\n"
     ]
    },
    {
     "name": "stdout",
     "output_type": "stream",
     "text": [
      "\n",
      "27x27 Results:\n",
      "Accuracy: 94.00%\n",
      "Avg prediction | Perc: 0.893\n",
      "Avg prediction | Non-Perc: 0.137\n"
     ]
    },
    {
     "name": "stderr",
     "output_type": "stream",
     "text": [
      "Testing 81x81: 100%|█████████████████████████████████████████████████████████████████████████████| 100/100 [00:00<00:00, 896.60it/s]\n"
     ]
    },
    {
     "name": "stdout",
     "output_type": "stream",
     "text": [
      "\n",
      "81x81 Results:\n",
      "Accuracy: 33.00%\n",
      "Avg prediction | Perc: 0.461\n",
      "Avg prediction | Non-Perc: 0.827\n"
     ]
    },
    {
     "name": "stderr",
     "output_type": "stream",
     "text": [
      "Testing 27x27: 100%|████████████████████████████████████████████████████████████████████████████| 200/200 [00:00<00:00, 1578.72it/s]\n"
     ]
    },
    {
     "name": "stdout",
     "output_type": "stream",
     "text": [
      "\n",
      "27x27 Results:\n",
      "Accuracy: 76.50%\n",
      "Avg prediction | Perc: 0.708\n",
      "Avg prediction | Non-Perc: 0.558\n",
      "\n",
      "Running 3^3 - Run 3/10\n"
     ]
    },
    {
     "name": "stderr",
     "output_type": "stream",
     "text": [
      "Generating data: 100%|██████████████████████████████████████████████████████████████████████| 10000/10000 [00:01<00:00, 8436.16it/s]\n",
      "Training: 100%|████████████████████████████████████████████████████████████████████████████████| 1000/1000 [00:02<00:00, 441.82it/s]\n",
      "Training: 100%|████████████████████████████████████████████████████████████████████████████████| 1000/1000 [00:02<00:00, 410.60it/s]\n",
      "Training: 100%|████████████████████████████████████████████████████████████████████████████████| 1000/1000 [00:02<00:00, 429.18it/s]\n",
      "Training: 100%|████████████████████████████████████████████████████████████████████████████████| 1000/1000 [00:02<00:00, 431.40it/s]\n",
      "Training: 100%|████████████████████████████████████████████████████████████████████████████████| 1000/1000 [00:02<00:00, 416.69it/s]\n",
      "Testing 9x9: 100%|██████████████████████████████████████████████████████████████████████████████| 100/100 [00:00<00:00, 2193.47it/s]\n"
     ]
    },
    {
     "name": "stdout",
     "output_type": "stream",
     "text": [
      "\n",
      "9x9 Results:\n",
      "Accuracy: 39.00%\n",
      "Avg prediction | Perc: 0.116\n",
      "Avg prediction | Non-Perc: 0.443\n"
     ]
    },
    {
     "name": "stderr",
     "output_type": "stream",
     "text": [
      "Testing 27x27: 100%|████████████████████████████████████████████████████████████████████████████| 100/100 [00:00<00:00, 1630.52it/s]\n"
     ]
    },
    {
     "name": "stdout",
     "output_type": "stream",
     "text": [
      "\n",
      "27x27 Results:\n",
      "Accuracy: 99.00%\n",
      "Avg prediction | Perc: 0.880\n",
      "Avg prediction | Non-Perc: 0.071\n"
     ]
    },
    {
     "name": "stderr",
     "output_type": "stream",
     "text": [
      "Testing 81x81: 100%|█████████████████████████████████████████████████████████████████████████████| 100/100 [00:00<00:00, 919.19it/s]\n"
     ]
    },
    {
     "name": "stdout",
     "output_type": "stream",
     "text": [
      "\n",
      "81x81 Results:\n",
      "Accuracy: 34.00%\n",
      "Avg prediction | Perc: 0.442\n",
      "Avg prediction | Non-Perc: 0.891\n"
     ]
    },
    {
     "name": "stderr",
     "output_type": "stream",
     "text": [
      "Testing 27x27: 100%|████████████████████████████████████████████████████████████████████████████| 200/200 [00:00<00:00, 1618.79it/s]\n"
     ]
    },
    {
     "name": "stdout",
     "output_type": "stream",
     "text": [
      "\n",
      "27x27 Results:\n",
      "Accuracy: 70.00%\n",
      "Avg prediction | Perc: 0.596\n",
      "Avg prediction | Non-Perc: 0.460\n",
      "\n",
      "Running 3^3 - Run 4/10\n"
     ]
    },
    {
     "name": "stderr",
     "output_type": "stream",
     "text": [
      "Generating data: 100%|██████████████████████████████████████████████████████████████████████| 10000/10000 [00:01<00:00, 8363.50it/s]\n",
      "Training: 100%|████████████████████████████████████████████████████████████████████████████████| 1000/1000 [00:02<00:00, 442.61it/s]\n",
      "Training: 100%|████████████████████████████████████████████████████████████████████████████████| 1000/1000 [00:02<00:00, 428.37it/s]\n",
      "Training: 100%|████████████████████████████████████████████████████████████████████████████████| 1000/1000 [00:02<00:00, 400.14it/s]\n",
      "Training: 100%|████████████████████████████████████████████████████████████████████████████████| 1000/1000 [00:02<00:00, 432.78it/s]\n",
      "Training: 100%|████████████████████████████████████████████████████████████████████████████████| 1000/1000 [00:02<00:00, 431.59it/s]\n",
      "Testing 9x9: 100%|██████████████████████████████████████████████████████████████████████████████| 100/100 [00:00<00:00, 2194.84it/s]\n"
     ]
    },
    {
     "name": "stdout",
     "output_type": "stream",
     "text": [
      "\n",
      "9x9 Results:\n",
      "Accuracy: 26.00%\n",
      "Avg prediction | Perc: 0.153\n",
      "Avg prediction | Non-Perc: 0.508\n"
     ]
    },
    {
     "name": "stderr",
     "output_type": "stream",
     "text": [
      "Testing 27x27: 100%|████████████████████████████████████████████████████████████████████████████| 100/100 [00:00<00:00, 1555.19it/s]\n"
     ]
    },
    {
     "name": "stdout",
     "output_type": "stream",
     "text": [
      "\n",
      "27x27 Results:\n",
      "Accuracy: 95.00%\n",
      "Avg prediction | Perc: 0.844\n",
      "Avg prediction | Non-Perc: 0.100\n"
     ]
    },
    {
     "name": "stderr",
     "output_type": "stream",
     "text": [
      "Testing 81x81: 100%|█████████████████████████████████████████████████████████████████████████████| 100/100 [00:00<00:00, 915.75it/s]\n"
     ]
    },
    {
     "name": "stdout",
     "output_type": "stream",
     "text": [
      "\n",
      "81x81 Results:\n",
      "Accuracy: 26.00%\n",
      "Avg prediction | Perc: 0.429\n",
      "Avg prediction | Non-Perc: 0.902\n"
     ]
    },
    {
     "name": "stderr",
     "output_type": "stream",
     "text": [
      "Testing 27x27: 100%|████████████████████████████████████████████████████████████████████████████| 200/200 [00:00<00:00, 1569.40it/s]\n"
     ]
    },
    {
     "name": "stdout",
     "output_type": "stream",
     "text": [
      "\n",
      "27x27 Results:\n",
      "Accuracy: 60.00%\n",
      "Avg prediction | Perc: 0.544\n",
      "Avg prediction | Non-Perc: 0.445\n",
      "\n",
      "Running 3^3 - Run 5/10\n"
     ]
    },
    {
     "name": "stderr",
     "output_type": "stream",
     "text": [
      "Generating data: 100%|██████████████████████████████████████████████████████████████████████| 10000/10000 [00:01<00:00, 8384.48it/s]\n",
      "Training: 100%|████████████████████████████████████████████████████████████████████████████████| 1000/1000 [00:02<00:00, 424.67it/s]\n",
      "Training: 100%|████████████████████████████████████████████████████████████████████████████████| 1000/1000 [00:02<00:00, 418.07it/s]\n",
      "Training: 100%|████████████████████████████████████████████████████████████████████████████████| 1000/1000 [00:02<00:00, 431.10it/s]\n",
      "Training: 100%|████████████████████████████████████████████████████████████████████████████████| 1000/1000 [00:02<00:00, 431.26it/s]\n",
      "Training: 100%|████████████████████████████████████████████████████████████████████████████████| 1000/1000 [00:02<00:00, 429.04it/s]\n",
      "Testing 9x9: 100%|██████████████████████████████████████████████████████████████████████████████| 100/100 [00:00<00:00, 2168.74it/s]\n"
     ]
    },
    {
     "name": "stdout",
     "output_type": "stream",
     "text": [
      "\n",
      "9x9 Results:\n",
      "Accuracy: 32.00%\n",
      "Avg prediction | Perc: 0.114\n",
      "Avg prediction | Non-Perc: 0.492\n"
     ]
    },
    {
     "name": "stderr",
     "output_type": "stream",
     "text": [
      "Testing 27x27: 100%|████████████████████████████████████████████████████████████████████████████| 100/100 [00:00<00:00, 1603.69it/s]\n"
     ]
    },
    {
     "name": "stdout",
     "output_type": "stream",
     "text": [
      "\n",
      "27x27 Results:\n",
      "Accuracy: 98.00%\n",
      "Avg prediction | Perc: 0.920\n",
      "Avg prediction | Non-Perc: 0.088\n"
     ]
    },
    {
     "name": "stderr",
     "output_type": "stream",
     "text": [
      "Testing 81x81: 100%|█████████████████████████████████████████████████████████████████████████████| 100/100 [00:00<00:00, 914.43it/s]\n"
     ]
    },
    {
     "name": "stdout",
     "output_type": "stream",
     "text": [
      "\n",
      "81x81 Results:\n",
      "Accuracy: 51.00%\n",
      "Avg prediction | Perc: 0.585\n",
      "Avg prediction | Non-Perc: 0.807\n"
     ]
    },
    {
     "name": "stderr",
     "output_type": "stream",
     "text": [
      "Testing 27x27: 100%|████████████████████████████████████████████████████████████████████████████| 200/200 [00:00<00:00, 1053.49it/s]\n"
     ]
    },
    {
     "name": "stdout",
     "output_type": "stream",
     "text": [
      "\n",
      "27x27 Results:\n",
      "Accuracy: 72.50%\n",
      "Avg prediction | Perc: 0.760\n",
      "Avg prediction | Non-Perc: 0.656\n",
      "\n",
      "Running 3^3 - Run 6/10\n"
     ]
    },
    {
     "name": "stderr",
     "output_type": "stream",
     "text": [
      "Generating data: 100%|██████████████████████████████████████████████████████████████████████| 10000/10000 [00:01<00:00, 8345.40it/s]\n",
      "Training: 100%|████████████████████████████████████████████████████████████████████████████████| 1000/1000 [00:02<00:00, 436.52it/s]\n",
      "Training: 100%|████████████████████████████████████████████████████████████████████████████████| 1000/1000 [00:02<00:00, 430.51it/s]\n",
      "Training: 100%|████████████████████████████████████████████████████████████████████████████████| 1000/1000 [00:02<00:00, 427.59it/s]\n",
      "Training: 100%|████████████████████████████████████████████████████████████████████████████████| 1000/1000 [00:02<00:00, 409.24it/s]\n",
      "Training: 100%|████████████████████████████████████████████████████████████████████████████████| 1000/1000 [00:02<00:00, 421.10it/s]\n",
      "Testing 9x9: 100%|██████████████████████████████████████████████████████████████████████████████| 100/100 [00:00<00:00, 2184.06it/s]\n"
     ]
    },
    {
     "name": "stdout",
     "output_type": "stream",
     "text": [
      "\n",
      "9x9 Results:\n",
      "Accuracy: 98.00%\n",
      "Avg prediction | Perc: 0.919\n",
      "Avg prediction | Non-Perc: 0.044\n"
     ]
    },
    {
     "name": "stderr",
     "output_type": "stream",
     "text": [
      "Testing 27x27: 100%|████████████████████████████████████████████████████████████████████████████| 100/100 [00:00<00:00, 1618.83it/s]\n"
     ]
    },
    {
     "name": "stdout",
     "output_type": "stream",
     "text": [
      "\n",
      "27x27 Results:\n",
      "Accuracy: 94.00%\n",
      "Avg prediction | Perc: 0.978\n",
      "Avg prediction | Non-Perc: 0.072\n"
     ]
    },
    {
     "name": "stderr",
     "output_type": "stream",
     "text": [
      "Testing 81x81: 100%|█████████████████████████████████████████████████████████████████████████████| 100/100 [00:00<00:00, 849.69it/s]\n"
     ]
    },
    {
     "name": "stdout",
     "output_type": "stream",
     "text": [
      "\n",
      "81x81 Results:\n",
      "Accuracy: 98.00%\n",
      "Avg prediction | Perc: 0.996\n",
      "Avg prediction | Non-Perc: 0.045\n"
     ]
    },
    {
     "name": "stderr",
     "output_type": "stream",
     "text": [
      "Testing 27x27: 100%|████████████████████████████████████████████████████████████████████████████| 200/200 [00:00<00:00, 1633.66it/s]\n"
     ]
    },
    {
     "name": "stdout",
     "output_type": "stream",
     "text": [
      "\n",
      "27x27 Results:\n",
      "Accuracy: 72.00%\n",
      "Avg prediction | Perc: 0.889\n",
      "Avg prediction | Non-Perc: 0.772\n",
      "\n",
      "Running 3^3 - Run 7/10\n"
     ]
    },
    {
     "name": "stderr",
     "output_type": "stream",
     "text": [
      "Generating data: 100%|██████████████████████████████████████████████████████████████████████| 10000/10000 [00:01<00:00, 8356.73it/s]\n",
      "Training: 100%|████████████████████████████████████████████████████████████████████████████████| 1000/1000 [00:02<00:00, 439.47it/s]\n",
      "Training: 100%|████████████████████████████████████████████████████████████████████████████████| 1000/1000 [00:02<00:00, 419.75it/s]\n",
      "Training: 100%|████████████████████████████████████████████████████████████████████████████████| 1000/1000 [00:02<00:00, 395.30it/s]\n",
      "Training: 100%|████████████████████████████████████████████████████████████████████████████████| 1000/1000 [00:02<00:00, 417.80it/s]\n",
      "Training: 100%|████████████████████████████████████████████████████████████████████████████████| 1000/1000 [00:02<00:00, 425.64it/s]\n",
      "Testing 9x9: 100%|██████████████████████████████████████████████████████████████████████████████| 100/100 [00:00<00:00, 2216.41it/s]\n"
     ]
    },
    {
     "name": "stdout",
     "output_type": "stream",
     "text": [
      "\n",
      "9x9 Results:\n",
      "Accuracy: 95.00%\n",
      "Avg prediction | Perc: 0.899\n",
      "Avg prediction | Non-Perc: 0.079\n"
     ]
    },
    {
     "name": "stderr",
     "output_type": "stream",
     "text": [
      "Testing 27x27: 100%|████████████████████████████████████████████████████████████████████████████| 100/100 [00:00<00:00, 1571.06it/s]\n"
     ]
    },
    {
     "name": "stdout",
     "output_type": "stream",
     "text": [
      "\n",
      "27x27 Results:\n",
      "Accuracy: 94.00%\n",
      "Avg prediction | Perc: 0.926\n",
      "Avg prediction | Non-Perc: 0.066\n"
     ]
    },
    {
     "name": "stderr",
     "output_type": "stream",
     "text": [
      "Testing 81x81: 100%|█████████████████████████████████████████████████████████████████████████████| 100/100 [00:00<00:00, 884.72it/s]\n"
     ]
    },
    {
     "name": "stdout",
     "output_type": "stream",
     "text": [
      "\n",
      "81x81 Results:\n",
      "Accuracy: 97.00%\n",
      "Avg prediction | Perc: 0.997\n",
      "Avg prediction | Non-Perc: 0.047\n"
     ]
    },
    {
     "name": "stderr",
     "output_type": "stream",
     "text": [
      "Testing 27x27: 100%|████████████████████████████████████████████████████████████████████████████| 200/200 [00:00<00:00, 1602.54it/s]\n"
     ]
    },
    {
     "name": "stdout",
     "output_type": "stream",
     "text": [
      "\n",
      "27x27 Results:\n",
      "Accuracy: 70.00%\n",
      "Avg prediction | Perc: 0.827\n",
      "Avg prediction | Non-Perc: 0.697\n",
      "\n",
      "Running 3^3 - Run 8/10\n"
     ]
    },
    {
     "name": "stderr",
     "output_type": "stream",
     "text": [
      "Generating data: 100%|██████████████████████████████████████████████████████████████████████| 10000/10000 [00:01<00:00, 8256.29it/s]\n",
      "Training: 100%|████████████████████████████████████████████████████████████████████████████████| 1000/1000 [00:02<00:00, 435.72it/s]\n",
      "Training: 100%|████████████████████████████████████████████████████████████████████████████████| 1000/1000 [00:02<00:00, 433.60it/s]\n",
      "Training: 100%|████████████████████████████████████████████████████████████████████████████████| 1000/1000 [00:02<00:00, 430.08it/s]\n",
      "Training: 100%|████████████████████████████████████████████████████████████████████████████████| 1000/1000 [00:02<00:00, 430.55it/s]\n",
      "Training: 100%|████████████████████████████████████████████████████████████████████████████████| 1000/1000 [00:02<00:00, 405.55it/s]\n",
      "Testing 9x9: 100%|██████████████████████████████████████████████████████████████████████████████| 100/100 [00:00<00:00, 2171.66it/s]\n"
     ]
    },
    {
     "name": "stdout",
     "output_type": "stream",
     "text": [
      "\n",
      "9x9 Results:\n",
      "Accuracy: 47.00%\n",
      "Avg prediction | Perc: 0.112\n",
      "Avg prediction | Non-Perc: 0.418\n"
     ]
    },
    {
     "name": "stderr",
     "output_type": "stream",
     "text": [
      "Testing 27x27: 100%|████████████████████████████████████████████████████████████████████████████| 100/100 [00:00<00:00, 1604.69it/s]\n"
     ]
    },
    {
     "name": "stdout",
     "output_type": "stream",
     "text": [
      "\n",
      "27x27 Results:\n",
      "Accuracy: 98.00%\n",
      "Avg prediction | Perc: 0.912\n",
      "Avg prediction | Non-Perc: 0.100\n"
     ]
    },
    {
     "name": "stderr",
     "output_type": "stream",
     "text": [
      "Testing 81x81: 100%|█████████████████████████████████████████████████████████████████████████████| 100/100 [00:00<00:00, 884.54it/s]\n"
     ]
    },
    {
     "name": "stdout",
     "output_type": "stream",
     "text": [
      "\n",
      "81x81 Results:\n",
      "Accuracy: 43.00%\n",
      "Avg prediction | Perc: 0.517\n",
      "Avg prediction | Non-Perc: 0.766\n"
     ]
    },
    {
     "name": "stderr",
     "output_type": "stream",
     "text": [
      "Testing 27x27: 100%|████████████████████████████████████████████████████████████████████████████| 200/200 [00:00<00:00, 1569.41it/s]\n"
     ]
    },
    {
     "name": "stdout",
     "output_type": "stream",
     "text": [
      "\n",
      "27x27 Results:\n",
      "Accuracy: 72.50%\n",
      "Avg prediction | Perc: 0.812\n",
      "Avg prediction | Non-Perc: 0.707\n",
      "\n",
      "Running 3^3 - Run 9/10\n"
     ]
    },
    {
     "name": "stderr",
     "output_type": "stream",
     "text": [
      "Generating data: 100%|██████████████████████████████████████████████████████████████████████| 10000/10000 [00:01<00:00, 8082.74it/s]\n",
      "Training: 100%|████████████████████████████████████████████████████████████████████████████████| 1000/1000 [00:02<00:00, 444.69it/s]\n",
      "Training: 100%|████████████████████████████████████████████████████████████████████████████████| 1000/1000 [00:02<00:00, 434.32it/s]\n",
      "Training: 100%|████████████████████████████████████████████████████████████████████████████████| 1000/1000 [00:02<00:00, 434.24it/s]\n",
      "Training: 100%|████████████████████████████████████████████████████████████████████████████████| 1000/1000 [00:02<00:00, 425.22it/s]\n",
      "Training: 100%|████████████████████████████████████████████████████████████████████████████████| 1000/1000 [00:02<00:00, 433.45it/s]\n",
      "Testing 9x9: 100%|██████████████████████████████████████████████████████████████████████████████| 100/100 [00:00<00:00, 2274.31it/s]\n"
     ]
    },
    {
     "name": "stdout",
     "output_type": "stream",
     "text": [
      "\n",
      "9x9 Results:\n",
      "Accuracy: 41.00%\n",
      "Avg prediction | Perc: 0.110\n",
      "Avg prediction | Non-Perc: 0.424\n"
     ]
    },
    {
     "name": "stderr",
     "output_type": "stream",
     "text": [
      "Testing 27x27: 100%|████████████████████████████████████████████████████████████████████████████| 100/100 [00:00<00:00, 1661.76it/s]\n"
     ]
    },
    {
     "name": "stdout",
     "output_type": "stream",
     "text": [
      "\n",
      "27x27 Results:\n",
      "Accuracy: 97.00%\n",
      "Avg prediction | Perc: 0.938\n",
      "Avg prediction | Non-Perc: 0.116\n"
     ]
    },
    {
     "name": "stderr",
     "output_type": "stream",
     "text": [
      "Testing 81x81: 100%|█████████████████████████████████████████████████████████████████████████████| 100/100 [00:00<00:00, 904.49it/s]\n"
     ]
    },
    {
     "name": "stdout",
     "output_type": "stream",
     "text": [
      "\n",
      "81x81 Results:\n",
      "Accuracy: 29.00%\n",
      "Avg prediction | Perc: 0.449\n",
      "Avg prediction | Non-Perc: 0.923\n"
     ]
    },
    {
     "name": "stderr",
     "output_type": "stream",
     "text": [
      "Testing 27x27: 100%|████████████████████████████████████████████████████████████████████████████| 200/200 [00:00<00:00, 1610.10it/s]\n"
     ]
    },
    {
     "name": "stdout",
     "output_type": "stream",
     "text": [
      "\n",
      "27x27 Results:\n",
      "Accuracy: 69.00%\n",
      "Avg prediction | Perc: 0.623\n",
      "Avg prediction | Non-Perc: 0.494\n",
      "\n",
      "Running 3^3 - Run 10/10\n"
     ]
    },
    {
     "name": "stderr",
     "output_type": "stream",
     "text": [
      "Generating data: 100%|██████████████████████████████████████████████████████████████████████| 10000/10000 [00:01<00:00, 7926.03it/s]\n",
      "Training: 100%|████████████████████████████████████████████████████████████████████████████████| 1000/1000 [00:02<00:00, 426.71it/s]\n",
      "Training: 100%|████████████████████████████████████████████████████████████████████████████████| 1000/1000 [00:02<00:00, 432.57it/s]\n",
      "Training: 100%|████████████████████████████████████████████████████████████████████████████████| 1000/1000 [00:02<00:00, 427.34it/s]\n",
      "Training: 100%|████████████████████████████████████████████████████████████████████████████████| 1000/1000 [00:02<00:00, 436.64it/s]\n",
      "Training: 100%|████████████████████████████████████████████████████████████████████████████████| 1000/1000 [00:02<00:00, 428.56it/s]\n",
      "Testing 9x9: 100%|██████████████████████████████████████████████████████████████████████████████| 100/100 [00:00<00:00, 2195.30it/s]\n"
     ]
    },
    {
     "name": "stdout",
     "output_type": "stream",
     "text": [
      "\n",
      "9x9 Results:\n",
      "Accuracy: 46.00%\n",
      "Avg prediction | Perc: 0.105\n",
      "Avg prediction | Non-Perc: 0.347\n"
     ]
    },
    {
     "name": "stderr",
     "output_type": "stream",
     "text": [
      "Testing 27x27: 100%|████████████████████████████████████████████████████████████████████████████| 100/100 [00:00<00:00, 1603.46it/s]\n"
     ]
    },
    {
     "name": "stdout",
     "output_type": "stream",
     "text": [
      "\n",
      "27x27 Results:\n",
      "Accuracy: 91.00%\n",
      "Avg prediction | Perc: 0.923\n",
      "Avg prediction | Non-Perc: 0.234\n"
     ]
    },
    {
     "name": "stderr",
     "output_type": "stream",
     "text": [
      "Testing 81x81: 100%|█████████████████████████████████████████████████████████████████████████████| 100/100 [00:00<00:00, 889.48it/s]\n"
     ]
    },
    {
     "name": "stdout",
     "output_type": "stream",
     "text": [
      "\n",
      "81x81 Results:\n",
      "Accuracy: 51.00%\n",
      "Avg prediction | Perc: 0.565\n",
      "Avg prediction | Non-Perc: 0.718\n"
     ]
    },
    {
     "name": "stderr",
     "output_type": "stream",
     "text": [
      "Testing 27x27: 100%|████████████████████████████████████████████████████████████████████████████| 200/200 [00:00<00:00, 1582.76it/s]\n"
     ]
    },
    {
     "name": "stdout",
     "output_type": "stream",
     "text": [
      "\n",
      "27x27 Results:\n",
      "Accuracy: 71.00%\n",
      "Avg prediction | Perc: 0.876\n",
      "Avg prediction | Non-Perc: 0.834\n",
      "\n",
      "Running 3^4 - Run 1/10\n"
     ]
    },
    {
     "name": "stderr",
     "output_type": "stream",
     "text": [
      "Generating data: 100%|██████████████████████████████████████████████████████████████████████| 10000/10000 [00:03<00:00, 3164.06it/s]\n",
      "Training: 100%|████████████████████████████████████████████████████████████████████████████████| 1000/1000 [00:05<00:00, 184.32it/s]\n",
      "Training: 100%|████████████████████████████████████████████████████████████████████████████████| 1000/1000 [00:05<00:00, 184.15it/s]\n",
      "Training: 100%|████████████████████████████████████████████████████████████████████████████████| 1000/1000 [00:05<00:00, 178.48it/s]\n",
      "Training: 100%|████████████████████████████████████████████████████████████████████████████████| 1000/1000 [00:05<00:00, 181.54it/s]\n",
      "Training: 100%|████████████████████████████████████████████████████████████████████████████████| 1000/1000 [00:05<00:00, 181.04it/s]\n",
      "Testing 27x27: 100%|████████████████████████████████████████████████████████████████████████████| 100/100 [00:00<00:00, 1185.81it/s]\n"
     ]
    },
    {
     "name": "stdout",
     "output_type": "stream",
     "text": [
      "\n",
      "27x27 Results:\n",
      "Accuracy: 3.00%\n",
      "Avg prediction | Perc: 0.064\n",
      "Avg prediction | Non-Perc: 0.959\n"
     ]
    },
    {
     "name": "stderr",
     "output_type": "stream",
     "text": [
      "Testing 81x81: 100%|█████████████████████████████████████████████████████████████████████████████| 100/100 [00:00<00:00, 711.28it/s]\n"
     ]
    },
    {
     "name": "stdout",
     "output_type": "stream",
     "text": [
      "\n",
      "81x81 Results:\n",
      "Accuracy: 99.00%\n",
      "Avg prediction | Perc: 0.984\n",
      "Avg prediction | Non-Perc: 0.024\n"
     ]
    },
    {
     "name": "stderr",
     "output_type": "stream",
     "text": [
      "Testing 243x243: 100%|███████████████████████████████████████████████████████████████████████████| 100/100 [00:00<00:00, 210.04it/s]\n"
     ]
    },
    {
     "name": "stdout",
     "output_type": "stream",
     "text": [
      "\n",
      "243x243 Results:\n",
      "Accuracy: 0.00%\n",
      "Avg prediction | Perc: 0.003\n",
      "Avg prediction | Non-Perc: 0.991\n"
     ]
    },
    {
     "name": "stderr",
     "output_type": "stream",
     "text": [
      "Testing 81x81: 100%|█████████████████████████████████████████████████████████████████████████████| 200/200 [00:00<00:00, 477.37it/s]\n"
     ]
    },
    {
     "name": "stdout",
     "output_type": "stream",
     "text": [
      "\n",
      "81x81 Results:\n",
      "Accuracy: 77.50%\n",
      "Avg prediction | Perc: 0.767\n",
      "Avg prediction | Non-Perc: 0.521\n",
      "\n",
      "Running 3^4 - Run 2/10\n"
     ]
    },
    {
     "name": "stderr",
     "output_type": "stream",
     "text": [
      "Generating data: 100%|██████████████████████████████████████████████████████████████████████| 10000/10000 [00:03<00:00, 3021.06it/s]\n",
      "Training: 100%|████████████████████████████████████████████████████████████████████████████████| 1000/1000 [00:05<00:00, 172.21it/s]\n",
      "Training: 100%|████████████████████████████████████████████████████████████████████████████████| 1000/1000 [00:05<00:00, 167.04it/s]\n",
      "Training: 100%|████████████████████████████████████████████████████████████████████████████████| 1000/1000 [00:06<00:00, 153.49it/s]\n",
      "Training: 100%|████████████████████████████████████████████████████████████████████████████████| 1000/1000 [00:05<00:00, 171.43it/s]\n",
      "Training: 100%|████████████████████████████████████████████████████████████████████████████████| 1000/1000 [00:05<00:00, 181.22it/s]\n",
      "Testing 27x27: 100%|████████████████████████████████████████████████████████████████████████████| 100/100 [00:00<00:00, 1654.44it/s]\n"
     ]
    },
    {
     "name": "stdout",
     "output_type": "stream",
     "text": [
      "\n",
      "27x27 Results:\n",
      "Accuracy: 2.00%\n",
      "Avg prediction | Perc: 0.074\n",
      "Avg prediction | Non-Perc: 0.976\n"
     ]
    },
    {
     "name": "stderr",
     "output_type": "stream",
     "text": [
      "Testing 81x81: 100%|█████████████████████████████████████████████████████████████████████████████| 100/100 [00:00<00:00, 877.23it/s]\n"
     ]
    },
    {
     "name": "stdout",
     "output_type": "stream",
     "text": [
      "\n",
      "81x81 Results:\n",
      "Accuracy: 97.00%\n",
      "Avg prediction | Perc: 0.930\n",
      "Avg prediction | Non-Perc: 0.021\n"
     ]
    },
    {
     "name": "stderr",
     "output_type": "stream",
     "text": [
      "Testing 243x243: 100%|███████████████████████████████████████████████████████████████████████████| 100/100 [00:00<00:00, 247.28it/s]\n"
     ]
    },
    {
     "name": "stdout",
     "output_type": "stream",
     "text": [
      "\n",
      "243x243 Results:\n",
      "Accuracy: 0.00%\n",
      "Avg prediction | Perc: 0.011\n",
      "Avg prediction | Non-Perc: 0.996\n"
     ]
    },
    {
     "name": "stderr",
     "output_type": "stream",
     "text": [
      "Testing 81x81: 100%|█████████████████████████████████████████████████████████████████████████████| 200/200 [00:00<00:00, 880.58it/s]\n"
     ]
    },
    {
     "name": "stdout",
     "output_type": "stream",
     "text": [
      "\n",
      "81x81 Results:\n",
      "Accuracy: 72.00%\n",
      "Avg prediction | Perc: 0.785\n",
      "Avg prediction | Non-Perc: 0.622\n",
      "\n",
      "Running 3^4 - Run 3/10\n"
     ]
    },
    {
     "name": "stderr",
     "output_type": "stream",
     "text": [
      "Generating data: 100%|██████████████████████████████████████████████████████████████████████| 10000/10000 [00:03<00:00, 3206.76it/s]\n",
      "Training: 100%|████████████████████████████████████████████████████████████████████████████████| 1000/1000 [00:05<00:00, 181.81it/s]\n",
      "Training: 100%|████████████████████████████████████████████████████████████████████████████████| 1000/1000 [00:05<00:00, 181.13it/s]\n",
      "Training: 100%|████████████████████████████████████████████████████████████████████████████████| 1000/1000 [00:05<00:00, 183.82it/s]\n",
      "Training: 100%|████████████████████████████████████████████████████████████████████████████████| 1000/1000 [00:05<00:00, 182.12it/s]\n",
      "Training: 100%|████████████████████████████████████████████████████████████████████████████████| 1000/1000 [00:05<00:00, 181.79it/s]\n",
      "Testing 27x27: 100%|████████████████████████████████████████████████████████████████████████████| 100/100 [00:00<00:00, 1565.90it/s]\n"
     ]
    },
    {
     "name": "stdout",
     "output_type": "stream",
     "text": [
      "\n",
      "27x27 Results:\n",
      "Accuracy: 5.00%\n",
      "Avg prediction | Perc: 0.116\n",
      "Avg prediction | Non-Perc: 0.955\n"
     ]
    },
    {
     "name": "stderr",
     "output_type": "stream",
     "text": [
      "Testing 81x81: 100%|█████████████████████████████████████████████████████████████████████████████| 100/100 [00:00<00:00, 889.59it/s]\n"
     ]
    },
    {
     "name": "stdout",
     "output_type": "stream",
     "text": [
      "\n",
      "81x81 Results:\n",
      "Accuracy: 99.00%\n",
      "Avg prediction | Perc: 0.975\n",
      "Avg prediction | Non-Perc: 0.003\n"
     ]
    },
    {
     "name": "stderr",
     "output_type": "stream",
     "text": [
      "Testing 243x243: 100%|███████████████████████████████████████████████████████████████████████████| 100/100 [00:00<00:00, 257.12it/s]\n"
     ]
    },
    {
     "name": "stdout",
     "output_type": "stream",
     "text": [
      "\n",
      "243x243 Results:\n",
      "Accuracy: 0.00%\n",
      "Avg prediction | Perc: 0.004\n",
      "Avg prediction | Non-Perc: 0.998\n"
     ]
    },
    {
     "name": "stderr",
     "output_type": "stream",
     "text": [
      "Testing 81x81: 100%|█████████████████████████████████████████████████████████████████████████████| 200/200 [00:00<00:00, 861.01it/s]\n"
     ]
    },
    {
     "name": "stdout",
     "output_type": "stream",
     "text": [
      "\n",
      "81x81 Results:\n",
      "Accuracy: 67.50%\n",
      "Avg prediction | Perc: 0.635\n",
      "Avg prediction | Non-Perc: 0.463\n",
      "\n",
      "Running 3^4 - Run 4/10\n"
     ]
    },
    {
     "name": "stderr",
     "output_type": "stream",
     "text": [
      "Generating data: 100%|██████████████████████████████████████████████████████████████████████| 10000/10000 [00:03<00:00, 3190.05it/s]\n",
      "Training: 100%|████████████████████████████████████████████████████████████████████████████████| 1000/1000 [00:05<00:00, 180.72it/s]\n",
      "Training: 100%|████████████████████████████████████████████████████████████████████████████████| 1000/1000 [00:05<00:00, 180.78it/s]\n",
      "Training: 100%|████████████████████████████████████████████████████████████████████████████████| 1000/1000 [00:05<00:00, 178.76it/s]\n",
      "Training: 100%|████████████████████████████████████████████████████████████████████████████████| 1000/1000 [00:05<00:00, 178.15it/s]\n",
      "Training: 100%|████████████████████████████████████████████████████████████████████████████████| 1000/1000 [00:05<00:00, 180.74it/s]\n",
      "Testing 27x27: 100%|████████████████████████████████████████████████████████████████████████████| 100/100 [00:00<00:00, 1616.12it/s]\n"
     ]
    },
    {
     "name": "stdout",
     "output_type": "stream",
     "text": [
      "\n",
      "27x27 Results:\n",
      "Accuracy: 3.00%\n",
      "Avg prediction | Perc: 0.125\n",
      "Avg prediction | Non-Perc: 0.994\n"
     ]
    },
    {
     "name": "stderr",
     "output_type": "stream",
     "text": [
      "Testing 81x81: 100%|█████████████████████████████████████████████████████████████████████████████| 100/100 [00:00<00:00, 879.22it/s]\n"
     ]
    },
    {
     "name": "stdout",
     "output_type": "stream",
     "text": [
      "\n",
      "81x81 Results:\n",
      "Accuracy: 100.00%\n",
      "Avg prediction | Perc: 0.990\n",
      "Avg prediction | Non-Perc: 0.012\n"
     ]
    },
    {
     "name": "stderr",
     "output_type": "stream",
     "text": [
      "Testing 243x243: 100%|███████████████████████████████████████████████████████████████████████████| 100/100 [00:00<00:00, 253.78it/s]\n"
     ]
    },
    {
     "name": "stdout",
     "output_type": "stream",
     "text": [
      "\n",
      "243x243 Results:\n",
      "Accuracy: 0.00%\n",
      "Avg prediction | Perc: 0.016\n",
      "Avg prediction | Non-Perc: 0.997\n"
     ]
    },
    {
     "name": "stderr",
     "output_type": "stream",
     "text": [
      "Testing 81x81: 100%|█████████████████████████████████████████████████████████████████████████████| 200/200 [00:00<00:00, 880.31it/s]\n"
     ]
    },
    {
     "name": "stdout",
     "output_type": "stream",
     "text": [
      "\n",
      "81x81 Results:\n",
      "Accuracy: 68.00%\n",
      "Avg prediction | Perc: 0.679\n",
      "Avg prediction | Non-Perc: 0.488\n",
      "\n",
      "Running 3^4 - Run 5/10\n"
     ]
    },
    {
     "name": "stderr",
     "output_type": "stream",
     "text": [
      "Generating data: 100%|██████████████████████████████████████████████████████████████████████| 10000/10000 [00:03<00:00, 3222.95it/s]\n",
      "Training: 100%|████████████████████████████████████████████████████████████████████████████████| 1000/1000 [00:05<00:00, 182.94it/s]\n",
      "Training: 100%|████████████████████████████████████████████████████████████████████████████████| 1000/1000 [00:05<00:00, 179.54it/s]\n",
      "Training: 100%|████████████████████████████████████████████████████████████████████████████████| 1000/1000 [00:05<00:00, 186.18it/s]\n",
      "Training: 100%|████████████████████████████████████████████████████████████████████████████████| 1000/1000 [00:05<00:00, 177.96it/s]\n",
      "Training: 100%|████████████████████████████████████████████████████████████████████████████████| 1000/1000 [00:05<00:00, 175.24it/s]\n",
      "Testing 27x27: 100%|████████████████████████████████████████████████████████████████████████████| 100/100 [00:00<00:00, 1498.19it/s]\n"
     ]
    },
    {
     "name": "stdout",
     "output_type": "stream",
     "text": [
      "\n",
      "27x27 Results:\n",
      "Accuracy: 5.00%\n",
      "Avg prediction | Perc: 0.101\n",
      "Avg prediction | Non-Perc: 0.958\n"
     ]
    },
    {
     "name": "stderr",
     "output_type": "stream",
     "text": [
      "Testing 81x81: 100%|█████████████████████████████████████████████████████████████████████████████| 100/100 [00:00<00:00, 778.73it/s]\n"
     ]
    },
    {
     "name": "stdout",
     "output_type": "stream",
     "text": [
      "\n",
      "81x81 Results:\n",
      "Accuracy: 100.00%\n",
      "Avg prediction | Perc: 0.991\n",
      "Avg prediction | Non-Perc: 0.004\n"
     ]
    },
    {
     "name": "stderr",
     "output_type": "stream",
     "text": [
      "Testing 243x243: 100%|███████████████████████████████████████████████████████████████████████████| 100/100 [00:00<00:00, 245.04it/s]\n"
     ]
    },
    {
     "name": "stdout",
     "output_type": "stream",
     "text": [
      "\n",
      "243x243 Results:\n",
      "Accuracy: 1.00%\n",
      "Avg prediction | Perc: 0.002\n",
      "Avg prediction | Non-Perc: 0.977\n"
     ]
    },
    {
     "name": "stderr",
     "output_type": "stream",
     "text": [
      "Testing 81x81: 100%|█████████████████████████████████████████████████████████████████████████████| 200/200 [00:00<00:00, 796.12it/s]\n"
     ]
    },
    {
     "name": "stdout",
     "output_type": "stream",
     "text": [
      "\n",
      "81x81 Results:\n",
      "Accuracy: 73.50%\n",
      "Avg prediction | Perc: 0.904\n",
      "Avg prediction | Non-Perc: 0.735\n",
      "\n",
      "Running 3^4 - Run 6/10\n"
     ]
    },
    {
     "name": "stderr",
     "output_type": "stream",
     "text": [
      "Generating data: 100%|██████████████████████████████████████████████████████████████████████| 10000/10000 [00:03<00:00, 3138.61it/s]\n",
      "Training: 100%|████████████████████████████████████████████████████████████████████████████████| 1000/1000 [00:05<00:00, 197.89it/s]\n",
      "Training: 100%|████████████████████████████████████████████████████████████████████████████████| 1000/1000 [00:05<00:00, 196.53it/s]\n",
      "Training: 100%|████████████████████████████████████████████████████████████████████████████████| 1000/1000 [00:05<00:00, 194.07it/s]\n",
      "Training: 100%|████████████████████████████████████████████████████████████████████████████████| 1000/1000 [00:05<00:00, 195.76it/s]\n",
      "Training: 100%|████████████████████████████████████████████████████████████████████████████████| 1000/1000 [00:05<00:00, 188.48it/s]\n",
      "Testing 27x27: 100%|████████████████████████████████████████████████████████████████████████████| 100/100 [00:00<00:00, 1710.29it/s]\n"
     ]
    },
    {
     "name": "stdout",
     "output_type": "stream",
     "text": [
      "\n",
      "27x27 Results:\n",
      "Accuracy: 6.00%\n",
      "Avg prediction | Perc: 0.169\n",
      "Avg prediction | Non-Perc: 0.963\n"
     ]
    },
    {
     "name": "stderr",
     "output_type": "stream",
     "text": [
      "Testing 81x81: 100%|█████████████████████████████████████████████████████████████████████████████| 100/100 [00:00<00:00, 906.72it/s]\n"
     ]
    },
    {
     "name": "stdout",
     "output_type": "stream",
     "text": [
      "\n",
      "81x81 Results:\n",
      "Accuracy: 98.00%\n",
      "Avg prediction | Perc: 0.947\n",
      "Avg prediction | Non-Perc: 0.008\n"
     ]
    },
    {
     "name": "stderr",
     "output_type": "stream",
     "text": [
      "Testing 243x243: 100%|███████████████████████████████████████████████████████████████████████████| 100/100 [00:00<00:00, 261.99it/s]\n"
     ]
    },
    {
     "name": "stdout",
     "output_type": "stream",
     "text": [
      "\n",
      "243x243 Results:\n",
      "Accuracy: 2.00%\n",
      "Avg prediction | Perc: 0.050\n",
      "Avg prediction | Non-Perc: 0.998\n"
     ]
    },
    {
     "name": "stderr",
     "output_type": "stream",
     "text": [
      "Testing 81x81: 100%|█████████████████████████████████████████████████████████████████████████████| 200/200 [00:00<00:00, 924.12it/s]\n"
     ]
    },
    {
     "name": "stdout",
     "output_type": "stream",
     "text": [
      "\n",
      "81x81 Results:\n",
      "Accuracy: 65.00%\n",
      "Avg prediction | Perc: 0.509\n",
      "Avg prediction | Non-Perc: 0.262\n",
      "\n",
      "Running 3^4 - Run 7/10\n"
     ]
    },
    {
     "name": "stderr",
     "output_type": "stream",
     "text": [
      "Generating data: 100%|██████████████████████████████████████████████████████████████████████| 10000/10000 [00:03<00:00, 3251.79it/s]\n",
      "Training: 100%|████████████████████████████████████████████████████████████████████████████████| 1000/1000 [00:05<00:00, 198.01it/s]\n",
      "Training: 100%|████████████████████████████████████████████████████████████████████████████████| 1000/1000 [00:05<00:00, 197.04it/s]\n",
      "Training: 100%|████████████████████████████████████████████████████████████████████████████████| 1000/1000 [00:05<00:00, 197.04it/s]\n",
      "Training: 100%|████████████████████████████████████████████████████████████████████████████████| 1000/1000 [00:05<00:00, 193.95it/s]\n",
      "Training: 100%|████████████████████████████████████████████████████████████████████████████████| 1000/1000 [00:05<00:00, 196.89it/s]\n",
      "Testing 27x27: 100%|████████████████████████████████████████████████████████████████████████████| 100/100 [00:00<00:00, 1713.72it/s]\n"
     ]
    },
    {
     "name": "stdout",
     "output_type": "stream",
     "text": [
      "\n",
      "27x27 Results:\n",
      "Accuracy: 2.00%\n",
      "Avg prediction | Perc: 0.074\n",
      "Avg prediction | Non-Perc: 0.981\n"
     ]
    },
    {
     "name": "stderr",
     "output_type": "stream",
     "text": [
      "Testing 81x81: 100%|█████████████████████████████████████████████████████████████████████████████| 100/100 [00:00<00:00, 896.01it/s]\n"
     ]
    },
    {
     "name": "stdout",
     "output_type": "stream",
     "text": [
      "\n",
      "81x81 Results:\n",
      "Accuracy: 100.00%\n",
      "Avg prediction | Perc: 0.988\n",
      "Avg prediction | Non-Perc: 0.004\n"
     ]
    },
    {
     "name": "stderr",
     "output_type": "stream",
     "text": [
      "Testing 243x243: 100%|███████████████████████████████████████████████████████████████████████████| 100/100 [00:00<00:00, 263.82it/s]\n"
     ]
    },
    {
     "name": "stdout",
     "output_type": "stream",
     "text": [
      "\n",
      "243x243 Results:\n",
      "Accuracy: 2.00%\n",
      "Avg prediction | Perc: 0.002\n",
      "Avg prediction | Non-Perc: 0.973\n"
     ]
    },
    {
     "name": "stderr",
     "output_type": "stream",
     "text": [
      "Testing 81x81: 100%|█████████████████████████████████████████████████████████████████████████████| 200/200 [00:00<00:00, 915.23it/s]\n"
     ]
    },
    {
     "name": "stdout",
     "output_type": "stream",
     "text": [
      "\n",
      "81x81 Results:\n",
      "Accuracy: 75.00%\n",
      "Avg prediction | Perc: 0.785\n",
      "Avg prediction | Non-Perc: 0.576\n",
      "\n",
      "Running 3^4 - Run 8/10\n"
     ]
    },
    {
     "name": "stderr",
     "output_type": "stream",
     "text": [
      "Generating data: 100%|██████████████████████████████████████████████████████████████████████| 10000/10000 [00:03<00:00, 3245.37it/s]\n",
      "Training: 100%|████████████████████████████████████████████████████████████████████████████████| 1000/1000 [00:05<00:00, 197.45it/s]\n",
      "Training: 100%|████████████████████████████████████████████████████████████████████████████████| 1000/1000 [00:05<00:00, 196.89it/s]\n",
      "Training: 100%|████████████████████████████████████████████████████████████████████████████████| 1000/1000 [00:05<00:00, 197.59it/s]\n",
      "Training: 100%|████████████████████████████████████████████████████████████████████████████████| 1000/1000 [00:05<00:00, 194.70it/s]\n",
      "Training: 100%|████████████████████████████████████████████████████████████████████████████████| 1000/1000 [00:05<00:00, 198.04it/s]\n",
      "Testing 27x27: 100%|████████████████████████████████████████████████████████████████████████████| 100/100 [00:00<00:00, 1746.20it/s]\n"
     ]
    },
    {
     "name": "stdout",
     "output_type": "stream",
     "text": [
      "\n",
      "27x27 Results:\n",
      "Accuracy: 2.00%\n",
      "Avg prediction | Perc: 0.087\n",
      "Avg prediction | Non-Perc: 0.952\n"
     ]
    },
    {
     "name": "stderr",
     "output_type": "stream",
     "text": [
      "Testing 81x81: 100%|█████████████████████████████████████████████████████████████████████████████| 100/100 [00:00<00:00, 936.17it/s]\n"
     ]
    },
    {
     "name": "stdout",
     "output_type": "stream",
     "text": [
      "\n",
      "81x81 Results:\n",
      "Accuracy: 97.00%\n",
      "Avg prediction | Perc: 0.968\n",
      "Avg prediction | Non-Perc: 0.059\n"
     ]
    },
    {
     "name": "stderr",
     "output_type": "stream",
     "text": [
      "Testing 243x243: 100%|███████████████████████████████████████████████████████████████████████████| 100/100 [00:00<00:00, 266.82it/s]\n"
     ]
    },
    {
     "name": "stdout",
     "output_type": "stream",
     "text": [
      "\n",
      "243x243 Results:\n",
      "Accuracy: 2.00%\n",
      "Avg prediction | Perc: 0.002\n",
      "Avg prediction | Non-Perc: 0.966\n"
     ]
    },
    {
     "name": "stderr",
     "output_type": "stream",
     "text": [
      "Testing 81x81: 100%|█████████████████████████████████████████████████████████████████████████████| 200/200 [00:00<00:00, 910.72it/s]\n"
     ]
    },
    {
     "name": "stdout",
     "output_type": "stream",
     "text": [
      "\n",
      "81x81 Results:\n",
      "Accuracy: 73.00%\n",
      "Avg prediction | Perc: 0.943\n",
      "Avg prediction | Non-Perc: 0.842\n",
      "\n",
      "Running 3^4 - Run 9/10\n"
     ]
    },
    {
     "name": "stderr",
     "output_type": "stream",
     "text": [
      "Generating data: 100%|██████████████████████████████████████████████████████████████████████| 10000/10000 [00:03<00:00, 3246.40it/s]\n",
      "Training: 100%|████████████████████████████████████████████████████████████████████████████████| 1000/1000 [00:05<00:00, 198.98it/s]\n",
      "Training: 100%|████████████████████████████████████████████████████████████████████████████████| 1000/1000 [00:05<00:00, 197.01it/s]\n",
      "Training: 100%|████████████████████████████████████████████████████████████████████████████████| 1000/1000 [00:05<00:00, 197.30it/s]\n",
      "Training: 100%|████████████████████████████████████████████████████████████████████████████████| 1000/1000 [00:05<00:00, 195.66it/s]\n",
      "Training: 100%|████████████████████████████████████████████████████████████████████████████████| 1000/1000 [00:05<00:00, 197.20it/s]\n",
      "Testing 27x27: 100%|████████████████████████████████████████████████████████████████████████████| 100/100 [00:00<00:00, 1713.98it/s]\n"
     ]
    },
    {
     "name": "stdout",
     "output_type": "stream",
     "text": [
      "\n",
      "27x27 Results:\n",
      "Accuracy: 2.00%\n",
      "Avg prediction | Perc: 0.034\n",
      "Avg prediction | Non-Perc: 0.943\n"
     ]
    },
    {
     "name": "stderr",
     "output_type": "stream",
     "text": [
      "Testing 81x81: 100%|█████████████████████████████████████████████████████████████████████████████| 100/100 [00:00<00:00, 956.92it/s]\n"
     ]
    },
    {
     "name": "stdout",
     "output_type": "stream",
     "text": [
      "\n",
      "81x81 Results:\n",
      "Accuracy: 96.00%\n",
      "Avg prediction | Perc: 0.975\n",
      "Avg prediction | Non-Perc: 0.044\n"
     ]
    },
    {
     "name": "stderr",
     "output_type": "stream",
     "text": [
      "Testing 243x243: 100%|███████████████████████████████████████████████████████████████████████████| 100/100 [00:00<00:00, 259.46it/s]\n"
     ]
    },
    {
     "name": "stdout",
     "output_type": "stream",
     "text": [
      "\n",
      "243x243 Results:\n",
      "Accuracy: 1.00%\n",
      "Avg prediction | Perc: 0.002\n",
      "Avg prediction | Non-Perc: 0.977\n"
     ]
    },
    {
     "name": "stderr",
     "output_type": "stream",
     "text": [
      "Testing 81x81: 100%|█████████████████████████████████████████████████████████████████████████████| 200/200 [00:00<00:00, 922.11it/s]\n"
     ]
    },
    {
     "name": "stdout",
     "output_type": "stream",
     "text": [
      "\n",
      "81x81 Results:\n",
      "Accuracy: 67.50%\n",
      "Avg prediction | Perc: 0.890\n",
      "Avg prediction | Non-Perc: 0.749\n",
      "\n",
      "Running 3^4 - Run 10/10\n"
     ]
    },
    {
     "name": "stderr",
     "output_type": "stream",
     "text": [
      "Generating data: 100%|██████████████████████████████████████████████████████████████████████| 10000/10000 [00:03<00:00, 3247.79it/s]\n",
      "Training: 100%|████████████████████████████████████████████████████████████████████████████████| 1000/1000 [00:05<00:00, 199.33it/s]\n",
      "Training: 100%|████████████████████████████████████████████████████████████████████████████████| 1000/1000 [00:05<00:00, 196.86it/s]\n",
      "Training: 100%|████████████████████████████████████████████████████████████████████████████████| 1000/1000 [00:05<00:00, 197.37it/s]\n",
      "Training: 100%|████████████████████████████████████████████████████████████████████████████████| 1000/1000 [00:05<00:00, 197.94it/s]\n",
      "Training: 100%|████████████████████████████████████████████████████████████████████████████████| 1000/1000 [00:05<00:00, 196.95it/s]\n",
      "Testing 27x27: 100%|████████████████████████████████████████████████████████████████████████████| 100/100 [00:00<00:00, 1744.78it/s]\n"
     ]
    },
    {
     "name": "stdout",
     "output_type": "stream",
     "text": [
      "\n",
      "27x27 Results:\n",
      "Accuracy: 5.00%\n",
      "Avg prediction | Perc: 0.091\n",
      "Avg prediction | Non-Perc: 0.962\n"
     ]
    },
    {
     "name": "stderr",
     "output_type": "stream",
     "text": [
      "Testing 81x81: 100%|█████████████████████████████████████████████████████████████████████████████| 100/100 [00:00<00:00, 929.21it/s]\n"
     ]
    },
    {
     "name": "stdout",
     "output_type": "stream",
     "text": [
      "\n",
      "81x81 Results:\n",
      "Accuracy: 98.00%\n",
      "Avg prediction | Perc: 0.957\n",
      "Avg prediction | Non-Perc: 0.023\n"
     ]
    },
    {
     "name": "stderr",
     "output_type": "stream",
     "text": [
      "Testing 243x243: 100%|███████████████████████████████████████████████████████████████████████████| 100/100 [00:00<00:00, 264.29it/s]\n"
     ]
    },
    {
     "name": "stdout",
     "output_type": "stream",
     "text": [
      "\n",
      "243x243 Results:\n",
      "Accuracy: 3.00%\n",
      "Avg prediction | Perc: 0.005\n",
      "Avg prediction | Non-Perc: 0.953\n"
     ]
    },
    {
     "name": "stderr",
     "output_type": "stream",
     "text": [
      "Testing 81x81: 100%|█████████████████████████████████████████████████████████████████████████████| 200/200 [00:00<00:00, 931.56it/s]\n"
     ]
    },
    {
     "name": "stdout",
     "output_type": "stream",
     "text": [
      "\n",
      "81x81 Results:\n",
      "Accuracy: 77.50%\n",
      "Avg prediction | Perc: 0.811\n",
      "Avg prediction | Non-Perc: 0.588\n",
      "\n",
      "Running 4^2 - Run 1/10\n"
     ]
    },
    {
     "name": "stderr",
     "output_type": "stream",
     "text": [
      "Generating data: 100%|██████████████████████████████████████████████████████████████████████| 10000/10000 [00:01<00:00, 9845.01it/s]\n",
      "Training: 100%|████████████████████████████████████████████████████████████████████████████████| 1000/1000 [00:01<00:00, 690.13it/s]\n",
      "Training: 100%|████████████████████████████████████████████████████████████████████████████████| 1000/1000 [00:01<00:00, 665.80it/s]\n",
      "Training: 100%|████████████████████████████████████████████████████████████████████████████████| 1000/1000 [00:01<00:00, 659.66it/s]\n",
      "Training: 100%|████████████████████████████████████████████████████████████████████████████████| 1000/1000 [00:01<00:00, 642.05it/s]\n",
      "Training: 100%|████████████████████████████████████████████████████████████████████████████████| 1000/1000 [00:01<00:00, 663.75it/s]\n",
      "Testing 4x4: 100%|██████████████████████████████████████████████████████████████████████████████| 100/100 [00:00<00:00, 3212.67it/s]\n"
     ]
    },
    {
     "name": "stdout",
     "output_type": "stream",
     "text": [
      "\n",
      "4x4 Results:\n",
      "Accuracy: 3.00%\n",
      "Avg prediction | Perc: 0.108\n",
      "Avg prediction | Non-Perc: 0.924\n"
     ]
    },
    {
     "name": "stderr",
     "output_type": "stream",
     "text": [
      "Testing 16x16: 100%|████████████████████████████████████████████████████████████████████████████| 100/100 [00:00<00:00, 2261.62it/s]\n"
     ]
    },
    {
     "name": "stdout",
     "output_type": "stream",
     "text": [
      "\n",
      "16x16 Results:\n",
      "Accuracy: 95.00%\n",
      "Avg prediction | Perc: 0.919\n",
      "Avg prediction | Non-Perc: 0.081\n"
     ]
    },
    {
     "name": "stderr",
     "output_type": "stream",
     "text": [
      "Testing 64x64: 100%|████████████████████████████████████████████████████████████████████████████| 100/100 [00:00<00:00, 1242.29it/s]\n"
     ]
    },
    {
     "name": "stdout",
     "output_type": "stream",
     "text": [
      "\n",
      "64x64 Results:\n",
      "Accuracy: 3.00%\n",
      "Avg prediction | Perc: 0.005\n",
      "Avg prediction | Non-Perc: 0.926\n"
     ]
    },
    {
     "name": "stderr",
     "output_type": "stream",
     "text": [
      "Testing 16x16: 100%|████████████████████████████████████████████████████████████████████████████| 200/200 [00:00<00:00, 2190.53it/s]\n"
     ]
    },
    {
     "name": "stdout",
     "output_type": "stream",
     "text": [
      "\n",
      "16x16 Results:\n",
      "Accuracy: 77.00%\n",
      "Avg prediction | Perc: 0.774\n",
      "Avg prediction | Non-Perc: 0.586\n",
      "\n",
      "Running 4^2 - Run 2/10\n"
     ]
    },
    {
     "name": "stderr",
     "output_type": "stream",
     "text": [
      "Generating data: 100%|██████████████████████████████████████████████████████████████████████| 10000/10000 [00:01<00:00, 9913.63it/s]\n",
      "Training: 100%|████████████████████████████████████████████████████████████████████████████████| 1000/1000 [00:01<00:00, 670.30it/s]\n",
      "Training: 100%|████████████████████████████████████████████████████████████████████████████████| 1000/1000 [00:01<00:00, 653.30it/s]\n",
      "Training: 100%|████████████████████████████████████████████████████████████████████████████████| 1000/1000 [00:01<00:00, 650.08it/s]\n",
      "Training: 100%|████████████████████████████████████████████████████████████████████████████████| 1000/1000 [00:01<00:00, 660.76it/s]\n",
      "Training: 100%|████████████████████████████████████████████████████████████████████████████████| 1000/1000 [00:01<00:00, 604.98it/s]\n",
      "Testing 4x4: 100%|██████████████████████████████████████████████████████████████████████████████| 100/100 [00:00<00:00, 2499.41it/s]\n"
     ]
    },
    {
     "name": "stdout",
     "output_type": "stream",
     "text": [
      "\n",
      "4x4 Results:\n",
      "Accuracy: 12.00%\n",
      "Avg prediction | Perc: 0.241\n",
      "Avg prediction | Non-Perc: 0.943\n"
     ]
    },
    {
     "name": "stderr",
     "output_type": "stream",
     "text": [
      "Testing 16x16: 100%|████████████████████████████████████████████████████████████████████████████| 100/100 [00:00<00:00, 1283.99it/s]\n"
     ]
    },
    {
     "name": "stdout",
     "output_type": "stream",
     "text": [
      "\n",
      "16x16 Results:\n",
      "Accuracy: 97.00%\n",
      "Avg prediction | Perc: 0.920\n",
      "Avg prediction | Non-Perc: 0.037\n"
     ]
    },
    {
     "name": "stderr",
     "output_type": "stream",
     "text": [
      "Testing 64x64: 100%|█████████████████████████████████████████████████████████████████████████████| 100/100 [00:00<00:00, 844.74it/s]\n"
     ]
    },
    {
     "name": "stdout",
     "output_type": "stream",
     "text": [
      "\n",
      "64x64 Results:\n",
      "Accuracy: 3.00%\n",
      "Avg prediction | Perc: 0.007\n",
      "Avg prediction | Non-Perc: 0.934\n"
     ]
    },
    {
     "name": "stderr",
     "output_type": "stream",
     "text": [
      "Testing 16x16: 100%|████████████████████████████████████████████████████████████████████████████| 200/200 [00:00<00:00, 1924.75it/s]\n"
     ]
    },
    {
     "name": "stdout",
     "output_type": "stream",
     "text": [
      "\n",
      "16x16 Results:\n",
      "Accuracy: 73.50%\n",
      "Avg prediction | Perc: 0.779\n",
      "Avg prediction | Non-Perc: 0.605\n",
      "\n",
      "Running 4^2 - Run 3/10\n"
     ]
    },
    {
     "name": "stderr",
     "output_type": "stream",
     "text": [
      "Generating data: 100%|██████████████████████████████████████████████████████████████████████| 10000/10000 [00:01<00:00, 9771.63it/s]\n",
      "Training: 100%|████████████████████████████████████████████████████████████████████████████████| 1000/1000 [00:01<00:00, 676.42it/s]\n",
      "Training: 100%|████████████████████████████████████████████████████████████████████████████████| 1000/1000 [00:01<00:00, 663.69it/s]\n",
      "Training: 100%|████████████████████████████████████████████████████████████████████████████████| 1000/1000 [00:01<00:00, 666.53it/s]\n",
      "Training: 100%|████████████████████████████████████████████████████████████████████████████████| 1000/1000 [00:01<00:00, 666.94it/s]\n",
      "Training: 100%|████████████████████████████████████████████████████████████████████████████████| 1000/1000 [00:01<00:00, 661.24it/s]\n",
      "Testing 4x4: 100%|██████████████████████████████████████████████████████████████████████████████| 100/100 [00:00<00:00, 3204.47it/s]\n"
     ]
    },
    {
     "name": "stdout",
     "output_type": "stream",
     "text": [
      "\n",
      "4x4 Results:\n",
      "Accuracy: 11.00%\n",
      "Avg prediction | Perc: 0.202\n",
      "Avg prediction | Non-Perc: 0.947\n"
     ]
    },
    {
     "name": "stderr",
     "output_type": "stream",
     "text": [
      "Testing 16x16: 100%|████████████████████████████████████████████████████████████████████████████| 100/100 [00:00<00:00, 1988.25it/s]\n"
     ]
    },
    {
     "name": "stdout",
     "output_type": "stream",
     "text": [
      "\n",
      "16x16 Results:\n",
      "Accuracy: 98.00%\n",
      "Avg prediction | Perc: 0.909\n",
      "Avg prediction | Non-Perc: 0.031\n"
     ]
    },
    {
     "name": "stderr",
     "output_type": "stream",
     "text": [
      "Testing 64x64: 100%|████████████████████████████████████████████████████████████████████████████| 100/100 [00:00<00:00, 1276.39it/s]\n"
     ]
    },
    {
     "name": "stdout",
     "output_type": "stream",
     "text": [
      "\n",
      "64x64 Results:\n",
      "Accuracy: 4.00%\n",
      "Avg prediction | Perc: 0.043\n",
      "Avg prediction | Non-Perc: 0.971\n"
     ]
    },
    {
     "name": "stderr",
     "output_type": "stream",
     "text": [
      "Testing 16x16: 100%|████████████████████████████████████████████████████████████████████████████| 200/200 [00:00<00:00, 2140.34it/s]\n"
     ]
    },
    {
     "name": "stdout",
     "output_type": "stream",
     "text": [
      "\n",
      "16x16 Results:\n",
      "Accuracy: 73.50%\n",
      "Avg prediction | Perc: 0.730\n",
      "Avg prediction | Non-Perc: 0.504\n",
      "\n",
      "Running 4^2 - Run 4/10\n"
     ]
    },
    {
     "name": "stderr",
     "output_type": "stream",
     "text": [
      "Generating data: 100%|██████████████████████████████████████████████████████████████████████| 10000/10000 [00:01<00:00, 9890.79it/s]\n",
      "Training: 100%|████████████████████████████████████████████████████████████████████████████████| 1000/1000 [00:01<00:00, 584.45it/s]\n",
      "Training: 100%|████████████████████████████████████████████████████████████████████████████████| 1000/1000 [00:01<00:00, 608.65it/s]\n",
      "Training: 100%|████████████████████████████████████████████████████████████████████████████████| 1000/1000 [00:01<00:00, 664.74it/s]\n",
      "Training: 100%|████████████████████████████████████████████████████████████████████████████████| 1000/1000 [00:01<00:00, 660.60it/s]\n",
      "Training: 100%|████████████████████████████████████████████████████████████████████████████████| 1000/1000 [00:01<00:00, 662.80it/s]\n",
      "Testing 4x4: 100%|██████████████████████████████████████████████████████████████████████████████| 100/100 [00:00<00:00, 3317.96it/s]\n"
     ]
    },
    {
     "name": "stdout",
     "output_type": "stream",
     "text": [
      "\n",
      "4x4 Results:\n",
      "Accuracy: 11.00%\n",
      "Avg prediction | Perc: 0.187\n",
      "Avg prediction | Non-Perc: 0.914\n"
     ]
    },
    {
     "name": "stderr",
     "output_type": "stream",
     "text": [
      "Testing 16x16: 100%|████████████████████████████████████████████████████████████████████████████| 100/100 [00:00<00:00, 2314.11it/s]\n"
     ]
    },
    {
     "name": "stdout",
     "output_type": "stream",
     "text": [
      "\n",
      "16x16 Results:\n",
      "Accuracy: 95.00%\n",
      "Avg prediction | Perc: 0.913\n",
      "Avg prediction | Non-Perc: 0.067\n"
     ]
    },
    {
     "name": "stderr",
     "output_type": "stream",
     "text": [
      "Testing 64x64: 100%|████████████████████████████████████████████████████████████████████████████| 100/100 [00:00<00:00, 1344.60it/s]\n"
     ]
    },
    {
     "name": "stdout",
     "output_type": "stream",
     "text": [
      "\n",
      "64x64 Results:\n",
      "Accuracy: 2.00%\n",
      "Avg prediction | Perc: 0.002\n",
      "Avg prediction | Non-Perc: 0.958\n"
     ]
    },
    {
     "name": "stderr",
     "output_type": "stream",
     "text": [
      "Testing 16x16: 100%|████████████████████████████████████████████████████████████████████████████| 200/200 [00:00<00:00, 2232.78it/s]\n"
     ]
    },
    {
     "name": "stdout",
     "output_type": "stream",
     "text": [
      "\n",
      "16x16 Results:\n",
      "Accuracy: 71.50%\n",
      "Avg prediction | Perc: 0.779\n",
      "Avg prediction | Non-Perc: 0.589\n",
      "\n",
      "Running 4^2 - Run 5/10\n"
     ]
    },
    {
     "name": "stderr",
     "output_type": "stream",
     "text": [
      "Generating data: 100%|██████████████████████████████████████████████████████████████████████| 10000/10000 [00:01<00:00, 9866.38it/s]\n",
      "Training: 100%|████████████████████████████████████████████████████████████████████████████████| 1000/1000 [00:01<00:00, 689.32it/s]\n",
      "Training: 100%|████████████████████████████████████████████████████████████████████████████████| 1000/1000 [00:01<00:00, 653.26it/s]\n",
      "Training: 100%|████████████████████████████████████████████████████████████████████████████████| 1000/1000 [00:01<00:00, 664.25it/s]\n",
      "Training: 100%|████████████████████████████████████████████████████████████████████████████████| 1000/1000 [00:01<00:00, 640.51it/s]\n",
      "Training: 100%|████████████████████████████████████████████████████████████████████████████████| 1000/1000 [00:01<00:00, 663.54it/s]\n",
      "Testing 4x4: 100%|██████████████████████████████████████████████████████████████████████████████| 100/100 [00:00<00:00, 3207.19it/s]\n"
     ]
    },
    {
     "name": "stdout",
     "output_type": "stream",
     "text": [
      "\n",
      "4x4 Results:\n",
      "Accuracy: 13.00%\n",
      "Avg prediction | Perc: 0.219\n",
      "Avg prediction | Non-Perc: 0.880\n"
     ]
    },
    {
     "name": "stderr",
     "output_type": "stream",
     "text": [
      "Testing 16x16: 100%|████████████████████████████████████████████████████████████████████████████| 100/100 [00:00<00:00, 2263.53it/s]\n"
     ]
    },
    {
     "name": "stdout",
     "output_type": "stream",
     "text": [
      "\n",
      "16x16 Results:\n",
      "Accuracy: 91.00%\n",
      "Avg prediction | Perc: 0.898\n",
      "Avg prediction | Non-Perc: 0.092\n"
     ]
    },
    {
     "name": "stderr",
     "output_type": "stream",
     "text": [
      "Testing 64x64: 100%|████████████████████████████████████████████████████████████████████████████| 100/100 [00:00<00:00, 1288.30it/s]\n"
     ]
    },
    {
     "name": "stdout",
     "output_type": "stream",
     "text": [
      "\n",
      "64x64 Results:\n",
      "Accuracy: 5.00%\n",
      "Avg prediction | Perc: 0.015\n",
      "Avg prediction | Non-Perc: 0.925\n"
     ]
    },
    {
     "name": "stderr",
     "output_type": "stream",
     "text": [
      "Testing 16x16: 100%|████████████████████████████████████████████████████████████████████████████| 200/200 [00:00<00:00, 2282.30it/s]\n"
     ]
    },
    {
     "name": "stdout",
     "output_type": "stream",
     "text": [
      "\n",
      "16x16 Results:\n",
      "Accuracy: 66.50%\n",
      "Avg prediction | Perc: 0.800\n",
      "Avg prediction | Non-Perc: 0.648\n",
      "\n",
      "Running 4^2 - Run 6/10\n"
     ]
    },
    {
     "name": "stderr",
     "output_type": "stream",
     "text": [
      "Generating data: 100%|██████████████████████████████████████████████████████████████████████| 10000/10000 [00:01<00:00, 9825.45it/s]\n",
      "Training: 100%|████████████████████████████████████████████████████████████████████████████████| 1000/1000 [00:01<00:00, 681.83it/s]\n",
      "Training: 100%|████████████████████████████████████████████████████████████████████████████████| 1000/1000 [00:01<00:00, 660.36it/s]\n",
      "Training: 100%|████████████████████████████████████████████████████████████████████████████████| 1000/1000 [00:01<00:00, 666.88it/s]\n",
      "Training: 100%|████████████████████████████████████████████████████████████████████████████████| 1000/1000 [00:01<00:00, 666.03it/s]\n",
      "Training: 100%|████████████████████████████████████████████████████████████████████████████████| 1000/1000 [00:01<00:00, 662.97it/s]\n",
      "Testing 4x4: 100%|██████████████████████████████████████████████████████████████████████████████| 100/100 [00:00<00:00, 3098.03it/s]\n"
     ]
    },
    {
     "name": "stdout",
     "output_type": "stream",
     "text": [
      "\n",
      "4x4 Results:\n",
      "Accuracy: 12.00%\n",
      "Avg prediction | Perc: 0.259\n",
      "Avg prediction | Non-Perc: 0.921\n"
     ]
    },
    {
     "name": "stderr",
     "output_type": "stream",
     "text": [
      "Testing 16x16: 100%|████████████████████████████████████████████████████████████████████████████| 100/100 [00:00<00:00, 2213.66it/s]\n"
     ]
    },
    {
     "name": "stdout",
     "output_type": "stream",
     "text": [
      "\n",
      "16x16 Results:\n",
      "Accuracy: 94.00%\n",
      "Avg prediction | Perc: 0.906\n",
      "Avg prediction | Non-Perc: 0.051\n"
     ]
    },
    {
     "name": "stderr",
     "output_type": "stream",
     "text": [
      "Testing 64x64: 100%|████████████████████████████████████████████████████████████████████████████| 100/100 [00:00<00:00, 1324.24it/s]\n"
     ]
    },
    {
     "name": "stdout",
     "output_type": "stream",
     "text": [
      "\n",
      "64x64 Results:\n",
      "Accuracy: 3.00%\n",
      "Avg prediction | Perc: 0.058\n",
      "Avg prediction | Non-Perc: 0.968\n"
     ]
    },
    {
     "name": "stderr",
     "output_type": "stream",
     "text": [
      "Testing 16x16: 100%|████████████████████████████████████████████████████████████████████████████| 200/200 [00:00<00:00, 2322.66it/s]\n"
     ]
    },
    {
     "name": "stdout",
     "output_type": "stream",
     "text": [
      "\n",
      "16x16 Results:\n",
      "Accuracy: 76.00%\n",
      "Avg prediction | Perc: 0.723\n",
      "Avg prediction | Non-Perc: 0.502\n",
      "\n",
      "Running 4^2 - Run 7/10\n"
     ]
    },
    {
     "name": "stderr",
     "output_type": "stream",
     "text": [
      "Generating data: 100%|██████████████████████████████████████████████████████████████████████| 10000/10000 [00:01<00:00, 9766.73it/s]\n",
      "Training: 100%|████████████████████████████████████████████████████████████████████████████████| 1000/1000 [00:01<00:00, 677.73it/s]\n",
      "Training: 100%|████████████████████████████████████████████████████████████████████████████████| 1000/1000 [00:01<00:00, 642.07it/s]\n",
      "Training: 100%|████████████████████████████████████████████████████████████████████████████████| 1000/1000 [00:01<00:00, 667.72it/s]\n",
      "Training: 100%|████████████████████████████████████████████████████████████████████████████████| 1000/1000 [00:01<00:00, 664.42it/s]\n",
      "Training: 100%|████████████████████████████████████████████████████████████████████████████████| 1000/1000 [00:01<00:00, 663.09it/s]\n",
      "Testing 4x4: 100%|██████████████████████████████████████████████████████████████████████████████| 100/100 [00:00<00:00, 3189.46it/s]\n"
     ]
    },
    {
     "name": "stdout",
     "output_type": "stream",
     "text": [
      "\n",
      "4x4 Results:\n",
      "Accuracy: 10.00%\n",
      "Avg prediction | Perc: 0.232\n",
      "Avg prediction | Non-Perc: 0.948\n"
     ]
    },
    {
     "name": "stderr",
     "output_type": "stream",
     "text": [
      "Testing 16x16: 100%|████████████████████████████████████████████████████████████████████████████| 100/100 [00:00<00:00, 2206.80it/s]\n"
     ]
    },
    {
     "name": "stdout",
     "output_type": "stream",
     "text": [
      "\n",
      "16x16 Results:\n",
      "Accuracy: 95.00%\n",
      "Avg prediction | Perc: 0.883\n",
      "Avg prediction | Non-Perc: 0.052\n"
     ]
    },
    {
     "name": "stderr",
     "output_type": "stream",
     "text": [
      "Testing 64x64: 100%|████████████████████████████████████████████████████████████████████████████| 100/100 [00:00<00:00, 1307.77it/s]\n"
     ]
    },
    {
     "name": "stdout",
     "output_type": "stream",
     "text": [
      "\n",
      "64x64 Results:\n",
      "Accuracy: 4.00%\n",
      "Avg prediction | Perc: 0.014\n",
      "Avg prediction | Non-Perc: 0.931\n"
     ]
    },
    {
     "name": "stderr",
     "output_type": "stream",
     "text": [
      "Testing 16x16: 100%|████████████████████████████████████████████████████████████████████████████| 200/200 [00:00<00:00, 2307.41it/s]\n"
     ]
    },
    {
     "name": "stdout",
     "output_type": "stream",
     "text": [
      "\n",
      "16x16 Results:\n",
      "Accuracy: 76.00%\n",
      "Avg prediction | Perc: 0.708\n",
      "Avg prediction | Non-Perc: 0.493\n",
      "\n",
      "Running 4^2 - Run 8/10\n"
     ]
    },
    {
     "name": "stderr",
     "output_type": "stream",
     "text": [
      "Generating data: 100%|██████████████████████████████████████████████████████████████████████| 10000/10000 [00:01<00:00, 9618.27it/s]\n",
      "Training: 100%|████████████████████████████████████████████████████████████████████████████████| 1000/1000 [00:01<00:00, 688.05it/s]\n",
      "Training: 100%|████████████████████████████████████████████████████████████████████████████████| 1000/1000 [00:01<00:00, 660.71it/s]\n",
      "Training: 100%|████████████████████████████████████████████████████████████████████████████████| 1000/1000 [00:01<00:00, 665.07it/s]\n",
      "Training: 100%|████████████████████████████████████████████████████████████████████████████████| 1000/1000 [00:01<00:00, 663.59it/s]\n",
      "Training: 100%|████████████████████████████████████████████████████████████████████████████████| 1000/1000 [00:01<00:00, 667.73it/s]\n",
      "Testing 4x4: 100%|██████████████████████████████████████████████████████████████████████████████| 100/100 [00:00<00:00, 3204.74it/s]\n"
     ]
    },
    {
     "name": "stdout",
     "output_type": "stream",
     "text": [
      "\n",
      "4x4 Results:\n",
      "Accuracy: 14.00%\n",
      "Avg prediction | Perc: 0.248\n",
      "Avg prediction | Non-Perc: 0.935\n"
     ]
    },
    {
     "name": "stderr",
     "output_type": "stream",
     "text": [
      "Testing 16x16: 100%|████████████████████████████████████████████████████████████████████████████| 100/100 [00:00<00:00, 2177.91it/s]\n"
     ]
    },
    {
     "name": "stdout",
     "output_type": "stream",
     "text": [
      "\n",
      "16x16 Results:\n",
      "Accuracy: 95.00%\n",
      "Avg prediction | Perc: 0.900\n",
      "Avg prediction | Non-Perc: 0.065\n"
     ]
    },
    {
     "name": "stderr",
     "output_type": "stream",
     "text": [
      "Testing 64x64: 100%|████████████████████████████████████████████████████████████████████████████| 100/100 [00:00<00:00, 1325.39it/s]\n"
     ]
    },
    {
     "name": "stdout",
     "output_type": "stream",
     "text": [
      "\n",
      "64x64 Results:\n",
      "Accuracy: 2.00%\n",
      "Avg prediction | Perc: 0.001\n",
      "Avg prediction | Non-Perc: 0.958\n"
     ]
    },
    {
     "name": "stderr",
     "output_type": "stream",
     "text": [
      "Testing 16x16: 100%|████████████████████████████████████████████████████████████████████████████| 200/200 [00:00<00:00, 2197.72it/s]\n"
     ]
    },
    {
     "name": "stdout",
     "output_type": "stream",
     "text": [
      "\n",
      "16x16 Results:\n",
      "Accuracy: 81.50%\n",
      "Avg prediction | Perc: 0.797\n",
      "Avg prediction | Non-Perc: 0.518\n",
      "\n",
      "Running 4^2 - Run 9/10\n"
     ]
    },
    {
     "name": "stderr",
     "output_type": "stream",
     "text": [
      "Generating data: 100%|██████████████████████████████████████████████████████████████████████| 10000/10000 [00:01<00:00, 9701.48it/s]\n",
      "Training: 100%|████████████████████████████████████████████████████████████████████████████████| 1000/1000 [00:01<00:00, 685.01it/s]\n",
      "Training: 100%|████████████████████████████████████████████████████████████████████████████████| 1000/1000 [00:01<00:00, 666.74it/s]\n",
      "Training: 100%|████████████████████████████████████████████████████████████████████████████████| 1000/1000 [00:01<00:00, 666.39it/s]\n",
      "Training: 100%|████████████████████████████████████████████████████████████████████████████████| 1000/1000 [00:01<00:00, 650.38it/s]\n",
      "Training: 100%|████████████████████████████████████████████████████████████████████████████████| 1000/1000 [00:01<00:00, 660.45it/s]\n",
      "Testing 4x4: 100%|██████████████████████████████████████████████████████████████████████████████| 100/100 [00:00<00:00, 3206.29it/s]\n"
     ]
    },
    {
     "name": "stdout",
     "output_type": "stream",
     "text": [
      "\n",
      "4x4 Results:\n",
      "Accuracy: 14.00%\n",
      "Avg prediction | Perc: 0.217\n",
      "Avg prediction | Non-Perc: 0.890\n"
     ]
    },
    {
     "name": "stderr",
     "output_type": "stream",
     "text": [
      "Testing 16x16: 100%|████████████████████████████████████████████████████████████████████████████| 100/100 [00:00<00:00, 2259.80it/s]\n"
     ]
    },
    {
     "name": "stdout",
     "output_type": "stream",
     "text": [
      "\n",
      "16x16 Results:\n",
      "Accuracy: 95.00%\n",
      "Avg prediction | Perc: 0.918\n",
      "Avg prediction | Non-Perc: 0.069\n"
     ]
    },
    {
     "name": "stderr",
     "output_type": "stream",
     "text": [
      "Testing 64x64: 100%|████████████████████████████████████████████████████████████████████████████| 100/100 [00:00<00:00, 1306.34it/s]\n"
     ]
    },
    {
     "name": "stdout",
     "output_type": "stream",
     "text": [
      "\n",
      "64x64 Results:\n",
      "Accuracy: 8.00%\n",
      "Avg prediction | Perc: 0.001\n",
      "Avg prediction | Non-Perc: 0.887\n"
     ]
    },
    {
     "name": "stderr",
     "output_type": "stream",
     "text": [
      "Testing 16x16: 100%|████████████████████████████████████████████████████████████████████████████| 200/200 [00:00<00:00, 2281.21it/s]\n"
     ]
    },
    {
     "name": "stdout",
     "output_type": "stream",
     "text": [
      "\n",
      "16x16 Results:\n",
      "Accuracy: 76.50%\n",
      "Avg prediction | Perc: 0.845\n",
      "Avg prediction | Non-Perc: 0.597\n",
      "\n",
      "Running 4^2 - Run 10/10\n"
     ]
    },
    {
     "name": "stderr",
     "output_type": "stream",
     "text": [
      "Generating data: 100%|██████████████████████████████████████████████████████████████████████| 10000/10000 [00:01<00:00, 9641.78it/s]\n",
      "Training: 100%|████████████████████████████████████████████████████████████████████████████████| 1000/1000 [00:01<00:00, 681.13it/s]\n",
      "Training: 100%|████████████████████████████████████████████████████████████████████████████████| 1000/1000 [00:01<00:00, 667.85it/s]\n",
      "Training: 100%|████████████████████████████████████████████████████████████████████████████████| 1000/1000 [00:01<00:00, 668.73it/s]\n",
      "Training: 100%|████████████████████████████████████████████████████████████████████████████████| 1000/1000 [00:01<00:00, 661.80it/s]\n",
      "Training: 100%|████████████████████████████████████████████████████████████████████████████████| 1000/1000 [00:01<00:00, 667.57it/s]\n",
      "Testing 4x4: 100%|██████████████████████████████████████████████████████████████████████████████| 100/100 [00:00<00:00, 3208.08it/s]\n"
     ]
    },
    {
     "name": "stdout",
     "output_type": "stream",
     "text": [
      "\n",
      "4x4 Results:\n",
      "Accuracy: 9.00%\n",
      "Avg prediction | Perc: 0.196\n",
      "Avg prediction | Non-Perc: 0.947\n"
     ]
    },
    {
     "name": "stderr",
     "output_type": "stream",
     "text": [
      "Testing 16x16: 100%|████████████████████████████████████████████████████████████████████████████| 100/100 [00:00<00:00, 2164.00it/s]\n"
     ]
    },
    {
     "name": "stdout",
     "output_type": "stream",
     "text": [
      "\n",
      "16x16 Results:\n",
      "Accuracy: 89.00%\n",
      "Avg prediction | Perc: 0.870\n",
      "Avg prediction | Non-Perc: 0.110\n"
     ]
    },
    {
     "name": "stderr",
     "output_type": "stream",
     "text": [
      "Testing 64x64: 100%|████████████████████████████████████████████████████████████████████████████| 100/100 [00:00<00:00, 1324.04it/s]\n"
     ]
    },
    {
     "name": "stdout",
     "output_type": "stream",
     "text": [
      "\n",
      "64x64 Results:\n",
      "Accuracy: 4.00%\n",
      "Avg prediction | Perc: 0.002\n",
      "Avg prediction | Non-Perc: 0.925\n"
     ]
    },
    {
     "name": "stderr",
     "output_type": "stream",
     "text": [
      "Testing 16x16: 100%|████████████████████████████████████████████████████████████████████████████| 200/200 [00:00<00:00, 2280.87it/s]\n"
     ]
    },
    {
     "name": "stdout",
     "output_type": "stream",
     "text": [
      "\n",
      "16x16 Results:\n",
      "Accuracy: 68.50%\n",
      "Avg prediction | Perc: 0.836\n",
      "Avg prediction | Non-Perc: 0.678\n",
      "\n",
      "Running 4^3 - Run 1/10\n"
     ]
    },
    {
     "name": "stderr",
     "output_type": "stream",
     "text": [
      "Generating data: 100%|██████████████████████████████████████████████████████████████████████| 10000/10000 [00:02<00:00, 4250.09it/s]\n",
      "Training: 100%|████████████████████████████████████████████████████████████████████████████████| 1000/1000 [00:02<00:00, 350.59it/s]\n",
      "Training: 100%|████████████████████████████████████████████████████████████████████████████████| 1000/1000 [00:02<00:00, 359.45it/s]\n",
      "Training: 100%|████████████████████████████████████████████████████████████████████████████████| 1000/1000 [00:02<00:00, 356.79it/s]\n",
      "Training: 100%|████████████████████████████████████████████████████████████████████████████████| 1000/1000 [00:02<00:00, 349.63it/s]\n",
      "Training: 100%|████████████████████████████████████████████████████████████████████████████████| 1000/1000 [00:02<00:00, 353.37it/s]\n",
      "Testing 16x16: 100%|████████████████████████████████████████████████████████████████████████████| 100/100 [00:00<00:00, 2070.21it/s]\n"
     ]
    },
    {
     "name": "stdout",
     "output_type": "stream",
     "text": [
      "\n",
      "16x16 Results:\n",
      "Accuracy: 30.00%\n",
      "Avg prediction | Perc: 0.689\n",
      "Avg prediction | Non-Perc: 0.952\n"
     ]
    },
    {
     "name": "stderr",
     "output_type": "stream",
     "text": [
      "Testing 64x64: 100%|████████████████████████████████████████████████████████████████████████████| 100/100 [00:00<00:00, 1307.81it/s]\n"
     ]
    },
    {
     "name": "stdout",
     "output_type": "stream",
     "text": [
      "\n",
      "64x64 Results:\n",
      "Accuracy: 91.00%\n",
      "Avg prediction | Perc: 0.772\n",
      "Avg prediction | Non-Perc: 0.108\n"
     ]
    },
    {
     "name": "stderr",
     "output_type": "stream",
     "text": [
      "Testing 256x256: 100%|███████████████████████████████████████████████████████████████████████████| 100/100 [00:00<00:00, 264.46it/s]\n"
     ]
    },
    {
     "name": "stdout",
     "output_type": "stream",
     "text": [
      "\n",
      "256x256 Results:\n",
      "Accuracy: 15.00%\n",
      "Avg prediction | Perc: 0.419\n",
      "Avg prediction | Non-Perc: 0.750\n"
     ]
    },
    {
     "name": "stderr",
     "output_type": "stream",
     "text": [
      "Testing 64x64: 100%|████████████████████████████████████████████████████████████████████████████| 200/200 [00:00<00:00, 1130.27it/s]"
     ]
    },
    {
     "name": "stdout",
     "output_type": "stream",
     "text": [
      "\n",
      "64x64 Results:\n",
      "Accuracy: 62.00%\n",
      "Avg prediction | Perc: 0.604\n",
      "Avg prediction | Non-Perc: 0.507\n"
     ]
    },
    {
     "name": "stderr",
     "output_type": "stream",
     "text": [
      "\n"
     ]
    },
    {
     "name": "stdout",
     "output_type": "stream",
     "text": [
      "\n",
      "Running 4^3 - Run 2/10\n"
     ]
    },
    {
     "name": "stderr",
     "output_type": "stream",
     "text": [
      "Generating data: 100%|██████████████████████████████████████████████████████████████████████| 10000/10000 [00:02<00:00, 4272.20it/s]\n",
      "Training: 100%|████████████████████████████████████████████████████████████████████████████████| 1000/1000 [00:02<00:00, 362.31it/s]\n",
      "Training: 100%|████████████████████████████████████████████████████████████████████████████████| 1000/1000 [00:02<00:00, 355.60it/s]\n",
      "Training: 100%|████████████████████████████████████████████████████████████████████████████████| 1000/1000 [00:02<00:00, 349.95it/s]\n",
      "Training: 100%|████████████████████████████████████████████████████████████████████████████████| 1000/1000 [00:02<00:00, 345.18it/s]\n",
      "Training: 100%|████████████████████████████████████████████████████████████████████████████████| 1000/1000 [00:02<00:00, 354.61it/s]\n",
      "Testing 16x16: 100%|████████████████████████████████████████████████████████████████████████████| 100/100 [00:00<00:00, 2206.33it/s]\n"
     ]
    },
    {
     "name": "stdout",
     "output_type": "stream",
     "text": [
      "\n",
      "16x16 Results:\n",
      "Accuracy: 37.00%\n",
      "Avg prediction | Perc: 0.112\n",
      "Avg prediction | Non-Perc: 0.391\n"
     ]
    },
    {
     "name": "stderr",
     "output_type": "stream",
     "text": [
      "Testing 64x64: 100%|████████████████████████████████████████████████████████████████████████████| 100/100 [00:00<00:00, 1238.27it/s]\n"
     ]
    },
    {
     "name": "stdout",
     "output_type": "stream",
     "text": [
      "\n",
      "64x64 Results:\n",
      "Accuracy: 97.00%\n",
      "Avg prediction | Perc: 0.883\n",
      "Avg prediction | Non-Perc: 0.091\n"
     ]
    },
    {
     "name": "stderr",
     "output_type": "stream",
     "text": [
      "Testing 256x256: 100%|███████████████████████████████████████████████████████████████████████████| 100/100 [00:00<00:00, 274.94it/s]\n"
     ]
    },
    {
     "name": "stdout",
     "output_type": "stream",
     "text": [
      "\n",
      "256x256 Results:\n",
      "Accuracy: 32.00%\n",
      "Avg prediction | Perc: 0.494\n",
      "Avg prediction | Non-Perc: 0.924\n"
     ]
    },
    {
     "name": "stderr",
     "output_type": "stream",
     "text": [
      "Testing 64x64: 100%|████████████████████████████████████████████████████████████████████████████| 200/200 [00:00<00:00, 1227.06it/s]"
     ]
    },
    {
     "name": "stdout",
     "output_type": "stream",
     "text": [
      "\n",
      "64x64 Results:\n",
      "Accuracy: 74.00%\n",
      "Avg prediction | Perc: 0.741\n",
      "Avg prediction | Non-Perc: 0.668\n"
     ]
    },
    {
     "name": "stderr",
     "output_type": "stream",
     "text": [
      "\n"
     ]
    },
    {
     "name": "stdout",
     "output_type": "stream",
     "text": [
      "\n",
      "Running 4^3 - Run 3/10\n"
     ]
    },
    {
     "name": "stderr",
     "output_type": "stream",
     "text": [
      "Generating data: 100%|██████████████████████████████████████████████████████████████████████| 10000/10000 [00:02<00:00, 4267.15it/s]\n",
      "Training: 100%|████████████████████████████████████████████████████████████████████████████████| 1000/1000 [00:02<00:00, 365.59it/s]\n",
      "Training: 100%|████████████████████████████████████████████████████████████████████████████████| 1000/1000 [00:02<00:00, 357.84it/s]\n",
      "Training: 100%|████████████████████████████████████████████████████████████████████████████████| 1000/1000 [00:02<00:00, 358.20it/s]\n",
      "Training: 100%|████████████████████████████████████████████████████████████████████████████████| 1000/1000 [00:02<00:00, 358.25it/s]\n",
      "Training: 100%|████████████████████████████████████████████████████████████████████████████████| 1000/1000 [00:02<00:00, 357.59it/s]\n",
      "Testing 16x16: 100%|████████████████████████████████████████████████████████████████████████████| 100/100 [00:00<00:00, 2255.04it/s]\n"
     ]
    },
    {
     "name": "stdout",
     "output_type": "stream",
     "text": [
      "\n",
      "16x16 Results:\n",
      "Accuracy: 34.00%\n",
      "Avg prediction | Perc: 0.663\n",
      "Avg prediction | Non-Perc: 0.948\n"
     ]
    },
    {
     "name": "stderr",
     "output_type": "stream",
     "text": [
      "Testing 64x64: 100%|████████████████████████████████████████████████████████████████████████████| 100/100 [00:00<00:00, 1245.73it/s]\n"
     ]
    },
    {
     "name": "stdout",
     "output_type": "stream",
     "text": [
      "\n",
      "64x64 Results:\n",
      "Accuracy: 92.00%\n",
      "Avg prediction | Perc: 0.707\n",
      "Avg prediction | Non-Perc: 0.120\n"
     ]
    },
    {
     "name": "stderr",
     "output_type": "stream",
     "text": [
      "Testing 256x256: 100%|███████████████████████████████████████████████████████████████████████████| 100/100 [00:00<00:00, 275.55it/s]\n"
     ]
    },
    {
     "name": "stdout",
     "output_type": "stream",
     "text": [
      "\n",
      "256x256 Results:\n",
      "Accuracy: 27.00%\n",
      "Avg prediction | Perc: 0.404\n",
      "Avg prediction | Non-Perc: 0.757\n"
     ]
    },
    {
     "name": "stderr",
     "output_type": "stream",
     "text": [
      "Testing 64x64: 100%|████████████████████████████████████████████████████████████████████████████| 200/200 [00:00<00:00, 1265.57it/s]"
     ]
    },
    {
     "name": "stdout",
     "output_type": "stream",
     "text": [
      "\n",
      "64x64 Results:\n",
      "Accuracy: 54.00%\n",
      "Avg prediction | Perc: 0.460\n",
      "Avg prediction | Non-Perc: 0.366\n"
     ]
    },
    {
     "name": "stderr",
     "output_type": "stream",
     "text": [
      "\n"
     ]
    },
    {
     "name": "stdout",
     "output_type": "stream",
     "text": [
      "\n",
      "Running 4^3 - Run 4/10\n"
     ]
    },
    {
     "name": "stderr",
     "output_type": "stream",
     "text": [
      "Generating data: 100%|██████████████████████████████████████████████████████████████████████| 10000/10000 [00:02<00:00, 4281.83it/s]\n",
      "Training: 100%|████████████████████████████████████████████████████████████████████████████████| 1000/1000 [00:02<00:00, 366.09it/s]\n",
      "Training: 100%|████████████████████████████████████████████████████████████████████████████████| 1000/1000 [00:02<00:00, 339.78it/s]\n",
      "Training: 100%|████████████████████████████████████████████████████████████████████████████████| 1000/1000 [00:02<00:00, 355.04it/s]\n",
      "Training: 100%|████████████████████████████████████████████████████████████████████████████████| 1000/1000 [00:02<00:00, 355.76it/s]\n",
      "Training: 100%|████████████████████████████████████████████████████████████████████████████████| 1000/1000 [00:02<00:00, 358.80it/s]\n",
      "Testing 16x16: 100%|████████████████████████████████████████████████████████████████████████████| 100/100 [00:00<00:00, 2318.40it/s]\n"
     ]
    },
    {
     "name": "stdout",
     "output_type": "stream",
     "text": [
      "\n",
      "16x16 Results:\n",
      "Accuracy: 39.00%\n",
      "Avg prediction | Perc: 0.117\n",
      "Avg prediction | Non-Perc: 0.459\n"
     ]
    },
    {
     "name": "stderr",
     "output_type": "stream",
     "text": [
      "Testing 64x64: 100%|████████████████████████████████████████████████████████████████████████████| 100/100 [00:00<00:00, 1272.00it/s]\n"
     ]
    },
    {
     "name": "stdout",
     "output_type": "stream",
     "text": [
      "\n",
      "64x64 Results:\n",
      "Accuracy: 99.00%\n",
      "Avg prediction | Perc: 0.877\n",
      "Avg prediction | Non-Perc: 0.090\n"
     ]
    },
    {
     "name": "stderr",
     "output_type": "stream",
     "text": [
      "Testing 256x256: 100%|███████████████████████████████████████████████████████████████████████████| 100/100 [00:00<00:00, 273.55it/s]\n"
     ]
    },
    {
     "name": "stdout",
     "output_type": "stream",
     "text": [
      "\n",
      "256x256 Results:\n",
      "Accuracy: 21.00%\n",
      "Avg prediction | Perc: 0.433\n",
      "Avg prediction | Non-Perc: 0.899\n"
     ]
    },
    {
     "name": "stderr",
     "output_type": "stream",
     "text": [
      "Testing 64x64: 100%|████████████████████████████████████████████████████████████████████████████| 200/200 [00:00<00:00, 1282.98it/s]"
     ]
    },
    {
     "name": "stdout",
     "output_type": "stream",
     "text": [
      "\n",
      "64x64 Results:\n",
      "Accuracy: 63.50%\n",
      "Avg prediction | Perc: 0.538\n",
      "Avg prediction | Non-Perc: 0.430\n"
     ]
    },
    {
     "name": "stderr",
     "output_type": "stream",
     "text": [
      "\n"
     ]
    },
    {
     "name": "stdout",
     "output_type": "stream",
     "text": [
      "\n",
      "Running 4^3 - Run 5/10\n"
     ]
    },
    {
     "name": "stderr",
     "output_type": "stream",
     "text": [
      "Generating data: 100%|██████████████████████████████████████████████████████████████████████| 10000/10000 [00:02<00:00, 4250.28it/s]\n",
      "Training: 100%|████████████████████████████████████████████████████████████████████████████████| 1000/1000 [00:02<00:00, 367.45it/s]\n",
      "Training: 100%|████████████████████████████████████████████████████████████████████████████████| 1000/1000 [00:02<00:00, 357.53it/s]\n",
      "Training: 100%|████████████████████████████████████████████████████████████████████████████████| 1000/1000 [00:02<00:00, 358.16it/s]\n",
      "Training: 100%|████████████████████████████████████████████████████████████████████████████████| 1000/1000 [00:02<00:00, 357.07it/s]\n",
      "Training: 100%|████████████████████████████████████████████████████████████████████████████████| 1000/1000 [00:02<00:00, 356.49it/s]\n",
      "Testing 16x16: 100%|████████████████████████████████████████████████████████████████████████████| 100/100 [00:00<00:00, 2275.75it/s]\n"
     ]
    },
    {
     "name": "stdout",
     "output_type": "stream",
     "text": [
      "\n",
      "16x16 Results:\n",
      "Accuracy: 33.00%\n",
      "Avg prediction | Perc: 0.085\n",
      "Avg prediction | Non-Perc: 0.475\n"
     ]
    },
    {
     "name": "stderr",
     "output_type": "stream",
     "text": [
      "Testing 64x64: 100%|████████████████████████████████████████████████████████████████████████████| 100/100 [00:00<00:00, 1272.59it/s]\n"
     ]
    },
    {
     "name": "stdout",
     "output_type": "stream",
     "text": [
      "\n",
      "64x64 Results:\n",
      "Accuracy: 99.00%\n",
      "Avg prediction | Perc: 0.919\n",
      "Avg prediction | Non-Perc: 0.098\n"
     ]
    },
    {
     "name": "stderr",
     "output_type": "stream",
     "text": [
      "Testing 256x256: 100%|███████████████████████████████████████████████████████████████████████████| 100/100 [00:00<00:00, 272.61it/s]\n"
     ]
    },
    {
     "name": "stdout",
     "output_type": "stream",
     "text": [
      "\n",
      "256x256 Results:\n",
      "Accuracy: 38.00%\n",
      "Avg prediction | Perc: 0.498\n",
      "Avg prediction | Non-Perc: 0.900\n"
     ]
    },
    {
     "name": "stderr",
     "output_type": "stream",
     "text": [
      "Testing 64x64: 100%|████████████████████████████████████████████████████████████████████████████| 200/200 [00:00<00:00, 1260.27it/s]"
     ]
    },
    {
     "name": "stdout",
     "output_type": "stream",
     "text": [
      "\n",
      "64x64 Results:\n",
      "Accuracy: 68.00%\n",
      "Avg prediction | Perc: 0.680\n",
      "Avg prediction | Non-Perc: 0.617\n"
     ]
    },
    {
     "name": "stderr",
     "output_type": "stream",
     "text": [
      "\n"
     ]
    },
    {
     "name": "stdout",
     "output_type": "stream",
     "text": [
      "\n",
      "Running 4^3 - Run 6/10\n"
     ]
    },
    {
     "name": "stderr",
     "output_type": "stream",
     "text": [
      "Generating data: 100%|██████████████████████████████████████████████████████████████████████| 10000/10000 [00:02<00:00, 4272.08it/s]\n",
      "Training: 100%|████████████████████████████████████████████████████████████████████████████████| 1000/1000 [00:02<00:00, 365.39it/s]\n",
      "Training: 100%|████████████████████████████████████████████████████████████████████████████████| 1000/1000 [00:02<00:00, 358.23it/s]\n",
      "Training: 100%|████████████████████████████████████████████████████████████████████████████████| 1000/1000 [00:02<00:00, 345.94it/s]\n",
      "Training: 100%|████████████████████████████████████████████████████████████████████████████████| 1000/1000 [00:02<00:00, 357.91it/s]\n",
      "Training: 100%|████████████████████████████████████████████████████████████████████████████████| 1000/1000 [00:02<00:00, 359.12it/s]\n",
      "Testing 16x16: 100%|████████████████████████████████████████████████████████████████████████████| 100/100 [00:00<00:00, 2209.11it/s]\n"
     ]
    },
    {
     "name": "stdout",
     "output_type": "stream",
     "text": [
      "\n",
      "16x16 Results:\n",
      "Accuracy: 35.00%\n",
      "Avg prediction | Perc: 0.130\n",
      "Avg prediction | Non-Perc: 0.472\n"
     ]
    },
    {
     "name": "stderr",
     "output_type": "stream",
     "text": [
      "Testing 64x64: 100%|████████████████████████████████████████████████████████████████████████████| 100/100 [00:00<00:00, 1276.19it/s]\n"
     ]
    },
    {
     "name": "stdout",
     "output_type": "stream",
     "text": [
      "\n",
      "64x64 Results:\n",
      "Accuracy: 98.00%\n",
      "Avg prediction | Perc: 0.889\n",
      "Avg prediction | Non-Perc: 0.076\n"
     ]
    },
    {
     "name": "stderr",
     "output_type": "stream",
     "text": [
      "Testing 256x256: 100%|███████████████████████████████████████████████████████████████████████████| 100/100 [00:00<00:00, 275.90it/s]\n"
     ]
    },
    {
     "name": "stdout",
     "output_type": "stream",
     "text": [
      "\n",
      "256x256 Results:\n",
      "Accuracy: 3.00%\n",
      "Avg prediction | Perc: 0.361\n",
      "Avg prediction | Non-Perc: 0.954\n"
     ]
    },
    {
     "name": "stderr",
     "output_type": "stream",
     "text": [
      "Testing 64x64: 100%|████████████████████████████████████████████████████████████████████████████| 200/200 [00:00<00:00, 1266.85it/s]"
     ]
    },
    {
     "name": "stdout",
     "output_type": "stream",
     "text": [
      "\n",
      "64x64 Results:\n",
      "Accuracy: 28.50%\n",
      "Avg prediction | Perc: 0.244\n",
      "Avg prediction | Non-Perc: 0.180\n"
     ]
    },
    {
     "name": "stderr",
     "output_type": "stream",
     "text": [
      "\n"
     ]
    },
    {
     "name": "stdout",
     "output_type": "stream",
     "text": [
      "\n",
      "Running 4^3 - Run 7/10\n"
     ]
    },
    {
     "name": "stderr",
     "output_type": "stream",
     "text": [
      "Generating data: 100%|██████████████████████████████████████████████████████████████████████| 10000/10000 [00:02<00:00, 4270.37it/s]\n",
      "Training: 100%|████████████████████████████████████████████████████████████████████████████████| 1000/1000 [00:02<00:00, 361.72it/s]\n",
      "Training: 100%|████████████████████████████████████████████████████████████████████████████████| 1000/1000 [00:02<00:00, 355.56it/s]\n",
      "Training: 100%|████████████████████████████████████████████████████████████████████████████████| 1000/1000 [00:02<00:00, 350.34it/s]\n",
      "Training: 100%|████████████████████████████████████████████████████████████████████████████████| 1000/1000 [00:02<00:00, 358.26it/s]\n",
      "Training: 100%|████████████████████████████████████████████████████████████████████████████████| 1000/1000 [00:02<00:00, 356.47it/s]\n",
      "Testing 16x16: 100%|████████████████████████████████████████████████████████████████████████████| 100/100 [00:00<00:00, 2149.67it/s]\n"
     ]
    },
    {
     "name": "stdout",
     "output_type": "stream",
     "text": [
      "\n",
      "16x16 Results:\n",
      "Accuracy: 29.00%\n",
      "Avg prediction | Perc: 0.611\n",
      "Avg prediction | Non-Perc: 0.952\n"
     ]
    },
    {
     "name": "stderr",
     "output_type": "stream",
     "text": [
      "Testing 64x64: 100%|████████████████████████████████████████████████████████████████████████████| 100/100 [00:00<00:00, 1262.14it/s]\n"
     ]
    },
    {
     "name": "stdout",
     "output_type": "stream",
     "text": [
      "\n",
      "64x64 Results:\n",
      "Accuracy: 91.00%\n",
      "Avg prediction | Perc: 0.772\n",
      "Avg prediction | Non-Perc: 0.124\n"
     ]
    },
    {
     "name": "stderr",
     "output_type": "stream",
     "text": [
      "Testing 256x256: 100%|███████████████████████████████████████████████████████████████████████████| 100/100 [00:00<00:00, 274.11it/s]\n"
     ]
    },
    {
     "name": "stdout",
     "output_type": "stream",
     "text": [
      "\n",
      "256x256 Results:\n",
      "Accuracy: 11.00%\n",
      "Avg prediction | Perc: 0.306\n",
      "Avg prediction | Non-Perc: 0.803\n"
     ]
    },
    {
     "name": "stderr",
     "output_type": "stream",
     "text": [
      "Testing 64x64: 100%|████████████████████████████████████████████████████████████████████████████| 200/200 [00:00<00:00, 1270.26it/s]"
     ]
    },
    {
     "name": "stdout",
     "output_type": "stream",
     "text": [
      "\n",
      "64x64 Results:\n",
      "Accuracy: 67.50%\n",
      "Avg prediction | Perc: 0.672\n",
      "Avg prediction | Non-Perc: 0.589\n"
     ]
    },
    {
     "name": "stderr",
     "output_type": "stream",
     "text": [
      "\n"
     ]
    },
    {
     "name": "stdout",
     "output_type": "stream",
     "text": [
      "\n",
      "Running 4^3 - Run 8/10\n"
     ]
    },
    {
     "name": "stderr",
     "output_type": "stream",
     "text": [
      "Generating data: 100%|██████████████████████████████████████████████████████████████████████| 10000/10000 [00:02<00:00, 4256.31it/s]\n",
      "Training: 100%|████████████████████████████████████████████████████████████████████████████████| 1000/1000 [00:02<00:00, 362.60it/s]\n",
      "Training: 100%|████████████████████████████████████████████████████████████████████████████████| 1000/1000 [00:02<00:00, 357.30it/s]\n",
      "Training: 100%|████████████████████████████████████████████████████████████████████████████████| 1000/1000 [00:02<00:00, 356.87it/s]\n",
      "Training: 100%|████████████████████████████████████████████████████████████████████████████████| 1000/1000 [00:02<00:00, 355.73it/s]\n",
      "Training: 100%|████████████████████████████████████████████████████████████████████████████████| 1000/1000 [00:03<00:00, 277.67it/s]\n",
      "Testing 16x16: 100%|████████████████████████████████████████████████████████████████████████████| 100/100 [00:00<00:00, 1925.16it/s]\n"
     ]
    },
    {
     "name": "stdout",
     "output_type": "stream",
     "text": [
      "\n",
      "16x16 Results:\n",
      "Accuracy: 31.00%\n",
      "Avg prediction | Perc: 0.612\n",
      "Avg prediction | Non-Perc: 0.958\n"
     ]
    },
    {
     "name": "stderr",
     "output_type": "stream",
     "text": [
      "Testing 64x64: 100%|████████████████████████████████████████████████████████████████████████████| 100/100 [00:00<00:00, 1185.64it/s]\n"
     ]
    },
    {
     "name": "stdout",
     "output_type": "stream",
     "text": [
      "\n",
      "64x64 Results:\n",
      "Accuracy: 94.00%\n",
      "Avg prediction | Perc: 0.804\n",
      "Avg prediction | Non-Perc: 0.089\n"
     ]
    },
    {
     "name": "stderr",
     "output_type": "stream",
     "text": [
      "Testing 256x256: 100%|███████████████████████████████████████████████████████████████████████████| 100/100 [00:00<00:00, 257.58it/s]\n"
     ]
    },
    {
     "name": "stdout",
     "output_type": "stream",
     "text": [
      "\n",
      "256x256 Results:\n",
      "Accuracy: 14.00%\n",
      "Avg prediction | Perc: 0.283\n",
      "Avg prediction | Non-Perc: 0.683\n"
     ]
    },
    {
     "name": "stderr",
     "output_type": "stream",
     "text": [
      "Testing 64x64: 100%|████████████████████████████████████████████████████████████████████████████| 200/200 [00:00<00:00, 1158.77it/s]\n"
     ]
    },
    {
     "name": "stdout",
     "output_type": "stream",
     "text": [
      "\n",
      "64x64 Results:\n",
      "Accuracy: 67.00%\n",
      "Avg prediction | Perc: 0.641\n",
      "Avg prediction | Non-Perc: 0.534\n",
      "\n",
      "Running 4^3 - Run 9/10\n"
     ]
    },
    {
     "name": "stderr",
     "output_type": "stream",
     "text": [
      "Generating data: 100%|██████████████████████████████████████████████████████████████████████| 10000/10000 [00:02<00:00, 4164.99it/s]\n",
      "Training: 100%|████████████████████████████████████████████████████████████████████████████████| 1000/1000 [00:02<00:00, 340.95it/s]\n",
      "Training: 100%|████████████████████████████████████████████████████████████████████████████████| 1000/1000 [00:03<00:00, 329.35it/s]\n",
      "Training: 100%|████████████████████████████████████████████████████████████████████████████████| 1000/1000 [00:03<00:00, 329.57it/s]\n",
      "Training: 100%|████████████████████████████████████████████████████████████████████████████████| 1000/1000 [00:03<00:00, 325.79it/s]\n",
      "Training: 100%|████████████████████████████████████████████████████████████████████████████████| 1000/1000 [00:02<00:00, 333.81it/s]\n",
      "Testing 16x16: 100%|████████████████████████████████████████████████████████████████████████████| 100/100 [00:00<00:00, 2011.07it/s]\n"
     ]
    },
    {
     "name": "stdout",
     "output_type": "stream",
     "text": [
      "\n",
      "16x16 Results:\n",
      "Accuracy: 31.00%\n",
      "Avg prediction | Perc: 0.085\n",
      "Avg prediction | Non-Perc: 0.421\n"
     ]
    },
    {
     "name": "stderr",
     "output_type": "stream",
     "text": [
      "Testing 64x64: 100%|████████████████████████████████████████████████████████████████████████████| 100/100 [00:00<00:00, 1136.75it/s]\n"
     ]
    },
    {
     "name": "stdout",
     "output_type": "stream",
     "text": [
      "\n",
      "64x64 Results:\n",
      "Accuracy: 96.00%\n",
      "Avg prediction | Perc: 0.958\n",
      "Avg prediction | Non-Perc: 0.119\n"
     ]
    },
    {
     "name": "stderr",
     "output_type": "stream",
     "text": [
      "Testing 256x256: 100%|███████████████████████████████████████████████████████████████████████████| 100/100 [00:00<00:00, 233.44it/s]\n"
     ]
    },
    {
     "name": "stdout",
     "output_type": "stream",
     "text": [
      "\n",
      "256x256 Results:\n",
      "Accuracy: 39.00%\n",
      "Avg prediction | Perc: 0.532\n",
      "Avg prediction | Non-Perc: 0.887\n"
     ]
    },
    {
     "name": "stderr",
     "output_type": "stream",
     "text": [
      "Testing 64x64: 100%|████████████████████████████████████████████████████████████████████████████| 200/200 [00:00<00:00, 1141.06it/s]"
     ]
    },
    {
     "name": "stdout",
     "output_type": "stream",
     "text": [
      "\n",
      "64x64 Results:\n",
      "Accuracy: 67.50%\n",
      "Avg prediction | Perc: 0.817\n",
      "Avg prediction | Non-Perc: 0.755\n"
     ]
    },
    {
     "name": "stderr",
     "output_type": "stream",
     "text": [
      "\n"
     ]
    },
    {
     "name": "stdout",
     "output_type": "stream",
     "text": [
      "\n",
      "Running 4^3 - Run 10/10\n"
     ]
    },
    {
     "name": "stderr",
     "output_type": "stream",
     "text": [
      "Generating data: 100%|██████████████████████████████████████████████████████████████████████| 10000/10000 [00:02<00:00, 4133.17it/s]\n",
      "Training: 100%|████████████████████████████████████████████████████████████████████████████████| 1000/1000 [00:02<00:00, 337.55it/s]\n",
      "Training: 100%|████████████████████████████████████████████████████████████████████████████████| 1000/1000 [00:02<00:00, 335.07it/s]\n",
      "Training: 100%|████████████████████████████████████████████████████████████████████████████████| 1000/1000 [00:03<00:00, 332.05it/s]\n",
      "Training: 100%|████████████████████████████████████████████████████████████████████████████████| 1000/1000 [00:03<00:00, 328.86it/s]\n",
      "Training: 100%|████████████████████████████████████████████████████████████████████████████████| 1000/1000 [00:03<00:00, 322.26it/s]\n",
      "Testing 16x16: 100%|████████████████████████████████████████████████████████████████████████████| 100/100 [00:00<00:00, 2089.13it/s]\n"
     ]
    },
    {
     "name": "stdout",
     "output_type": "stream",
     "text": [
      "\n",
      "16x16 Results:\n",
      "Accuracy: 98.00%\n",
      "Avg prediction | Perc: 0.873\n",
      "Avg prediction | Non-Perc: 0.037\n"
     ]
    },
    {
     "name": "stderr",
     "output_type": "stream",
     "text": [
      "Testing 64x64: 100%|████████████████████████████████████████████████████████████████████████████| 100/100 [00:00<00:00, 1188.79it/s]\n"
     ]
    },
    {
     "name": "stdout",
     "output_type": "stream",
     "text": [
      "\n",
      "64x64 Results:\n",
      "Accuracy: 97.00%\n",
      "Avg prediction | Perc: 0.902\n",
      "Avg prediction | Non-Perc: 0.012\n"
     ]
    },
    {
     "name": "stderr",
     "output_type": "stream",
     "text": [
      "Testing 256x256: 100%|███████████████████████████████████████████████████████████████████████████| 100/100 [00:00<00:00, 258.11it/s]\n"
     ]
    },
    {
     "name": "stdout",
     "output_type": "stream",
     "text": [
      "\n",
      "256x256 Results:\n",
      "Accuracy: 98.00%\n",
      "Avg prediction | Perc: 0.980\n",
      "Avg prediction | Non-Perc: 0.039\n"
     ]
    },
    {
     "name": "stderr",
     "output_type": "stream",
     "text": [
      "Testing 64x64: 100%|█████████████████████████████████████████████████████████████████████████████| 200/200 [00:00<00:00, 995.03it/s]\n"
     ]
    },
    {
     "name": "stdout",
     "output_type": "stream",
     "text": [
      "\n",
      "64x64 Results:\n",
      "Accuracy: 71.00%\n",
      "Avg prediction | Perc: 0.667\n",
      "Avg prediction | Non-Perc: 0.557\n",
      "\n",
      "Running 4^4 - Run 1/10\n"
     ]
    },
    {
     "name": "stderr",
     "output_type": "stream",
     "text": [
      "Generating data: 100%|███████████████████████████████████████████████████████████████████████| 10000/10000 [00:22<00:00, 454.46it/s]\n",
      "Training: 100%|█████████████████████████████████████████████████████████████████████████████████| 1000/1000 [00:40<00:00, 24.40it/s]\n",
      "Training: 100%|█████████████████████████████████████████████████████████████████████████████████| 1000/1000 [00:41<00:00, 23.97it/s]\n",
      "Training: 100%|█████████████████████████████████████████████████████████████████████████████████| 1000/1000 [00:41<00:00, 24.37it/s]\n",
      "Training: 100%|█████████████████████████████████████████████████████████████████████████████████| 1000/1000 [00:43<00:00, 23.25it/s]\n",
      "Training: 100%|█████████████████████████████████████████████████████████████████████████████████| 1000/1000 [00:44<00:00, 22.24it/s]\n",
      "Testing 64x64: 100%|█████████████████████████████████████████████████████████████████████████████| 100/100 [00:00<00:00, 791.41it/s]\n"
     ]
    },
    {
     "name": "stdout",
     "output_type": "stream",
     "text": [
      "\n",
      "64x64 Results:\n",
      "Accuracy: 1.00%\n",
      "Avg prediction | Perc: 0.039\n",
      "Avg prediction | Non-Perc: 0.991\n"
     ]
    },
    {
     "name": "stderr",
     "output_type": "stream",
     "text": [
      "Testing 256x256: 100%|███████████████████████████████████████████████████████████████████████████| 100/100 [00:00<00:00, 191.12it/s]\n"
     ]
    },
    {
     "name": "stdout",
     "output_type": "stream",
     "text": [
      "\n",
      "256x256 Results:\n",
      "Accuracy: 98.00%\n",
      "Avg prediction | Perc: 0.951\n",
      "Avg prediction | Non-Perc: 0.004\n"
     ]
    },
    {
     "name": "stderr",
     "output_type": "stream",
     "text": [
      "Testing 1024x1024: 100%|██████████████████████████████████████████████████████████████████████████| 100/100 [00:05<00:00, 16.74it/s]\n"
     ]
    },
    {
     "name": "stdout",
     "output_type": "stream",
     "text": [
      "\n",
      "1024x1024 Results:\n",
      "Accuracy: 1.00%\n",
      "Avg prediction | Perc: 0.031\n",
      "Avg prediction | Non-Perc: 0.998\n"
     ]
    },
    {
     "name": "stderr",
     "output_type": "stream",
     "text": [
      "Testing 256x256: 100%|███████████████████████████████████████████████████████████████████████████| 200/200 [00:01<00:00, 186.30it/s]\n"
     ]
    },
    {
     "name": "stdout",
     "output_type": "stream",
     "text": [
      "\n",
      "256x256 Results:\n",
      "Accuracy: 72.50%\n",
      "Avg prediction | Perc: 0.554\n",
      "Avg prediction | Non-Perc: 0.161\n",
      "\n",
      "Running 4^4 - Run 2/10\n"
     ]
    },
    {
     "name": "stderr",
     "output_type": "stream",
     "text": [
      "Generating data: 100%|███████████████████████████████████████████████████████████████████████| 10000/10000 [00:24<00:00, 408.93it/s]\n",
      "Training: 100%|█████████████████████████████████████████████████████████████████████████████████| 1000/1000 [00:41<00:00, 24.03it/s]\n",
      "Training: 100%|█████████████████████████████████████████████████████████████████████████████████| 1000/1000 [00:42<00:00, 23.27it/s]\n",
      "Training: 100%|█████████████████████████████████████████████████████████████████████████████████| 1000/1000 [00:42<00:00, 23.78it/s]\n",
      "Training: 100%|█████████████████████████████████████████████████████████████████████████████████| 1000/1000 [00:42<00:00, 23.81it/s]\n",
      "Training: 100%|█████████████████████████████████████████████████████████████████████████████████| 1000/1000 [00:38<00:00, 25.75it/s]\n",
      "Testing 64x64: 100%|█████████████████████████████████████████████████████████████████████████████| 100/100 [00:00<00:00, 728.65it/s]\n"
     ]
    },
    {
     "name": "stdout",
     "output_type": "stream",
     "text": [
      "\n",
      "64x64 Results:\n",
      "Accuracy: 0.00%\n",
      "Avg prediction | Perc: 0.030\n",
      "Avg prediction | Non-Perc: 0.969\n"
     ]
    },
    {
     "name": "stderr",
     "output_type": "stream",
     "text": [
      "Testing 256x256: 100%|███████████████████████████████████████████████████████████████████████████| 100/100 [00:00<00:00, 209.59it/s]\n"
     ]
    },
    {
     "name": "stdout",
     "output_type": "stream",
     "text": [
      "\n",
      "256x256 Results:\n",
      "Accuracy: 99.00%\n",
      "Avg prediction | Perc: 0.980\n",
      "Avg prediction | Non-Perc: 0.024\n"
     ]
    },
    {
     "name": "stderr",
     "output_type": "stream",
     "text": [
      "Testing 1024x1024: 100%|██████████████████████████████████████████████████████████████████████████| 100/100 [00:07<00:00, 12.65it/s]\n"
     ]
    },
    {
     "name": "stdout",
     "output_type": "stream",
     "text": [
      "\n",
      "1024x1024 Results:\n",
      "Accuracy: 2.00%\n",
      "Avg prediction | Perc: 0.003\n",
      "Avg prediction | Non-Perc: 0.965\n"
     ]
    },
    {
     "name": "stderr",
     "output_type": "stream",
     "text": [
      "Testing 256x256: 100%|███████████████████████████████████████████████████████████████████████████| 200/200 [00:01<00:00, 126.14it/s]\n"
     ]
    },
    {
     "name": "stdout",
     "output_type": "stream",
     "text": [
      "\n",
      "256x256 Results:\n",
      "Accuracy: 73.50%\n",
      "Avg prediction | Perc: 0.938\n",
      "Avg prediction | Non-Perc: 0.761\n",
      "\n",
      "Running 4^4 - Run 3/10\n"
     ]
    },
    {
     "name": "stderr",
     "output_type": "stream",
     "text": [
      "Generating data: 100%|███████████████████████████████████████████████████████████████████████| 10000/10000 [00:23<00:00, 417.88it/s]\n",
      "Training: 100%|█████████████████████████████████████████████████████████████████████████████████| 1000/1000 [00:41<00:00, 23.99it/s]\n",
      "Training: 100%|█████████████████████████████████████████████████████████████████████████████████| 1000/1000 [00:38<00:00, 25.87it/s]\n",
      "Training: 100%|█████████████████████████████████████████████████████████████████████████████████| 1000/1000 [00:39<00:00, 25.16it/s]\n",
      "Training: 100%|█████████████████████████████████████████████████████████████████████████████████| 1000/1000 [00:38<00:00, 25.89it/s]\n",
      "Training: 100%|█████████████████████████████████████████████████████████████████████████████████| 1000/1000 [00:37<00:00, 26.55it/s]\n",
      "Testing 64x64: 100%|█████████████████████████████████████████████████████████████████████████████| 100/100 [00:00<00:00, 670.51it/s]\n"
     ]
    },
    {
     "name": "stdout",
     "output_type": "stream",
     "text": [
      "\n",
      "64x64 Results:\n",
      "Accuracy: 2.00%\n",
      "Avg prediction | Perc: 0.026\n",
      "Avg prediction | Non-Perc: 0.952\n"
     ]
    },
    {
     "name": "stderr",
     "output_type": "stream",
     "text": [
      "Testing 256x256: 100%|███████████████████████████████████████████████████████████████████████████| 100/100 [00:00<00:00, 218.74it/s]\n"
     ]
    },
    {
     "name": "stdout",
     "output_type": "stream",
     "text": [
      "\n",
      "256x256 Results:\n",
      "Accuracy: 100.00%\n",
      "Avg prediction | Perc: 0.998\n",
      "Avg prediction | Non-Perc: 0.010\n"
     ]
    },
    {
     "name": "stderr",
     "output_type": "stream",
     "text": [
      "Testing 1024x1024: 100%|██████████████████████████████████████████████████████████████████████████| 100/100 [00:05<00:00, 17.49it/s]\n"
     ]
    },
    {
     "name": "stdout",
     "output_type": "stream",
     "text": [
      "\n",
      "1024x1024 Results:\n",
      "Accuracy: 0.00%\n",
      "Avg prediction | Perc: 0.003\n",
      "Avg prediction | Non-Perc: 0.998\n"
     ]
    },
    {
     "name": "stderr",
     "output_type": "stream",
     "text": [
      "Testing 256x256: 100%|███████████████████████████████████████████████████████████████████████████| 200/200 [00:00<00:00, 225.57it/s]\n"
     ]
    },
    {
     "name": "stdout",
     "output_type": "stream",
     "text": [
      "\n",
      "256x256 Results:\n",
      "Accuracy: 75.00%\n",
      "Avg prediction | Perc: 0.859\n",
      "Avg prediction | Non-Perc: 0.559\n",
      "\n",
      "Running 4^4 - Run 4/10\n"
     ]
    },
    {
     "name": "stderr",
     "output_type": "stream",
     "text": [
      "Generating data: 100%|███████████████████████████████████████████████████████████████████████| 10000/10000 [00:21<00:00, 471.45it/s]\n",
      "Training: 100%|█████████████████████████████████████████████████████████████████████████████████| 1000/1000 [00:36<00:00, 27.68it/s]\n",
      "Training: 100%|█████████████████████████████████████████████████████████████████████████████████| 1000/1000 [00:39<00:00, 25.36it/s]\n",
      "Training: 100%|█████████████████████████████████████████████████████████████████████████████████| 1000/1000 [00:43<00:00, 23.02it/s]\n",
      "Training: 100%|█████████████████████████████████████████████████████████████████████████████████| 1000/1000 [00:42<00:00, 23.29it/s]\n",
      "Training: 100%|█████████████████████████████████████████████████████████████████████████████████| 1000/1000 [00:41<00:00, 23.91it/s]\n",
      "Testing 64x64: 100%|█████████████████████████████████████████████████████████████████████████████| 100/100 [00:00<00:00, 668.12it/s]\n"
     ]
    },
    {
     "name": "stdout",
     "output_type": "stream",
     "text": [
      "\n",
      "64x64 Results:\n",
      "Accuracy: 4.00%\n",
      "Avg prediction | Perc: 0.016\n",
      "Avg prediction | Non-Perc: 0.941\n"
     ]
    },
    {
     "name": "stderr",
     "output_type": "stream",
     "text": [
      "Testing 256x256: 100%|███████████████████████████████████████████████████████████████████████████| 100/100 [00:00<00:00, 216.17it/s]\n"
     ]
    },
    {
     "name": "stdout",
     "output_type": "stream",
     "text": [
      "\n",
      "256x256 Results:\n",
      "Accuracy: 98.00%\n",
      "Avg prediction | Perc: 0.998\n",
      "Avg prediction | Non-Perc: 0.032\n"
     ]
    },
    {
     "name": "stderr",
     "output_type": "stream",
     "text": [
      "Testing 1024x1024: 100%|██████████████████████████████████████████████████████████████████████████| 100/100 [00:06<00:00, 15.34it/s]\n"
     ]
    },
    {
     "name": "stdout",
     "output_type": "stream",
     "text": [
      "\n",
      "1024x1024 Results:\n",
      "Accuracy: 1.00%\n",
      "Avg prediction | Perc: 0.002\n",
      "Avg prediction | Non-Perc: 0.976\n"
     ]
    },
    {
     "name": "stderr",
     "output_type": "stream",
     "text": [
      "Testing 256x256: 100%|███████████████████████████████████████████████████████████████████████████| 200/200 [00:01<00:00, 175.72it/s]\n"
     ]
    },
    {
     "name": "stdout",
     "output_type": "stream",
     "text": [
      "\n",
      "256x256 Results:\n",
      "Accuracy: 66.00%\n",
      "Avg prediction | Perc: 0.993\n",
      "Avg prediction | Non-Perc: 0.970\n",
      "\n",
      "Running 4^4 - Run 5/10\n"
     ]
    },
    {
     "name": "stderr",
     "output_type": "stream",
     "text": [
      "Generating data: 100%|███████████████████████████████████████████████████████████████████████| 10000/10000 [00:23<00:00, 426.15it/s]\n",
      "Training: 100%|█████████████████████████████████████████████████████████████████████████████████| 1000/1000 [00:42<00:00, 23.68it/s]\n",
      "Training: 100%|█████████████████████████████████████████████████████████████████████████████████| 1000/1000 [00:51<00:00, 19.38it/s]\n",
      "Training: 100%|█████████████████████████████████████████████████████████████████████████████████| 1000/1000 [00:50<00:00, 19.71it/s]\n",
      "Training: 100%|█████████████████████████████████████████████████████████████████████████████████| 1000/1000 [00:52<00:00, 19.16it/s]\n",
      "Training: 100%|█████████████████████████████████████████████████████████████████████████████████| 1000/1000 [00:48<00:00, 20.48it/s]\n",
      "Testing 64x64: 100%|█████████████████████████████████████████████████████████████████████████████| 100/100 [00:00<00:00, 574.13it/s]\n"
     ]
    },
    {
     "name": "stdout",
     "output_type": "stream",
     "text": [
      "\n",
      "64x64 Results:\n",
      "Accuracy: 0.00%\n",
      "Avg prediction | Perc: 0.030\n",
      "Avg prediction | Non-Perc: 0.977\n"
     ]
    },
    {
     "name": "stderr",
     "output_type": "stream",
     "text": [
      "Testing 256x256: 100%|███████████████████████████████████████████████████████████████████████████| 100/100 [00:00<00:00, 173.54it/s]\n"
     ]
    },
    {
     "name": "stdout",
     "output_type": "stream",
     "text": [
      "\n",
      "256x256 Results:\n",
      "Accuracy: 99.00%\n",
      "Avg prediction | Perc: 0.970\n",
      "Avg prediction | Non-Perc: 0.013\n"
     ]
    },
    {
     "name": "stderr",
     "output_type": "stream",
     "text": [
      "Testing 1024x1024: 100%|██████████████████████████████████████████████████████████████████████████| 100/100 [00:06<00:00, 14.29it/s]\n"
     ]
    },
    {
     "name": "stdout",
     "output_type": "stream",
     "text": [
      "\n",
      "1024x1024 Results:\n",
      "Accuracy: 0.00%\n",
      "Avg prediction | Perc: 0.013\n",
      "Avg prediction | Non-Perc: 0.997\n"
     ]
    },
    {
     "name": "stderr",
     "output_type": "stream",
     "text": [
      "Testing 256x256: 100%|███████████████████████████████████████████████████████████████████████████| 200/200 [00:01<00:00, 194.97it/s]\n"
     ]
    },
    {
     "name": "stdout",
     "output_type": "stream",
     "text": [
      "\n",
      "256x256 Results:\n",
      "Accuracy: 83.50%\n",
      "Avg prediction | Perc: 0.712\n",
      "Avg prediction | Non-Perc: 0.327\n",
      "\n",
      "Running 4^4 - Run 6/10\n"
     ]
    },
    {
     "name": "stderr",
     "output_type": "stream",
     "text": [
      "Generating data: 100%|███████████████████████████████████████████████████████████████████████| 10000/10000 [00:22<00:00, 452.07it/s]\n",
      "Training: 100%|█████████████████████████████████████████████████████████████████████████████████| 1000/1000 [00:38<00:00, 26.31it/s]\n",
      "Training: 100%|█████████████████████████████████████████████████████████████████████████████████| 1000/1000 [00:36<00:00, 27.41it/s]\n",
      "Training: 100%|█████████████████████████████████████████████████████████████████████████████████| 1000/1000 [00:35<00:00, 27.79it/s]\n",
      "Training: 100%|█████████████████████████████████████████████████████████████████████████████████| 1000/1000 [00:41<00:00, 24.27it/s]\n",
      "Training: 100%|█████████████████████████████████████████████████████████████████████████████████| 1000/1000 [00:38<00:00, 26.06it/s]\n",
      "Testing 64x64: 100%|█████████████████████████████████████████████████████████████████████████████| 100/100 [00:00<00:00, 702.02it/s]\n"
     ]
    },
    {
     "name": "stdout",
     "output_type": "stream",
     "text": [
      "\n",
      "64x64 Results:\n",
      "Accuracy: 3.00%\n",
      "Avg prediction | Perc: 0.057\n",
      "Avg prediction | Non-Perc: 0.954\n"
     ]
    },
    {
     "name": "stderr",
     "output_type": "stream",
     "text": [
      "Testing 256x256: 100%|███████████████████████████████████████████████████████████████████████████| 100/100 [00:00<00:00, 209.48it/s]\n"
     ]
    },
    {
     "name": "stdout",
     "output_type": "stream",
     "text": [
      "\n",
      "256x256 Results:\n",
      "Accuracy: 100.00%\n",
      "Avg prediction | Perc: 0.997\n",
      "Avg prediction | Non-Perc: 0.013\n"
     ]
    },
    {
     "name": "stderr",
     "output_type": "stream",
     "text": [
      "Testing 1024x1024: 100%|██████████████████████████████████████████████████████████████████████████| 100/100 [00:05<00:00, 17.18it/s]\n"
     ]
    },
    {
     "name": "stdout",
     "output_type": "stream",
     "text": [
      "\n",
      "1024x1024 Results:\n",
      "Accuracy: 0.00%\n",
      "Avg prediction | Perc: 0.002\n",
      "Avg prediction | Non-Perc: 0.988\n"
     ]
    },
    {
     "name": "stderr",
     "output_type": "stream",
     "text": [
      "Testing 256x256: 100%|███████████████████████████████████████████████████████████████████████████| 200/200 [00:00<00:00, 223.29it/s]\n"
     ]
    },
    {
     "name": "stdout",
     "output_type": "stream",
     "text": [
      "\n",
      "256x256 Results:\n",
      "Accuracy: 84.00%\n",
      "Avg prediction | Perc: 0.792\n",
      "Avg prediction | Non-Perc: 0.348\n",
      "\n",
      "Running 4^4 - Run 7/10\n"
     ]
    },
    {
     "name": "stderr",
     "output_type": "stream",
     "text": [
      "Generating data: 100%|███████████████████████████████████████████████████████████████████████| 10000/10000 [00:21<00:00, 469.35it/s]\n",
      "Training: 100%|█████████████████████████████████████████████████████████████████████████████████| 1000/1000 [00:44<00:00, 22.56it/s]\n",
      "Training: 100%|█████████████████████████████████████████████████████████████████████████████████| 1000/1000 [00:51<00:00, 19.32it/s]\n",
      "Training: 100%|█████████████████████████████████████████████████████████████████████████████████| 1000/1000 [00:48<00:00, 20.79it/s]\n",
      "Training: 100%|█████████████████████████████████████████████████████████████████████████████████| 1000/1000 [00:49<00:00, 20.08it/s]\n",
      "Training: 100%|█████████████████████████████████████████████████████████████████████████████████| 1000/1000 [00:47<00:00, 20.90it/s]\n",
      "Testing 64x64: 100%|█████████████████████████████████████████████████████████████████████████████| 100/100 [00:00<00:00, 526.59it/s]\n"
     ]
    },
    {
     "name": "stdout",
     "output_type": "stream",
     "text": [
      "\n",
      "64x64 Results:\n",
      "Accuracy: 2.00%\n",
      "Avg prediction | Perc: 0.062\n",
      "Avg prediction | Non-Perc: 0.978\n"
     ]
    },
    {
     "name": "stderr",
     "output_type": "stream",
     "text": [
      "Testing 256x256: 100%|███████████████████████████████████████████████████████████████████████████| 100/100 [00:00<00:00, 186.66it/s]\n"
     ]
    },
    {
     "name": "stdout",
     "output_type": "stream",
     "text": [
      "\n",
      "256x256 Results:\n",
      "Accuracy: 97.00%\n",
      "Avg prediction | Perc: 0.907\n",
      "Avg prediction | Non-Perc: 0.005\n"
     ]
    },
    {
     "name": "stderr",
     "output_type": "stream",
     "text": [
      "Testing 1024x1024: 100%|██████████████████████████████████████████████████████████████████████████| 100/100 [00:07<00:00, 13.57it/s]\n"
     ]
    },
    {
     "name": "stdout",
     "output_type": "stream",
     "text": [
      "\n",
      "1024x1024 Results:\n",
      "Accuracy: 3.00%\n",
      "Avg prediction | Perc: 0.068\n",
      "Avg prediction | Non-Perc: 0.998\n"
     ]
    },
    {
     "name": "stderr",
     "output_type": "stream",
     "text": [
      "Testing 256x256: 100%|███████████████████████████████████████████████████████████████████████████| 200/200 [00:01<00:00, 178.00it/s]\n"
     ]
    },
    {
     "name": "stdout",
     "output_type": "stream",
     "text": [
      "\n",
      "256x256 Results:\n",
      "Accuracy: 60.50%\n",
      "Avg prediction | Perc: 0.408\n",
      "Avg prediction | Non-Perc: 0.101\n",
      "\n",
      "Running 4^4 - Run 8/10\n"
     ]
    },
    {
     "name": "stderr",
     "output_type": "stream",
     "text": [
      "Generating data: 100%|███████████████████████████████████████████████████████████████████████| 10000/10000 [00:25<00:00, 387.76it/s]\n",
      "Training: 100%|█████████████████████████████████████████████████████████████████████████████████| 1000/1000 [00:48<00:00, 20.80it/s]\n",
      "Training: 100%|█████████████████████████████████████████████████████████████████████████████████| 1000/1000 [00:48<00:00, 20.50it/s]\n",
      "Training: 100%|█████████████████████████████████████████████████████████████████████████████████| 1000/1000 [00:45<00:00, 21.89it/s]\n",
      "Training: 100%|█████████████████████████████████████████████████████████████████████████████████| 1000/1000 [00:57<00:00, 17.33it/s]\n",
      "Training: 100%|█████████████████████████████████████████████████████████████████████████████████| 1000/1000 [00:59<00:00, 16.78it/s]\n",
      "Testing 64x64: 100%|█████████████████████████████████████████████████████████████████████████████| 100/100 [00:00<00:00, 533.41it/s]\n"
     ]
    },
    {
     "name": "stdout",
     "output_type": "stream",
     "text": [
      "\n",
      "64x64 Results:\n",
      "Accuracy: 7.00%\n",
      "Avg prediction | Perc: 0.139\n",
      "Avg prediction | Non-Perc: 0.978\n"
     ]
    },
    {
     "name": "stderr",
     "output_type": "stream",
     "text": [
      "Testing 256x256: 100%|███████████████████████████████████████████████████████████████████████████| 100/100 [00:00<00:00, 196.29it/s]\n"
     ]
    },
    {
     "name": "stdout",
     "output_type": "stream",
     "text": [
      "\n",
      "256x256 Results:\n",
      "Accuracy: 100.00%\n",
      "Avg prediction | Perc: 0.987\n",
      "Avg prediction | Non-Perc: 0.013\n"
     ]
    },
    {
     "name": "stderr",
     "output_type": "stream",
     "text": [
      "Testing 1024x1024: 100%|██████████████████████████████████████████████████████████████████████████| 100/100 [00:06<00:00, 15.25it/s]\n"
     ]
    },
    {
     "name": "stdout",
     "output_type": "stream",
     "text": [
      "\n",
      "1024x1024 Results:\n",
      "Accuracy: 0.00%\n",
      "Avg prediction | Perc: 0.007\n",
      "Avg prediction | Non-Perc: 0.996\n"
     ]
    },
    {
     "name": "stderr",
     "output_type": "stream",
     "text": [
      "Testing 256x256: 100%|███████████████████████████████████████████████████████████████████████████| 200/200 [00:00<00:00, 205.05it/s]\n"
     ]
    },
    {
     "name": "stdout",
     "output_type": "stream",
     "text": [
      "\n",
      "256x256 Results:\n",
      "Accuracy: 81.00%\n",
      "Avg prediction | Perc: 0.652\n",
      "Avg prediction | Non-Perc: 0.239\n",
      "\n",
      "Running 4^4 - Run 9/10\n"
     ]
    },
    {
     "name": "stderr",
     "output_type": "stream",
     "text": [
      "Generating data: 100%|███████████████████████████████████████████████████████████████████████| 10000/10000 [00:26<00:00, 378.49it/s]\n",
      "Training: 100%|█████████████████████████████████████████████████████████████████████████████████| 1000/1000 [00:50<00:00, 19.69it/s]\n",
      "Training: 100%|█████████████████████████████████████████████████████████████████████████████████| 1000/1000 [00:54<00:00, 18.27it/s]\n",
      "Training: 100%|█████████████████████████████████████████████████████████████████████████████████| 1000/1000 [00:53<00:00, 18.84it/s]\n",
      "Training: 100%|█████████████████████████████████████████████████████████████████████████████████| 1000/1000 [00:50<00:00, 19.73it/s]\n",
      "Training: 100%|█████████████████████████████████████████████████████████████████████████████████| 1000/1000 [00:54<00:00, 18.48it/s]\n",
      "Testing 64x64: 100%|█████████████████████████████████████████████████████████████████████████████| 100/100 [00:00<00:00, 499.20it/s]\n"
     ]
    },
    {
     "name": "stdout",
     "output_type": "stream",
     "text": [
      "\n",
      "64x64 Results:\n",
      "Accuracy: 0.00%\n",
      "Avg prediction | Perc: 0.029\n",
      "Avg prediction | Non-Perc: 0.992\n"
     ]
    },
    {
     "name": "stderr",
     "output_type": "stream",
     "text": [
      "Testing 256x256: 100%|███████████████████████████████████████████████████████████████████████████| 100/100 [00:00<00:00, 166.34it/s]\n"
     ]
    },
    {
     "name": "stdout",
     "output_type": "stream",
     "text": [
      "\n",
      "256x256 Results:\n",
      "Accuracy: 97.00%\n",
      "Avg prediction | Perc: 0.956\n",
      "Avg prediction | Non-Perc: 0.011\n"
     ]
    },
    {
     "name": "stderr",
     "output_type": "stream",
     "text": [
      "Testing 1024x1024: 100%|██████████████████████████████████████████████████████████████████████████| 100/100 [00:07<00:00, 14.20it/s]\n"
     ]
    },
    {
     "name": "stdout",
     "output_type": "stream",
     "text": [
      "\n",
      "1024x1024 Results:\n",
      "Accuracy: 1.00%\n",
      "Avg prediction | Perc: 0.026\n",
      "Avg prediction | Non-Perc: 0.999\n"
     ]
    },
    {
     "name": "stderr",
     "output_type": "stream",
     "text": [
      "Testing 256x256: 100%|███████████████████████████████████████████████████████████████████████████| 200/200 [00:01<00:00, 183.32it/s]\n"
     ]
    },
    {
     "name": "stdout",
     "output_type": "stream",
     "text": [
      "\n",
      "256x256 Results:\n",
      "Accuracy: 78.50%\n",
      "Avg prediction | Perc: 0.688\n",
      "Avg prediction | Non-Perc: 0.249\n",
      "\n",
      "Running 4^4 - Run 10/10\n"
     ]
    },
    {
     "name": "stderr",
     "output_type": "stream",
     "text": [
      "Generating data: 100%|███████████████████████████████████████████████████████████████████████| 10000/10000 [00:27<00:00, 365.96it/s]\n",
      "Training: 100%|█████████████████████████████████████████████████████████████████████████████████| 1000/1000 [00:51<00:00, 19.23it/s]\n",
      "Training: 100%|█████████████████████████████████████████████████████████████████████████████████| 1000/1000 [00:51<00:00, 19.35it/s]\n",
      "Training: 100%|█████████████████████████████████████████████████████████████████████████████████| 1000/1000 [00:52<00:00, 18.91it/s]\n",
      "Training: 100%|█████████████████████████████████████████████████████████████████████████████████| 1000/1000 [00:42<00:00, 23.43it/s]\n",
      "Training: 100%|█████████████████████████████████████████████████████████████████████████████████| 1000/1000 [00:39<00:00, 25.47it/s]\n",
      "Testing 64x64: 100%|█████████████████████████████████████████████████████████████████████████████| 100/100 [00:00<00:00, 646.65it/s]\n"
     ]
    },
    {
     "name": "stdout",
     "output_type": "stream",
     "text": [
      "\n",
      "64x64 Results:\n",
      "Accuracy: 5.00%\n",
      "Avg prediction | Perc: 0.080\n",
      "Avg prediction | Non-Perc: 0.941\n"
     ]
    },
    {
     "name": "stderr",
     "output_type": "stream",
     "text": [
      "Testing 256x256: 100%|███████████████████████████████████████████████████████████████████████████| 100/100 [00:00<00:00, 215.11it/s]\n"
     ]
    },
    {
     "name": "stdout",
     "output_type": "stream",
     "text": [
      "\n",
      "256x256 Results:\n",
      "Accuracy: 100.00%\n",
      "Avg prediction | Perc: 0.981\n",
      "Avg prediction | Non-Perc: 0.011\n"
     ]
    },
    {
     "name": "stderr",
     "output_type": "stream",
     "text": [
      "Testing 1024x1024: 100%|██████████████████████████████████████████████████████████████████████████| 100/100 [00:05<00:00, 17.04it/s]\n"
     ]
    },
    {
     "name": "stdout",
     "output_type": "stream",
     "text": [
      "\n",
      "1024x1024 Results:\n",
      "Accuracy: 1.00%\n",
      "Avg prediction | Perc: 0.003\n",
      "Avg prediction | Non-Perc: 0.981\n"
     ]
    },
    {
     "name": "stderr",
     "output_type": "stream",
     "text": [
      "Testing 256x256: 100%|███████████████████████████████████████████████████████████████████████████| 200/200 [00:01<00:00, 196.31it/s]\n"
     ]
    },
    {
     "name": "stdout",
     "output_type": "stream",
     "text": [
      "\n",
      "256x256 Results:\n",
      "Accuracy: 80.50%\n",
      "Avg prediction | Perc: 0.760\n",
      "Avg prediction | Non-Perc: 0.388\n",
      "\n",
      "Running 5^2 - Run 1/10\n"
     ]
    },
    {
     "name": "stderr",
     "output_type": "stream",
     "text": [
      "Generating data: 100%|██████████████████████████████████████████████████████████████████████| 10000/10000 [00:01<00:00, 7573.66it/s]\n",
      "Training: 100%|████████████████████████████████████████████████████████████████████████████████| 1000/1000 [00:01<00:00, 516.11it/s]\n",
      "Training: 100%|████████████████████████████████████████████████████████████████████████████████| 1000/1000 [00:01<00:00, 548.66it/s]\n",
      "Training: 100%|████████████████████████████████████████████████████████████████████████████████| 1000/1000 [00:01<00:00, 571.44it/s]\n",
      "Training: 100%|████████████████████████████████████████████████████████████████████████████████| 1000/1000 [00:01<00:00, 550.74it/s]\n",
      "Training: 100%|████████████████████████████████████████████████████████████████████████████████| 1000/1000 [00:01<00:00, 501.25it/s]\n",
      "Testing 5x5: 100%|██████████████████████████████████████████████████████████████████████████████| 100/100 [00:00<00:00, 2500.00it/s]\n"
     ]
    },
    {
     "name": "stdout",
     "output_type": "stream",
     "text": [
      "\n",
      "5x5 Results:\n",
      "Accuracy: 10.00%\n",
      "Avg prediction | Perc: 0.271\n",
      "Avg prediction | Non-Perc: 0.964\n"
     ]
    },
    {
     "name": "stderr",
     "output_type": "stream",
     "text": [
      "Testing 25x25: 100%|████████████████████████████████████████████████████████████████████████████| 100/100 [00:00<00:00, 1707.34it/s]\n"
     ]
    },
    {
     "name": "stdout",
     "output_type": "stream",
     "text": [
      "\n",
      "25x25 Results:\n",
      "Accuracy: 95.00%\n",
      "Avg prediction | Perc: 0.924\n",
      "Avg prediction | Non-Perc: 0.069\n"
     ]
    },
    {
     "name": "stderr",
     "output_type": "stream",
     "text": [
      "Testing 125x125: 100%|███████████████████████████████████████████████████████████████████████████| 100/100 [00:00<00:00, 623.81it/s]\n"
     ]
    },
    {
     "name": "stdout",
     "output_type": "stream",
     "text": [
      "\n",
      "125x125 Results:\n",
      "Accuracy: 1.00%\n",
      "Avg prediction | Perc: 0.025\n",
      "Avg prediction | Non-Perc: 0.976\n"
     ]
    },
    {
     "name": "stderr",
     "output_type": "stream",
     "text": [
      "Testing 25x25: 100%|████████████████████████████████████████████████████████████████████████████| 200/200 [00:00<00:00, 1847.32it/s]\n"
     ]
    },
    {
     "name": "stdout",
     "output_type": "stream",
     "text": [
      "\n",
      "25x25 Results:\n",
      "Accuracy: 68.50%\n",
      "Avg prediction | Perc: 0.634\n",
      "Avg prediction | Non-Perc: 0.405\n",
      "\n",
      "Running 5^2 - Run 2/10\n"
     ]
    },
    {
     "name": "stderr",
     "output_type": "stream",
     "text": [
      "Generating data: 100%|██████████████████████████████████████████████████████████████████████| 10000/10000 [00:01<00:00, 7790.90it/s]\n",
      "Training: 100%|████████████████████████████████████████████████████████████████████████████████| 1000/1000 [00:01<00:00, 551.41it/s]\n",
      "Training: 100%|████████████████████████████████████████████████████████████████████████████████| 1000/1000 [00:01<00:00, 533.83it/s]\n",
      "Training: 100%|████████████████████████████████████████████████████████████████████████████████| 1000/1000 [00:02<00:00, 386.93it/s]\n",
      "Training: 100%|████████████████████████████████████████████████████████████████████████████████| 1000/1000 [00:02<00:00, 466.06it/s]\n",
      "Training: 100%|████████████████████████████████████████████████████████████████████████████████| 1000/1000 [00:01<00:00, 561.00it/s]\n",
      "Testing 5x5: 100%|██████████████████████████████████████████████████████████████████████████████| 100/100 [00:00<00:00, 2730.99it/s]\n"
     ]
    },
    {
     "name": "stdout",
     "output_type": "stream",
     "text": [
      "\n",
      "5x5 Results:\n",
      "Accuracy: 12.00%\n",
      "Avg prediction | Perc: 0.248\n",
      "Avg prediction | Non-Perc: 0.926\n"
     ]
    },
    {
     "name": "stderr",
     "output_type": "stream",
     "text": [
      "Testing 25x25: 100%|████████████████████████████████████████████████████████████████████████████| 100/100 [00:00<00:00, 1728.44it/s]\n"
     ]
    },
    {
     "name": "stdout",
     "output_type": "stream",
     "text": [
      "\n",
      "25x25 Results:\n",
      "Accuracy: 97.00%\n",
      "Avg prediction | Perc: 0.942\n",
      "Avg prediction | Non-Perc: 0.015\n"
     ]
    },
    {
     "name": "stderr",
     "output_type": "stream",
     "text": [
      "Testing 125x125: 100%|███████████████████████████████████████████████████████████████████████████| 100/100 [00:00<00:00, 702.29it/s]\n"
     ]
    },
    {
     "name": "stdout",
     "output_type": "stream",
     "text": [
      "\n",
      "125x125 Results:\n",
      "Accuracy: 0.00%\n",
      "Avg prediction | Perc: 0.001\n",
      "Avg prediction | Non-Perc: 0.985\n"
     ]
    },
    {
     "name": "stderr",
     "output_type": "stream",
     "text": [
      "Testing 25x25: 100%|████████████████████████████████████████████████████████████████████████████| 200/200 [00:00<00:00, 1668.57it/s]\n"
     ]
    },
    {
     "name": "stdout",
     "output_type": "stream",
     "text": [
      "\n",
      "25x25 Results:\n",
      "Accuracy: 68.00%\n",
      "Avg prediction | Perc: 0.627\n",
      "Avg prediction | Non-Perc: 0.453\n",
      "\n",
      "Running 5^2 - Run 3/10\n"
     ]
    },
    {
     "name": "stderr",
     "output_type": "stream",
     "text": [
      "Generating data: 100%|██████████████████████████████████████████████████████████████████████| 10000/10000 [00:01<00:00, 8179.97it/s]\n",
      "Training: 100%|████████████████████████████████████████████████████████████████████████████████| 1000/1000 [00:01<00:00, 571.73it/s]\n",
      "Training: 100%|████████████████████████████████████████████████████████████████████████████████| 1000/1000 [00:01<00:00, 570.27it/s]\n",
      "Training: 100%|████████████████████████████████████████████████████████████████████████████████| 1000/1000 [00:01<00:00, 566.86it/s]\n",
      "Training: 100%|████████████████████████████████████████████████████████████████████████████████| 1000/1000 [00:01<00:00, 565.16it/s]\n",
      "Training: 100%|████████████████████████████████████████████████████████████████████████████████| 1000/1000 [00:01<00:00, 516.32it/s]\n",
      "Testing 5x5: 100%|██████████████████████████████████████████████████████████████████████████████| 100/100 [00:00<00:00, 1605.05it/s]\n"
     ]
    },
    {
     "name": "stdout",
     "output_type": "stream",
     "text": [
      "\n",
      "5x5 Results:\n",
      "Accuracy: 8.00%\n",
      "Avg prediction | Perc: 0.088\n",
      "Avg prediction | Non-Perc: 0.889\n"
     ]
    },
    {
     "name": "stderr",
     "output_type": "stream",
     "text": [
      "Testing 25x25: 100%|████████████████████████████████████████████████████████████████████████████| 100/100 [00:00<00:00, 1720.90it/s]\n"
     ]
    },
    {
     "name": "stdout",
     "output_type": "stream",
     "text": [
      "\n",
      "25x25 Results:\n",
      "Accuracy: 97.00%\n",
      "Avg prediction | Perc: 0.974\n",
      "Avg prediction | Non-Perc: 0.040\n"
     ]
    },
    {
     "name": "stderr",
     "output_type": "stream",
     "text": [
      "Testing 125x125: 100%|███████████████████████████████████████████████████████████████████████████| 100/100 [00:00<00:00, 656.28it/s]\n"
     ]
    },
    {
     "name": "stdout",
     "output_type": "stream",
     "text": [
      "\n",
      "125x125 Results:\n",
      "Accuracy: 8.00%\n",
      "Avg prediction | Perc: 0.000\n",
      "Avg prediction | Non-Perc: 0.874\n"
     ]
    },
    {
     "name": "stderr",
     "output_type": "stream",
     "text": [
      "Testing 25x25: 100%|████████████████████████████████████████████████████████████████████████████| 200/200 [00:00<00:00, 2209.45it/s]\n"
     ]
    },
    {
     "name": "stdout",
     "output_type": "stream",
     "text": [
      "\n",
      "25x25 Results:\n",
      "Accuracy: 71.50%\n",
      "Avg prediction | Perc: 0.900\n",
      "Avg prediction | Non-Perc: 0.818\n",
      "\n",
      "Running 5^2 - Run 4/10\n"
     ]
    },
    {
     "name": "stderr",
     "output_type": "stream",
     "text": [
      "Generating data: 100%|██████████████████████████████████████████████████████████████████████| 10000/10000 [00:01<00:00, 8158.31it/s]\n",
      "Training: 100%|████████████████████████████████████████████████████████████████████████████████| 1000/1000 [00:01<00:00, 571.01it/s]\n",
      "Training: 100%|████████████████████████████████████████████████████████████████████████████████| 1000/1000 [00:01<00:00, 582.31it/s]\n",
      "Training: 100%|████████████████████████████████████████████████████████████████████████████████| 1000/1000 [00:01<00:00, 557.82it/s]\n",
      "Training: 100%|████████████████████████████████████████████████████████████████████████████████| 1000/1000 [00:01<00:00, 580.11it/s]\n",
      "Training: 100%|████████████████████████████████████████████████████████████████████████████████| 1000/1000 [00:01<00:00, 570.21it/s]\n",
      "Testing 5x5: 100%|██████████████████████████████████████████████████████████████████████████████| 100/100 [00:00<00:00, 2584.91it/s]\n"
     ]
    },
    {
     "name": "stdout",
     "output_type": "stream",
     "text": [
      "\n",
      "5x5 Results:\n",
      "Accuracy: 14.00%\n",
      "Avg prediction | Perc: 0.199\n",
      "Avg prediction | Non-Perc: 0.888\n"
     ]
    },
    {
     "name": "stderr",
     "output_type": "stream",
     "text": [
      "Testing 25x25: 100%|████████████████████████████████████████████████████████████████████████████| 100/100 [00:00<00:00, 1714.76it/s]\n"
     ]
    },
    {
     "name": "stdout",
     "output_type": "stream",
     "text": [
      "\n",
      "25x25 Results:\n",
      "Accuracy: 98.00%\n",
      "Avg prediction | Perc: 0.975\n",
      "Avg prediction | Non-Perc: 0.058\n"
     ]
    },
    {
     "name": "stderr",
     "output_type": "stream",
     "text": [
      "Testing 125x125: 100%|███████████████████████████████████████████████████████████████████████████| 100/100 [00:00<00:00, 693.31it/s]\n"
     ]
    },
    {
     "name": "stdout",
     "output_type": "stream",
     "text": [
      "\n",
      "125x125 Results:\n",
      "Accuracy: 2.00%\n",
      "Avg prediction | Perc: 0.000\n",
      "Avg prediction | Non-Perc: 0.944\n"
     ]
    },
    {
     "name": "stderr",
     "output_type": "stream",
     "text": [
      "Testing 25x25: 100%|████████████████████████████████████████████████████████████████████████████| 200/200 [00:00<00:00, 1766.73it/s]\n"
     ]
    },
    {
     "name": "stdout",
     "output_type": "stream",
     "text": [
      "\n",
      "25x25 Results:\n",
      "Accuracy: 70.00%\n",
      "Avg prediction | Perc: 0.877\n",
      "Avg prediction | Non-Perc: 0.758\n",
      "\n",
      "Running 5^2 - Run 5/10\n"
     ]
    },
    {
     "name": "stderr",
     "output_type": "stream",
     "text": [
      "Generating data: 100%|██████████████████████████████████████████████████████████████████████| 10000/10000 [00:01<00:00, 8043.56it/s]\n",
      "Training: 100%|████████████████████████████████████████████████████████████████████████████████| 1000/1000 [00:01<00:00, 585.42it/s]\n",
      "Training: 100%|████████████████████████████████████████████████████████████████████████████████| 1000/1000 [00:01<00:00, 579.07it/s]\n",
      "Training: 100%|████████████████████████████████████████████████████████████████████████████████| 1000/1000 [00:01<00:00, 578.47it/s]\n",
      "Training: 100%|████████████████████████████████████████████████████████████████████████████████| 1000/1000 [00:01<00:00, 578.90it/s]\n",
      "Training: 100%|████████████████████████████████████████████████████████████████████████████████| 1000/1000 [00:01<00:00, 579.35it/s]\n",
      "Testing 5x5: 100%|██████████████████████████████████████████████████████████████████████████████| 100/100 [00:00<00:00, 2527.27it/s]\n"
     ]
    },
    {
     "name": "stdout",
     "output_type": "stream",
     "text": [
      "\n",
      "5x5 Results:\n",
      "Accuracy: 8.00%\n",
      "Avg prediction | Perc: 0.240\n",
      "Avg prediction | Non-Perc: 0.939\n"
     ]
    },
    {
     "name": "stderr",
     "output_type": "stream",
     "text": [
      "Testing 25x25: 100%|████████████████████████████████████████████████████████████████████████████| 100/100 [00:00<00:00, 1816.97it/s]\n"
     ]
    },
    {
     "name": "stdout",
     "output_type": "stream",
     "text": [
      "\n",
      "25x25 Results:\n",
      "Accuracy: 95.00%\n",
      "Avg prediction | Perc: 0.875\n",
      "Avg prediction | Non-Perc: 0.019\n"
     ]
    },
    {
     "name": "stderr",
     "output_type": "stream",
     "text": [
      "Testing 125x125: 100%|███████████████████████████████████████████████████████████████████████████| 100/100 [00:00<00:00, 673.35it/s]\n"
     ]
    },
    {
     "name": "stdout",
     "output_type": "stream",
     "text": [
      "\n",
      "125x125 Results:\n",
      "Accuracy: 1.00%\n",
      "Avg prediction | Perc: 0.039\n",
      "Avg prediction | Non-Perc: 0.997\n"
     ]
    },
    {
     "name": "stderr",
     "output_type": "stream",
     "text": [
      "Testing 25x25: 100%|████████████████████████████████████████████████████████████████████████████| 200/200 [00:00<00:00, 2089.12it/s]\n"
     ]
    },
    {
     "name": "stdout",
     "output_type": "stream",
     "text": [
      "\n",
      "25x25 Results:\n",
      "Accuracy: 62.50%\n",
      "Avg prediction | Perc: 0.548\n",
      "Avg prediction | Non-Perc: 0.421\n",
      "\n",
      "Running 5^2 - Run 6/10\n"
     ]
    },
    {
     "name": "stderr",
     "output_type": "stream",
     "text": [
      "Generating data: 100%|██████████████████████████████████████████████████████████████████████| 10000/10000 [00:01<00:00, 8221.98it/s]\n",
      "Training: 100%|████████████████████████████████████████████████████████████████████████████████| 1000/1000 [00:01<00:00, 585.04it/s]\n",
      "Training: 100%|████████████████████████████████████████████████████████████████████████████████| 1000/1000 [00:01<00:00, 585.66it/s]\n",
      "Training: 100%|████████████████████████████████████████████████████████████████████████████████| 1000/1000 [00:01<00:00, 578.75it/s]\n",
      "Training: 100%|████████████████████████████████████████████████████████████████████████████████| 1000/1000 [00:01<00:00, 578.37it/s]\n",
      "Training: 100%|████████████████████████████████████████████████████████████████████████████████| 1000/1000 [00:01<00:00, 581.55it/s]\n",
      "Testing 5x5: 100%|██████████████████████████████████████████████████████████████████████████████| 100/100 [00:00<00:00, 2613.91it/s]\n"
     ]
    },
    {
     "name": "stdout",
     "output_type": "stream",
     "text": [
      "\n",
      "5x5 Results:\n",
      "Accuracy: 12.00%\n",
      "Avg prediction | Perc: 0.224\n",
      "Avg prediction | Non-Perc: 0.904\n"
     ]
    },
    {
     "name": "stderr",
     "output_type": "stream",
     "text": [
      "Testing 25x25: 100%|████████████████████████████████████████████████████████████████████████████| 100/100 [00:00<00:00, 2147.49it/s]\n"
     ]
    },
    {
     "name": "stdout",
     "output_type": "stream",
     "text": [
      "\n",
      "25x25 Results:\n",
      "Accuracy: 96.00%\n",
      "Avg prediction | Perc: 0.943\n",
      "Avg prediction | Non-Perc: 0.045\n"
     ]
    },
    {
     "name": "stderr",
     "output_type": "stream",
     "text": [
      "Testing 125x125: 100%|███████████████████████████████████████████████████████████████████████████| 100/100 [00:00<00:00, 692.29it/s]\n"
     ]
    },
    {
     "name": "stdout",
     "output_type": "stream",
     "text": [
      "\n",
      "125x125 Results:\n",
      "Accuracy: 2.00%\n",
      "Avg prediction | Perc: 0.002\n",
      "Avg prediction | Non-Perc: 0.964\n"
     ]
    },
    {
     "name": "stderr",
     "output_type": "stream",
     "text": [
      "Testing 25x25: 100%|████████████████████████████████████████████████████████████████████████████| 200/200 [00:00<00:00, 2061.22it/s]\n"
     ]
    },
    {
     "name": "stdout",
     "output_type": "stream",
     "text": [
      "\n",
      "25x25 Results:\n",
      "Accuracy: 72.00%\n",
      "Avg prediction | Perc: 0.779\n",
      "Avg prediction | Non-Perc: 0.633\n",
      "\n",
      "Running 5^2 - Run 7/10\n"
     ]
    },
    {
     "name": "stderr",
     "output_type": "stream",
     "text": [
      "Generating data: 100%|██████████████████████████████████████████████████████████████████████| 10000/10000 [00:01<00:00, 8013.01it/s]\n",
      "Training: 100%|████████████████████████████████████████████████████████████████████████████████| 1000/1000 [00:01<00:00, 587.60it/s]\n",
      "Training: 100%|████████████████████████████████████████████████████████████████████████████████| 1000/1000 [00:01<00:00, 579.22it/s]\n",
      "Training: 100%|████████████████████████████████████████████████████████████████████████████████| 1000/1000 [00:01<00:00, 583.21it/s]\n",
      "Training: 100%|████████████████████████████████████████████████████████████████████████████████| 1000/1000 [00:01<00:00, 583.04it/s]\n",
      "Training: 100%|████████████████████████████████████████████████████████████████████████████████| 1000/1000 [00:01<00:00, 585.59it/s]\n",
      "Testing 5x5: 100%|██████████████████████████████████████████████████████████████████████████████| 100/100 [00:00<00:00, 2741.59it/s]\n"
     ]
    },
    {
     "name": "stdout",
     "output_type": "stream",
     "text": [
      "\n",
      "5x5 Results:\n",
      "Accuracy: 4.00%\n",
      "Avg prediction | Perc: 0.138\n",
      "Avg prediction | Non-Perc: 0.920\n"
     ]
    },
    {
     "name": "stderr",
     "output_type": "stream",
     "text": [
      "Testing 25x25: 100%|████████████████████████████████████████████████████████████████████████████| 100/100 [00:00<00:00, 1846.07it/s]\n"
     ]
    },
    {
     "name": "stdout",
     "output_type": "stream",
     "text": [
      "\n",
      "25x25 Results:\n",
      "Accuracy: 95.00%\n",
      "Avg prediction | Perc: 0.923\n",
      "Avg prediction | Non-Perc: 0.053\n"
     ]
    },
    {
     "name": "stderr",
     "output_type": "stream",
     "text": [
      "Testing 125x125: 100%|███████████████████████████████████████████████████████████████████████████| 100/100 [00:00<00:00, 688.75it/s]\n"
     ]
    },
    {
     "name": "stdout",
     "output_type": "stream",
     "text": [
      "\n",
      "125x125 Results:\n",
      "Accuracy: 3.00%\n",
      "Avg prediction | Perc: 0.002\n",
      "Avg prediction | Non-Perc: 0.962\n"
     ]
    },
    {
     "name": "stderr",
     "output_type": "stream",
     "text": [
      "Testing 25x25: 100%|████████████████████████████████████████████████████████████████████████████| 200/200 [00:00<00:00, 2055.04it/s]\n"
     ]
    },
    {
     "name": "stdout",
     "output_type": "stream",
     "text": [
      "\n",
      "25x25 Results:\n",
      "Accuracy: 73.00%\n",
      "Avg prediction | Perc: 0.824\n",
      "Avg prediction | Non-Perc: 0.708\n",
      "\n",
      "Running 5^2 - Run 8/10\n"
     ]
    },
    {
     "name": "stderr",
     "output_type": "stream",
     "text": [
      "Generating data: 100%|██████████████████████████████████████████████████████████████████████| 10000/10000 [00:01<00:00, 8061.02it/s]\n",
      "Training: 100%|████████████████████████████████████████████████████████████████████████████████| 1000/1000 [00:01<00:00, 556.83it/s]\n",
      "Training: 100%|████████████████████████████████████████████████████████████████████████████████| 1000/1000 [00:01<00:00, 582.27it/s]\n",
      "Training: 100%|████████████████████████████████████████████████████████████████████████████████| 1000/1000 [00:01<00:00, 573.18it/s]\n",
      "Training: 100%|████████████████████████████████████████████████████████████████████████████████| 1000/1000 [00:01<00:00, 584.58it/s]\n",
      "Training: 100%|████████████████████████████████████████████████████████████████████████████████| 1000/1000 [00:01<00:00, 586.25it/s]\n",
      "Testing 5x5: 100%|██████████████████████████████████████████████████████████████████████████████| 100/100 [00:00<00:00, 2713.62it/s]\n"
     ]
    },
    {
     "name": "stdout",
     "output_type": "stream",
     "text": [
      "\n",
      "5x5 Results:\n",
      "Accuracy: 9.00%\n",
      "Avg prediction | Perc: 0.204\n",
      "Avg prediction | Non-Perc: 0.934\n"
     ]
    },
    {
     "name": "stderr",
     "output_type": "stream",
     "text": [
      "Testing 25x25: 100%|████████████████████████████████████████████████████████████████████████████| 100/100 [00:00<00:00, 1819.17it/s]\n"
     ]
    },
    {
     "name": "stdout",
     "output_type": "stream",
     "text": [
      "\n",
      "25x25 Results:\n",
      "Accuracy: 92.00%\n",
      "Avg prediction | Perc: 0.896\n",
      "Avg prediction | Non-Perc: 0.048\n"
     ]
    },
    {
     "name": "stderr",
     "output_type": "stream",
     "text": [
      "Testing 125x125: 100%|███████████████████████████████████████████████████████████████████████████| 100/100 [00:00<00:00, 661.44it/s]\n"
     ]
    },
    {
     "name": "stdout",
     "output_type": "stream",
     "text": [
      "\n",
      "125x125 Results:\n",
      "Accuracy: 2.00%\n",
      "Avg prediction | Perc: 0.000\n",
      "Avg prediction | Non-Perc: 0.964\n"
     ]
    },
    {
     "name": "stderr",
     "output_type": "stream",
     "text": [
      "Testing 25x25: 100%|████████████████████████████████████████████████████████████████████████████| 200/200 [00:00<00:00, 2116.04it/s]\n"
     ]
    },
    {
     "name": "stdout",
     "output_type": "stream",
     "text": [
      "\n",
      "25x25 Results:\n",
      "Accuracy: 72.00%\n",
      "Avg prediction | Perc: 0.816\n",
      "Avg prediction | Non-Perc: 0.577\n",
      "\n",
      "Running 5^2 - Run 9/10\n"
     ]
    },
    {
     "name": "stderr",
     "output_type": "stream",
     "text": [
      "Generating data: 100%|██████████████████████████████████████████████████████████████████████| 10000/10000 [00:01<00:00, 8123.88it/s]\n",
      "Training: 100%|████████████████████████████████████████████████████████████████████████████████| 1000/1000 [00:01<00:00, 592.43it/s]\n",
      "Training: 100%|████████████████████████████████████████████████████████████████████████████████| 1000/1000 [00:01<00:00, 583.51it/s]\n",
      "Training: 100%|████████████████████████████████████████████████████████████████████████████████| 1000/1000 [00:01<00:00, 583.22it/s]\n",
      "Training: 100%|████████████████████████████████████████████████████████████████████████████████| 1000/1000 [00:01<00:00, 587.60it/s]\n",
      "Training: 100%|████████████████████████████████████████████████████████████████████████████████| 1000/1000 [00:01<00:00, 583.21it/s]\n",
      "Testing 5x5: 100%|██████████████████████████████████████████████████████████████████████████████| 100/100 [00:00<00:00, 2636.78it/s]\n"
     ]
    },
    {
     "name": "stdout",
     "output_type": "stream",
     "text": [
      "\n",
      "5x5 Results:\n",
      "Accuracy: 12.00%\n",
      "Avg prediction | Perc: 0.233\n",
      "Avg prediction | Non-Perc: 0.938\n"
     ]
    },
    {
     "name": "stderr",
     "output_type": "stream",
     "text": [
      "Testing 25x25: 100%|████████████████████████████████████████████████████████████████████████████| 100/100 [00:00<00:00, 1909.82it/s]\n"
     ]
    },
    {
     "name": "stdout",
     "output_type": "stream",
     "text": [
      "\n",
      "25x25 Results:\n",
      "Accuracy: 97.00%\n",
      "Avg prediction | Perc: 0.941\n",
      "Avg prediction | Non-Perc: 0.037\n"
     ]
    },
    {
     "name": "stderr",
     "output_type": "stream",
     "text": [
      "Testing 125x125: 100%|███████████████████████████████████████████████████████████████████████████| 100/100 [00:00<00:00, 666.22it/s]\n"
     ]
    },
    {
     "name": "stdout",
     "output_type": "stream",
     "text": [
      "\n",
      "125x125 Results:\n",
      "Accuracy: 0.00%\n",
      "Avg prediction | Perc: 0.006\n",
      "Avg prediction | Non-Perc: 0.992\n"
     ]
    },
    {
     "name": "stderr",
     "output_type": "stream",
     "text": [
      "Testing 25x25: 100%|████████████████████████████████████████████████████████████████████████████| 200/200 [00:00<00:00, 2064.36it/s]\n"
     ]
    },
    {
     "name": "stdout",
     "output_type": "stream",
     "text": [
      "\n",
      "25x25 Results:\n",
      "Accuracy: 68.50%\n",
      "Avg prediction | Perc: 0.698\n",
      "Avg prediction | Non-Perc: 0.544\n",
      "\n",
      "Running 5^2 - Run 10/10\n"
     ]
    },
    {
     "name": "stderr",
     "output_type": "stream",
     "text": [
      "Generating data: 100%|██████████████████████████████████████████████████████████████████████| 10000/10000 [00:01<00:00, 8169.16it/s]\n",
      "Training: 100%|████████████████████████████████████████████████████████████████████████████████| 1000/1000 [00:01<00:00, 597.25it/s]\n",
      "Training: 100%|████████████████████████████████████████████████████████████████████████████████| 1000/1000 [00:01<00:00, 577.46it/s]\n",
      "Training: 100%|████████████████████████████████████████████████████████████████████████████████| 1000/1000 [00:01<00:00, 585.97it/s]\n",
      "Training: 100%|████████████████████████████████████████████████████████████████████████████████| 1000/1000 [00:01<00:00, 585.52it/s]\n",
      "Training: 100%|████████████████████████████████████████████████████████████████████████████████| 1000/1000 [00:01<00:00, 587.30it/s]\n",
      "Testing 5x5: 100%|██████████████████████████████████████████████████████████████████████████████| 100/100 [00:00<00:00, 2665.30it/s]\n"
     ]
    },
    {
     "name": "stdout",
     "output_type": "stream",
     "text": [
      "\n",
      "5x5 Results:\n",
      "Accuracy: 17.00%\n",
      "Avg prediction | Perc: 0.294\n",
      "Avg prediction | Non-Perc: 0.916\n"
     ]
    },
    {
     "name": "stderr",
     "output_type": "stream",
     "text": [
      "Testing 25x25: 100%|████████████████████████████████████████████████████████████████████████████| 100/100 [00:00<00:00, 1847.25it/s]\n"
     ]
    },
    {
     "name": "stdout",
     "output_type": "stream",
     "text": [
      "\n",
      "25x25 Results:\n",
      "Accuracy: 96.00%\n",
      "Avg prediction | Perc: 0.857\n",
      "Avg prediction | Non-Perc: 0.042\n"
     ]
    },
    {
     "name": "stderr",
     "output_type": "stream",
     "text": [
      "Testing 125x125: 100%|███████████████████████████████████████████████████████████████████████████| 100/100 [00:00<00:00, 704.03it/s]\n"
     ]
    },
    {
     "name": "stdout",
     "output_type": "stream",
     "text": [
      "\n",
      "125x125 Results:\n",
      "Accuracy: 0.00%\n",
      "Avg prediction | Perc: 0.013\n",
      "Avg prediction | Non-Perc: 0.999\n"
     ]
    },
    {
     "name": "stderr",
     "output_type": "stream",
     "text": [
      "Testing 25x25: 100%|████████████████████████████████████████████████████████████████████████████| 200/200 [00:00<00:00, 1775.48it/s]\n"
     ]
    },
    {
     "name": "stdout",
     "output_type": "stream",
     "text": [
      "\n",
      "25x25 Results:\n",
      "Accuracy: 72.00%\n",
      "Avg prediction | Perc: 0.733\n",
      "Avg prediction | Non-Perc: 0.561\n",
      "\n",
      "Running 5^3 - Run 1/10\n"
     ]
    },
    {
     "name": "stderr",
     "output_type": "stream",
     "text": [
      "Generating data: 100%|██████████████████████████████████████████████████████████████████████| 10000/10000 [00:07<00:00, 1343.22it/s]\n",
      "Training: 100%|████████████████████████████████████████████████████████████████████████████████| 1000/1000 [00:05<00:00, 192.28it/s]\n",
      "Training: 100%|████████████████████████████████████████████████████████████████████████████████| 1000/1000 [00:05<00:00, 189.62it/s]\n",
      "Training: 100%|████████████████████████████████████████████████████████████████████████████████| 1000/1000 [00:05<00:00, 189.18it/s]\n",
      "Training: 100%|████████████████████████████████████████████████████████████████████████████████| 1000/1000 [00:05<00:00, 187.84it/s]\n",
      "Training: 100%|████████████████████████████████████████████████████████████████████████████████| 1000/1000 [00:05<00:00, 186.56it/s]\n",
      "Testing 25x25: 100%|████████████████████████████████████████████████████████████████████████████| 100/100 [00:00<00:00, 2003.44it/s]\n"
     ]
    },
    {
     "name": "stdout",
     "output_type": "stream",
     "text": [
      "\n",
      "25x25 Results:\n",
      "Accuracy: 30.00%\n",
      "Avg prediction | Perc: 0.110\n",
      "Avg prediction | Non-Perc: 0.474\n"
     ]
    },
    {
     "name": "stderr",
     "output_type": "stream",
     "text": [
      "Testing 125x125: 100%|███████████████████████████████████████████████████████████████████████████| 100/100 [00:00<00:00, 551.32it/s]\n"
     ]
    },
    {
     "name": "stdout",
     "output_type": "stream",
     "text": [
      "\n",
      "125x125 Results:\n",
      "Accuracy: 89.00%\n",
      "Avg prediction | Perc: 0.753\n",
      "Avg prediction | Non-Perc: 0.077\n"
     ]
    },
    {
     "name": "stderr",
     "output_type": "stream",
     "text": [
      "Testing 625x625: 100%|████████████████████████████████████████████████████████████████████████████| 100/100 [00:01<00:00, 51.86it/s]\n"
     ]
    },
    {
     "name": "stdout",
     "output_type": "stream",
     "text": [
      "\n",
      "625x625 Results:\n",
      "Accuracy: 1.00%\n",
      "Avg prediction | Perc: 0.374\n",
      "Avg prediction | Non-Perc: 0.926\n"
     ]
    },
    {
     "name": "stderr",
     "output_type": "stream",
     "text": [
      "Testing 125x125: 100%|███████████████████████████████████████████████████████████████████████████| 200/200 [00:00<00:00, 556.61it/s]\n"
     ]
    },
    {
     "name": "stdout",
     "output_type": "stream",
     "text": [
      "\n",
      "125x125 Results:\n",
      "Accuracy: 32.50%\n",
      "Avg prediction | Perc: 0.263\n",
      "Avg prediction | Non-Perc: 0.183\n",
      "\n",
      "Running 5^3 - Run 2/10\n"
     ]
    },
    {
     "name": "stderr",
     "output_type": "stream",
     "text": [
      "Generating data: 100%|██████████████████████████████████████████████████████████████████████| 10000/10000 [00:07<00:00, 1423.07it/s]\n",
      "Training: 100%|████████████████████████████████████████████████████████████████████████████████| 1000/1000 [00:05<00:00, 186.48it/s]\n",
      "Training: 100%|████████████████████████████████████████████████████████████████████████████████| 1000/1000 [00:05<00:00, 186.96it/s]\n",
      "Training: 100%|████████████████████████████████████████████████████████████████████████████████| 1000/1000 [00:05<00:00, 188.91it/s]\n",
      "Training: 100%|████████████████████████████████████████████████████████████████████████████████| 1000/1000 [00:05<00:00, 188.35it/s]\n",
      "Training: 100%|████████████████████████████████████████████████████████████████████████████████| 1000/1000 [00:05<00:00, 186.15it/s]\n",
      "Testing 25x25: 100%|████████████████████████████████████████████████████████████████████████████| 100/100 [00:00<00:00, 1902.65it/s]\n"
     ]
    },
    {
     "name": "stdout",
     "output_type": "stream",
     "text": [
      "\n",
      "25x25 Results:\n",
      "Accuracy: 95.00%\n",
      "Avg prediction | Perc: 0.861\n",
      "Avg prediction | Non-Perc: 0.033\n"
     ]
    },
    {
     "name": "stderr",
     "output_type": "stream",
     "text": [
      "Testing 125x125: 100%|███████████████████████████████████████████████████████████████████████████| 100/100 [00:00<00:00, 567.30it/s]\n"
     ]
    },
    {
     "name": "stdout",
     "output_type": "stream",
     "text": [
      "\n",
      "125x125 Results:\n",
      "Accuracy: 97.00%\n",
      "Avg prediction | Perc: 0.927\n",
      "Avg prediction | Non-Perc: 0.028\n"
     ]
    },
    {
     "name": "stderr",
     "output_type": "stream",
     "text": [
      "Testing 625x625: 100%|████████████████████████████████████████████████████████████████████████████| 100/100 [00:01<00:00, 53.34it/s]\n"
     ]
    },
    {
     "name": "stdout",
     "output_type": "stream",
     "text": [
      "\n",
      "625x625 Results:\n",
      "Accuracy: 98.00%\n",
      "Avg prediction | Perc: 0.947\n",
      "Avg prediction | Non-Perc: 0.029\n"
     ]
    },
    {
     "name": "stderr",
     "output_type": "stream",
     "text": [
      "Testing 125x125: 100%|███████████████████████████████████████████████████████████████████████████| 200/200 [00:00<00:00, 563.62it/s]\n"
     ]
    },
    {
     "name": "stdout",
     "output_type": "stream",
     "text": [
      "\n",
      "125x125 Results:\n",
      "Accuracy: 34.50%\n",
      "Avg prediction | Perc: 0.212\n",
      "Avg prediction | Non-Perc: 0.065\n",
      "\n",
      "Running 5^3 - Run 3/10\n"
     ]
    },
    {
     "name": "stderr",
     "output_type": "stream",
     "text": [
      "Generating data: 100%|██████████████████████████████████████████████████████████████████████| 10000/10000 [00:06<00:00, 1431.50it/s]\n",
      "Training: 100%|████████████████████████████████████████████████████████████████████████████████| 1000/1000 [00:05<00:00, 189.23it/s]\n",
      "Training: 100%|████████████████████████████████████████████████████████████████████████████████| 1000/1000 [00:05<00:00, 190.04it/s]\n",
      "Training: 100%|████████████████████████████████████████████████████████████████████████████████| 1000/1000 [00:05<00:00, 189.16it/s]\n",
      "Training: 100%|████████████████████████████████████████████████████████████████████████████████| 1000/1000 [00:05<00:00, 189.20it/s]\n",
      "Training: 100%|████████████████████████████████████████████████████████████████████████████████| 1000/1000 [00:05<00:00, 187.32it/s]\n",
      "Testing 25x25: 100%|████████████████████████████████████████████████████████████████████████████| 100/100 [00:00<00:00, 2054.70it/s]\n"
     ]
    },
    {
     "name": "stdout",
     "output_type": "stream",
     "text": [
      "\n",
      "25x25 Results:\n",
      "Accuracy: 29.00%\n",
      "Avg prediction | Perc: 0.596\n",
      "Avg prediction | Non-Perc: 0.951\n"
     ]
    },
    {
     "name": "stderr",
     "output_type": "stream",
     "text": [
      "Testing 125x125: 100%|███████████████████████████████████████████████████████████████████████████| 100/100 [00:00<00:00, 566.89it/s]\n"
     ]
    },
    {
     "name": "stdout",
     "output_type": "stream",
     "text": [
      "\n",
      "125x125 Results:\n",
      "Accuracy: 95.00%\n",
      "Avg prediction | Perc: 0.583\n",
      "Avg prediction | Non-Perc: 0.233\n"
     ]
    },
    {
     "name": "stderr",
     "output_type": "stream",
     "text": [
      "Testing 625x625: 100%|████████████████████████████████████████████████████████████████████████████| 100/100 [00:01<00:00, 53.46it/s]\n"
     ]
    },
    {
     "name": "stdout",
     "output_type": "stream",
     "text": [
      "\n",
      "625x625 Results:\n",
      "Accuracy: 42.00%\n",
      "Avg prediction | Perc: 0.565\n",
      "Avg prediction | Non-Perc: 0.864\n"
     ]
    },
    {
     "name": "stderr",
     "output_type": "stream",
     "text": [
      "Testing 125x125: 100%|███████████████████████████████████████████████████████████████████████████| 200/200 [00:00<00:00, 553.38it/s]\n"
     ]
    },
    {
     "name": "stdout",
     "output_type": "stream",
     "text": [
      "\n",
      "125x125 Results:\n",
      "Accuracy: 37.50%\n",
      "Avg prediction | Perc: 0.418\n",
      "Avg prediction | Non-Perc: 0.393\n",
      "\n",
      "Running 5^3 - Run 4/10\n"
     ]
    },
    {
     "name": "stderr",
     "output_type": "stream",
     "text": [
      "Generating data: 100%|██████████████████████████████████████████████████████████████████████| 10000/10000 [00:06<00:00, 1436.46it/s]\n",
      "Training: 100%|████████████████████████████████████████████████████████████████████████████████| 1000/1000 [00:05<00:00, 190.33it/s]\n",
      "Training: 100%|████████████████████████████████████████████████████████████████████████████████| 1000/1000 [00:05<00:00, 185.49it/s]\n",
      "Training: 100%|████████████████████████████████████████████████████████████████████████████████| 1000/1000 [00:05<00:00, 189.58it/s]\n",
      "Training: 100%|████████████████████████████████████████████████████████████████████████████████| 1000/1000 [00:05<00:00, 189.50it/s]\n",
      "Training: 100%|████████████████████████████████████████████████████████████████████████████████| 1000/1000 [00:05<00:00, 188.09it/s]\n",
      "Testing 25x25: 100%|████████████████████████████████████████████████████████████████████████████| 100/100 [00:00<00:00, 1653.66it/s]\n"
     ]
    },
    {
     "name": "stdout",
     "output_type": "stream",
     "text": [
      "\n",
      "25x25 Results:\n",
      "Accuracy: 48.00%\n",
      "Avg prediction | Perc: 0.078\n",
      "Avg prediction | Non-Perc: 0.307\n"
     ]
    },
    {
     "name": "stderr",
     "output_type": "stream",
     "text": [
      "Testing 125x125: 100%|███████████████████████████████████████████████████████████████████████████| 100/100 [00:00<00:00, 620.84it/s]\n"
     ]
    },
    {
     "name": "stdout",
     "output_type": "stream",
     "text": [
      "\n",
      "125x125 Results:\n",
      "Accuracy: 92.00%\n",
      "Avg prediction | Perc: 0.967\n",
      "Avg prediction | Non-Perc: 0.187\n"
     ]
    },
    {
     "name": "stderr",
     "output_type": "stream",
     "text": [
      "Testing 625x625: 100%|████████████████████████████████████████████████████████████████████████████| 100/100 [00:01<00:00, 52.44it/s]\n"
     ]
    },
    {
     "name": "stdout",
     "output_type": "stream",
     "text": [
      "\n",
      "625x625 Results:\n",
      "Accuracy: 63.00%\n",
      "Avg prediction | Perc: 0.557\n",
      "Avg prediction | Non-Perc: 0.738\n"
     ]
    },
    {
     "name": "stderr",
     "output_type": "stream",
     "text": [
      "Testing 125x125: 100%|███████████████████████████████████████████████████████████████████████████| 200/200 [00:00<00:00, 588.36it/s]\n"
     ]
    },
    {
     "name": "stdout",
     "output_type": "stream",
     "text": [
      "\n",
      "125x125 Results:\n",
      "Accuracy: 69.50%\n",
      "Avg prediction | Perc: 0.939\n",
      "Avg prediction | Non-Perc: 0.921\n",
      "\n",
      "Running 5^3 - Run 5/10\n"
     ]
    },
    {
     "name": "stderr",
     "output_type": "stream",
     "text": [
      "Generating data: 100%|██████████████████████████████████████████████████████████████████████| 10000/10000 [00:06<00:00, 1438.61it/s]\n",
      "Training: 100%|████████████████████████████████████████████████████████████████████████████████| 1000/1000 [00:05<00:00, 184.36it/s]\n",
      "Training: 100%|████████████████████████████████████████████████████████████████████████████████| 1000/1000 [00:05<00:00, 190.17it/s]\n",
      "Training: 100%|████████████████████████████████████████████████████████████████████████████████| 1000/1000 [00:05<00:00, 189.41it/s]\n",
      "Training: 100%|████████████████████████████████████████████████████████████████████████████████| 1000/1000 [00:05<00:00, 188.52it/s]\n",
      "Training: 100%|████████████████████████████████████████████████████████████████████████████████| 1000/1000 [00:05<00:00, 188.57it/s]\n",
      "Testing 25x25: 100%|████████████████████████████████████████████████████████████████████████████| 100/100 [00:00<00:00, 1881.85it/s]\n"
     ]
    },
    {
     "name": "stdout",
     "output_type": "stream",
     "text": [
      "\n",
      "25x25 Results:\n",
      "Accuracy: 19.00%\n",
      "Avg prediction | Perc: 0.146\n",
      "Avg prediction | Non-Perc: 0.578\n"
     ]
    },
    {
     "name": "stderr",
     "output_type": "stream",
     "text": [
      "Testing 125x125: 100%|███████████████████████████████████████████████████████████████████████████| 100/100 [00:00<00:00, 552.62it/s]\n"
     ]
    },
    {
     "name": "stdout",
     "output_type": "stream",
     "text": [
      "\n",
      "125x125 Results:\n",
      "Accuracy: 97.00%\n",
      "Avg prediction | Perc: 0.867\n",
      "Avg prediction | Non-Perc: 0.078\n"
     ]
    },
    {
     "name": "stderr",
     "output_type": "stream",
     "text": [
      "Testing 625x625: 100%|████████████████████████████████████████████████████████████████████████████| 100/100 [00:01<00:00, 52.77it/s]\n"
     ]
    },
    {
     "name": "stdout",
     "output_type": "stream",
     "text": [
      "\n",
      "625x625 Results:\n",
      "Accuracy: 26.00%\n",
      "Avg prediction | Perc: 0.509\n",
      "Avg prediction | Non-Perc: 0.926\n"
     ]
    },
    {
     "name": "stderr",
     "output_type": "stream",
     "text": [
      "Testing 125x125: 100%|███████████████████████████████████████████████████████████████████████████| 200/200 [00:00<00:00, 542.61it/s]\n"
     ]
    },
    {
     "name": "stdout",
     "output_type": "stream",
     "text": [
      "\n",
      "125x125 Results:\n",
      "Accuracy: 41.00%\n",
      "Avg prediction | Perc: 0.408\n",
      "Avg prediction | Non-Perc: 0.322\n",
      "\n",
      "Running 5^3 - Run 6/10\n"
     ]
    },
    {
     "name": "stderr",
     "output_type": "stream",
     "text": [
      "Generating data: 100%|██████████████████████████████████████████████████████████████████████| 10000/10000 [00:06<00:00, 1445.14it/s]\n",
      "Training: 100%|████████████████████████████████████████████████████████████████████████████████| 1000/1000 [00:05<00:00, 190.29it/s]\n",
      "Training: 100%|████████████████████████████████████████████████████████████████████████████████| 1000/1000 [00:05<00:00, 189.92it/s]\n",
      "Training: 100%|████████████████████████████████████████████████████████████████████████████████| 1000/1000 [00:05<00:00, 185.10it/s]\n",
      "Training: 100%|████████████████████████████████████████████████████████████████████████████████| 1000/1000 [00:05<00:00, 182.20it/s]\n",
      "Training: 100%|████████████████████████████████████████████████████████████████████████████████| 1000/1000 [00:05<00:00, 186.99it/s]\n",
      "Testing 25x25: 100%|████████████████████████████████████████████████████████████████████████████| 100/100 [00:00<00:00, 2415.52it/s]\n"
     ]
    },
    {
     "name": "stdout",
     "output_type": "stream",
     "text": [
      "\n",
      "25x25 Results:\n",
      "Accuracy: 43.00%\n",
      "Avg prediction | Perc: 0.081\n",
      "Avg prediction | Non-Perc: 0.415\n"
     ]
    },
    {
     "name": "stderr",
     "output_type": "stream",
     "text": [
      "Testing 125x125: 100%|███████████████████████████████████████████████████████████████████████████| 100/100 [00:00<00:00, 599.95it/s]\n"
     ]
    },
    {
     "name": "stdout",
     "output_type": "stream",
     "text": [
      "\n",
      "125x125 Results:\n",
      "Accuracy: 98.00%\n",
      "Avg prediction | Perc: 0.953\n",
      "Avg prediction | Non-Perc: 0.104\n"
     ]
    },
    {
     "name": "stderr",
     "output_type": "stream",
     "text": [
      "Testing 625x625: 100%|████████████████████████████████████████████████████████████████████████████| 100/100 [00:01<00:00, 52.67it/s]\n"
     ]
    },
    {
     "name": "stdout",
     "output_type": "stream",
     "text": [
      "\n",
      "625x625 Results:\n",
      "Accuracy: 41.00%\n",
      "Avg prediction | Perc: 0.525\n",
      "Avg prediction | Non-Perc: 0.840\n"
     ]
    },
    {
     "name": "stderr",
     "output_type": "stream",
     "text": [
      "Testing 125x125: 100%|███████████████████████████████████████████████████████████████████████████| 200/200 [00:00<00:00, 568.00it/s]\n"
     ]
    },
    {
     "name": "stdout",
     "output_type": "stream",
     "text": [
      "\n",
      "125x125 Results:\n",
      "Accuracy: 71.50%\n",
      "Avg prediction | Perc: 0.762\n",
      "Avg prediction | Non-Perc: 0.673\n",
      "\n",
      "Running 5^3 - Run 7/10\n"
     ]
    },
    {
     "name": "stderr",
     "output_type": "stream",
     "text": [
      "Generating data: 100%|██████████████████████████████████████████████████████████████████████| 10000/10000 [00:06<00:00, 1441.74it/s]\n",
      "Training: 100%|████████████████████████████████████████████████████████████████████████████████| 1000/1000 [00:05<00:00, 187.98it/s]\n",
      "Training: 100%|████████████████████████████████████████████████████████████████████████████████| 1000/1000 [00:05<00:00, 190.37it/s]\n",
      "Training: 100%|████████████████████████████████████████████████████████████████████████████████| 1000/1000 [00:05<00:00, 188.30it/s]\n",
      "Training: 100%|████████████████████████████████████████████████████████████████████████████████| 1000/1000 [00:05<00:00, 189.86it/s]\n",
      "Training: 100%|████████████████████████████████████████████████████████████████████████████████| 1000/1000 [00:05<00:00, 189.86it/s]\n",
      "Testing 25x25: 100%|████████████████████████████████████████████████████████████████████████████| 100/100 [00:00<00:00, 1793.43it/s]\n"
     ]
    },
    {
     "name": "stdout",
     "output_type": "stream",
     "text": [
      "\n",
      "25x25 Results:\n",
      "Accuracy: 94.00%\n",
      "Avg prediction | Perc: 0.868\n",
      "Avg prediction | Non-Perc: 0.034\n"
     ]
    },
    {
     "name": "stderr",
     "output_type": "stream",
     "text": [
      "Testing 125x125: 100%|███████████████████████████████████████████████████████████████████████████| 100/100 [00:00<00:00, 599.42it/s]\n"
     ]
    },
    {
     "name": "stdout",
     "output_type": "stream",
     "text": [
      "\n",
      "125x125 Results:\n",
      "Accuracy: 99.00%\n",
      "Avg prediction | Perc: 0.967\n",
      "Avg prediction | Non-Perc: 0.004\n"
     ]
    },
    {
     "name": "stderr",
     "output_type": "stream",
     "text": [
      "Testing 625x625: 100%|████████████████████████████████████████████████████████████████████████████| 100/100 [00:01<00:00, 53.02it/s]\n"
     ]
    },
    {
     "name": "stdout",
     "output_type": "stream",
     "text": [
      "\n",
      "625x625 Results:\n",
      "Accuracy: 98.00%\n",
      "Avg prediction | Perc: 0.957\n",
      "Avg prediction | Non-Perc: 0.001\n"
     ]
    },
    {
     "name": "stderr",
     "output_type": "stream",
     "text": [
      "Testing 125x125: 100%|███████████████████████████████████████████████████████████████████████████| 200/200 [00:00<00:00, 578.56it/s]\n"
     ]
    },
    {
     "name": "stdout",
     "output_type": "stream",
     "text": [
      "\n",
      "125x125 Results:\n",
      "Accuracy: 57.00%\n",
      "Avg prediction | Perc: 0.430\n",
      "Avg prediction | Non-Perc: 0.186\n",
      "\n",
      "Running 5^3 - Run 8/10\n"
     ]
    },
    {
     "name": "stderr",
     "output_type": "stream",
     "text": [
      "Generating data: 100%|██████████████████████████████████████████████████████████████████████| 10000/10000 [00:06<00:00, 1439.50it/s]\n",
      "Training: 100%|████████████████████████████████████████████████████████████████████████████████| 1000/1000 [00:05<00:00, 190.84it/s]\n",
      "Training: 100%|████████████████████████████████████████████████████████████████████████████████| 1000/1000 [00:05<00:00, 191.00it/s]\n",
      "Training: 100%|████████████████████████████████████████████████████████████████████████████████| 1000/1000 [00:05<00:00, 190.09it/s]\n",
      "Training: 100%|████████████████████████████████████████████████████████████████████████████████| 1000/1000 [00:05<00:00, 181.35it/s]\n",
      "Training: 100%|████████████████████████████████████████████████████████████████████████████████| 1000/1000 [00:05<00:00, 189.58it/s]\n",
      "Testing 25x25: 100%|████████████████████████████████████████████████████████████████████████████| 100/100 [00:00<00:00, 2046.22it/s]\n"
     ]
    },
    {
     "name": "stdout",
     "output_type": "stream",
     "text": [
      "\n",
      "25x25 Results:\n",
      "Accuracy: 19.00%\n",
      "Avg prediction | Perc: 0.548\n",
      "Avg prediction | Non-Perc: 0.959\n"
     ]
    },
    {
     "name": "stderr",
     "output_type": "stream",
     "text": [
      "Testing 125x125: 100%|███████████████████████████████████████████████████████████████████████████| 100/100 [00:00<00:00, 605.25it/s]\n"
     ]
    },
    {
     "name": "stdout",
     "output_type": "stream",
     "text": [
      "\n",
      "125x125 Results:\n",
      "Accuracy: 98.00%\n",
      "Avg prediction | Perc: 0.955\n",
      "Avg prediction | Non-Perc: 0.232\n"
     ]
    },
    {
     "name": "stderr",
     "output_type": "stream",
     "text": [
      "Testing 625x625: 100%|████████████████████████████████████████████████████████████████████████████| 100/100 [00:01<00:00, 53.11it/s]\n"
     ]
    },
    {
     "name": "stdout",
     "output_type": "stream",
     "text": [
      "\n",
      "625x625 Results:\n",
      "Accuracy: 3.00%\n",
      "Avg prediction | Perc: 0.239\n",
      "Avg prediction | Non-Perc: 0.984\n"
     ]
    },
    {
     "name": "stderr",
     "output_type": "stream",
     "text": [
      "Testing 125x125: 100%|███████████████████████████████████████████████████████████████████████████| 200/200 [00:00<00:00, 581.81it/s]\n"
     ]
    },
    {
     "name": "stdout",
     "output_type": "stream",
     "text": [
      "\n",
      "125x125 Results:\n",
      "Accuracy: 74.50%\n",
      "Avg prediction | Perc: 0.771\n",
      "Avg prediction | Non-Perc: 0.701\n",
      "\n",
      "Running 5^3 - Run 9/10\n"
     ]
    },
    {
     "name": "stderr",
     "output_type": "stream",
     "text": [
      "Generating data: 100%|██████████████████████████████████████████████████████████████████████| 10000/10000 [00:06<00:00, 1431.34it/s]\n",
      "Training: 100%|████████████████████████████████████████████████████████████████████████████████| 1000/1000 [00:05<00:00, 190.59it/s]\n",
      "Training: 100%|████████████████████████████████████████████████████████████████████████████████| 1000/1000 [00:05<00:00, 190.56it/s]\n",
      "Training: 100%|████████████████████████████████████████████████████████████████████████████████| 1000/1000 [00:05<00:00, 189.72it/s]\n",
      "Training: 100%|████████████████████████████████████████████████████████████████████████████████| 1000/1000 [00:05<00:00, 189.91it/s]\n",
      "Training: 100%|████████████████████████████████████████████████████████████████████████████████| 1000/1000 [00:05<00:00, 190.65it/s]\n",
      "Testing 25x25: 100%|████████████████████████████████████████████████████████████████████████████| 100/100 [00:00<00:00, 1959.82it/s]\n"
     ]
    },
    {
     "name": "stdout",
     "output_type": "stream",
     "text": [
      "\n",
      "25x25 Results:\n",
      "Accuracy: 49.00%\n",
      "Avg prediction | Perc: 0.091\n",
      "Avg prediction | Non-Perc: 0.416\n"
     ]
    },
    {
     "name": "stderr",
     "output_type": "stream",
     "text": [
      "Testing 125x125: 100%|███████████████████████████████████████████████████████████████████████████| 100/100 [00:00<00:00, 622.51it/s]\n"
     ]
    },
    {
     "name": "stdout",
     "output_type": "stream",
     "text": [
      "\n",
      "125x125 Results:\n",
      "Accuracy: 100.00%\n",
      "Avg prediction | Perc: 0.885\n",
      "Avg prediction | Non-Perc: 0.078\n"
     ]
    },
    {
     "name": "stderr",
     "output_type": "stream",
     "text": [
      "Testing 625x625: 100%|████████████████████████████████████████████████████████████████████████████| 100/100 [00:01<00:00, 53.58it/s]\n"
     ]
    },
    {
     "name": "stdout",
     "output_type": "stream",
     "text": [
      "\n",
      "625x625 Results:\n",
      "Accuracy: 3.00%\n",
      "Avg prediction | Perc: 0.383\n",
      "Avg prediction | Non-Perc: 0.914\n"
     ]
    },
    {
     "name": "stderr",
     "output_type": "stream",
     "text": [
      "Testing 125x125: 100%|███████████████████████████████████████████████████████████████████████████| 200/200 [00:00<00:00, 559.92it/s]\n"
     ]
    },
    {
     "name": "stdout",
     "output_type": "stream",
     "text": [
      "\n",
      "125x125 Results:\n",
      "Accuracy: 49.00%\n",
      "Avg prediction | Perc: 0.439\n",
      "Avg prediction | Non-Perc: 0.353\n",
      "\n",
      "Running 5^3 - Run 10/10\n"
     ]
    },
    {
     "name": "stderr",
     "output_type": "stream",
     "text": [
      "Generating data: 100%|██████████████████████████████████████████████████████████████████████| 10000/10000 [00:06<00:00, 1448.92it/s]\n",
      "Training: 100%|████████████████████████████████████████████████████████████████████████████████| 1000/1000 [00:05<00:00, 190.82it/s]\n",
      "Training: 100%|████████████████████████████████████████████████████████████████████████████████| 1000/1000 [00:05<00:00, 190.54it/s]\n",
      "Training: 100%|████████████████████████████████████████████████████████████████████████████████| 1000/1000 [00:05<00:00, 190.00it/s]\n",
      "Training: 100%|████████████████████████████████████████████████████████████████████████████████| 1000/1000 [00:05<00:00, 185.40it/s]\n",
      "Training: 100%|████████████████████████████████████████████████████████████████████████████████| 1000/1000 [00:05<00:00, 190.53it/s]\n",
      "Testing 25x25: 100%|████████████████████████████████████████████████████████████████████████████| 100/100 [00:00<00:00, 2125.32it/s]\n"
     ]
    },
    {
     "name": "stdout",
     "output_type": "stream",
     "text": [
      "\n",
      "25x25 Results:\n",
      "Accuracy: 43.00%\n",
      "Avg prediction | Perc: 0.084\n",
      "Avg prediction | Non-Perc: 0.402\n"
     ]
    },
    {
     "name": "stderr",
     "output_type": "stream",
     "text": [
      "Testing 125x125: 100%|███████████████████████████████████████████████████████████████████████████| 100/100 [00:00<00:00, 553.32it/s]\n"
     ]
    },
    {
     "name": "stdout",
     "output_type": "stream",
     "text": [
      "\n",
      "125x125 Results:\n",
      "Accuracy: 98.00%\n",
      "Avg prediction | Perc: 0.937\n",
      "Avg prediction | Non-Perc: 0.096\n"
     ]
    },
    {
     "name": "stderr",
     "output_type": "stream",
     "text": [
      "Testing 625x625: 100%|████████████████████████████████████████████████████████████████████████████| 100/100 [00:01<00:00, 53.04it/s]\n"
     ]
    },
    {
     "name": "stdout",
     "output_type": "stream",
     "text": [
      "\n",
      "625x625 Results:\n",
      "Accuracy: 37.00%\n",
      "Avg prediction | Perc: 0.549\n",
      "Avg prediction | Non-Perc: 0.903\n"
     ]
    },
    {
     "name": "stderr",
     "output_type": "stream",
     "text": [
      "Testing 125x125: 100%|███████████████████████████████████████████████████████████████████████████| 200/200 [00:00<00:00, 563.98it/s]\n"
     ]
    },
    {
     "name": "stdout",
     "output_type": "stream",
     "text": [
      "\n",
      "125x125 Results:\n",
      "Accuracy: 66.50%\n",
      "Avg prediction | Perc: 0.871\n",
      "Avg prediction | Non-Perc: 0.825\n"
     ]
    }
   ],
   "source": [
    "# Main experiment loop\n",
    "all_results = {}\n",
    "all_plots = {}\n",
    "combinations = [(3, 2), (3, 3), (3, 4), (4, 2), (4, 3), (4, 4), (5, 2), (5, 3)]\n",
    "n_runs = 10\n",
    "\n",
    "for DIM, POWER in combinations:\n",
    "    key = f\"{DIM}^{POWER}\"\n",
    "    all_results[key] = []\n",
    "    all_plots[key] = []\n",
    "    \n",
    "    for run in range(n_runs):\n",
    "        print(f\"\\nRunning {key} - Run {run+1}/{n_runs}\")\n",
    "        summaries, plot_data = run_experiment(DIM, POWER, run)\n",
    "        all_results[key].append(summaries)\n",
    "        all_plots[key].append(plot_data)\n",
    "    "
   ]
  },
  {
   "cell_type": "code",
   "execution_count": 4,
   "id": "59f90de0-4c1f-496e-9960-b311d4b9ff01",
   "metadata": {
    "scrolled": true
   },
   "outputs": [],
   "source": [
    "# Generate consolidated PDF report\n",
    "with PdfPages(\"consolidated_results.pdf\") as pdf:\n",
    "    for DIM, POWER in combinations:\n",
    "        key = f\"{DIM}^{POWER}\"\n",
    "        \n",
    "        plt.figure(figsize=(10, 6))\n",
    "        fixed_points = []\n",
    "        \n",
    "        for run_idx, (ps, outputs) in enumerate(all_plots[key]):\n",
    "            plt.plot(ps, outputs, alpha=0.5, label=f\"Run {run_idx+1}\")\n",
    "            \n",
    "            # Find intersection with f(p) = p\n",
    "            diff = np.array(outputs) - np.array(ps)\n",
    "            sign_changes = np.where(np.diff(np.sign(diff)))[0]\n",
    "            \n",
    "            # For each sign change, find the approximate fixed point\n",
    "            run_fixed_points = []\n",
    "            for i in sign_changes:\n",
    "                if i+1 < len(ps):\n",
    "                    x0, x1 = ps[i], ps[i+1]\n",
    "                    y0, y1 = outputs[i], outputs[i+1]\n",
    "                    # Linear approximation of intersection\n",
    "                    t = (x0 - y0) / ((y1 - y0) - (x1 - x0))\n",
    "                    fixed_point = x0 + t * (x1 - x0)\n",
    "                    run_fixed_points.append(fixed_point)\n",
    "            \n",
    "            if run_fixed_points:\n",
    "                # Take the fixed point closest to the known critical point (~0.5927)\n",
    "                best_fp = min(run_fixed_points, key=lambda x: abs(x - 0.5927))\n",
    "                fixed_points.append(best_fp)\n",
    "                plt.scatter([best_fp], [best_fp], color='black', s=20)\n",
    "        \n",
    "        # Plot f(p) = p line\n",
    "        plt.plot([0, 1], [0, 1], color=\"black\", linestyle=\"--\", label=\"f(p) = p\")\n",
    "        \n",
    "        # Add mean fixed point if available\n",
    "        if fixed_points:\n",
    "            mean_fp = np.mean(fixed_points)\n",
    "            plt.plot(mean_fp, mean_fp, color='red', label=f\"Mean Fixed Point: {mean_fp:.4f}\")\n",
    "        \n",
    "        plt.title(f\"NFC Rule Projection - Configuration {key}\", fontsize=18)\n",
    "        plt.xlabel(\"Density (p)\", fontsize=14)\n",
    "        plt.ylabel(r\"$f_{\\theta}(p\\mathbf{1})$\", fontsize=14)\n",
    "        plt.legend(fontsize=12)\n",
    "        pdf.savefig()\n",
    "        plt.close()\n",
    "\n",
    "# Generate consolidated text report\n",
    "with open(\"consolidated_accuracies.txt\", \"w\", encoding=\"utf8\") as f:\n",
    "    for DIM, POWER in combinations:\n",
    "        key = f\"{DIM}^{POWER}\"\n",
    "        \n",
    "        f.write(f\"\\n{'='*40}\\nConfiguration: {key}\\n{'='*40}\\n\")\n",
    "        \n",
    "        # Get fixed points for this configuration\n",
    "        config_fixed_points = []\n",
    "        for run_data in all_plots[key]:\n",
    "            ps, outputs = run_data\n",
    "            diff = np.array(outputs) - np.array(ps)\n",
    "            sign_changes = np.where(np.diff(np.sign(diff)))[0]\n",
    "            \n",
    "            run_fixed_points = []\n",
    "            for i in sign_changes:\n",
    "                if i+1 < len(ps):\n",
    "                    x0, x1 = ps[i], ps[i+1]\n",
    "                    y0, y1 = outputs[i], outputs[i+1]\n",
    "                    t = (x0 - y0) / ((y1 - y0) - (x1 - x0))\n",
    "                    fixed_point = x0 + t * (x1 - x0)\n",
    "                    run_fixed_points.append(fixed_point)\n",
    "            \n",
    "            if run_fixed_points:\n",
    "                best_fp = min(run_fixed_points, key=lambda x: abs(x - 0.5927))\n",
    "                config_fixed_points.append(best_fp)\n",
    "        \n",
    "        if config_fixed_points:\n",
    "            mean_fp = np.mean(config_fixed_points)\n",
    "            std_fp = np.std(config_fixed_points)\n",
    "            f.write(\"Fixed Points (intersection with f(p) = p):\\n\")\n",
    "            f.write(f\"  Values: {[f'{fp:.6f}' for fp in config_fixed_points]}\\n\")\n",
    "            f.write(f\"  Mean: {mean_fp:.6f} ± {std_fp:.6f}\\n\\n\")\n",
    "        else:\n",
    "            f.write(\"No clear fixed points found (no intersection with f(p) = p)\\n\\n\")\n",
    "        \n",
    "        # Write accuracy information with full details for each test type\n",
    "        test_types = [\"smaller_0.1-0.9\", \"standard_0.1-0.9\", \"larger_0.1-0.9\", \"standard_0.58-0.61\"]\n",
    "        for test_type in test_types:\n",
    "            f.write(f\"{test_type.replace('_', ' ')}:\\n\")\n",
    "            \n",
    "            # Get all runs' results for this test type\n",
    "            all_runs_results = [run[test_type] for run in all_results[key]]\n",
    "            \n",
    "            # Write detailed accuracy for each run\n",
    "            for run_idx, (acc, mean_perc, mean_non_perc) in enumerate(all_runs_results):\n",
    "                f.write(f\"  Run {run_idx+1}:\\n\")\n",
    "                f.write(f\"    Accuracy: {acc:.4f}\\n\")\n",
    "                f.write(f\"    Avg prediction | Perc: {mean_perc:.4f}\\n\")\n",
    "                f.write(f\"    Avg prediction | Non-Perc: {mean_non_perc:.4f}\\n\")\n",
    "            \n",
    "            # Calculate and write summary statistics\n",
    "            accs = [x[0] for x in all_runs_results]\n",
    "            mean_percs = [x[1] for x in all_runs_results]\n",
    "            mean_non_percs = [x[2] for x in all_runs_results]\n",
    "            \n",
    "            f.write(\"\\n  Summary statistics:\\n\")\n",
    "            f.write(f\"    Accuracy: {np.mean(accs):.4f} ± {np.std(accs):.4f}\\n\")\n",
    "            f.write(f\"    Avg prediction | Perc: {np.mean(mean_percs):.4f} ± {np.std(mean_percs):.4f}\\n\")\n",
    "            f.write(f\"    Avg prediction | Non-Perc: {np.mean(mean_non_percs):.4f} ± {np.std(mean_non_percs):.4f}\\n\\n\")"
   ]
  }
 ],
 "metadata": {
  "kernelspec": {
   "display_name": "Python 3 (ipykernel)",
   "language": "python",
   "name": "python3"
  },
  "language_info": {
   "codemirror_mode": {
    "name": "ipython",
    "version": 3
   },
   "file_extension": ".py",
   "mimetype": "text/x-python",
   "name": "python",
   "nbconvert_exporter": "python",
   "pygments_lexer": "ipython3",
   "version": "3.9.4"
  }
 },
 "nbformat": 4,
 "nbformat_minor": 5
}

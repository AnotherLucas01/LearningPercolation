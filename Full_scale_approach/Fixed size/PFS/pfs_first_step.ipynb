{
 "cells": [
  {
   "cell_type": "code",
   "execution_count": 1,
   "id": "944e6060-c069-4c88-8611-32794e639c69",
   "metadata": {},
   "outputs": [],
   "source": [
    "import numpy as np\n",
    "import torch\n",
    "import torch.nn as nn\n",
    "import torch.nn.functional as F\n",
    "import torch.optim as optim\n",
    "from scipy.ndimage import label\n",
    "from tqdm import tqdm\n",
    "\n",
    "# Configuration\n",
    "DIM = 3\n",
    "POWER = 4\n",
    "MAX_STEPS = POWER + 5\n",
    "\n",
    "def generate_percolation_lattice(size, p):\n",
    "    return np.random.choice([0, 1], (size, size), p=[1-p, p]).astype(np.uint8)\n",
    "\n",
    "def check_percolation(lattice):\n",
    "    labeled, _ = label(lattice)\n",
    "    top = set(labeled[0]) - {0}\n",
    "    bottom = set(labeled[-1]) - {0}\n",
    "    left = set(labeled[:,0]) - {0}\n",
    "    right = set(labeled[:,-1]) - {0}\n",
    "    return float(bool(top & bottom) or bool(left & right))\n",
    "\n",
    "# --- Percolation Probability Utilities ---\n",
    "def _precompute_coeffs(dim):\n",
    "    \"\"\"\n",
    "    Compute percolating-configuration counts for a dim x dim lattice.\n",
    "    \"\"\"\n",
    "    N = dim * dim\n",
    "    coeffs = np.zeros(N + 1, dtype=int)\n",
    "    for mask in range(1 << N):\n",
    "        bits = [(mask >> i) & 1 for i in range(N)]\n",
    "        grid = np.array(bits, dtype=bool).reshape(dim, dim)\n",
    "        if check_percolation(grid):  # use existing function\n",
    "            coeffs[sum(bits)] += 1\n",
    "    return coeffs\n",
    "\n",
    "# Precompute and cache for dims 3 and 4\n",
    "def _build_coeff_cache(dims=(3, 4)):\n",
    "    return {d: _precompute_coeffs(d) for d in dims}\n",
    "\n",
    "_COEFFS = _build_coeff_cache()\n",
    "\n",
    "\n",
    "def percolation_probability(dim, p):\n",
    "    \"\"\"\n",
    "    Exact site-percolation probability for a dim x dim lattice,\n",
    "    where each site is open with probability p.\n",
    "    Uses cached percolation counts from _COEFFS.\n",
    "    \"\"\"\n",
    "    coeffs = _COEFFS.get(dim)\n",
    "    if coeffs is None:\n",
    "        raise ValueError(f\"Coefficients for dim={dim} not precomputed.\")\n",
    "    N = dim * dim\n",
    "    k = np.arange(N + 1)\n",
    "    # sum C_k * p^k * (1-p)^(N-k)\n",
    "    probs = coeffs * (p ** k) * ((1 - p) ** (N - k))\n",
    "    return float(probs.sum())\n",
    "\n",
    "def first_coarse_graining(binary_lattice, dim):\n",
    "    \"\"\"\n",
    "    Coarse-grains a fine grid of site probabilities by averaging over patches,\n",
    "    and maps each coarse-grained value to a percolation probability\n",
    "    for a perc_dim x perc_dim lattice.\n",
    "\n",
    "    Parameters:\n",
    "    - grid: 2D numpy array of site probabilities (float values in [0, 1])\n",
    "    - dim : base of the lattice\n",
    "\n",
    "    Returns:\n",
    "    - 2D numpy array of percolation probabilities (coarse-grained)\n",
    "    \"\"\"\n",
    "    t = torch.tensor(binary_lattice, dtype=torch.float32).unsqueeze(0).unsqueeze(0)\n",
    "    patches = F.unfold(t, kernel_size=dim, stride=dim)             # [1, dim*dim, num_patches]\n",
    "    patches = patches.permute(0, 2, 1)                              # [1, num_patches, dim*dim]\n",
    "    coarse_vals = patches.mean(dim=2)                               # [1, num_patches]\n",
    "\n",
    "    # Apply percolation_probability to each patch mean\n",
    "    coarse_final = torch.tensor(\n",
    "        [[percolation_probability(dim, float(p)) for p in coarse_vals[0]]],\n",
    "        dtype=torch.float32\n",
    "    )  # [1, num_patches]\n",
    "\n",
    "    H, W = binary_lattice.shape\n",
    "    new_h, new_w = H // dim, W // dim\n",
    "    return coarse_final.view(1, new_h, new_w)        \n",
    "\n",
    "\n",
    "class PercolationModel(nn.Module):\n",
    "    def __init__(self, dim):\n",
    "        super().__init__()\n",
    "        self.dim = dim\n",
    "        self.rule = nn.Sequential(\n",
    "            nn.Linear(dim * dim, 64),\n",
    "            nn.ReLU(),\n",
    "            nn.Linear(64, 1),\n",
    "            nn.Sigmoid()\n",
    "        )\n",
    "    \n",
    "    def forward(self, x, max_steps=MAX_STEPS):\n",
    "        b, c, H, W = x.shape\n",
    "        for _ in range(max_steps):\n",
    "            if H < self.dim or W < self.dim:\n",
    "                break\n",
    "            patches = F.unfold(x, kernel_size=self.dim, stride=self.dim)  # [b, dim*dim, np]\n",
    "            patches = patches.permute(0, 2, 1).contiguous()               # [b, np, dim*dim]\n",
    "            out = self.rule(patches.view(-1, self.dim*self.dim))          # [b*np, 1]\n",
    "            new_h, new_w = H // self.dim, W // self.dim\n",
    "            x = out.view(b, 1, new_h, new_w)\n",
    "            _, _, H, W = x.shape\n",
    "        return x.squeeze(1).view(b, -1)  # returns shape [b, new_h*new_w] or [b] if fully reduced\n",
    "\n",
    "def prepare_dataset(N, size):\n",
    "    data = []\n",
    "    for _ in tqdm(range(N), desc=\"Generating data\"):\n",
    "        p = np.random.uniform(0.1, 0.9)\n",
    "        L = generate_percolation_lattice(size, p)\n",
    "        data.append((L, check_percolation(L)))\n",
    "    return data\n",
    "\n",
    "def train_epoch(model, device, data, batch_size, opt, crit):\n",
    "    model.train()\n",
    "    total_loss = 0.0\n",
    "    for i in tqdm(range(0, len(data), batch_size), desc=\"Training\"):\n",
    "        batch = data[i:i+batch_size]\n",
    "        lattices = [first_coarse_graining(x, DIM) for x, _ in batch]  # list of [1,H',W']\n",
    "        inputs = torch.stack(lattices).to(device)                     # [B,1,H',W']\n",
    "        targets = torch.tensor([y for _, y in batch], dtype=torch.float32, device=device)\n",
    "        \n",
    "        opt.zero_grad()\n",
    "        outputs = model(inputs)                                       # [B] or [B,1]\n",
    "        loss = crit(outputs.view(-1), targets)\n",
    "        loss.backward()\n",
    "        opt.step()\n",
    "        total_loss += loss.item() * len(batch)\n",
    "    return total_loss / len(data)\n",
    "\n",
    "def evaluate(model, device, data):\n",
    "    model.eval()\n",
    "    correct = 0\n",
    "    with torch.no_grad():\n",
    "        for L, lbl in tqdm(data, desc=\"Evaluating\"):\n",
    "            t = first_coarse_graining(L, DIM).to(device).unsqueeze(0)  # [1,1,H',W']\n",
    "            out = model(t).item()\n",
    "            pred = (out > 0.5)\n",
    "            correct += (pred == bool(lbl))\n",
    "    return correct / len(data)"
   ]
  },
  {
   "cell_type": "code",
   "execution_count": 2,
   "id": "e4240f80-13c6-4049-bc6f-ab07f030b262",
   "metadata": {},
   "outputs": [
    {
     "name": "stderr",
     "output_type": "stream",
     "text": [
      "Generating data: 100%|████████████████████████████████████████████████████████████████████████| 8000/8000 [00:02<00:00, 3314.32it/s]\n",
      "Training: 100%|███████████████████████████████████████████████████████████████████████████████████| 800/800 [01:22<00:00,  9.69it/s]\n"
     ]
    },
    {
     "name": "stdout",
     "output_type": "stream",
     "text": [
      "Epoch 1 — Loss: 0.6734\n"
     ]
    },
    {
     "name": "stderr",
     "output_type": "stream",
     "text": [
      "Training: 100%|███████████████████████████████████████████████████████████████████████████████████| 800/800 [01:32<00:00,  8.66it/s]\n"
     ]
    },
    {
     "name": "stdout",
     "output_type": "stream",
     "text": [
      "Epoch 2 — Loss: 0.4817\n"
     ]
    },
    {
     "name": "stderr",
     "output_type": "stream",
     "text": [
      "Training: 100%|███████████████████████████████████████████████████████████████████████████████████| 800/800 [01:24<00:00,  9.42it/s]\n"
     ]
    },
    {
     "name": "stdout",
     "output_type": "stream",
     "text": [
      "Epoch 3 — Loss: 0.2554\n"
     ]
    },
    {
     "name": "stderr",
     "output_type": "stream",
     "text": [
      "Training: 100%|███████████████████████████████████████████████████████████████████████████████████| 800/800 [01:26<00:00,  9.29it/s]\n"
     ]
    },
    {
     "name": "stdout",
     "output_type": "stream",
     "text": [
      "Epoch 4 — Loss: 0.2045\n"
     ]
    },
    {
     "name": "stderr",
     "output_type": "stream",
     "text": [
      "Training: 100%|███████████████████████████████████████████████████████████████████████████████████| 800/800 [01:28<00:00,  9.07it/s]"
     ]
    },
    {
     "name": "stdout",
     "output_type": "stream",
     "text": [
      "Epoch 5 — Loss: 0.1786\n"
     ]
    },
    {
     "name": "stderr",
     "output_type": "stream",
     "text": [
      "\n"
     ]
    }
   ],
   "source": [
    "# ----------------- Run -----------------\n",
    "DEVICE = torch.device('cuda' if torch.cuda.is_available() else 'cpu')\n",
    "SIZE = DIM ** POWER\n",
    "train_data = prepare_dataset(8_000, SIZE)\n",
    "\n",
    "model = PercolationModel(DIM).to(DEVICE)\n",
    "opt   = optim.Adam(model.parameters(), lr=1e-3)\n",
    "crit  = nn.BCELoss()\n",
    "\n",
    "for epoch in range(1, 6):\n",
    "    loss = train_epoch(model, DEVICE, train_data, 10, opt, crit)\n",
    "    print(f\"Epoch {epoch} — Loss: {loss:.4f}\")"
   ]
  },
  {
   "cell_type": "code",
   "execution_count": 3,
   "id": "f2a38e2f-4603-430e-a384-d8e78077abfb",
   "metadata": {},
   "outputs": [
    {
     "data": {
      "image/png": "[encoded data removed]",
      "text/plain": [
       "<Figure size 1000x600 with 1 Axes>"
      ]
     },
     "metadata": {},
     "output_type": "display_data"
    }
   ],
   "source": [
    "# Visualization\n",
    "\n",
    "def visualize_rule(model, dim, device='cpu'):\n",
    "    import matplotlib.pyplot as plt\n",
    "    p_values = np.linspace(0, 1, 100)\n",
    "    model.eval()\n",
    "    rule_predictions = []\n",
    "\n",
    "    with torch.no_grad():\n",
    "        for p in p_values:\n",
    "            # Use a full dim×dim block to query the learned rule\n",
    "            input_block = torch.full((1, 1, dim, dim), p, device=device, dtype=torch.float32)\n",
    "            pred = model(input_block).item()\n",
    "            rule_predictions.append(pred)\n",
    "    \n",
    "    plt.figure(figsize=(10, 6))\n",
    "    plt.plot(p_values, rule_predictions, label=f'Learned {dim}×{dim} Rule')\n",
    "    plt.xlabel('Occupation Probability p')\n",
    "    plt.ylabel('Coarse-grained Percolation Probability')\n",
    "    plt.title(f'Learned {dim}×{dim} Rule via AFS')\n",
    "    plt.legend()\n",
    "    plt.grid(True)\n",
    "    plt.savefig(f'Learned_{dim}x{dim}_Rule_via_AFS.pdf')\n",
    "    plt.show()\n",
    "\n",
    "# Call it\n",
    "visualize_rule(model, DIM, DEVICE)\n"
   ]
  }
 ],
 "metadata": {
  "kernelspec": {
   "display_name": "Python 3 (ipykernel)",
   "language": "python",
   "name": "python3"
  },
  "language_info": {
   "codemirror_mode": {
    "name": "ipython",
    "version": 3
   },
   "file_extension": ".py",
   "mimetype": "text/x-python",
   "name": "python",
   "nbconvert_exporter": "python",
   "pygments_lexer": "ipython3",
   "version": "3.9.4"
  }
 },
 "nbformat": 4,
 "nbformat_minor": 5
}

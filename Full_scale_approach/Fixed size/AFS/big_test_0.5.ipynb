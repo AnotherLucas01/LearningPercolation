{
 "cells": [
  {
   "cell_type": "code",
   "execution_count": 1,
   "id": "18c4b579-b7d6-457c-bdb5-7db7c9730bcd",
   "metadata": {},
   "outputs": [],
   "source": [
    "# Core Imports and Functions\n",
    "import numpy as np\n",
    "import torch\n",
    "import torch.nn as nn\n",
    "import torch.nn.functional as F\n",
    "import torch.optim as optim\n",
    "from scipy.ndimage import label\n",
    "from tqdm import tqdm\n",
    "import matplotlib.pyplot as plt\n",
    "from matplotlib.backends.backend_pdf import PdfPages\n",
    "import itertools\n",
    "\n",
    "# Configuration Parameters\n",
    "DIM = 3        # Base dimension for patches (3×3)\n",
    "POWER = 4      # Lattice size = DIM^POWER\n",
    "MAX_STEPS = POWER + 5  # Maximum coarse-graining steps\n",
    "\n",
    "# ADDED: First coarse-graining function\n",
    "def first_coarse_graining(binary_lattice, dim):\n",
    "    \"\"\"Average non-overlapping dim×dim blocks.\"\"\"\n",
    "    t = torch.tensor(binary_lattice, dtype=torch.float32).unsqueeze(0).unsqueeze(0)\n",
    "    patches = F.unfold(t, kernel_size=dim, stride=dim)             # [1, dim*dim, num_patches]\n",
    "    patches = patches.permute(0, 2, 1)                            # [1, num_patches, dim*dim]\n",
    "    coarse_vals = patches.mean(dim=2)                             # [1, num_patches]\n",
    "    H, W = binary_lattice.shape\n",
    "    new_h, new_w = H // dim, W // dim\n",
    "    return coarse_vals.view(1, 1, new_h, new_w)                   # [1, 1, new_h, new_w]\n",
    "\n",
    "def generate_percolation_lattice(size, p):\n",
    "    return np.random.choice([0, 1], (size, size), p=[1 - p, p])\n",
    "\n",
    "def check_percolation(lattice):\n",
    "    labeled, _ = label(lattice)\n",
    "    \n",
    "    # Vertical percolation (top-bottom)\n",
    "    top = set(labeled[0, :]) - {0}\n",
    "    bottom = set(labeled[-1, :]) - {0}\n",
    "    vertical = bool(top & bottom)\n",
    "    \n",
    "    # Horizontal percolation (left-right)\n",
    "    left = set(labeled[:, 0]) - {0}\n",
    "    right = set(labeled[:, -1]) - {0}\n",
    "    horizontal = bool(left & right)\n",
    "    \n",
    "    return float(vertical or horizontal)\n",
    "\n",
    "class PercolationModel(nn.Module):\n",
    "    def __init__(self, dim):\n",
    "        super().__init__()\n",
    "        self.dim = dim\n",
    "        self.rule = nn.Sequential(\n",
    "            nn.Linear(dim * dim, 64),\n",
    "            nn.ReLU(),\n",
    "            nn.Linear(64, 1),\n",
    "            nn.Sigmoid()\n",
    "        )\n",
    "    \n",
    "    def forward(self, x, max_steps=MAX_STEPS):\n",
    "        b, c, H, W = x.shape\n",
    "        \n",
    "        for _ in range(max_steps):\n",
    "            if H < self.dim or W < self.dim:\n",
    "                break\n",
    "            \n",
    "            # Extract dim×dim patches\n",
    "            patches = F.unfold(x, kernel_size=self.dim, stride=self.dim)\n",
    "            patches = patches.permute(0, 2, 1).contiguous()  # (B, #patches, dim*dim)\n",
    "            patches = patches.view(-1, self.dim * self.dim)   # (B * #patches, dim*dim)\n",
    "            \n",
    "            out = self.rule(patches)  # (B * #patches, 1)\n",
    "            \n",
    "            new_h, new_w = H // self.dim, W // self.dim\n",
    "            x = out.view(b, 1, new_h, new_w)  # (B, 1, new_h, new_w)\n",
    "            _, c, H, W = x.shape\n",
    "\n",
    "        return x.squeeze()  # (B,)\n",
    "\n",
    "def prepare_dataset(num_samples, lattice_size):\n",
    "    data = []\n",
    "    for _ in tqdm(range(num_samples), desc=\"Generating data\"):\n",
    "        p = np.random.uniform(0, 1)\n",
    "        lattice = generate_percolation_lattice(lattice_size, p)\n",
    "        lbl = check_percolation(lattice)\n",
    "        data.append((lattice, lbl))\n",
    "    return data\n",
    "\n",
    "def train_epoch(model, device, train_data, batch_size, optimizer, criterion, dim):\n",
    "    model.train()\n",
    "    running_loss = 0.0\n",
    "    for i in tqdm(range(0, len(train_data), batch_size), desc=\"Training\"):\n",
    "        batch = train_data[i : i + batch_size]\n",
    "        \n",
    "        # MODIFIED: Apply first coarse-graining to each lattice\n",
    "        lattices = [first_coarse_graining(x, dim) for x, _ in batch]  # Each is [1,1,H',W']\n",
    "        \n",
    "        # Stack into a (B, 1, H, W) tensor\n",
    "        inputs = torch.cat(lattices, dim=0).to(device)  # [B, 1, H', W']\n",
    "        targets = torch.tensor([y for _, y in batch], dtype=torch.float32).to(device)\n",
    "        \n",
    "        optimizer.zero_grad()\n",
    "        outputs = model(inputs, max_steps=MAX_STEPS)  # (B,) after .squeeze()\n",
    "        loss = criterion(outputs, targets)\n",
    "        loss.backward()\n",
    "        optimizer.step()\n",
    "        \n",
    "        running_loss += loss.item() * len(batch)\n",
    "    \n",
    "    return running_loss / len(train_data)\n",
    "\n",
    "def test_systems(model, dim, power, device=\"cpu\", num_tests=10,\n",
    "                 system_size=\"standard\", p_range=(0, 1), verbose=True):\n",
    "    \"\"\"\n",
    "    Tests model on raw lattices without initial coarse-graining.\n",
    "    Args:\n",
    "        system_size: 'smaller' (dim^(power-1)), 'standard' (dim^power), or 'larger' (dim^(power+1))\n",
    "    \"\"\"\n",
    "    model.eval()\n",
    "    \n",
    "    size_power = {\n",
    "        \"smaller\": power - 1,\n",
    "        \"standard\": power,\n",
    "        \"larger\": power + 1\n",
    "    }[system_size]\n",
    "    \n",
    "    lattice_size = dim ** size_power\n",
    "    results = []\n",
    "    \n",
    "    for _ in tqdm(range(num_tests), desc=f\"Testing {lattice_size}x{lattice_size}\"):\n",
    "        p = np.random.uniform(*p_range)\n",
    "        lattice = generate_percolation_lattice(lattice_size, p)\n",
    "        true_label = check_percolation(lattice)\n",
    "        \n",
    "        # MODIFIED: Apply first coarse-graining\n",
    "        input_tensor = first_coarse_graining(lattice, dim).to(device)  # [1,1,H',W']\n",
    "        \n",
    "        with torch.no_grad():\n",
    "            pred = model(input_tensor).item()\n",
    "        \n",
    "        results.append((lattice, true_label, pred))\n",
    "    \n",
    "    threshold = 0.5\n",
    "    correct = sum(1 for _, lbl, pred in results if (pred > threshold) == lbl)\n",
    "    acc = correct / num_tests\n",
    "    \n",
    "    if verbose:\n",
    "        print(f\"\\n{lattice_size}x{lattice_size} Results:\")\n",
    "        print(f\"Accuracy: {acc:.2%}\")\n",
    "        print(f\"Avg prediction | Perc: {np.mean([p for _, l, p in results if l == 1]):.3f}\")\n",
    "        print(f\"Avg prediction | Non-Perc: {np.mean([p for _, l, p in results if l == 0]):.3f}\")\n",
    "    \n",
    "    return results"
   ]
  },
  {
   "cell_type": "code",
   "execution_count": 2,
   "id": "fa4cc7a0-b193-495a-aa5f-ac81c6f04615",
   "metadata": {},
   "outputs": [],
   "source": [
    "# Initialization\n",
    "DEVICE = torch.device(\"cuda\" if torch.cuda.is_available() else \"cpu\")\n",
    "SIZE = DIM ** POWER\n",
    "TRAIN_SAMPLES = 10000\n",
    "BATCH_SIZE = 10\n",
    "EPOCHS = 5\n",
    "\n",
    "def run_experiment(DIM, POWER, run_num):\n",
    "    SIZE = DIM ** POWER\n",
    "    MAX_STEPS = POWER + 5\n",
    "    \n",
    "    # Generate training dataset\n",
    "    train_data = prepare_dataset(TRAIN_SAMPLES, SIZE)\n",
    "    \n",
    "    # Initialize model, optimizer, loss\n",
    "    model = PercolationModel(dim=DIM).to(DEVICE)\n",
    "    optimizer = optim.Adam(model.parameters(), lr=0.001)\n",
    "    criterion = nn.BCELoss()\n",
    "\n",
    "    # Training loop\n",
    "    for epoch in range(EPOCHS):\n",
    "        loss = train_epoch(model, DEVICE, train_data, BATCH_SIZE, optimizer, criterion, DIM)\n",
    "\n",
    "    # Testing configurations\n",
    "    test_configs = [\n",
    "        {\"system_size\": \"smaller\", \"num_tests\": 100, \"p_range\": (0.1, 0.9)},\n",
    "        {\"system_size\": \"standard\", \"num_tests\": 100, \"p_range\": (0.1, 0.9)},\n",
    "        {\"system_size\": \"larger\", \"num_tests\": 100, \"p_range\": (0.1, 0.9)},\n",
    "        {\"system_size\": \"standard\", \"num_tests\": 200, \"p_range\": (0.58, 0.61)},\n",
    "    ]\n",
    "    \n",
    "    test_results = {}\n",
    "    for config in test_configs:\n",
    "        key = f\"{config['system_size']}_{config['p_range'][0]}-{config['p_range'][1]}\"\n",
    "        test_results[key] = test_systems(\n",
    "            model=model,\n",
    "            dim=DIM,\n",
    "            power=POWER,\n",
    "            device=DEVICE,\n",
    "            **config\n",
    "        )\n",
    "\n",
    "    # Summarize test results\n",
    "    summaries = {}\n",
    "    for key, results in test_results.items():\n",
    "        acc = sum((pred > 0.5) == lbl for _, lbl, pred in results) / len(results)\n",
    "        mean_perc = np.nanmean([pred for _, lbl, pred in results if lbl == 1])\n",
    "        mean_non_perc = np.nanmean([pred for _, lbl, pred in results if lbl == 0])\n",
    "        summaries[key] = (acc, mean_perc, mean_non_perc)\n",
    "\n",
    "    # Generate rule-projection data by feeding 3×3 patch of constant p\n",
    "    ps_coarse = np.linspace(0.0, 1.0, 101)\n",
    "    ps_fine = np.linspace(0.5, 0.7, 201)\n",
    "    ps = np.unique(np.concatenate((ps_coarse, ps_fine)))\n",
    "    ps.sort()\n",
    "\n",
    "    mean_outputs = []\n",
    "    with torch.no_grad():\n",
    "        for p in ps:\n",
    "            # Create a single 3×3 patch with all entries = p\n",
    "            patch = np.full((DIM * DIM,), p, dtype=np.float32)        # shape: (dim*dim,)\n",
    "            patch_tensor = torch.from_numpy(patch).unsqueeze(0).to(DEVICE)  # (1, dim*dim)\n",
    "            out = model.rule(patch_tensor).cpu().numpy().item()        # scalar\n",
    "            mean_outputs.append(out)\n",
    "\n",
    "    return summaries, (ps, mean_outputs)"
   ]
  },
  {
   "cell_type": "code",
   "execution_count": 3,
   "id": "ee36c515-844f-4396-97ae-dcb6e9b1df2c",
   "metadata": {
    "scrolled": true
   },
   "outputs": [
    {
     "name": "stdout",
     "output_type": "stream",
     "text": [
      "\n",
      "Running 3^2 - Run 1/10\n"
     ]
    },
    {
     "name": "stderr",
     "output_type": "stream",
     "text": [
      "Generating data: 100%|█████████████████████████████████████████████████████████████████████| 10000/10000 [00:00<00:00, 11343.73it/s]\n",
      "Training: 100%|████████████████████████████████████████████████████████████████████████████████| 1000/1000 [00:01<00:00, 645.01it/s]\n",
      "Training: 100%|████████████████████████████████████████████████████████████████████████████████| 1000/1000 [00:01<00:00, 648.33it/s]\n",
      "Training: 100%|████████████████████████████████████████████████████████████████████████████████| 1000/1000 [00:01<00:00, 652.92it/s]\n",
      "Training: 100%|████████████████████████████████████████████████████████████████████████████████| 1000/1000 [00:01<00:00, 638.77it/s]\n",
      "Training: 100%|████████████████████████████████████████████████████████████████████████████████| 1000/1000 [00:01<00:00, 610.07it/s]\n",
      "Testing 3x3: 100%|██████████████████████████████████████████████████████████████████████████████| 100/100 [00:00<00:00, 2766.86it/s]\n"
     ]
    },
    {
     "name": "stdout",
     "output_type": "stream",
     "text": [
      "\n",
      "3x3 Results:\n",
      "Accuracy: 94.00%\n",
      "Avg prediction | Perc: 0.728\n",
      "Avg prediction | Non-Perc: 0.295\n"
     ]
    },
    {
     "name": "stderr",
     "output_type": "stream",
     "text": [
      "Testing 9x9: 100%|██████████████████████████████████████████████████████████████████████████████| 100/100 [00:00<00:00, 2296.89it/s]\n"
     ]
    },
    {
     "name": "stdout",
     "output_type": "stream",
     "text": [
      "\n",
      "9x9 Results:\n",
      "Accuracy: 88.00%\n",
      "Avg prediction | Perc: 0.852\n",
      "Avg prediction | Non-Perc: 0.110\n"
     ]
    },
    {
     "name": "stderr",
     "output_type": "stream",
     "text": [
      "Testing 27x27: 100%|████████████████████████████████████████████████████████████████████████████| 100/100 [00:00<00:00, 1717.60it/s]\n"
     ]
    },
    {
     "name": "stdout",
     "output_type": "stream",
     "text": [
      "\n",
      "27x27 Results:\n",
      "Accuracy: 90.00%\n",
      "Avg prediction | Perc: 0.923\n",
      "Avg prediction | Non-Perc: 0.092\n"
     ]
    },
    {
     "name": "stderr",
     "output_type": "stream",
     "text": [
      "Testing 9x9: 100%|██████████████████████████████████████████████████████████████████████████████| 200/200 [00:00<00:00, 2560.48it/s]\n"
     ]
    },
    {
     "name": "stdout",
     "output_type": "stream",
     "text": [
      "\n",
      "9x9 Results:\n",
      "Accuracy: 78.50%\n",
      "Avg prediction | Perc: 0.778\n",
      "Avg prediction | Non-Perc: 0.551\n",
      "\n",
      "Running 3^2 - Run 2/10\n"
     ]
    },
    {
     "name": "stderr",
     "output_type": "stream",
     "text": [
      "Generating data: 100%|█████████████████████████████████████████████████████████████████████| 10000/10000 [00:00<00:00, 11100.39it/s]\n",
      "Training: 100%|████████████████████████████████████████████████████████████████████████████████| 1000/1000 [00:01<00:00, 627.10it/s]\n",
      "Training: 100%|████████████████████████████████████████████████████████████████████████████████| 1000/1000 [00:01<00:00, 610.59it/s]\n",
      "Training: 100%|████████████████████████████████████████████████████████████████████████████████| 1000/1000 [00:01<00:00, 604.97it/s]\n",
      "Training: 100%|████████████████████████████████████████████████████████████████████████████████| 1000/1000 [00:01<00:00, 613.84it/s]\n",
      "Training: 100%|████████████████████████████████████████████████████████████████████████████████| 1000/1000 [00:01<00:00, 619.54it/s]\n",
      "Testing 3x3: 100%|██████████████████████████████████████████████████████████████████████████████| 100/100 [00:00<00:00, 4087.50it/s]\n"
     ]
    },
    {
     "name": "stdout",
     "output_type": "stream",
     "text": [
      "\n",
      "3x3 Results:\n",
      "Accuracy: 94.00%\n",
      "Avg prediction | Perc: 0.741\n",
      "Avg prediction | Non-Perc: 0.273\n"
     ]
    },
    {
     "name": "stderr",
     "output_type": "stream",
     "text": [
      "Testing 9x9: 100%|██████████████████████████████████████████████████████████████████████████████| 100/100 [00:00<00:00, 2299.57it/s]\n"
     ]
    },
    {
     "name": "stdout",
     "output_type": "stream",
     "text": [
      "\n",
      "9x9 Results:\n",
      "Accuracy: 94.00%\n",
      "Avg prediction | Perc: 0.887\n",
      "Avg prediction | Non-Perc: 0.091\n"
     ]
    },
    {
     "name": "stderr",
     "output_type": "stream",
     "text": [
      "Testing 27x27: 100%|████████████████████████████████████████████████████████████████████████████| 100/100 [00:00<00:00, 1866.37it/s]\n"
     ]
    },
    {
     "name": "stdout",
     "output_type": "stream",
     "text": [
      "\n",
      "27x27 Results:\n",
      "Accuracy: 94.00%\n",
      "Avg prediction | Perc: 0.995\n",
      "Avg prediction | Non-Perc: 0.092\n"
     ]
    },
    {
     "name": "stderr",
     "output_type": "stream",
     "text": [
      "Testing 9x9: 100%|██████████████████████████████████████████████████████████████████████████████| 200/200 [00:00<00:00, 2505.37it/s]\n"
     ]
    },
    {
     "name": "stdout",
     "output_type": "stream",
     "text": [
      "\n",
      "9x9 Results:\n",
      "Accuracy: 75.50%\n",
      "Avg prediction | Perc: 0.766\n",
      "Avg prediction | Non-Perc: 0.540\n",
      "\n",
      "Running 3^2 - Run 3/10\n"
     ]
    },
    {
     "name": "stderr",
     "output_type": "stream",
     "text": [
      "Generating data: 100%|█████████████████████████████████████████████████████████████████████| 10000/10000 [00:00<00:00, 11112.95it/s]\n",
      "Training: 100%|████████████████████████████████████████████████████████████████████████████████| 1000/1000 [00:01<00:00, 611.50it/s]\n",
      "Training: 100%|████████████████████████████████████████████████████████████████████████████████| 1000/1000 [00:01<00:00, 571.27it/s]\n",
      "Training: 100%|████████████████████████████████████████████████████████████████████████████████| 1000/1000 [00:01<00:00, 597.86it/s]\n",
      "Training: 100%|████████████████████████████████████████████████████████████████████████████████| 1000/1000 [00:01<00:00, 600.12it/s]\n",
      "Training: 100%|████████████████████████████████████████████████████████████████████████████████| 1000/1000 [00:01<00:00, 583.45it/s]\n",
      "Testing 3x3: 100%|██████████████████████████████████████████████████████████████████████████████| 100/100 [00:00<00:00, 5663.62it/s]\n"
     ]
    },
    {
     "name": "stdout",
     "output_type": "stream",
     "text": [
      "\n",
      "3x3 Results:\n",
      "Accuracy: 90.00%\n",
      "Avg prediction | Perc: 0.715\n",
      "Avg prediction | Non-Perc: 0.288\n"
     ]
    },
    {
     "name": "stderr",
     "output_type": "stream",
     "text": [
      "Testing 9x9: 100%|██████████████████████████████████████████████████████████████████████████████| 100/100 [00:00<00:00, 2132.67it/s]\n"
     ]
    },
    {
     "name": "stdout",
     "output_type": "stream",
     "text": [
      "\n",
      "9x9 Results:\n",
      "Accuracy: 92.00%\n",
      "Avg prediction | Perc: 0.869\n",
      "Avg prediction | Non-Perc: 0.081\n"
     ]
    },
    {
     "name": "stderr",
     "output_type": "stream",
     "text": [
      "Testing 27x27: 100%|████████████████████████████████████████████████████████████████████████████| 100/100 [00:00<00:00, 2133.43it/s]\n"
     ]
    },
    {
     "name": "stdout",
     "output_type": "stream",
     "text": [
      "\n",
      "27x27 Results:\n",
      "Accuracy: 95.00%\n",
      "Avg prediction | Perc: 0.977\n",
      "Avg prediction | Non-Perc: 0.086\n"
     ]
    },
    {
     "name": "stderr",
     "output_type": "stream",
     "text": [
      "Testing 9x9: 100%|██████████████████████████████████████████████████████████████████████████████| 200/200 [00:00<00:00, 2223.90it/s]\n"
     ]
    },
    {
     "name": "stdout",
     "output_type": "stream",
     "text": [
      "\n",
      "9x9 Results:\n",
      "Accuracy: 76.00%\n",
      "Avg prediction | Perc: 0.852\n",
      "Avg prediction | Non-Perc: 0.551\n",
      "\n",
      "Running 3^2 - Run 4/10\n"
     ]
    },
    {
     "name": "stderr",
     "output_type": "stream",
     "text": [
      "Generating data: 100%|█████████████████████████████████████████████████████████████████████| 10000/10000 [00:00<00:00, 11144.83it/s]\n",
      "Training: 100%|████████████████████████████████████████████████████████████████████████████████| 1000/1000 [00:01<00:00, 618.39it/s]\n",
      "Training: 100%|████████████████████████████████████████████████████████████████████████████████| 1000/1000 [00:01<00:00, 580.42it/s]\n",
      "Training: 100%|████████████████████████████████████████████████████████████████████████████████| 1000/1000 [00:01<00:00, 589.58it/s]\n",
      "Training: 100%|████████████████████████████████████████████████████████████████████████████████| 1000/1000 [00:01<00:00, 594.09it/s]\n",
      "Training: 100%|████████████████████████████████████████████████████████████████████████████████| 1000/1000 [00:01<00:00, 581.65it/s]\n",
      "Testing 3x3: 100%|██████████████████████████████████████████████████████████████████████████████| 100/100 [00:00<00:00, 3788.38it/s]\n"
     ]
    },
    {
     "name": "stdout",
     "output_type": "stream",
     "text": [
      "\n",
      "3x3 Results:\n",
      "Accuracy: 92.00%\n",
      "Avg prediction | Perc: 0.737\n",
      "Avg prediction | Non-Perc: 0.272\n"
     ]
    },
    {
     "name": "stderr",
     "output_type": "stream",
     "text": [
      "Testing 9x9: 100%|██████████████████████████████████████████████████████████████████████████████| 100/100 [00:00<00:00, 2681.66it/s]\n"
     ]
    },
    {
     "name": "stdout",
     "output_type": "stream",
     "text": [
      "\n",
      "9x9 Results:\n",
      "Accuracy: 92.00%\n",
      "Avg prediction | Perc: 0.852\n",
      "Avg prediction | Non-Perc: 0.050\n"
     ]
    },
    {
     "name": "stderr",
     "output_type": "stream",
     "text": [
      "Testing 27x27: 100%|████████████████████████████████████████████████████████████████████████████| 100/100 [00:00<00:00, 1960.09it/s]\n"
     ]
    },
    {
     "name": "stdout",
     "output_type": "stream",
     "text": [
      "\n",
      "27x27 Results:\n",
      "Accuracy: 97.00%\n",
      "Avg prediction | Perc: 0.998\n",
      "Avg prediction | Non-Perc: 0.061\n"
     ]
    },
    {
     "name": "stderr",
     "output_type": "stream",
     "text": [
      "Testing 9x9: 100%|██████████████████████████████████████████████████████████████████████████████| 200/200 [00:00<00:00, 2406.57it/s]\n"
     ]
    },
    {
     "name": "stdout",
     "output_type": "stream",
     "text": [
      "\n",
      "9x9 Results:\n",
      "Accuracy: 74.50%\n",
      "Avg prediction | Perc: 0.711\n",
      "Avg prediction | Non-Perc: 0.447\n",
      "\n",
      "Running 3^2 - Run 5/10\n"
     ]
    },
    {
     "name": "stderr",
     "output_type": "stream",
     "text": [
      "Generating data: 100%|█████████████████████████████████████████████████████████████████████| 10000/10000 [00:00<00:00, 11253.57it/s]\n",
      "Training: 100%|████████████████████████████████████████████████████████████████████████████████| 1000/1000 [00:01<00:00, 630.01it/s]\n",
      "Training: 100%|████████████████████████████████████████████████████████████████████████████████| 1000/1000 [00:01<00:00, 633.32it/s]\n",
      "Training: 100%|████████████████████████████████████████████████████████████████████████████████| 1000/1000 [00:01<00:00, 581.85it/s]\n",
      "Training: 100%|████████████████████████████████████████████████████████████████████████████████| 1000/1000 [00:01<00:00, 576.14it/s]\n",
      "Training: 100%|████████████████████████████████████████████████████████████████████████████████| 1000/1000 [00:01<00:00, 615.78it/s]\n",
      "Testing 3x3: 100%|██████████████████████████████████████████████████████████████████████████████| 100/100 [00:00<00:00, 6396.88it/s]\n"
     ]
    },
    {
     "name": "stdout",
     "output_type": "stream",
     "text": [
      "\n",
      "3x3 Results:\n",
      "Accuracy: 86.00%\n",
      "Avg prediction | Perc: 0.677\n",
      "Avg prediction | Non-Perc: 0.295\n"
     ]
    },
    {
     "name": "stderr",
     "output_type": "stream",
     "text": [
      "Testing 9x9: 100%|██████████████████████████████████████████████████████████████████████████████| 100/100 [00:00<00:00, 3200.00it/s]\n"
     ]
    },
    {
     "name": "stdout",
     "output_type": "stream",
     "text": [
      "\n",
      "9x9 Results:\n",
      "Accuracy: 92.00%\n",
      "Avg prediction | Perc: 0.875\n",
      "Avg prediction | Non-Perc: 0.053\n"
     ]
    },
    {
     "name": "stderr",
     "output_type": "stream",
     "text": [
      "Testing 27x27: 100%|████████████████████████████████████████████████████████████████████████████| 100/100 [00:00<00:00, 1599.81it/s]\n"
     ]
    },
    {
     "name": "stdout",
     "output_type": "stream",
     "text": [
      "\n",
      "27x27 Results:\n",
      "Accuracy: 98.00%\n",
      "Avg prediction | Perc: 0.957\n",
      "Avg prediction | Non-Perc: 0.012\n"
     ]
    },
    {
     "name": "stderr",
     "output_type": "stream",
     "text": [
      "Testing 9x9: 100%|██████████████████████████████████████████████████████████████████████████████| 200/200 [00:00<00:00, 3136.74it/s]\n"
     ]
    },
    {
     "name": "stdout",
     "output_type": "stream",
     "text": [
      "\n",
      "9x9 Results:\n",
      "Accuracy: 75.50%\n",
      "Avg prediction | Perc: 0.709\n",
      "Avg prediction | Non-Perc: 0.422\n",
      "\n",
      "Running 3^2 - Run 6/10\n"
     ]
    },
    {
     "name": "stderr",
     "output_type": "stream",
     "text": [
      "Generating data: 100%|█████████████████████████████████████████████████████████████████████| 10000/10000 [00:00<00:00, 11190.49it/s]\n",
      "Training: 100%|████████████████████████████████████████████████████████████████████████████████| 1000/1000 [00:01<00:00, 618.55it/s]\n",
      "Training: 100%|████████████████████████████████████████████████████████████████████████████████| 1000/1000 [00:01<00:00, 590.46it/s]\n",
      "Training: 100%|████████████████████████████████████████████████████████████████████████████████| 1000/1000 [00:01<00:00, 609.02it/s]\n",
      "Training: 100%|████████████████████████████████████████████████████████████████████████████████| 1000/1000 [00:01<00:00, 581.68it/s]\n",
      "Training: 100%|████████████████████████████████████████████████████████████████████████████████| 1000/1000 [00:01<00:00, 584.88it/s]\n",
      "Testing 3x3: 100%|██████████████████████████████████████████████████████████████████████████████| 100/100 [00:00<00:00, 3998.88it/s]\n"
     ]
    },
    {
     "name": "stdout",
     "output_type": "stream",
     "text": [
      "\n",
      "3x3 Results:\n",
      "Accuracy: 89.00%\n",
      "Avg prediction | Perc: 0.742\n",
      "Avg prediction | Non-Perc: 0.303\n"
     ]
    },
    {
     "name": "stderr",
     "output_type": "stream",
     "text": [
      "Testing 9x9: 100%|██████████████████████████████████████████████████████████████████████████████| 100/100 [00:00<00:00, 3926.70it/s]\n"
     ]
    },
    {
     "name": "stdout",
     "output_type": "stream",
     "text": [
      "\n",
      "9x9 Results:\n",
      "Accuracy: 93.00%\n",
      "Avg prediction | Perc: 0.891\n",
      "Avg prediction | Non-Perc: 0.088\n"
     ]
    },
    {
     "name": "stderr",
     "output_type": "stream",
     "text": [
      "Testing 27x27: 100%|████████████████████████████████████████████████████████████████████████████| 100/100 [00:00<00:00, 1828.86it/s]\n"
     ]
    },
    {
     "name": "stdout",
     "output_type": "stream",
     "text": [
      "\n",
      "27x27 Results:\n",
      "Accuracy: 96.00%\n",
      "Avg prediction | Perc: 1.000\n",
      "Avg prediction | Non-Perc: 0.072\n"
     ]
    },
    {
     "name": "stderr",
     "output_type": "stream",
     "text": [
      "Testing 9x9: 100%|██████████████████████████████████████████████████████████████████████████████| 200/200 [00:00<00:00, 2492.83it/s]\n"
     ]
    },
    {
     "name": "stdout",
     "output_type": "stream",
     "text": [
      "\n",
      "9x9 Results:\n",
      "Accuracy: 79.50%\n",
      "Avg prediction | Perc: 0.826\n",
      "Avg prediction | Non-Perc: 0.521\n",
      "\n",
      "Running 3^2 - Run 7/10\n"
     ]
    },
    {
     "name": "stderr",
     "output_type": "stream",
     "text": [
      "Generating data: 100%|█████████████████████████████████████████████████████████████████████| 10000/10000 [00:00<00:00, 10988.77it/s]\n",
      "Training: 100%|████████████████████████████████████████████████████████████████████████████████| 1000/1000 [00:01<00:00, 572.50it/s]\n",
      "Training: 100%|████████████████████████████████████████████████████████████████████████████████| 1000/1000 [00:01<00:00, 594.33it/s]\n",
      "Training: 100%|████████████████████████████████████████████████████████████████████████████████| 1000/1000 [00:01<00:00, 598.31it/s]\n",
      "Training: 100%|████████████████████████████████████████████████████████████████████████████████| 1000/1000 [00:01<00:00, 605.11it/s]\n",
      "Training: 100%|████████████████████████████████████████████████████████████████████████████████| 1000/1000 [00:01<00:00, 572.14it/s]\n",
      "Testing 3x3: 100%|██████████████████████████████████████████████████████████████████████████████| 100/100 [00:00<00:00, 3653.70it/s]\n"
     ]
    },
    {
     "name": "stdout",
     "output_type": "stream",
     "text": [
      "\n",
      "3x3 Results:\n",
      "Accuracy: 89.00%\n",
      "Avg prediction | Perc: 0.695\n",
      "Avg prediction | Non-Perc: 0.260\n"
     ]
    },
    {
     "name": "stderr",
     "output_type": "stream",
     "text": [
      "Testing 9x9: 100%|██████████████████████████████████████████████████████████████████████████████| 100/100 [00:00<00:00, 2530.68it/s]\n"
     ]
    },
    {
     "name": "stdout",
     "output_type": "stream",
     "text": [
      "\n",
      "9x9 Results:\n",
      "Accuracy: 93.00%\n",
      "Avg prediction | Perc: 0.904\n",
      "Avg prediction | Non-Perc: 0.068\n"
     ]
    },
    {
     "name": "stderr",
     "output_type": "stream",
     "text": [
      "Testing 27x27: 100%|████████████████████████████████████████████████████████████████████████████| 100/100 [00:00<00:00, 1550.08it/s]\n"
     ]
    },
    {
     "name": "stdout",
     "output_type": "stream",
     "text": [
      "\n",
      "27x27 Results:\n",
      "Accuracy: 95.00%\n",
      "Avg prediction | Perc: 0.930\n",
      "Avg prediction | Non-Perc: 0.048\n"
     ]
    },
    {
     "name": "stderr",
     "output_type": "stream",
     "text": [
      "Testing 9x9: 100%|██████████████████████████████████████████████████████████████████████████████| 200/200 [00:00<00:00, 2598.29it/s]\n"
     ]
    },
    {
     "name": "stdout",
     "output_type": "stream",
     "text": [
      "\n",
      "9x9 Results:\n",
      "Accuracy: 80.00%\n",
      "Avg prediction | Perc: 0.793\n",
      "Avg prediction | Non-Perc: 0.576\n",
      "\n",
      "Running 3^2 - Run 8/10\n"
     ]
    },
    {
     "name": "stderr",
     "output_type": "stream",
     "text": [
      "Generating data: 100%|█████████████████████████████████████████████████████████████████████| 10000/10000 [00:00<00:00, 10956.99it/s]\n",
      "Training: 100%|████████████████████████████████████████████████████████████████████████████████| 1000/1000 [00:01<00:00, 566.32it/s]\n",
      "Training: 100%|████████████████████████████████████████████████████████████████████████████████| 1000/1000 [00:01<00:00, 567.49it/s]\n",
      "Training: 100%|████████████████████████████████████████████████████████████████████████████████| 1000/1000 [00:01<00:00, 553.89it/s]\n",
      "Training: 100%|████████████████████████████████████████████████████████████████████████████████| 1000/1000 [00:01<00:00, 540.59it/s]\n",
      "Training: 100%|████████████████████████████████████████████████████████████████████████████████| 1000/1000 [00:01<00:00, 577.43it/s]\n",
      "Testing 3x3: 100%|██████████████████████████████████████████████████████████████████████████████| 100/100 [00:00<00:00, 3201.00it/s]\n"
     ]
    },
    {
     "name": "stdout",
     "output_type": "stream",
     "text": [
      "\n",
      "3x3 Results:\n",
      "Accuracy: 93.00%\n",
      "Avg prediction | Perc: 0.736\n",
      "Avg prediction | Non-Perc: 0.268\n"
     ]
    },
    {
     "name": "stderr",
     "output_type": "stream",
     "text": [
      "Testing 9x9: 100%|██████████████████████████████████████████████████████████████████████████████| 100/100 [00:00<00:00, 2133.34it/s]\n"
     ]
    },
    {
     "name": "stdout",
     "output_type": "stream",
     "text": [
      "\n",
      "9x9 Results:\n",
      "Accuracy: 90.00%\n",
      "Avg prediction | Perc: 0.809\n",
      "Avg prediction | Non-Perc: 0.097\n"
     ]
    },
    {
     "name": "stderr",
     "output_type": "stream",
     "text": [
      "Testing 27x27: 100%|████████████████████████████████████████████████████████████████████████████| 100/100 [00:00<00:00, 1654.31it/s]\n"
     ]
    },
    {
     "name": "stdout",
     "output_type": "stream",
     "text": [
      "\n",
      "27x27 Results:\n",
      "Accuracy: 94.00%\n",
      "Avg prediction | Perc: 0.931\n",
      "Avg prediction | Non-Perc: 0.057\n"
     ]
    },
    {
     "name": "stderr",
     "output_type": "stream",
     "text": [
      "Testing 9x9: 100%|██████████████████████████████████████████████████████████████████████████████| 200/200 [00:00<00:00, 2782.28it/s]\n"
     ]
    },
    {
     "name": "stdout",
     "output_type": "stream",
     "text": [
      "\n",
      "9x9 Results:\n",
      "Accuracy: 83.50%\n",
      "Avg prediction | Perc: 0.744\n",
      "Avg prediction | Non-Perc: 0.388\n",
      "\n",
      "Running 3^2 - Run 9/10\n"
     ]
    },
    {
     "name": "stderr",
     "output_type": "stream",
     "text": [
      "Generating data: 100%|█████████████████████████████████████████████████████████████████████| 10000/10000 [00:00<00:00, 10918.31it/s]\n",
      "Training: 100%|████████████████████████████████████████████████████████████████████████████████| 1000/1000 [00:01<00:00, 555.80it/s]\n",
      "Training: 100%|████████████████████████████████████████████████████████████████████████████████| 1000/1000 [00:01<00:00, 606.60it/s]\n",
      "Training: 100%|████████████████████████████████████████████████████████████████████████████████| 1000/1000 [00:01<00:00, 577.37it/s]\n",
      "Training: 100%|████████████████████████████████████████████████████████████████████████████████| 1000/1000 [00:01<00:00, 545.63it/s]\n",
      "Training: 100%|████████████████████████████████████████████████████████████████████████████████| 1000/1000 [00:01<00:00, 616.29it/s]\n",
      "Testing 3x3: 100%|██████████████████████████████████████████████████████████████████████████████| 100/100 [00:00<00:00, 6401.47it/s]\n"
     ]
    },
    {
     "name": "stdout",
     "output_type": "stream",
     "text": [
      "\n",
      "3x3 Results:\n",
      "Accuracy: 89.00%\n",
      "Avg prediction | Perc: 0.701\n",
      "Avg prediction | Non-Perc: 0.286\n"
     ]
    },
    {
     "name": "stderr",
     "output_type": "stream",
     "text": [
      "Testing 9x9: 100%|██████████████████████████████████████████████████████████████████████████████| 100/100 [00:00<00:00, 2133.49it/s]\n"
     ]
    },
    {
     "name": "stdout",
     "output_type": "stream",
     "text": [
      "\n",
      "9x9 Results:\n",
      "Accuracy: 92.00%\n",
      "Avg prediction | Perc: 0.920\n",
      "Avg prediction | Non-Perc: 0.147\n"
     ]
    },
    {
     "name": "stderr",
     "output_type": "stream",
     "text": [
      "Testing 27x27: 100%|████████████████████████████████████████████████████████████████████████████| 100/100 [00:00<00:00, 1600.01it/s]\n"
     ]
    },
    {
     "name": "stdout",
     "output_type": "stream",
     "text": [
      "\n",
      "27x27 Results:\n",
      "Accuracy: 94.00%\n",
      "Avg prediction | Perc: 0.999\n",
      "Avg prediction | Non-Perc: 0.100\n"
     ]
    },
    {
     "name": "stderr",
     "output_type": "stream",
     "text": [
      "Testing 9x9: 100%|██████████████████████████████████████████████████████████████████████████████| 200/200 [00:00<00:00, 3199.89it/s]\n"
     ]
    },
    {
     "name": "stdout",
     "output_type": "stream",
     "text": [
      "\n",
      "9x9 Results:\n",
      "Accuracy: 77.50%\n",
      "Avg prediction | Perc: 0.840\n",
      "Avg prediction | Non-Perc: 0.579\n",
      "\n",
      "Running 3^2 - Run 10/10\n"
     ]
    },
    {
     "name": "stderr",
     "output_type": "stream",
     "text": [
      "Generating data: 100%|█████████████████████████████████████████████████████████████████████| 10000/10000 [00:00<00:00, 11284.44it/s]\n",
      "Training: 100%|████████████████████████████████████████████████████████████████████████████████| 1000/1000 [00:01<00:00, 573.82it/s]\n",
      "Training: 100%|████████████████████████████████████████████████████████████████████████████████| 1000/1000 [00:01<00:00, 551.16it/s]\n",
      "Training: 100%|████████████████████████████████████████████████████████████████████████████████| 1000/1000 [00:01<00:00, 514.13it/s]\n",
      "Training: 100%|████████████████████████████████████████████████████████████████████████████████| 1000/1000 [00:01<00:00, 545.38it/s]\n",
      "Training: 100%|████████████████████████████████████████████████████████████████████████████████| 1000/1000 [00:01<00:00, 607.11it/s]\n",
      "Testing 3x3: 100%|██████████████████████████████████████████████████████████████████████████████| 100/100 [00:00<00:00, 6400.29it/s]\n"
     ]
    },
    {
     "name": "stdout",
     "output_type": "stream",
     "text": [
      "\n",
      "3x3 Results:\n",
      "Accuracy: 91.00%\n",
      "Avg prediction | Perc: 0.693\n",
      "Avg prediction | Non-Perc: 0.274\n"
     ]
    },
    {
     "name": "stderr",
     "output_type": "stream",
     "text": [
      "Testing 9x9: 100%|██████████████████████████████████████████████████████████████████████████████| 100/100 [00:00<00:00, 3200.39it/s]\n"
     ]
    },
    {
     "name": "stdout",
     "output_type": "stream",
     "text": [
      "\n",
      "9x9 Results:\n",
      "Accuracy: 95.00%\n",
      "Avg prediction | Perc: 0.900\n",
      "Avg prediction | Non-Perc: 0.077\n"
     ]
    },
    {
     "name": "stderr",
     "output_type": "stream",
     "text": [
      "Testing 27x27: 100%|████████████████████████████████████████████████████████████████████████████| 100/100 [00:00<00:00, 1598.00it/s]\n"
     ]
    },
    {
     "name": "stdout",
     "output_type": "stream",
     "text": [
      "\n",
      "27x27 Results:\n",
      "Accuracy: 97.00%\n",
      "Avg prediction | Perc: 0.948\n",
      "Avg prediction | Non-Perc: 0.016\n"
     ]
    },
    {
     "name": "stderr",
     "output_type": "stream",
     "text": [
      "Testing 9x9: 100%|██████████████████████████████████████████████████████████████████████████████| 200/200 [00:00<00:00, 2559.26it/s]\n"
     ]
    },
    {
     "name": "stdout",
     "output_type": "stream",
     "text": [
      "\n",
      "9x9 Results:\n",
      "Accuracy: 80.50%\n",
      "Avg prediction | Perc: 0.703\n",
      "Avg prediction | Non-Perc: 0.386\n",
      "\n",
      "Running 3^3 - Run 1/10\n"
     ]
    },
    {
     "name": "stderr",
     "output_type": "stream",
     "text": [
      "Generating data: 100%|██████████████████████████████████████████████████████████████████████| 10000/10000 [00:01<00:00, 8728.26it/s]\n",
      "Training: 100%|████████████████████████████████████████████████████████████████████████████████| 1000/1000 [00:02<00:00, 494.16it/s]\n",
      "Training: 100%|████████████████████████████████████████████████████████████████████████████████| 1000/1000 [00:02<00:00, 486.47it/s]\n",
      "Training: 100%|████████████████████████████████████████████████████████████████████████████████| 1000/1000 [00:02<00:00, 446.27it/s]\n",
      "Training: 100%|████████████████████████████████████████████████████████████████████████████████| 1000/1000 [00:02<00:00, 454.99it/s]\n",
      "Training: 100%|████████████████████████████████████████████████████████████████████████████████| 1000/1000 [00:02<00:00, 430.62it/s]\n",
      "Testing 9x9: 100%|██████████████████████████████████████████████████████████████████████████████| 100/100 [00:00<00:00, 2173.20it/s]\n"
     ]
    },
    {
     "name": "stdout",
     "output_type": "stream",
     "text": [
      "\n",
      "9x9 Results:\n",
      "Accuracy: 8.00%\n",
      "Avg prediction | Perc: 0.248\n",
      "Avg prediction | Non-Perc: 0.935\n"
     ]
    },
    {
     "name": "stderr",
     "output_type": "stream",
     "text": [
      "Testing 27x27: 100%|████████████████████████████████████████████████████████████████████████████| 100/100 [00:00<00:00, 1931.05it/s]\n"
     ]
    },
    {
     "name": "stdout",
     "output_type": "stream",
     "text": [
      "\n",
      "27x27 Results:\n",
      "Accuracy: 96.00%\n",
      "Avg prediction | Perc: 0.907\n",
      "Avg prediction | Non-Perc: 0.034\n"
     ]
    },
    {
     "name": "stderr",
     "output_type": "stream",
     "text": [
      "Testing 81x81: 100%|█████████████████████████████████████████████████████████████████████████████| 100/100 [00:00<00:00, 955.16it/s]\n"
     ]
    },
    {
     "name": "stdout",
     "output_type": "stream",
     "text": [
      "\n",
      "81x81 Results:\n",
      "Accuracy: 0.00%\n",
      "Avg prediction | Perc: 0.012\n",
      "Avg prediction | Non-Perc: 1.000\n"
     ]
    },
    {
     "name": "stderr",
     "output_type": "stream",
     "text": [
      "Testing 27x27: 100%|████████████████████████████████████████████████████████████████████████████| 200/200 [00:00<00:00, 1657.77it/s]\n"
     ]
    },
    {
     "name": "stdout",
     "output_type": "stream",
     "text": [
      "\n",
      "27x27 Results:\n",
      "Accuracy: 72.50%\n",
      "Avg prediction | Perc: 0.735\n",
      "Avg prediction | Non-Perc: 0.549\n",
      "\n",
      "Running 3^3 - Run 2/10\n"
     ]
    },
    {
     "name": "stderr",
     "output_type": "stream",
     "text": [
      "Generating data: 100%|██████████████████████████████████████████████████████████████████████| 10000/10000 [00:01<00:00, 8611.11it/s]\n",
      "Training: 100%|████████████████████████████████████████████████████████████████████████████████| 1000/1000 [00:02<00:00, 467.04it/s]\n",
      "Training: 100%|████████████████████████████████████████████████████████████████████████████████| 1000/1000 [00:02<00:00, 444.71it/s]\n",
      "Training: 100%|████████████████████████████████████████████████████████████████████████████████| 1000/1000 [00:02<00:00, 379.89it/s]\n",
      "Training: 100%|████████████████████████████████████████████████████████████████████████████████| 1000/1000 [00:02<00:00, 407.75it/s]\n",
      "Training: 100%|████████████████████████████████████████████████████████████████████████████████| 1000/1000 [00:05<00:00, 168.33it/s]\n",
      "Testing 9x9: 100%|██████████████████████████████████████████████████████████████████████████████| 100/100 [00:00<00:00, 1981.24it/s]\n"
     ]
    },
    {
     "name": "stdout",
     "output_type": "stream",
     "text": [
      "\n",
      "9x9 Results:\n",
      "Accuracy: 10.00%\n",
      "Avg prediction | Perc: 0.283\n",
      "Avg prediction | Non-Perc: 0.954\n"
     ]
    },
    {
     "name": "stderr",
     "output_type": "stream",
     "text": [
      "Testing 27x27: 100%|█████████████████████████████████████████████████████████████████████████████| 100/100 [00:00<00:00, 755.44it/s]\n"
     ]
    },
    {
     "name": "stdout",
     "output_type": "stream",
     "text": [
      "\n",
      "27x27 Results:\n",
      "Accuracy: 97.00%\n",
      "Avg prediction | Perc: 0.939\n",
      "Avg prediction | Non-Perc: 0.067\n"
     ]
    },
    {
     "name": "stderr",
     "output_type": "stream",
     "text": [
      "Testing 81x81: 100%|█████████████████████████████████████████████████████████████████████████████| 100/100 [00:00<00:00, 734.33it/s]\n"
     ]
    },
    {
     "name": "stdout",
     "output_type": "stream",
     "text": [
      "\n",
      "81x81 Results:\n",
      "Accuracy: 2.00%\n",
      "Avg prediction | Perc: 0.053\n",
      "Avg prediction | Non-Perc: 0.992\n"
     ]
    },
    {
     "name": "stderr",
     "output_type": "stream",
     "text": [
      "Testing 27x27: 100%|████████████████████████████████████████████████████████████████████████████| 200/200 [00:00<00:00, 1038.80it/s]\n"
     ]
    },
    {
     "name": "stdout",
     "output_type": "stream",
     "text": [
      "\n",
      "27x27 Results:\n",
      "Accuracy: 74.50%\n",
      "Avg prediction | Perc: 0.661\n",
      "Avg prediction | Non-Perc: 0.446\n",
      "\n",
      "Running 3^3 - Run 3/10\n"
     ]
    },
    {
     "name": "stderr",
     "output_type": "stream",
     "text": [
      "Generating data: 100%|██████████████████████████████████████████████████████████████████████| 10000/10000 [00:01<00:00, 7090.57it/s]\n",
      "Training: 100%|████████████████████████████████████████████████████████████████████████████████| 1000/1000 [00:02<00:00, 390.20it/s]\n",
      "Training: 100%|████████████████████████████████████████████████████████████████████████████████| 1000/1000 [00:02<00:00, 405.59it/s]\n",
      "Training: 100%|████████████████████████████████████████████████████████████████████████████████| 1000/1000 [00:03<00:00, 330.13it/s]\n",
      "Training: 100%|████████████████████████████████████████████████████████████████████████████████| 1000/1000 [00:02<00:00, 351.04it/s]\n",
      "Training: 100%|████████████████████████████████████████████████████████████████████████████████| 1000/1000 [00:02<00:00, 350.15it/s]\n",
      "Testing 9x9: 100%|██████████████████████████████████████████████████████████████████████████████| 100/100 [00:00<00:00, 1956.30it/s]\n"
     ]
    },
    {
     "name": "stdout",
     "output_type": "stream",
     "text": [
      "\n",
      "9x9 Results:\n",
      "Accuracy: 11.00%\n",
      "Avg prediction | Perc: 0.286\n",
      "Avg prediction | Non-Perc: 0.950\n"
     ]
    },
    {
     "name": "stderr",
     "output_type": "stream",
     "text": [
      "Testing 27x27: 100%|████████████████████████████████████████████████████████████████████████████| 100/100 [00:00<00:00, 1546.20it/s]\n"
     ]
    },
    {
     "name": "stdout",
     "output_type": "stream",
     "text": [
      "\n",
      "27x27 Results:\n",
      "Accuracy: 95.00%\n",
      "Avg prediction | Perc: 0.875\n",
      "Avg prediction | Non-Perc: 0.041\n"
     ]
    },
    {
     "name": "stderr",
     "output_type": "stream",
     "text": [
      "Testing 81x81: 100%|█████████████████████████████████████████████████████████████████████████████| 100/100 [00:00<00:00, 842.83it/s]\n"
     ]
    },
    {
     "name": "stdout",
     "output_type": "stream",
     "text": [
      "\n",
      "81x81 Results:\n",
      "Accuracy: 4.00%\n",
      "Avg prediction | Perc: 0.054\n",
      "Avg prediction | Non-Perc: 0.970\n"
     ]
    },
    {
     "name": "stderr",
     "output_type": "stream",
     "text": [
      "Testing 27x27: 100%|████████████████████████████████████████████████████████████████████████████| 200/200 [00:00<00:00, 1555.77it/s]\n"
     ]
    },
    {
     "name": "stdout",
     "output_type": "stream",
     "text": [
      "\n",
      "27x27 Results:\n",
      "Accuracy: 69.50%\n",
      "Avg prediction | Perc: 0.666\n",
      "Avg prediction | Non-Perc: 0.483\n",
      "\n",
      "Running 3^3 - Run 4/10\n"
     ]
    },
    {
     "name": "stderr",
     "output_type": "stream",
     "text": [
      "Generating data: 100%|██████████████████████████████████████████████████████████████████████| 10000/10000 [00:01<00:00, 8267.52it/s]\n",
      "Training: 100%|████████████████████████████████████████████████████████████████████████████████| 1000/1000 [00:02<00:00, 383.06it/s]\n",
      "Training: 100%|████████████████████████████████████████████████████████████████████████████████| 1000/1000 [00:02<00:00, 430.17it/s]\n",
      "Training: 100%|████████████████████████████████████████████████████████████████████████████████| 1000/1000 [00:02<00:00, 442.01it/s]\n",
      "Training: 100%|████████████████████████████████████████████████████████████████████████████████| 1000/1000 [00:02<00:00, 434.63it/s]\n",
      "Training: 100%|████████████████████████████████████████████████████████████████████████████████| 1000/1000 [00:02<00:00, 444.59it/s]\n",
      "Testing 9x9: 100%|██████████████████████████████████████████████████████████████████████████████| 100/100 [00:00<00:00, 2432.54it/s]\n"
     ]
    },
    {
     "name": "stdout",
     "output_type": "stream",
     "text": [
      "\n",
      "9x9 Results:\n",
      "Accuracy: 90.00%\n",
      "Avg prediction | Perc: 0.865\n",
      "Avg prediction | Non-Perc: 0.126\n"
     ]
    },
    {
     "name": "stderr",
     "output_type": "stream",
     "text": [
      "Testing 27x27: 100%|████████████████████████████████████████████████████████████████████████████| 100/100 [00:00<00:00, 1643.38it/s]\n"
     ]
    },
    {
     "name": "stdout",
     "output_type": "stream",
     "text": [
      "\n",
      "27x27 Results:\n",
      "Accuracy: 98.00%\n",
      "Avg prediction | Perc: 0.946\n",
      "Avg prediction | Non-Perc: 0.031\n"
     ]
    },
    {
     "name": "stderr",
     "output_type": "stream",
     "text": [
      "Testing 81x81: 100%|████████████████████████████████████████████████████████████████████████████| 100/100 [00:00<00:00, 1061.64it/s]\n"
     ]
    },
    {
     "name": "stdout",
     "output_type": "stream",
     "text": [
      "\n",
      "81x81 Results:\n",
      "Accuracy: 96.00%\n",
      "Avg prediction | Perc: 0.984\n",
      "Avg prediction | Non-Perc: 0.041\n"
     ]
    },
    {
     "name": "stderr",
     "output_type": "stream",
     "text": [
      "Testing 27x27: 100%|████████████████████████████████████████████████████████████████████████████| 200/200 [00:00<00:00, 1748.91it/s]\n"
     ]
    },
    {
     "name": "stdout",
     "output_type": "stream",
     "text": [
      "\n",
      "27x27 Results:\n",
      "Accuracy: 71.00%\n",
      "Avg prediction | Perc: 0.764\n",
      "Avg prediction | Non-Perc: 0.611\n",
      "\n",
      "Running 3^3 - Run 5/10\n"
     ]
    },
    {
     "name": "stderr",
     "output_type": "stream",
     "text": [
      "Generating data: 100%|██████████████████████████████████████████████████████████████████████| 10000/10000 [00:01<00:00, 8336.68it/s]\n",
      "Training: 100%|████████████████████████████████████████████████████████████████████████████████| 1000/1000 [00:02<00:00, 428.32it/s]\n",
      "Training: 100%|████████████████████████████████████████████████████████████████████████████████| 1000/1000 [00:02<00:00, 384.65it/s]\n",
      "Training: 100%|████████████████████████████████████████████████████████████████████████████████| 1000/1000 [00:02<00:00, 369.24it/s]\n",
      "Training: 100%|████████████████████████████████████████████████████████████████████████████████| 1000/1000 [00:02<00:00, 431.77it/s]\n",
      "Training: 100%|████████████████████████████████████████████████████████████████████████████████| 1000/1000 [00:02<00:00, 415.67it/s]\n",
      "Testing 9x9: 100%|██████████████████████████████████████████████████████████████████████████████| 100/100 [00:00<00:00, 2131.96it/s]\n"
     ]
    },
    {
     "name": "stdout",
     "output_type": "stream",
     "text": [
      "\n",
      "9x9 Results:\n",
      "Accuracy: 6.00%\n",
      "Avg prediction | Perc: 0.205\n",
      "Avg prediction | Non-Perc: 0.930\n"
     ]
    },
    {
     "name": "stderr",
     "output_type": "stream",
     "text": [
      "Testing 27x27: 100%|████████████████████████████████████████████████████████████████████████████| 100/100 [00:00<00:00, 1618.41it/s]\n"
     ]
    },
    {
     "name": "stdout",
     "output_type": "stream",
     "text": [
      "\n",
      "27x27 Results:\n",
      "Accuracy: 98.00%\n",
      "Avg prediction | Perc: 0.938\n",
      "Avg prediction | Non-Perc: 0.021\n"
     ]
    },
    {
     "name": "stderr",
     "output_type": "stream",
     "text": [
      "Testing 81x81: 100%|█████████████████████████████████████████████████████████████████████████████| 100/100 [00:00<00:00, 937.35it/s]\n"
     ]
    },
    {
     "name": "stdout",
     "output_type": "stream",
     "text": [
      "\n",
      "81x81 Results:\n",
      "Accuracy: 3.00%\n",
      "Avg prediction | Perc: 0.031\n",
      "Avg prediction | Non-Perc: 0.981\n"
     ]
    },
    {
     "name": "stderr",
     "output_type": "stream",
     "text": [
      "Testing 27x27: 100%|████████████████████████████████████████████████████████████████████████████| 200/200 [00:00<00:00, 1631.09it/s]\n"
     ]
    },
    {
     "name": "stdout",
     "output_type": "stream",
     "text": [
      "\n",
      "27x27 Results:\n",
      "Accuracy: 72.00%\n",
      "Avg prediction | Perc: 0.805\n",
      "Avg prediction | Non-Perc: 0.630\n",
      "\n",
      "Running 3^3 - Run 6/10\n"
     ]
    },
    {
     "name": "stderr",
     "output_type": "stream",
     "text": [
      "Generating data: 100%|██████████████████████████████████████████████████████████████████████| 10000/10000 [00:01<00:00, 7899.47it/s]\n",
      "Training: 100%|████████████████████████████████████████████████████████████████████████████████| 1000/1000 [00:02<00:00, 440.04it/s]\n",
      "Training: 100%|████████████████████████████████████████████████████████████████████████████████| 1000/1000 [00:02<00:00, 422.05it/s]\n",
      "Training: 100%|████████████████████████████████████████████████████████████████████████████████| 1000/1000 [00:02<00:00, 431.87it/s]\n",
      "Training: 100%|████████████████████████████████████████████████████████████████████████████████| 1000/1000 [00:02<00:00, 432.02it/s]\n",
      "Training: 100%|████████████████████████████████████████████████████████████████████████████████| 1000/1000 [00:02<00:00, 441.02it/s]\n",
      "Testing 9x9: 100%|██████████████████████████████████████████████████████████████████████████████| 100/100 [00:00<00:00, 2387.70it/s]\n"
     ]
    },
    {
     "name": "stdout",
     "output_type": "stream",
     "text": [
      "\n",
      "9x9 Results:\n",
      "Accuracy: 9.00%\n",
      "Avg prediction | Perc: 0.235\n",
      "Avg prediction | Non-Perc: 0.915\n"
     ]
    },
    {
     "name": "stderr",
     "output_type": "stream",
     "text": [
      "Testing 27x27: 100%|████████████████████████████████████████████████████████████████████████████| 100/100 [00:00<00:00, 1691.96it/s]\n"
     ]
    },
    {
     "name": "stdout",
     "output_type": "stream",
     "text": [
      "\n",
      "27x27 Results:\n",
      "Accuracy: 92.00%\n",
      "Avg prediction | Perc: 0.909\n",
      "Avg prediction | Non-Perc: 0.083\n"
     ]
    },
    {
     "name": "stderr",
     "output_type": "stream",
     "text": [
      "Testing 81x81: 100%|████████████████████████████████████████████████████████████████████████████| 100/100 [00:00<00:00, 1002.80it/s]\n"
     ]
    },
    {
     "name": "stdout",
     "output_type": "stream",
     "text": [
      "\n",
      "81x81 Results:\n",
      "Accuracy: 3.00%\n",
      "Avg prediction | Perc: 0.028\n",
      "Avg prediction | Non-Perc: 0.967\n"
     ]
    },
    {
     "name": "stderr",
     "output_type": "stream",
     "text": [
      "Testing 27x27: 100%|████████████████████████████████████████████████████████████████████████████| 200/200 [00:00<00:00, 1734.88it/s]\n"
     ]
    },
    {
     "name": "stdout",
     "output_type": "stream",
     "text": [
      "\n",
      "27x27 Results:\n",
      "Accuracy: 69.00%\n",
      "Avg prediction | Perc: 0.747\n",
      "Avg prediction | Non-Perc: 0.600\n",
      "\n",
      "Running 3^3 - Run 7/10\n"
     ]
    },
    {
     "name": "stderr",
     "output_type": "stream",
     "text": [
      "Generating data: 100%|██████████████████████████████████████████████████████████████████████| 10000/10000 [00:01<00:00, 8177.61it/s]\n",
      "Training: 100%|████████████████████████████████████████████████████████████████████████████████| 1000/1000 [00:02<00:00, 440.46it/s]\n",
      "Training: 100%|████████████████████████████████████████████████████████████████████████████████| 1000/1000 [00:02<00:00, 436.05it/s]\n",
      "Training: 100%|████████████████████████████████████████████████████████████████████████████████| 1000/1000 [00:02<00:00, 444.20it/s]\n",
      "Training: 100%|████████████████████████████████████████████████████████████████████████████████| 1000/1000 [00:02<00:00, 445.38it/s]\n",
      "Training: 100%|████████████████████████████████████████████████████████████████████████████████| 1000/1000 [00:02<00:00, 442.18it/s]\n",
      "Testing 9x9: 100%|██████████████████████████████████████████████████████████████████████████████| 100/100 [00:00<00:00, 2508.56it/s]\n"
     ]
    },
    {
     "name": "stdout",
     "output_type": "stream",
     "text": [
      "\n",
      "9x9 Results:\n",
      "Accuracy: 10.00%\n",
      "Avg prediction | Perc: 0.231\n",
      "Avg prediction | Non-Perc: 0.920\n"
     ]
    },
    {
     "name": "stderr",
     "output_type": "stream",
     "text": [
      "Testing 27x27: 100%|████████████████████████████████████████████████████████████████████████████| 100/100 [00:00<00:00, 1696.62it/s]\n"
     ]
    },
    {
     "name": "stdout",
     "output_type": "stream",
     "text": [
      "\n",
      "27x27 Results:\n",
      "Accuracy: 97.00%\n",
      "Avg prediction | Perc: 0.953\n",
      "Avg prediction | Non-Perc: 0.055\n"
     ]
    },
    {
     "name": "stderr",
     "output_type": "stream",
     "text": [
      "Testing 81x81: 100%|████████████████████████████████████████████████████████████████████████████| 100/100 [00:00<00:00, 1048.56it/s]\n"
     ]
    },
    {
     "name": "stdout",
     "output_type": "stream",
     "text": [
      "\n",
      "81x81 Results:\n",
      "Accuracy: 0.00%\n",
      "Avg prediction | Perc: 0.001\n",
      "Avg prediction | Non-Perc: 0.998\n"
     ]
    },
    {
     "name": "stderr",
     "output_type": "stream",
     "text": [
      "Testing 27x27: 100%|████████████████████████████████████████████████████████████████████████████| 200/200 [00:00<00:00, 1739.39it/s]\n"
     ]
    },
    {
     "name": "stdout",
     "output_type": "stream",
     "text": [
      "\n",
      "27x27 Results:\n",
      "Accuracy: 72.50%\n",
      "Avg prediction | Perc: 0.886\n",
      "Avg prediction | Non-Perc: 0.721\n",
      "\n",
      "Running 3^3 - Run 8/10\n"
     ]
    },
    {
     "name": "stderr",
     "output_type": "stream",
     "text": [
      "Generating data: 100%|██████████████████████████████████████████████████████████████████████| 10000/10000 [00:01<00:00, 8094.01it/s]\n",
      "Training: 100%|████████████████████████████████████████████████████████████████████████████████| 1000/1000 [00:02<00:00, 454.75it/s]\n",
      "Training: 100%|████████████████████████████████████████████████████████████████████████████████| 1000/1000 [00:02<00:00, 445.47it/s]\n",
      "Training: 100%|████████████████████████████████████████████████████████████████████████████████| 1000/1000 [00:02<00:00, 439.00it/s]\n",
      "Training: 100%|████████████████████████████████████████████████████████████████████████████████| 1000/1000 [00:02<00:00, 436.79it/s]\n",
      "Training: 100%|████████████████████████████████████████████████████████████████████████████████| 1000/1000 [00:02<00:00, 441.81it/s]\n",
      "Testing 9x9: 100%|██████████████████████████████████████████████████████████████████████████████| 100/100 [00:00<00:00, 2135.29it/s]\n"
     ]
    },
    {
     "name": "stdout",
     "output_type": "stream",
     "text": [
      "\n",
      "9x9 Results:\n",
      "Accuracy: 11.00%\n",
      "Avg prediction | Perc: 0.277\n",
      "Avg prediction | Non-Perc: 0.953\n"
     ]
    },
    {
     "name": "stderr",
     "output_type": "stream",
     "text": [
      "Testing 27x27: 100%|████████████████████████████████████████████████████████████████████████████| 100/100 [00:00<00:00, 1600.48it/s]\n"
     ]
    },
    {
     "name": "stdout",
     "output_type": "stream",
     "text": [
      "\n",
      "27x27 Results:\n",
      "Accuracy: 97.00%\n",
      "Avg prediction | Perc: 0.959\n",
      "Avg prediction | Non-Perc: 0.038\n"
     ]
    },
    {
     "name": "stderr",
     "output_type": "stream",
     "text": [
      "Testing 81x81: 100%|████████████████████████████████████████████████████████████████████████████| 100/100 [00:00<00:00, 1060.01it/s]\n"
     ]
    },
    {
     "name": "stdout",
     "output_type": "stream",
     "text": [
      "\n",
      "81x81 Results:\n",
      "Accuracy: 2.00%\n",
      "Avg prediction | Perc: 0.065\n",
      "Avg prediction | Non-Perc: 0.995\n"
     ]
    },
    {
     "name": "stderr",
     "output_type": "stream",
     "text": [
      "Testing 27x27: 100%|████████████████████████████████████████████████████████████████████████████| 200/200 [00:00<00:00, 1701.33it/s]\n"
     ]
    },
    {
     "name": "stdout",
     "output_type": "stream",
     "text": [
      "\n",
      "27x27 Results:\n",
      "Accuracy: 74.00%\n",
      "Avg prediction | Perc: 0.681\n",
      "Avg prediction | Non-Perc: 0.456\n",
      "\n",
      "Running 3^3 - Run 9/10\n"
     ]
    },
    {
     "name": "stderr",
     "output_type": "stream",
     "text": [
      "Generating data: 100%|██████████████████████████████████████████████████████████████████████| 10000/10000 [00:01<00:00, 8319.37it/s]\n",
      "Training: 100%|████████████████████████████████████████████████████████████████████████████████| 1000/1000 [00:02<00:00, 415.45it/s]\n",
      "Training: 100%|████████████████████████████████████████████████████████████████████████████████| 1000/1000 [00:02<00:00, 439.58it/s]\n",
      "Training: 100%|████████████████████████████████████████████████████████████████████████████████| 1000/1000 [00:02<00:00, 441.64it/s]\n",
      "Training: 100%|████████████████████████████████████████████████████████████████████████████████| 1000/1000 [00:02<00:00, 442.57it/s]\n",
      "Training: 100%|████████████████████████████████████████████████████████████████████████████████| 1000/1000 [00:02<00:00, 438.66it/s]\n",
      "Testing 9x9: 100%|██████████████████████████████████████████████████████████████████████████████| 100/100 [00:00<00:00, 2587.72it/s]\n"
     ]
    },
    {
     "name": "stdout",
     "output_type": "stream",
     "text": [
      "\n",
      "9x9 Results:\n",
      "Accuracy: 9.00%\n",
      "Avg prediction | Perc: 0.105\n",
      "Avg prediction | Non-Perc: 0.873\n"
     ]
    },
    {
     "name": "stderr",
     "output_type": "stream",
     "text": [
      "Testing 27x27: 100%|████████████████████████████████████████████████████████████████████████████| 100/100 [00:00<00:00, 1719.46it/s]\n"
     ]
    },
    {
     "name": "stdout",
     "output_type": "stream",
     "text": [
      "\n",
      "27x27 Results:\n",
      "Accuracy: 93.00%\n",
      "Avg prediction | Perc: 0.992\n",
      "Avg prediction | Non-Perc: 0.112\n"
     ]
    },
    {
     "name": "stderr",
     "output_type": "stream",
     "text": [
      "Testing 81x81: 100%|████████████████████████████████████████████████████████████████████████████| 100/100 [00:00<00:00, 1046.10it/s]\n"
     ]
    },
    {
     "name": "stdout",
     "output_type": "stream",
     "text": [
      "\n",
      "81x81 Results:\n",
      "Accuracy: 6.00%\n",
      "Avg prediction | Perc: 0.005\n",
      "Avg prediction | Non-Perc: 0.896\n"
     ]
    },
    {
     "name": "stderr",
     "output_type": "stream",
     "text": [
      "Testing 27x27: 100%|████████████████████████████████████████████████████████████████████████████| 200/200 [00:00<00:00, 1668.01it/s]\n"
     ]
    },
    {
     "name": "stdout",
     "output_type": "stream",
     "text": [
      "\n",
      "27x27 Results:\n",
      "Accuracy: 71.50%\n",
      "Avg prediction | Perc: 0.976\n",
      "Avg prediction | Non-Perc: 0.951\n",
      "\n",
      "Running 3^3 - Run 10/10\n"
     ]
    },
    {
     "name": "stderr",
     "output_type": "stream",
     "text": [
      "Generating data: 100%|██████████████████████████████████████████████████████████████████████| 10000/10000 [00:01<00:00, 8104.95it/s]\n",
      "Training: 100%|████████████████████████████████████████████████████████████████████████████████| 1000/1000 [00:02<00:00, 451.03it/s]\n",
      "Training: 100%|████████████████████████████████████████████████████████████████████████████████| 1000/1000 [00:02<00:00, 403.40it/s]\n",
      "Training: 100%|████████████████████████████████████████████████████████████████████████████████| 1000/1000 [00:02<00:00, 425.58it/s]\n",
      "Training: 100%|████████████████████████████████████████████████████████████████████████████████| 1000/1000 [00:02<00:00, 433.38it/s]\n",
      "Training: 100%|████████████████████████████████████████████████████████████████████████████████| 1000/1000 [00:02<00:00, 434.63it/s]\n",
      "Testing 9x9: 100%|██████████████████████████████████████████████████████████████████████████████| 100/100 [00:00<00:00, 2463.37it/s]\n"
     ]
    },
    {
     "name": "stdout",
     "output_type": "stream",
     "text": [
      "\n",
      "9x9 Results:\n",
      "Accuracy: 14.00%\n",
      "Avg prediction | Perc: 0.331\n",
      "Avg prediction | Non-Perc: 0.970\n"
     ]
    },
    {
     "name": "stderr",
     "output_type": "stream",
     "text": [
      "Testing 27x27: 100%|████████████████████████████████████████████████████████████████████████████| 100/100 [00:00<00:00, 1661.84it/s]\n"
     ]
    },
    {
     "name": "stdout",
     "output_type": "stream",
     "text": [
      "\n",
      "27x27 Results:\n",
      "Accuracy: 96.00%\n",
      "Avg prediction | Perc: 0.880\n",
      "Avg prediction | Non-Perc: 0.019\n"
     ]
    },
    {
     "name": "stderr",
     "output_type": "stream",
     "text": [
      "Testing 81x81: 100%|████████████████████████████████████████████████████████████████████████████| 100/100 [00:00<00:00, 1051.85it/s]\n"
     ]
    },
    {
     "name": "stdout",
     "output_type": "stream",
     "text": [
      "\n",
      "81x81 Results:\n",
      "Accuracy: 3.00%\n",
      "Avg prediction | Perc: 0.080\n",
      "Avg prediction | Non-Perc: 1.000\n"
     ]
    },
    {
     "name": "stderr",
     "output_type": "stream",
     "text": [
      "Testing 27x27: 100%|████████████████████████████████████████████████████████████████████████████| 200/200 [00:00<00:00, 1710.56it/s]\n"
     ]
    },
    {
     "name": "stdout",
     "output_type": "stream",
     "text": [
      "\n",
      "27x27 Results:\n",
      "Accuracy: 64.00%\n",
      "Avg prediction | Perc: 0.535\n",
      "Avg prediction | Non-Perc: 0.332\n",
      "\n",
      "Running 3^4 - Run 1/10\n"
     ]
    },
    {
     "name": "stderr",
     "output_type": "stream",
     "text": [
      "Generating data: 100%|██████████████████████████████████████████████████████████████████████| 10000/10000 [00:03<00:00, 2682.06it/s]\n",
      "Training: 100%|████████████████████████████████████████████████████████████████████████████████| 1000/1000 [00:03<00:00, 301.22it/s]\n",
      "Training: 100%|████████████████████████████████████████████████████████████████████████████████| 1000/1000 [00:03<00:00, 314.41it/s]\n",
      "Training: 100%|████████████████████████████████████████████████████████████████████████████████| 1000/1000 [00:03<00:00, 316.49it/s]\n",
      "Training: 100%|████████████████████████████████████████████████████████████████████████████████| 1000/1000 [00:03<00:00, 301.32it/s]\n",
      "Training: 100%|████████████████████████████████████████████████████████████████████████████████| 1000/1000 [00:03<00:00, 313.16it/s]\n",
      "Testing 27x27: 100%|████████████████████████████████████████████████████████████████████████████| 100/100 [00:00<00:00, 1765.92it/s]\n"
     ]
    },
    {
     "name": "stdout",
     "output_type": "stream",
     "text": [
      "\n",
      "27x27 Results:\n",
      "Accuracy: 48.00%\n",
      "Avg prediction | Perc: 0.220\n",
      "Avg prediction | Non-Perc: 0.423\n"
     ]
    },
    {
     "name": "stderr",
     "output_type": "stream",
     "text": [
      "Testing 81x81: 100%|█████████████████████████████████████████████████████████████████████████████| 100/100 [00:00<00:00, 969.60it/s]\n"
     ]
    },
    {
     "name": "stdout",
     "output_type": "stream",
     "text": [
      "\n",
      "81x81 Results:\n",
      "Accuracy: 80.00%\n",
      "Avg prediction | Perc: 0.449\n",
      "Avg prediction | Non-Perc: 0.198\n"
     ]
    },
    {
     "name": "stderr",
     "output_type": "stream",
     "text": [
      "Testing 243x243: 100%|███████████████████████████████████████████████████████████████████████████| 100/100 [00:00<00:00, 262.65it/s]\n"
     ]
    },
    {
     "name": "stdout",
     "output_type": "stream",
     "text": [
      "\n",
      "243x243 Results:\n",
      "Accuracy: 8.00%\n",
      "Avg prediction | Perc: 0.259\n",
      "Avg prediction | Non-Perc: 0.543\n"
     ]
    },
    {
     "name": "stderr",
     "output_type": "stream",
     "text": [
      "Testing 81x81: 100%|█████████████████████████████████████████████████████████████████████████████| 200/200 [00:00<00:00, 886.56it/s]\n"
     ]
    },
    {
     "name": "stdout",
     "output_type": "stream",
     "text": [
      "\n",
      "81x81 Results:\n",
      "Accuracy: 27.50%\n",
      "Avg prediction | Perc: 0.205\n",
      "Avg prediction | Non-Perc: 0.193\n",
      "\n",
      "Running 3^4 - Run 2/10\n"
     ]
    },
    {
     "name": "stderr",
     "output_type": "stream",
     "text": [
      "Generating data: 100%|██████████████████████████████████████████████████████████████████████| 10000/10000 [00:03<00:00, 2728.56it/s]\n",
      "Training: 100%|████████████████████████████████████████████████████████████████████████████████| 1000/1000 [00:03<00:00, 298.43it/s]\n",
      "Training: 100%|████████████████████████████████████████████████████████████████████████████████| 1000/1000 [00:03<00:00, 300.09it/s]\n",
      "Training: 100%|████████████████████████████████████████████████████████████████████████████████| 1000/1000 [00:03<00:00, 295.33it/s]\n",
      "Training: 100%|████████████████████████████████████████████████████████████████████████████████| 1000/1000 [00:03<00:00, 300.97it/s]\n",
      "Training: 100%|████████████████████████████████████████████████████████████████████████████████| 1000/1000 [00:03<00:00, 285.22it/s]\n",
      "Testing 27x27: 100%|████████████████████████████████████████████████████████████████████████████| 100/100 [00:00<00:00, 1779.61it/s]\n"
     ]
    },
    {
     "name": "stdout",
     "output_type": "stream",
     "text": [
      "\n",
      "27x27 Results:\n",
      "Accuracy: 54.00%\n",
      "Avg prediction | Perc: 0.235\n",
      "Avg prediction | Non-Perc: 0.394\n"
     ]
    },
    {
     "name": "stderr",
     "output_type": "stream",
     "text": [
      "Testing 81x81: 100%|█████████████████████████████████████████████████████████████████████████████| 100/100 [00:00<00:00, 942.18it/s]\n"
     ]
    },
    {
     "name": "stdout",
     "output_type": "stream",
     "text": [
      "\n",
      "81x81 Results:\n",
      "Accuracy: 86.00%\n",
      "Avg prediction | Perc: 0.487\n",
      "Avg prediction | Non-Perc: 0.209\n"
     ]
    },
    {
     "name": "stderr",
     "output_type": "stream",
     "text": [
      "Testing 243x243: 100%|███████████████████████████████████████████████████████████████████████████| 100/100 [00:00<00:00, 258.60it/s]\n"
     ]
    },
    {
     "name": "stdout",
     "output_type": "stream",
     "text": [
      "\n",
      "243x243 Results:\n",
      "Accuracy: 5.00%\n",
      "Avg prediction | Perc: 0.230\n",
      "Avg prediction | Non-Perc: 0.503\n"
     ]
    },
    {
     "name": "stderr",
     "output_type": "stream",
     "text": [
      "Testing 81x81: 100%|█████████████████████████████████████████████████████████████████████████████| 200/200 [00:00<00:00, 881.74it/s]\n"
     ]
    },
    {
     "name": "stdout",
     "output_type": "stream",
     "text": [
      "\n",
      "81x81 Results:\n",
      "Accuracy: 28.50%\n",
      "Avg prediction | Perc: 0.310\n",
      "Avg prediction | Non-Perc: 0.285\n",
      "\n",
      "Running 3^4 - Run 3/10\n"
     ]
    },
    {
     "name": "stderr",
     "output_type": "stream",
     "text": [
      "Generating data: 100%|██████████████████████████████████████████████████████████████████████| 10000/10000 [00:03<00:00, 2825.76it/s]\n",
      "Training: 100%|████████████████████████████████████████████████████████████████████████████████| 1000/1000 [00:03<00:00, 300.72it/s]\n",
      "Training: 100%|████████████████████████████████████████████████████████████████████████████████| 1000/1000 [00:03<00:00, 290.77it/s]\n",
      "Training: 100%|████████████████████████████████████████████████████████████████████████████████| 1000/1000 [00:03<00:00, 279.66it/s]\n",
      "Training: 100%|████████████████████████████████████████████████████████████████████████████████| 1000/1000 [00:03<00:00, 289.13it/s]\n",
      "Training: 100%|████████████████████████████████████████████████████████████████████████████████| 1000/1000 [00:03<00:00, 282.65it/s]\n",
      "Testing 27x27: 100%|████████████████████████████████████████████████████████████████████████████| 100/100 [00:00<00:00, 1635.23it/s]\n"
     ]
    },
    {
     "name": "stdout",
     "output_type": "stream",
     "text": [
      "\n",
      "27x27 Results:\n",
      "Accuracy: 62.00%\n",
      "Avg prediction | Perc: 0.200\n",
      "Avg prediction | Non-Perc: 0.365\n"
     ]
    },
    {
     "name": "stderr",
     "output_type": "stream",
     "text": [
      "Testing 81x81: 100%|█████████████████████████████████████████████████████████████████████████████| 100/100 [00:00<00:00, 817.67it/s]\n"
     ]
    },
    {
     "name": "stdout",
     "output_type": "stream",
     "text": [
      "\n",
      "81x81 Results:\n",
      "Accuracy: 91.00%\n",
      "Avg prediction | Perc: 0.528\n",
      "Avg prediction | Non-Perc: 0.191\n"
     ]
    },
    {
     "name": "stderr",
     "output_type": "stream",
     "text": [
      "Testing 243x243: 100%|███████████████████████████████████████████████████████████████████████████| 100/100 [00:00<00:00, 249.08it/s]\n"
     ]
    },
    {
     "name": "stdout",
     "output_type": "stream",
     "text": [
      "\n",
      "243x243 Results:\n",
      "Accuracy: 6.00%\n",
      "Avg prediction | Perc: 0.237\n",
      "Avg prediction | Non-Perc: 0.534\n"
     ]
    },
    {
     "name": "stderr",
     "output_type": "stream",
     "text": [
      "Testing 81x81: 100%|█████████████████████████████████████████████████████████████████████████████| 200/200 [00:00<00:00, 813.53it/s]\n"
     ]
    },
    {
     "name": "stdout",
     "output_type": "stream",
     "text": [
      "\n",
      "81x81 Results:\n",
      "Accuracy: 25.00%\n",
      "Avg prediction | Perc: 0.318\n",
      "Avg prediction | Non-Perc: 0.285\n",
      "\n",
      "Running 3^4 - Run 4/10\n"
     ]
    },
    {
     "name": "stderr",
     "output_type": "stream",
     "text": [
      "Generating data: 100%|██████████████████████████████████████████████████████████████████████| 10000/10000 [00:03<00:00, 2874.14it/s]\n",
      "Training: 100%|████████████████████████████████████████████████████████████████████████████████| 1000/1000 [00:03<00:00, 270.87it/s]\n",
      "Training: 100%|████████████████████████████████████████████████████████████████████████████████| 1000/1000 [00:03<00:00, 277.31it/s]\n",
      "Training: 100%|████████████████████████████████████████████████████████████████████████████████| 1000/1000 [00:03<00:00, 280.61it/s]\n",
      "Training: 100%|████████████████████████████████████████████████████████████████████████████████| 1000/1000 [00:03<00:00, 275.72it/s]\n",
      "Training: 100%|████████████████████████████████████████████████████████████████████████████████| 1000/1000 [00:03<00:00, 266.75it/s]\n",
      "Testing 27x27: 100%|████████████████████████████████████████████████████████████████████████████| 100/100 [00:00<00:00, 1612.77it/s]\n"
     ]
    },
    {
     "name": "stdout",
     "output_type": "stream",
     "text": [
      "\n",
      "27x27 Results:\n",
      "Accuracy: 60.00%\n",
      "Avg prediction | Perc: 0.182\n",
      "Avg prediction | Non-Perc: 0.387\n"
     ]
    },
    {
     "name": "stderr",
     "output_type": "stream",
     "text": [
      "Testing 81x81: 100%|█████████████████████████████████████████████████████████████████████████████| 100/100 [00:00<00:00, 819.06it/s]\n"
     ]
    },
    {
     "name": "stdout",
     "output_type": "stream",
     "text": [
      "\n",
      "81x81 Results:\n",
      "Accuracy: 97.00%\n",
      "Avg prediction | Perc: 0.629\n",
      "Avg prediction | Non-Perc: 0.197\n"
     ]
    },
    {
     "name": "stderr",
     "output_type": "stream",
     "text": [
      "Testing 243x243: 100%|███████████████████████████████████████████████████████████████████████████| 100/100 [00:00<00:00, 252.33it/s]\n"
     ]
    },
    {
     "name": "stdout",
     "output_type": "stream",
     "text": [
      "\n",
      "243x243 Results:\n",
      "Accuracy: 14.00%\n",
      "Avg prediction | Perc: 0.275\n",
      "Avg prediction | Non-Perc: 0.520\n"
     ]
    },
    {
     "name": "stderr",
     "output_type": "stream",
     "text": [
      "Testing 81x81: 100%|█████████████████████████████████████████████████████████████████████████████| 200/200 [00:00<00:00, 793.78it/s]\n"
     ]
    },
    {
     "name": "stdout",
     "output_type": "stream",
     "text": [
      "\n",
      "81x81 Results:\n",
      "Accuracy: 48.50%\n",
      "Avg prediction | Perc: 0.462\n",
      "Avg prediction | Non-Perc: 0.414\n",
      "\n",
      "Running 3^4 - Run 5/10\n"
     ]
    },
    {
     "name": "stderr",
     "output_type": "stream",
     "text": [
      "Generating data: 100%|██████████████████████████████████████████████████████████████████████| 10000/10000 [00:03<00:00, 2993.70it/s]\n",
      "Training: 100%|████████████████████████████████████████████████████████████████████████████████| 1000/1000 [00:03<00:00, 297.14it/s]\n",
      "Training: 100%|████████████████████████████████████████████████████████████████████████████████| 1000/1000 [00:03<00:00, 298.53it/s]\n",
      "Training: 100%|████████████████████████████████████████████████████████████████████████████████| 1000/1000 [00:03<00:00, 301.48it/s]\n",
      "Training: 100%|████████████████████████████████████████████████████████████████████████████████| 1000/1000 [00:03<00:00, 308.33it/s]\n",
      "Training: 100%|████████████████████████████████████████████████████████████████████████████████| 1000/1000 [00:03<00:00, 301.20it/s]\n",
      "Testing 27x27: 100%|████████████████████████████████████████████████████████████████████████████| 100/100 [00:00<00:00, 1782.14it/s]\n"
     ]
    },
    {
     "name": "stdout",
     "output_type": "stream",
     "text": [
      "\n",
      "27x27 Results:\n",
      "Accuracy: 51.00%\n",
      "Avg prediction | Perc: 0.147\n",
      "Avg prediction | Non-Perc: 0.343\n"
     ]
    },
    {
     "name": "stderr",
     "output_type": "stream",
     "text": [
      "Testing 81x81: 100%|█████████████████████████████████████████████████████████████████████████████| 100/100 [00:00<00:00, 983.42it/s]\n"
     ]
    },
    {
     "name": "stdout",
     "output_type": "stream",
     "text": [
      "\n",
      "81x81 Results:\n",
      "Accuracy: 99.00%\n",
      "Avg prediction | Perc: 0.764\n",
      "Avg prediction | Non-Perc: 0.193\n"
     ]
    },
    {
     "name": "stderr",
     "output_type": "stream",
     "text": [
      "Testing 243x243: 100%|███████████████████████████████████████████████████████████████████████████| 100/100 [00:00<00:00, 256.19it/s]\n"
     ]
    },
    {
     "name": "stdout",
     "output_type": "stream",
     "text": [
      "\n",
      "243x243 Results:\n",
      "Accuracy: 32.00%\n",
      "Avg prediction | Perc: 0.316\n",
      "Avg prediction | Non-Perc: 0.480\n"
     ]
    },
    {
     "name": "stderr",
     "output_type": "stream",
     "text": [
      "Testing 81x81: 100%|█████████████████████████████████████████████████████████████████████████████| 200/200 [00:00<00:00, 929.23it/s]\n"
     ]
    },
    {
     "name": "stdout",
     "output_type": "stream",
     "text": [
      "\n",
      "81x81 Results:\n",
      "Accuracy: 68.50%\n",
      "Avg prediction | Perc: 0.753\n",
      "Avg prediction | Non-Perc: 0.719\n",
      "\n",
      "Running 3^4 - Run 6/10\n"
     ]
    },
    {
     "name": "stderr",
     "output_type": "stream",
     "text": [
      "Generating data: 100%|██████████████████████████████████████████████████████████████████████| 10000/10000 [00:03<00:00, 3116.52it/s]\n",
      "Training: 100%|████████████████████████████████████████████████████████████████████████████████| 1000/1000 [00:03<00:00, 302.72it/s]\n",
      "Training: 100%|████████████████████████████████████████████████████████████████████████████████| 1000/1000 [00:03<00:00, 304.01it/s]\n",
      "Training: 100%|████████████████████████████████████████████████████████████████████████████████| 1000/1000 [00:03<00:00, 281.98it/s]\n",
      "Training: 100%|████████████████████████████████████████████████████████████████████████████████| 1000/1000 [00:03<00:00, 275.42it/s]\n",
      "Training: 100%|████████████████████████████████████████████████████████████████████████████████| 1000/1000 [00:03<00:00, 287.24it/s]\n",
      "Testing 27x27: 100%|████████████████████████████████████████████████████████████████████████████| 100/100 [00:00<00:00, 1608.95it/s]\n"
     ]
    },
    {
     "name": "stdout",
     "output_type": "stream",
     "text": [
      "\n",
      "27x27 Results:\n",
      "Accuracy: 94.00%\n",
      "Avg prediction | Perc: 0.900\n",
      "Avg prediction | Non-Perc: 0.059\n"
     ]
    },
    {
     "name": "stderr",
     "output_type": "stream",
     "text": [
      "Testing 81x81: 100%|█████████████████████████████████████████████████████████████████████████████| 100/100 [00:00<00:00, 732.44it/s]\n"
     ]
    },
    {
     "name": "stdout",
     "output_type": "stream",
     "text": [
      "\n",
      "81x81 Results:\n",
      "Accuracy: 98.00%\n",
      "Avg prediction | Perc: 0.956\n",
      "Avg prediction | Non-Perc: 0.008\n"
     ]
    },
    {
     "name": "stderr",
     "output_type": "stream",
     "text": [
      "Testing 243x243: 100%|███████████████████████████████████████████████████████████████████████████| 100/100 [00:00<00:00, 238.13it/s]\n"
     ]
    },
    {
     "name": "stdout",
     "output_type": "stream",
     "text": [
      "\n",
      "243x243 Results:\n",
      "Accuracy: 100.00%\n",
      "Avg prediction | Perc: 0.995\n",
      "Avg prediction | Non-Perc: 0.005\n"
     ]
    },
    {
     "name": "stderr",
     "output_type": "stream",
     "text": [
      "Testing 81x81: 100%|█████████████████████████████████████████████████████████████████████████████| 200/200 [00:00<00:00, 749.77it/s]\n"
     ]
    },
    {
     "name": "stdout",
     "output_type": "stream",
     "text": [
      "\n",
      "81x81 Results:\n",
      "Accuracy: 73.50%\n",
      "Avg prediction | Perc: 0.779\n",
      "Avg prediction | Non-Perc: 0.598\n",
      "\n",
      "Running 3^4 - Run 7/10\n"
     ]
    },
    {
     "name": "stderr",
     "output_type": "stream",
     "text": [
      "Generating data: 100%|██████████████████████████████████████████████████████████████████████| 10000/10000 [00:03<00:00, 3124.18it/s]\n",
      "Training: 100%|████████████████████████████████████████████████████████████████████████████████| 1000/1000 [00:03<00:00, 325.34it/s]\n",
      "Training: 100%|████████████████████████████████████████████████████████████████████████████████| 1000/1000 [00:03<00:00, 312.91it/s]\n",
      "Training: 100%|████████████████████████████████████████████████████████████████████████████████| 1000/1000 [00:03<00:00, 298.52it/s]\n",
      "Training: 100%|████████████████████████████████████████████████████████████████████████████████| 1000/1000 [00:03<00:00, 303.49it/s]\n",
      "Training: 100%|████████████████████████████████████████████████████████████████████████████████| 1000/1000 [00:03<00:00, 307.07it/s]\n",
      "Testing 27x27: 100%|████████████████████████████████████████████████████████████████████████████| 100/100 [00:00<00:00, 1784.80it/s]\n"
     ]
    },
    {
     "name": "stdout",
     "output_type": "stream",
     "text": [
      "\n",
      "27x27 Results:\n",
      "Accuracy: 44.00%\n",
      "Avg prediction | Perc: 0.193\n",
      "Avg prediction | Non-Perc: 0.364\n"
     ]
    },
    {
     "name": "stderr",
     "output_type": "stream",
     "text": [
      "Testing 81x81: 100%|█████████████████████████████████████████████████████████████████████████████| 100/100 [00:00<00:00, 910.20it/s]\n"
     ]
    },
    {
     "name": "stdout",
     "output_type": "stream",
     "text": [
      "\n",
      "81x81 Results:\n",
      "Accuracy: 97.00%\n",
      "Avg prediction | Perc: 0.610\n",
      "Avg prediction | Non-Perc: 0.206\n"
     ]
    },
    {
     "name": "stderr",
     "output_type": "stream",
     "text": [
      "Testing 243x243: 100%|███████████████████████████████████████████████████████████████████████████| 100/100 [00:00<00:00, 260.13it/s]\n"
     ]
    },
    {
     "name": "stdout",
     "output_type": "stream",
     "text": [
      "\n",
      "243x243 Results:\n",
      "Accuracy: 23.00%\n",
      "Avg prediction | Perc: 0.261\n",
      "Avg prediction | Non-Perc: 0.477\n"
     ]
    },
    {
     "name": "stderr",
     "output_type": "stream",
     "text": [
      "Testing 81x81: 100%|█████████████████████████████████████████████████████████████████████████████| 200/200 [00:00<00:00, 908.09it/s]\n"
     ]
    },
    {
     "name": "stdout",
     "output_type": "stream",
     "text": [
      "\n",
      "81x81 Results:\n",
      "Accuracy: 32.50%\n",
      "Avg prediction | Perc: 0.301\n",
      "Avg prediction | Non-Perc: 0.254\n",
      "\n",
      "Running 3^4 - Run 8/10\n"
     ]
    },
    {
     "name": "stderr",
     "output_type": "stream",
     "text": [
      "Generating data: 100%|██████████████████████████████████████████████████████████████████████| 10000/10000 [00:03<00:00, 3085.82it/s]\n",
      "Training: 100%|████████████████████████████████████████████████████████████████████████████████| 1000/1000 [00:03<00:00, 311.47it/s]\n",
      "Training: 100%|████████████████████████████████████████████████████████████████████████████████| 1000/1000 [00:03<00:00, 309.39it/s]\n",
      "Training: 100%|████████████████████████████████████████████████████████████████████████████████| 1000/1000 [00:03<00:00, 308.12it/s]\n",
      "Training: 100%|████████████████████████████████████████████████████████████████████████████████| 1000/1000 [00:03<00:00, 292.47it/s]\n",
      "Training: 100%|████████████████████████████████████████████████████████████████████████████████| 1000/1000 [00:03<00:00, 303.68it/s]\n",
      "Testing 27x27: 100%|████████████████████████████████████████████████████████████████████████████| 100/100 [00:00<00:00, 1746.14it/s]\n"
     ]
    },
    {
     "name": "stdout",
     "output_type": "stream",
     "text": [
      "\n",
      "27x27 Results:\n",
      "Accuracy: 52.00%\n",
      "Avg prediction | Perc: 0.160\n",
      "Avg prediction | Non-Perc: 0.389\n"
     ]
    },
    {
     "name": "stderr",
     "output_type": "stream",
     "text": [
      "Testing 81x81: 100%|█████████████████████████████████████████████████████████████████████████████| 100/100 [00:00<00:00, 910.95it/s]\n"
     ]
    },
    {
     "name": "stdout",
     "output_type": "stream",
     "text": [
      "\n",
      "81x81 Results:\n",
      "Accuracy: 98.00%\n",
      "Avg prediction | Perc: 0.710\n",
      "Avg prediction | Non-Perc: 0.167\n"
     ]
    },
    {
     "name": "stderr",
     "output_type": "stream",
     "text": [
      "Testing 243x243: 100%|███████████████████████████████████████████████████████████████████████████| 100/100 [00:00<00:00, 265.71it/s]\n"
     ]
    },
    {
     "name": "stdout",
     "output_type": "stream",
     "text": [
      "\n",
      "243x243 Results:\n",
      "Accuracy: 24.00%\n",
      "Avg prediction | Perc: 0.287\n",
      "Avg prediction | Non-Perc: 0.531\n"
     ]
    },
    {
     "name": "stderr",
     "output_type": "stream",
     "text": [
      "Testing 81x81: 100%|█████████████████████████████████████████████████████████████████████████████| 200/200 [00:00<00:00, 906.96it/s]\n"
     ]
    },
    {
     "name": "stdout",
     "output_type": "stream",
     "text": [
      "\n",
      "81x81 Results:\n",
      "Accuracy: 49.50%\n",
      "Avg prediction | Perc: 0.443\n",
      "Avg prediction | Non-Perc: 0.342\n",
      "\n",
      "Running 3^4 - Run 9/10\n"
     ]
    },
    {
     "name": "stderr",
     "output_type": "stream",
     "text": [
      "Generating data: 100%|██████████████████████████████████████████████████████████████████████| 10000/10000 [00:03<00:00, 3103.66it/s]\n",
      "Training: 100%|████████████████████████████████████████████████████████████████████████████████| 1000/1000 [00:03<00:00, 309.73it/s]\n",
      "Training: 100%|████████████████████████████████████████████████████████████████████████████████| 1000/1000 [00:03<00:00, 307.17it/s]\n",
      "Training: 100%|████████████████████████████████████████████████████████████████████████████████| 1000/1000 [00:03<00:00, 297.14it/s]\n",
      "Training: 100%|████████████████████████████████████████████████████████████████████████████████| 1000/1000 [00:03<00:00, 305.20it/s]\n",
      "Training: 100%|████████████████████████████████████████████████████████████████████████████████| 1000/1000 [00:03<00:00, 302.19it/s]\n",
      "Testing 27x27: 100%|████████████████████████████████████████████████████████████████████████████| 100/100 [00:00<00:00, 1538.80it/s]\n"
     ]
    },
    {
     "name": "stdout",
     "output_type": "stream",
     "text": [
      "\n",
      "27x27 Results:\n",
      "Accuracy: 72.00%\n",
      "Avg prediction | Perc: 0.446\n",
      "Avg prediction | Non-Perc: 0.447\n"
     ]
    },
    {
     "name": "stderr",
     "output_type": "stream",
     "text": [
      "Testing 81x81: 100%|█████████████████████████████████████████████████████████████████████████████| 100/100 [00:00<00:00, 922.89it/s]\n"
     ]
    },
    {
     "name": "stdout",
     "output_type": "stream",
     "text": [
      "\n",
      "81x81 Results:\n",
      "Accuracy: 58.00%\n",
      "Avg prediction | Perc: 0.446\n",
      "Avg prediction | Non-Perc: 0.446\n"
     ]
    },
    {
     "name": "stderr",
     "output_type": "stream",
     "text": [
      "Testing 243x243: 100%|███████████████████████████████████████████████████████████████████████████| 100/100 [00:00<00:00, 258.67it/s]\n"
     ]
    },
    {
     "name": "stdout",
     "output_type": "stream",
     "text": [
      "\n",
      "243x243 Results:\n",
      "Accuracy: 62.00%\n",
      "Avg prediction | Perc: 0.446\n",
      "Avg prediction | Non-Perc: 0.446\n"
     ]
    },
    {
     "name": "stderr",
     "output_type": "stream",
     "text": [
      "Testing 81x81: 100%|█████████████████████████████████████████████████████████████████████████████| 200/200 [00:00<00:00, 901.57it/s]\n"
     ]
    },
    {
     "name": "stdout",
     "output_type": "stream",
     "text": [
      "\n",
      "81x81 Results:\n",
      "Accuracy: 24.00%\n",
      "Avg prediction | Perc: 0.446\n",
      "Avg prediction | Non-Perc: 0.446\n",
      "\n",
      "Running 3^4 - Run 10/10\n"
     ]
    },
    {
     "name": "stderr",
     "output_type": "stream",
     "text": [
      "Generating data: 100%|██████████████████████████████████████████████████████████████████████| 10000/10000 [00:03<00:00, 3023.86it/s]\n",
      "Training: 100%|████████████████████████████████████████████████████████████████████████████████| 1000/1000 [00:03<00:00, 302.87it/s]\n",
      "Training: 100%|████████████████████████████████████████████████████████████████████████████████| 1000/1000 [00:03<00:00, 277.05it/s]\n",
      "Training: 100%|████████████████████████████████████████████████████████████████████████████████| 1000/1000 [00:03<00:00, 287.52it/s]\n",
      "Training: 100%|████████████████████████████████████████████████████████████████████████████████| 1000/1000 [00:03<00:00, 299.45it/s]\n",
      "Training: 100%|████████████████████████████████████████████████████████████████████████████████| 1000/1000 [00:03<00:00, 298.95it/s]\n",
      "Testing 27x27: 100%|████████████████████████████████████████████████████████████████████████████| 100/100 [00:00<00:00, 1713.47it/s]\n"
     ]
    },
    {
     "name": "stdout",
     "output_type": "stream",
     "text": [
      "\n",
      "27x27 Results:\n",
      "Accuracy: 48.00%\n",
      "Avg prediction | Perc: 0.171\n",
      "Avg prediction | Non-Perc: 0.378\n"
     ]
    },
    {
     "name": "stderr",
     "output_type": "stream",
     "text": [
      "Testing 81x81: 100%|█████████████████████████████████████████████████████████████████████████████| 100/100 [00:00<00:00, 938.75it/s]\n"
     ]
    },
    {
     "name": "stdout",
     "output_type": "stream",
     "text": [
      "\n",
      "81x81 Results:\n",
      "Accuracy: 96.00%\n",
      "Avg prediction | Perc: 0.681\n",
      "Avg prediction | Non-Perc: 0.169\n"
     ]
    },
    {
     "name": "stderr",
     "output_type": "stream",
     "text": [
      "Testing 243x243: 100%|███████████████████████████████████████████████████████████████████████████| 100/100 [00:00<00:00, 257.93it/s]\n"
     ]
    },
    {
     "name": "stdout",
     "output_type": "stream",
     "text": [
      "\n",
      "243x243 Results:\n",
      "Accuracy: 17.00%\n",
      "Avg prediction | Perc: 0.264\n",
      "Avg prediction | Non-Perc: 0.556\n"
     ]
    },
    {
     "name": "stderr",
     "output_type": "stream",
     "text": [
      "Testing 81x81: 100%|█████████████████████████████████████████████████████████████████████████████| 200/200 [00:00<00:00, 864.47it/s]\n"
     ]
    },
    {
     "name": "stdout",
     "output_type": "stream",
     "text": [
      "\n",
      "81x81 Results:\n",
      "Accuracy: 47.50%\n",
      "Avg prediction | Perc: 0.406\n",
      "Avg prediction | Non-Perc: 0.331\n",
      "\n",
      "Running 4^2 - Run 1/10\n"
     ]
    },
    {
     "name": "stderr",
     "output_type": "stream",
     "text": [
      "Generating data: 100%|██████████████████████████████████████████████████████████████████████| 10000/10000 [00:01<00:00, 9460.67it/s]\n",
      "Training: 100%|████████████████████████████████████████████████████████████████████████████████| 1000/1000 [00:01<00:00, 575.36it/s]\n",
      "Training: 100%|████████████████████████████████████████████████████████████████████████████████| 1000/1000 [00:01<00:00, 555.09it/s]\n",
      "Training: 100%|████████████████████████████████████████████████████████████████████████████████| 1000/1000 [00:01<00:00, 557.04it/s]\n",
      "Training: 100%|████████████████████████████████████████████████████████████████████████████████| 1000/1000 [00:01<00:00, 551.37it/s]\n",
      "Training: 100%|████████████████████████████████████████████████████████████████████████████████| 1000/1000 [00:01<00:00, 515.84it/s]\n",
      "Testing 4x4: 100%|██████████████████████████████████████████████████████████████████████████████| 100/100 [00:00<00:00, 3504.39it/s]\n"
     ]
    },
    {
     "name": "stdout",
     "output_type": "stream",
     "text": [
      "\n",
      "4x4 Results:\n",
      "Accuracy: 93.00%\n",
      "Avg prediction | Perc: 0.727\n",
      "Avg prediction | Non-Perc: 0.301\n"
     ]
    },
    {
     "name": "stderr",
     "output_type": "stream",
     "text": [
      "Testing 16x16: 100%|████████████████████████████████████████████████████████████████████████████| 100/100 [00:00<00:00, 2223.87it/s]\n"
     ]
    },
    {
     "name": "stdout",
     "output_type": "stream",
     "text": [
      "\n",
      "16x16 Results:\n",
      "Accuracy: 98.00%\n",
      "Avg prediction | Perc: 0.968\n",
      "Avg prediction | Non-Perc: 0.040\n"
     ]
    },
    {
     "name": "stderr",
     "output_type": "stream",
     "text": [
      "Testing 64x64: 100%|████████████████████████████████████████████████████████████████████████████| 100/100 [00:00<00:00, 1202.01it/s]\n"
     ]
    },
    {
     "name": "stdout",
     "output_type": "stream",
     "text": [
      "\n",
      "64x64 Results:\n",
      "Accuracy: 97.00%\n",
      "Avg prediction | Perc: 0.999\n",
      "Avg prediction | Non-Perc: 0.057\n"
     ]
    },
    {
     "name": "stderr",
     "output_type": "stream",
     "text": [
      "Testing 16x16: 100%|████████████████████████████████████████████████████████████████████████████| 200/200 [00:00<00:00, 2434.42it/s]"
     ]
    },
    {
     "name": "stdout",
     "output_type": "stream",
     "text": [
      "\n",
      "16x16 Results:\n",
      "Accuracy: 76.50%\n",
      "Avg prediction | Perc: 0.727\n",
      "Avg prediction | Non-Perc: 0.513\n"
     ]
    },
    {
     "name": "stderr",
     "output_type": "stream",
     "text": [
      "\n"
     ]
    },
    {
     "name": "stdout",
     "output_type": "stream",
     "text": [
      "\n",
      "Running 4^2 - Run 2/10\n"
     ]
    },
    {
     "name": "stderr",
     "output_type": "stream",
     "text": [
      "Generating data: 100%|██████████████████████████████████████████████████████████████████████| 10000/10000 [00:01<00:00, 9511.69it/s]\n",
      "Training: 100%|████████████████████████████████████████████████████████████████████████████████| 1000/1000 [00:01<00:00, 563.92it/s]\n",
      "Training: 100%|████████████████████████████████████████████████████████████████████████████████| 1000/1000 [00:01<00:00, 535.73it/s]\n",
      "Training: 100%|████████████████████████████████████████████████████████████████████████████████| 1000/1000 [00:01<00:00, 551.35it/s]\n",
      "Training: 100%|████████████████████████████████████████████████████████████████████████████████| 1000/1000 [00:01<00:00, 554.09it/s]\n",
      "Training: 100%|████████████████████████████████████████████████████████████████████████████████| 1000/1000 [00:01<00:00, 549.40it/s]\n",
      "Testing 4x4: 100%|██████████████████████████████████████████████████████████████████████████████| 100/100 [00:00<00:00, 3438.91it/s]\n"
     ]
    },
    {
     "name": "stdout",
     "output_type": "stream",
     "text": [
      "\n",
      "4x4 Results:\n",
      "Accuracy: 90.00%\n",
      "Avg prediction | Perc: 0.694\n",
      "Avg prediction | Non-Perc: 0.301\n"
     ]
    },
    {
     "name": "stderr",
     "output_type": "stream",
     "text": [
      "Testing 16x16: 100%|████████████████████████████████████████████████████████████████████████████| 100/100 [00:00<00:00, 2319.01it/s]\n"
     ]
    },
    {
     "name": "stdout",
     "output_type": "stream",
     "text": [
      "\n",
      "16x16 Results:\n",
      "Accuracy: 89.00%\n",
      "Avg prediction | Perc: 0.934\n",
      "Avg prediction | Non-Perc: 0.153\n"
     ]
    },
    {
     "name": "stderr",
     "output_type": "stream",
     "text": [
      "Testing 64x64: 100%|████████████████████████████████████████████████████████████████████████████| 100/100 [00:00<00:00, 1290.92it/s]\n"
     ]
    },
    {
     "name": "stdout",
     "output_type": "stream",
     "text": [
      "\n",
      "64x64 Results:\n",
      "Accuracy: 94.00%\n",
      "Avg prediction | Perc: 1.000\n",
      "Avg prediction | Non-Perc: 0.097\n"
     ]
    },
    {
     "name": "stderr",
     "output_type": "stream",
     "text": [
      "Testing 16x16: 100%|████████████████████████████████████████████████████████████████████████████| 200/200 [00:00<00:00, 2365.31it/s]\n"
     ]
    },
    {
     "name": "stdout",
     "output_type": "stream",
     "text": [
      "\n",
      "16x16 Results:\n",
      "Accuracy: 73.50%\n",
      "Avg prediction | Perc: 0.823\n",
      "Avg prediction | Non-Perc: 0.645\n",
      "\n",
      "Running 4^2 - Run 3/10\n"
     ]
    },
    {
     "name": "stderr",
     "output_type": "stream",
     "text": [
      "Generating data: 100%|██████████████████████████████████████████████████████████████████████| 10000/10000 [00:01<00:00, 9609.25it/s]\n",
      "Training: 100%|████████████████████████████████████████████████████████████████████████████████| 1000/1000 [00:01<00:00, 529.01it/s]\n",
      "Training: 100%|████████████████████████████████████████████████████████████████████████████████| 1000/1000 [00:01<00:00, 548.28it/s]\n",
      "Training: 100%|████████████████████████████████████████████████████████████████████████████████| 1000/1000 [00:01<00:00, 551.41it/s]\n",
      "Training: 100%|████████████████████████████████████████████████████████████████████████████████| 1000/1000 [00:01<00:00, 554.55it/s]\n",
      "Training: 100%|████████████████████████████████████████████████████████████████████████████████| 1000/1000 [00:01<00:00, 542.61it/s]\n",
      "Testing 4x4: 100%|██████████████████████████████████████████████████████████████████████████████| 100/100 [00:00<00:00, 3217.65it/s]\n"
     ]
    },
    {
     "name": "stdout",
     "output_type": "stream",
     "text": [
      "\n",
      "4x4 Results:\n",
      "Accuracy: 90.00%\n",
      "Avg prediction | Perc: 0.679\n",
      "Avg prediction | Non-Perc: 0.301\n"
     ]
    },
    {
     "name": "stderr",
     "output_type": "stream",
     "text": [
      "Testing 16x16: 100%|████████████████████████████████████████████████████████████████████████████| 100/100 [00:00<00:00, 2341.04it/s]\n"
     ]
    },
    {
     "name": "stdout",
     "output_type": "stream",
     "text": [
      "\n",
      "16x16 Results:\n",
      "Accuracy: 94.00%\n",
      "Avg prediction | Perc: 0.977\n",
      "Avg prediction | Non-Perc: 0.113\n"
     ]
    },
    {
     "name": "stderr",
     "output_type": "stream",
     "text": [
      "Testing 64x64: 100%|████████████████████████████████████████████████████████████████████████████| 100/100 [00:00<00:00, 1133.13it/s]\n"
     ]
    },
    {
     "name": "stdout",
     "output_type": "stream",
     "text": [
      "\n",
      "64x64 Results:\n",
      "Accuracy: 95.00%\n",
      "Avg prediction | Perc: 0.982\n",
      "Avg prediction | Non-Perc: 0.077\n"
     ]
    },
    {
     "name": "stderr",
     "output_type": "stream",
     "text": [
      "Testing 16x16: 100%|████████████████████████████████████████████████████████████████████████████| 200/200 [00:00<00:00, 2029.54it/s]\n"
     ]
    },
    {
     "name": "stdout",
     "output_type": "stream",
     "text": [
      "\n",
      "16x16 Results:\n",
      "Accuracy: 75.00%\n",
      "Avg prediction | Perc: 0.776\n",
      "Avg prediction | Non-Perc: 0.605\n",
      "\n",
      "Running 4^2 - Run 4/10\n"
     ]
    },
    {
     "name": "stderr",
     "output_type": "stream",
     "text": [
      "Generating data: 100%|██████████████████████████████████████████████████████████████████████| 10000/10000 [00:01<00:00, 9381.10it/s]\n",
      "Training: 100%|████████████████████████████████████████████████████████████████████████████████| 1000/1000 [00:01<00:00, 566.04it/s]\n",
      "Training: 100%|████████████████████████████████████████████████████████████████████████████████| 1000/1000 [00:01<00:00, 553.89it/s]\n",
      "Training: 100%|████████████████████████████████████████████████████████████████████████████████| 1000/1000 [00:01<00:00, 553.17it/s]\n",
      "Training: 100%|████████████████████████████████████████████████████████████████████████████████| 1000/1000 [00:01<00:00, 554.06it/s]\n",
      "Training: 100%|████████████████████████████████████████████████████████████████████████████████| 1000/1000 [00:02<00:00, 498.71it/s]\n",
      "Testing 4x4: 100%|██████████████████████████████████████████████████████████████████████████████| 100/100 [00:00<00:00, 3698.91it/s]\n"
     ]
    },
    {
     "name": "stdout",
     "output_type": "stream",
     "text": [
      "\n",
      "4x4 Results:\n",
      "Accuracy: 90.00%\n",
      "Avg prediction | Perc: 0.688\n",
      "Avg prediction | Non-Perc: 0.316\n"
     ]
    },
    {
     "name": "stderr",
     "output_type": "stream",
     "text": [
      "Testing 16x16: 100%|████████████████████████████████████████████████████████████████████████████| 100/100 [00:00<00:00, 2241.40it/s]\n"
     ]
    },
    {
     "name": "stdout",
     "output_type": "stream",
     "text": [
      "\n",
      "16x16 Results:\n",
      "Accuracy: 93.00%\n",
      "Avg prediction | Perc: 0.919\n",
      "Avg prediction | Non-Perc: 0.085\n"
     ]
    },
    {
     "name": "stderr",
     "output_type": "stream",
     "text": [
      "Testing 64x64: 100%|████████████████████████████████████████████████████████████████████████████| 100/100 [00:00<00:00, 1392.64it/s]\n"
     ]
    },
    {
     "name": "stdout",
     "output_type": "stream",
     "text": [
      "\n",
      "64x64 Results:\n",
      "Accuracy: 97.00%\n",
      "Avg prediction | Perc: 0.999\n",
      "Avg prediction | Non-Perc: 0.050\n"
     ]
    },
    {
     "name": "stderr",
     "output_type": "stream",
     "text": [
      "Testing 16x16: 100%|████████████████████████████████████████████████████████████████████████████| 200/200 [00:00<00:00, 2387.99it/s]\n"
     ]
    },
    {
     "name": "stdout",
     "output_type": "stream",
     "text": [
      "\n",
      "16x16 Results:\n",
      "Accuracy: 74.50%\n",
      "Avg prediction | Perc: 0.818\n",
      "Avg prediction | Non-Perc: 0.646\n",
      "\n",
      "Running 4^2 - Run 5/10\n"
     ]
    },
    {
     "name": "stderr",
     "output_type": "stream",
     "text": [
      "Generating data: 100%|██████████████████████████████████████████████████████████████████████| 10000/10000 [00:01<00:00, 9535.94it/s]\n",
      "Training: 100%|████████████████████████████████████████████████████████████████████████████████| 1000/1000 [00:01<00:00, 564.56it/s]\n",
      "Training: 100%|████████████████████████████████████████████████████████████████████████████████| 1000/1000 [00:01<00:00, 556.79it/s]\n",
      "Training: 100%|████████████████████████████████████████████████████████████████████████████████| 1000/1000 [00:01<00:00, 539.22it/s]\n",
      "Training: 100%|████████████████████████████████████████████████████████████████████████████████| 1000/1000 [00:01<00:00, 553.97it/s]\n",
      "Training: 100%|████████████████████████████████████████████████████████████████████████████████| 1000/1000 [00:01<00:00, 552.92it/s]\n",
      "Testing 4x4: 100%|██████████████████████████████████████████████████████████████████████████████| 100/100 [00:00<00:00, 3691.13it/s]\n"
     ]
    },
    {
     "name": "stdout",
     "output_type": "stream",
     "text": [
      "\n",
      "4x4 Results:\n",
      "Accuracy: 83.00%\n",
      "Avg prediction | Perc: 0.655\n",
      "Avg prediction | Non-Perc: 0.308\n"
     ]
    },
    {
     "name": "stderr",
     "output_type": "stream",
     "text": [
      "Testing 16x16: 100%|████████████████████████████████████████████████████████████████████████████| 100/100 [00:00<00:00, 2433.19it/s]\n"
     ]
    },
    {
     "name": "stdout",
     "output_type": "stream",
     "text": [
      "\n",
      "16x16 Results:\n",
      "Accuracy: 97.00%\n",
      "Avg prediction | Perc: 0.951\n",
      "Avg prediction | Non-Perc: 0.045\n"
     ]
    },
    {
     "name": "stderr",
     "output_type": "stream",
     "text": [
      "Testing 64x64: 100%|████████████████████████████████████████████████████████████████████████████| 100/100 [00:00<00:00, 1409.26it/s]\n"
     ]
    },
    {
     "name": "stdout",
     "output_type": "stream",
     "text": [
      "\n",
      "64x64 Results:\n",
      "Accuracy: 98.00%\n",
      "Avg prediction | Perc: 0.993\n",
      "Avg prediction | Non-Perc: 0.044\n"
     ]
    },
    {
     "name": "stderr",
     "output_type": "stream",
     "text": [
      "Testing 16x16: 100%|████████████████████████████████████████████████████████████████████████████| 200/200 [00:00<00:00, 2343.76it/s]\n"
     ]
    },
    {
     "name": "stdout",
     "output_type": "stream",
     "text": [
      "\n",
      "16x16 Results:\n",
      "Accuracy: 72.50%\n",
      "Avg prediction | Perc: 0.781\n",
      "Avg prediction | Non-Perc: 0.618\n",
      "\n",
      "Running 4^2 - Run 6/10\n"
     ]
    },
    {
     "name": "stderr",
     "output_type": "stream",
     "text": [
      "Generating data: 100%|██████████████████████████████████████████████████████████████████████| 10000/10000 [00:01<00:00, 9573.10it/s]\n",
      "Training: 100%|████████████████████████████████████████████████████████████████████████████████| 1000/1000 [00:01<00:00, 565.11it/s]\n",
      "Training: 100%|████████████████████████████████████████████████████████████████████████████████| 1000/1000 [00:01<00:00, 520.03it/s]\n",
      "Training: 100%|████████████████████████████████████████████████████████████████████████████████| 1000/1000 [00:01<00:00, 554.06it/s]\n",
      "Training: 100%|████████████████████████████████████████████████████████████████████████████████| 1000/1000 [00:01<00:00, 547.93it/s]\n",
      "Training: 100%|████████████████████████████████████████████████████████████████████████████████| 1000/1000 [00:01<00:00, 551.90it/s]\n",
      "Testing 4x4: 100%|██████████████████████████████████████████████████████████████████████████████| 100/100 [00:00<00:00, 3502.58it/s]\n"
     ]
    },
    {
     "name": "stdout",
     "output_type": "stream",
     "text": [
      "\n",
      "4x4 Results:\n",
      "Accuracy: 89.00%\n",
      "Avg prediction | Perc: 0.701\n",
      "Avg prediction | Non-Perc: 0.298\n"
     ]
    },
    {
     "name": "stderr",
     "output_type": "stream",
     "text": [
      "Testing 16x16: 100%|████████████████████████████████████████████████████████████████████████████| 100/100 [00:00<00:00, 2230.30it/s]\n"
     ]
    },
    {
     "name": "stdout",
     "output_type": "stream",
     "text": [
      "\n",
      "16x16 Results:\n",
      "Accuracy: 92.00%\n",
      "Avg prediction | Perc: 0.874\n",
      "Avg prediction | Non-Perc: 0.062\n"
     ]
    },
    {
     "name": "stderr",
     "output_type": "stream",
     "text": [
      "Testing 64x64: 100%|████████████████████████████████████████████████████████████████████████████| 100/100 [00:00<00:00, 1338.16it/s]\n"
     ]
    },
    {
     "name": "stdout",
     "output_type": "stream",
     "text": [
      "\n",
      "64x64 Results:\n",
      "Accuracy: 97.00%\n",
      "Avg prediction | Perc: 0.929\n",
      "Avg prediction | Non-Perc: 0.009\n"
     ]
    },
    {
     "name": "stderr",
     "output_type": "stream",
     "text": [
      "Testing 16x16: 100%|████████████████████████████████████████████████████████████████████████████| 200/200 [00:00<00:00, 2411.84it/s]\n"
     ]
    },
    {
     "name": "stdout",
     "output_type": "stream",
     "text": [
      "\n",
      "16x16 Results:\n",
      "Accuracy: 75.50%\n",
      "Avg prediction | Perc: 0.657\n",
      "Avg prediction | Non-Perc: 0.416\n",
      "\n",
      "Running 4^2 - Run 7/10\n"
     ]
    },
    {
     "name": "stderr",
     "output_type": "stream",
     "text": [
      "Generating data: 100%|██████████████████████████████████████████████████████████████████████| 10000/10000 [00:01<00:00, 9453.80it/s]\n",
      "Training: 100%|████████████████████████████████████████████████████████████████████████████████| 1000/1000 [00:01<00:00, 567.14it/s]\n",
      "Training: 100%|████████████████████████████████████████████████████████████████████████████████| 1000/1000 [00:01<00:00, 544.10it/s]\n",
      "Training: 100%|████████████████████████████████████████████████████████████████████████████████| 1000/1000 [00:01<00:00, 526.08it/s]\n",
      "Training: 100%|████████████████████████████████████████████████████████████████████████████████| 1000/1000 [00:01<00:00, 538.40it/s]\n",
      "Training: 100%|████████████████████████████████████████████████████████████████████████████████| 1000/1000 [00:01<00:00, 549.80it/s]\n",
      "Testing 4x4: 100%|██████████████████████████████████████████████████████████████████████████████| 100/100 [00:00<00:00, 3501.50it/s]\n"
     ]
    },
    {
     "name": "stdout",
     "output_type": "stream",
     "text": [
      "\n",
      "4x4 Results:\n",
      "Accuracy: 93.00%\n",
      "Avg prediction | Perc: 0.701\n",
      "Avg prediction | Non-Perc: 0.276\n"
     ]
    },
    {
     "name": "stderr",
     "output_type": "stream",
     "text": [
      "Testing 16x16: 100%|████████████████████████████████████████████████████████████████████████████| 100/100 [00:00<00:00, 2263.08it/s]\n"
     ]
    },
    {
     "name": "stdout",
     "output_type": "stream",
     "text": [
      "\n",
      "16x16 Results:\n",
      "Accuracy: 96.00%\n",
      "Avg prediction | Perc: 0.928\n",
      "Avg prediction | Non-Perc: 0.096\n"
     ]
    },
    {
     "name": "stderr",
     "output_type": "stream",
     "text": [
      "Testing 64x64: 100%|████████████████████████████████████████████████████████████████████████████| 100/100 [00:00<00:00, 1370.51it/s]\n"
     ]
    },
    {
     "name": "stdout",
     "output_type": "stream",
     "text": [
      "\n",
      "64x64 Results:\n",
      "Accuracy: 92.00%\n",
      "Avg prediction | Perc: 0.999\n",
      "Avg prediction | Non-Perc: 0.143\n"
     ]
    },
    {
     "name": "stderr",
     "output_type": "stream",
     "text": [
      "Testing 16x16: 100%|████████████████████████████████████████████████████████████████████████████| 200/200 [00:00<00:00, 2385.10it/s]\n"
     ]
    },
    {
     "name": "stdout",
     "output_type": "stream",
     "text": [
      "\n",
      "16x16 Results:\n",
      "Accuracy: 73.50%\n",
      "Avg prediction | Perc: 0.850\n",
      "Avg prediction | Non-Perc: 0.701\n",
      "\n",
      "Running 4^2 - Run 8/10\n"
     ]
    },
    {
     "name": "stderr",
     "output_type": "stream",
     "text": [
      "Generating data: 100%|██████████████████████████████████████████████████████████████████████| 10000/10000 [00:01<00:00, 9537.70it/s]\n",
      "Training: 100%|████████████████████████████████████████████████████████████████████████████████| 1000/1000 [00:01<00:00, 557.09it/s]\n",
      "Training: 100%|████████████████████████████████████████████████████████████████████████████████| 1000/1000 [00:01<00:00, 535.75it/s]\n",
      "Training: 100%|████████████████████████████████████████████████████████████████████████████████| 1000/1000 [00:01<00:00, 548.65it/s]\n",
      "Training: 100%|████████████████████████████████████████████████████████████████████████████████| 1000/1000 [00:01<00:00, 551.39it/s]\n",
      "Training: 100%|████████████████████████████████████████████████████████████████████████████████| 1000/1000 [00:01<00:00, 550.71it/s]\n",
      "Testing 4x4: 100%|██████████████████████████████████████████████████████████████████████████████| 100/100 [00:00<00:00, 3499.54it/s]\n"
     ]
    },
    {
     "name": "stdout",
     "output_type": "stream",
     "text": [
      "\n",
      "4x4 Results:\n",
      "Accuracy: 93.00%\n",
      "Avg prediction | Perc: 0.706\n",
      "Avg prediction | Non-Perc: 0.263\n"
     ]
    },
    {
     "name": "stderr",
     "output_type": "stream",
     "text": [
      "Testing 16x16: 100%|████████████████████████████████████████████████████████████████████████████| 100/100 [00:00<00:00, 2319.26it/s]\n"
     ]
    },
    {
     "name": "stdout",
     "output_type": "stream",
     "text": [
      "\n",
      "16x16 Results:\n",
      "Accuracy: 95.00%\n",
      "Avg prediction | Perc: 0.920\n",
      "Avg prediction | Non-Perc: 0.093\n"
     ]
    },
    {
     "name": "stderr",
     "output_type": "stream",
     "text": [
      "Testing 64x64: 100%|████████████████████████████████████████████████████████████████████████████| 100/100 [00:00<00:00, 1309.07it/s]\n"
     ]
    },
    {
     "name": "stdout",
     "output_type": "stream",
     "text": [
      "\n",
      "64x64 Results:\n",
      "Accuracy: 93.00%\n",
      "Avg prediction | Perc: 1.000\n",
      "Avg prediction | Non-Perc: 0.105\n"
     ]
    },
    {
     "name": "stderr",
     "output_type": "stream",
     "text": [
      "Testing 16x16: 100%|████████████████████████████████████████████████████████████████████████████| 200/200 [00:00<00:00, 2263.19it/s]\n"
     ]
    },
    {
     "name": "stdout",
     "output_type": "stream",
     "text": [
      "\n",
      "16x16 Results:\n",
      "Accuracy: 73.50%\n",
      "Avg prediction | Perc: 0.856\n",
      "Avg prediction | Non-Perc: 0.745\n",
      "\n",
      "Running 4^2 - Run 9/10\n"
     ]
    },
    {
     "name": "stderr",
     "output_type": "stream",
     "text": [
      "Generating data: 100%|██████████████████████████████████████████████████████████████████████| 10000/10000 [00:01<00:00, 9346.74it/s]\n",
      "Training: 100%|████████████████████████████████████████████████████████████████████████████████| 1000/1000 [00:01<00:00, 562.26it/s]\n",
      "Training: 100%|████████████████████████████████████████████████████████████████████████████████| 1000/1000 [00:01<00:00, 540.27it/s]\n",
      "Training: 100%|████████████████████████████████████████████████████████████████████████████████| 1000/1000 [00:01<00:00, 552.40it/s]\n",
      "Training: 100%|████████████████████████████████████████████████████████████████████████████████| 1000/1000 [00:01<00:00, 545.49it/s]\n",
      "Training: 100%|████████████████████████████████████████████████████████████████████████████████| 1000/1000 [00:01<00:00, 548.63it/s]\n",
      "Testing 4x4: 100%|██████████████████████████████████████████████████████████████████████████████| 100/100 [00:00<00:00, 3186.56it/s]\n"
     ]
    },
    {
     "name": "stdout",
     "output_type": "stream",
     "text": [
      "\n",
      "4x4 Results:\n",
      "Accuracy: 94.00%\n",
      "Avg prediction | Perc: 0.707\n",
      "Avg prediction | Non-Perc: 0.299\n"
     ]
    },
    {
     "name": "stderr",
     "output_type": "stream",
     "text": [
      "Testing 16x16: 100%|████████████████████████████████████████████████████████████████████████████| 100/100 [00:00<00:00, 2296.01it/s]\n"
     ]
    },
    {
     "name": "stdout",
     "output_type": "stream",
     "text": [
      "\n",
      "16x16 Results:\n",
      "Accuracy: 98.00%\n",
      "Avg prediction | Perc: 0.934\n",
      "Avg prediction | Non-Perc: 0.035\n"
     ]
    },
    {
     "name": "stderr",
     "output_type": "stream",
     "text": [
      "Testing 64x64: 100%|████████████████████████████████████████████████████████████████████████████| 100/100 [00:00<00:00, 1316.75it/s]\n"
     ]
    },
    {
     "name": "stdout",
     "output_type": "stream",
     "text": [
      "\n",
      "64x64 Results:\n",
      "Accuracy: 99.00%\n",
      "Avg prediction | Perc: 0.985\n",
      "Avg prediction | Non-Perc: 0.019\n"
     ]
    },
    {
     "name": "stderr",
     "output_type": "stream",
     "text": [
      "Testing 16x16: 100%|████████████████████████████████████████████████████████████████████████████| 200/200 [00:00<00:00, 2364.21it/s]\n"
     ]
    },
    {
     "name": "stdout",
     "output_type": "stream",
     "text": [
      "\n",
      "16x16 Results:\n",
      "Accuracy: 77.50%\n",
      "Avg prediction | Perc: 0.766\n",
      "Avg prediction | Non-Perc: 0.594\n",
      "\n",
      "Running 4^2 - Run 10/10\n"
     ]
    },
    {
     "name": "stderr",
     "output_type": "stream",
     "text": [
      "Generating data: 100%|██████████████████████████████████████████████████████████████████████| 10000/10000 [00:01<00:00, 9493.56it/s]\n",
      "Training: 100%|████████████████████████████████████████████████████████████████████████████████| 1000/1000 [00:01<00:00, 561.22it/s]\n",
      "Training: 100%|████████████████████████████████████████████████████████████████████████████████| 1000/1000 [00:02<00:00, 491.52it/s]\n",
      "Training: 100%|████████████████████████████████████████████████████████████████████████████████| 1000/1000 [00:01<00:00, 535.55it/s]\n",
      "Training: 100%|████████████████████████████████████████████████████████████████████████████████| 1000/1000 [00:01<00:00, 534.33it/s]\n",
      "Training: 100%|████████████████████████████████████████████████████████████████████████████████| 1000/1000 [00:01<00:00, 545.44it/s]\n",
      "Testing 4x4: 100%|██████████████████████████████████████████████████████████████████████████████| 100/100 [00:00<00:00, 3620.59it/s]\n"
     ]
    },
    {
     "name": "stdout",
     "output_type": "stream",
     "text": [
      "\n",
      "4x4 Results:\n",
      "Accuracy: 94.00%\n",
      "Avg prediction | Perc: 0.721\n",
      "Avg prediction | Non-Perc: 0.291\n"
     ]
    },
    {
     "name": "stderr",
     "output_type": "stream",
     "text": [
      "Testing 16x16: 100%|████████████████████████████████████████████████████████████████████████████| 100/100 [00:00<00:00, 2402.65it/s]\n"
     ]
    },
    {
     "name": "stdout",
     "output_type": "stream",
     "text": [
      "\n",
      "16x16 Results:\n",
      "Accuracy: 94.00%\n",
      "Avg prediction | Perc: 0.917\n",
      "Avg prediction | Non-Perc: 0.102\n"
     ]
    },
    {
     "name": "stderr",
     "output_type": "stream",
     "text": [
      "Testing 64x64: 100%|████████████████████████████████████████████████████████████████████████████| 100/100 [00:00<00:00, 1347.36it/s]\n"
     ]
    },
    {
     "name": "stdout",
     "output_type": "stream",
     "text": [
      "\n",
      "64x64 Results:\n",
      "Accuracy: 97.00%\n",
      "Avg prediction | Perc: 0.999\n",
      "Avg prediction | Non-Perc: 0.062\n"
     ]
    },
    {
     "name": "stderr",
     "output_type": "stream",
     "text": [
      "Testing 16x16: 100%|████████████████████████████████████████████████████████████████████████████| 200/200 [00:00<00:00, 2374.75it/s]\n"
     ]
    },
    {
     "name": "stdout",
     "output_type": "stream",
     "text": [
      "\n",
      "16x16 Results:\n",
      "Accuracy: 74.50%\n",
      "Avg prediction | Perc: 0.808\n",
      "Avg prediction | Non-Perc: 0.699\n",
      "\n",
      "Running 4^3 - Run 1/10\n"
     ]
    },
    {
     "name": "stderr",
     "output_type": "stream",
     "text": [
      "Generating data: 100%|██████████████████████████████████████████████████████████████████████| 10000/10000 [00:02<00:00, 4136.62it/s]\n",
      "Training: 100%|████████████████████████████████████████████████████████████████████████████████| 1000/1000 [00:02<00:00, 423.44it/s]\n",
      "Training: 100%|████████████████████████████████████████████████████████████████████████████████| 1000/1000 [00:02<00:00, 403.80it/s]\n",
      "Training: 100%|████████████████████████████████████████████████████████████████████████████████| 1000/1000 [00:02<00:00, 402.94it/s]\n",
      "Training: 100%|████████████████████████████████████████████████████████████████████████████████| 1000/1000 [00:02<00:00, 413.35it/s]\n",
      "Training: 100%|████████████████████████████████████████████████████████████████████████████████| 1000/1000 [00:02<00:00, 413.52it/s]\n",
      "Testing 16x16: 100%|████████████████████████████████████████████████████████████████████████████| 100/100 [00:00<00:00, 2368.07it/s]\n"
     ]
    },
    {
     "name": "stdout",
     "output_type": "stream",
     "text": [
      "\n",
      "16x16 Results:\n",
      "Accuracy: 10.00%\n",
      "Avg prediction | Perc: 0.274\n",
      "Avg prediction | Non-Perc: 0.974\n"
     ]
    },
    {
     "name": "stderr",
     "output_type": "stream",
     "text": [
      "Testing 64x64: 100%|████████████████████████████████████████████████████████████████████████████| 100/100 [00:00<00:00, 1303.55it/s]\n"
     ]
    },
    {
     "name": "stdout",
     "output_type": "stream",
     "text": [
      "\n",
      "64x64 Results:\n",
      "Accuracy: 97.00%\n",
      "Avg prediction | Perc: 0.936\n",
      "Avg prediction | Non-Perc: 0.036\n"
     ]
    },
    {
     "name": "stderr",
     "output_type": "stream",
     "text": [
      "Testing 256x256: 100%|███████████████████████████████████████████████████████████████████████████| 100/100 [00:00<00:00, 297.39it/s]\n"
     ]
    },
    {
     "name": "stdout",
     "output_type": "stream",
     "text": [
      "\n",
      "256x256 Results:\n",
      "Accuracy: 5.00%\n",
      "Avg prediction | Perc: 0.121\n",
      "Avg prediction | Non-Perc: 1.000\n"
     ]
    },
    {
     "name": "stderr",
     "output_type": "stream",
     "text": [
      "Testing 64x64: 100%|████████████████████████████████████████████████████████████████████████████| 200/200 [00:00<00:00, 1274.95it/s]"
     ]
    },
    {
     "name": "stdout",
     "output_type": "stream",
     "text": [
      "\n",
      "64x64 Results:\n",
      "Accuracy: 46.50%\n",
      "Avg prediction | Perc: 0.380\n",
      "Avg prediction | Non-Perc: 0.224\n"
     ]
    },
    {
     "name": "stderr",
     "output_type": "stream",
     "text": [
      "\n"
     ]
    },
    {
     "name": "stdout",
     "output_type": "stream",
     "text": [
      "\n",
      "Running 4^3 - Run 2/10\n"
     ]
    },
    {
     "name": "stderr",
     "output_type": "stream",
     "text": [
      "Generating data: 100%|██████████████████████████████████████████████████████████████████████| 10000/10000 [00:02<00:00, 4202.07it/s]\n",
      "Training: 100%|████████████████████████████████████████████████████████████████████████████████| 1000/1000 [00:02<00:00, 416.23it/s]\n",
      "Training: 100%|████████████████████████████████████████████████████████████████████████████████| 1000/1000 [00:02<00:00, 368.40it/s]\n",
      "Training: 100%|████████████████████████████████████████████████████████████████████████████████| 1000/1000 [00:02<00:00, 407.66it/s]\n",
      "Training: 100%|████████████████████████████████████████████████████████████████████████████████| 1000/1000 [00:02<00:00, 401.13it/s]\n",
      "Training: 100%|████████████████████████████████████████████████████████████████████████████████| 1000/1000 [00:02<00:00, 363.43it/s]\n",
      "Testing 16x16: 100%|████████████████████████████████████████████████████████████████████████████| 100/100 [00:00<00:00, 2274.53it/s]\n"
     ]
    },
    {
     "name": "stdout",
     "output_type": "stream",
     "text": [
      "\n",
      "16x16 Results:\n",
      "Accuracy: 10.00%\n",
      "Avg prediction | Perc: 0.239\n",
      "Avg prediction | Non-Perc: 0.940\n"
     ]
    },
    {
     "name": "stderr",
     "output_type": "stream",
     "text": [
      "Testing 64x64: 100%|████████████████████████████████████████████████████████████████████████████| 100/100 [00:00<00:00, 1295.64it/s]\n"
     ]
    },
    {
     "name": "stdout",
     "output_type": "stream",
     "text": [
      "\n",
      "64x64 Results:\n",
      "Accuracy: 98.00%\n",
      "Avg prediction | Perc: 0.964\n",
      "Avg prediction | Non-Perc: 0.016\n"
     ]
    },
    {
     "name": "stderr",
     "output_type": "stream",
     "text": [
      "Testing 256x256: 100%|███████████████████████████████████████████████████████████████████████████| 100/100 [00:00<00:00, 277.48it/s]\n"
     ]
    },
    {
     "name": "stdout",
     "output_type": "stream",
     "text": [
      "\n",
      "256x256 Results:\n",
      "Accuracy: 2.00%\n",
      "Avg prediction | Perc: 0.002\n",
      "Avg prediction | Non-Perc: 0.967\n"
     ]
    },
    {
     "name": "stderr",
     "output_type": "stream",
     "text": [
      "Testing 64x64: 100%|████████████████████████████████████████████████████████████████████████████| 200/200 [00:00<00:00, 1145.38it/s]\n"
     ]
    },
    {
     "name": "stdout",
     "output_type": "stream",
     "text": [
      "\n",
      "64x64 Results:\n",
      "Accuracy: 73.50%\n",
      "Avg prediction | Perc: 0.736\n",
      "Avg prediction | Non-Perc: 0.576\n",
      "\n",
      "Running 4^3 - Run 3/10\n"
     ]
    },
    {
     "name": "stderr",
     "output_type": "stream",
     "text": [
      "Generating data: 100%|██████████████████████████████████████████████████████████████████████| 10000/10000 [00:02<00:00, 4215.25it/s]\n",
      "Training: 100%|████████████████████████████████████████████████████████████████████████████████| 1000/1000 [00:02<00:00, 417.51it/s]\n",
      "Training: 100%|████████████████████████████████████████████████████████████████████████████████| 1000/1000 [00:02<00:00, 406.32it/s]\n",
      "Training: 100%|████████████████████████████████████████████████████████████████████████████████| 1000/1000 [00:02<00:00, 361.85it/s]\n",
      "Training: 100%|████████████████████████████████████████████████████████████████████████████████| 1000/1000 [00:02<00:00, 406.51it/s]\n",
      "Training: 100%|████████████████████████████████████████████████████████████████████████████████| 1000/1000 [00:02<00:00, 400.04it/s]\n",
      "Testing 16x16: 100%|████████████████████████████████████████████████████████████████████████████| 100/100 [00:00<00:00, 2345.98it/s]\n"
     ]
    },
    {
     "name": "stdout",
     "output_type": "stream",
     "text": [
      "\n",
      "16x16 Results:\n",
      "Accuracy: 2.00%\n",
      "Avg prediction | Perc: 0.110\n",
      "Avg prediction | Non-Perc: 0.958\n"
     ]
    },
    {
     "name": "stderr",
     "output_type": "stream",
     "text": [
      "Testing 64x64: 100%|████████████████████████████████████████████████████████████████████████████| 100/100 [00:00<00:00, 1272.88it/s]\n"
     ]
    },
    {
     "name": "stdout",
     "output_type": "stream",
     "text": [
      "\n",
      "64x64 Results:\n",
      "Accuracy: 97.00%\n",
      "Avg prediction | Perc: 0.989\n",
      "Avg prediction | Non-Perc: 0.055\n"
     ]
    },
    {
     "name": "stderr",
     "output_type": "stream",
     "text": [
      "Testing 256x256: 100%|███████████████████████████████████████████████████████████████████████████| 100/100 [00:00<00:00, 297.03it/s]\n"
     ]
    },
    {
     "name": "stdout",
     "output_type": "stream",
     "text": [
      "\n",
      "256x256 Results:\n",
      "Accuracy: 1.00%\n",
      "Avg prediction | Perc: 0.000\n",
      "Avg prediction | Non-Perc: 0.983\n"
     ]
    },
    {
     "name": "stderr",
     "output_type": "stream",
     "text": [
      "Testing 64x64: 100%|████████████████████████████████████████████████████████████████████████████| 200/200 [00:00<00:00, 1256.88it/s]"
     ]
    },
    {
     "name": "stdout",
     "output_type": "stream",
     "text": [
      "\n",
      "64x64 Results:\n",
      "Accuracy: 72.50%\n",
      "Avg prediction | Perc: 0.943\n",
      "Avg prediction | Non-Perc: 0.841\n"
     ]
    },
    {
     "name": "stderr",
     "output_type": "stream",
     "text": [
      "\n"
     ]
    },
    {
     "name": "stdout",
     "output_type": "stream",
     "text": [
      "\n",
      "Running 4^3 - Run 4/10\n"
     ]
    },
    {
     "name": "stderr",
     "output_type": "stream",
     "text": [
      "Generating data: 100%|██████████████████████████████████████████████████████████████████████| 10000/10000 [00:02<00:00, 4172.19it/s]\n",
      "Training: 100%|████████████████████████████████████████████████████████████████████████████████| 1000/1000 [00:02<00:00, 406.69it/s]\n",
      "Training: 100%|████████████████████████████████████████████████████████████████████████████████| 1000/1000 [00:02<00:00, 404.69it/s]\n",
      "Training: 100%|████████████████████████████████████████████████████████████████████████████████| 1000/1000 [00:02<00:00, 407.48it/s]\n",
      "Training: 100%|████████████████████████████████████████████████████████████████████████████████| 1000/1000 [00:02<00:00, 396.92it/s]\n",
      "Training: 100%|████████████████████████████████████████████████████████████████████████████████| 1000/1000 [00:02<00:00, 406.66it/s]\n",
      "Testing 16x16: 100%|████████████████████████████████████████████████████████████████████████████| 100/100 [00:00<00:00, 2495.24it/s]\n"
     ]
    },
    {
     "name": "stdout",
     "output_type": "stream",
     "text": [
      "\n",
      "16x16 Results:\n",
      "Accuracy: 3.00%\n",
      "Avg prediction | Perc: 0.181\n",
      "Avg prediction | Non-Perc: 0.972\n"
     ]
    },
    {
     "name": "stderr",
     "output_type": "stream",
     "text": [
      "Testing 64x64: 100%|████████████████████████████████████████████████████████████████████████████| 100/100 [00:00<00:00, 1164.55it/s]\n"
     ]
    },
    {
     "name": "stdout",
     "output_type": "stream",
     "text": [
      "\n",
      "64x64 Results:\n",
      "Accuracy: 98.00%\n",
      "Avg prediction | Perc: 0.937\n",
      "Avg prediction | Non-Perc: 0.034\n"
     ]
    },
    {
     "name": "stderr",
     "output_type": "stream",
     "text": [
      "Testing 256x256: 100%|███████████████████████████████████████████████████████████████████████████| 100/100 [00:00<00:00, 296.82it/s]\n"
     ]
    },
    {
     "name": "stdout",
     "output_type": "stream",
     "text": [
      "\n",
      "256x256 Results:\n",
      "Accuracy: 0.00%\n",
      "Avg prediction | Perc: 0.006\n",
      "Avg prediction | Non-Perc: 0.996\n"
     ]
    },
    {
     "name": "stderr",
     "output_type": "stream",
     "text": [
      "Testing 64x64: 100%|████████████████████████████████████████████████████████████████████████████| 200/200 [00:00<00:00, 1308.71it/s]"
     ]
    },
    {
     "name": "stdout",
     "output_type": "stream",
     "text": [
      "\n",
      "64x64 Results:\n",
      "Accuracy: 70.00%\n",
      "Avg prediction | Perc: 0.672\n",
      "Avg prediction | Non-Perc: 0.514\n"
     ]
    },
    {
     "name": "stderr",
     "output_type": "stream",
     "text": [
      "\n"
     ]
    },
    {
     "name": "stdout",
     "output_type": "stream",
     "text": [
      "\n",
      "Running 4^3 - Run 5/10\n"
     ]
    },
    {
     "name": "stderr",
     "output_type": "stream",
     "text": [
      "Generating data: 100%|██████████████████████████████████████████████████████████████████████| 10000/10000 [00:02<00:00, 4057.82it/s]\n",
      "Training: 100%|████████████████████████████████████████████████████████████████████████████████| 1000/1000 [00:02<00:00, 410.12it/s]\n",
      "Training: 100%|████████████████████████████████████████████████████████████████████████████████| 1000/1000 [00:02<00:00, 376.39it/s]\n",
      "Training: 100%|████████████████████████████████████████████████████████████████████████████████| 1000/1000 [00:02<00:00, 388.40it/s]\n",
      "Training: 100%|████████████████████████████████████████████████████████████████████████████████| 1000/1000 [00:02<00:00, 407.22it/s]\n",
      "Training: 100%|████████████████████████████████████████████████████████████████████████████████| 1000/1000 [00:02<00:00, 404.11it/s]\n",
      "Testing 16x16: 100%|████████████████████████████████████████████████████████████████████████████| 100/100 [00:00<00:00, 2390.72it/s]\n"
     ]
    },
    {
     "name": "stdout",
     "output_type": "stream",
     "text": [
      "\n",
      "16x16 Results:\n",
      "Accuracy: 3.00%\n",
      "Avg prediction | Perc: 0.139\n",
      "Avg prediction | Non-Perc: 0.966\n"
     ]
    },
    {
     "name": "stderr",
     "output_type": "stream",
     "text": [
      "Testing 64x64: 100%|████████████████████████████████████████████████████████████████████████████| 100/100 [00:00<00:00, 1266.06it/s]\n"
     ]
    },
    {
     "name": "stdout",
     "output_type": "stream",
     "text": [
      "\n",
      "64x64 Results:\n",
      "Accuracy: 94.00%\n",
      "Avg prediction | Perc: 0.959\n",
      "Avg prediction | Non-Perc: 0.063\n"
     ]
    },
    {
     "name": "stderr",
     "output_type": "stream",
     "text": [
      "Testing 256x256: 100%|███████████████████████████████████████████████████████████████████████████| 100/100 [00:00<00:00, 292.06it/s]\n"
     ]
    },
    {
     "name": "stdout",
     "output_type": "stream",
     "text": [
      "\n",
      "256x256 Results:\n",
      "Accuracy: 3.00%\n",
      "Avg prediction | Perc: 0.000\n",
      "Avg prediction | Non-Perc: 0.960\n"
     ]
    },
    {
     "name": "stderr",
     "output_type": "stream",
     "text": [
      "Testing 64x64: 100%|████████████████████████████████████████████████████████████████████████████| 200/200 [00:00<00:00, 1270.71it/s]"
     ]
    },
    {
     "name": "stdout",
     "output_type": "stream",
     "text": [
      "\n",
      "64x64 Results:\n",
      "Accuracy: 76.00%\n",
      "Avg prediction | Perc: 0.904\n",
      "Avg prediction | Non-Perc: 0.782\n"
     ]
    },
    {
     "name": "stderr",
     "output_type": "stream",
     "text": [
      "\n"
     ]
    },
    {
     "name": "stdout",
     "output_type": "stream",
     "text": [
      "\n",
      "Running 4^3 - Run 6/10\n"
     ]
    },
    {
     "name": "stderr",
     "output_type": "stream",
     "text": [
      "Generating data: 100%|██████████████████████████████████████████████████████████████████████| 10000/10000 [00:02<00:00, 4176.82it/s]\n",
      "Training: 100%|████████████████████████████████████████████████████████████████████████████████| 1000/1000 [00:02<00:00, 412.90it/s]\n",
      "Training: 100%|████████████████████████████████████████████████████████████████████████████████| 1000/1000 [00:02<00:00, 390.32it/s]\n",
      "Training: 100%|████████████████████████████████████████████████████████████████████████████████| 1000/1000 [00:02<00:00, 398.39it/s]\n",
      "Training: 100%|████████████████████████████████████████████████████████████████████████████████| 1000/1000 [00:02<00:00, 364.83it/s]\n",
      "Training: 100%|████████████████████████████████████████████████████████████████████████████████| 1000/1000 [00:02<00:00, 395.26it/s]\n",
      "Testing 16x16: 100%|████████████████████████████████████████████████████████████████████████████| 100/100 [00:00<00:00, 2429.16it/s]\n"
     ]
    },
    {
     "name": "stdout",
     "output_type": "stream",
     "text": [
      "\n",
      "16x16 Results:\n",
      "Accuracy: 12.00%\n",
      "Avg prediction | Perc: 0.349\n",
      "Avg prediction | Non-Perc: 0.944\n"
     ]
    },
    {
     "name": "stderr",
     "output_type": "stream",
     "text": [
      "Testing 64x64: 100%|████████████████████████████████████████████████████████████████████████████| 100/100 [00:00<00:00, 1286.79it/s]\n"
     ]
    },
    {
     "name": "stdout",
     "output_type": "stream",
     "text": [
      "\n",
      "64x64 Results:\n",
      "Accuracy: 99.00%\n",
      "Avg prediction | Perc: 0.956\n",
      "Avg prediction | Non-Perc: 0.008\n"
     ]
    },
    {
     "name": "stderr",
     "output_type": "stream",
     "text": [
      "Testing 256x256: 100%|███████████████████████████████████████████████████████████████████████████| 100/100 [00:00<00:00, 295.99it/s]\n"
     ]
    },
    {
     "name": "stdout",
     "output_type": "stream",
     "text": [
      "\n",
      "256x256 Results:\n",
      "Accuracy: 1.00%\n",
      "Avg prediction | Perc: 0.034\n",
      "Avg prediction | Non-Perc: 1.000\n"
     ]
    },
    {
     "name": "stderr",
     "output_type": "stream",
     "text": [
      "Testing 64x64: 100%|████████████████████████████████████████████████████████████████████████████| 200/200 [00:00<00:00, 1223.00it/s]"
     ]
    },
    {
     "name": "stdout",
     "output_type": "stream",
     "text": [
      "\n",
      "64x64 Results:\n",
      "Accuracy: 49.50%\n",
      "Avg prediction | Perc: 0.402\n",
      "Avg prediction | Non-Perc: 0.279\n"
     ]
    },
    {
     "name": "stderr",
     "output_type": "stream",
     "text": [
      "\n"
     ]
    },
    {
     "name": "stdout",
     "output_type": "stream",
     "text": [
      "\n",
      "Running 4^3 - Run 7/10\n"
     ]
    },
    {
     "name": "stderr",
     "output_type": "stream",
     "text": [
      "Generating data: 100%|██████████████████████████████████████████████████████████████████████| 10000/10000 [00:02<00:00, 4226.89it/s]\n",
      "Training: 100%|████████████████████████████████████████████████████████████████████████████████| 1000/1000 [00:02<00:00, 412.85it/s]\n",
      "Training: 100%|████████████████████████████████████████████████████████████████████████████████| 1000/1000 [00:02<00:00, 390.50it/s]\n",
      "Training: 100%|████████████████████████████████████████████████████████████████████████████████| 1000/1000 [00:02<00:00, 382.74it/s]\n",
      "Training: 100%|████████████████████████████████████████████████████████████████████████████████| 1000/1000 [00:02<00:00, 408.00it/s]\n",
      "Training: 100%|████████████████████████████████████████████████████████████████████████████████| 1000/1000 [00:02<00:00, 395.86it/s]\n",
      "Testing 16x16: 100%|████████████████████████████████████████████████████████████████████████████| 100/100 [00:00<00:00, 2433.94it/s]\n"
     ]
    },
    {
     "name": "stdout",
     "output_type": "stream",
     "text": [
      "\n",
      "16x16 Results:\n",
      "Accuracy: 13.00%\n",
      "Avg prediction | Perc: 0.339\n",
      "Avg prediction | Non-Perc: 0.976\n"
     ]
    },
    {
     "name": "stderr",
     "output_type": "stream",
     "text": [
      "Testing 64x64: 100%|████████████████████████████████████████████████████████████████████████████| 100/100 [00:00<00:00, 1270.56it/s]\n"
     ]
    },
    {
     "name": "stdout",
     "output_type": "stream",
     "text": [
      "\n",
      "64x64 Results:\n",
      "Accuracy: 97.00%\n",
      "Avg prediction | Perc: 0.929\n",
      "Avg prediction | Non-Perc: 0.010\n"
     ]
    },
    {
     "name": "stderr",
     "output_type": "stream",
     "text": [
      "Testing 256x256: 100%|███████████████████████████████████████████████████████████████████████████| 100/100 [00:00<00:00, 296.05it/s]\n"
     ]
    },
    {
     "name": "stdout",
     "output_type": "stream",
     "text": [
      "\n",
      "256x256 Results:\n",
      "Accuracy: 3.00%\n",
      "Avg prediction | Perc: 0.074\n",
      "Avg prediction | Non-Perc: 1.000\n"
     ]
    },
    {
     "name": "stderr",
     "output_type": "stream",
     "text": [
      "Testing 64x64: 100%|████████████████████████████████████████████████████████████████████████████| 200/200 [00:00<00:00, 1288.11it/s]"
     ]
    },
    {
     "name": "stdout",
     "output_type": "stream",
     "text": [
      "\n",
      "64x64 Results:\n",
      "Accuracy: 43.00%\n",
      "Avg prediction | Perc: 0.332\n",
      "Avg prediction | Non-Perc: 0.211\n"
     ]
    },
    {
     "name": "stderr",
     "output_type": "stream",
     "text": [
      "\n"
     ]
    },
    {
     "name": "stdout",
     "output_type": "stream",
     "text": [
      "\n",
      "Running 4^3 - Run 8/10\n"
     ]
    },
    {
     "name": "stderr",
     "output_type": "stream",
     "text": [
      "Generating data: 100%|██████████████████████████████████████████████████████████████████████| 10000/10000 [00:02<00:00, 4204.70it/s]\n",
      "Training: 100%|████████████████████████████████████████████████████████████████████████████████| 1000/1000 [00:02<00:00, 396.64it/s]\n",
      "Training: 100%|████████████████████████████████████████████████████████████████████████████████| 1000/1000 [00:02<00:00, 408.51it/s]\n",
      "Training: 100%|████████████████████████████████████████████████████████████████████████████████| 1000/1000 [00:02<00:00, 373.20it/s]\n",
      "Training: 100%|████████████████████████████████████████████████████████████████████████████████| 1000/1000 [00:02<00:00, 397.92it/s]\n",
      "Training: 100%|████████████████████████████████████████████████████████████████████████████████| 1000/1000 [00:02<00:00, 397.44it/s]\n",
      "Testing 16x16: 100%|████████████████████████████████████████████████████████████████████████████| 100/100 [00:00<00:00, 2199.30it/s]\n"
     ]
    },
    {
     "name": "stdout",
     "output_type": "stream",
     "text": [
      "\n",
      "16x16 Results:\n",
      "Accuracy: 7.00%\n",
      "Avg prediction | Perc: 0.178\n",
      "Avg prediction | Non-Perc: 0.952\n"
     ]
    },
    {
     "name": "stderr",
     "output_type": "stream",
     "text": [
      "Testing 64x64: 100%|████████████████████████████████████████████████████████████████████████████| 100/100 [00:00<00:00, 1249.89it/s]\n"
     ]
    },
    {
     "name": "stdout",
     "output_type": "stream",
     "text": [
      "\n",
      "64x64 Results:\n",
      "Accuracy: 97.00%\n",
      "Avg prediction | Perc: 0.948\n",
      "Avg prediction | Non-Perc: 0.017\n"
     ]
    },
    {
     "name": "stderr",
     "output_type": "stream",
     "text": [
      "Testing 256x256: 100%|███████████████████████████████████████████████████████████████████████████| 100/100 [00:00<00:00, 295.61it/s]\n"
     ]
    },
    {
     "name": "stdout",
     "output_type": "stream",
     "text": [
      "\n",
      "256x256 Results:\n",
      "Accuracy: 3.00%\n",
      "Avg prediction | Perc: 0.064\n",
      "Avg prediction | Non-Perc: 0.994\n"
     ]
    },
    {
     "name": "stderr",
     "output_type": "stream",
     "text": [
      "Testing 64x64: 100%|████████████████████████████████████████████████████████████████████████████| 200/200 [00:00<00:00, 1279.65it/s]"
     ]
    },
    {
     "name": "stdout",
     "output_type": "stream",
     "text": [
      "\n",
      "64x64 Results:\n",
      "Accuracy: 74.50%\n",
      "Avg prediction | Perc: 0.663\n",
      "Avg prediction | Non-Perc: 0.469\n"
     ]
    },
    {
     "name": "stderr",
     "output_type": "stream",
     "text": [
      "\n"
     ]
    },
    {
     "name": "stdout",
     "output_type": "stream",
     "text": [
      "\n",
      "Running 4^3 - Run 9/10\n"
     ]
    },
    {
     "name": "stderr",
     "output_type": "stream",
     "text": [
      "Generating data: 100%|██████████████████████████████████████████████████████████████████████| 10000/10000 [00:02<00:00, 4217.81it/s]\n",
      "Training: 100%|████████████████████████████████████████████████████████████████████████████████| 1000/1000 [00:02<00:00, 414.10it/s]\n",
      "Training: 100%|████████████████████████████████████████████████████████████████████████████████| 1000/1000 [00:02<00:00, 402.71it/s]\n",
      "Training: 100%|████████████████████████████████████████████████████████████████████████████████| 1000/1000 [00:02<00:00, 404.79it/s]\n",
      "Training: 100%|████████████████████████████████████████████████████████████████████████████████| 1000/1000 [00:02<00:00, 355.29it/s]\n",
      "Training: 100%|████████████████████████████████████████████████████████████████████████████████| 1000/1000 [00:02<00:00, 391.63it/s]\n",
      "Testing 16x16: 100%|████████████████████████████████████████████████████████████████████████████| 100/100 [00:00<00:00, 2238.06it/s]\n"
     ]
    },
    {
     "name": "stdout",
     "output_type": "stream",
     "text": [
      "\n",
      "16x16 Results:\n",
      "Accuracy: 11.00%\n",
      "Avg prediction | Perc: 0.227\n",
      "Avg prediction | Non-Perc: 0.965\n"
     ]
    },
    {
     "name": "stderr",
     "output_type": "stream",
     "text": [
      "Testing 64x64: 100%|████████████████████████████████████████████████████████████████████████████| 100/100 [00:00<00:00, 1239.86it/s]\n"
     ]
    },
    {
     "name": "stdout",
     "output_type": "stream",
     "text": [
      "\n",
      "64x64 Results:\n",
      "Accuracy: 95.00%\n",
      "Avg prediction | Perc: 0.917\n",
      "Avg prediction | Non-Perc: 0.019\n"
     ]
    },
    {
     "name": "stderr",
     "output_type": "stream",
     "text": [
      "Testing 256x256: 100%|███████████████████████████████████████████████████████████████████████████| 100/100 [00:00<00:00, 295.04it/s]\n"
     ]
    },
    {
     "name": "stdout",
     "output_type": "stream",
     "text": [
      "\n",
      "256x256 Results:\n",
      "Accuracy: 0.00%\n",
      "Avg prediction | Perc: 0.023\n",
      "Avg prediction | Non-Perc: 1.000\n"
     ]
    },
    {
     "name": "stderr",
     "output_type": "stream",
     "text": [
      "Testing 64x64: 100%|████████████████████████████████████████████████████████████████████████████| 200/200 [00:00<00:00, 1282.85it/s]"
     ]
    },
    {
     "name": "stdout",
     "output_type": "stream",
     "text": [
      "\n",
      "64x64 Results:\n",
      "Accuracy: 70.50%\n",
      "Avg prediction | Perc: 0.640\n",
      "Avg prediction | Non-Perc: 0.488\n"
     ]
    },
    {
     "name": "stderr",
     "output_type": "stream",
     "text": [
      "\n"
     ]
    },
    {
     "name": "stdout",
     "output_type": "stream",
     "text": [
      "\n",
      "Running 4^3 - Run 10/10\n"
     ]
    },
    {
     "name": "stderr",
     "output_type": "stream",
     "text": [
      "Generating data: 100%|██████████████████████████████████████████████████████████████████████| 10000/10000 [00:02<00:00, 4198.15it/s]\n",
      "Training: 100%|████████████████████████████████████████████████████████████████████████████████| 1000/1000 [00:02<00:00, 416.34it/s]\n",
      "Training: 100%|████████████████████████████████████████████████████████████████████████████████| 1000/1000 [00:02<00:00, 399.14it/s]\n",
      "Training: 100%|████████████████████████████████████████████████████████████████████████████████| 1000/1000 [00:02<00:00, 405.56it/s]\n",
      "Training: 100%|████████████████████████████████████████████████████████████████████████████████| 1000/1000 [00:02<00:00, 403.61it/s]\n",
      "Training: 100%|████████████████████████████████████████████████████████████████████████████████| 1000/1000 [00:02<00:00, 380.25it/s]\n",
      "Testing 16x16: 100%|████████████████████████████████████████████████████████████████████████████| 100/100 [00:00<00:00, 2350.21it/s]\n"
     ]
    },
    {
     "name": "stdout",
     "output_type": "stream",
     "text": [
      "\n",
      "16x16 Results:\n",
      "Accuracy: 8.00%\n",
      "Avg prediction | Perc: 0.192\n",
      "Avg prediction | Non-Perc: 0.937\n"
     ]
    },
    {
     "name": "stderr",
     "output_type": "stream",
     "text": [
      "Testing 64x64: 100%|████████████████████████████████████████████████████████████████████████████| 100/100 [00:00<00:00, 1328.19it/s]\n"
     ]
    },
    {
     "name": "stdout",
     "output_type": "stream",
     "text": [
      "\n",
      "64x64 Results:\n",
      "Accuracy: 96.00%\n",
      "Avg prediction | Perc: 0.994\n",
      "Avg prediction | Non-Perc: 0.069\n"
     ]
    },
    {
     "name": "stderr",
     "output_type": "stream",
     "text": [
      "Testing 256x256: 100%|███████████████████████████████████████████████████████████████████████████| 100/100 [00:00<00:00, 297.73it/s]\n"
     ]
    },
    {
     "name": "stdout",
     "output_type": "stream",
     "text": [
      "\n",
      "256x256 Results:\n",
      "Accuracy: 4.00%\n",
      "Avg prediction | Perc: 0.001\n",
      "Avg prediction | Non-Perc: 0.933\n"
     ]
    },
    {
     "name": "stderr",
     "output_type": "stream",
     "text": [
      "Testing 64x64: 100%|████████████████████████████████████████████████████████████████████████████| 200/200 [00:00<00:00, 1255.15it/s]"
     ]
    },
    {
     "name": "stdout",
     "output_type": "stream",
     "text": [
      "\n",
      "64x64 Results:\n",
      "Accuracy: 77.00%\n",
      "Avg prediction | Perc: 0.928\n",
      "Avg prediction | Non-Perc: 0.856\n"
     ]
    },
    {
     "name": "stderr",
     "output_type": "stream",
     "text": [
      "\n"
     ]
    },
    {
     "name": "stdout",
     "output_type": "stream",
     "text": [
      "\n",
      "Running 4^4 - Run 1/10\n"
     ]
    },
    {
     "name": "stderr",
     "output_type": "stream",
     "text": [
      "Generating data: 100%|███████████████████████████████████████████████████████████████████████| 10000/10000 [00:23<00:00, 426.42it/s]\n",
      "Training: 100%|█████████████████████████████████████████████████████████████████████████████████| 1000/1000 [00:20<00:00, 48.77it/s]\n",
      "Training: 100%|█████████████████████████████████████████████████████████████████████████████████| 1000/1000 [00:18<00:00, 54.00it/s]\n",
      "Training: 100%|█████████████████████████████████████████████████████████████████████████████████| 1000/1000 [00:21<00:00, 45.51it/s]\n",
      "Training: 100%|█████████████████████████████████████████████████████████████████████████████████| 1000/1000 [00:19<00:00, 52.62it/s]\n",
      "Training: 100%|█████████████████████████████████████████████████████████████████████████████████| 1000/1000 [00:19<00:00, 50.52it/s]\n",
      "Testing 64x64: 100%|█████████████████████████████████████████████████████████████████████████████| 100/100 [00:00<00:00, 775.08it/s]\n"
     ]
    },
    {
     "name": "stdout",
     "output_type": "stream",
     "text": [
      "\n",
      "64x64 Results:\n",
      "Accuracy: 72.00%\n",
      "Avg prediction | Perc: 0.407\n",
      "Avg prediction | Non-Perc: 0.406\n"
     ]
    },
    {
     "name": "stderr",
     "output_type": "stream",
     "text": [
      "Testing 256x256: 100%|███████████████████████████████████████████████████████████████████████████| 100/100 [00:00<00:00, 247.82it/s]\n"
     ]
    },
    {
     "name": "stdout",
     "output_type": "stream",
     "text": [
      "\n",
      "256x256 Results:\n",
      "Accuracy: 66.00%\n",
      "Avg prediction | Perc: 0.405\n",
      "Avg prediction | Non-Perc: 0.405\n"
     ]
    },
    {
     "name": "stderr",
     "output_type": "stream",
     "text": [
      "Testing 1024x1024: 100%|██████████████████████████████████████████████████████████████████████████| 100/100 [00:04<00:00, 20.86it/s]\n"
     ]
    },
    {
     "name": "stdout",
     "output_type": "stream",
     "text": [
      "\n",
      "1024x1024 Results:\n",
      "Accuracy: 59.00%\n",
      "Avg prediction | Perc: 0.405\n",
      "Avg prediction | Non-Perc: 0.405\n"
     ]
    },
    {
     "name": "stderr",
     "output_type": "stream",
     "text": [
      "Testing 256x256: 100%|███████████████████████████████████████████████████████████████████████████| 200/200 [00:00<00:00, 227.97it/s]\n"
     ]
    },
    {
     "name": "stdout",
     "output_type": "stream",
     "text": [
      "\n",
      "256x256 Results:\n",
      "Accuracy: 31.00%\n",
      "Avg prediction | Perc: 0.405\n",
      "Avg prediction | Non-Perc: 0.405\n",
      "\n",
      "Running 4^4 - Run 2/10\n"
     ]
    },
    {
     "name": "stderr",
     "output_type": "stream",
     "text": [
      "Generating data: 100%|███████████████████████████████████████████████████████████████████████| 10000/10000 [00:21<00:00, 456.82it/s]\n",
      "Training: 100%|█████████████████████████████████████████████████████████████████████████████████| 1000/1000 [00:18<00:00, 54.71it/s]\n",
      "Training: 100%|█████████████████████████████████████████████████████████████████████████████████| 1000/1000 [00:19<00:00, 50.83it/s]\n",
      "Training: 100%|█████████████████████████████████████████████████████████████████████████████████| 1000/1000 [00:13<00:00, 72.91it/s]\n",
      "Training: 100%|█████████████████████████████████████████████████████████████████████████████████| 1000/1000 [00:11<00:00, 88.34it/s]\n",
      "Training: 100%|█████████████████████████████████████████████████████████████████████████████████| 1000/1000 [00:16<00:00, 61.09it/s]\n",
      "Testing 64x64: 100%|█████████████████████████████████████████████████████████████████████████████| 100/100 [00:00<00:00, 441.17it/s]\n"
     ]
    },
    {
     "name": "stdout",
     "output_type": "stream",
     "text": [
      "\n",
      "64x64 Results:\n",
      "Accuracy: 56.00%\n",
      "Avg prediction | Perc: 0.440\n",
      "Avg prediction | Non-Perc: 0.440\n"
     ]
    },
    {
     "name": "stderr",
     "output_type": "stream",
     "text": [
      "Testing 256x256: 100%|███████████████████████████████████████████████████████████████████████████| 100/100 [00:00<00:00, 227.69it/s]\n"
     ]
    },
    {
     "name": "stdout",
     "output_type": "stream",
     "text": [
      "\n",
      "256x256 Results:\n",
      "Accuracy: 64.00%\n",
      "Avg prediction | Perc: 0.440\n",
      "Avg prediction | Non-Perc: 0.440\n"
     ]
    },
    {
     "name": "stderr",
     "output_type": "stream",
     "text": [
      "Testing 1024x1024: 100%|██████████████████████████████████████████████████████████████████████████| 100/100 [00:04<00:00, 20.44it/s]\n"
     ]
    },
    {
     "name": "stdout",
     "output_type": "stream",
     "text": [
      "\n",
      "1024x1024 Results:\n",
      "Accuracy: 56.00%\n",
      "Avg prediction | Perc: 0.440\n",
      "Avg prediction | Non-Perc: 0.440\n"
     ]
    },
    {
     "name": "stderr",
     "output_type": "stream",
     "text": [
      "Testing 256x256: 100%|███████████████████████████████████████████████████████████████████████████| 200/200 [00:00<00:00, 254.91it/s]\n"
     ]
    },
    {
     "name": "stdout",
     "output_type": "stream",
     "text": [
      "\n",
      "256x256 Results:\n",
      "Accuracy: 31.50%\n",
      "Avg prediction | Perc: 0.440\n",
      "Avg prediction | Non-Perc: 0.440\n",
      "\n",
      "Running 4^4 - Run 3/10\n"
     ]
    },
    {
     "name": "stderr",
     "output_type": "stream",
     "text": [
      "Generating data: 100%|███████████████████████████████████████████████████████████████████████| 10000/10000 [00:21<00:00, 462.04it/s]\n",
      "Training: 100%|█████████████████████████████████████████████████████████████████████████████████| 1000/1000 [00:11<00:00, 89.01it/s]\n",
      "Training: 100%|█████████████████████████████████████████████████████████████████████████████████| 1000/1000 [00:12<00:00, 81.08it/s]\n",
      "Training: 100%|█████████████████████████████████████████████████████████████████████████████████| 1000/1000 [00:19<00:00, 51.33it/s]\n",
      "Training: 100%|█████████████████████████████████████████████████████████████████████████████████| 1000/1000 [00:18<00:00, 53.75it/s]\n",
      "Training: 100%|█████████████████████████████████████████████████████████████████████████████████| 1000/1000 [00:19<00:00, 52.47it/s]\n",
      "Testing 64x64: 100%|█████████████████████████████████████████████████████████████████████████████| 100/100 [00:00<00:00, 376.28it/s]\n"
     ]
    },
    {
     "name": "stdout",
     "output_type": "stream",
     "text": [
      "\n",
      "64x64 Results:\n",
      "Accuracy: 69.00%\n",
      "Avg prediction | Perc: 0.424\n",
      "Avg prediction | Non-Perc: 0.426\n"
     ]
    },
    {
     "name": "stderr",
     "output_type": "stream",
     "text": [
      "Testing 256x256: 100%|███████████████████████████████████████████████████████████████████████████| 100/100 [00:00<00:00, 179.40it/s]\n"
     ]
    },
    {
     "name": "stdout",
     "output_type": "stream",
     "text": [
      "\n",
      "256x256 Results:\n",
      "Accuracy: 67.00%\n",
      "Avg prediction | Perc: 0.424\n",
      "Avg prediction | Non-Perc: 0.424\n"
     ]
    },
    {
     "name": "stderr",
     "output_type": "stream",
     "text": [
      "Testing 1024x1024: 100%|██████████████████████████████████████████████████████████████████████████| 100/100 [00:04<00:00, 20.22it/s]\n"
     ]
    },
    {
     "name": "stdout",
     "output_type": "stream",
     "text": [
      "\n",
      "1024x1024 Results:\n",
      "Accuracy: 58.00%\n",
      "Avg prediction | Perc: 0.424\n",
      "Avg prediction | Non-Perc: 0.424\n"
     ]
    },
    {
     "name": "stderr",
     "output_type": "stream",
     "text": [
      "Testing 256x256: 100%|███████████████████████████████████████████████████████████████████████████| 200/200 [00:00<00:00, 227.02it/s]\n"
     ]
    },
    {
     "name": "stdout",
     "output_type": "stream",
     "text": [
      "\n",
      "256x256 Results:\n",
      "Accuracy: 30.00%\n",
      "Avg prediction | Perc: 0.424\n",
      "Avg prediction | Non-Perc: 0.424\n",
      "\n",
      "Running 4^4 - Run 4/10\n"
     ]
    },
    {
     "name": "stderr",
     "output_type": "stream",
     "text": [
      "Generating data: 100%|███████████████████████████████████████████████████████████████████████| 10000/10000 [00:22<00:00, 449.71it/s]\n",
      "Training: 100%|█████████████████████████████████████████████████████████████████████████████████| 1000/1000 [00:17<00:00, 57.15it/s]\n",
      "Training: 100%|█████████████████████████████████████████████████████████████████████████████████| 1000/1000 [00:20<00:00, 49.90it/s]\n",
      "Training: 100%|█████████████████████████████████████████████████████████████████████████████████| 1000/1000 [00:18<00:00, 52.93it/s]\n",
      "Training: 100%|█████████████████████████████████████████████████████████████████████████████████| 1000/1000 [00:18<00:00, 55.24it/s]\n",
      "Training: 100%|█████████████████████████████████████████████████████████████████████████████████| 1000/1000 [00:18<00:00, 53.36it/s]\n",
      "Testing 64x64: 100%|█████████████████████████████████████████████████████████████████████████████| 100/100 [00:00<00:00, 286.62it/s]\n"
     ]
    },
    {
     "name": "stdout",
     "output_type": "stream",
     "text": [
      "\n",
      "64x64 Results:\n",
      "Accuracy: 53.00%\n",
      "Avg prediction | Perc: 0.401\n",
      "Avg prediction | Non-Perc: 0.399\n"
     ]
    },
    {
     "name": "stderr",
     "output_type": "stream",
     "text": [
      "Testing 256x256: 100%|███████████████████████████████████████████████████████████████████████████| 100/100 [00:00<00:00, 174.13it/s]\n"
     ]
    },
    {
     "name": "stdout",
     "output_type": "stream",
     "text": [
      "\n",
      "256x256 Results:\n",
      "Accuracy: 63.00%\n",
      "Avg prediction | Perc: 0.398\n",
      "Avg prediction | Non-Perc: 0.398\n"
     ]
    },
    {
     "name": "stderr",
     "output_type": "stream",
     "text": [
      "Testing 1024x1024: 100%|██████████████████████████████████████████████████████████████████████████| 100/100 [00:04<00:00, 20.69it/s]\n"
     ]
    },
    {
     "name": "stdout",
     "output_type": "stream",
     "text": [
      "\n",
      "1024x1024 Results:\n",
      "Accuracy: 64.00%\n",
      "Avg prediction | Perc: 0.398\n",
      "Avg prediction | Non-Perc: 0.398\n"
     ]
    },
    {
     "name": "stderr",
     "output_type": "stream",
     "text": [
      "Testing 256x256: 100%|███████████████████████████████████████████████████████████████████████████| 200/200 [00:00<00:00, 225.24it/s]\n"
     ]
    },
    {
     "name": "stdout",
     "output_type": "stream",
     "text": [
      "\n",
      "256x256 Results:\n",
      "Accuracy: 25.00%\n",
      "Avg prediction | Perc: 0.398\n",
      "Avg prediction | Non-Perc: 0.398\n",
      "\n",
      "Running 4^4 - Run 5/10\n"
     ]
    },
    {
     "name": "stderr",
     "output_type": "stream",
     "text": [
      "Generating data: 100%|███████████████████████████████████████████████████████████████████████| 10000/10000 [00:22<00:00, 452.58it/s]\n",
      "Training: 100%|█████████████████████████████████████████████████████████████████████████████████| 1000/1000 [00:19<00:00, 51.14it/s]\n",
      "Training: 100%|█████████████████████████████████████████████████████████████████████████████████| 1000/1000 [00:12<00:00, 81.78it/s]\n",
      "Training: 100%|█████████████████████████████████████████████████████████████████████████████████| 1000/1000 [00:19<00:00, 52.39it/s]\n",
      "Training: 100%|█████████████████████████████████████████████████████████████████████████████████| 1000/1000 [00:11<00:00, 86.14it/s]\n",
      "Training: 100%|█████████████████████████████████████████████████████████████████████████████████| 1000/1000 [00:10<00:00, 97.51it/s]\n",
      "Testing 64x64: 100%|█████████████████████████████████████████████████████████████████████████████| 100/100 [00:00<00:00, 488.75it/s]\n"
     ]
    },
    {
     "name": "stdout",
     "output_type": "stream",
     "text": [
      "\n",
      "64x64 Results:\n",
      "Accuracy: 63.00%\n",
      "Avg prediction | Perc: 0.413\n",
      "Avg prediction | Non-Perc: 0.412\n"
     ]
    },
    {
     "name": "stderr",
     "output_type": "stream",
     "text": [
      "Testing 256x256: 100%|███████████████████████████████████████████████████████████████████████████| 100/100 [00:00<00:00, 210.33it/s]\n"
     ]
    },
    {
     "name": "stdout",
     "output_type": "stream",
     "text": [
      "\n",
      "256x256 Results:\n",
      "Accuracy: 65.00%\n",
      "Avg prediction | Perc: 0.411\n",
      "Avg prediction | Non-Perc: 0.411\n"
     ]
    },
    {
     "name": "stderr",
     "output_type": "stream",
     "text": [
      "Testing 1024x1024: 100%|██████████████████████████████████████████████████████████████████████████| 100/100 [00:05<00:00, 19.20it/s]\n"
     ]
    },
    {
     "name": "stdout",
     "output_type": "stream",
     "text": [
      "\n",
      "1024x1024 Results:\n",
      "Accuracy: 62.00%\n",
      "Avg prediction | Perc: 0.411\n",
      "Avg prediction | Non-Perc: 0.411\n"
     ]
    },
    {
     "name": "stderr",
     "output_type": "stream",
     "text": [
      "Testing 256x256: 100%|███████████████████████████████████████████████████████████████████████████| 200/200 [00:00<00:00, 242.37it/s]\n"
     ]
    },
    {
     "name": "stdout",
     "output_type": "stream",
     "text": [
      "\n",
      "256x256 Results:\n",
      "Accuracy: 31.00%\n",
      "Avg prediction | Perc: 0.411\n",
      "Avg prediction | Non-Perc: 0.411\n",
      "\n",
      "Running 4^4 - Run 6/10\n"
     ]
    },
    {
     "name": "stderr",
     "output_type": "stream",
     "text": [
      "Generating data: 100%|███████████████████████████████████████████████████████████████████████| 10000/10000 [00:22<00:00, 448.84it/s]\n",
      "Training: 100%|█████████████████████████████████████████████████████████████████████████████████| 1000/1000 [00:16<00:00, 61.55it/s]\n",
      "Training: 100%|█████████████████████████████████████████████████████████████████████████████████| 1000/1000 [00:10<00:00, 93.91it/s]\n",
      "Training: 100%|█████████████████████████████████████████████████████████████████████████████████| 1000/1000 [00:14<00:00, 70.87it/s]\n",
      "Training: 100%|█████████████████████████████████████████████████████████████████████████████████| 1000/1000 [00:20<00:00, 49.98it/s]\n",
      "Training: 100%|█████████████████████████████████████████████████████████████████████████████████| 1000/1000 [00:24<00:00, 41.52it/s]\n",
      "Testing 64x64: 100%|█████████████████████████████████████████████████████████████████████████████| 100/100 [00:00<00:00, 430.83it/s]\n"
     ]
    },
    {
     "name": "stdout",
     "output_type": "stream",
     "text": [
      "\n",
      "64x64 Results:\n",
      "Accuracy: 60.00%\n",
      "Avg prediction | Perc: 0.414\n",
      "Avg prediction | Non-Perc: 0.414\n"
     ]
    },
    {
     "name": "stderr",
     "output_type": "stream",
     "text": [
      "Testing 256x256: 100%|███████████████████████████████████████████████████████████████████████████| 100/100 [00:00<00:00, 207.50it/s]\n"
     ]
    },
    {
     "name": "stdout",
     "output_type": "stream",
     "text": [
      "\n",
      "256x256 Results:\n",
      "Accuracy: 60.00%\n",
      "Avg prediction | Perc: 0.414\n",
      "Avg prediction | Non-Perc: 0.414\n"
     ]
    },
    {
     "name": "stderr",
     "output_type": "stream",
     "text": [
      "Testing 1024x1024: 100%|██████████████████████████████████████████████████████████████████████████| 100/100 [00:04<00:00, 20.51it/s]\n"
     ]
    },
    {
     "name": "stdout",
     "output_type": "stream",
     "text": [
      "\n",
      "1024x1024 Results:\n",
      "Accuracy: 58.00%\n",
      "Avg prediction | Perc: 0.414\n",
      "Avg prediction | Non-Perc: 0.414\n"
     ]
    },
    {
     "name": "stderr",
     "output_type": "stream",
     "text": [
      "Testing 256x256: 100%|███████████████████████████████████████████████████████████████████████████| 200/200 [00:00<00:00, 249.24it/s]\n"
     ]
    },
    {
     "name": "stdout",
     "output_type": "stream",
     "text": [
      "\n",
      "256x256 Results:\n",
      "Accuracy: 30.50%\n",
      "Avg prediction | Perc: 0.414\n",
      "Avg prediction | Non-Perc: 0.414\n",
      "\n",
      "Running 4^4 - Run 7/10\n"
     ]
    },
    {
     "name": "stderr",
     "output_type": "stream",
     "text": [
      "Generating data: 100%|███████████████████████████████████████████████████████████████████████| 10000/10000 [00:27<00:00, 364.77it/s]\n",
      "Training: 100%|█████████████████████████████████████████████████████████████████████████████████| 1000/1000 [00:20<00:00, 48.98it/s]\n",
      "Training: 100%|█████████████████████████████████████████████████████████████████████████████████| 1000/1000 [00:18<00:00, 55.51it/s]\n",
      "Training: 100%|█████████████████████████████████████████████████████████████████████████████████| 1000/1000 [00:20<00:00, 48.81it/s]\n",
      "Training: 100%|█████████████████████████████████████████████████████████████████████████████████| 1000/1000 [00:20<00:00, 48.14it/s]\n",
      "Training: 100%|█████████████████████████████████████████████████████████████████████████████████| 1000/1000 [00:18<00:00, 53.47it/s]\n",
      "Testing 64x64: 100%|█████████████████████████████████████████████████████████████████████████████| 100/100 [00:00<00:00, 445.87it/s]\n"
     ]
    },
    {
     "name": "stdout",
     "output_type": "stream",
     "text": [
      "\n",
      "64x64 Results:\n",
      "Accuracy: 58.00%\n",
      "Avg prediction | Perc: 0.425\n",
      "Avg prediction | Non-Perc: 0.426\n"
     ]
    },
    {
     "name": "stderr",
     "output_type": "stream",
     "text": [
      "Testing 256x256: 100%|███████████████████████████████████████████████████████████████████████████| 100/100 [00:00<00:00, 209.94it/s]\n"
     ]
    },
    {
     "name": "stdout",
     "output_type": "stream",
     "text": [
      "\n",
      "256x256 Results:\n",
      "Accuracy: 59.00%\n",
      "Avg prediction | Perc: 0.424\n",
      "Avg prediction | Non-Perc: 0.424\n"
     ]
    },
    {
     "name": "stderr",
     "output_type": "stream",
     "text": [
      "Testing 1024x1024: 100%|██████████████████████████████████████████████████████████████████████████| 100/100 [00:04<00:00, 20.37it/s]\n"
     ]
    },
    {
     "name": "stdout",
     "output_type": "stream",
     "text": [
      "\n",
      "1024x1024 Results:\n",
      "Accuracy: 60.00%\n",
      "Avg prediction | Perc: 0.424\n",
      "Avg prediction | Non-Perc: 0.424\n"
     ]
    },
    {
     "name": "stderr",
     "output_type": "stream",
     "text": [
      "Testing 256x256: 100%|███████████████████████████████████████████████████████████████████████████| 200/200 [00:00<00:00, 243.37it/s]\n"
     ]
    },
    {
     "name": "stdout",
     "output_type": "stream",
     "text": [
      "\n",
      "256x256 Results:\n",
      "Accuracy: 31.00%\n",
      "Avg prediction | Perc: 0.424\n",
      "Avg prediction | Non-Perc: 0.424\n",
      "\n",
      "Running 4^4 - Run 8/10\n"
     ]
    },
    {
     "name": "stderr",
     "output_type": "stream",
     "text": [
      "Generating data: 100%|███████████████████████████████████████████████████████████████████████| 10000/10000 [00:23<00:00, 421.12it/s]\n",
      "Training: 100%|█████████████████████████████████████████████████████████████████████████████████| 1000/1000 [00:17<00:00, 57.31it/s]\n",
      "Training: 100%|█████████████████████████████████████████████████████████████████████████████████| 1000/1000 [00:15<00:00, 63.54it/s]\n",
      "Training: 100%|█████████████████████████████████████████████████████████████████████████████████| 1000/1000 [00:10<00:00, 95.12it/s]\n",
      "Training: 100%|█████████████████████████████████████████████████████████████████████████████████| 1000/1000 [00:15<00:00, 64.93it/s]\n",
      "Training: 100%|█████████████████████████████████████████████████████████████████████████████████| 1000/1000 [00:16<00:00, 61.84it/s]\n",
      "Testing 64x64: 100%|█████████████████████████████████████████████████████████████████████████████| 100/100 [00:00<00:00, 683.90it/s]\n"
     ]
    },
    {
     "name": "stdout",
     "output_type": "stream",
     "text": [
      "\n",
      "64x64 Results:\n",
      "Accuracy: 55.00%\n",
      "Avg prediction | Perc: 0.399\n",
      "Avg prediction | Non-Perc: 0.398\n"
     ]
    },
    {
     "name": "stderr",
     "output_type": "stream",
     "text": [
      "Testing 256x256: 100%|███████████████████████████████████████████████████████████████████████████| 100/100 [00:00<00:00, 235.07it/s]\n"
     ]
    },
    {
     "name": "stdout",
     "output_type": "stream",
     "text": [
      "\n",
      "256x256 Results:\n",
      "Accuracy: 61.00%\n",
      "Avg prediction | Perc: 0.398\n",
      "Avg prediction | Non-Perc: 0.398\n"
     ]
    },
    {
     "name": "stderr",
     "output_type": "stream",
     "text": [
      "Testing 1024x1024: 100%|██████████████████████████████████████████████████████████████████████████| 100/100 [00:04<00:00, 20.02it/s]\n"
     ]
    },
    {
     "name": "stdout",
     "output_type": "stream",
     "text": [
      "\n",
      "1024x1024 Results:\n",
      "Accuracy: 60.00%\n",
      "Avg prediction | Perc: 0.398\n",
      "Avg prediction | Non-Perc: 0.398\n"
     ]
    },
    {
     "name": "stderr",
     "output_type": "stream",
     "text": [
      "Testing 256x256: 100%|███████████████████████████████████████████████████████████████████████████| 200/200 [00:00<00:00, 240.53it/s]\n"
     ]
    },
    {
     "name": "stdout",
     "output_type": "stream",
     "text": [
      "\n",
      "256x256 Results:\n",
      "Accuracy: 32.50%\n",
      "Avg prediction | Perc: 0.398\n",
      "Avg prediction | Non-Perc: 0.398\n",
      "\n",
      "Running 4^4 - Run 9/10\n"
     ]
    },
    {
     "name": "stderr",
     "output_type": "stream",
     "text": [
      "Generating data: 100%|███████████████████████████████████████████████████████████████████████| 10000/10000 [00:22<00:00, 446.44it/s]\n",
      "Training: 100%|█████████████████████████████████████████████████████████████████████████████████| 1000/1000 [00:17<00:00, 58.58it/s]\n",
      "Training: 100%|█████████████████████████████████████████████████████████████████████████████████| 1000/1000 [00:17<00:00, 56.40it/s]\n",
      "Training: 100%|█████████████████████████████████████████████████████████████████████████████████| 1000/1000 [00:15<00:00, 63.33it/s]\n",
      "Training: 100%|█████████████████████████████████████████████████████████████████████████████████| 1000/1000 [00:15<00:00, 63.48it/s]\n",
      "Training: 100%|█████████████████████████████████████████████████████████████████████████████████| 1000/1000 [00:17<00:00, 57.68it/s]\n",
      "Testing 64x64: 100%|█████████████████████████████████████████████████████████████████████████████| 100/100 [00:00<00:00, 717.69it/s]\n"
     ]
    },
    {
     "name": "stdout",
     "output_type": "stream",
     "text": [
      "\n",
      "64x64 Results:\n",
      "Accuracy: 69.00%\n",
      "Avg prediction | Perc: 0.421\n",
      "Avg prediction | Non-Perc: 0.422\n"
     ]
    },
    {
     "name": "stderr",
     "output_type": "stream",
     "text": [
      "Testing 256x256: 100%|███████████████████████████████████████████████████████████████████████████| 100/100 [00:00<00:00, 234.43it/s]\n"
     ]
    },
    {
     "name": "stdout",
     "output_type": "stream",
     "text": [
      "\n",
      "256x256 Results:\n",
      "Accuracy: 66.00%\n",
      "Avg prediction | Perc: 0.421\n",
      "Avg prediction | Non-Perc: 0.421\n"
     ]
    },
    {
     "name": "stderr",
     "output_type": "stream",
     "text": [
      "Testing 1024x1024: 100%|██████████████████████████████████████████████████████████████████████████| 100/100 [00:04<00:00, 20.66it/s]\n"
     ]
    },
    {
     "name": "stdout",
     "output_type": "stream",
     "text": [
      "\n",
      "1024x1024 Results:\n",
      "Accuracy: 52.00%\n",
      "Avg prediction | Perc: 0.421\n",
      "Avg prediction | Non-Perc: 0.421\n"
     ]
    },
    {
     "name": "stderr",
     "output_type": "stream",
     "text": [
      "Testing 256x256: 100%|███████████████████████████████████████████████████████████████████████████| 200/200 [00:00<00:00, 255.73it/s]\n"
     ]
    },
    {
     "name": "stdout",
     "output_type": "stream",
     "text": [
      "\n",
      "256x256 Results:\n",
      "Accuracy: 36.00%\n",
      "Avg prediction | Perc: 0.421\n",
      "Avg prediction | Non-Perc: 0.421\n",
      "\n",
      "Running 4^4 - Run 10/10\n"
     ]
    },
    {
     "name": "stderr",
     "output_type": "stream",
     "text": [
      "Generating data: 100%|███████████████████████████████████████████████████████████████████████| 10000/10000 [00:25<00:00, 389.55it/s]\n",
      "Training: 100%|█████████████████████████████████████████████████████████████████████████████████| 1000/1000 [00:23<00:00, 41.70it/s]\n",
      "Training: 100%|█████████████████████████████████████████████████████████████████████████████████| 1000/1000 [00:20<00:00, 47.74it/s]\n",
      "Training: 100%|█████████████████████████████████████████████████████████████████████████████████| 1000/1000 [00:17<00:00, 56.34it/s]\n",
      "Training: 100%|█████████████████████████████████████████████████████████████████████████████████| 1000/1000 [00:20<00:00, 47.96it/s]\n",
      "Training: 100%|█████████████████████████████████████████████████████████████████████████████████| 1000/1000 [00:17<00:00, 56.65it/s]\n",
      "Testing 64x64: 100%|█████████████████████████████████████████████████████████████████████████████| 100/100 [00:00<00:00, 687.07it/s]\n"
     ]
    },
    {
     "name": "stdout",
     "output_type": "stream",
     "text": [
      "\n",
      "64x64 Results:\n",
      "Accuracy: 56.00%\n",
      "Avg prediction | Perc: 0.394\n",
      "Avg prediction | Non-Perc: 0.398\n"
     ]
    },
    {
     "name": "stderr",
     "output_type": "stream",
     "text": [
      "Testing 256x256: 100%|███████████████████████████████████████████████████████████████████████████| 100/100 [00:00<00:00, 226.62it/s]\n"
     ]
    },
    {
     "name": "stdout",
     "output_type": "stream",
     "text": [
      "\n",
      "256x256 Results:\n",
      "Accuracy: 62.00%\n",
      "Avg prediction | Perc: 0.396\n",
      "Avg prediction | Non-Perc: 0.395\n"
     ]
    },
    {
     "name": "stderr",
     "output_type": "stream",
     "text": [
      "Testing 1024x1024: 100%|██████████████████████████████████████████████████████████████████████████| 100/100 [00:04<00:00, 20.54it/s]\n"
     ]
    },
    {
     "name": "stdout",
     "output_type": "stream",
     "text": [
      "\n",
      "1024x1024 Results:\n",
      "Accuracy: 68.00%\n",
      "Avg prediction | Perc: 0.395\n",
      "Avg prediction | Non-Perc: 0.396\n"
     ]
    },
    {
     "name": "stderr",
     "output_type": "stream",
     "text": [
      "Testing 256x256: 100%|███████████████████████████████████████████████████████████████████████████| 200/200 [00:00<00:00, 246.15it/s]\n"
     ]
    },
    {
     "name": "stdout",
     "output_type": "stream",
     "text": [
      "\n",
      "256x256 Results:\n",
      "Accuracy: 31.50%\n",
      "Avg prediction | Perc: 0.396\n",
      "Avg prediction | Non-Perc: 0.396\n"
     ]
    }
   ],
   "source": [
    "# Main experiment loop\n",
    "all_results = {}\n",
    "all_plots = {}\n",
    "combinations = [(3, 2), (3, 3), (3, 4), (4, 2), (4, 3), (4, 4)]\n",
    "n_runs = 10\n",
    "\n",
    "for DIM, POWER in combinations:\n",
    "    key = f\"{DIM}^{POWER}\"\n",
    "    all_results[key] = []\n",
    "    all_plots[key] = []\n",
    "    \n",
    "    for run in range(n_runs):\n",
    "        print(f\"\\nRunning {key} - Run {run+1}/{n_runs}\")\n",
    "        summaries, plot_data = run_experiment(DIM, POWER, run)\n",
    "        all_results[key].append(summaries)\n",
    "        all_plots[key].append(plot_data)\n",
    "    "
   ]
  },
  {
   "cell_type": "code",
   "execution_count": 4,
   "id": "fe09ad63-807a-41f3-8599-25159af1a324",
   "metadata": {},
   "outputs": [],
   "source": [
    "# Generate consolidated PDF report\n",
    "with PdfPages(\"consolidated_results.pdf\") as pdf:\n",
    "    for DIM, POWER in combinations:\n",
    "        key = f\"{DIM}^{POWER}\"\n",
    "        \n",
    "        plt.figure(figsize=(10, 6))\n",
    "        fixed_points = []\n",
    "        \n",
    "        for run_idx, (ps, outputs) in enumerate(all_plots[key]):\n",
    "            plt.plot(ps, outputs, alpha=0.5, label=f\"Run {run_idx+1}\")\n",
    "            \n",
    "            # Find intersection with f(p) = p\n",
    "            diff = np.array(outputs) - np.array(ps)\n",
    "            sign_changes = np.where(np.diff(np.sign(diff)))[0]\n",
    "            \n",
    "            # For each sign change, find the approximate fixed point\n",
    "            run_fixed_points = []\n",
    "            for i in sign_changes:\n",
    "                if i+1 < len(ps):\n",
    "                    x0, x1 = ps[i], ps[i+1]\n",
    "                    y0, y1 = outputs[i], outputs[i+1]\n",
    "                    # Linear approximation of intersection\n",
    "                    t = (x0 - y0) / ((y1 - y0) - (x1 - x0))\n",
    "                    fixed_point = x0 + t * (x1 - x0)\n",
    "                    run_fixed_points.append(fixed_point)\n",
    "            \n",
    "            if run_fixed_points:\n",
    "                # Take the fixed point closest to the known critical point (~0.5927)\n",
    "                best_fp = min(run_fixed_points, key=lambda x: abs(x - 0.5927))\n",
    "                fixed_points.append(best_fp)\n",
    "                plt.scatter([best_fp], [best_fp], color='black', s=20)\n",
    "        \n",
    "        # Plot f(p) = p line\n",
    "        plt.plot([0, 1], [0, 1], color=\"black\", linestyle=\"--\", label=\"f(p) = p\")\n",
    "        \n",
    "        # Add mean fixed point if available\n",
    "        if fixed_points:\n",
    "            mean_fp = np.mean(fixed_points)\n",
    "            plt.plot(mean_fp, mean_fp, color='red', label=f\"Mean Fixed Point: {mean_fp:.4f}\")\n",
    "        \n",
    "        plt.title(f\"AFC Rule Projection - Configuration {key}\", fontsize=18)\n",
    "        plt.xlabel(\"Density (p)\", fontsize=14)\n",
    "        plt.ylabel(r\"$f_{\\theta}(p\\mathbf{1})$\", fontsize=14)\n",
    "        plt.legend(fontsize=12)\n",
    "        pdf.savefig()\n",
    "        plt.close()\n",
    "\n",
    "# Generate consolidated text report\n",
    "with open(\"consolidated_accuracies.txt\", \"w\", encoding=\"utf8\") as f:\n",
    "    for DIM, POWER in combinations:\n",
    "        key = f\"{DIM}^{POWER}\"\n",
    "        \n",
    "        f.write(f\"\\n{'='*40}\\nConfiguration: {key}\\n{'='*40}\\n\")\n",
    "        \n",
    "        # Get fixed points for this configuration\n",
    "        config_fixed_points = []\n",
    "        for run_data in all_plots[key]:\n",
    "            ps, outputs = run_data\n",
    "            diff = np.array(outputs) - np.array(ps)\n",
    "            sign_changes = np.where(np.diff(np.sign(diff)))[0]\n",
    "            \n",
    "            run_fixed_points = []\n",
    "            for i in sign_changes:\n",
    "                if i+1 < len(ps):\n",
    "                    x0, x1 = ps[i], ps[i+1]\n",
    "                    y0, y1 = outputs[i], outputs[i+1]\n",
    "                    t = (x0 - y0) / ((y1 - y0) - (x1 - x0))\n",
    "                    fixed_point = x0 + t * (x1 - x0)\n",
    "                    run_fixed_points.append(fixed_point)\n",
    "            \n",
    "            if run_fixed_points:\n",
    "                best_fp = min(run_fixed_points, key=lambda x: abs(x - 0.5927))\n",
    "                config_fixed_points.append(best_fp)\n",
    "        \n",
    "        if config_fixed_points:\n",
    "            mean_fp = np.mean(config_fixed_points)\n",
    "            std_fp = np.std(config_fixed_points)\n",
    "            f.write(\"Fixed Points (intersection with f(p) = p):\\n\")\n",
    "            f.write(f\"  Values: {[f'{fp:.6f}' for fp in config_fixed_points]}\\n\")\n",
    "            f.write(f\"  Mean: {mean_fp:.6f} ± {std_fp:.6f}\\n\\n\")\n",
    "        else:\n",
    "            f.write(\"No clear fixed points found (no intersection with f(p) = p)\\n\\n\")\n",
    "        \n",
    "        # Write accuracy information with full details for each test type\n",
    "        test_types = [\"smaller_0.1-0.9\", \"standard_0.1-0.9\", \"larger_0.1-0.9\", \"standard_0.58-0.61\"]\n",
    "        for test_type in test_types:\n",
    "            f.write(f\"{test_type.replace('_', ' ')}:\\n\")\n",
    "            \n",
    "            # Get all runs' results for this test type\n",
    "            all_runs_results = [run[test_type] for run in all_results[key]]\n",
    "            \n",
    "            # Write detailed accuracy for each run\n",
    "            for run_idx, (acc, mean_perc, mean_non_perc) in enumerate(all_runs_results):\n",
    "                f.write(f\"  Run {run_idx+1}:\\n\")\n",
    "                f.write(f\"    Accuracy: {acc:.4f}\\n\")\n",
    "                f.write(f\"    Avg prediction | Perc: {mean_perc:.4f}\\n\")\n",
    "                f.write(f\"    Avg prediction | Non-Perc: {mean_non_perc:.4f}\\n\")\n",
    "            \n",
    "            # Calculate and write summary statistics\n",
    "            accs = [x[0] for x in all_runs_results]\n",
    "            mean_percs = [x[1] for x in all_runs_results]\n",
    "            mean_non_percs = [x[2] for x in all_runs_results]\n",
    "            \n",
    "            f.write(\"\\n  Summary statistics:\\n\")\n",
    "            f.write(f\"    Accuracy: {np.mean(accs):.4f} ± {np.std(accs):.4f}\\n\")\n",
    "            f.write(f\"    Avg prediction | Perc: {np.mean(mean_percs):.4f} ± {np.std(mean_percs):.4f}\\n\")\n",
    "            f.write(f\"    Avg prediction | Non-Perc: {np.mean(mean_non_percs):.4f} ± {np.std(mean_non_percs):.4f}\\n\\n\")"
   ]
  }
 ],
 "metadata": {
  "kernelspec": {
   "display_name": "Python 3 (ipykernel)",
   "language": "python",
   "name": "python3"
  },
  "language_info": {
   "codemirror_mode": {
    "name": "ipython",
    "version": 3
   },
   "file_extension": ".py",
   "mimetype": "text/x-python",
   "name": "python",
   "nbconvert_exporter": "python",
   "pygments_lexer": "ipython3",
   "version": "3.9.4"
  }
 },
 "nbformat": 4,
 "nbformat_minor": 5
}

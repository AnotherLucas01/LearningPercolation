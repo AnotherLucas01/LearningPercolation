{
 "cells": [
  {
   "cell_type": "code",
   "execution_count": 1,
   "id": "18c4b579-b7d6-457c-bdb5-7db7c9730bcd",
   "metadata": {},
   "outputs": [],
   "source": [
    "# Core Imports and Functions\n",
    "import numpy as np\n",
    "import torch\n",
    "import torch.nn as nn\n",
    "import torch.nn.functional as F\n",
    "import torch.optim as optim\n",
    "from scipy.ndimage import label\n",
    "from tqdm import tqdm\n",
    "import matplotlib.pyplot as plt\n",
    "from matplotlib.backends.backend_pdf import PdfPages\n",
    "import itertools\n",
    "\n",
    "# Configuration Parameters\n",
    "DIM = 3        # Base dimension for patches (3×3)\n",
    "POWER = 4      # Lattice size = DIM^POWER\n",
    "MAX_STEPS = POWER + 5  # Maximum coarse-graining steps\n",
    "\n",
    "# ADDED: First coarse-graining function\n",
    "def first_coarse_graining(binary_lattice, dim):\n",
    "    \"\"\"Average non-overlapping dim×dim blocks.\"\"\"\n",
    "    t = torch.tensor(binary_lattice, dtype=torch.float32).unsqueeze(0).unsqueeze(0)\n",
    "    patches = F.unfold(t, kernel_size=dim, stride=dim)             # [1, dim*dim, num_patches]\n",
    "    patches = patches.permute(0, 2, 1)                            # [1, num_patches, dim*dim]\n",
    "    coarse_vals = patches.mean(dim=2)                             # [1, num_patches]\n",
    "    H, W = binary_lattice.shape\n",
    "    new_h, new_w = H // dim, W // dim\n",
    "    return coarse_vals.view(1, 1, new_h, new_w)                   # [1, 1, new_h, new_w]\n",
    "\n",
    "def generate_percolation_lattice(size, p):\n",
    "    return np.random.choice([0, 1], (size, size), p=[1 - p, p])\n",
    "\n",
    "def check_percolation(lattice):\n",
    "    labeled, _ = label(lattice)\n",
    "    \n",
    "    # Vertical percolation (top-bottom)\n",
    "    top = set(labeled[0, :]) - {0}\n",
    "    bottom = set(labeled[-1, :]) - {0}\n",
    "    vertical = bool(top & bottom)\n",
    "    \n",
    "    # Horizontal percolation (left-right)\n",
    "    left = set(labeled[:, 0]) - {0}\n",
    "    right = set(labeled[:, -1]) - {0}\n",
    "    horizontal = bool(left & right)\n",
    "    \n",
    "    return float(vertical or horizontal)\n",
    "\n",
    "class PercolationModel(nn.Module):\n",
    "    def __init__(self, dim):\n",
    "        super().__init__()\n",
    "        self.dim = dim\n",
    "        self.rule = nn.Sequential(\n",
    "            nn.Linear(dim * dim, 64),\n",
    "            nn.ReLU(),\n",
    "            nn.Linear(64, 1),\n",
    "            nn.Sigmoid()\n",
    "        )\n",
    "    \n",
    "    def forward(self, x, max_steps=MAX_STEPS):\n",
    "        b, c, H, W = x.shape\n",
    "        \n",
    "        for _ in range(max_steps):\n",
    "            if H < self.dim or W < self.dim:\n",
    "                break\n",
    "            \n",
    "            # Extract dim×dim patches\n",
    "            patches = F.unfold(x, kernel_size=self.dim, stride=self.dim)\n",
    "            patches = patches.permute(0, 2, 1).contiguous()  # (B, #patches, dim*dim)\n",
    "            patches = patches.view(-1, self.dim * self.dim)   # (B * #patches, dim*dim)\n",
    "            \n",
    "            out = self.rule(patches)  # (B * #patches, 1)\n",
    "            \n",
    "            new_h, new_w = H // self.dim, W // self.dim\n",
    "            x = out.view(b, 1, new_h, new_w)  # (B, 1, new_h, new_w)\n",
    "            _, c, H, W = x.shape\n",
    "\n",
    "        return x.squeeze()  # (B,)\n",
    "\n",
    "def prepare_dataset(num_samples, lattice_size):\n",
    "    data = []\n",
    "    for _ in tqdm(range(num_samples), desc=\"Generating data\"):\n",
    "        p = np.random.uniform(0, 1)\n",
    "        lattice = generate_percolation_lattice(lattice_size, p)\n",
    "        lbl = check_percolation(lattice)\n",
    "        data.append((lattice, lbl))\n",
    "    return data\n",
    "\n",
    "def train_epoch(model, device, train_data, batch_size, optimizer, criterion, dim):\n",
    "    model.train()\n",
    "    running_loss = 0.0\n",
    "    for i in tqdm(range(0, len(train_data), batch_size), desc=\"Training\"):\n",
    "        batch = train_data[i : i + batch_size]\n",
    "        \n",
    "        # MODIFIED: Apply first coarse-graining to each lattice\n",
    "        lattices = [first_coarse_graining(x, dim) for x, _ in batch]  # Each is [1,1,H',W']\n",
    "        \n",
    "        # Stack into a (B, 1, H, W) tensor\n",
    "        inputs = torch.cat(lattices, dim=0).to(device)  # [B, 1, H', W']\n",
    "        targets = torch.tensor([y for _, y in batch], dtype=torch.float32).to(device)\n",
    "        \n",
    "        optimizer.zero_grad()\n",
    "        outputs = model(inputs, max_steps=MAX_STEPS)  # (B,) after .squeeze()\n",
    "        loss = criterion(outputs, targets)\n",
    "        loss.backward()\n",
    "        optimizer.step()\n",
    "        \n",
    "        running_loss += loss.item() * len(batch)\n",
    "    \n",
    "    return running_loss / len(train_data)\n",
    "\n",
    "def test_systems(model, dim, power, device=\"cpu\", num_tests=10,\n",
    "                 system_size=\"standard\", p_range=(0, 1), verbose=True):\n",
    "    \"\"\"\n",
    "    Tests model on raw lattices without initial coarse-graining.\n",
    "    Args:\n",
    "        system_size: 'smaller' (dim^(power-1)), 'standard' (dim^power), or 'larger' (dim^(power+1))\n",
    "    \"\"\"\n",
    "    model.eval()\n",
    "    \n",
    "    size_power = {\n",
    "        \"smaller\": power - 1,\n",
    "        \"standard\": power,\n",
    "        \"larger\": power + 1\n",
    "    }[system_size]\n",
    "    \n",
    "    lattice_size = dim ** size_power\n",
    "    results = []\n",
    "    \n",
    "    for _ in tqdm(range(num_tests), desc=f\"Testing {lattice_size}x{lattice_size}\"):\n",
    "        p = np.random.uniform(*p_range)\n",
    "        lattice = generate_percolation_lattice(lattice_size, p)\n",
    "        true_label = check_percolation(lattice)\n",
    "        \n",
    "        # MODIFIED: Apply first coarse-graining\n",
    "        input_tensor = first_coarse_graining(lattice, dim).to(device)  # [1,1,H',W']\n",
    "        \n",
    "        with torch.no_grad():\n",
    "            pred = model(input_tensor).item()\n",
    "        \n",
    "        results.append((lattice, true_label, pred))\n",
    "    \n",
    "    threshold = 0.5\n",
    "    correct = sum(1 for _, lbl, pred in results if (pred > threshold) == lbl)\n",
    "    acc = correct / num_tests\n",
    "    \n",
    "    if verbose:\n",
    "        print(f\"\\n{lattice_size}x{lattice_size} Results:\")\n",
    "        print(f\"Accuracy: {acc:.2%}\")\n",
    "        print(f\"Avg prediction | Perc: {np.mean([p for _, l, p in results if l == 1]):.3f}\")\n",
    "        print(f\"Avg prediction | Non-Perc: {np.mean([p for _, l, p in results if l == 0]):.3f}\")\n",
    "    \n",
    "    return results"
   ]
  },
  {
   "cell_type": "code",
   "execution_count": 2,
   "id": "fa4cc7a0-b193-495a-aa5f-ac81c6f04615",
   "metadata": {},
   "outputs": [],
   "source": [
    "# Initialization\n",
    "DEVICE = torch.device(\"cuda\" if torch.cuda.is_available() else \"cpu\")\n",
    "SIZE = DIM ** POWER\n",
    "TRAIN_SAMPLES = 10000\n",
    "BATCH_SIZE = 10\n",
    "EPOCHS = 5\n",
    "\n",
    "def run_experiment(DIM, POWER, run_num):\n",
    "    SIZE = DIM ** POWER\n",
    "    MAX_STEPS = POWER + 5\n",
    "    \n",
    "    # Generate training dataset\n",
    "    train_data = prepare_dataset(TRAIN_SAMPLES, SIZE)\n",
    "    \n",
    "    # Initialize model, optimizer, loss\n",
    "    model = PercolationModel(dim=DIM).to(DEVICE)\n",
    "    optimizer = optim.Adam(model.parameters(), lr=0.001)\n",
    "    criterion = nn.BCELoss()\n",
    "\n",
    "    # Training loop\n",
    "    for epoch in range(EPOCHS):\n",
    "        loss = train_epoch(model, DEVICE, train_data, BATCH_SIZE, optimizer, criterion, DIM)\n",
    "\n",
    "    # Testing configurations\n",
    "    test_configs = [\n",
    "        {\"system_size\": \"smaller\", \"num_tests\": 100, \"p_range\": (0.1, 0.9)},\n",
    "        {\"system_size\": \"standard\", \"num_tests\": 100, \"p_range\": (0.1, 0.9)},\n",
    "        {\"system_size\": \"larger\", \"num_tests\": 100, \"p_range\": (0.1, 0.9)},\n",
    "        {\"system_size\": \"standard\", \"num_tests\": 200, \"p_range\": (0.58, 0.61)},\n",
    "    ]\n",
    "    \n",
    "    test_results = {}\n",
    "    for config in test_configs:\n",
    "        key = f\"{config['system_size']}_{config['p_range'][0]}-{config['p_range'][1]}\"\n",
    "        test_results[key] = test_systems(\n",
    "            model=model,\n",
    "            dim=DIM,\n",
    "            power=POWER,\n",
    "            device=DEVICE,\n",
    "            **config\n",
    "        )\n",
    "\n",
    "    # Summarize test results\n",
    "    summaries = {}\n",
    "    for key, results in test_results.items():\n",
    "        acc = sum((pred > 0.5) == lbl for _, lbl, pred in results) / len(results)\n",
    "        mean_perc = np.nanmean([pred for _, lbl, pred in results if lbl == 1])\n",
    "        mean_non_perc = np.nanmean([pred for _, lbl, pred in results if lbl == 0])\n",
    "        summaries[key] = (acc, mean_perc, mean_non_perc)\n",
    "\n",
    "    # Generate rule-projection data by feeding 3×3 patch of constant p\n",
    "    ps_coarse = np.linspace(0.0, 1.0, 101)\n",
    "    ps_fine = np.linspace(0.5, 0.7, 201)\n",
    "    ps = np.unique(np.concatenate((ps_coarse, ps_fine)))\n",
    "    ps.sort()\n",
    "\n",
    "    mean_outputs = []\n",
    "    with torch.no_grad():\n",
    "        for p in ps:\n",
    "            # Create a single 3×3 patch with all entries = p\n",
    "            patch = np.full((DIM * DIM,), p, dtype=np.float32)        # shape: (dim*dim,)\n",
    "            patch_tensor = torch.from_numpy(patch).unsqueeze(0).to(DEVICE)  # (1, dim*dim)\n",
    "            out = model.rule(patch_tensor).cpu().numpy().item()        # scalar\n",
    "            mean_outputs.append(out)\n",
    "\n",
    "    return summaries, (ps, mean_outputs)"
   ]
  },
  {
   "cell_type": "code",
   "execution_count": 3,
   "id": "ee36c515-844f-4396-97ae-dcb6e9b1df2c",
   "metadata": {
    "scrolled": true
   },
   "outputs": [
    {
     "name": "stdout",
     "output_type": "stream",
     "text": [
      "\n",
      "Running 3^2 - Run 1/10\n"
     ]
    },
    {
     "name": "stderr",
     "output_type": "stream",
     "text": [
      "Generating data: 100%|██████████████████████████████████████████████████████████████████████| 10000/10000 [00:01<00:00, 6307.97it/s]\n",
      "Training: 100%|████████████████████████████████████████████████████████████████████████████████| 1000/1000 [00:02<00:00, 448.63it/s]\n",
      "Training: 100%|████████████████████████████████████████████████████████████████████████████████| 1000/1000 [00:02<00:00, 474.38it/s]\n",
      "Training: 100%|████████████████████████████████████████████████████████████████████████████████| 1000/1000 [00:01<00:00, 546.97it/s]\n",
      "Training: 100%|████████████████████████████████████████████████████████████████████████████████| 1000/1000 [00:01<00:00, 563.03it/s]\n",
      "Training: 100%|████████████████████████████████████████████████████████████████████████████████| 1000/1000 [00:01<00:00, 600.05it/s]\n",
      "Testing 3x3: 100%|██████████████████████████████████████████████████████████████████████████████| 100/100 [00:00<00:00, 3110.39it/s]\n"
     ]
    },
    {
     "name": "stdout",
     "output_type": "stream",
     "text": [
      "\n",
      "3x3 Results:\n",
      "Accuracy: 92.00%\n",
      "Avg prediction | Perc: 0.714\n",
      "Avg prediction | Non-Perc: 0.268\n"
     ]
    },
    {
     "name": "stderr",
     "output_type": "stream",
     "text": [
      "Testing 9x9: 100%|██████████████████████████████████████████████████████████████████████████████| 100/100 [00:00<00:00, 2464.61it/s]\n"
     ]
    },
    {
     "name": "stdout",
     "output_type": "stream",
     "text": [
      "\n",
      "9x9 Results:\n",
      "Accuracy: 93.00%\n",
      "Avg prediction | Perc: 0.893\n",
      "Avg prediction | Non-Perc: 0.073\n"
     ]
    },
    {
     "name": "stderr",
     "output_type": "stream",
     "text": [
      "Testing 27x27: 100%|████████████████████████████████████████████████████████████████████████████| 100/100 [00:00<00:00, 1780.31it/s]\n"
     ]
    },
    {
     "name": "stdout",
     "output_type": "stream",
     "text": [
      "\n",
      "27x27 Results:\n",
      "Accuracy: 96.00%\n",
      "Avg prediction | Perc: 0.972\n",
      "Avg prediction | Non-Perc: 0.034\n"
     ]
    },
    {
     "name": "stderr",
     "output_type": "stream",
     "text": [
      "Testing 9x9: 100%|██████████████████████████████████████████████████████████████████████████████| 200/200 [00:00<00:00, 2490.66it/s]\n"
     ]
    },
    {
     "name": "stdout",
     "output_type": "stream",
     "text": [
      "\n",
      "9x9 Results:\n",
      "Accuracy: 77.00%\n",
      "Avg prediction | Perc: 0.754\n",
      "Avg prediction | Non-Perc: 0.511\n",
      "\n",
      "Running 3^2 - Run 2/10\n"
     ]
    },
    {
     "name": "stderr",
     "output_type": "stream",
     "text": [
      "Generating data: 100%|██████████████████████████████████████████████████████████████████████| 10000/10000 [00:01<00:00, 9334.82it/s]\n",
      "Training: 100%|████████████████████████████████████████████████████████████████████████████████| 1000/1000 [00:01<00:00, 556.31it/s]\n",
      "Training: 100%|████████████████████████████████████████████████████████████████████████████████| 1000/1000 [00:01<00:00, 570.39it/s]\n",
      "Training: 100%|████████████████████████████████████████████████████████████████████████████████| 1000/1000 [00:01<00:00, 560.00it/s]\n",
      "Training: 100%|████████████████████████████████████████████████████████████████████████████████| 1000/1000 [00:01<00:00, 573.89it/s]\n",
      "Training: 100%|████████████████████████████████████████████████████████████████████████████████| 1000/1000 [00:01<00:00, 565.07it/s]\n",
      "Testing 3x3: 100%|██████████████████████████████████████████████████████████████████████████████| 100/100 [00:00<00:00, 3510.70it/s]\n"
     ]
    },
    {
     "name": "stdout",
     "output_type": "stream",
     "text": [
      "\n",
      "3x3 Results:\n",
      "Accuracy: 98.00%\n",
      "Avg prediction | Perc: 0.748\n",
      "Avg prediction | Non-Perc: 0.248\n"
     ]
    },
    {
     "name": "stderr",
     "output_type": "stream",
     "text": [
      "Testing 9x9: 100%|██████████████████████████████████████████████████████████████████████████████| 100/100 [00:00<00:00, 2481.34it/s]\n"
     ]
    },
    {
     "name": "stdout",
     "output_type": "stream",
     "text": [
      "\n",
      "9x9 Results:\n",
      "Accuracy: 95.00%\n",
      "Avg prediction | Perc: 0.884\n",
      "Avg prediction | Non-Perc: 0.068\n"
     ]
    },
    {
     "name": "stderr",
     "output_type": "stream",
     "text": [
      "Testing 27x27: 100%|████████████████████████████████████████████████████████████████████████████| 100/100 [00:00<00:00, 1577.49it/s]\n"
     ]
    },
    {
     "name": "stdout",
     "output_type": "stream",
     "text": [
      "\n",
      "27x27 Results:\n",
      "Accuracy: 95.00%\n",
      "Avg prediction | Perc: 0.999\n",
      "Avg prediction | Non-Perc: 0.080\n"
     ]
    },
    {
     "name": "stderr",
     "output_type": "stream",
     "text": [
      "Testing 9x9: 100%|██████████████████████████████████████████████████████████████████████████████| 200/200 [00:00<00:00, 2550.00it/s]\n"
     ]
    },
    {
     "name": "stdout",
     "output_type": "stream",
     "text": [
      "\n",
      "9x9 Results:\n",
      "Accuracy: 79.00%\n",
      "Avg prediction | Perc: 0.778\n",
      "Avg prediction | Non-Perc: 0.491\n",
      "\n",
      "Running 3^2 - Run 3/10\n"
     ]
    },
    {
     "name": "stderr",
     "output_type": "stream",
     "text": [
      "Generating data: 100%|██████████████████████████████████████████████████████████████████████| 10000/10000 [00:01<00:00, 9116.33it/s]\n",
      "Training: 100%|████████████████████████████████████████████████████████████████████████████████| 1000/1000 [00:01<00:00, 600.79it/s]\n",
      "Training: 100%|████████████████████████████████████████████████████████████████████████████████| 1000/1000 [00:01<00:00, 575.45it/s]\n",
      "Training: 100%|████████████████████████████████████████████████████████████████████████████████| 1000/1000 [00:01<00:00, 597.65it/s]\n",
      "Training: 100%|████████████████████████████████████████████████████████████████████████████████| 1000/1000 [00:01<00:00, 582.51it/s]\n",
      "Training: 100%|████████████████████████████████████████████████████████████████████████████████| 1000/1000 [00:01<00:00, 543.00it/s]\n",
      "Testing 3x3: 100%|██████████████████████████████████████████████████████████████████████████████| 100/100 [00:00<00:00, 4166.93it/s]\n"
     ]
    },
    {
     "name": "stdout",
     "output_type": "stream",
     "text": [
      "\n",
      "3x3 Results:\n",
      "Accuracy: 86.00%\n",
      "Avg prediction | Perc: 0.691\n",
      "Avg prediction | Non-Perc: 0.296\n"
     ]
    },
    {
     "name": "stderr",
     "output_type": "stream",
     "text": [
      "Testing 9x9: 100%|██████████████████████████████████████████████████████████████████████████████| 100/100 [00:00<00:00, 2083.52it/s]\n"
     ]
    },
    {
     "name": "stdout",
     "output_type": "stream",
     "text": [
      "\n",
      "9x9 Results:\n",
      "Accuracy: 92.00%\n",
      "Avg prediction | Perc: 0.885\n",
      "Avg prediction | Non-Perc: 0.115\n"
     ]
    },
    {
     "name": "stderr",
     "output_type": "stream",
     "text": [
      "Testing 27x27: 100%|████████████████████████████████████████████████████████████████████████████| 100/100 [00:00<00:00, 1388.79it/s]\n"
     ]
    },
    {
     "name": "stdout",
     "output_type": "stream",
     "text": [
      "\n",
      "27x27 Results:\n",
      "Accuracy: 95.00%\n",
      "Avg prediction | Perc: 0.980\n",
      "Avg prediction | Non-Perc: 0.094\n"
     ]
    },
    {
     "name": "stderr",
     "output_type": "stream",
     "text": [
      "Testing 9x9: 100%|██████████████████████████████████████████████████████████████████████████████| 200/200 [00:00<00:00, 2270.96it/s]\n"
     ]
    },
    {
     "name": "stdout",
     "output_type": "stream",
     "text": [
      "\n",
      "9x9 Results:\n",
      "Accuracy: 75.50%\n",
      "Avg prediction | Perc: 0.834\n",
      "Avg prediction | Non-Perc: 0.647\n",
      "\n",
      "Running 3^2 - Run 4/10\n"
     ]
    },
    {
     "name": "stderr",
     "output_type": "stream",
     "text": [
      "Generating data: 100%|█████████████████████████████████████████████████████████████████████| 10000/10000 [00:00<00:00, 10253.01it/s]\n",
      "Training: 100%|████████████████████████████████████████████████████████████████████████████████| 1000/1000 [00:01<00:00, 585.79it/s]\n",
      "Training: 100%|████████████████████████████████████████████████████████████████████████████████| 1000/1000 [00:01<00:00, 533.80it/s]\n",
      "Training: 100%|████████████████████████████████████████████████████████████████████████████████| 1000/1000 [00:01<00:00, 567.21it/s]\n",
      "Training: 100%|████████████████████████████████████████████████████████████████████████████████| 1000/1000 [00:01<00:00, 591.65it/s]\n",
      "Training: 100%|████████████████████████████████████████████████████████████████████████████████| 1000/1000 [00:01<00:00, 616.21it/s]\n",
      "Testing 3x3: 100%|██████████████████████████████████████████████████████████████████████████████| 100/100 [00:00<00:00, 3582.30it/s]\n"
     ]
    },
    {
     "name": "stdout",
     "output_type": "stream",
     "text": [
      "\n",
      "3x3 Results:\n",
      "Accuracy: 92.00%\n",
      "Avg prediction | Perc: 0.714\n",
      "Avg prediction | Non-Perc: 0.285\n"
     ]
    },
    {
     "name": "stderr",
     "output_type": "stream",
     "text": [
      "Testing 9x9: 100%|██████████████████████████████████████████████████████████████████████████████| 100/100 [00:00<00:00, 2384.02it/s]\n"
     ]
    },
    {
     "name": "stdout",
     "output_type": "stream",
     "text": [
      "\n",
      "9x9 Results:\n",
      "Accuracy: 95.00%\n",
      "Avg prediction | Perc: 0.883\n",
      "Avg prediction | Non-Perc: 0.052\n"
     ]
    },
    {
     "name": "stderr",
     "output_type": "stream",
     "text": [
      "Testing 27x27: 100%|████████████████████████████████████████████████████████████████████████████| 100/100 [00:00<00:00, 2161.57it/s]\n"
     ]
    },
    {
     "name": "stdout",
     "output_type": "stream",
     "text": [
      "\n",
      "27x27 Results:\n",
      "Accuracy: 97.00%\n",
      "Avg prediction | Perc: 0.999\n",
      "Avg prediction | Non-Perc: 0.052\n"
     ]
    },
    {
     "name": "stderr",
     "output_type": "stream",
     "text": [
      "Testing 9x9: 100%|██████████████████████████████████████████████████████████████████████████████| 200/200 [00:00<00:00, 2560.07it/s]\n"
     ]
    },
    {
     "name": "stdout",
     "output_type": "stream",
     "text": [
      "\n",
      "9x9 Results:\n",
      "Accuracy: 73.50%\n",
      "Avg prediction | Perc: 0.769\n",
      "Avg prediction | Non-Perc: 0.530\n",
      "\n",
      "Running 3^2 - Run 5/10\n"
     ]
    },
    {
     "name": "stderr",
     "output_type": "stream",
     "text": [
      "Generating data: 100%|█████████████████████████████████████████████████████████████████████| 10000/10000 [00:00<00:00, 10306.77it/s]\n",
      "Training: 100%|████████████████████████████████████████████████████████████████████████████████| 1000/1000 [00:01<00:00, 614.53it/s]\n",
      "Training: 100%|████████████████████████████████████████████████████████████████████████████████| 1000/1000 [00:01<00:00, 619.69it/s]\n",
      "Training: 100%|████████████████████████████████████████████████████████████████████████████████| 1000/1000 [00:01<00:00, 627.42it/s]\n",
      "Training: 100%|████████████████████████████████████████████████████████████████████████████████| 1000/1000 [00:01<00:00, 619.79it/s]\n",
      "Training: 100%|████████████████████████████████████████████████████████████████████████████████| 1000/1000 [00:01<00:00, 629.03it/s]\n",
      "Testing 3x3: 100%|██████████████████████████████████████████████████████████████████████████████| 100/100 [00:00<00:00, 6400.29it/s]\n"
     ]
    },
    {
     "name": "stdout",
     "output_type": "stream",
     "text": [
      "\n",
      "3x3 Results:\n",
      "Accuracy: 89.00%\n",
      "Avg prediction | Perc: 0.725\n",
      "Avg prediction | Non-Perc: 0.267\n"
     ]
    },
    {
     "name": "stderr",
     "output_type": "stream",
     "text": [
      "Testing 9x9: 100%|██████████████████████████████████████████████████████████████████████████████| 100/100 [00:00<00:00, 2133.41it/s]\n"
     ]
    },
    {
     "name": "stdout",
     "output_type": "stream",
     "text": [
      "\n",
      "9x9 Results:\n",
      "Accuracy: 95.00%\n",
      "Avg prediction | Perc: 0.945\n",
      "Avg prediction | Non-Perc: 0.076\n"
     ]
    },
    {
     "name": "stderr",
     "output_type": "stream",
     "text": [
      "Testing 27x27: 100%|████████████████████████████████████████████████████████████████████████████| 100/100 [00:00<00:00, 2133.43it/s]\n"
     ]
    },
    {
     "name": "stdout",
     "output_type": "stream",
     "text": [
      "\n",
      "27x27 Results:\n",
      "Accuracy: 97.00%\n",
      "Avg prediction | Perc: 0.975\n",
      "Avg prediction | Non-Perc: 0.031\n"
     ]
    },
    {
     "name": "stderr",
     "output_type": "stream",
     "text": [
      "Testing 9x9: 100%|██████████████████████████████████████████████████████████████████████████████| 200/200 [00:00<00:00, 2544.45it/s]\n"
     ]
    },
    {
     "name": "stdout",
     "output_type": "stream",
     "text": [
      "\n",
      "9x9 Results:\n",
      "Accuracy: 75.50%\n",
      "Avg prediction | Perc: 0.857\n",
      "Avg prediction | Non-Perc: 0.603\n",
      "\n",
      "Running 3^2 - Run 6/10\n"
     ]
    },
    {
     "name": "stderr",
     "output_type": "stream",
     "text": [
      "Generating data: 100%|█████████████████████████████████████████████████████████████████████| 10000/10000 [00:00<00:00, 10478.59it/s]\n",
      "Training: 100%|████████████████████████████████████████████████████████████████████████████████| 1000/1000 [00:01<00:00, 620.66it/s]\n",
      "Training: 100%|████████████████████████████████████████████████████████████████████████████████| 1000/1000 [00:01<00:00, 609.56it/s]\n",
      "Training: 100%|████████████████████████████████████████████████████████████████████████████████| 1000/1000 [00:01<00:00, 629.34it/s]\n",
      "Training: 100%|████████████████████████████████████████████████████████████████████████████████| 1000/1000 [00:01<00:00, 623.18it/s]\n",
      "Training: 100%|████████████████████████████████████████████████████████████████████████████████| 1000/1000 [00:01<00:00, 626.81it/s]\n",
      "Testing 3x3: 100%|██████████████████████████████████████████████████████████████████████████████| 100/100 [00:00<00:00, 6123.52it/s]\n"
     ]
    },
    {
     "name": "stdout",
     "output_type": "stream",
     "text": [
      "\n",
      "3x3 Results:\n",
      "Accuracy: 90.00%\n",
      "Avg prediction | Perc: 0.728\n",
      "Avg prediction | Non-Perc: 0.291\n"
     ]
    },
    {
     "name": "stderr",
     "output_type": "stream",
     "text": [
      "Testing 9x9: 100%|██████████████████████████████████████████████████████████████████████████████| 100/100 [00:00<00:00, 2161.37it/s]\n"
     ]
    },
    {
     "name": "stdout",
     "output_type": "stream",
     "text": [
      "\n",
      "9x9 Results:\n",
      "Accuracy: 93.00%\n",
      "Avg prediction | Perc: 0.893\n",
      "Avg prediction | Non-Perc: 0.092\n"
     ]
    },
    {
     "name": "stderr",
     "output_type": "stream",
     "text": [
      "Testing 27x27: 100%|████████████████████████████████████████████████████████████████████████████| 100/100 [00:00<00:00, 2133.45it/s]\n"
     ]
    },
    {
     "name": "stdout",
     "output_type": "stream",
     "text": [
      "\n",
      "27x27 Results:\n",
      "Accuracy: 96.00%\n",
      "Avg prediction | Perc: 0.988\n",
      "Avg prediction | Non-Perc: 0.066\n"
     ]
    },
    {
     "name": "stderr",
     "output_type": "stream",
     "text": [
      "Testing 9x9: 100%|██████████████████████████████████████████████████████████████████████████████| 200/200 [00:00<00:00, 3200.13it/s]\n"
     ]
    },
    {
     "name": "stdout",
     "output_type": "stream",
     "text": [
      "\n",
      "9x9 Results:\n",
      "Accuracy: 77.50%\n",
      "Avg prediction | Perc: 0.787\n",
      "Avg prediction | Non-Perc: 0.550\n",
      "\n",
      "Running 3^2 - Run 7/10\n"
     ]
    },
    {
     "name": "stderr",
     "output_type": "stream",
     "text": [
      "Generating data: 100%|█████████████████████████████████████████████████████████████████████| 10000/10000 [00:00<00:00, 10476.16it/s]\n",
      "Training: 100%|████████████████████████████████████████████████████████████████████████████████| 1000/1000 [00:01<00:00, 571.18it/s]\n",
      "Training: 100%|████████████████████████████████████████████████████████████████████████████████| 1000/1000 [00:01<00:00, 614.29it/s]\n",
      "Training: 100%|████████████████████████████████████████████████████████████████████████████████| 1000/1000 [00:01<00:00, 621.05it/s]\n",
      "Training: 100%|████████████████████████████████████████████████████████████████████████████████| 1000/1000 [00:01<00:00, 609.63it/s]\n",
      "Training: 100%|████████████████████████████████████████████████████████████████████████████████| 1000/1000 [00:01<00:00, 621.43it/s]\n",
      "Testing 3x3: 100%|██████████████████████████████████████████████████████████████████████████████| 100/100 [00:00<00:00, 6400.39it/s]\n"
     ]
    },
    {
     "name": "stdout",
     "output_type": "stream",
     "text": [
      "\n",
      "3x3 Results:\n",
      "Accuracy: 89.00%\n",
      "Avg prediction | Perc: 0.697\n",
      "Avg prediction | Non-Perc: 0.280\n"
     ]
    },
    {
     "name": "stderr",
     "output_type": "stream",
     "text": [
      "Testing 9x9: 100%|██████████████████████████████████████████████████████████████████████████████| 100/100 [00:00<00:00, 2053.14it/s]\n"
     ]
    },
    {
     "name": "stdout",
     "output_type": "stream",
     "text": [
      "\n",
      "9x9 Results:\n",
      "Accuracy: 93.00%\n",
      "Avg prediction | Perc: 0.863\n",
      "Avg prediction | Non-Perc: 0.092\n"
     ]
    },
    {
     "name": "stderr",
     "output_type": "stream",
     "text": [
      "Testing 27x27: 100%|████████████████████████████████████████████████████████████████████████████| 100/100 [00:00<00:00, 2114.85it/s]\n"
     ]
    },
    {
     "name": "stdout",
     "output_type": "stream",
     "text": [
      "\n",
      "27x27 Results:\n",
      "Accuracy: 94.00%\n",
      "Avg prediction | Perc: 0.973\n",
      "Avg prediction | Non-Perc: 0.080\n"
     ]
    },
    {
     "name": "stderr",
     "output_type": "stream",
     "text": [
      "Testing 9x9: 100%|██████████████████████████████████████████████████████████████████████████████| 200/200 [00:00<00:00, 2559.91it/s]\n"
     ]
    },
    {
     "name": "stdout",
     "output_type": "stream",
     "text": [
      "\n",
      "9x9 Results:\n",
      "Accuracy: 79.50%\n",
      "Avg prediction | Perc: 0.843\n",
      "Avg prediction | Non-Perc: 0.565\n",
      "\n",
      "Running 3^2 - Run 8/10\n"
     ]
    },
    {
     "name": "stderr",
     "output_type": "stream",
     "text": [
      "Generating data: 100%|█████████████████████████████████████████████████████████████████████| 10000/10000 [00:00<00:00, 10534.76it/s]\n",
      "Training: 100%|████████████████████████████████████████████████████████████████████████████████| 1000/1000 [00:01<00:00, 543.94it/s]\n",
      "Training: 100%|████████████████████████████████████████████████████████████████████████████████| 1000/1000 [00:01<00:00, 502.39it/s]\n",
      "Training: 100%|████████████████████████████████████████████████████████████████████████████████| 1000/1000 [00:01<00:00, 556.55it/s]\n",
      "Training: 100%|████████████████████████████████████████████████████████████████████████████████| 1000/1000 [00:01<00:00, 566.36it/s]\n",
      "Training: 100%|████████████████████████████████████████████████████████████████████████████████| 1000/1000 [00:01<00:00, 607.43it/s]\n",
      "Testing 3x3: 100%|██████████████████████████████████████████████████████████████████████████████| 100/100 [00:00<00:00, 4638.08it/s]\n"
     ]
    },
    {
     "name": "stdout",
     "output_type": "stream",
     "text": [
      "\n",
      "3x3 Results:\n",
      "Accuracy: 87.00%\n",
      "Avg prediction | Perc: 0.679\n",
      "Avg prediction | Non-Perc: 0.262\n"
     ]
    },
    {
     "name": "stderr",
     "output_type": "stream",
     "text": [
      "Testing 9x9: 100%|██████████████████████████████████████████████████████████████████████████████| 100/100 [00:00<00:00, 2318.60it/s]\n"
     ]
    },
    {
     "name": "stdout",
     "output_type": "stream",
     "text": [
      "\n",
      "9x9 Results:\n",
      "Accuracy: 96.00%\n",
      "Avg prediction | Perc: 0.935\n",
      "Avg prediction | Non-Perc: 0.088\n"
     ]
    },
    {
     "name": "stderr",
     "output_type": "stream",
     "text": [
      "Testing 27x27: 100%|████████████████████████████████████████████████████████████████████████████| 100/100 [00:00<00:00, 2008.84it/s]\n"
     ]
    },
    {
     "name": "stdout",
     "output_type": "stream",
     "text": [
      "\n",
      "27x27 Results:\n",
      "Accuracy: 97.00%\n",
      "Avg prediction | Perc: 0.974\n",
      "Avg prediction | Non-Perc: 0.037\n"
     ]
    },
    {
     "name": "stderr",
     "output_type": "stream",
     "text": [
      "Testing 9x9: 100%|██████████████████████████████████████████████████████████████████████████████| 200/200 [00:00<00:00, 2563.63it/s]\n"
     ]
    },
    {
     "name": "stdout",
     "output_type": "stream",
     "text": [
      "\n",
      "9x9 Results:\n",
      "Accuracy: 79.00%\n",
      "Avg prediction | Perc: 0.825\n",
      "Avg prediction | Non-Perc: 0.532\n",
      "\n",
      "Running 3^2 - Run 9/10\n"
     ]
    },
    {
     "name": "stderr",
     "output_type": "stream",
     "text": [
      "Generating data: 100%|█████████████████████████████████████████████████████████████████████| 10000/10000 [00:00<00:00, 10316.25it/s]\n",
      "Training: 100%|████████████████████████████████████████████████████████████████████████████████| 1000/1000 [00:01<00:00, 611.24it/s]\n",
      "Training: 100%|████████████████████████████████████████████████████████████████████████████████| 1000/1000 [00:01<00:00, 601.83it/s]\n",
      "Training: 100%|████████████████████████████████████████████████████████████████████████████████| 1000/1000 [00:01<00:00, 600.39it/s]\n",
      "Training: 100%|████████████████████████████████████████████████████████████████████████████████| 1000/1000 [00:01<00:00, 614.93it/s]\n",
      "Training: 100%|████████████████████████████████████████████████████████████████████████████████| 1000/1000 [00:01<00:00, 618.02it/s]\n",
      "Testing 3x3: 100%|██████████████████████████████████████████████████████████████████████████████| 100/100 [00:00<00:00, 6396.29it/s]\n"
     ]
    },
    {
     "name": "stdout",
     "output_type": "stream",
     "text": [
      "\n",
      "3x3 Results:\n",
      "Accuracy: 89.00%\n",
      "Avg prediction | Perc: 0.734\n",
      "Avg prediction | Non-Perc: 0.245\n"
     ]
    },
    {
     "name": "stderr",
     "output_type": "stream",
     "text": [
      "Testing 9x9: 100%|██████████████████████████████████████████████████████████████████████████████| 100/100 [00:00<00:00, 2133.42it/s]\n"
     ]
    },
    {
     "name": "stdout",
     "output_type": "stream",
     "text": [
      "\n",
      "9x9 Results:\n",
      "Accuracy: 92.00%\n",
      "Avg prediction | Perc: 0.853\n",
      "Avg prediction | Non-Perc: 0.081\n"
     ]
    },
    {
     "name": "stderr",
     "output_type": "stream",
     "text": [
      "Testing 27x27: 100%|████████████████████████████████████████████████████████████████████████████| 100/100 [00:00<00:00, 2133.39it/s]\n"
     ]
    },
    {
     "name": "stdout",
     "output_type": "stream",
     "text": [
      "\n",
      "27x27 Results:\n",
      "Accuracy: 96.00%\n",
      "Avg prediction | Perc: 0.964\n",
      "Avg prediction | Non-Perc: 0.048\n"
     ]
    },
    {
     "name": "stderr",
     "output_type": "stream",
     "text": [
      "Testing 9x9: 100%|██████████████████████████████████████████████████████████████████████████████| 200/200 [00:00<00:00, 3231.42it/s]\n"
     ]
    },
    {
     "name": "stdout",
     "output_type": "stream",
     "text": [
      "\n",
      "9x9 Results:\n",
      "Accuracy: 72.50%\n",
      "Avg prediction | Perc: 0.752\n",
      "Avg prediction | Non-Perc: 0.540\n",
      "\n",
      "Running 3^2 - Run 10/10\n"
     ]
    },
    {
     "name": "stderr",
     "output_type": "stream",
     "text": [
      "Generating data: 100%|█████████████████████████████████████████████████████████████████████| 10000/10000 [00:00<00:00, 10394.62it/s]\n",
      "Training: 100%|████████████████████████████████████████████████████████████████████████████████| 1000/1000 [00:01<00:00, 608.56it/s]\n",
      "Training: 100%|████████████████████████████████████████████████████████████████████████████████| 1000/1000 [00:01<00:00, 607.97it/s]\n",
      "Training: 100%|████████████████████████████████████████████████████████████████████████████████| 1000/1000 [00:01<00:00, 620.32it/s]\n",
      "Training: 100%|████████████████████████████████████████████████████████████████████████████████| 1000/1000 [00:01<00:00, 612.15it/s]\n",
      "Training: 100%|████████████████████████████████████████████████████████████████████████████████| 1000/1000 [00:01<00:00, 612.22it/s]\n",
      "Testing 3x3: 100%|██████████████████████████████████████████████████████████████████████████████| 100/100 [00:00<00:00, 3106.16it/s]\n"
     ]
    },
    {
     "name": "stdout",
     "output_type": "stream",
     "text": [
      "\n",
      "3x3 Results:\n",
      "Accuracy: 86.00%\n",
      "Avg prediction | Perc: 0.696\n",
      "Avg prediction | Non-Perc: 0.281\n"
     ]
    },
    {
     "name": "stderr",
     "output_type": "stream",
     "text": [
      "Testing 9x9: 100%|██████████████████████████████████████████████████████████████████████████████| 100/100 [00:00<00:00, 2271.26it/s]\n"
     ]
    },
    {
     "name": "stdout",
     "output_type": "stream",
     "text": [
      "\n",
      "9x9 Results:\n",
      "Accuracy: 93.00%\n",
      "Avg prediction | Perc: 0.906\n",
      "Avg prediction | Non-Perc: 0.072\n"
     ]
    },
    {
     "name": "stderr",
     "output_type": "stream",
     "text": [
      "Testing 27x27: 100%|████████████████████████████████████████████████████████████████████████████| 100/100 [00:00<00:00, 2114.74it/s]\n"
     ]
    },
    {
     "name": "stdout",
     "output_type": "stream",
     "text": [
      "\n",
      "27x27 Results:\n",
      "Accuracy: 94.00%\n",
      "Avg prediction | Perc: 0.993\n",
      "Avg prediction | Non-Perc: 0.104\n"
     ]
    },
    {
     "name": "stderr",
     "output_type": "stream",
     "text": [
      "Testing 9x9: 100%|██████████████████████████████████████████████████████████████████████████████| 200/200 [00:00<00:00, 2560.07it/s]\n"
     ]
    },
    {
     "name": "stdout",
     "output_type": "stream",
     "text": [
      "\n",
      "9x9 Results:\n",
      "Accuracy: 75.50%\n",
      "Avg prediction | Perc: 0.843\n",
      "Avg prediction | Non-Perc: 0.591\n",
      "\n",
      "Running 3^3 - Run 1/10\n"
     ]
    },
    {
     "name": "stderr",
     "output_type": "stream",
     "text": [
      "Generating data: 100%|██████████████████████████████████████████████████████████████████████| 10000/10000 [00:01<00:00, 7912.28it/s]\n",
      "Training: 100%|████████████████████████████████████████████████████████████████████████████████| 1000/1000 [00:02<00:00, 470.88it/s]\n",
      "Training: 100%|████████████████████████████████████████████████████████████████████████████████| 1000/1000 [00:02<00:00, 479.10it/s]\n",
      "Training: 100%|████████████████████████████████████████████████████████████████████████████████| 1000/1000 [00:02<00:00, 482.57it/s]\n",
      "Training: 100%|████████████████████████████████████████████████████████████████████████████████| 1000/1000 [00:02<00:00, 451.92it/s]\n",
      "Training: 100%|████████████████████████████████████████████████████████████████████████████████| 1000/1000 [00:02<00:00, 492.01it/s]\n",
      "Testing 9x9: 100%|██████████████████████████████████████████████████████████████████████████████| 100/100 [00:00<00:00, 2518.66it/s]\n"
     ]
    },
    {
     "name": "stdout",
     "output_type": "stream",
     "text": [
      "\n",
      "9x9 Results:\n",
      "Accuracy: 11.00%\n",
      "Avg prediction | Perc: 0.286\n",
      "Avg prediction | Non-Perc: 0.973\n"
     ]
    },
    {
     "name": "stderr",
     "output_type": "stream",
     "text": [
      "Testing 27x27: 100%|████████████████████████████████████████████████████████████████████████████| 100/100 [00:00<00:00, 2133.40it/s]\n"
     ]
    },
    {
     "name": "stdout",
     "output_type": "stream",
     "text": [
      "\n",
      "27x27 Results:\n",
      "Accuracy: 97.00%\n",
      "Avg prediction | Perc: 0.929\n",
      "Avg prediction | Non-Perc: 0.040\n"
     ]
    },
    {
     "name": "stderr",
     "output_type": "stream",
     "text": [
      "Testing 81x81: 100%|████████████████████████████████████████████████████████████████████████████| 100/100 [00:00<00:00, 1066.67it/s]\n"
     ]
    },
    {
     "name": "stdout",
     "output_type": "stream",
     "text": [
      "\n",
      "81x81 Results:\n",
      "Accuracy: 2.00%\n",
      "Avg prediction | Perc: 0.071\n",
      "Avg prediction | Non-Perc: 0.998\n"
     ]
    },
    {
     "name": "stderr",
     "output_type": "stream",
     "text": [
      "Testing 27x27: 100%|████████████████████████████████████████████████████████████████████████████| 200/200 [00:00<00:00, 1731.55it/s]\n"
     ]
    },
    {
     "name": "stdout",
     "output_type": "stream",
     "text": [
      "\n",
      "27x27 Results:\n",
      "Accuracy: 69.00%\n",
      "Avg prediction | Perc: 0.625\n",
      "Avg prediction | Non-Perc: 0.473\n",
      "\n",
      "Running 3^3 - Run 2/10\n"
     ]
    },
    {
     "name": "stderr",
     "output_type": "stream",
     "text": [
      "Generating data: 100%|██████████████████████████████████████████████████████████████████████| 10000/10000 [00:01<00:00, 8341.16it/s]\n",
      "Training: 100%|████████████████████████████████████████████████████████████████████████████████| 1000/1000 [00:02<00:00, 481.82it/s]\n",
      "Training: 100%|████████████████████████████████████████████████████████████████████████████████| 1000/1000 [00:02<00:00, 489.39it/s]\n",
      "Training: 100%|████████████████████████████████████████████████████████████████████████████████| 1000/1000 [00:02<00:00, 490.35it/s]\n",
      "Training: 100%|████████████████████████████████████████████████████████████████████████████████| 1000/1000 [00:02<00:00, 491.47it/s]\n",
      "Training: 100%|████████████████████████████████████████████████████████████████████████████████| 1000/1000 [00:02<00:00, 489.94it/s]\n",
      "Testing 9x9: 100%|██████████████████████████████████████████████████████████████████████████████| 100/100 [00:00<00:00, 3199.93it/s]\n"
     ]
    },
    {
     "name": "stdout",
     "output_type": "stream",
     "text": [
      "\n",
      "9x9 Results:\n",
      "Accuracy: 10.00%\n",
      "Avg prediction | Perc: 0.251\n",
      "Avg prediction | Non-Perc: 0.940\n"
     ]
    },
    {
     "name": "stderr",
     "output_type": "stream",
     "text": [
      "Testing 27x27: 100%|████████████████████████████████████████████████████████████████████████████| 100/100 [00:00<00:00, 1569.21it/s]\n"
     ]
    },
    {
     "name": "stdout",
     "output_type": "stream",
     "text": [
      "\n",
      "27x27 Results:\n",
      "Accuracy: 99.00%\n",
      "Avg prediction | Perc: 0.947\n",
      "Avg prediction | Non-Perc: 0.030\n"
     ]
    },
    {
     "name": "stderr",
     "output_type": "stream",
     "text": [
      "Testing 81x81: 100%|████████████████████████████████████████████████████████████████████████████| 100/100 [00:00<00:00, 1035.73it/s]\n"
     ]
    },
    {
     "name": "stdout",
     "output_type": "stream",
     "text": [
      "\n",
      "81x81 Results:\n",
      "Accuracy: 1.00%\n",
      "Avg prediction | Perc: 0.035\n",
      "Avg prediction | Non-Perc: 0.982\n"
     ]
    },
    {
     "name": "stderr",
     "output_type": "stream",
     "text": [
      "Testing 27x27: 100%|████████████████████████████████████████████████████████████████████████████| 200/200 [00:00<00:00, 1911.42it/s]\n"
     ]
    },
    {
     "name": "stdout",
     "output_type": "stream",
     "text": [
      "\n",
      "27x27 Results:\n",
      "Accuracy: 77.00%\n",
      "Avg prediction | Perc: 0.798\n",
      "Avg prediction | Non-Perc: 0.619\n",
      "\n",
      "Running 3^3 - Run 3/10\n"
     ]
    },
    {
     "name": "stderr",
     "output_type": "stream",
     "text": [
      "Generating data: 100%|██████████████████████████████████████████████████████████████████████| 10000/10000 [00:01<00:00, 8118.06it/s]\n",
      "Training: 100%|████████████████████████████████████████████████████████████████████████████████| 1000/1000 [00:02<00:00, 482.28it/s]\n",
      "Training: 100%|████████████████████████████████████████████████████████████████████████████████| 1000/1000 [00:02<00:00, 485.96it/s]\n",
      "Training: 100%|████████████████████████████████████████████████████████████████████████████████| 1000/1000 [00:02<00:00, 487.87it/s]\n",
      "Training: 100%|████████████████████████████████████████████████████████████████████████████████| 1000/1000 [00:02<00:00, 488.76it/s]\n",
      "Training: 100%|████████████████████████████████████████████████████████████████████████████████| 1000/1000 [00:02<00:00, 488.02it/s]\n",
      "Testing 9x9: 100%|██████████████████████████████████████████████████████████████████████████████| 100/100 [00:00<00:00, 2338.16it/s]\n"
     ]
    },
    {
     "name": "stdout",
     "output_type": "stream",
     "text": [
      "\n",
      "9x9 Results:\n",
      "Accuracy: 16.00%\n",
      "Avg prediction | Perc: 0.308\n",
      "Avg prediction | Non-Perc: 0.931\n"
     ]
    },
    {
     "name": "stderr",
     "output_type": "stream",
     "text": [
      "Testing 27x27: 100%|████████████████████████████████████████████████████████████████████████████| 100/100 [00:00<00:00, 2133.43it/s]\n"
     ]
    },
    {
     "name": "stdout",
     "output_type": "stream",
     "text": [
      "\n",
      "27x27 Results:\n",
      "Accuracy: 97.00%\n",
      "Avg prediction | Perc: 0.949\n",
      "Avg prediction | Non-Perc: 0.058\n"
     ]
    },
    {
     "name": "stderr",
     "output_type": "stream",
     "text": [
      "Testing 81x81: 100%|████████████████████████████████████████████████████████████████████████████| 100/100 [00:00<00:00, 1290.05it/s]\n"
     ]
    },
    {
     "name": "stdout",
     "output_type": "stream",
     "text": [
      "\n",
      "81x81 Results:\n",
      "Accuracy: 3.00%\n",
      "Avg prediction | Perc: 0.050\n",
      "Avg prediction | Non-Perc: 0.982\n"
     ]
    },
    {
     "name": "stderr",
     "output_type": "stream",
     "text": [
      "Testing 27x27: 100%|████████████████████████████████████████████████████████████████████████████| 200/200 [00:00<00:00, 1828.60it/s]\n"
     ]
    },
    {
     "name": "stdout",
     "output_type": "stream",
     "text": [
      "\n",
      "27x27 Results:\n",
      "Accuracy: 73.50%\n",
      "Avg prediction | Perc: 0.821\n",
      "Avg prediction | Non-Perc: 0.685\n",
      "\n",
      "Running 3^3 - Run 4/10\n"
     ]
    },
    {
     "name": "stderr",
     "output_type": "stream",
     "text": [
      "Generating data: 100%|██████████████████████████████████████████████████████████████████████| 10000/10000 [00:01<00:00, 8100.68it/s]\n",
      "Training: 100%|████████████████████████████████████████████████████████████████████████████████| 1000/1000 [00:02<00:00, 480.77it/s]\n",
      "Training: 100%|████████████████████████████████████████████████████████████████████████████████| 1000/1000 [00:02<00:00, 480.28it/s]\n",
      "Training: 100%|████████████████████████████████████████████████████████████████████████████████| 1000/1000 [00:02<00:00, 479.29it/s]\n",
      "Training: 100%|████████████████████████████████████████████████████████████████████████████████| 1000/1000 [00:02<00:00, 486.70it/s]\n",
      "Training: 100%|████████████████████████████████████████████████████████████████████████████████| 1000/1000 [00:02<00:00, 492.12it/s]\n",
      "Testing 9x9: 100%|██████████████████████████████████████████████████████████████████████████████| 100/100 [00:00<00:00, 2133.28it/s]\n"
     ]
    },
    {
     "name": "stdout",
     "output_type": "stream",
     "text": [
      "\n",
      "9x9 Results:\n",
      "Accuracy: 9.00%\n",
      "Avg prediction | Perc: 0.278\n",
      "Avg prediction | Non-Perc: 0.974\n"
     ]
    },
    {
     "name": "stderr",
     "output_type": "stream",
     "text": [
      "Testing 27x27: 100%|████████████████████████████████████████████████████████████████████████████| 100/100 [00:00<00:00, 2133.46it/s]\n"
     ]
    },
    {
     "name": "stdout",
     "output_type": "stream",
     "text": [
      "\n",
      "27x27 Results:\n",
      "Accuracy: 94.00%\n",
      "Avg prediction | Perc: 0.881\n",
      "Avg prediction | Non-Perc: 0.051\n"
     ]
    },
    {
     "name": "stderr",
     "output_type": "stream",
     "text": [
      "Testing 81x81: 100%|█████████████████████████████████████████████████████████████████████████████| 100/100 [00:00<00:00, 976.58it/s]\n"
     ]
    },
    {
     "name": "stdout",
     "output_type": "stream",
     "text": [
      "\n",
      "81x81 Results:\n",
      "Accuracy: 3.00%\n",
      "Avg prediction | Perc: 0.083\n",
      "Avg prediction | Non-Perc: 0.992\n"
     ]
    },
    {
     "name": "stderr",
     "output_type": "stream",
     "text": [
      "Testing 27x27: 100%|████████████████████████████████████████████████████████████████████████████| 200/200 [00:00<00:00, 1851.62it/s]\n"
     ]
    },
    {
     "name": "stdout",
     "output_type": "stream",
     "text": [
      "\n",
      "27x27 Results:\n",
      "Accuracy: 66.50%\n",
      "Avg prediction | Perc: 0.565\n",
      "Avg prediction | Non-Perc: 0.393\n",
      "\n",
      "Running 3^3 - Run 5/10\n"
     ]
    },
    {
     "name": "stderr",
     "output_type": "stream",
     "text": [
      "Generating data: 100%|██████████████████████████████████████████████████████████████████████| 10000/10000 [00:01<00:00, 8350.37it/s]\n",
      "Training: 100%|████████████████████████████████████████████████████████████████████████████████| 1000/1000 [00:02<00:00, 480.03it/s]\n",
      "Training: 100%|████████████████████████████████████████████████████████████████████████████████| 1000/1000 [00:02<00:00, 481.53it/s]\n",
      "Training: 100%|████████████████████████████████████████████████████████████████████████████████| 1000/1000 [00:02<00:00, 443.83it/s]\n",
      "Training: 100%|████████████████████████████████████████████████████████████████████████████████| 1000/1000 [00:02<00:00, 466.72it/s]\n",
      "Training: 100%|████████████████████████████████████████████████████████████████████████████████| 1000/1000 [00:02<00:00, 435.44it/s]\n",
      "Testing 9x9: 100%|██████████████████████████████████████████████████████████████████████████████| 100/100 [00:00<00:00, 2379.54it/s]\n"
     ]
    },
    {
     "name": "stdout",
     "output_type": "stream",
     "text": [
      "\n",
      "9x9 Results:\n",
      "Accuracy: 13.00%\n",
      "Avg prediction | Perc: 0.301\n",
      "Avg prediction | Non-Perc: 0.936\n"
     ]
    },
    {
     "name": "stderr",
     "output_type": "stream",
     "text": [
      "Testing 27x27: 100%|████████████████████████████████████████████████████████████████████████████| 100/100 [00:00<00:00, 1557.28it/s]\n"
     ]
    },
    {
     "name": "stdout",
     "output_type": "stream",
     "text": [
      "\n",
      "27x27 Results:\n",
      "Accuracy: 95.00%\n",
      "Avg prediction | Perc: 0.913\n",
      "Avg prediction | Non-Perc: 0.045\n"
     ]
    },
    {
     "name": "stderr",
     "output_type": "stream",
     "text": [
      "Testing 81x81: 100%|█████████████████████████████████████████████████████████████████████████████| 100/100 [00:00<00:00, 973.11it/s]\n"
     ]
    },
    {
     "name": "stdout",
     "output_type": "stream",
     "text": [
      "\n",
      "81x81 Results:\n",
      "Accuracy: 3.00%\n",
      "Avg prediction | Perc: 0.089\n",
      "Avg prediction | Non-Perc: 0.996\n"
     ]
    },
    {
     "name": "stderr",
     "output_type": "stream",
     "text": [
      "Testing 27x27: 100%|████████████████████████████████████████████████████████████████████████████| 200/200 [00:00<00:00, 1798.76it/s]\n"
     ]
    },
    {
     "name": "stdout",
     "output_type": "stream",
     "text": [
      "\n",
      "27x27 Results:\n",
      "Accuracy: 69.00%\n",
      "Avg prediction | Perc: 0.684\n",
      "Avg prediction | Non-Perc: 0.494\n",
      "\n",
      "Running 3^3 - Run 6/10\n"
     ]
    },
    {
     "name": "stderr",
     "output_type": "stream",
     "text": [
      "Generating data: 100%|██████████████████████████████████████████████████████████████████████| 10000/10000 [00:01<00:00, 8044.41it/s]\n",
      "Training: 100%|████████████████████████████████████████████████████████████████████████████████| 1000/1000 [00:02<00:00, 461.51it/s]\n",
      "Training: 100%|████████████████████████████████████████████████████████████████████████████████| 1000/1000 [00:02<00:00, 473.11it/s]\n",
      "Training: 100%|████████████████████████████████████████████████████████████████████████████████| 1000/1000 [00:02<00:00, 475.77it/s]\n",
      "Training: 100%|████████████████████████████████████████████████████████████████████████████████| 1000/1000 [00:02<00:00, 485.11it/s]\n",
      "Training: 100%|████████████████████████████████████████████████████████████████████████████████| 1000/1000 [00:02<00:00, 484.56it/s]\n",
      "Testing 9x9: 100%|██████████████████████████████████████████████████████████████████████████████| 100/100 [00:00<00:00, 2133.27it/s]\n"
     ]
    },
    {
     "name": "stdout",
     "output_type": "stream",
     "text": [
      "\n",
      "9x9 Results:\n",
      "Accuracy: 8.00%\n",
      "Avg prediction | Perc: 0.209\n",
      "Avg prediction | Non-Perc: 0.960\n"
     ]
    },
    {
     "name": "stderr",
     "output_type": "stream",
     "text": [
      "Testing 27x27: 100%|████████████████████████████████████████████████████████████████████████████| 100/100 [00:00<00:00, 2133.47it/s]\n"
     ]
    },
    {
     "name": "stdout",
     "output_type": "stream",
     "text": [
      "\n",
      "27x27 Results:\n",
      "Accuracy: 97.00%\n",
      "Avg prediction | Perc: 0.976\n",
      "Avg prediction | Non-Perc: 0.055\n"
     ]
    },
    {
     "name": "stderr",
     "output_type": "stream",
     "text": [
      "Testing 81x81: 100%|████████████████████████████████████████████████████████████████████████████| 100/100 [00:00<00:00, 1066.68it/s]\n"
     ]
    },
    {
     "name": "stdout",
     "output_type": "stream",
     "text": [
      "\n",
      "81x81 Results:\n",
      "Accuracy: 2.00%\n",
      "Avg prediction | Perc: 0.046\n",
      "Avg prediction | Non-Perc: 0.987\n"
     ]
    },
    {
     "name": "stderr",
     "output_type": "stream",
     "text": [
      "Testing 27x27: 100%|████████████████████████████████████████████████████████████████████████████| 200/200 [00:00<00:00, 1688.65it/s]\n"
     ]
    },
    {
     "name": "stdout",
     "output_type": "stream",
     "text": [
      "\n",
      "27x27 Results:\n",
      "Accuracy: 72.00%\n",
      "Avg prediction | Perc: 0.764\n",
      "Avg prediction | Non-Perc: 0.599\n",
      "\n",
      "Running 3^3 - Run 7/10\n"
     ]
    },
    {
     "name": "stderr",
     "output_type": "stream",
     "text": [
      "Generating data: 100%|██████████████████████████████████████████████████████████████████████| 10000/10000 [00:01<00:00, 8093.08it/s]\n",
      "Training: 100%|████████████████████████████████████████████████████████████████████████████████| 1000/1000 [00:02<00:00, 478.97it/s]\n",
      "Training: 100%|████████████████████████████████████████████████████████████████████████████████| 1000/1000 [00:02<00:00, 462.25it/s]\n",
      "Training: 100%|████████████████████████████████████████████████████████████████████████████████| 1000/1000 [00:02<00:00, 449.07it/s]\n",
      "Training: 100%|████████████████████████████████████████████████████████████████████████████████| 1000/1000 [00:02<00:00, 480.66it/s]\n",
      "Training: 100%|████████████████████████████████████████████████████████████████████████████████| 1000/1000 [00:02<00:00, 463.66it/s]\n",
      "Testing 9x9: 100%|██████████████████████████████████████████████████████████████████████████████| 100/100 [00:00<00:00, 2133.40it/s]\n"
     ]
    },
    {
     "name": "stdout",
     "output_type": "stream",
     "text": [
      "\n",
      "9x9 Results:\n",
      "Accuracy: 13.00%\n",
      "Avg prediction | Perc: 0.267\n",
      "Avg prediction | Non-Perc: 0.915\n"
     ]
    },
    {
     "name": "stderr",
     "output_type": "stream",
     "text": [
      "Testing 27x27: 100%|████████████████████████████████████████████████████████████████████████████| 100/100 [00:00<00:00, 2133.36it/s]\n"
     ]
    },
    {
     "name": "stdout",
     "output_type": "stream",
     "text": [
      "\n",
      "27x27 Results:\n",
      "Accuracy: 96.00%\n",
      "Avg prediction | Perc: 0.895\n",
      "Avg prediction | Non-Perc: 0.023\n"
     ]
    },
    {
     "name": "stderr",
     "output_type": "stream",
     "text": [
      "Testing 81x81: 100%|█████████████████████████████████████████████████████████████████████████████| 100/100 [00:00<00:00, 950.00it/s]\n"
     ]
    },
    {
     "name": "stdout",
     "output_type": "stream",
     "text": [
      "\n",
      "81x81 Results:\n",
      "Accuracy: 2.00%\n",
      "Avg prediction | Perc: 0.075\n",
      "Avg prediction | Non-Perc: 1.000\n"
     ]
    },
    {
     "name": "stderr",
     "output_type": "stream",
     "text": [
      "Testing 27x27: 100%|████████████████████████████████████████████████████████████████████████████| 200/200 [00:00<00:00, 1855.93it/s]\n"
     ]
    },
    {
     "name": "stdout",
     "output_type": "stream",
     "text": [
      "\n",
      "27x27 Results:\n",
      "Accuracy: 71.00%\n",
      "Avg prediction | Perc: 0.606\n",
      "Avg prediction | Non-Perc: 0.359\n",
      "\n",
      "Running 3^3 - Run 8/10\n"
     ]
    },
    {
     "name": "stderr",
     "output_type": "stream",
     "text": [
      "Generating data: 100%|██████████████████████████████████████████████████████████████████████| 10000/10000 [00:01<00:00, 8186.20it/s]\n",
      "Training: 100%|████████████████████████████████████████████████████████████████████████████████| 1000/1000 [00:02<00:00, 425.13it/s]\n",
      "Training: 100%|████████████████████████████████████████████████████████████████████████████████| 1000/1000 [00:02<00:00, 455.62it/s]\n",
      "Training: 100%|████████████████████████████████████████████████████████████████████████████████| 1000/1000 [00:02<00:00, 473.90it/s]\n",
      "Training: 100%|████████████████████████████████████████████████████████████████████████████████| 1000/1000 [00:02<00:00, 454.63it/s]\n",
      "Training: 100%|████████████████████████████████████████████████████████████████████████████████| 1000/1000 [00:02<00:00, 480.94it/s]\n",
      "Testing 9x9: 100%|██████████████████████████████████████████████████████████████████████████████| 100/100 [00:00<00:00, 3200.24it/s]\n"
     ]
    },
    {
     "name": "stdout",
     "output_type": "stream",
     "text": [
      "\n",
      "9x9 Results:\n",
      "Accuracy: 8.00%\n",
      "Avg prediction | Perc: 0.206\n",
      "Avg prediction | Non-Perc: 0.950\n"
     ]
    },
    {
     "name": "stderr",
     "output_type": "stream",
     "text": [
      "Testing 27x27: 100%|████████████████████████████████████████████████████████████████████████████| 100/100 [00:00<00:00, 1428.14it/s]\n"
     ]
    },
    {
     "name": "stdout",
     "output_type": "stream",
     "text": [
      "\n",
      "27x27 Results:\n",
      "Accuracy: 97.00%\n",
      "Avg prediction | Perc: 0.963\n",
      "Avg prediction | Non-Perc: 0.048\n"
     ]
    },
    {
     "name": "stderr",
     "output_type": "stream",
     "text": [
      "Testing 81x81: 100%|████████████████████████████████████████████████████████████████████████████| 100/100 [00:00<00:00, 1172.64it/s]\n"
     ]
    },
    {
     "name": "stdout",
     "output_type": "stream",
     "text": [
      "\n",
      "81x81 Results:\n",
      "Accuracy: 0.00%\n",
      "Avg prediction | Perc: 0.010\n",
      "Avg prediction | Non-Perc: 0.996\n"
     ]
    },
    {
     "name": "stderr",
     "output_type": "stream",
     "text": [
      "Testing 27x27: 100%|████████████████████████████████████████████████████████████████████████████| 200/200 [00:00<00:00, 1742.27it/s]\n"
     ]
    },
    {
     "name": "stdout",
     "output_type": "stream",
     "text": [
      "\n",
      "27x27 Results:\n",
      "Accuracy: 78.00%\n",
      "Avg prediction | Perc: 0.809\n",
      "Avg prediction | Non-Perc: 0.629\n",
      "\n",
      "Running 3^3 - Run 9/10\n"
     ]
    },
    {
     "name": "stderr",
     "output_type": "stream",
     "text": [
      "Generating data: 100%|██████████████████████████████████████████████████████████████████████| 10000/10000 [00:01<00:00, 7917.30it/s]\n",
      "Training: 100%|████████████████████████████████████████████████████████████████████████████████| 1000/1000 [00:02<00:00, 457.20it/s]\n",
      "Training: 100%|████████████████████████████████████████████████████████████████████████████████| 1000/1000 [00:02<00:00, 430.98it/s]\n",
      "Training: 100%|████████████████████████████████████████████████████████████████████████████████| 1000/1000 [00:02<00:00, 463.85it/s]\n",
      "Training: 100%|████████████████████████████████████████████████████████████████████████████████| 1000/1000 [00:02<00:00, 450.65it/s]\n",
      "Training: 100%|████████████████████████████████████████████████████████████████████████████████| 1000/1000 [00:02<00:00, 459.32it/s]\n",
      "Testing 9x9: 100%|██████████████████████████████████████████████████████████████████████████████| 100/100 [00:00<00:00, 2563.00it/s]\n"
     ]
    },
    {
     "name": "stdout",
     "output_type": "stream",
     "text": [
      "\n",
      "9x9 Results:\n",
      "Accuracy: 10.00%\n",
      "Avg prediction | Perc: 0.263\n",
      "Avg prediction | Non-Perc: 0.913\n"
     ]
    },
    {
     "name": "stderr",
     "output_type": "stream",
     "text": [
      "Testing 27x27: 100%|████████████████████████████████████████████████████████████████████████████| 100/100 [00:00<00:00, 1992.63it/s]\n"
     ]
    },
    {
     "name": "stdout",
     "output_type": "stream",
     "text": [
      "\n",
      "27x27 Results:\n",
      "Accuracy: 94.00%\n",
      "Avg prediction | Perc: 0.932\n",
      "Avg prediction | Non-Perc: 0.049\n"
     ]
    },
    {
     "name": "stderr",
     "output_type": "stream",
     "text": [
      "Testing 81x81: 100%|████████████████████████████████████████████████████████████████████████████| 100/100 [00:00<00:00, 1148.14it/s]\n"
     ]
    },
    {
     "name": "stdout",
     "output_type": "stream",
     "text": [
      "\n",
      "81x81 Results:\n",
      "Accuracy: 4.00%\n",
      "Avg prediction | Perc: 0.001\n",
      "Avg prediction | Non-Perc: 0.933\n"
     ]
    },
    {
     "name": "stderr",
     "output_type": "stream",
     "text": [
      "Testing 27x27: 100%|████████████████████████████████████████████████████████████████████████████| 200/200 [00:00<00:00, 1895.55it/s]\n"
     ]
    },
    {
     "name": "stdout",
     "output_type": "stream",
     "text": [
      "\n",
      "27x27 Results:\n",
      "Accuracy: 72.00%\n",
      "Avg prediction | Perc: 0.870\n",
      "Avg prediction | Non-Perc: 0.809\n",
      "\n",
      "Running 3^3 - Run 10/10\n"
     ]
    },
    {
     "name": "stderr",
     "output_type": "stream",
     "text": [
      "Generating data: 100%|██████████████████████████████████████████████████████████████████████| 10000/10000 [00:01<00:00, 7867.95it/s]\n",
      "Training: 100%|████████████████████████████████████████████████████████████████████████████████| 1000/1000 [00:02<00:00, 457.21it/s]\n",
      "Training: 100%|████████████████████████████████████████████████████████████████████████████████| 1000/1000 [00:02<00:00, 455.90it/s]\n",
      "Training: 100%|████████████████████████████████████████████████████████████████████████████████| 1000/1000 [00:02<00:00, 371.92it/s]\n",
      "Training: 100%|████████████████████████████████████████████████████████████████████████████████| 1000/1000 [00:02<00:00, 370.79it/s]\n",
      "Training: 100%|████████████████████████████████████████████████████████████████████████████████| 1000/1000 [00:02<00:00, 354.67it/s]\n",
      "Testing 9x9: 100%|██████████████████████████████████████████████████████████████████████████████| 100/100 [00:00<00:00, 2006.47it/s]\n"
     ]
    },
    {
     "name": "stdout",
     "output_type": "stream",
     "text": [
      "\n",
      "9x9 Results:\n",
      "Accuracy: 8.00%\n",
      "Avg prediction | Perc: 0.262\n",
      "Avg prediction | Non-Perc: 0.952\n"
     ]
    },
    {
     "name": "stderr",
     "output_type": "stream",
     "text": [
      "Testing 27x27: 100%|████████████████████████████████████████████████████████████████████████████| 100/100 [00:00<00:00, 1561.91it/s]\n"
     ]
    },
    {
     "name": "stdout",
     "output_type": "stream",
     "text": [
      "\n",
      "27x27 Results:\n",
      "Accuracy: 97.00%\n",
      "Avg prediction | Perc: 0.927\n",
      "Avg prediction | Non-Perc: 0.054\n"
     ]
    },
    {
     "name": "stderr",
     "output_type": "stream",
     "text": [
      "Testing 81x81: 100%|█████████████████████████████████████████████████████████████████████████████| 100/100 [00:00<00:00, 761.09it/s]\n"
     ]
    },
    {
     "name": "stdout",
     "output_type": "stream",
     "text": [
      "\n",
      "81x81 Results:\n",
      "Accuracy: 2.00%\n",
      "Avg prediction | Perc: 0.043\n",
      "Avg prediction | Non-Perc: 0.980\n"
     ]
    },
    {
     "name": "stderr",
     "output_type": "stream",
     "text": [
      "Testing 27x27: 100%|████████████████████████████████████████████████████████████████████████████| 200/200 [00:00<00:00, 1522.85it/s]\n"
     ]
    },
    {
     "name": "stdout",
     "output_type": "stream",
     "text": [
      "\n",
      "27x27 Results:\n",
      "Accuracy: 73.00%\n",
      "Avg prediction | Perc: 0.676\n",
      "Avg prediction | Non-Perc: 0.466\n",
      "\n",
      "Running 3^4 - Run 1/10\n"
     ]
    },
    {
     "name": "stderr",
     "output_type": "stream",
     "text": [
      "Generating data: 100%|██████████████████████████████████████████████████████████████████████| 10000/10000 [00:03<00:00, 3019.14it/s]\n",
      "Training: 100%|████████████████████████████████████████████████████████████████████████████████| 1000/1000 [00:03<00:00, 317.91it/s]\n",
      "Training: 100%|████████████████████████████████████████████████████████████████████████████████| 1000/1000 [00:03<00:00, 316.18it/s]\n",
      "Training: 100%|████████████████████████████████████████████████████████████████████████████████| 1000/1000 [00:02<00:00, 334.78it/s]\n",
      "Training: 100%|████████████████████████████████████████████████████████████████████████████████| 1000/1000 [00:03<00:00, 326.92it/s]\n",
      "Training: 100%|████████████████████████████████████████████████████████████████████████████████| 1000/1000 [00:03<00:00, 326.57it/s]\n",
      "Testing 27x27: 100%|████████████████████████████████████████████████████████████████████████████| 100/100 [00:00<00:00, 1600.00it/s]\n"
     ]
    },
    {
     "name": "stdout",
     "output_type": "stream",
     "text": [
      "\n",
      "27x27 Results:\n",
      "Accuracy: 60.00%\n",
      "Avg prediction | Perc: 0.157\n",
      "Avg prediction | Non-Perc: 0.356\n"
     ]
    },
    {
     "name": "stderr",
     "output_type": "stream",
     "text": [
      "Testing 81x81: 100%|████████████████████████████████████████████████████████████████████████████| 100/100 [00:00<00:00, 1085.01it/s]\n"
     ]
    },
    {
     "name": "stdout",
     "output_type": "stream",
     "text": [
      "\n",
      "81x81 Results:\n",
      "Accuracy: 99.00%\n",
      "Avg prediction | Perc: 0.720\n",
      "Avg prediction | Non-Perc: 0.177\n"
     ]
    },
    {
     "name": "stderr",
     "output_type": "stream",
     "text": [
      "Testing 243x243: 100%|███████████████████████████████████████████████████████████████████████████| 100/100 [00:00<00:00, 308.37it/s]\n"
     ]
    },
    {
     "name": "stdout",
     "output_type": "stream",
     "text": [
      "\n",
      "243x243 Results:\n",
      "Accuracy: 20.00%\n",
      "Avg prediction | Perc: 0.295\n",
      "Avg prediction | Non-Perc: 0.520\n"
     ]
    },
    {
     "name": "stderr",
     "output_type": "stream",
     "text": [
      "Testing 81x81: 100%|████████████████████████████████████████████████████████████████████████████| 200/200 [00:00<00:00, 1100.34it/s]"
     ]
    },
    {
     "name": "stdout",
     "output_type": "stream",
     "text": [
      "\n",
      "81x81 Results:\n",
      "Accuracy: 66.50%\n",
      "Avg prediction | Perc: 0.572\n",
      "Avg prediction | Non-Perc: 0.492\n"
     ]
    },
    {
     "name": "stderr",
     "output_type": "stream",
     "text": [
      "\n"
     ]
    },
    {
     "name": "stdout",
     "output_type": "stream",
     "text": [
      "\n",
      "Running 3^4 - Run 2/10\n"
     ]
    },
    {
     "name": "stderr",
     "output_type": "stream",
     "text": [
      "Generating data: 100%|██████████████████████████████████████████████████████████████████████| 10000/10000 [00:03<00:00, 3035.47it/s]\n",
      "Training: 100%|████████████████████████████████████████████████████████████████████████████████| 1000/1000 [00:03<00:00, 316.48it/s]\n",
      "Training: 100%|████████████████████████████████████████████████████████████████████████████████| 1000/1000 [00:03<00:00, 321.62it/s]\n",
      "Training: 100%|████████████████████████████████████████████████████████████████████████████████| 1000/1000 [00:03<00:00, 319.23it/s]\n",
      "Training: 100%|████████████████████████████████████████████████████████████████████████████████| 1000/1000 [00:03<00:00, 317.97it/s]\n",
      "Training: 100%|████████████████████████████████████████████████████████████████████████████████| 1000/1000 [00:03<00:00, 324.27it/s]\n",
      "Testing 27x27: 100%|████████████████████████████████████████████████████████████████████████████| 100/100 [00:00<00:00, 1564.16it/s]\n"
     ]
    },
    {
     "name": "stdout",
     "output_type": "stream",
     "text": [
      "\n",
      "27x27 Results:\n",
      "Accuracy: 47.00%\n",
      "Avg prediction | Perc: 0.182\n",
      "Avg prediction | Non-Perc: 0.371\n"
     ]
    },
    {
     "name": "stderr",
     "output_type": "stream",
     "text": [
      "Testing 81x81: 100%|████████████████████████████████████████████████████████████████████████████| 100/100 [00:00<00:00, 1066.05it/s]\n"
     ]
    },
    {
     "name": "stdout",
     "output_type": "stream",
     "text": [
      "\n",
      "81x81 Results:\n",
      "Accuracy: 98.00%\n",
      "Avg prediction | Perc: 0.670\n",
      "Avg prediction | Non-Perc: 0.194\n"
     ]
    },
    {
     "name": "stderr",
     "output_type": "stream",
     "text": [
      "Testing 243x243: 100%|███████████████████████████████████████████████████████████████████████████| 100/100 [00:00<00:00, 325.07it/s]\n"
     ]
    },
    {
     "name": "stdout",
     "output_type": "stream",
     "text": [
      "\n",
      "243x243 Results:\n",
      "Accuracy: 11.00%\n",
      "Avg prediction | Perc: 0.265\n",
      "Avg prediction | Non-Perc: 0.575\n"
     ]
    },
    {
     "name": "stderr",
     "output_type": "stream",
     "text": [
      "Testing 81x81: 100%|████████████████████████████████████████████████████████████████████████████| 200/200 [00:00<00:00, 1054.49it/s]\n"
     ]
    },
    {
     "name": "stdout",
     "output_type": "stream",
     "text": [
      "\n",
      "81x81 Results:\n",
      "Accuracy: 42.50%\n",
      "Avg prediction | Perc: 0.420\n",
      "Avg prediction | Non-Perc: 0.353\n",
      "\n",
      "Running 3^4 - Run 3/10\n"
     ]
    },
    {
     "name": "stderr",
     "output_type": "stream",
     "text": [
      "Generating data: 100%|██████████████████████████████████████████████████████████████████████| 10000/10000 [00:03<00:00, 3065.89it/s]\n",
      "Training: 100%|████████████████████████████████████████████████████████████████████████████████| 1000/1000 [00:03<00:00, 317.14it/s]\n",
      "Training: 100%|████████████████████████████████████████████████████████████████████████████████| 1000/1000 [00:03<00:00, 298.10it/s]\n",
      "Training: 100%|████████████████████████████████████████████████████████████████████████████████| 1000/1000 [00:03<00:00, 289.12it/s]\n",
      "Training: 100%|████████████████████████████████████████████████████████████████████████████████| 1000/1000 [00:03<00:00, 311.54it/s]\n",
      "Training: 100%|████████████████████████████████████████████████████████████████████████████████| 1000/1000 [00:03<00:00, 329.49it/s]\n",
      "Testing 27x27: 100%|████████████████████████████████████████████████████████████████████████████| 100/100 [00:00<00:00, 1674.81it/s]\n"
     ]
    },
    {
     "name": "stdout",
     "output_type": "stream",
     "text": [
      "\n",
      "27x27 Results:\n",
      "Accuracy: 36.00%\n",
      "Avg prediction | Perc: 0.183\n",
      "Avg prediction | Non-Perc: 0.406\n"
     ]
    },
    {
     "name": "stderr",
     "output_type": "stream",
     "text": [
      "Testing 81x81: 100%|████████████████████████████████████████████████████████████████████████████| 100/100 [00:00<00:00, 1183.56it/s]\n"
     ]
    },
    {
     "name": "stdout",
     "output_type": "stream",
     "text": [
      "\n",
      "81x81 Results:\n",
      "Accuracy: 99.00%\n",
      "Avg prediction | Perc: 0.664\n",
      "Avg prediction | Non-Perc: 0.205\n"
     ]
    },
    {
     "name": "stderr",
     "output_type": "stream",
     "text": [
      "Testing 243x243: 100%|███████████████████████████████████████████████████████████████████████████| 100/100 [00:00<00:00, 322.89it/s]\n"
     ]
    },
    {
     "name": "stdout",
     "output_type": "stream",
     "text": [
      "\n",
      "243x243 Results:\n",
      "Accuracy: 27.00%\n",
      "Avg prediction | Perc: 0.280\n",
      "Avg prediction | Non-Perc: 0.489\n"
     ]
    },
    {
     "name": "stderr",
     "output_type": "stream",
     "text": [
      "Testing 81x81: 100%|████████████████████████████████████████████████████████████████████████████| 200/200 [00:00<00:00, 1038.83it/s]\n"
     ]
    },
    {
     "name": "stdout",
     "output_type": "stream",
     "text": [
      "\n",
      "81x81 Results:\n",
      "Accuracy: 70.50%\n",
      "Avg prediction | Perc: 0.542\n",
      "Avg prediction | Non-Perc: 0.500\n",
      "\n",
      "Running 3^4 - Run 4/10\n"
     ]
    },
    {
     "name": "stderr",
     "output_type": "stream",
     "text": [
      "Generating data: 100%|██████████████████████████████████████████████████████████████████████| 10000/10000 [00:03<00:00, 3134.89it/s]\n",
      "Training: 100%|████████████████████████████████████████████████████████████████████████████████| 1000/1000 [00:03<00:00, 331.70it/s]\n",
      "Training: 100%|████████████████████████████████████████████████████████████████████████████████| 1000/1000 [00:02<00:00, 335.17it/s]\n",
      "Training: 100%|████████████████████████████████████████████████████████████████████████████████| 1000/1000 [00:03<00:00, 330.53it/s]\n",
      "Training: 100%|████████████████████████████████████████████████████████████████████████████████| 1000/1000 [00:03<00:00, 301.24it/s]\n",
      "Training: 100%|████████████████████████████████████████████████████████████████████████████████| 1000/1000 [00:03<00:00, 320.68it/s]\n",
      "Testing 27x27: 100%|████████████████████████████████████████████████████████████████████████████| 100/100 [00:00<00:00, 2112.22it/s]\n"
     ]
    },
    {
     "name": "stdout",
     "output_type": "stream",
     "text": [
      "\n",
      "27x27 Results:\n",
      "Accuracy: 55.00%\n",
      "Avg prediction | Perc: 0.212\n",
      "Avg prediction | Non-Perc: 0.385\n"
     ]
    },
    {
     "name": "stderr",
     "output_type": "stream",
     "text": [
      "Testing 81x81: 100%|████████████████████████████████████████████████████████████████████████████| 100/100 [00:00<00:00, 1060.94it/s]\n"
     ]
    },
    {
     "name": "stdout",
     "output_type": "stream",
     "text": [
      "\n",
      "81x81 Results:\n",
      "Accuracy: 85.00%\n",
      "Avg prediction | Perc: 0.475\n",
      "Avg prediction | Non-Perc: 0.188\n"
     ]
    },
    {
     "name": "stderr",
     "output_type": "stream",
     "text": [
      "Testing 243x243: 100%|███████████████████████████████████████████████████████████████████████████| 100/100 [00:00<00:00, 300.40it/s]\n"
     ]
    },
    {
     "name": "stdout",
     "output_type": "stream",
     "text": [
      "\n",
      "243x243 Results:\n",
      "Accuracy: 3.00%\n",
      "Avg prediction | Perc: 0.227\n",
      "Avg prediction | Non-Perc: 0.532\n"
     ]
    },
    {
     "name": "stderr",
     "output_type": "stream",
     "text": [
      "Testing 81x81: 100%|████████████████████████████████████████████████████████████████████████████| 200/200 [00:00<00:00, 1055.96it/s]\n"
     ]
    },
    {
     "name": "stdout",
     "output_type": "stream",
     "text": [
      "\n",
      "81x81 Results:\n",
      "Accuracy: 32.00%\n",
      "Avg prediction | Perc: 0.247\n",
      "Avg prediction | Non-Perc: 0.217\n",
      "\n",
      "Running 3^4 - Run 5/10\n"
     ]
    },
    {
     "name": "stderr",
     "output_type": "stream",
     "text": [
      "Generating data: 100%|██████████████████████████████████████████████████████████████████████| 10000/10000 [00:03<00:00, 3049.37it/s]\n",
      "Training: 100%|████████████████████████████████████████████████████████████████████████████████| 1000/1000 [00:03<00:00, 325.01it/s]\n",
      "Training: 100%|████████████████████████████████████████████████████████████████████████████████| 1000/1000 [00:03<00:00, 321.74it/s]\n",
      "Training: 100%|████████████████████████████████████████████████████████████████████████████████| 1000/1000 [00:03<00:00, 303.02it/s]\n",
      "Training: 100%|████████████████████████████████████████████████████████████████████████████████| 1000/1000 [00:03<00:00, 312.96it/s]\n",
      "Training: 100%|████████████████████████████████████████████████████████████████████████████████| 1000/1000 [00:03<00:00, 322.58it/s]\n",
      "Testing 27x27: 100%|████████████████████████████████████████████████████████████████████████████| 100/100 [00:00<00:00, 1559.34it/s]\n"
     ]
    },
    {
     "name": "stdout",
     "output_type": "stream",
     "text": [
      "\n",
      "27x27 Results:\n",
      "Accuracy: 42.00%\n",
      "Avg prediction | Perc: 0.167\n",
      "Avg prediction | Non-Perc: 0.390\n"
     ]
    },
    {
     "name": "stderr",
     "output_type": "stream",
     "text": [
      "Testing 81x81: 100%|█████████████████████████████████████████████████████████████████████████████| 100/100 [00:00<00:00, 891.22it/s]\n"
     ]
    },
    {
     "name": "stdout",
     "output_type": "stream",
     "text": [
      "\n",
      "81x81 Results:\n",
      "Accuracy: 98.00%\n",
      "Avg prediction | Perc: 0.758\n",
      "Avg prediction | Non-Perc: 0.196\n"
     ]
    },
    {
     "name": "stderr",
     "output_type": "stream",
     "text": [
      "Testing 243x243: 100%|███████████████████████████████████████████████████████████████████████████| 100/100 [00:00<00:00, 281.00it/s]\n"
     ]
    },
    {
     "name": "stdout",
     "output_type": "stream",
     "text": [
      "\n",
      "243x243 Results:\n",
      "Accuracy: 20.00%\n",
      "Avg prediction | Perc: 0.312\n",
      "Avg prediction | Non-Perc: 0.534\n"
     ]
    },
    {
     "name": "stderr",
     "output_type": "stream",
     "text": [
      "Testing 81x81: 100%|█████████████████████████████████████████████████████████████████████████████| 200/200 [00:00<00:00, 925.93it/s]\n"
     ]
    },
    {
     "name": "stdout",
     "output_type": "stream",
     "text": [
      "\n",
      "81x81 Results:\n",
      "Accuracy: 73.50%\n",
      "Avg prediction | Perc: 0.618\n",
      "Avg prediction | Non-Perc: 0.522\n",
      "\n",
      "Running 3^4 - Run 6/10\n"
     ]
    },
    {
     "name": "stderr",
     "output_type": "stream",
     "text": [
      "Generating data: 100%|██████████████████████████████████████████████████████████████████████| 10000/10000 [00:03<00:00, 3061.61it/s]\n",
      "Training: 100%|████████████████████████████████████████████████████████████████████████████████| 1000/1000 [00:03<00:00, 310.75it/s]\n",
      "Training: 100%|████████████████████████████████████████████████████████████████████████████████| 1000/1000 [00:03<00:00, 329.56it/s]\n",
      "Training: 100%|████████████████████████████████████████████████████████████████████████████████| 1000/1000 [00:03<00:00, 327.24it/s]\n",
      "Training: 100%|████████████████████████████████████████████████████████████████████████████████| 1000/1000 [00:03<00:00, 321.49it/s]\n",
      "Training: 100%|████████████████████████████████████████████████████████████████████████████████| 1000/1000 [00:03<00:00, 320.52it/s]\n",
      "Testing 27x27: 100%|████████████████████████████████████████████████████████████████████████████| 100/100 [00:00<00:00, 2132.89it/s]\n"
     ]
    },
    {
     "name": "stdout",
     "output_type": "stream",
     "text": [
      "\n",
      "27x27 Results:\n",
      "Accuracy: 95.00%\n",
      "Avg prediction | Perc: 0.905\n",
      "Avg prediction | Non-Perc: 0.056\n"
     ]
    },
    {
     "name": "stderr",
     "output_type": "stream",
     "text": [
      "Testing 81x81: 100%|█████████████████████████████████████████████████████████████████████████████| 100/100 [00:00<00:00, 971.08it/s]\n"
     ]
    },
    {
     "name": "stdout",
     "output_type": "stream",
     "text": [
      "\n",
      "81x81 Results:\n",
      "Accuracy: 100.00%\n",
      "Avg prediction | Perc: 0.991\n",
      "Avg prediction | Non-Perc: 0.008\n"
     ]
    },
    {
     "name": "stderr",
     "output_type": "stream",
     "text": [
      "Testing 243x243: 100%|███████████████████████████████████████████████████████████████████████████| 100/100 [00:00<00:00, 315.12it/s]\n"
     ]
    },
    {
     "name": "stdout",
     "output_type": "stream",
     "text": [
      "\n",
      "243x243 Results:\n",
      "Accuracy: 99.00%\n",
      "Avg prediction | Perc: 0.995\n",
      "Avg prediction | Non-Perc: 0.024\n"
     ]
    },
    {
     "name": "stderr",
     "output_type": "stream",
     "text": [
      "Testing 81x81: 100%|████████████████████████████████████████████████████████████████████████████| 200/200 [00:00<00:00, 1056.34it/s]\n"
     ]
    },
    {
     "name": "stdout",
     "output_type": "stream",
     "text": [
      "\n",
      "81x81 Results:\n",
      "Accuracy: 73.00%\n",
      "Avg prediction | Perc: 0.886\n",
      "Avg prediction | Non-Perc: 0.775\n",
      "\n",
      "Running 3^4 - Run 7/10\n"
     ]
    },
    {
     "name": "stderr",
     "output_type": "stream",
     "text": [
      "Generating data: 100%|██████████████████████████████████████████████████████████████████████| 10000/10000 [00:03<00:00, 2942.55it/s]\n",
      "Training: 100%|████████████████████████████████████████████████████████████████████████████████| 1000/1000 [00:03<00:00, 323.35it/s]\n",
      "Training: 100%|████████████████████████████████████████████████████████████████████████████████| 1000/1000 [00:03<00:00, 326.29it/s]\n",
      "Training: 100%|████████████████████████████████████████████████████████████████████████████████| 1000/1000 [00:03<00:00, 322.83it/s]\n",
      "Training: 100%|████████████████████████████████████████████████████████████████████████████████| 1000/1000 [00:03<00:00, 329.06it/s]\n",
      "Training: 100%|████████████████████████████████████████████████████████████████████████████████| 1000/1000 [00:03<00:00, 318.02it/s]\n",
      "Testing 27x27: 100%|████████████████████████████████████████████████████████████████████████████| 100/100 [00:00<00:00, 1793.27it/s]\n"
     ]
    },
    {
     "name": "stdout",
     "output_type": "stream",
     "text": [
      "\n",
      "27x27 Results:\n",
      "Accuracy: 43.00%\n",
      "Avg prediction | Perc: 0.142\n",
      "Avg prediction | Non-Perc: 0.399\n"
     ]
    },
    {
     "name": "stderr",
     "output_type": "stream",
     "text": [
      "Testing 81x81: 100%|████████████████████████████████████████████████████████████████████████████| 100/100 [00:00<00:00, 1058.08it/s]\n"
     ]
    },
    {
     "name": "stdout",
     "output_type": "stream",
     "text": [
      "\n",
      "81x81 Results:\n",
      "Accuracy: 98.00%\n",
      "Avg prediction | Perc: 0.733\n",
      "Avg prediction | Non-Perc: 0.175\n"
     ]
    },
    {
     "name": "stderr",
     "output_type": "stream",
     "text": [
      "Testing 243x243: 100%|███████████████████████████████████████████████████████████████████████████| 100/100 [00:00<00:00, 297.84it/s]\n"
     ]
    },
    {
     "name": "stdout",
     "output_type": "stream",
     "text": [
      "\n",
      "243x243 Results:\n",
      "Accuracy: 32.00%\n",
      "Avg prediction | Perc: 0.298\n",
      "Avg prediction | Non-Perc: 0.454\n"
     ]
    },
    {
     "name": "stderr",
     "output_type": "stream",
     "text": [
      "Testing 81x81: 100%|████████████████████████████████████████████████████████████████████████████| 200/200 [00:00<00:00, 1045.77it/s]\n"
     ]
    },
    {
     "name": "stdout",
     "output_type": "stream",
     "text": [
      "\n",
      "81x81 Results:\n",
      "Accuracy: 77.00%\n",
      "Avg prediction | Perc: 0.614\n",
      "Avg prediction | Non-Perc: 0.497\n",
      "\n",
      "Running 3^4 - Run 8/10\n"
     ]
    },
    {
     "name": "stderr",
     "output_type": "stream",
     "text": [
      "Generating data: 100%|██████████████████████████████████████████████████████████████████████| 10000/10000 [00:03<00:00, 2986.36it/s]\n",
      "Training: 100%|████████████████████████████████████████████████████████████████████████████████| 1000/1000 [00:03<00:00, 313.95it/s]\n",
      "Training: 100%|████████████████████████████████████████████████████████████████████████████████| 1000/1000 [00:03<00:00, 318.18it/s]\n",
      "Training: 100%|████████████████████████████████████████████████████████████████████████████████| 1000/1000 [00:03<00:00, 316.72it/s]\n",
      "Training: 100%|████████████████████████████████████████████████████████████████████████████████| 1000/1000 [00:03<00:00, 302.39it/s]\n",
      "Training: 100%|████████████████████████████████████████████████████████████████████████████████| 1000/1000 [00:03<00:00, 309.64it/s]\n",
      "Testing 27x27: 100%|████████████████████████████████████████████████████████████████████████████| 100/100 [00:00<00:00, 1684.02it/s]\n"
     ]
    },
    {
     "name": "stdout",
     "output_type": "stream",
     "text": [
      "\n",
      "27x27 Results:\n",
      "Accuracy: 47.00%\n",
      "Avg prediction | Perc: 0.189\n",
      "Avg prediction | Non-Perc: 0.386\n"
     ]
    },
    {
     "name": "stderr",
     "output_type": "stream",
     "text": [
      "Testing 81x81: 100%|████████████████████████████████████████████████████████████████████████████| 100/100 [00:00<00:00, 1111.47it/s]\n"
     ]
    },
    {
     "name": "stdout",
     "output_type": "stream",
     "text": [
      "\n",
      "81x81 Results:\n",
      "Accuracy: 92.00%\n",
      "Avg prediction | Perc: 0.637\n",
      "Avg prediction | Non-Perc: 0.194\n"
     ]
    },
    {
     "name": "stderr",
     "output_type": "stream",
     "text": [
      "Testing 243x243: 100%|███████████████████████████████████████████████████████████████████████████| 100/100 [00:00<00:00, 298.96it/s]\n"
     ]
    },
    {
     "name": "stdout",
     "output_type": "stream",
     "text": [
      "\n",
      "243x243 Results:\n",
      "Accuracy: 18.00%\n",
      "Avg prediction | Perc: 0.271\n",
      "Avg prediction | Non-Perc: 0.533\n"
     ]
    },
    {
     "name": "stderr",
     "output_type": "stream",
     "text": [
      "Testing 81x81: 100%|█████████████████████████████████████████████████████████████████████████████| 200/200 [00:00<00:00, 924.80it/s]\n"
     ]
    },
    {
     "name": "stdout",
     "output_type": "stream",
     "text": [
      "\n",
      "81x81 Results:\n",
      "Accuracy: 31.50%\n",
      "Avg prediction | Perc: 0.243\n",
      "Avg prediction | Non-Perc: 0.202\n",
      "\n",
      "Running 3^4 - Run 9/10\n"
     ]
    },
    {
     "name": "stderr",
     "output_type": "stream",
     "text": [
      "Generating data: 100%|██████████████████████████████████████████████████████████████████████| 10000/10000 [00:03<00:00, 2945.15it/s]\n",
      "Training: 100%|████████████████████████████████████████████████████████████████████████████████| 1000/1000 [00:03<00:00, 312.89it/s]\n",
      "Training: 100%|████████████████████████████████████████████████████████████████████████████████| 1000/1000 [00:03<00:00, 303.49it/s]\n",
      "Training: 100%|████████████████████████████████████████████████████████████████████████████████| 1000/1000 [00:03<00:00, 308.62it/s]\n",
      "Training: 100%|████████████████████████████████████████████████████████████████████████████████| 1000/1000 [00:03<00:00, 309.67it/s]\n",
      "Training: 100%|████████████████████████████████████████████████████████████████████████████████| 1000/1000 [00:03<00:00, 331.65it/s]\n",
      "Testing 27x27: 100%|████████████████████████████████████████████████████████████████████████████| 100/100 [00:00<00:00, 2088.88it/s]\n"
     ]
    },
    {
     "name": "stdout",
     "output_type": "stream",
     "text": [
      "\n",
      "27x27 Results:\n",
      "Accuracy: 41.00%\n",
      "Avg prediction | Perc: 0.166\n",
      "Avg prediction | Non-Perc: 0.372\n"
     ]
    },
    {
     "name": "stderr",
     "output_type": "stream",
     "text": [
      "Testing 81x81: 100%|████████████████████████████████████████████████████████████████████████████| 100/100 [00:00<00:00, 1088.51it/s]\n"
     ]
    },
    {
     "name": "stdout",
     "output_type": "stream",
     "text": [
      "\n",
      "81x81 Results:\n",
      "Accuracy: 94.00%\n",
      "Avg prediction | Perc: 0.652\n",
      "Avg prediction | Non-Perc: 0.199\n"
     ]
    },
    {
     "name": "stderr",
     "output_type": "stream",
     "text": [
      "Testing 243x243: 100%|███████████████████████████████████████████████████████████████████████████| 100/100 [00:00<00:00, 311.16it/s]\n"
     ]
    },
    {
     "name": "stdout",
     "output_type": "stream",
     "text": [
      "\n",
      "243x243 Results:\n",
      "Accuracy: 23.00%\n",
      "Avg prediction | Perc: 0.268\n",
      "Avg prediction | Non-Perc: 0.548\n"
     ]
    },
    {
     "name": "stderr",
     "output_type": "stream",
     "text": [
      "Testing 81x81: 100%|████████████████████████████████████████████████████████████████████████████| 200/200 [00:00<00:00, 1084.16it/s]\n"
     ]
    },
    {
     "name": "stdout",
     "output_type": "stream",
     "text": [
      "\n",
      "81x81 Results:\n",
      "Accuracy: 41.00%\n",
      "Avg prediction | Perc: 0.354\n",
      "Avg prediction | Non-Perc: 0.272\n",
      "\n",
      "Running 3^4 - Run 10/10\n"
     ]
    },
    {
     "name": "stderr",
     "output_type": "stream",
     "text": [
      "Generating data: 100%|██████████████████████████████████████████████████████████████████████| 10000/10000 [00:03<00:00, 3121.07it/s]\n",
      "Training: 100%|████████████████████████████████████████████████████████████████████████████████| 1000/1000 [00:03<00:00, 329.25it/s]\n",
      "Training: 100%|████████████████████████████████████████████████████████████████████████████████| 1000/1000 [00:03<00:00, 326.63it/s]\n",
      "Training: 100%|████████████████████████████████████████████████████████████████████████████████| 1000/1000 [00:03<00:00, 328.77it/s]\n",
      "Training: 100%|████████████████████████████████████████████████████████████████████████████████| 1000/1000 [00:03<00:00, 330.53it/s]\n",
      "Training: 100%|████████████████████████████████████████████████████████████████████████████████| 1000/1000 [00:02<00:00, 335.87it/s]\n",
      "Testing 27x27: 100%|████████████████████████████████████████████████████████████████████████████| 100/100 [00:00<00:00, 2109.86it/s]\n"
     ]
    },
    {
     "name": "stdout",
     "output_type": "stream",
     "text": [
      "\n",
      "27x27 Results:\n",
      "Accuracy: 61.00%\n",
      "Avg prediction | Perc: 0.400\n",
      "Avg prediction | Non-Perc: 0.400\n"
     ]
    },
    {
     "name": "stderr",
     "output_type": "stream",
     "text": [
      "Testing 81x81: 100%|████████████████████████████████████████████████████████████████████████████| 100/100 [00:00<00:00, 1143.19it/s]\n"
     ]
    },
    {
     "name": "stdout",
     "output_type": "stream",
     "text": [
      "\n",
      "81x81 Results:\n",
      "Accuracy: 63.00%\n",
      "Avg prediction | Perc: 0.400\n",
      "Avg prediction | Non-Perc: 0.400\n"
     ]
    },
    {
     "name": "stderr",
     "output_type": "stream",
     "text": [
      "Testing 243x243: 100%|███████████████████████████████████████████████████████████████████████████| 100/100 [00:00<00:00, 309.43it/s]\n"
     ]
    },
    {
     "name": "stdout",
     "output_type": "stream",
     "text": [
      "\n",
      "243x243 Results:\n",
      "Accuracy: 50.00%\n",
      "Avg prediction | Perc: 0.400\n",
      "Avg prediction | Non-Perc: 0.400\n"
     ]
    },
    {
     "name": "stderr",
     "output_type": "stream",
     "text": [
      "Testing 81x81: 100%|████████████████████████████████████████████████████████████████████████████| 200/200 [00:00<00:00, 1042.86it/s]\n"
     ]
    },
    {
     "name": "stdout",
     "output_type": "stream",
     "text": [
      "\n",
      "81x81 Results:\n",
      "Accuracy: 27.00%\n",
      "Avg prediction | Perc: 0.400\n",
      "Avg prediction | Non-Perc: 0.400\n",
      "\n",
      "Running 4^2 - Run 1/10\n"
     ]
    },
    {
     "name": "stderr",
     "output_type": "stream",
     "text": [
      "Generating data: 100%|██████████████████████████████████████████████████████████████████████| 10000/10000 [00:01<00:00, 9858.55it/s]\n",
      "Training: 100%|████████████████████████████████████████████████████████████████████████████████| 1000/1000 [00:01<00:00, 595.04it/s]\n",
      "Training: 100%|████████████████████████████████████████████████████████████████████████████████| 1000/1000 [00:01<00:00, 570.31it/s]\n",
      "Training: 100%|████████████████████████████████████████████████████████████████████████████████| 1000/1000 [00:01<00:00, 613.03it/s]\n",
      "Training: 100%|████████████████████████████████████████████████████████████████████████████████| 1000/1000 [00:01<00:00, 609.22it/s]\n",
      "Training: 100%|████████████████████████████████████████████████████████████████████████████████| 1000/1000 [00:01<00:00, 613.02it/s]\n",
      "Testing 4x4: 100%|██████████████████████████████████████████████████████████████████████████████| 100/100 [00:00<00:00, 4080.22it/s]\n"
     ]
    },
    {
     "name": "stdout",
     "output_type": "stream",
     "text": [
      "\n",
      "4x4 Results:\n",
      "Accuracy: 93.00%\n",
      "Avg prediction | Perc: 0.698\n",
      "Avg prediction | Non-Perc: 0.301\n"
     ]
    },
    {
     "name": "stderr",
     "output_type": "stream",
     "text": [
      "Testing 16x16: 100%|████████████████████████████████████████████████████████████████████████████| 100/100 [00:00<00:00, 2448.34it/s]\n"
     ]
    },
    {
     "name": "stdout",
     "output_type": "stream",
     "text": [
      "\n",
      "16x16 Results:\n",
      "Accuracy: 95.00%\n",
      "Avg prediction | Perc: 0.925\n",
      "Avg prediction | Non-Perc: 0.091\n"
     ]
    },
    {
     "name": "stderr",
     "output_type": "stream",
     "text": [
      "Testing 64x64: 100%|████████████████████████████████████████████████████████████████████████████| 100/100 [00:00<00:00, 1379.80it/s]\n"
     ]
    },
    {
     "name": "stdout",
     "output_type": "stream",
     "text": [
      "\n",
      "64x64 Results:\n",
      "Accuracy: 95.00%\n",
      "Avg prediction | Perc: 1.000\n",
      "Avg prediction | Non-Perc: 0.077\n"
     ]
    },
    {
     "name": "stderr",
     "output_type": "stream",
     "text": [
      "Testing 16x16: 100%|████████████████████████████████████████████████████████████████████████████| 200/200 [00:00<00:00, 2355.40it/s]\n"
     ]
    },
    {
     "name": "stdout",
     "output_type": "stream",
     "text": [
      "\n",
      "16x16 Results:\n",
      "Accuracy: 71.50%\n",
      "Avg prediction | Perc: 0.845\n",
      "Avg prediction | Non-Perc: 0.630\n",
      "\n",
      "Running 4^2 - Run 2/10\n"
     ]
    },
    {
     "name": "stderr",
     "output_type": "stream",
     "text": [
      "Generating data: 100%|██████████████████████████████████████████████████████████████████████| 10000/10000 [00:01<00:00, 9898.01it/s]\n",
      "Training: 100%|████████████████████████████████████████████████████████████████████████████████| 1000/1000 [00:01<00:00, 604.61it/s]\n",
      "Training: 100%|████████████████████████████████████████████████████████████████████████████████| 1000/1000 [00:01<00:00, 618.17it/s]\n",
      "Training: 100%|████████████████████████████████████████████████████████████████████████████████| 1000/1000 [00:01<00:00, 606.83it/s]\n",
      "Training: 100%|████████████████████████████████████████████████████████████████████████████████| 1000/1000 [00:01<00:00, 615.47it/s]\n",
      "Training: 100%|████████████████████████████████████████████████████████████████████████████████| 1000/1000 [00:01<00:00, 618.51it/s]\n",
      "Testing 4x4: 100%|██████████████████████████████████████████████████████████████████████████████| 100/100 [00:00<00:00, 3200.17it/s]\n"
     ]
    },
    {
     "name": "stdout",
     "output_type": "stream",
     "text": [
      "\n",
      "4x4 Results:\n",
      "Accuracy: 94.00%\n",
      "Avg prediction | Perc: 0.709\n",
      "Avg prediction | Non-Perc: 0.274\n"
     ]
    },
    {
     "name": "stderr",
     "output_type": "stream",
     "text": [
      "Testing 16x16: 100%|████████████████████████████████████████████████████████████████████████████| 100/100 [00:00<00:00, 2266.31it/s]\n"
     ]
    },
    {
     "name": "stdout",
     "output_type": "stream",
     "text": [
      "\n",
      "16x16 Results:\n",
      "Accuracy: 95.00%\n",
      "Avg prediction | Perc: 0.879\n",
      "Avg prediction | Non-Perc: 0.030\n"
     ]
    },
    {
     "name": "stderr",
     "output_type": "stream",
     "text": [
      "Testing 64x64: 100%|████████████████████████████████████████████████████████████████████████████| 100/100 [00:00<00:00, 1549.03it/s]\n"
     ]
    },
    {
     "name": "stdout",
     "output_type": "stream",
     "text": [
      "\n",
      "64x64 Results:\n",
      "Accuracy: 96.00%\n",
      "Avg prediction | Perc: 0.890\n",
      "Avg prediction | Non-Perc: 0.001\n"
     ]
    },
    {
     "name": "stderr",
     "output_type": "stream",
     "text": [
      "Testing 16x16: 100%|████████████████████████████████████████████████████████████████████████████| 200/200 [00:00<00:00, 2732.56it/s]\n"
     ]
    },
    {
     "name": "stdout",
     "output_type": "stream",
     "text": [
      "\n",
      "16x16 Results:\n",
      "Accuracy: 71.00%\n",
      "Avg prediction | Perc: 0.623\n",
      "Avg prediction | Non-Perc: 0.430\n",
      "\n",
      "Running 4^2 - Run 3/10\n"
     ]
    },
    {
     "name": "stderr",
     "output_type": "stream",
     "text": [
      "Generating data: 100%|██████████████████████████████████████████████████████████████████████| 10000/10000 [00:01<00:00, 9810.27it/s]\n",
      "Training: 100%|████████████████████████████████████████████████████████████████████████████████| 1000/1000 [00:01<00:00, 551.03it/s]\n",
      "Training: 100%|████████████████████████████████████████████████████████████████████████████████| 1000/1000 [00:01<00:00, 505.76it/s]\n",
      "Training: 100%|████████████████████████████████████████████████████████████████████████████████| 1000/1000 [00:01<00:00, 554.13it/s]\n",
      "Training: 100%|████████████████████████████████████████████████████████████████████████████████| 1000/1000 [00:01<00:00, 559.12it/s]\n",
      "Training: 100%|████████████████████████████████████████████████████████████████████████████████| 1000/1000 [00:01<00:00, 567.39it/s]\n",
      "Testing 4x4: 100%|██████████████████████████████████████████████████████████████████████████████| 100/100 [00:00<00:00, 3199.90it/s]\n"
     ]
    },
    {
     "name": "stdout",
     "output_type": "stream",
     "text": [
      "\n",
      "4x4 Results:\n",
      "Accuracy: 91.00%\n",
      "Avg prediction | Perc: 0.722\n",
      "Avg prediction | Non-Perc: 0.336\n"
     ]
    },
    {
     "name": "stderr",
     "output_type": "stream",
     "text": [
      "Testing 16x16: 100%|████████████████████████████████████████████████████████████████████████████| 100/100 [00:00<00:00, 1936.89it/s]\n"
     ]
    },
    {
     "name": "stdout",
     "output_type": "stream",
     "text": [
      "\n",
      "16x16 Results:\n",
      "Accuracy: 95.00%\n",
      "Avg prediction | Perc: 0.939\n",
      "Avg prediction | Non-Perc: 0.093\n"
     ]
    },
    {
     "name": "stderr",
     "output_type": "stream",
     "text": [
      "Testing 64x64: 100%|████████████████████████████████████████████████████████████████████████████| 100/100 [00:00<00:00, 1727.46it/s]\n"
     ]
    },
    {
     "name": "stdout",
     "output_type": "stream",
     "text": [
      "\n",
      "64x64 Results:\n",
      "Accuracy: 95.00%\n",
      "Avg prediction | Perc: 0.997\n",
      "Avg prediction | Non-Perc: 0.080\n"
     ]
    },
    {
     "name": "stderr",
     "output_type": "stream",
     "text": [
      "Testing 16x16: 100%|████████████████████████████████████████████████████████████████████████████| 200/200 [00:00<00:00, 2559.01it/s]\n"
     ]
    },
    {
     "name": "stdout",
     "output_type": "stream",
     "text": [
      "\n",
      "16x16 Results:\n",
      "Accuracy: 75.50%\n",
      "Avg prediction | Perc: 0.799\n",
      "Avg prediction | Non-Perc: 0.612\n",
      "\n",
      "Running 4^2 - Run 4/10\n"
     ]
    },
    {
     "name": "stderr",
     "output_type": "stream",
     "text": [
      "Generating data: 100%|██████████████████████████████████████████████████████████████████████| 10000/10000 [00:01<00:00, 9332.89it/s]\n",
      "Training: 100%|████████████████████████████████████████████████████████████████████████████████| 1000/1000 [00:01<00:00, 560.87it/s]\n",
      "Training: 100%|████████████████████████████████████████████████████████████████████████████████| 1000/1000 [00:01<00:00, 587.74it/s]\n",
      "Training: 100%|████████████████████████████████████████████████████████████████████████████████| 1000/1000 [00:01<00:00, 567.46it/s]\n",
      "Training: 100%|████████████████████████████████████████████████████████████████████████████████| 1000/1000 [00:01<00:00, 573.17it/s]\n",
      "Training: 100%|████████████████████████████████████████████████████████████████████████████████| 1000/1000 [00:01<00:00, 573.20it/s]\n",
      "Testing 4x4: 100%|██████████████████████████████████████████████████████████████████████████████| 100/100 [00:00<00:00, 3125.04it/s]\n"
     ]
    },
    {
     "name": "stdout",
     "output_type": "stream",
     "text": [
      "\n",
      "4x4 Results:\n",
      "Accuracy: 94.00%\n",
      "Avg prediction | Perc: 0.693\n",
      "Avg prediction | Non-Perc: 0.278\n"
     ]
    },
    {
     "name": "stderr",
     "output_type": "stream",
     "text": [
      "Testing 16x16: 100%|████████████████████████████████████████████████████████████████████████████| 100/100 [00:00<00:00, 2449.21it/s]\n"
     ]
    },
    {
     "name": "stdout",
     "output_type": "stream",
     "text": [
      "\n",
      "16x16 Results:\n",
      "Accuracy: 94.00%\n",
      "Avg prediction | Perc: 0.963\n",
      "Avg prediction | Non-Perc: 0.080\n"
     ]
    },
    {
     "name": "stderr",
     "output_type": "stream",
     "text": [
      "Testing 64x64: 100%|████████████████████████████████████████████████████████████████████████████| 100/100 [00:00<00:00, 1306.84it/s]\n"
     ]
    },
    {
     "name": "stdout",
     "output_type": "stream",
     "text": [
      "\n",
      "64x64 Results:\n",
      "Accuracy: 97.00%\n",
      "Avg prediction | Perc: 0.996\n",
      "Avg prediction | Non-Perc: 0.049\n"
     ]
    },
    {
     "name": "stderr",
     "output_type": "stream",
     "text": [
      "Testing 16x16: 100%|████████████████████████████████████████████████████████████████████████████| 200/200 [00:00<00:00, 2110.36it/s]\n"
     ]
    },
    {
     "name": "stdout",
     "output_type": "stream",
     "text": [
      "\n",
      "16x16 Results:\n",
      "Accuracy: 71.50%\n",
      "Avg prediction | Perc: 0.857\n",
      "Avg prediction | Non-Perc: 0.705\n",
      "\n",
      "Running 4^2 - Run 5/10\n"
     ]
    },
    {
     "name": "stderr",
     "output_type": "stream",
     "text": [
      "Generating data: 100%|██████████████████████████████████████████████████████████████████████| 10000/10000 [00:01<00:00, 9104.59it/s]\n",
      "Training: 100%|████████████████████████████████████████████████████████████████████████████████| 1000/1000 [00:01<00:00, 558.87it/s]\n",
      "Training: 100%|████████████████████████████████████████████████████████████████████████████████| 1000/1000 [00:01<00:00, 603.49it/s]\n",
      "Training: 100%|████████████████████████████████████████████████████████████████████████████████| 1000/1000 [00:01<00:00, 591.88it/s]\n",
      "Training: 100%|████████████████████████████████████████████████████████████████████████████████| 1000/1000 [00:01<00:00, 526.32it/s]\n",
      "Training: 100%|████████████████████████████████████████████████████████████████████████████████| 1000/1000 [00:01<00:00, 578.89it/s]\n",
      "Testing 4x4: 100%|██████████████████████████████████████████████████████████████████████████████| 100/100 [00:00<00:00, 4118.04it/s]\n"
     ]
    },
    {
     "name": "stdout",
     "output_type": "stream",
     "text": [
      "\n",
      "4x4 Results:\n",
      "Accuracy: 93.00%\n",
      "Avg prediction | Perc: 0.706\n",
      "Avg prediction | Non-Perc: 0.309\n"
     ]
    },
    {
     "name": "stderr",
     "output_type": "stream",
     "text": [
      "Testing 16x16: 100%|████████████████████████████████████████████████████████████████████████████| 100/100 [00:00<00:00, 2132.43it/s]\n"
     ]
    },
    {
     "name": "stdout",
     "output_type": "stream",
     "text": [
      "\n",
      "16x16 Results:\n",
      "Accuracy: 94.00%\n",
      "Avg prediction | Perc: 0.969\n",
      "Avg prediction | Non-Perc: 0.152\n"
     ]
    },
    {
     "name": "stderr",
     "output_type": "stream",
     "text": [
      "Testing 64x64: 100%|████████████████████████████████████████████████████████████████████████████| 100/100 [00:00<00:00, 1465.88it/s]\n"
     ]
    },
    {
     "name": "stdout",
     "output_type": "stream",
     "text": [
      "\n",
      "64x64 Results:\n",
      "Accuracy: 92.00%\n",
      "Avg prediction | Perc: 1.000\n",
      "Avg prediction | Non-Perc: 0.114\n"
     ]
    },
    {
     "name": "stderr",
     "output_type": "stream",
     "text": [
      "Testing 16x16: 100%|████████████████████████████████████████████████████████████████████████████| 200/200 [00:00<00:00, 2279.64it/s]\n"
     ]
    },
    {
     "name": "stdout",
     "output_type": "stream",
     "text": [
      "\n",
      "16x16 Results:\n",
      "Accuracy: 77.00%\n",
      "Avg prediction | Perc: 0.886\n",
      "Avg prediction | Non-Perc: 0.729\n",
      "\n",
      "Running 4^2 - Run 6/10\n"
     ]
    },
    {
     "name": "stderr",
     "output_type": "stream",
     "text": [
      "Generating data: 100%|██████████████████████████████████████████████████████████████████████| 10000/10000 [00:01<00:00, 9532.76it/s]\n",
      "Training: 100%|████████████████████████████████████████████████████████████████████████████████| 1000/1000 [00:01<00:00, 578.84it/s]\n",
      "Training: 100%|████████████████████████████████████████████████████████████████████████████████| 1000/1000 [00:01<00:00, 572.25it/s]\n",
      "Training: 100%|████████████████████████████████████████████████████████████████████████████████| 1000/1000 [00:01<00:00, 582.50it/s]\n",
      "Training: 100%|████████████████████████████████████████████████████████████████████████████████| 1000/1000 [00:02<00:00, 498.73it/s]\n",
      "Training: 100%|████████████████████████████████████████████████████████████████████████████████| 1000/1000 [00:01<00:00, 565.93it/s]\n",
      "Testing 4x4: 100%|██████████████████████████████████████████████████████████████████████████████| 100/100 [00:00<00:00, 5085.61it/s]\n"
     ]
    },
    {
     "name": "stdout",
     "output_type": "stream",
     "text": [
      "\n",
      "4x4 Results:\n",
      "Accuracy: 91.00%\n",
      "Avg prediction | Perc: 0.682\n",
      "Avg prediction | Non-Perc: 0.294\n"
     ]
    },
    {
     "name": "stderr",
     "output_type": "stream",
     "text": [
      "Testing 16x16: 100%|████████████████████████████████████████████████████████████████████████████| 100/100 [00:00<00:00, 2610.43it/s]\n"
     ]
    },
    {
     "name": "stdout",
     "output_type": "stream",
     "text": [
      "\n",
      "16x16 Results:\n",
      "Accuracy: 98.00%\n",
      "Avg prediction | Perc: 0.921\n",
      "Avg prediction | Non-Perc: 0.038\n"
     ]
    },
    {
     "name": "stderr",
     "output_type": "stream",
     "text": [
      "Testing 64x64: 100%|████████████████████████████████████████████████████████████████████████████| 100/100 [00:00<00:00, 1526.71it/s]\n"
     ]
    },
    {
     "name": "stdout",
     "output_type": "stream",
     "text": [
      "\n",
      "64x64 Results:\n",
      "Accuracy: 98.00%\n",
      "Avg prediction | Perc: 1.000\n",
      "Avg prediction | Non-Perc: 0.031\n"
     ]
    },
    {
     "name": "stderr",
     "output_type": "stream",
     "text": [
      "Testing 16x16: 100%|████████████████████████████████████████████████████████████████████████████| 200/200 [00:00<00:00, 2632.20it/s]\n"
     ]
    },
    {
     "name": "stdout",
     "output_type": "stream",
     "text": [
      "\n",
      "16x16 Results:\n",
      "Accuracy: 78.50%\n",
      "Avg prediction | Perc: 0.779\n",
      "Avg prediction | Non-Perc: 0.529\n",
      "\n",
      "Running 4^2 - Run 7/10\n"
     ]
    },
    {
     "name": "stderr",
     "output_type": "stream",
     "text": [
      "Generating data: 100%|██████████████████████████████████████████████████████████████████████| 10000/10000 [00:01<00:00, 9635.83it/s]\n",
      "Training: 100%|████████████████████████████████████████████████████████████████████████████████| 1000/1000 [00:01<00:00, 599.52it/s]\n",
      "Training: 100%|████████████████████████████████████████████████████████████████████████████████| 1000/1000 [00:01<00:00, 577.98it/s]\n",
      "Training: 100%|████████████████████████████████████████████████████████████████████████████████| 1000/1000 [00:01<00:00, 542.09it/s]\n",
      "Training: 100%|████████████████████████████████████████████████████████████████████████████████| 1000/1000 [00:01<00:00, 541.66it/s]\n",
      "Training: 100%|████████████████████████████████████████████████████████████████████████████████| 1000/1000 [00:01<00:00, 579.13it/s]\n",
      "Testing 4x4: 100%|██████████████████████████████████████████████████████████████████████████████| 100/100 [00:00<00:00, 3879.77it/s]\n"
     ]
    },
    {
     "name": "stdout",
     "output_type": "stream",
     "text": [
      "\n",
      "4x4 Results:\n",
      "Accuracy: 92.00%\n",
      "Avg prediction | Perc: 0.703\n",
      "Avg prediction | Non-Perc: 0.268\n"
     ]
    },
    {
     "name": "stderr",
     "output_type": "stream",
     "text": [
      "Testing 16x16: 100%|████████████████████████████████████████████████████████████████████████████| 100/100 [00:00<00:00, 2545.21it/s]\n"
     ]
    },
    {
     "name": "stdout",
     "output_type": "stream",
     "text": [
      "\n",
      "16x16 Results:\n",
      "Accuracy: 94.00%\n",
      "Avg prediction | Perc: 0.890\n",
      "Avg prediction | Non-Perc: 0.078\n"
     ]
    },
    {
     "name": "stderr",
     "output_type": "stream",
     "text": [
      "Testing 64x64: 100%|████████████████████████████████████████████████████████████████████████████| 100/100 [00:00<00:00, 1487.13it/s]\n"
     ]
    },
    {
     "name": "stdout",
     "output_type": "stream",
     "text": [
      "\n",
      "64x64 Results:\n",
      "Accuracy: 95.00%\n",
      "Avg prediction | Perc: 0.952\n",
      "Avg prediction | Non-Perc: 0.049\n"
     ]
    },
    {
     "name": "stderr",
     "output_type": "stream",
     "text": [
      "Testing 16x16: 100%|████████████████████████████████████████████████████████████████████████████| 200/200 [00:00<00:00, 2720.49it/s]\n"
     ]
    },
    {
     "name": "stdout",
     "output_type": "stream",
     "text": [
      "\n",
      "16x16 Results:\n",
      "Accuracy: 74.00%\n",
      "Avg prediction | Perc: 0.708\n",
      "Avg prediction | Non-Perc: 0.527\n",
      "\n",
      "Running 4^2 - Run 8/10\n"
     ]
    },
    {
     "name": "stderr",
     "output_type": "stream",
     "text": [
      "Generating data: 100%|██████████████████████████████████████████████████████████████████████| 10000/10000 [00:01<00:00, 9070.60it/s]\n",
      "Training: 100%|████████████████████████████████████████████████████████████████████████████████| 1000/1000 [00:01<00:00, 603.12it/s]\n",
      "Training: 100%|████████████████████████████████████████████████████████████████████████████████| 1000/1000 [00:01<00:00, 596.76it/s]\n",
      "Training: 100%|████████████████████████████████████████████████████████████████████████████████| 1000/1000 [00:01<00:00, 594.60it/s]\n",
      "Training: 100%|████████████████████████████████████████████████████████████████████████████████| 1000/1000 [00:01<00:00, 586.51it/s]\n",
      "Training: 100%|████████████████████████████████████████████████████████████████████████████████| 1000/1000 [00:01<00:00, 584.62it/s]\n",
      "Testing 4x4: 100%|██████████████████████████████████████████████████████████████████████████████| 100/100 [00:00<00:00, 6399.41it/s]\n"
     ]
    },
    {
     "name": "stdout",
     "output_type": "stream",
     "text": [
      "\n",
      "4x4 Results:\n",
      "Accuracy: 91.00%\n",
      "Avg prediction | Perc: 0.729\n",
      "Avg prediction | Non-Perc: 0.299\n"
     ]
    },
    {
     "name": "stderr",
     "output_type": "stream",
     "text": [
      "Testing 16x16: 100%|████████████████████████████████████████████████████████████████████████████| 100/100 [00:00<00:00, 2133.42it/s]\n"
     ]
    },
    {
     "name": "stdout",
     "output_type": "stream",
     "text": [
      "\n",
      "16x16 Results:\n",
      "Accuracy: 94.00%\n",
      "Avg prediction | Perc: 0.926\n",
      "Avg prediction | Non-Perc: 0.066\n"
     ]
    },
    {
     "name": "stderr",
     "output_type": "stream",
     "text": [
      "Testing 64x64: 100%|████████████████████████████████████████████████████████████████████████████| 100/100 [00:00<00:00, 1409.78it/s]\n"
     ]
    },
    {
     "name": "stdout",
     "output_type": "stream",
     "text": [
      "\n",
      "64x64 Results:\n",
      "Accuracy: 99.00%\n",
      "Avg prediction | Perc: 0.997\n",
      "Avg prediction | Non-Perc: 0.013\n"
     ]
    },
    {
     "name": "stderr",
     "output_type": "stream",
     "text": [
      "Testing 16x16: 100%|████████████████████████████████████████████████████████████████████████████| 200/200 [00:00<00:00, 2828.87it/s]\n"
     ]
    },
    {
     "name": "stdout",
     "output_type": "stream",
     "text": [
      "\n",
      "16x16 Results:\n",
      "Accuracy: 75.00%\n",
      "Avg prediction | Perc: 0.782\n",
      "Avg prediction | Non-Perc: 0.624\n",
      "\n",
      "Running 4^2 - Run 9/10\n"
     ]
    },
    {
     "name": "stderr",
     "output_type": "stream",
     "text": [
      "Generating data: 100%|██████████████████████████████████████████████████████████████████████| 10000/10000 [00:01<00:00, 9779.27it/s]\n",
      "Training: 100%|████████████████████████████████████████████████████████████████████████████████| 1000/1000 [00:01<00:00, 553.66it/s]\n",
      "Training: 100%|████████████████████████████████████████████████████████████████████████████████| 1000/1000 [00:01<00:00, 572.24it/s]\n",
      "Training: 100%|████████████████████████████████████████████████████████████████████████████████| 1000/1000 [00:01<00:00, 601.61it/s]\n",
      "Training: 100%|████████████████████████████████████████████████████████████████████████████████| 1000/1000 [00:01<00:00, 617.10it/s]\n",
      "Training: 100%|████████████████████████████████████████████████████████████████████████████████| 1000/1000 [00:01<00:00, 613.48it/s]\n",
      "Testing 4x4: 100%|██████████████████████████████████████████████████████████████████████████████| 100/100 [00:00<00:00, 6399.71it/s]\n"
     ]
    },
    {
     "name": "stdout",
     "output_type": "stream",
     "text": [
      "\n",
      "4x4 Results:\n",
      "Accuracy: 93.00%\n",
      "Avg prediction | Perc: 0.713\n",
      "Avg prediction | Non-Perc: 0.273\n"
     ]
    },
    {
     "name": "stderr",
     "output_type": "stream",
     "text": [
      "Testing 16x16: 100%|████████████████████████████████████████████████████████████████████████████| 100/100 [00:00<00:00, 3200.32it/s]\n"
     ]
    },
    {
     "name": "stdout",
     "output_type": "stream",
     "text": [
      "\n",
      "16x16 Results:\n",
      "Accuracy: 97.00%\n",
      "Avg prediction | Perc: 0.967\n",
      "Avg prediction | Non-Perc: 0.074\n"
     ]
    },
    {
     "name": "stderr",
     "output_type": "stream",
     "text": [
      "Testing 64x64: 100%|████████████████████████████████████████████████████████████████████████████| 100/100 [00:00<00:00, 1600.01it/s]\n"
     ]
    },
    {
     "name": "stdout",
     "output_type": "stream",
     "text": [
      "\n",
      "64x64 Results:\n",
      "Accuracy: 95.00%\n",
      "Avg prediction | Perc: 0.985\n",
      "Avg prediction | Non-Perc: 0.066\n"
     ]
    },
    {
     "name": "stderr",
     "output_type": "stream",
     "text": [
      "Testing 16x16: 100%|████████████████████████████████████████████████████████████████████████████| 200/200 [00:00<00:00, 2560.02it/s]\n"
     ]
    },
    {
     "name": "stdout",
     "output_type": "stream",
     "text": [
      "\n",
      "16x16 Results:\n",
      "Accuracy: 73.50%\n",
      "Avg prediction | Perc: 0.863\n",
      "Avg prediction | Non-Perc: 0.663\n",
      "\n",
      "Running 4^2 - Run 10/10\n"
     ]
    },
    {
     "name": "stderr",
     "output_type": "stream",
     "text": [
      "Generating data: 100%|█████████████████████████████████████████████████████████████████████| 10000/10000 [00:00<00:00, 10003.15it/s]\n",
      "Training: 100%|████████████████████████████████████████████████████████████████████████████████| 1000/1000 [00:01<00:00, 605.17it/s]\n",
      "Training: 100%|████████████████████████████████████████████████████████████████████████████████| 1000/1000 [00:01<00:00, 609.77it/s]\n",
      "Training: 100%|████████████████████████████████████████████████████████████████████████████████| 1000/1000 [00:01<00:00, 606.61it/s]\n",
      "Training: 100%|████████████████████████████████████████████████████████████████████████████████| 1000/1000 [00:01<00:00, 605.57it/s]\n",
      "Training: 100%|████████████████████████████████████████████████████████████████████████████████| 1000/1000 [00:01<00:00, 615.34it/s]\n",
      "Testing 4x4: 100%|██████████████████████████████████████████████████████████████████████████████| 100/100 [00:00<00:00, 3199.88it/s]\n"
     ]
    },
    {
     "name": "stdout",
     "output_type": "stream",
     "text": [
      "\n",
      "4x4 Results:\n",
      "Accuracy: 90.00%\n",
      "Avg prediction | Perc: 0.727\n",
      "Avg prediction | Non-Perc: 0.308\n"
     ]
    },
    {
     "name": "stderr",
     "output_type": "stream",
     "text": [
      "Testing 16x16: 100%|████████████████████████████████████████████████████████████████████████████| 100/100 [00:00<00:00, 3200.00it/s]\n"
     ]
    },
    {
     "name": "stdout",
     "output_type": "stream",
     "text": [
      "\n",
      "16x16 Results:\n",
      "Accuracy: 97.00%\n",
      "Avg prediction | Perc: 0.907\n",
      "Avg prediction | Non-Perc: 0.041\n"
     ]
    },
    {
     "name": "stderr",
     "output_type": "stream",
     "text": [
      "Testing 64x64: 100%|████████████████████████████████████████████████████████████████████████████| 100/100 [00:00<00:00, 1581.02it/s]\n"
     ]
    },
    {
     "name": "stdout",
     "output_type": "stream",
     "text": [
      "\n",
      "64x64 Results:\n",
      "Accuracy: 99.00%\n",
      "Avg prediction | Perc: 0.970\n",
      "Avg prediction | Non-Perc: 0.002\n"
     ]
    },
    {
     "name": "stderr",
     "output_type": "stream",
     "text": [
      "Testing 16x16: 100%|████████████████████████████████████████████████████████████████████████████| 200/200 [00:00<00:00, 3043.62it/s]\n"
     ]
    },
    {
     "name": "stdout",
     "output_type": "stream",
     "text": [
      "\n",
      "16x16 Results:\n",
      "Accuracy: 77.00%\n",
      "Avg prediction | Perc: 0.763\n",
      "Avg prediction | Non-Perc: 0.575\n",
      "\n",
      "Running 4^3 - Run 1/10\n"
     ]
    },
    {
     "name": "stderr",
     "output_type": "stream",
     "text": [
      "Generating data: 100%|██████████████████████████████████████████████████████████████████████| 10000/10000 [00:02<00:00, 4358.09it/s]\n",
      "Training: 100%|████████████████████████████████████████████████████████████████████████████████| 1000/1000 [00:02<00:00, 432.17it/s]\n",
      "Training: 100%|████████████████████████████████████████████████████████████████████████████████| 1000/1000 [00:02<00:00, 395.67it/s]\n",
      "Training: 100%|████████████████████████████████████████████████████████████████████████████████| 1000/1000 [00:02<00:00, 459.61it/s]\n",
      "Training: 100%|████████████████████████████████████████████████████████████████████████████████| 1000/1000 [00:02<00:00, 456.37it/s]\n",
      "Training: 100%|████████████████████████████████████████████████████████████████████████████████| 1000/1000 [00:02<00:00, 457.18it/s]\n",
      "Testing 16x16: 100%|████████████████████████████████████████████████████████████████████████████| 100/100 [00:00<00:00, 2133.42it/s]\n"
     ]
    },
    {
     "name": "stdout",
     "output_type": "stream",
     "text": [
      "\n",
      "16x16 Results:\n",
      "Accuracy: 10.00%\n",
      "Avg prediction | Perc: 0.267\n",
      "Avg prediction | Non-Perc: 0.970\n"
     ]
    },
    {
     "name": "stderr",
     "output_type": "stream",
     "text": [
      "Testing 64x64: 100%|████████████████████████████████████████████████████████████████████████████| 100/100 [00:00<00:00, 1600.01it/s]\n"
     ]
    },
    {
     "name": "stdout",
     "output_type": "stream",
     "text": [
      "\n",
      "64x64 Results:\n",
      "Accuracy: 96.00%\n",
      "Avg prediction | Perc: 0.862\n",
      "Avg prediction | Non-Perc: 0.016\n"
     ]
    },
    {
     "name": "stderr",
     "output_type": "stream",
     "text": [
      "Testing 256x256: 100%|███████████████████████████████████████████████████████████████████████████| 100/100 [00:00<00:00, 305.35it/s]\n"
     ]
    },
    {
     "name": "stdout",
     "output_type": "stream",
     "text": [
      "\n",
      "256x256 Results:\n",
      "Accuracy: 3.00%\n",
      "Avg prediction | Perc: 0.094\n",
      "Avg prediction | Non-Perc: 1.000\n"
     ]
    },
    {
     "name": "stderr",
     "output_type": "stream",
     "text": [
      "Testing 64x64: 100%|████████████████████████████████████████████████████████████████████████████| 200/200 [00:00<00:00, 1422.26it/s]\n"
     ]
    },
    {
     "name": "stdout",
     "output_type": "stream",
     "text": [
      "\n",
      "64x64 Results:\n",
      "Accuracy: 52.50%\n",
      "Avg prediction | Perc: 0.413\n",
      "Avg prediction | Non-Perc: 0.258\n",
      "\n",
      "Running 4^3 - Run 2/10\n"
     ]
    },
    {
     "name": "stderr",
     "output_type": "stream",
     "text": [
      "Generating data: 100%|██████████████████████████████████████████████████████████████████████| 10000/10000 [00:02<00:00, 4324.92it/s]\n",
      "Training: 100%|████████████████████████████████████████████████████████████████████████████████| 1000/1000 [00:02<00:00, 419.04it/s]\n",
      "Training: 100%|████████████████████████████████████████████████████████████████████████████████| 1000/1000 [00:02<00:00, 413.12it/s]\n",
      "Training: 100%|████████████████████████████████████████████████████████████████████████████████| 1000/1000 [00:02<00:00, 418.36it/s]\n",
      "Training: 100%|████████████████████████████████████████████████████████████████████████████████| 1000/1000 [00:02<00:00, 425.90it/s]\n",
      "Training: 100%|████████████████████████████████████████████████████████████████████████████████| 1000/1000 [00:02<00:00, 429.57it/s]\n",
      "Testing 16x16: 100%|████████████████████████████████████████████████████████████████████████████| 100/100 [00:00<00:00, 2054.20it/s]\n"
     ]
    },
    {
     "name": "stdout",
     "output_type": "stream",
     "text": [
      "\n",
      "16x16 Results:\n",
      "Accuracy: 8.00%\n",
      "Avg prediction | Perc: 0.222\n",
      "Avg prediction | Non-Perc: 0.956\n"
     ]
    },
    {
     "name": "stderr",
     "output_type": "stream",
     "text": [
      "Testing 64x64: 100%|████████████████████████████████████████████████████████████████████████████| 100/100 [00:00<00:00, 1209.28it/s]\n"
     ]
    },
    {
     "name": "stdout",
     "output_type": "stream",
     "text": [
      "\n",
      "64x64 Results:\n",
      "Accuracy: 96.00%\n",
      "Avg prediction | Perc: 0.921\n",
      "Avg prediction | Non-Perc: 0.034\n"
     ]
    },
    {
     "name": "stderr",
     "output_type": "stream",
     "text": [
      "Testing 256x256: 100%|███████████████████████████████████████████████████████████████████████████| 100/100 [00:00<00:00, 286.15it/s]\n"
     ]
    },
    {
     "name": "stdout",
     "output_type": "stream",
     "text": [
      "\n",
      "256x256 Results:\n",
      "Accuracy: 2.00%\n",
      "Avg prediction | Perc: 0.029\n",
      "Avg prediction | Non-Perc: 0.990\n"
     ]
    },
    {
     "name": "stderr",
     "output_type": "stream",
     "text": [
      "Testing 64x64: 100%|████████████████████████████████████████████████████████████████████████████| 200/200 [00:00<00:00, 1367.75it/s]"
     ]
    },
    {
     "name": "stdout",
     "output_type": "stream",
     "text": [
      "\n",
      "64x64 Results:\n",
      "Accuracy: 70.50%\n",
      "Avg prediction | Perc: 0.742\n",
      "Avg prediction | Non-Perc: 0.562\n"
     ]
    },
    {
     "name": "stderr",
     "output_type": "stream",
     "text": [
      "\n"
     ]
    },
    {
     "name": "stdout",
     "output_type": "stream",
     "text": [
      "\n",
      "Running 4^3 - Run 3/10\n"
     ]
    },
    {
     "name": "stderr",
     "output_type": "stream",
     "text": [
      "Generating data: 100%|██████████████████████████████████████████████████████████████████████| 10000/10000 [00:02<00:00, 4034.18it/s]\n",
      "Training: 100%|████████████████████████████████████████████████████████████████████████████████| 1000/1000 [00:02<00:00, 404.25it/s]\n",
      "Training: 100%|████████████████████████████████████████████████████████████████████████████████| 1000/1000 [00:02<00:00, 427.35it/s]\n",
      "Training: 100%|████████████████████████████████████████████████████████████████████████████████| 1000/1000 [00:02<00:00, 381.92it/s]\n",
      "Training: 100%|████████████████████████████████████████████████████████████████████████████████| 1000/1000 [00:02<00:00, 426.71it/s]\n",
      "Training: 100%|████████████████████████████████████████████████████████████████████████████████| 1000/1000 [00:02<00:00, 414.20it/s]\n",
      "Testing 16x16: 100%|████████████████████████████████████████████████████████████████████████████| 100/100 [00:00<00:00, 2239.28it/s]\n"
     ]
    },
    {
     "name": "stdout",
     "output_type": "stream",
     "text": [
      "\n",
      "16x16 Results:\n",
      "Accuracy: 8.00%\n",
      "Avg prediction | Perc: 0.228\n",
      "Avg prediction | Non-Perc: 0.963\n"
     ]
    },
    {
     "name": "stderr",
     "output_type": "stream",
     "text": [
      "Testing 64x64: 100%|████████████████████████████████████████████████████████████████████████████| 100/100 [00:00<00:00, 1251.00it/s]\n"
     ]
    },
    {
     "name": "stdout",
     "output_type": "stream",
     "text": [
      "\n",
      "64x64 Results:\n",
      "Accuracy: 97.00%\n",
      "Avg prediction | Perc: 0.903\n",
      "Avg prediction | Non-Perc: 0.021\n"
     ]
    },
    {
     "name": "stderr",
     "output_type": "stream",
     "text": [
      "Testing 256x256: 100%|███████████████████████████████████████████████████████████████████████████| 100/100 [00:00<00:00, 292.93it/s]\n"
     ]
    },
    {
     "name": "stdout",
     "output_type": "stream",
     "text": [
      "\n",
      "256x256 Results:\n",
      "Accuracy: 4.00%\n",
      "Avg prediction | Perc: 0.094\n",
      "Avg prediction | Non-Perc: 1.000\n"
     ]
    },
    {
     "name": "stderr",
     "output_type": "stream",
     "text": [
      "Testing 64x64: 100%|████████████████████████████████████████████████████████████████████████████| 200/200 [00:00<00:00, 1188.49it/s]"
     ]
    },
    {
     "name": "stdout",
     "output_type": "stream",
     "text": [
      "\n",
      "64x64 Results:\n",
      "Accuracy: 70.00%\n",
      "Avg prediction | Perc: 0.628\n",
      "Avg prediction | Non-Perc: 0.478\n"
     ]
    },
    {
     "name": "stderr",
     "output_type": "stream",
     "text": [
      "\n"
     ]
    },
    {
     "name": "stdout",
     "output_type": "stream",
     "text": [
      "\n",
      "Running 4^3 - Run 4/10\n"
     ]
    },
    {
     "name": "stderr",
     "output_type": "stream",
     "text": [
      "Generating data: 100%|██████████████████████████████████████████████████████████████████████| 10000/10000 [00:02<00:00, 4083.04it/s]\n",
      "Training: 100%|████████████████████████████████████████████████████████████████████████████████| 1000/1000 [00:02<00:00, 406.16it/s]\n",
      "Training: 100%|████████████████████████████████████████████████████████████████████████████████| 1000/1000 [00:02<00:00, 432.02it/s]\n",
      "Training: 100%|████████████████████████████████████████████████████████████████████████████████| 1000/1000 [00:02<00:00, 444.28it/s]\n",
      "Training: 100%|████████████████████████████████████████████████████████████████████████████████| 1000/1000 [00:02<00:00, 419.56it/s]\n",
      "Training: 100%|████████████████████████████████████████████████████████████████████████████████| 1000/1000 [00:02<00:00, 437.43it/s]\n",
      "Testing 16x16: 100%|████████████████████████████████████████████████████████████████████████████| 100/100 [00:00<00:00, 2133.42it/s]\n"
     ]
    },
    {
     "name": "stdout",
     "output_type": "stream",
     "text": [
      "\n",
      "16x16 Results:\n",
      "Accuracy: 6.00%\n",
      "Avg prediction | Perc: 0.153\n",
      "Avg prediction | Non-Perc: 0.933\n"
     ]
    },
    {
     "name": "stderr",
     "output_type": "stream",
     "text": [
      "Testing 64x64: 100%|████████████████████████████████████████████████████████████████████████████| 100/100 [00:00<00:00, 1279.99it/s]\n"
     ]
    },
    {
     "name": "stdout",
     "output_type": "stream",
     "text": [
      "\n",
      "64x64 Results:\n",
      "Accuracy: 92.00%\n",
      "Avg prediction | Perc: 0.955\n",
      "Avg prediction | Non-Perc: 0.080\n"
     ]
    },
    {
     "name": "stderr",
     "output_type": "stream",
     "text": [
      "Testing 256x256: 100%|███████████████████████████████████████████████████████████████████████████| 100/100 [00:00<00:00, 315.05it/s]\n"
     ]
    },
    {
     "name": "stdout",
     "output_type": "stream",
     "text": [
      "\n",
      "256x256 Results:\n",
      "Accuracy: 1.00%\n",
      "Avg prediction | Perc: 0.001\n",
      "Avg prediction | Non-Perc: 0.985\n"
     ]
    },
    {
     "name": "stderr",
     "output_type": "stream",
     "text": [
      "Testing 64x64: 100%|████████████████████████████████████████████████████████████████████████████| 200/200 [00:00<00:00, 1422.23it/s]\n"
     ]
    },
    {
     "name": "stdout",
     "output_type": "stream",
     "text": [
      "\n",
      "64x64 Results:\n",
      "Accuracy: 70.00%\n",
      "Avg prediction | Perc: 0.856\n",
      "Avg prediction | Non-Perc: 0.749\n",
      "\n",
      "Running 4^3 - Run 5/10\n"
     ]
    },
    {
     "name": "stderr",
     "output_type": "stream",
     "text": [
      "Generating data: 100%|██████████████████████████████████████████████████████████████████████| 10000/10000 [00:02<00:00, 4101.85it/s]\n",
      "Training: 100%|████████████████████████████████████████████████████████████████████████████████| 1000/1000 [00:02<00:00, 433.56it/s]\n",
      "Training: 100%|████████████████████████████████████████████████████████████████████████████████| 1000/1000 [00:02<00:00, 443.90it/s]\n",
      "Training: 100%|████████████████████████████████████████████████████████████████████████████████| 1000/1000 [00:02<00:00, 432.53it/s]\n",
      "Training: 100%|████████████████████████████████████████████████████████████████████████████████| 1000/1000 [00:02<00:00, 441.25it/s]\n",
      "Training: 100%|████████████████████████████████████████████████████████████████████████████████| 1000/1000 [00:02<00:00, 442.59it/s]\n",
      "Testing 16x16: 100%|████████████████████████████████████████████████████████████████████████████| 100/100 [00:00<00:00, 2133.39it/s]\n"
     ]
    },
    {
     "name": "stdout",
     "output_type": "stream",
     "text": [
      "\n",
      "16x16 Results:\n",
      "Accuracy: 5.00%\n",
      "Avg prediction | Perc: 0.190\n",
      "Avg prediction | Non-Perc: 0.946\n"
     ]
    },
    {
     "name": "stderr",
     "output_type": "stream",
     "text": [
      "Testing 64x64: 100%|████████████████████████████████████████████████████████████████████████████| 100/100 [00:00<00:00, 1599.91it/s]\n"
     ]
    },
    {
     "name": "stdout",
     "output_type": "stream",
     "text": [
      "\n",
      "64x64 Results:\n",
      "Accuracy: 98.00%\n",
      "Avg prediction | Perc: 0.939\n",
      "Avg prediction | Non-Perc: 0.008\n"
     ]
    },
    {
     "name": "stderr",
     "output_type": "stream",
     "text": [
      "Testing 256x256: 100%|███████████████████████████████████████████████████████████████████████████| 100/100 [00:00<00:00, 304.68it/s]\n"
     ]
    },
    {
     "name": "stdout",
     "output_type": "stream",
     "text": [
      "\n",
      "256x256 Results:\n",
      "Accuracy: 0.00%\n",
      "Avg prediction | Perc: 0.006\n",
      "Avg prediction | Non-Perc: 1.000\n"
     ]
    },
    {
     "name": "stderr",
     "output_type": "stream",
     "text": [
      "Testing 64x64: 100%|████████████████████████████████████████████████████████████████████████████| 200/200 [00:00<00:00, 1249.98it/s]"
     ]
    },
    {
     "name": "stdout",
     "output_type": "stream",
     "text": [
      "\n",
      "64x64 Results:\n",
      "Accuracy: 62.50%\n",
      "Avg prediction | Perc: 0.498\n",
      "Avg prediction | Non-Perc: 0.324\n"
     ]
    },
    {
     "name": "stderr",
     "output_type": "stream",
     "text": [
      "\n"
     ]
    },
    {
     "name": "stdout",
     "output_type": "stream",
     "text": [
      "\n",
      "Running 4^3 - Run 6/10\n"
     ]
    },
    {
     "name": "stderr",
     "output_type": "stream",
     "text": [
      "Generating data: 100%|██████████████████████████████████████████████████████████████████████| 10000/10000 [00:02<00:00, 4195.27it/s]\n",
      "Training: 100%|████████████████████████████████████████████████████████████████████████████████| 1000/1000 [00:02<00:00, 419.75it/s]\n",
      "Training: 100%|████████████████████████████████████████████████████████████████████████████████| 1000/1000 [00:02<00:00, 445.02it/s]\n",
      "Training: 100%|████████████████████████████████████████████████████████████████████████████████| 1000/1000 [00:02<00:00, 438.19it/s]\n",
      "Training: 100%|████████████████████████████████████████████████████████████████████████████████| 1000/1000 [00:02<00:00, 446.23it/s]\n",
      "Training: 100%|████████████████████████████████████████████████████████████████████████████████| 1000/1000 [00:02<00:00, 449.02it/s]\n",
      "Testing 16x16: 100%|████████████████████████████████████████████████████████████████████████████| 100/100 [00:00<00:00, 2133.38it/s]\n"
     ]
    },
    {
     "name": "stdout",
     "output_type": "stream",
     "text": [
      "\n",
      "16x16 Results:\n",
      "Accuracy: 12.00%\n",
      "Avg prediction | Perc: 0.285\n",
      "Avg prediction | Non-Perc: 0.927\n"
     ]
    },
    {
     "name": "stderr",
     "output_type": "stream",
     "text": [
      "Testing 64x64: 100%|████████████████████████████████████████████████████████████████████████████| 100/100 [00:00<00:00, 1279.99it/s]\n"
     ]
    },
    {
     "name": "stdout",
     "output_type": "stream",
     "text": [
      "\n",
      "64x64 Results:\n",
      "Accuracy: 98.00%\n",
      "Avg prediction | Perc: 0.955\n",
      "Avg prediction | Non-Perc: 0.026\n"
     ]
    },
    {
     "name": "stderr",
     "output_type": "stream",
     "text": [
      "Testing 256x256: 100%|███████████████████████████████████████████████████████████████████████████| 100/100 [00:00<00:00, 294.45it/s]\n"
     ]
    },
    {
     "name": "stdout",
     "output_type": "stream",
     "text": [
      "\n",
      "256x256 Results:\n",
      "Accuracy: 2.00%\n",
      "Avg prediction | Perc: 0.026\n",
      "Avg prediction | Non-Perc: 1.000\n"
     ]
    },
    {
     "name": "stderr",
     "output_type": "stream",
     "text": [
      "Testing 64x64: 100%|████████████████████████████████████████████████████████████████████████████| 200/200 [00:00<00:00, 1189.91it/s]"
     ]
    },
    {
     "name": "stdout",
     "output_type": "stream",
     "text": [
      "\n",
      "64x64 Results:\n",
      "Accuracy: 77.00%\n",
      "Avg prediction | Perc: 0.678\n",
      "Avg prediction | Non-Perc: 0.468\n"
     ]
    },
    {
     "name": "stderr",
     "output_type": "stream",
     "text": [
      "\n"
     ]
    },
    {
     "name": "stdout",
     "output_type": "stream",
     "text": [
      "\n",
      "Running 4^3 - Run 7/10\n"
     ]
    },
    {
     "name": "stderr",
     "output_type": "stream",
     "text": [
      "Generating data: 100%|██████████████████████████████████████████████████████████████████████| 10000/10000 [00:02<00:00, 4095.85it/s]\n",
      "Training: 100%|████████████████████████████████████████████████████████████████████████████████| 1000/1000 [00:02<00:00, 417.68it/s]\n",
      "Training: 100%|████████████████████████████████████████████████████████████████████████████████| 1000/1000 [00:02<00:00, 415.99it/s]\n",
      "Training: 100%|████████████████████████████████████████████████████████████████████████████████| 1000/1000 [00:02<00:00, 432.44it/s]\n",
      "Training: 100%|████████████████████████████████████████████████████████████████████████████████| 1000/1000 [00:02<00:00, 416.73it/s]\n",
      "Training: 100%|████████████████████████████████████████████████████████████████████████████████| 1000/1000 [00:02<00:00, 432.64it/s]\n",
      "Testing 16x16: 100%|████████████████████████████████████████████████████████████████████████████| 100/100 [00:00<00:00, 2513.24it/s]\n"
     ]
    },
    {
     "name": "stdout",
     "output_type": "stream",
     "text": [
      "\n",
      "16x16 Results:\n",
      "Accuracy: 9.00%\n",
      "Avg prediction | Perc: 0.176\n",
      "Avg prediction | Non-Perc: 0.896\n"
     ]
    },
    {
     "name": "stderr",
     "output_type": "stream",
     "text": [
      "Testing 64x64: 100%|████████████████████████████████████████████████████████████████████████████| 100/100 [00:00<00:00, 1259.55it/s]\n"
     ]
    },
    {
     "name": "stdout",
     "output_type": "stream",
     "text": [
      "\n",
      "64x64 Results:\n",
      "Accuracy: 99.00%\n",
      "Avg prediction | Perc: 0.992\n",
      "Avg prediction | Non-Perc: 0.028\n"
     ]
    },
    {
     "name": "stderr",
     "output_type": "stream",
     "text": [
      "Testing 256x256: 100%|███████████████████████████████████████████████████████████████████████████| 100/100 [00:00<00:00, 297.03it/s]\n"
     ]
    },
    {
     "name": "stdout",
     "output_type": "stream",
     "text": [
      "\n",
      "256x256 Results:\n",
      "Accuracy: 2.00%\n",
      "Avg prediction | Perc: 0.000\n",
      "Avg prediction | Non-Perc: 0.965\n"
     ]
    },
    {
     "name": "stderr",
     "output_type": "stream",
     "text": [
      "Testing 64x64: 100%|████████████████████████████████████████████████████████████████████████████| 200/200 [00:00<00:00, 1192.19it/s]"
     ]
    },
    {
     "name": "stdout",
     "output_type": "stream",
     "text": [
      "\n",
      "64x64 Results:\n",
      "Accuracy: 69.50%\n",
      "Avg prediction | Perc: 0.939\n",
      "Avg prediction | Non-Perc: 0.873\n"
     ]
    },
    {
     "name": "stderr",
     "output_type": "stream",
     "text": [
      "\n"
     ]
    },
    {
     "name": "stdout",
     "output_type": "stream",
     "text": [
      "\n",
      "Running 4^3 - Run 8/10\n"
     ]
    },
    {
     "name": "stderr",
     "output_type": "stream",
     "text": [
      "Generating data: 100%|██████████████████████████████████████████████████████████████████████| 10000/10000 [00:02<00:00, 3765.63it/s]\n",
      "Training: 100%|████████████████████████████████████████████████████████████████████████████████| 1000/1000 [00:02<00:00, 414.89it/s]\n",
      "Training: 100%|████████████████████████████████████████████████████████████████████████████████| 1000/1000 [00:02<00:00, 447.81it/s]\n",
      "Training: 100%|████████████████████████████████████████████████████████████████████████████████| 1000/1000 [00:02<00:00, 437.60it/s]\n",
      "Training: 100%|████████████████████████████████████████████████████████████████████████████████| 1000/1000 [00:02<00:00, 428.36it/s]\n",
      "Training: 100%|████████████████████████████████████████████████████████████████████████████████| 1000/1000 [00:02<00:00, 434.80it/s]\n",
      "Testing 16x16: 100%|████████████████████████████████████████████████████████████████████████████| 100/100 [00:00<00:00, 2133.45it/s]\n"
     ]
    },
    {
     "name": "stdout",
     "output_type": "stream",
     "text": [
      "\n",
      "16x16 Results:\n",
      "Accuracy: 9.00%\n",
      "Avg prediction | Perc: 0.165\n",
      "Avg prediction | Non-Perc: 0.934\n"
     ]
    },
    {
     "name": "stderr",
     "output_type": "stream",
     "text": [
      "Testing 64x64: 100%|████████████████████████████████████████████████████████████████████████████| 100/100 [00:00<00:00, 1279.97it/s]\n"
     ]
    },
    {
     "name": "stdout",
     "output_type": "stream",
     "text": [
      "\n",
      "64x64 Results:\n",
      "Accuracy: 97.00%\n",
      "Avg prediction | Perc: 0.968\n",
      "Avg prediction | Non-Perc: 0.041\n"
     ]
    },
    {
     "name": "stderr",
     "output_type": "stream",
     "text": [
      "Testing 256x256: 100%|███████████████████████████████████████████████████████████████████████████| 100/100 [00:00<00:00, 306.51it/s]\n"
     ]
    },
    {
     "name": "stdout",
     "output_type": "stream",
     "text": [
      "\n",
      "256x256 Results:\n",
      "Accuracy: 2.00%\n",
      "Avg prediction | Perc: 0.001\n",
      "Avg prediction | Non-Perc: 0.970\n"
     ]
    },
    {
     "name": "stderr",
     "output_type": "stream",
     "text": [
      "Testing 64x64: 100%|████████████████████████████████████████████████████████████████████████████| 200/200 [00:00<00:00, 1332.90it/s]\n"
     ]
    },
    {
     "name": "stdout",
     "output_type": "stream",
     "text": [
      "\n",
      "64x64 Results:\n",
      "Accuracy: 73.50%\n",
      "Avg prediction | Perc: 0.951\n",
      "Avg prediction | Non-Perc: 0.883\n",
      "\n",
      "Running 4^3 - Run 9/10\n"
     ]
    },
    {
     "name": "stderr",
     "output_type": "stream",
     "text": [
      "Generating data: 100%|██████████████████████████████████████████████████████████████████████| 10000/10000 [00:02<00:00, 4139.42it/s]\n",
      "Training: 100%|████████████████████████████████████████████████████████████████████████████████| 1000/1000 [00:02<00:00, 420.27it/s]\n",
      "Training: 100%|████████████████████████████████████████████████████████████████████████████████| 1000/1000 [00:02<00:00, 421.28it/s]\n",
      "Training: 100%|████████████████████████████████████████████████████████████████████████████████| 1000/1000 [00:02<00:00, 435.74it/s]\n",
      "Training: 100%|████████████████████████████████████████████████████████████████████████████████| 1000/1000 [00:02<00:00, 446.39it/s]\n",
      "Training: 100%|████████████████████████████████████████████████████████████████████████████████| 1000/1000 [00:02<00:00, 438.87it/s]\n",
      "Testing 16x16: 100%|████████████████████████████████████████████████████████████████████████████| 100/100 [00:00<00:00, 1986.01it/s]\n"
     ]
    },
    {
     "name": "stdout",
     "output_type": "stream",
     "text": [
      "\n",
      "16x16 Results:\n",
      "Accuracy: 9.00%\n",
      "Avg prediction | Perc: 0.230\n",
      "Avg prediction | Non-Perc: 0.956\n"
     ]
    },
    {
     "name": "stderr",
     "output_type": "stream",
     "text": [
      "Testing 64x64: 100%|████████████████████████████████████████████████████████████████████████████| 100/100 [00:00<00:00, 1299.71it/s]\n"
     ]
    },
    {
     "name": "stdout",
     "output_type": "stream",
     "text": [
      "\n",
      "64x64 Results:\n",
      "Accuracy: 99.00%\n",
      "Avg prediction | Perc: 0.966\n",
      "Avg prediction | Non-Perc: 0.009\n"
     ]
    },
    {
     "name": "stderr",
     "output_type": "stream",
     "text": [
      "Testing 256x256: 100%|███████████████████████████████████████████████████████████████████████████| 100/100 [00:00<00:00, 313.76it/s]\n"
     ]
    },
    {
     "name": "stdout",
     "output_type": "stream",
     "text": [
      "\n",
      "256x256 Results:\n",
      "Accuracy: 0.00%\n",
      "Avg prediction | Perc: 0.001\n",
      "Avg prediction | Non-Perc: 0.998\n"
     ]
    },
    {
     "name": "stderr",
     "output_type": "stream",
     "text": [
      "Testing 64x64: 100%|████████████████████████████████████████████████████████████████████████████| 200/200 [00:00<00:00, 1343.58it/s]\n"
     ]
    },
    {
     "name": "stdout",
     "output_type": "stream",
     "text": [
      "\n",
      "64x64 Results:\n",
      "Accuracy: 72.50%\n",
      "Avg prediction | Perc: 0.661\n",
      "Avg prediction | Non-Perc: 0.428\n",
      "\n",
      "Running 4^3 - Run 10/10\n"
     ]
    },
    {
     "name": "stderr",
     "output_type": "stream",
     "text": [
      "Generating data: 100%|██████████████████████████████████████████████████████████████████████| 10000/10000 [00:02<00:00, 4032.16it/s]\n",
      "Training: 100%|████████████████████████████████████████████████████████████████████████████████| 1000/1000 [00:02<00:00, 428.13it/s]\n",
      "Training: 100%|████████████████████████████████████████████████████████████████████████████████| 1000/1000 [00:02<00:00, 408.68it/s]\n",
      "Training: 100%|████████████████████████████████████████████████████████████████████████████████| 1000/1000 [00:02<00:00, 334.82it/s]\n",
      "Training: 100%|████████████████████████████████████████████████████████████████████████████████| 1000/1000 [00:03<00:00, 311.98it/s]\n",
      "Training: 100%|████████████████████████████████████████████████████████████████████████████████| 1000/1000 [00:03<00:00, 307.52it/s]\n",
      "Testing 16x16: 100%|████████████████████████████████████████████████████████████████████████████| 100/100 [00:00<00:00, 1801.17it/s]\n"
     ]
    },
    {
     "name": "stdout",
     "output_type": "stream",
     "text": [
      "\n",
      "16x16 Results:\n",
      "Accuracy: 8.00%\n",
      "Avg prediction | Perc: 0.216\n",
      "Avg prediction | Non-Perc: 0.976\n"
     ]
    },
    {
     "name": "stderr",
     "output_type": "stream",
     "text": [
      "Testing 64x64: 100%|████████████████████████████████████████████████████████████████████████████| 100/100 [00:00<00:00, 1000.62it/s]\n"
     ]
    },
    {
     "name": "stdout",
     "output_type": "stream",
     "text": [
      "\n",
      "64x64 Results:\n",
      "Accuracy: 99.00%\n",
      "Avg prediction | Perc: 0.973\n",
      "Avg prediction | Non-Perc: 0.009\n"
     ]
    },
    {
     "name": "stderr",
     "output_type": "stream",
     "text": [
      "Testing 256x256: 100%|███████████████████████████████████████████████████████████████████████████| 100/100 [00:00<00:00, 261.91it/s]\n"
     ]
    },
    {
     "name": "stdout",
     "output_type": "stream",
     "text": [
      "\n",
      "256x256 Results:\n",
      "Accuracy: 1.00%\n",
      "Avg prediction | Perc: 0.030\n",
      "Avg prediction | Non-Perc: 1.000\n"
     ]
    },
    {
     "name": "stderr",
     "output_type": "stream",
     "text": [
      "Testing 64x64: 100%|█████████████████████████████████████████████████████████████████████████████| 200/200 [00:00<00:00, 978.83it/s]\n"
     ]
    },
    {
     "name": "stdout",
     "output_type": "stream",
     "text": [
      "\n",
      "64x64 Results:\n",
      "Accuracy: 59.50%\n",
      "Avg prediction | Perc: 0.518\n",
      "Avg prediction | Non-Perc: 0.353\n",
      "\n",
      "Running 4^4 - Run 1/10\n"
     ]
    },
    {
     "name": "stderr",
     "output_type": "stream",
     "text": [
      "Generating data: 100%|███████████████████████████████████████████████████████████████████████| 10000/10000 [00:27<00:00, 360.67it/s]\n",
      "Training: 100%|█████████████████████████████████████████████████████████████████████████████████| 1000/1000 [00:21<00:00, 47.53it/s]\n",
      "Training: 100%|█████████████████████████████████████████████████████████████████████████████████| 1000/1000 [00:19<00:00, 50.04it/s]\n",
      "Training: 100%|█████████████████████████████████████████████████████████████████████████████████| 1000/1000 [00:20<00:00, 48.60it/s]\n",
      "Training: 100%|█████████████████████████████████████████████████████████████████████████████████| 1000/1000 [00:23<00:00, 42.55it/s]\n",
      "Training: 100%|█████████████████████████████████████████████████████████████████████████████████| 1000/1000 [00:20<00:00, 49.77it/s]\n",
      "Testing 64x64: 100%|█████████████████████████████████████████████████████████████████████████████| 100/100 [00:00<00:00, 246.16it/s]\n"
     ]
    },
    {
     "name": "stdout",
     "output_type": "stream",
     "text": [
      "\n",
      "64x64 Results:\n",
      "Accuracy: 59.00%\n",
      "Avg prediction | Perc: 0.419\n",
      "Avg prediction | Non-Perc: 0.419\n"
     ]
    },
    {
     "name": "stderr",
     "output_type": "stream",
     "text": [
      "Testing 256x256: 100%|███████████████████████████████████████████████████████████████████████████| 100/100 [00:00<00:00, 172.98it/s]\n"
     ]
    },
    {
     "name": "stdout",
     "output_type": "stream",
     "text": [
      "\n",
      "256x256 Results:\n",
      "Accuracy: 62.00%\n",
      "Avg prediction | Perc: 0.418\n",
      "Avg prediction | Non-Perc: 0.418\n"
     ]
    },
    {
     "name": "stderr",
     "output_type": "stream",
     "text": [
      "Testing 1024x1024: 100%|██████████████████████████████████████████████████████████████████████████| 100/100 [00:05<00:00, 19.98it/s]\n"
     ]
    },
    {
     "name": "stdout",
     "output_type": "stream",
     "text": [
      "\n",
      "1024x1024 Results:\n",
      "Accuracy: 60.00%\n",
      "Avg prediction | Perc: 0.418\n",
      "Avg prediction | Non-Perc: 0.418\n"
     ]
    },
    {
     "name": "stderr",
     "output_type": "stream",
     "text": [
      "Testing 256x256: 100%|███████████████████████████████████████████████████████████████████████████| 200/200 [00:00<00:00, 216.91it/s]\n"
     ]
    },
    {
     "name": "stdout",
     "output_type": "stream",
     "text": [
      "\n",
      "256x256 Results:\n",
      "Accuracy: 32.50%\n",
      "Avg prediction | Perc: 0.418\n",
      "Avg prediction | Non-Perc: 0.418\n",
      "\n",
      "Running 4^4 - Run 2/10\n"
     ]
    },
    {
     "name": "stderr",
     "output_type": "stream",
     "text": [
      "Generating data: 100%|███████████████████████████████████████████████████████████████████████| 10000/10000 [00:30<00:00, 330.03it/s]\n",
      "Training: 100%|█████████████████████████████████████████████████████████████████████████████████| 1000/1000 [00:25<00:00, 38.84it/s]\n",
      "Training: 100%|█████████████████████████████████████████████████████████████████████████████████| 1000/1000 [00:23<00:00, 42.86it/s]\n",
      "Training: 100%|█████████████████████████████████████████████████████████████████████████████████| 1000/1000 [00:22<00:00, 43.61it/s]\n",
      "Training: 100%|█████████████████████████████████████████████████████████████████████████████████| 1000/1000 [00:22<00:00, 44.53it/s]\n",
      "Training: 100%|█████████████████████████████████████████████████████████████████████████████████| 1000/1000 [00:21<00:00, 46.46it/s]\n",
      "Testing 64x64: 100%|█████████████████████████████████████████████████████████████████████████████| 100/100 [00:00<00:00, 364.90it/s]\n"
     ]
    },
    {
     "name": "stdout",
     "output_type": "stream",
     "text": [
      "\n",
      "64x64 Results:\n",
      "Accuracy: 60.00%\n",
      "Avg prediction | Perc: 0.399\n",
      "Avg prediction | Non-Perc: 0.399\n"
     ]
    },
    {
     "name": "stderr",
     "output_type": "stream",
     "text": [
      "Testing 256x256: 100%|███████████████████████████████████████████████████████████████████████████| 100/100 [00:00<00:00, 238.04it/s]\n"
     ]
    },
    {
     "name": "stdout",
     "output_type": "stream",
     "text": [
      "\n",
      "256x256 Results:\n",
      "Accuracy: 57.00%\n",
      "Avg prediction | Perc: 0.398\n",
      "Avg prediction | Non-Perc: 0.398\n"
     ]
    },
    {
     "name": "stderr",
     "output_type": "stream",
     "text": [
      "Testing 1024x1024: 100%|██████████████████████████████████████████████████████████████████████████| 100/100 [00:04<00:00, 20.12it/s]\n"
     ]
    },
    {
     "name": "stdout",
     "output_type": "stream",
     "text": [
      "\n",
      "1024x1024 Results:\n",
      "Accuracy: 55.00%\n",
      "Avg prediction | Perc: 0.398\n",
      "Avg prediction | Non-Perc: 0.398\n"
     ]
    },
    {
     "name": "stderr",
     "output_type": "stream",
     "text": [
      "Testing 256x256: 100%|███████████████████████████████████████████████████████████████████████████| 200/200 [00:00<00:00, 213.88it/s]\n"
     ]
    },
    {
     "name": "stdout",
     "output_type": "stream",
     "text": [
      "\n",
      "256x256 Results:\n",
      "Accuracy: 37.00%\n",
      "Avg prediction | Perc: 0.398\n",
      "Avg prediction | Non-Perc: 0.398\n",
      "\n",
      "Running 4^4 - Run 3/10\n"
     ]
    },
    {
     "name": "stderr",
     "output_type": "stream",
     "text": [
      "Generating data: 100%|███████████████████████████████████████████████████████████████████████| 10000/10000 [00:27<00:00, 369.04it/s]\n",
      "Training: 100%|█████████████████████████████████████████████████████████████████████████████████| 1000/1000 [00:20<00:00, 49.87it/s]\n",
      "Training: 100%|█████████████████████████████████████████████████████████████████████████████████| 1000/1000 [00:23<00:00, 42.33it/s]\n",
      "Training: 100%|█████████████████████████████████████████████████████████████████████████████████| 1000/1000 [00:20<00:00, 48.03it/s]\n",
      "Training: 100%|█████████████████████████████████████████████████████████████████████████████████| 1000/1000 [00:23<00:00, 42.49it/s]\n",
      "Training: 100%|█████████████████████████████████████████████████████████████████████████████████| 1000/1000 [00:22<00:00, 44.73it/s]\n",
      "Testing 64x64: 100%|█████████████████████████████████████████████████████████████████████████████| 100/100 [00:00<00:00, 581.85it/s]\n"
     ]
    },
    {
     "name": "stdout",
     "output_type": "stream",
     "text": [
      "\n",
      "64x64 Results:\n",
      "Accuracy: 66.00%\n",
      "Avg prediction | Perc: 0.274\n",
      "Avg prediction | Non-Perc: 0.371\n"
     ]
    },
    {
     "name": "stderr",
     "output_type": "stream",
     "text": [
      "Testing 256x256: 100%|███████████████████████████████████████████████████████████████████████████| 100/100 [00:00<00:00, 220.69it/s]\n"
     ]
    },
    {
     "name": "stdout",
     "output_type": "stream",
     "text": [
      "\n",
      "256x256 Results:\n",
      "Accuracy: 49.00%\n",
      "Avg prediction | Perc: 0.394\n",
      "Avg prediction | Non-Perc: 0.273\n"
     ]
    },
    {
     "name": "stderr",
     "output_type": "stream",
     "text": [
      "Testing 1024x1024: 100%|██████████████████████████████████████████████████████████████████████████| 100/100 [00:05<00:00, 19.74it/s]\n"
     ]
    },
    {
     "name": "stdout",
     "output_type": "stream",
     "text": [
      "\n",
      "1024x1024 Results:\n",
      "Accuracy: 61.00%\n",
      "Avg prediction | Perc: 0.266\n",
      "Avg prediction | Non-Perc: 0.388\n"
     ]
    },
    {
     "name": "stderr",
     "output_type": "stream",
     "text": [
      "Testing 256x256: 100%|███████████████████████████████████████████████████████████████████████████| 200/200 [00:00<00:00, 220.55it/s]\n"
     ]
    },
    {
     "name": "stdout",
     "output_type": "stream",
     "text": [
      "\n",
      "256x256 Results:\n",
      "Accuracy: 31.50%\n",
      "Avg prediction | Perc: 0.298\n",
      "Avg prediction | Non-Perc: 0.287\n",
      "\n",
      "Running 4^4 - Run 4/10\n"
     ]
    },
    {
     "name": "stderr",
     "output_type": "stream",
     "text": [
      "Generating data: 100%|███████████████████████████████████████████████████████████████████████| 10000/10000 [00:27<00:00, 357.91it/s]\n",
      "Training: 100%|█████████████████████████████████████████████████████████████████████████████████| 1000/1000 [00:21<00:00, 46.62it/s]\n",
      "Training: 100%|█████████████████████████████████████████████████████████████████████████████████| 1000/1000 [00:20<00:00, 49.23it/s]\n",
      "Training: 100%|█████████████████████████████████████████████████████████████████████████████████| 1000/1000 [00:20<00:00, 49.81it/s]\n",
      "Training: 100%|█████████████████████████████████████████████████████████████████████████████████| 1000/1000 [00:17<00:00, 56.24it/s]\n",
      "Training: 100%|█████████████████████████████████████████████████████████████████████████████████| 1000/1000 [00:15<00:00, 66.48it/s]\n",
      "Testing 64x64: 100%|█████████████████████████████████████████████████████████████████████████████| 100/100 [00:00<00:00, 428.84it/s]\n"
     ]
    },
    {
     "name": "stdout",
     "output_type": "stream",
     "text": [
      "\n",
      "64x64 Results:\n",
      "Accuracy: 62.00%\n",
      "Avg prediction | Perc: 0.427\n",
      "Avg prediction | Non-Perc: 0.428\n"
     ]
    },
    {
     "name": "stderr",
     "output_type": "stream",
     "text": [
      "Testing 256x256: 100%|███████████████████████████████████████████████████████████████████████████| 100/100 [00:00<00:00, 201.96it/s]\n"
     ]
    },
    {
     "name": "stdout",
     "output_type": "stream",
     "text": [
      "\n",
      "256x256 Results:\n",
      "Accuracy: 54.00%\n",
      "Avg prediction | Perc: 0.426\n",
      "Avg prediction | Non-Perc: 0.426\n"
     ]
    },
    {
     "name": "stderr",
     "output_type": "stream",
     "text": [
      "Testing 1024x1024: 100%|██████████████████████████████████████████████████████████████████████████| 100/100 [00:05<00:00, 19.77it/s]\n"
     ]
    },
    {
     "name": "stdout",
     "output_type": "stream",
     "text": [
      "\n",
      "1024x1024 Results:\n",
      "Accuracy: 62.00%\n",
      "Avg prediction | Perc: 0.426\n",
      "Avg prediction | Non-Perc: 0.426\n"
     ]
    },
    {
     "name": "stderr",
     "output_type": "stream",
     "text": [
      "Testing 256x256: 100%|███████████████████████████████████████████████████████████████████████████| 200/200 [00:00<00:00, 224.67it/s]\n"
     ]
    },
    {
     "name": "stdout",
     "output_type": "stream",
     "text": [
      "\n",
      "256x256 Results:\n",
      "Accuracy: 30.00%\n",
      "Avg prediction | Perc: 0.426\n",
      "Avg prediction | Non-Perc: 0.426\n",
      "\n",
      "Running 4^4 - Run 5/10\n"
     ]
    },
    {
     "name": "stderr",
     "output_type": "stream",
     "text": [
      "Generating data: 100%|███████████████████████████████████████████████████████████████████████| 10000/10000 [00:27<00:00, 365.10it/s]\n",
      "Training: 100%|█████████████████████████████████████████████████████████████████████████████████| 1000/1000 [00:11<00:00, 89.22it/s]\n",
      "Training: 100%|████████████████████████████████████████████████████████████████████████████████| 1000/1000 [00:09<00:00, 101.70it/s]\n",
      "Training: 100%|████████████████████████████████████████████████████████████████████████████████| 1000/1000 [00:07<00:00, 136.01it/s]\n",
      "Training: 100%|████████████████████████████████████████████████████████████████████████████████| 1000/1000 [00:07<00:00, 133.07it/s]\n",
      "Training: 100%|████████████████████████████████████████████████████████████████████████████████| 1000/1000 [00:07<00:00, 137.97it/s]\n",
      "Testing 64x64: 100%|█████████████████████████████████████████████████████████████████████████████| 100/100 [00:00<00:00, 797.75it/s]\n"
     ]
    },
    {
     "name": "stdout",
     "output_type": "stream",
     "text": [
      "\n",
      "64x64 Results:\n",
      "Accuracy: 61.00%\n",
      "Avg prediction | Perc: 0.420\n",
      "Avg prediction | Non-Perc: 0.421\n"
     ]
    },
    {
     "name": "stderr",
     "output_type": "stream",
     "text": [
      "Testing 256x256: 100%|███████████████████████████████████████████████████████████████████████████| 100/100 [00:00<00:00, 202.38it/s]\n"
     ]
    },
    {
     "name": "stdout",
     "output_type": "stream",
     "text": [
      "\n",
      "256x256 Results:\n",
      "Accuracy: 57.00%\n",
      "Avg prediction | Perc: 0.419\n",
      "Avg prediction | Non-Perc: 0.419\n"
     ]
    },
    {
     "name": "stderr",
     "output_type": "stream",
     "text": [
      "Testing 1024x1024: 100%|██████████████████████████████████████████████████████████████████████████| 100/100 [00:05<00:00, 18.25it/s]\n"
     ]
    },
    {
     "name": "stdout",
     "output_type": "stream",
     "text": [
      "\n",
      "1024x1024 Results:\n",
      "Accuracy: 57.00%\n",
      "Avg prediction | Perc: 0.419\n",
      "Avg prediction | Non-Perc: 0.419\n"
     ]
    },
    {
     "name": "stderr",
     "output_type": "stream",
     "text": [
      "Testing 256x256: 100%|███████████████████████████████████████████████████████████████████████████| 200/200 [00:00<00:00, 228.74it/s]\n"
     ]
    },
    {
     "name": "stdout",
     "output_type": "stream",
     "text": [
      "\n",
      "256x256 Results:\n",
      "Accuracy: 30.00%\n",
      "Avg prediction | Perc: 0.419\n",
      "Avg prediction | Non-Perc: 0.419\n",
      "\n",
      "Running 4^4 - Run 6/10\n"
     ]
    },
    {
     "name": "stderr",
     "output_type": "stream",
     "text": [
      "Generating data: 100%|███████████████████████████████████████████████████████████████████████| 10000/10000 [00:27<00:00, 357.51it/s]\n",
      "Training: 100%|█████████████████████████████████████████████████████████████████████████████████| 1000/1000 [00:18<00:00, 54.04it/s]\n",
      "Training: 100%|█████████████████████████████████████████████████████████████████████████████████| 1000/1000 [00:17<00:00, 57.04it/s]\n",
      "Training: 100%|█████████████████████████████████████████████████████████████████████████████████| 1000/1000 [00:16<00:00, 59.72it/s]\n",
      "Training: 100%|█████████████████████████████████████████████████████████████████████████████████| 1000/1000 [00:10<00:00, 91.45it/s]\n",
      "Training: 100%|█████████████████████████████████████████████████████████████████████████████████| 1000/1000 [00:20<00:00, 47.73it/s]\n",
      "Testing 64x64: 100%|█████████████████████████████████████████████████████████████████████████████| 100/100 [00:00<00:00, 707.03it/s]\n"
     ]
    },
    {
     "name": "stdout",
     "output_type": "stream",
     "text": [
      "\n",
      "64x64 Results:\n",
      "Accuracy: 62.00%\n",
      "Avg prediction | Perc: 0.417\n",
      "Avg prediction | Non-Perc: 0.418\n"
     ]
    },
    {
     "name": "stderr",
     "output_type": "stream",
     "text": [
      "Testing 256x256: 100%|███████████████████████████████████████████████████████████████████████████| 100/100 [00:00<00:00, 167.66it/s]\n"
     ]
    },
    {
     "name": "stdout",
     "output_type": "stream",
     "text": [
      "\n",
      "256x256 Results:\n",
      "Accuracy: 55.00%\n",
      "Avg prediction | Perc: 0.416\n",
      "Avg prediction | Non-Perc: 0.416\n"
     ]
    },
    {
     "name": "stderr",
     "output_type": "stream",
     "text": [
      "Testing 1024x1024: 100%|██████████████████████████████████████████████████████████████████████████| 100/100 [00:05<00:00, 18.76it/s]\n"
     ]
    },
    {
     "name": "stdout",
     "output_type": "stream",
     "text": [
      "\n",
      "1024x1024 Results:\n",
      "Accuracy: 68.00%\n",
      "Avg prediction | Perc: 0.416\n",
      "Avg prediction | Non-Perc: 0.416\n"
     ]
    },
    {
     "name": "stderr",
     "output_type": "stream",
     "text": [
      "Testing 256x256: 100%|███████████████████████████████████████████████████████████████████████████| 200/200 [00:00<00:00, 223.76it/s]\n"
     ]
    },
    {
     "name": "stdout",
     "output_type": "stream",
     "text": [
      "\n",
      "256x256 Results:\n",
      "Accuracy: 28.50%\n",
      "Avg prediction | Perc: 0.416\n",
      "Avg prediction | Non-Perc: 0.416\n",
      "\n",
      "Running 4^4 - Run 7/10\n"
     ]
    },
    {
     "name": "stderr",
     "output_type": "stream",
     "text": [
      "Generating data: 100%|████████████████████████████████████████████████████████████████████████| 10000/10000 [02:58<00:00, 56.06it/s]\n",
      "Training: 100%|█████████████████████████████████████████████████████████████████████████████████| 1000/1000 [00:22<00:00, 45.35it/s]\n",
      "Training: 100%|█████████████████████████████████████████████████████████████████████████████████| 1000/1000 [00:22<00:00, 43.55it/s]\n",
      "Training: 100%|█████████████████████████████████████████████████████████████████████████████████| 1000/1000 [00:24<00:00, 41.15it/s]\n",
      "Training: 100%|█████████████████████████████████████████████████████████████████████████████████| 1000/1000 [00:22<00:00, 44.31it/s]\n",
      "Training: 100%|█████████████████████████████████████████████████████████████████████████████████| 1000/1000 [00:22<00:00, 43.96it/s]\n",
      "Testing 64x64: 100%|█████████████████████████████████████████████████████████████████████████████| 100/100 [00:00<00:00, 711.40it/s]\n"
     ]
    },
    {
     "name": "stdout",
     "output_type": "stream",
     "text": [
      "\n",
      "64x64 Results:\n",
      "Accuracy: 57.00%\n",
      "Avg prediction | Perc: 0.405\n",
      "Avg prediction | Non-Perc: 0.405\n"
     ]
    },
    {
     "name": "stderr",
     "output_type": "stream",
     "text": [
      "Testing 256x256: 100%|███████████████████████████████████████████████████████████████████████████| 100/100 [00:00<00:00, 222.60it/s]\n"
     ]
    },
    {
     "name": "stdout",
     "output_type": "stream",
     "text": [
      "\n",
      "256x256 Results:\n",
      "Accuracy: 59.00%\n",
      "Avg prediction | Perc: 0.404\n",
      "Avg prediction | Non-Perc: 0.404\n"
     ]
    },
    {
     "name": "stderr",
     "output_type": "stream",
     "text": [
      "Testing 1024x1024: 100%|██████████████████████████████████████████████████████████████████████████| 100/100 [00:05<00:00, 19.74it/s]\n"
     ]
    },
    {
     "name": "stdout",
     "output_type": "stream",
     "text": [
      "\n",
      "1024x1024 Results:\n",
      "Accuracy: 63.00%\n",
      "Avg prediction | Perc: 0.404\n",
      "Avg prediction | Non-Perc: 0.404\n"
     ]
    },
    {
     "name": "stderr",
     "output_type": "stream",
     "text": [
      "Testing 256x256: 100%|███████████████████████████████████████████████████████████████████████████| 200/200 [00:00<00:00, 228.23it/s]\n"
     ]
    },
    {
     "name": "stdout",
     "output_type": "stream",
     "text": [
      "\n",
      "256x256 Results:\n",
      "Accuracy: 34.00%\n",
      "Avg prediction | Perc: 0.404\n",
      "Avg prediction | Non-Perc: 0.404\n",
      "\n",
      "Running 4^4 - Run 8/10\n"
     ]
    },
    {
     "name": "stderr",
     "output_type": "stream",
     "text": [
      "Generating data: 100%|███████████████████████████████████████████████████████████████████████| 10000/10000 [00:27<00:00, 357.51it/s]\n",
      "Training: 100%|█████████████████████████████████████████████████████████████████████████████████| 1000/1000 [00:20<00:00, 49.09it/s]\n",
      "Training: 100%|█████████████████████████████████████████████████████████████████████████████████| 1000/1000 [00:22<00:00, 44.66it/s]\n",
      "Training: 100%|█████████████████████████████████████████████████████████████████████████████████| 1000/1000 [00:18<00:00, 54.99it/s]\n",
      "Training: 100%|█████████████████████████████████████████████████████████████████████████████████| 1000/1000 [00:18<00:00, 52.95it/s]\n",
      "Training: 100%|█████████████████████████████████████████████████████████████████████████████████| 1000/1000 [00:21<00:00, 45.79it/s]\n",
      "Testing 64x64: 100%|█████████████████████████████████████████████████████████████████████████████| 100/100 [00:00<00:00, 489.55it/s]\n"
     ]
    },
    {
     "name": "stdout",
     "output_type": "stream",
     "text": [
      "\n",
      "64x64 Results:\n",
      "Accuracy: 72.00%\n",
      "Avg prediction | Perc: 0.403\n",
      "Avg prediction | Non-Perc: 0.403\n"
     ]
    },
    {
     "name": "stderr",
     "output_type": "stream",
     "text": [
      "Testing 256x256: 100%|███████████████████████████████████████████████████████████████████████████| 100/100 [00:00<00:00, 237.62it/s]\n"
     ]
    },
    {
     "name": "stdout",
     "output_type": "stream",
     "text": [
      "\n",
      "256x256 Results:\n",
      "Accuracy: 67.00%\n",
      "Avg prediction | Perc: 0.400\n",
      "Avg prediction | Non-Perc: 0.400\n"
     ]
    },
    {
     "name": "stderr",
     "output_type": "stream",
     "text": [
      "Testing 1024x1024: 100%|██████████████████████████████████████████████████████████████████████████| 100/100 [00:05<00:00, 19.22it/s]\n"
     ]
    },
    {
     "name": "stdout",
     "output_type": "stream",
     "text": [
      "\n",
      "1024x1024 Results:\n",
      "Accuracy: 60.00%\n",
      "Avg prediction | Perc: 0.401\n",
      "Avg prediction | Non-Perc: 0.401\n"
     ]
    },
    {
     "name": "stderr",
     "output_type": "stream",
     "text": [
      "Testing 256x256: 100%|███████████████████████████████████████████████████████████████████████████| 200/200 [00:00<00:00, 207.59it/s]\n"
     ]
    },
    {
     "name": "stdout",
     "output_type": "stream",
     "text": [
      "\n",
      "256x256 Results:\n",
      "Accuracy: 28.00%\n",
      "Avg prediction | Perc: 0.400\n",
      "Avg prediction | Non-Perc: 0.401\n",
      "\n",
      "Running 4^4 - Run 9/10\n"
     ]
    },
    {
     "name": "stderr",
     "output_type": "stream",
     "text": [
      "Generating data: 100%|███████████████████████████████████████████████████████████████████████| 10000/10000 [00:29<00:00, 334.30it/s]\n",
      "Training: 100%|█████████████████████████████████████████████████████████████████████████████████| 1000/1000 [00:20<00:00, 49.06it/s]\n",
      "Training: 100%|█████████████████████████████████████████████████████████████████████████████████| 1000/1000 [00:21<00:00, 47.43it/s]\n",
      "Training: 100%|█████████████████████████████████████████████████████████████████████████████████| 1000/1000 [00:19<00:00, 50.02it/s]\n",
      "Training: 100%|█████████████████████████████████████████████████████████████████████████████████| 1000/1000 [00:20<00:00, 49.83it/s]\n",
      "Training: 100%|█████████████████████████████████████████████████████████████████████████████████| 1000/1000 [00:19<00:00, 52.35it/s]\n",
      "Testing 64x64: 100%|█████████████████████████████████████████████████████████████████████████████| 100/100 [00:00<00:00, 369.08it/s]\n"
     ]
    },
    {
     "name": "stdout",
     "output_type": "stream",
     "text": [
      "\n",
      "64x64 Results:\n",
      "Accuracy: 62.00%\n",
      "Avg prediction | Perc: 0.413\n",
      "Avg prediction | Non-Perc: 0.412\n"
     ]
    },
    {
     "name": "stderr",
     "output_type": "stream",
     "text": [
      "Testing 256x256: 100%|███████████████████████████████████████████████████████████████████████████| 100/100 [00:00<00:00, 192.76it/s]\n"
     ]
    },
    {
     "name": "stdout",
     "output_type": "stream",
     "text": [
      "\n",
      "256x256 Results:\n",
      "Accuracy: 60.00%\n",
      "Avg prediction | Perc: 0.411\n",
      "Avg prediction | Non-Perc: 0.411\n"
     ]
    },
    {
     "name": "stderr",
     "output_type": "stream",
     "text": [
      "Testing 1024x1024: 100%|██████████████████████████████████████████████████████████████████████████| 100/100 [00:05<00:00, 19.71it/s]\n"
     ]
    },
    {
     "name": "stdout",
     "output_type": "stream",
     "text": [
      "\n",
      "1024x1024 Results:\n",
      "Accuracy: 69.00%\n",
      "Avg prediction | Perc: 0.411\n",
      "Avg prediction | Non-Perc: 0.411\n"
     ]
    },
    {
     "name": "stderr",
     "output_type": "stream",
     "text": [
      "Testing 256x256: 100%|███████████████████████████████████████████████████████████████████████████| 200/200 [00:00<00:00, 228.04it/s]\n"
     ]
    },
    {
     "name": "stdout",
     "output_type": "stream",
     "text": [
      "\n",
      "256x256 Results:\n",
      "Accuracy: 32.00%\n",
      "Avg prediction | Perc: 0.411\n",
      "Avg prediction | Non-Perc: 0.411\n",
      "\n",
      "Running 4^4 - Run 10/10\n"
     ]
    },
    {
     "name": "stderr",
     "output_type": "stream",
     "text": [
      "Generating data: 100%|███████████████████████████████████████████████████████████████████████| 10000/10000 [00:28<00:00, 352.32it/s]\n",
      "Training: 100%|█████████████████████████████████████████████████████████████████████████████████| 1000/1000 [00:18<00:00, 54.04it/s]\n",
      "Training: 100%|█████████████████████████████████████████████████████████████████████████████████| 1000/1000 [00:19<00:00, 51.69it/s]\n",
      "Training: 100%|█████████████████████████████████████████████████████████████████████████████████| 1000/1000 [00:15<00:00, 66.20it/s]\n",
      "Training: 100%|█████████████████████████████████████████████████████████████████████████████████| 1000/1000 [00:14<00:00, 66.79it/s]\n",
      "Training: 100%|█████████████████████████████████████████████████████████████████████████████████| 1000/1000 [00:11<00:00, 88.73it/s]\n",
      "Testing 64x64: 100%|█████████████████████████████████████████████████████████████████████████████| 100/100 [00:00<00:00, 371.15it/s]\n"
     ]
    },
    {
     "name": "stdout",
     "output_type": "stream",
     "text": [
      "\n",
      "64x64 Results:\n",
      "Accuracy: 63.00%\n",
      "Avg prediction | Perc: 0.420\n",
      "Avg prediction | Non-Perc: 0.421\n"
     ]
    },
    {
     "name": "stderr",
     "output_type": "stream",
     "text": [
      "Testing 256x256: 100%|███████████████████████████████████████████████████████████████████████████| 100/100 [00:00<00:00, 200.80it/s]\n"
     ]
    },
    {
     "name": "stdout",
     "output_type": "stream",
     "text": [
      "\n",
      "256x256 Results:\n",
      "Accuracy: 52.00%\n",
      "Avg prediction | Perc: 0.420\n",
      "Avg prediction | Non-Perc: 0.420\n"
     ]
    },
    {
     "name": "stderr",
     "output_type": "stream",
     "text": [
      "Testing 1024x1024: 100%|██████████████████████████████████████████████████████████████████████████| 100/100 [00:05<00:00, 19.97it/s]\n"
     ]
    },
    {
     "name": "stdout",
     "output_type": "stream",
     "text": [
      "\n",
      "1024x1024 Results:\n",
      "Accuracy: 71.00%\n",
      "Avg prediction | Perc: 0.420\n",
      "Avg prediction | Non-Perc: 0.420\n"
     ]
    },
    {
     "name": "stderr",
     "output_type": "stream",
     "text": [
      "Testing 256x256: 100%|███████████████████████████████████████████████████████████████████████████| 200/200 [00:00<00:00, 225.28it/s]\n"
     ]
    },
    {
     "name": "stdout",
     "output_type": "stream",
     "text": [
      "\n",
      "256x256 Results:\n",
      "Accuracy: 37.00%\n",
      "Avg prediction | Perc: 0.420\n",
      "Avg prediction | Non-Perc: 0.420\n"
     ]
    }
   ],
   "source": [
    "# Main experiment loop\n",
    "all_results = {}\n",
    "all_plots = {}\n",
    "combinations = [(3, 2), (3, 3), (3, 4), (4, 2), (4, 3), (4, 4)]\n",
    "n_runs = 10\n",
    "\n",
    "for DIM, POWER in combinations:\n",
    "    key = f\"{DIM}^{POWER}\"\n",
    "    all_results[key] = []\n",
    "    all_plots[key] = []\n",
    "    \n",
    "    for run in range(n_runs):\n",
    "        print(f\"\\nRunning {key} - Run {run+1}/{n_runs}\")\n",
    "        summaries, plot_data = run_experiment(DIM, POWER, run)\n",
    "        all_results[key].append(summaries)\n",
    "        all_plots[key].append(plot_data)\n",
    "    "
   ]
  },
  {
   "cell_type": "code",
   "execution_count": 4,
   "id": "fe09ad63-807a-41f3-8599-25159af1a324",
   "metadata": {},
   "outputs": [],
   "source": [
    "# Generate consolidated PDF report\n",
    "with PdfPages(\"consolidated_results.pdf\") as pdf:\n",
    "    for DIM, POWER in combinations:\n",
    "        key = f\"{DIM}^{POWER}\"\n",
    "        \n",
    "        plt.figure(figsize=(10, 6))\n",
    "        fixed_points = []\n",
    "        \n",
    "        for run_idx, (ps, outputs) in enumerate(all_plots[key]):\n",
    "            plt.plot(ps, outputs, alpha=0.5)\n",
    "            \n",
    "            # Find intersection with f(p) = p\n",
    "            diff = np.array(outputs) - np.array(ps)\n",
    "            sign_changes = np.where(np.diff(np.sign(diff)))[0]\n",
    "            \n",
    "            # For each sign change, find the approximate fixed point\n",
    "            run_fixed_points = []\n",
    "            for i in sign_changes:\n",
    "                if i+1 < len(ps):\n",
    "                    x0, x1 = ps[i], ps[i+1]\n",
    "                    y0, y1 = outputs[i], outputs[i+1]\n",
    "                    # Linear approximation of intersection\n",
    "                    t = (x0 - y0) / ((y1 - y0) - (x1 - x0))\n",
    "                    fixed_point = x0 + t * (x1 - x0)\n",
    "                    run_fixed_points.append(fixed_point)\n",
    "            \n",
    "            if run_fixed_points:\n",
    "                # Take the fixed point closest to the known critical point (~0.5927)\n",
    "                best_fp = min(run_fixed_points, key=lambda x: abs(x - 0.5927))\n",
    "                fixed_points.append(best_fp)\n",
    "                plt.scatter([best_fp], [best_fp], color='black', s=20)\n",
    "        \n",
    "        # Plot f(p) = p line\n",
    "        plt.plot([0, 1], [0, 1], color=\"black\", linestyle=\"--\", label=\"f(p) = p\")\n",
    "        \n",
    "        # Add mean fixed point if available\n",
    "        if fixed_points:\n",
    "            mean_fp = np.mean(fixed_points)\n",
    "            plt.plot(mean_fp, mean_fp, color='red', label=f\"Mean Fixed Point: {mean_fp:.4f}\")\n",
    "        \n",
    "        plt.title(f\"AFC Rule Projection - Configuration {key}\", fontsize=20)\n",
    "        plt.xlabel(\"$p$\", fontsize=16)\n",
    "        plt.ylabel(r\"$f_{\\theta}(p\\mathbf{1})$\", fontsize=16)\n",
    "        plt.legend(fontsize=12)\n",
    "        pdf.savefig()\n",
    "        plt.close()\n",
    "\n",
    "# Generate consolidated text report\n",
    "with open(\"consolidated_accuracies.txt\", \"w\", encoding=\"utf8\") as f:\n",
    "    for DIM, POWER in combinations:\n",
    "        key = f\"{DIM}^{POWER}\"\n",
    "        \n",
    "        f.write(f\"\\n{'='*40}\\nConfiguration: {key}\\n{'='*40}\\n\")\n",
    "        \n",
    "        # Get fixed points for this configuration\n",
    "        config_fixed_points = []\n",
    "        for run_data in all_plots[key]:\n",
    "            ps, outputs = run_data\n",
    "            diff = np.array(outputs) - np.array(ps)\n",
    "            sign_changes = np.where(np.diff(np.sign(diff)))[0]\n",
    "            \n",
    "            run_fixed_points = []\n",
    "            for i in sign_changes:\n",
    "                if i+1 < len(ps):\n",
    "                    x0, x1 = ps[i], ps[i+1]\n",
    "                    y0, y1 = outputs[i], outputs[i+1]\n",
    "                    t = (x0 - y0) / ((y1 - y0) - (x1 - x0))\n",
    "                    fixed_point = x0 + t * (x1 - x0)\n",
    "                    run_fixed_points.append(fixed_point)\n",
    "            \n",
    "            if run_fixed_points:\n",
    "                best_fp = min(run_fixed_points, key=lambda x: abs(x - 0.5927))\n",
    "                config_fixed_points.append(best_fp)\n",
    "        \n",
    "        if config_fixed_points:\n",
    "            mean_fp = np.mean(config_fixed_points)\n",
    "            std_fp = np.std(config_fixed_points)\n",
    "            f.write(\"Fixed Points (intersection with f(p) = p):\\n\")\n",
    "            f.write(f\"  Values: {[f'{fp:.6f}' for fp in config_fixed_points]}\\n\")\n",
    "            f.write(f\"  Mean: {mean_fp:.6f} ± {std_fp:.6f}\\n\\n\")\n",
    "        else:\n",
    "            f.write(\"No clear fixed points found (no intersection with f(p) = p)\\n\\n\")\n",
    "        \n",
    "        # Write accuracy information with full details for each test type\n",
    "        test_types = [\"smaller_0.1-0.9\", \"standard_0.1-0.9\", \"larger_0.1-0.9\", \"standard_0.58-0.61\"]\n",
    "        for test_type in test_types:\n",
    "            f.write(f\"{test_type.replace('_', ' ')}:\\n\")\n",
    "            \n",
    "            # Get all runs' results for this test type\n",
    "            all_runs_results = [run[test_type] for run in all_results[key]]\n",
    "            \n",
    "            # Write detailed accuracy for each run\n",
    "            for run_idx, (acc, mean_perc, mean_non_perc) in enumerate(all_runs_results):\n",
    "                f.write(f\"  Run {run_idx+1}:\\n\")\n",
    "                f.write(f\"    Accuracy: {acc:.4f}\\n\")\n",
    "                f.write(f\"    Avg prediction | Perc: {mean_perc:.4f}\\n\")\n",
    "                f.write(f\"    Avg prediction | Non-Perc: {mean_non_perc:.4f}\\n\")\n",
    "            \n",
    "            # Calculate and write summary statistics\n",
    "            accs = [x[0] for x in all_runs_results]\n",
    "            mean_percs = [x[1] for x in all_runs_results]\n",
    "            mean_non_percs = [x[2] for x in all_runs_results]\n",
    "            \n",
    "            f.write(\"\\n  Summary statistics:\\n\")\n",
    "            f.write(f\"    Accuracy: {np.mean(accs):.4f} ± {np.std(accs):.4f}\\n\")\n",
    "            f.write(f\"    Avg prediction | Perc: {np.mean(mean_percs):.4f} ± {np.std(mean_percs):.4f}\\n\")\n",
    "            f.write(f\"    Avg prediction | Non-Perc: {np.mean(mean_non_percs):.4f} ± {np.std(mean_non_percs):.4f}\\n\\n\")"
   ]
  }
 ],
 "metadata": {
  "kernelspec": {
   "display_name": "Python 3 (ipykernel)",
   "language": "python",
   "name": "python3"
  },
  "language_info": {
   "codemirror_mode": {
    "name": "ipython",
    "version": 3
   },
   "file_extension": ".py",
   "mimetype": "text/x-python",
   "name": "python",
   "nbconvert_exporter": "python",
   "pygments_lexer": "ipython3",
   "version": "3.9.4"
  }
 },
 "nbformat": 4,
 "nbformat_minor": 5
}

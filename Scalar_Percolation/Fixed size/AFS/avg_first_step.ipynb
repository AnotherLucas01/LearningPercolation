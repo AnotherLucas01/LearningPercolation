{
 "cells": [
  {
   "cell_type": "code",
   "execution_count": 1,
   "id": "944e6060-c069-4c88-8611-32794e639c69",
   "metadata": {},
   "outputs": [],
   "source": [
    "import numpy as np\n",
    "import torch\n",
    "import torch.nn as nn\n",
    "import torch.nn.functional as F\n",
    "import torch.optim as optim\n",
    "from scipy.ndimage import label\n",
    "from tqdm import tqdm\n",
    "\n",
    "# Configuration\n",
    "DIM = 3\n",
    "POWER = 3\n",
    "MAX_STEPS = POWER + 5\n",
    "\n",
    "def generate_percolation_lattice(size, p):\n",
    "    return np.random.choice([0, 1], (size, size), p=[1-p, p]).astype(np.uint8)\n",
    "\n",
    "def check_percolation(lattice):\n",
    "    labeled, _ = label(lattice)\n",
    "    top = set(labeled[0]) - {0}\n",
    "    bottom = set(labeled[-1]) - {0}\n",
    "    left = set(labeled[:,0]) - {0}\n",
    "    right = set(labeled[:,-1]) - {0}\n",
    "    return float(bool(top & bottom) or bool(left & right))\n",
    "\n",
    "def first_coarse_graining(binary_lattice, dim):\n",
    "    \"\"\"Average non-overlapping dim×dim blocks.\"\"\"\n",
    "    t = torch.tensor(binary_lattice, dtype=torch.float32).unsqueeze(0).unsqueeze(0)\n",
    "    patches = F.unfold(t, kernel_size=dim, stride=dim)             # [1, dim*dim, num_patches]\n",
    "    patches = patches.permute(0, 2, 1)                             # [1, num_patches, dim*dim]\n",
    "    coarse_vals = patches.mean(dim=2)                             # [1, num_patches]\n",
    "    H, W = binary_lattice.shape\n",
    "    new_h, new_w = H // dim, W // dim\n",
    "    return coarse_vals.view(1, 1, new_h, new_w).squeeze(0)        # [1, new_h, new_w]\n",
    "\n",
    "class PercolationModel(nn.Module):\n",
    "    def __init__(self, dim):\n",
    "        super().__init__()\n",
    "        self.dim = dim\n",
    "        self.rule = nn.Sequential(\n",
    "            nn.Linear(dim * dim, 64),\n",
    "            nn.ReLU(),\n",
    "            nn.Linear(64, 1),\n",
    "            nn.Sigmoid()\n",
    "        )\n",
    "    \n",
    "    def forward(self, x, max_steps=MAX_STEPS):\n",
    "        b, c, H, W = x.shape\n",
    "        for _ in range(max_steps):\n",
    "            if H < self.dim or W < self.dim:\n",
    "                break\n",
    "            patches = F.unfold(x, kernel_size=self.dim, stride=self.dim)  # [b, dim*dim, np]\n",
    "            patches = patches.permute(0, 2, 1).contiguous()               # [b, np, dim*dim]\n",
    "            out = self.rule(patches.view(-1, self.dim*self.dim))          # [b*np, 1]\n",
    "            new_h, new_w = H // self.dim, W // self.dim\n",
    "            x = out.view(b, 1, new_h, new_w)\n",
    "            _, _, H, W = x.shape\n",
    "        return x.squeeze(1).view(b, -1)  # returns shape [b, new_h*new_w] or [b] if fully reduced\n",
    "\n",
    "def prepare_dataset(N, size):\n",
    "    data = []\n",
    "    for _ in tqdm(range(N), desc=\"Generating data\"):\n",
    "        p = np.random.uniform(0.1, 0.9)\n",
    "        L = generate_percolation_lattice(size, p)\n",
    "        data.append((L, check_percolation(L)))\n",
    "    return data\n",
    "\n",
    "def train_epoch(model, device, data, batch_size, opt, crit):\n",
    "    model.train()\n",
    "    total_loss = 0.0\n",
    "    for i in tqdm(range(0, len(data), batch_size), desc=\"Training\"):\n",
    "        batch = data[i:i+batch_size]\n",
    "        lattices = [first_coarse_graining(x, DIM) for x, _ in batch]  # list of [1,H',W']\n",
    "        inputs = torch.stack(lattices).to(device)                     # [B,1,H',W']\n",
    "        targets = torch.tensor([y for _, y in batch], dtype=torch.float32, device=device)\n",
    "        \n",
    "        opt.zero_grad()\n",
    "        outputs = model(inputs)                                       # [B] or [B,1]\n",
    "        loss = crit(outputs.view(-1), targets)\n",
    "        loss.backward()\n",
    "        opt.step()\n",
    "        total_loss += loss.item() * len(batch)\n",
    "    return total_loss / len(data)\n"
   ]
  },
  {
   "cell_type": "code",
   "execution_count": 2,
   "id": "e4240f80-13c6-4049-bc6f-ab07f030b262",
   "metadata": {},
   "outputs": [
    {
     "name": "stderr",
     "output_type": "stream",
     "text": [
      "Generating data: 100%|████████████████████████████████████████████████████████████████████████| 5000/5000 [00:00<00:00, 7951.20it/s]\n",
      "Training: 100%|██████████████████████████████████████████████████████████████████████████████████| 500/500 [00:01<00:00, 488.66it/s]\n"
     ]
    },
    {
     "name": "stdout",
     "output_type": "stream",
     "text": [
      "Epoch 1 — Loss: 0.3357\n"
     ]
    },
    {
     "name": "stderr",
     "output_type": "stream",
     "text": [
      "Training: 100%|██████████████████████████████████████████████████████████████████████████████████| 500/500 [00:01<00:00, 448.45it/s]\n"
     ]
    },
    {
     "name": "stdout",
     "output_type": "stream",
     "text": [
      "Epoch 2 — Loss: 0.0993\n"
     ]
    },
    {
     "name": "stderr",
     "output_type": "stream",
     "text": [
      "Training: 100%|██████████████████████████████████████████████████████████████████████████████████| 500/500 [00:01<00:00, 409.73it/s]\n"
     ]
    },
    {
     "name": "stdout",
     "output_type": "stream",
     "text": [
      "Epoch 3 — Loss: 0.0914\n"
     ]
    },
    {
     "name": "stderr",
     "output_type": "stream",
     "text": [
      "Training: 100%|██████████████████████████████████████████████████████████████████████████████████| 500/500 [00:01<00:00, 467.23it/s]\n"
     ]
    },
    {
     "name": "stdout",
     "output_type": "stream",
     "text": [
      "Epoch 4 — Loss: 0.0899\n"
     ]
    },
    {
     "name": "stderr",
     "output_type": "stream",
     "text": [
      "Training: 100%|██████████████████████████████████████████████████████████████████████████████████| 500/500 [00:01<00:00, 488.25it/s]\n"
     ]
    },
    {
     "name": "stdout",
     "output_type": "stream",
     "text": [
      "Epoch 5 — Loss: 0.0892\n"
     ]
    }
   ],
   "source": [
    "# ----------------- Run -----------------\n",
    "DEVICE = torch.device('cuda' if torch.cuda.is_available() else 'cpu')\n",
    "SIZE = DIM ** POWER\n",
    "train_data = prepare_dataset(5_000, SIZE)\n",
    "\n",
    "model = PercolationModel(DIM).to(DEVICE)\n",
    "opt   = optim.Adam(model.parameters(), lr=1e-3)\n",
    "crit  = nn.BCELoss()\n",
    "\n",
    "for epoch in range(1, 6):\n",
    "    loss = train_epoch(model, DEVICE, train_data, 10, opt, crit)\n",
    "    print(f\"Epoch {epoch} — Loss: {loss:.4f}\")"
   ]
  },
  {
   "cell_type": "code",
   "execution_count": 3,
   "id": "75279bf2-72a1-4eb9-ba88-ee4b4485d75f",
   "metadata": {},
   "outputs": [
    {
     "name": "stderr",
     "output_type": "stream",
     "text": [
      "Testing 9x9: 100%|██████████████████████████████████████████████████████████████████████████████| 100/100 [00:00<00:00, 1796.78it/s]\n"
     ]
    },
    {
     "name": "stdout",
     "output_type": "stream",
     "text": [
      "\n",
      "9x9 Results:\n",
      "Accuracy: 91.00%\n",
      "Avg prediction | Perc: 0.846\n",
      "Avg prediction | Non-Perc: 0.042\n"
     ]
    },
    {
     "name": "stderr",
     "output_type": "stream",
     "text": [
      "Testing 27x27: 100%|████████████████████████████████████████████████████████████████████████████| 100/100 [00:00<00:00, 1612.95it/s]\n"
     ]
    },
    {
     "name": "stdout",
     "output_type": "stream",
     "text": [
      "\n",
      "27x27 Results:\n",
      "Accuracy: 6.00%\n",
      "Avg prediction | Perc: 0.099\n",
      "Avg prediction | Non-Perc: 0.955\n"
     ]
    },
    {
     "name": "stderr",
     "output_type": "stream",
     "text": [
      "Testing 81x81: 100%|████████████████████████████████████████████████████████████████████████████| 100/100 [00:00<00:00, 1023.29it/s]\n"
     ]
    },
    {
     "name": "stdout",
     "output_type": "stream",
     "text": [
      "\n",
      "81x81 Results:\n",
      "Accuracy: 99.00%\n",
      "Avg prediction | Perc: 0.984\n",
      "Avg prediction | Non-Perc: 0.016\n"
     ]
    },
    {
     "name": "stderr",
     "output_type": "stream",
     "text": [
      "Testing 27x27: 100%|████████████████████████████████████████████████████████████████████████████| 200/200 [00:00<00:00, 1753.78it/s]"
     ]
    },
    {
     "name": "stdout",
     "output_type": "stream",
     "text": [
      "\n",
      "27x27 Results:\n",
      "Accuracy: 29.50%\n",
      "Avg prediction | Perc: 0.372\n",
      "Avg prediction | Non-Perc: 0.632\n",
      "Saved test summary to Accuracy_3x3_via_AFS.txt\n"
     ]
    },
    {
     "name": "stderr",
     "output_type": "stream",
     "text": [
      "\n"
     ]
    }
   ],
   "source": [
    "# Full testing\n",
    "def test_extensive_systems(model, dim, power, device='cpu', num_tests=10,\n",
    "                          system_size='standard', p_range=(0, 1), verbose=True):\n",
    "    \"\"\"\n",
    "    Tests model on raw lattices without initial coarse-graining\n",
    "    Args:\n",
    "        system_size: 'smaller' (dim^(power-1)), 'standard' (dim^power), or 'larger' (dim^(power+1))\n",
    "    \"\"\"\n",
    "    model.eval()\n",
    "    \n",
    "    # Calculate lattice size\n",
    "    size_power = {\n",
    "        'smaller': power - 1,\n",
    "        'standard': power,\n",
    "        'larger': power + 1\n",
    "    }[system_size]\n",
    "    \n",
    "    lattice_size = dim ** size_power\n",
    "    results = []\n",
    "    \n",
    "    for _ in tqdm(range(num_tests), desc=f\"Testing {lattice_size}x{lattice_size}\"):\n",
    "        # Generate raw lattice\n",
    "        p = np.random.uniform(*p_range)\n",
    "        lattice = generate_percolation_lattice(lattice_size, p)\n",
    "        true_label = check_percolation(lattice)\n",
    "        \n",
    "        # Directly convert to tensor (no coarse-graining)\n",
    "        input_tensor = torch.tensor(lattice, dtype=torch.float32)\n",
    "        input_tensor = input_tensor.unsqueeze(0).unsqueeze(0).to(device)  # [1,1,H,W]\n",
    "        \n",
    "        with torch.no_grad():\n",
    "            pred = model(input_tensor).item()\n",
    "        \n",
    "        results.append((lattice, true_label, pred))\n",
    "    \n",
    "    # Calculate metrics\n",
    "    threshold = 0.5\n",
    "    correct = sum(1 for _, lbl, pred in results if (pred > threshold) == lbl)\n",
    "    acc = correct / num_tests\n",
    "    \n",
    "    if verbose:\n",
    "        print(f\"\\n{lattice_size}x{lattice_size} Results:\")\n",
    "        print(f\"Accuracy: {acc:.2%}\")\n",
    "        print(f\"Avg prediction | Perc: {np.mean([p for _,l,p in results if l==1]):.3f}\")\n",
    "        print(f\"Avg prediction | Non-Perc: {np.mean([p for _,l,p in results if l==0]):.3f}\")\n",
    "    \n",
    "    return results\n",
    "\n",
    "# Test configurations\n",
    "test_configs = [\n",
    "    {'system_size': 'smaller', 'num_tests': 100, 'p_range': (0, 1)},\n",
    "    {'system_size': 'standard', 'num_tests': 100, 'p_range': (0, 1)},\n",
    "    {'system_size': 'larger', 'num_tests': 100, 'p_range': (0, 1)},\n",
    "    {'system_size': 'standard', 'num_tests': 200, 'p_range': (0.58, 0.61)}\n",
    "]\n",
    "\n",
    "# Unified test execution\n",
    "test_results = {}\n",
    "for config in test_configs:\n",
    "    key = f\"{config['system_size']}_{config['p_range'][0]}-{config['p_range'][1]}\"\n",
    "    test_results[key] = test_extensive_systems(\n",
    "        model=model,\n",
    "        dim=DIM,\n",
    "        power=POWER,\n",
    "        device=DEVICE,\n",
    "        **config\n",
    "    )\n",
    "\n",
    "\n",
    "# 1. Compute summary statistics for each config\n",
    "summaries = {}\n",
    "for key, results in test_results.items():\n",
    "    # results is a list of (lattice, true_label, pred) tuples\n",
    "    acc = sum((pred > 0.5) == lbl for _, lbl, pred in results) / len(results)\n",
    "    mean_perc     = np.mean([pred for _, lbl, pred in results if lbl == 1]) if any(lbl==1 for _,lbl,_ in results) else float('nan')\n",
    "    mean_non_perc = np.mean([pred for _, lbl, pred in results if lbl == 0]) if any(lbl==0 for _,lbl,_ in results) else float('nan')\n",
    "    summaries[key] = (acc, mean_perc, mean_non_perc)\n",
    "\n",
    "# 2. Write to file\n",
    "filename = f'Accuracy_{DIM}x{DIM}_via_AFS.txt'\n",
    "with open(filename, 'w', encoding = 'utf-8') as f:\n",
    "    f.write(f'PercolationModel {DIM}×{DIM} results via AFS\\n')\n",
    "    f.write('='*40 + '\\n\\n')\n",
    "    for key, (acc, mp, mnp) in summaries.items():\n",
    "        f.write(f'Config: {key}\\n')\n",
    "        f.write(f'  -> Accuracy       : {acc:.2%}\\n')\n",
    "        f.write(f'  -> Avg if perc    : {mp:.3f}\\n')\n",
    "        f.write(f'  -> Avg if non-perc: {mnp:.3f}\\n\\n')\n",
    "\n",
    "print(f\"Saved test summary to {filename}\")\n"
   ]
  },
  {
   "cell_type": "code",
   "execution_count": 4,
   "id": "1a63d7f0-f19b-4fa8-8588-a7074546d3b3",
   "metadata": {},
   "outputs": [
    {
     "data": {
      "image/png": "[encoded data removed]",
      "text/plain": [
       "<Figure size 1000x600 with 1 Axes>"
      ]
     },
     "metadata": {},
     "output_type": "display_data"
    }
   ],
   "source": [
    "# Visualization\n",
    "\n",
    "def visualize_rule(model, dim, device='cpu'):\n",
    "    import matplotlib.pyplot as plt\n",
    "    p_values = np.linspace(0, 1, 100)\n",
    "    model.eval()\n",
    "    rule_predictions = []\n",
    "\n",
    "    with torch.no_grad():\n",
    "        for p in p_values:\n",
    "            # Use a full dim×dim block to query the learned rule\n",
    "            input_block = torch.full((1, 1, dim, dim), p, device=device, dtype=torch.float32)\n",
    "            pred = model(input_block).item()\n",
    "            rule_predictions.append(pred)\n",
    "    \n",
    "    plt.figure(figsize=(10, 6))\n",
    "    plt.plot(p_values, rule_predictions, label=f'Learned {dim}×{dim} Rule')\n",
    "    plt.xlabel('Occupation Probability p')\n",
    "    plt.ylabel('Coarse-grained Percolation Probability')\n",
    "    plt.title(f'Learned {dim}×{dim} Rule via AFS')\n",
    "    plt.legend()\n",
    "    plt.grid(True)\n",
    "    plt.savefig(f'Learned_{dim}x{dim}_Rule_via_AFS.pdf')\n",
    "    plt.show()\n",
    "\n",
    "# Call it\n",
    "visualize_rule(model, DIM, DEVICE)\n"
   ]
  },
  {
   "cell_type": "code",
   "execution_count": 5,
   "id": "d4600f52-729d-48f0-8e67-f869b8a8e322",
   "metadata": {},
   "outputs": [
    {
     "name": "stdout",
     "output_type": "stream",
     "text": [
      "Full lattice output:  0.0015\n",
      "Empty lattice output: 0.9992\n"
     ]
    }
   ],
   "source": [
    "# Sanity check: full lattice and empty lattice\n",
    "\n",
    "\n",
    "# Create full and empty lattices\n",
    "full_lattice = np.ones((SIZE//3, SIZE//3), dtype=np.uint8)\n",
    "empty_lattice = np.zeros((SIZE//3, SIZE//3), dtype=np.uint8)\n",
    "\n",
    "# Function to test and return raw model output\n",
    "def test_lattice(lattice):\n",
    "    t = first_coarse_graining(lattice, DIM).to(DEVICE).unsqueeze(0)  # shape: [1,1,H',W']\n",
    "    model.eval()\n",
    "    with torch.no_grad():\n",
    "        return model(t).item()\n",
    "\n",
    "# Run tests\n",
    "full_output = test_lattice(full_lattice)\n",
    "empty_output = test_lattice(empty_lattice)\n",
    "\n",
    "print(f\"Full lattice output:  {full_output:.4f}\")\n",
    "print(f\"Empty lattice output: {empty_output:.4f}\")\n",
    "\n"
   ]
  },
  {
   "cell_type": "code",
   "execution_count": 6,
   "id": "b9cd023b-c590-4bac-87d4-6a06f33d991f",
   "metadata": {},
   "outputs": [
    {
     "name": "stdout",
     "output_type": "stream",
     "text": [
      "One-step full lattice:  0.0015431076753884554\n",
      "One-step empty lattice: 0.9991866946220398\n"
     ]
    }
   ],
   "source": [
    "# Force just 1 step of the learned rule:\n",
    "def test_lattice_one_step(lattice):\n",
    "    t = first_coarse_graining(lattice, DIM).to(DEVICE).unsqueeze(0)\n",
    "    # max_steps=1 means only one unfold→rule→rebuild\n",
    "    out = model(t, max_steps=1)  # returns [b, new_h*new_w]\n",
    "    # since new_h*new_w > 1, take the MEAN of all outputs as a “global score”\n",
    "    return out.mean().item()\n",
    "\n",
    "print(\"One-step full lattice: \", test_lattice_one_step(full_lattice))\n",
    "print(\"One-step empty lattice:\", test_lattice_one_step(empty_lattice))\n"
   ]
  },
  {
   "cell_type": "code",
   "execution_count": 7,
   "id": "a9094cc2-1039-45e6-8f33-78acdbb5c15f",
   "metadata": {},
   "outputs": [
    {
     "name": "stdout",
     "output_type": "stream",
     "text": [
      "     p | one‐step |     full\n",
      "----------------------------\n",
      "  0.01 |   0.9991 |   0.0016\n",
      "  0.05 |   0.9989 |   0.0016\n",
      "  0.10 |   0.9985 |   0.0016\n",
      "  0.90 |   0.0091 |   0.9991\n",
      "  0.95 |   0.0027 |   0.9992\n",
      "  0.99 |   0.0019 |   0.9992\n"
     ]
    }
   ],
   "source": [
    "import numpy as np\n",
    "\n",
    "# Probabilities to test near the extremes\n",
    "ps = [0.01, 0.05, 0.1, 0.9, 0.95, 0.99]\n",
    "\n",
    "def test_lattice(lattice, full_recursion=True):\n",
    "    t = first_coarse_graining(lattice, DIM).to(DEVICE).unsqueeze(0)\n",
    "    model.eval()\n",
    "    with torch.no_grad():\n",
    "        if full_recursion:\n",
    "            return model(t).item()\n",
    "        else:\n",
    "            out = model(t, max_steps=1)    # only one rule application\n",
    "            return out.mean().item()       # global score\n",
    "\n",
    "print(f\"{'p':>6} | {'one‐step':>8} | {'full':>8}\")\n",
    "print(\"-\" * 28)\n",
    "for p in ps:\n",
    "    L = np.random.choice([0,1], (SIZE, SIZE), p=[1-p, p]).astype(np.uint8)\n",
    "    o1 = test_lattice(L, full_recursion=False)\n",
    "    of = test_lattice(L, full_recursion=True)\n",
    "    print(f\"{p:>6.2f} | {o1:>8.4f} | {of:>8.4f}\")\n"
   ]
  },
  {
   "cell_type": "code",
   "execution_count": 8,
   "id": "bc3bbcaf-a197-417e-8123-962e16a53c2b",
   "metadata": {},
   "outputs": [
    {
     "name": "stdout",
     "output_type": "stream",
     "text": [
      "    p | one-step |  full(5) |  flip?\n",
      "-------------------------------------\n",
      " 0.00 |   0.9992 |   0.0016 |    YES\n",
      " 0.05 |   0.9989 |   0.0016 |    YES\n",
      " 0.10 |   0.9985 |   0.0016 |    YES\n",
      " 0.15 |   0.9981 |   0.0016 |    YES\n",
      " 0.20 |   0.9973 |   0.0016 |    YES\n",
      " 0.25 |   0.9956 |   0.0017 |    YES\n",
      " 0.30 |   0.9886 |   0.0019 |    YES\n",
      " 0.35 |   0.9770 |   0.0022 |    YES\n",
      " 0.40 |   0.9539 |   0.0031 |    YES\n",
      " 0.45 |   0.9106 |   0.0057 |    YES\n",
      " 0.50 |   0.8392 |   0.0197 |    YES\n",
      " 0.55 |   0.6392 |   0.3645 |    YES\n",
      " 0.60 |   0.5066 |   0.8268 |     no\n",
      " 0.65 |   0.2710 |   0.9945 |    YES\n",
      " 0.70 |   0.1721 |   0.9980 |    YES\n",
      " 0.75 |   0.0880 |   0.9987 |    YES\n",
      " 0.80 |   0.0409 |   0.9990 |    YES\n",
      " 0.85 |   0.0188 |   0.9991 |    YES\n",
      " 0.90 |   0.0057 |   0.9992 |    YES\n",
      " 0.95 |   0.0045 |   0.9992 |    YES\n",
      " 1.00 |   0.0015 |   0.9992 |    YES\n"
     ]
    }
   ],
   "source": [
    "import numpy as np\n",
    "\n",
    "# Choose a fine grid of p ∈ [0.0, 1.0]\n",
    "ps = np.linspace(0.0, 1.0, 21)   # 21 points: 0.0, 0.05, 0.1, …, 0.95, 1.0\n",
    "\n",
    "def test_lattice(lattice, full_recursion=True):\n",
    "    t = first_coarse_graining(lattice, DIM).to(DEVICE).unsqueeze(0)\n",
    "    model.eval()\n",
    "    with torch.no_grad():\n",
    "        if full_recursion:\n",
    "            return model(t).item()\n",
    "        else:\n",
    "            out = model(t, max_steps=1)\n",
    "            return out.mean().item()\n",
    "\n",
    "results = []\n",
    "for p in ps:\n",
    "    # generate one lattice per p\n",
    "    L = np.random.choice([0,1], (SIZE, SIZE), p=[1-p, p]).astype(np.uint8)\n",
    "    o1 = test_lattice(L, full_recursion=False)\n",
    "    of = test_lattice(L, full_recursion=True)\n",
    "    results.append((p, o1, of))\n",
    "\n",
    "# Print in a table\n",
    "print(f\"{'p':>5} | {'one-step':>8} | {'full(5)':>8} | {'flip?':>6}\")\n",
    "print(\"-\"*37)\n",
    "for p, o1, of in results:\n",
    "    flip = (\"YES\" if (o1 < 0.5 and of > 0.5) or (o1 > 0.5 and of < 0.5) else \" no\")\n",
    "    print(f\"{p:5.2f} | {o1:8.4f} | {of:8.4f} | {flip:>6}\")\n"
   ]
  }
 ],
 "metadata": {
  "kernelspec": {
   "display_name": "Python 3 (ipykernel)",
   "language": "python",
   "name": "python3"
  },
  "language_info": {
   "codemirror_mode": {
    "name": "ipython",
    "version": 3
   },
   "file_extension": ".py",
   "mimetype": "text/x-python",
   "name": "python",
   "nbconvert_exporter": "python",
   "pygments_lexer": "ipython3",
   "version": "3.9.4"
  }
 },
 "nbformat": 4,
 "nbformat_minor": 5
}

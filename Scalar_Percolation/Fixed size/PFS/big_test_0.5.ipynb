{
 "cells": [
  {
   "cell_type": "code",
   "execution_count": 1,
   "id": "18c4b579-b7d6-457c-bdb5-7db7c9730bcd",
   "metadata": {},
   "outputs": [],
   "source": [
    "# Core Imports and Functions\n",
    "import numpy as np\n",
    "import torch\n",
    "import torch.nn as nn\n",
    "import torch.nn.functional as F\n",
    "import torch.optim as optim\n",
    "from scipy.ndimage import label\n",
    "from tqdm import tqdm\n",
    "import matplotlib.pyplot as plt\n",
    "from matplotlib.backends.backend_pdf import PdfPages\n",
    "import itertools\n",
    "from functools import lru_cache\n",
    "\n",
    "# Configuration Parameters\n",
    "DIM = 3        # Base dimension for patches (3×3)\n",
    "POWER = 4      # Lattice size = DIM^POWER\n",
    "MAX_STEPS = POWER + 5  # Maximum coarse-graining steps\n",
    "\n",
    "# NEW: Precompute percolation probabilities for all possible patch configurations\n",
    "@lru_cache(maxsize=None)\n",
    "def compute_patch_percolation_prob(dim):\n",
    "    \"\"\"Compute percolation probability for all possible patch configurations\"\"\"\n",
    "    size = dim * dim\n",
    "    # Generate all possible binary configurations\n",
    "    all_configs = np.array(list(itertools.product([0, 1], repeat=size)))\n",
    "    percolation_probs = np.zeros(size + 1)  # Indexed by number of occupied sites\n",
    "    \n",
    "    # Count configurations and percolating configurations for each density\n",
    "    config_counts = np.zeros(size + 1, dtype=int)\n",
    "    percolation_counts = np.zeros(size + 1, dtype=int)\n",
    "    \n",
    "    for config in all_configs:\n",
    "        lattice = config.reshape((dim, dim))\n",
    "        k = np.sum(config)  # Number of occupied sites\n",
    "        percolates = check_percolation(lattice)\n",
    "        config_counts[k] += 1\n",
    "        percolation_counts[k] += percolates\n",
    "    \n",
    "    # Compute probabilities\n",
    "    for k in range(size + 1):\n",
    "        if config_counts[k] > 0:\n",
    "            percolation_probs[k] = percolation_counts[k] / config_counts[k]\n",
    "    \n",
    "    return percolation_probs\n",
    "\n",
    "\n",
    "# NEW: First coarse-graining with probability mapping\n",
    "def first_coarse_graining(binary_lattice, dim):\n",
    "    \"\"\"Apply coarse-graining with percolation probability mapping\"\"\"\n",
    "    # Precompute percolation probabilities for this patch size\n",
    "    percolation_probs = compute_patch_percolation_prob(dim)\n",
    "    \n",
    "    # Convert to tensor and extract patches\n",
    "    t = torch.tensor(binary_lattice, dtype=torch.float32).unsqueeze(0).unsqueeze(0)\n",
    "    patches = F.unfold(t, kernel_size=dim, stride=dim)  # [1, dim*dim, num_patches]\n",
    "    patches = patches.permute(0, 2, 1)  # [1, num_patches, dim*dim]\n",
    "    \n",
    "    # Convert to numpy for processing\n",
    "    patches_np = patches.cpu().numpy()\n",
    "    \n",
    "    # Compute percolation probabilities for each patch\n",
    "    coarse_vals = []\n",
    "    for patch in patches_np[0]:\n",
    "        # Count occupied sites\n",
    "        occupied = np.sum(patch > 0.5)  # Threshold to handle floating point issues\n",
    "        # Get precomputed percolation probability\n",
    "        prob = percolation_probs[occupied]\n",
    "        coarse_vals.append(prob)\n",
    "    \n",
    "    # Convert back to tensor\n",
    "    coarse_vals = torch.tensor(coarse_vals, dtype=torch.float32).unsqueeze(0)  # [1, num_patches]\n",
    "    \n",
    "    H, W = binary_lattice.shape\n",
    "    new_h, new_w = H // dim, W // dim\n",
    "    return coarse_vals.view(1, 1, new_h, new_w)  # [1, 1, new_h, new_w]\n",
    "\n",
    "def generate_percolation_lattice(size, p):\n",
    "    return np.random.choice([0, 1], (size, size), p=[1 - p, p])\n",
    "\n",
    "def check_percolation(lattice):\n",
    "    labeled, _ = label(lattice)\n",
    "    \n",
    "    # Vertical percolation (top-bottom)\n",
    "    top = set(labeled[0, :]) - {0}\n",
    "    bottom = set(labeled[-1, :]) - {0}\n",
    "    vertical = bool(top & bottom)\n",
    "    \n",
    "    # Horizontal percolation (left-right)\n",
    "    left = set(labeled[:, 0]) - {0}\n",
    "    right = set(labeled[:, -1]) - {0}\n",
    "    horizontal = bool(left & right)\n",
    "    \n",
    "    return float(vertical or horizontal)\n",
    "\n",
    "class PercolationModel(nn.Module):\n",
    "    def __init__(self, dim):\n",
    "        super().__init__()\n",
    "        self.dim = dim\n",
    "        self.rule = nn.Sequential(\n",
    "            nn.Linear(dim * dim, 64),\n",
    "            nn.ReLU(),\n",
    "            nn.Linear(64, 1),\n",
    "            nn.Sigmoid()\n",
    "        )\n",
    "    \n",
    "    def forward(self, x, max_steps=MAX_STEPS):\n",
    "        b, c, H, W = x.shape\n",
    "        \n",
    "        for _ in range(max_steps):\n",
    "            if H < self.dim or W < self.dim:\n",
    "                break\n",
    "            \n",
    "            # Extract dim×dim patches\n",
    "            patches = F.unfold(x, kernel_size=self.dim, stride=self.dim)\n",
    "            patches = patches.permute(0, 2, 1).contiguous()  # (B, #patches, dim*dim)\n",
    "            patches = patches.view(-1, self.dim * self.dim)   # (B * #patches, dim*dim)\n",
    "            \n",
    "            out = self.rule(patches)  # (B * #patches, 1)\n",
    "            \n",
    "            new_h, new_w = H // self.dim, W // self.dim\n",
    "            x = out.view(b, 1, new_h, new_w)  # (B, 1, new_h, new_w)\n",
    "            _, c, H, W = x.shape\n",
    "\n",
    "        return x.squeeze()  # (B,)\n",
    "\n",
    "def prepare_dataset(num_samples, lattice_size):\n",
    "    data = []\n",
    "    for _ in tqdm(range(num_samples), desc=\"Generating data\"):\n",
    "        p = np.random.uniform(0, 1)\n",
    "        lattice = generate_percolation_lattice(lattice_size, p)\n",
    "        lbl = check_percolation(lattice)\n",
    "        data.append((lattice, lbl))\n",
    "    return data\n",
    "\n",
    "def train_epoch(model, device, train_data, batch_size, optimizer, criterion, dim):\n",
    "    model.train()\n",
    "    running_loss = 0.0\n",
    "    for i in tqdm(range(0, len(train_data), batch_size), desc=\"Training\"):\n",
    "        batch = train_data[i : i + batch_size]\n",
    "        \n",
    "        # MODIFIED: Apply first coarse-graining with probability mapping\n",
    "        lattices = [first_coarse_graining(x, dim) for x, _ in batch]  # Each is [1,1,H',W']\n",
    "        \n",
    "        # Stack into a (B, 1, H, W) tensor\n",
    "        inputs = torch.cat(lattices, dim=0).to(device)  # [B, 1, H', W']\n",
    "        targets = torch.tensor([y for _, y in batch], dtype=torch.float32).to(device)\n",
    "        \n",
    "        optimizer.zero_grad()\n",
    "        outputs = model(inputs, max_steps=MAX_STEPS)  # (B,) after .squeeze()\n",
    "        loss = criterion(outputs, targets)\n",
    "        loss.backward()\n",
    "        optimizer.step()\n",
    "        \n",
    "        running_loss += loss.item() * len(batch)\n",
    "    \n",
    "    return running_loss / len(train_data)\n",
    "\n",
    "def test_systems(model, dim, power, device=\"cpu\", num_tests=10,\n",
    "                 system_size=\"standard\", p_range=(0, 1), verbose=True):\n",
    "    model.eval()\n",
    "    \n",
    "    size_power = {\n",
    "        \"smaller\": power - 1,\n",
    "        \"standard\": power,\n",
    "        \"larger\": power + 1\n",
    "    }[system_size]\n",
    "    \n",
    "    lattice_size = dim ** size_power\n",
    "    results = []\n",
    "    \n",
    "    for _ in tqdm(range(num_tests), desc=f\"Testing {lattice_size}x{lattice_size}\"):\n",
    "        p = np.random.uniform(*p_range)\n",
    "        lattice = generate_percolation_lattice(lattice_size, p)\n",
    "        true_label = check_percolation(lattice)\n",
    "        \n",
    "        # MODIFIED: Apply first coarse-graining with probability mapping\n",
    "        input_tensor = first_coarse_graining(lattice, dim).to(device)  # [1,1,H',W']\n",
    "        \n",
    "        with torch.no_grad():\n",
    "            pred = model(input_tensor).item()\n",
    "        \n",
    "        results.append((lattice, true_label, pred))\n",
    "    \n",
    "    threshold = 0.5\n",
    "    correct = sum(1 for _, lbl, pred in results if (pred > threshold) == lbl)\n",
    "    acc = correct / num_tests\n",
    "    \n",
    "    if verbose:\n",
    "        print(f\"\\n{lattice_size}x{lattice_size} Results:\")\n",
    "        print(f\"Accuracy: {acc:.2%}\")\n",
    "        print(f\"Avg prediction | Perc: {np.mean([p for _, l, p in results if l == 1]):.3f}\")\n",
    "        print(f\"Avg prediction | Non-Perc: {np.mean([p for _, l, p in results if l == 0]):.3f}\")\n",
    "    \n",
    "    return results"
   ]
  },
  {
   "cell_type": "code",
   "execution_count": 2,
   "id": "fa4cc7a0-b193-495a-aa5f-ac81c6f04615",
   "metadata": {},
   "outputs": [],
   "source": [
    "# Initialization\n",
    "DEVICE = torch.device(\"cuda\" if torch.cuda.is_available() else \"cpu\")\n",
    "SIZE = DIM ** POWER\n",
    "TRAIN_SAMPLES = 10000\n",
    "BATCH_SIZE = 10\n",
    "EPOCHS = 5\n",
    "\n",
    "def run_experiment(DIM, POWER, run_num):\n",
    "    SIZE = DIM ** POWER\n",
    "    MAX_STEPS = POWER + 5\n",
    "    \n",
    "    # Generate training dataset\n",
    "    train_data = prepare_dataset(TRAIN_SAMPLES, SIZE)\n",
    "    \n",
    "    # Initialize model, optimizer, loss\n",
    "    model = PercolationModel(dim=DIM).to(DEVICE)\n",
    "    optimizer = optim.Adam(model.parameters(), lr=0.001)\n",
    "    criterion = nn.BCELoss()\n",
    "\n",
    "    # Training loop\n",
    "    for epoch in range(EPOCHS):\n",
    "        loss = train_epoch(model, DEVICE, train_data, BATCH_SIZE, optimizer, criterion, DIM)\n",
    "\n",
    "    # Testing configurations\n",
    "    test_configs = [\n",
    "        {\"system_size\": \"smaller\", \"num_tests\": 100, \"p_range\": (0.1, 0.9)},\n",
    "        {\"system_size\": \"standard\", \"num_tests\": 100, \"p_range\": (0.1, 0.9)},\n",
    "        {\"system_size\": \"larger\", \"num_tests\": 100, \"p_range\": (0.1, 0.9)},\n",
    "        {\"system_size\": \"standard\", \"num_tests\": 200, \"p_range\": (0.58, 0.61)},\n",
    "    ]\n",
    "    \n",
    "    test_results = {}\n",
    "    for config in test_configs:\n",
    "        key = f\"{config['system_size']}_{config['p_range'][0]}-{config['p_range'][1]}\"\n",
    "        test_results[key] = test_systems(\n",
    "            model=model,\n",
    "            dim=DIM,\n",
    "            power=POWER,\n",
    "            device=DEVICE,\n",
    "            **config\n",
    "        )\n",
    "\n",
    "    # Summarize test results\n",
    "    summaries = {}\n",
    "    for key, results in test_results.items():\n",
    "        acc = sum((pred > 0.5) == lbl for _, lbl, pred in results) / len(results)\n",
    "        mean_perc = np.nanmean([pred for _, lbl, pred in results if lbl == 1])\n",
    "        mean_non_perc = np.nanmean([pred for _, lbl, pred in results if lbl == 0])\n",
    "        summaries[key] = (acc, mean_perc, mean_non_perc)\n",
    "\n",
    "    # Generate rule-projection data by feeding 3×3 patch of constant p\n",
    "    ps_coarse = np.linspace(0.0, 1.0, 101)\n",
    "    ps_fine = np.linspace(0.5, 0.7, 201)\n",
    "    ps = np.unique(np.concatenate((ps_coarse, ps_fine)))\n",
    "    ps.sort()\n",
    "\n",
    "    mean_outputs = []\n",
    "    with torch.no_grad():\n",
    "        for p in ps:\n",
    "            # Create a single 3×3 patch with all entries = p\n",
    "            patch = np.full((DIM * DIM,), p, dtype=np.float32)        # shape: (dim*dim,)\n",
    "            patch_tensor = torch.from_numpy(patch).unsqueeze(0).to(DEVICE)  # (1, dim*dim)\n",
    "            out = model.rule(patch_tensor).cpu().numpy().item()        # scalar\n",
    "            mean_outputs.append(out)\n",
    "\n",
    "    return summaries, (ps, mean_outputs)"
   ]
  },
  {
   "cell_type": "code",
   "execution_count": 3,
   "id": "ee36c515-844f-4396-97ae-dcb6e9b1df2c",
   "metadata": {
    "scrolled": true
   },
   "outputs": [
    {
     "name": "stdout",
     "output_type": "stream",
     "text": [
      "\n",
      "Running 3^2 - Run 1/10\n"
     ]
    },
    {
     "name": "stderr",
     "output_type": "stream",
     "text": [
      "Generating data: 100%|██████████████████████████████████████████████████████████████████████| 10000/10000 [00:01<00:00, 8022.68it/s]\n",
      "Training: 100%|████████████████████████████████████████████████████████████████████████████████| 1000/1000 [00:03<00:00, 281.03it/s]\n",
      "Training: 100%|████████████████████████████████████████████████████████████████████████████████| 1000/1000 [00:03<00:00, 290.53it/s]\n",
      "Training: 100%|████████████████████████████████████████████████████████████████████████████████| 1000/1000 [00:03<00:00, 289.55it/s]\n",
      "Training: 100%|████████████████████████████████████████████████████████████████████████████████| 1000/1000 [00:03<00:00, 285.78it/s]\n",
      "Training: 100%|████████████████████████████████████████████████████████████████████████████████| 1000/1000 [00:03<00:00, 289.88it/s]\n",
      "Testing 3x3: 100%|██████████████████████████████████████████████████████████████████████████████| 100/100 [00:00<00:00, 2976.71it/s]\n"
     ]
    },
    {
     "name": "stdout",
     "output_type": "stream",
     "text": [
      "\n",
      "3x3 Results:\n",
      "Accuracy: 88.00%\n",
      "Avg prediction | Perc: 0.844\n",
      "Avg prediction | Non-Perc: 0.151\n"
     ]
    },
    {
     "name": "stderr",
     "output_type": "stream",
     "text": [
      "Testing 9x9: 100%|██████████████████████████████████████████████████████████████████████████████| 100/100 [00:00<00:00, 1219.09it/s]\n"
     ]
    },
    {
     "name": "stdout",
     "output_type": "stream",
     "text": [
      "\n",
      "9x9 Results:\n",
      "Accuracy: 92.00%\n",
      "Avg prediction | Perc: 0.892\n",
      "Avg prediction | Non-Perc: 0.081\n"
     ]
    },
    {
     "name": "stderr",
     "output_type": "stream",
     "text": [
      "Testing 27x27: 100%|█████████████████████████████████████████████████████████████████████████████| 100/100 [00:00<00:00, 695.69it/s]\n"
     ]
    },
    {
     "name": "stdout",
     "output_type": "stream",
     "text": [
      "\n",
      "27x27 Results:\n",
      "Accuracy: 98.00%\n",
      "Avg prediction | Perc: 0.960\n",
      "Avg prediction | Non-Perc: 0.039\n"
     ]
    },
    {
     "name": "stderr",
     "output_type": "stream",
     "text": [
      "Testing 9x9: 100%|██████████████████████████████████████████████████████████████████████████████| 200/200 [00:00<00:00, 1454.30it/s]\n"
     ]
    },
    {
     "name": "stdout",
     "output_type": "stream",
     "text": [
      "\n",
      "9x9 Results:\n",
      "Accuracy: 75.00%\n",
      "Avg prediction | Perc: 0.837\n",
      "Avg prediction | Non-Perc: 0.627\n",
      "\n",
      "Running 3^2 - Run 2/10\n"
     ]
    },
    {
     "name": "stderr",
     "output_type": "stream",
     "text": [
      "Generating data: 100%|██████████████████████████████████████████████████████████████████████| 10000/10000 [00:01<00:00, 8435.84it/s]\n",
      "Training: 100%|████████████████████████████████████████████████████████████████████████████████| 1000/1000 [00:03<00:00, 290.10it/s]\n",
      "Training: 100%|████████████████████████████████████████████████████████████████████████████████| 1000/1000 [00:03<00:00, 288.35it/s]\n",
      "Training: 100%|████████████████████████████████████████████████████████████████████████████████| 1000/1000 [00:03<00:00, 291.12it/s]\n",
      "Training: 100%|████████████████████████████████████████████████████████████████████████████████| 1000/1000 [00:03<00:00, 289.63it/s]\n",
      "Training: 100%|████████████████████████████████████████████████████████████████████████████████| 1000/1000 [00:03<00:00, 291.14it/s]\n",
      "Testing 3x3: 100%|██████████████████████████████████████████████████████████████████████████████| 100/100 [00:00<00:00, 2496.94it/s]\n"
     ]
    },
    {
     "name": "stdout",
     "output_type": "stream",
     "text": [
      "\n",
      "3x3 Results:\n",
      "Accuracy: 86.00%\n",
      "Avg prediction | Perc: 0.828\n",
      "Avg prediction | Non-Perc: 0.164\n"
     ]
    },
    {
     "name": "stderr",
     "output_type": "stream",
     "text": [
      "Testing 9x9: 100%|██████████████████████████████████████████████████████████████████████████████| 100/100 [00:00<00:00, 1492.59it/s]\n"
     ]
    },
    {
     "name": "stdout",
     "output_type": "stream",
     "text": [
      "\n",
      "9x9 Results:\n",
      "Accuracy: 94.00%\n",
      "Avg prediction | Perc: 0.880\n",
      "Avg prediction | Non-Perc: 0.038\n"
     ]
    },
    {
     "name": "stderr",
     "output_type": "stream",
     "text": [
      "Testing 27x27: 100%|█████████████████████████████████████████████████████████████████████████████| 100/100 [00:00<00:00, 702.51it/s]\n"
     ]
    },
    {
     "name": "stdout",
     "output_type": "stream",
     "text": [
      "\n",
      "27x27 Results:\n",
      "Accuracy: 93.00%\n",
      "Avg prediction | Perc: 0.899\n",
      "Avg prediction | Non-Perc: 0.048\n"
     ]
    },
    {
     "name": "stderr",
     "output_type": "stream",
     "text": [
      "Testing 9x9: 100%|██████████████████████████████████████████████████████████████████████████████| 200/200 [00:00<00:00, 1209.05it/s]\n"
     ]
    },
    {
     "name": "stdout",
     "output_type": "stream",
     "text": [
      "\n",
      "9x9 Results:\n",
      "Accuracy: 74.50%\n",
      "Avg prediction | Perc: 0.692\n",
      "Avg prediction | Non-Perc: 0.478\n",
      "\n",
      "Running 3^2 - Run 3/10\n"
     ]
    },
    {
     "name": "stderr",
     "output_type": "stream",
     "text": [
      "Generating data: 100%|██████████████████████████████████████████████████████████████████████| 10000/10000 [00:01<00:00, 8519.64it/s]\n",
      "Training: 100%|████████████████████████████████████████████████████████████████████████████████| 1000/1000 [00:03<00:00, 289.21it/s]\n",
      "Training: 100%|████████████████████████████████████████████████████████████████████████████████| 1000/1000 [00:03<00:00, 288.32it/s]\n",
      "Training: 100%|████████████████████████████████████████████████████████████████████████████████| 1000/1000 [00:03<00:00, 288.58it/s]\n",
      "Training: 100%|████████████████████████████████████████████████████████████████████████████████| 1000/1000 [00:03<00:00, 297.17it/s]\n",
      "Training: 100%|████████████████████████████████████████████████████████████████████████████████| 1000/1000 [00:03<00:00, 306.99it/s]\n",
      "Testing 3x3: 100%|██████████████████████████████████████████████████████████████████████████████| 100/100 [00:00<00:00, 2505.62it/s]\n"
     ]
    },
    {
     "name": "stdout",
     "output_type": "stream",
     "text": [
      "\n",
      "3x3 Results:\n",
      "Accuracy: 93.00%\n",
      "Avg prediction | Perc: 0.918\n",
      "Avg prediction | Non-Perc: 0.120\n"
     ]
    },
    {
     "name": "stderr",
     "output_type": "stream",
     "text": [
      "Testing 9x9: 100%|██████████████████████████████████████████████████████████████████████████████| 100/100 [00:00<00:00, 1613.65it/s]\n"
     ]
    },
    {
     "name": "stdout",
     "output_type": "stream",
     "text": [
      "\n",
      "9x9 Results:\n",
      "Accuracy: 89.00%\n",
      "Avg prediction | Perc: 0.860\n",
      "Avg prediction | Non-Perc: 0.095\n"
     ]
    },
    {
     "name": "stderr",
     "output_type": "stream",
     "text": [
      "Testing 27x27: 100%|█████████████████████████████████████████████████████████████████████████████| 100/100 [00:00<00:00, 713.59it/s]\n"
     ]
    },
    {
     "name": "stdout",
     "output_type": "stream",
     "text": [
      "\n",
      "27x27 Results:\n",
      "Accuracy: 99.00%\n",
      "Avg prediction | Perc: 0.961\n",
      "Avg prediction | Non-Perc: 0.005\n"
     ]
    },
    {
     "name": "stderr",
     "output_type": "stream",
     "text": [
      "Testing 9x9: 100%|██████████████████████████████████████████████████████████████████████████████| 200/200 [00:00<00:00, 1675.41it/s]\n"
     ]
    },
    {
     "name": "stdout",
     "output_type": "stream",
     "text": [
      "\n",
      "9x9 Results:\n",
      "Accuracy: 77.00%\n",
      "Avg prediction | Perc: 0.808\n",
      "Avg prediction | Non-Perc: 0.571\n",
      "\n",
      "Running 3^2 - Run 4/10\n"
     ]
    },
    {
     "name": "stderr",
     "output_type": "stream",
     "text": [
      "Generating data: 100%|██████████████████████████████████████████████████████████████████████| 10000/10000 [00:01<00:00, 8540.87it/s]\n",
      "Training: 100%|████████████████████████████████████████████████████████████████████████████████| 1000/1000 [00:03<00:00, 287.04it/s]\n",
      "Training: 100%|████████████████████████████████████████████████████████████████████████████████| 1000/1000 [00:03<00:00, 280.24it/s]\n",
      "Training: 100%|████████████████████████████████████████████████████████████████████████████████| 1000/1000 [00:03<00:00, 286.02it/s]\n",
      "Training: 100%|████████████████████████████████████████████████████████████████████████████████| 1000/1000 [00:03<00:00, 290.79it/s]\n",
      "Training: 100%|████████████████████████████████████████████████████████████████████████████████| 1000/1000 [00:03<00:00, 284.51it/s]\n",
      "Testing 3x3: 100%|██████████████████████████████████████████████████████████████████████████████| 100/100 [00:00<00:00, 2324.74it/s]\n"
     ]
    },
    {
     "name": "stdout",
     "output_type": "stream",
     "text": [
      "\n",
      "3x3 Results:\n",
      "Accuracy: 87.00%\n",
      "Avg prediction | Perc: 0.843\n",
      "Avg prediction | Non-Perc: 0.148\n"
     ]
    },
    {
     "name": "stderr",
     "output_type": "stream",
     "text": [
      "Testing 9x9: 100%|██████████████████████████████████████████████████████████████████████████████| 100/100 [00:00<00:00, 1579.09it/s]\n"
     ]
    },
    {
     "name": "stdout",
     "output_type": "stream",
     "text": [
      "\n",
      "9x9 Results:\n",
      "Accuracy: 89.00%\n",
      "Avg prediction | Perc: 0.883\n",
      "Avg prediction | Non-Perc: 0.100\n"
     ]
    },
    {
     "name": "stderr",
     "output_type": "stream",
     "text": [
      "Testing 27x27: 100%|█████████████████████████████████████████████████████████████████████████████| 100/100 [00:00<00:00, 717.09it/s]\n"
     ]
    },
    {
     "name": "stdout",
     "output_type": "stream",
     "text": [
      "\n",
      "27x27 Results:\n",
      "Accuracy: 95.00%\n",
      "Avg prediction | Perc: 0.967\n",
      "Avg prediction | Non-Perc: 0.071\n"
     ]
    },
    {
     "name": "stderr",
     "output_type": "stream",
     "text": [
      "Testing 9x9: 100%|██████████████████████████████████████████████████████████████████████████████| 200/200 [00:00<00:00, 1383.40it/s]\n"
     ]
    },
    {
     "name": "stdout",
     "output_type": "stream",
     "text": [
      "\n",
      "9x9 Results:\n",
      "Accuracy: 76.50%\n",
      "Avg prediction | Perc: 0.778\n",
      "Avg prediction | Non-Perc: 0.526\n",
      "\n",
      "Running 3^2 - Run 5/10\n"
     ]
    },
    {
     "name": "stderr",
     "output_type": "stream",
     "text": [
      "Generating data: 100%|██████████████████████████████████████████████████████████████████████| 10000/10000 [00:01<00:00, 8281.29it/s]\n",
      "Training: 100%|████████████████████████████████████████████████████████████████████████████████| 1000/1000 [00:03<00:00, 284.15it/s]\n",
      "Training: 100%|████████████████████████████████████████████████████████████████████████████████| 1000/1000 [00:03<00:00, 291.25it/s]\n",
      "Training: 100%|████████████████████████████████████████████████████████████████████████████████| 1000/1000 [00:03<00:00, 290.87it/s]\n",
      "Training: 100%|████████████████████████████████████████████████████████████████████████████████| 1000/1000 [00:03<00:00, 290.16it/s]\n",
      "Training: 100%|████████████████████████████████████████████████████████████████████████████████| 1000/1000 [00:03<00:00, 288.47it/s]\n",
      "Testing 3x3: 100%|██████████████████████████████████████████████████████████████████████████████| 100/100 [00:00<00:00, 1841.59it/s]\n"
     ]
    },
    {
     "name": "stdout",
     "output_type": "stream",
     "text": [
      "\n",
      "3x3 Results:\n",
      "Accuracy: 91.00%\n",
      "Avg prediction | Perc: 0.874\n",
      "Avg prediction | Non-Perc: 0.106\n"
     ]
    },
    {
     "name": "stderr",
     "output_type": "stream",
     "text": [
      "Testing 9x9: 100%|██████████████████████████████████████████████████████████████████████████████| 100/100 [00:00<00:00, 1700.38it/s]\n"
     ]
    },
    {
     "name": "stdout",
     "output_type": "stream",
     "text": [
      "\n",
      "9x9 Results:\n",
      "Accuracy: 92.00%\n",
      "Avg prediction | Perc: 0.879\n",
      "Avg prediction | Non-Perc: 0.118\n"
     ]
    },
    {
     "name": "stderr",
     "output_type": "stream",
     "text": [
      "Testing 27x27: 100%|█████████████████████████████████████████████████████████████████████████████| 100/100 [00:00<00:00, 731.68it/s]\n"
     ]
    },
    {
     "name": "stdout",
     "output_type": "stream",
     "text": [
      "\n",
      "27x27 Results:\n",
      "Accuracy: 95.00%\n",
      "Avg prediction | Perc: 0.894\n",
      "Avg prediction | Non-Perc: 0.031\n"
     ]
    },
    {
     "name": "stderr",
     "output_type": "stream",
     "text": [
      "Testing 9x9: 100%|██████████████████████████████████████████████████████████████████████████████| 200/200 [00:00<00:00, 1394.51it/s]\n"
     ]
    },
    {
     "name": "stdout",
     "output_type": "stream",
     "text": [
      "\n",
      "9x9 Results:\n",
      "Accuracy: 71.50%\n",
      "Avg prediction | Perc: 0.758\n",
      "Avg prediction | Non-Perc: 0.528\n",
      "\n",
      "Running 3^2 - Run 6/10\n"
     ]
    },
    {
     "name": "stderr",
     "output_type": "stream",
     "text": [
      "Generating data: 100%|██████████████████████████████████████████████████████████████████████| 10000/10000 [00:01<00:00, 8403.96it/s]\n",
      "Training: 100%|████████████████████████████████████████████████████████████████████████████████| 1000/1000 [00:03<00:00, 296.49it/s]\n",
      "Training: 100%|████████████████████████████████████████████████████████████████████████████████| 1000/1000 [00:03<00:00, 295.62it/s]\n",
      "Training: 100%|████████████████████████████████████████████████████████████████████████████████| 1000/1000 [00:03<00:00, 296.31it/s]\n",
      "Training: 100%|████████████████████████████████████████████████████████████████████████████████| 1000/1000 [00:03<00:00, 296.35it/s]\n",
      "Training: 100%|████████████████████████████████████████████████████████████████████████████████| 1000/1000 [00:03<00:00, 296.01it/s]\n",
      "Testing 3x3: 100%|██████████████████████████████████████████████████████████████████████████████| 100/100 [00:00<00:00, 2531.29it/s]\n"
     ]
    },
    {
     "name": "stdout",
     "output_type": "stream",
     "text": [
      "\n",
      "3x3 Results:\n",
      "Accuracy: 91.00%\n",
      "Avg prediction | Perc: 0.853\n",
      "Avg prediction | Non-Perc: 0.142\n"
     ]
    },
    {
     "name": "stderr",
     "output_type": "stream",
     "text": [
      "Testing 9x9: 100%|██████████████████████████████████████████████████████████████████████████████| 100/100 [00:00<00:00, 1873.18it/s]\n"
     ]
    },
    {
     "name": "stdout",
     "output_type": "stream",
     "text": [
      "\n",
      "9x9 Results:\n",
      "Accuracy: 94.00%\n",
      "Avg prediction | Perc: 0.972\n",
      "Avg prediction | Non-Perc: 0.118\n"
     ]
    },
    {
     "name": "stderr",
     "output_type": "stream",
     "text": [
      "Testing 27x27: 100%|█████████████████████████████████████████████████████████████████████████████| 100/100 [00:00<00:00, 699.41it/s]\n"
     ]
    },
    {
     "name": "stdout",
     "output_type": "stream",
     "text": [
      "\n",
      "27x27 Results:\n",
      "Accuracy: 95.00%\n",
      "Avg prediction | Perc: 0.972\n",
      "Avg prediction | Non-Perc: 0.104\n"
     ]
    },
    {
     "name": "stderr",
     "output_type": "stream",
     "text": [
      "Testing 9x9: 100%|██████████████████████████████████████████████████████████████████████████████| 200/200 [00:00<00:00, 1518.08it/s]\n"
     ]
    },
    {
     "name": "stdout",
     "output_type": "stream",
     "text": [
      "\n",
      "9x9 Results:\n",
      "Accuracy: 73.50%\n",
      "Avg prediction | Perc: 0.854\n",
      "Avg prediction | Non-Perc: 0.614\n",
      "\n",
      "Running 3^2 - Run 7/10\n"
     ]
    },
    {
     "name": "stderr",
     "output_type": "stream",
     "text": [
      "Generating data: 100%|██████████████████████████████████████████████████████████████████████| 10000/10000 [00:01<00:00, 8425.19it/s]\n",
      "Training: 100%|████████████████████████████████████████████████████████████████████████████████| 1000/1000 [00:03<00:00, 288.25it/s]\n",
      "Training: 100%|████████████████████████████████████████████████████████████████████████████████| 1000/1000 [00:03<00:00, 288.86it/s]\n",
      "Training: 100%|████████████████████████████████████████████████████████████████████████████████| 1000/1000 [00:03<00:00, 287.49it/s]\n",
      "Training: 100%|████████████████████████████████████████████████████████████████████████████████| 1000/1000 [00:03<00:00, 287.28it/s]\n",
      "Training: 100%|████████████████████████████████████████████████████████████████████████████████| 1000/1000 [00:03<00:00, 289.66it/s]\n",
      "Testing 3x3: 100%|██████████████████████████████████████████████████████████████████████████████| 100/100 [00:00<00:00, 2435.63it/s]\n"
     ]
    },
    {
     "name": "stdout",
     "output_type": "stream",
     "text": [
      "\n",
      "3x3 Results:\n",
      "Accuracy: 93.00%\n",
      "Avg prediction | Perc: 0.904\n",
      "Avg prediction | Non-Perc: 0.121\n"
     ]
    },
    {
     "name": "stderr",
     "output_type": "stream",
     "text": [
      "Testing 9x9: 100%|██████████████████████████████████████████████████████████████████████████████| 100/100 [00:00<00:00, 1646.34it/s]\n"
     ]
    },
    {
     "name": "stdout",
     "output_type": "stream",
     "text": [
      "\n",
      "9x9 Results:\n",
      "Accuracy: 94.00%\n",
      "Avg prediction | Perc: 0.899\n",
      "Avg prediction | Non-Perc: 0.068\n"
     ]
    },
    {
     "name": "stderr",
     "output_type": "stream",
     "text": [
      "Testing 27x27: 100%|█████████████████████████████████████████████████████████████████████████████| 100/100 [00:00<00:00, 649.01it/s]\n"
     ]
    },
    {
     "name": "stdout",
     "output_type": "stream",
     "text": [
      "\n",
      "27x27 Results:\n",
      "Accuracy: 94.00%\n",
      "Avg prediction | Perc: 0.909\n",
      "Avg prediction | Non-Perc: 0.053\n"
     ]
    },
    {
     "name": "stderr",
     "output_type": "stream",
     "text": [
      "Testing 9x9: 100%|██████████████████████████████████████████████████████████████████████████████| 200/200 [00:00<00:00, 1391.12it/s]\n"
     ]
    },
    {
     "name": "stdout",
     "output_type": "stream",
     "text": [
      "\n",
      "9x9 Results:\n",
      "Accuracy: 77.50%\n",
      "Avg prediction | Perc: 0.803\n",
      "Avg prediction | Non-Perc: 0.556\n",
      "\n",
      "Running 3^2 - Run 8/10\n"
     ]
    },
    {
     "name": "stderr",
     "output_type": "stream",
     "text": [
      "Generating data: 100%|██████████████████████████████████████████████████████████████████████| 10000/10000 [00:01<00:00, 8247.63it/s]\n",
      "Training: 100%|████████████████████████████████████████████████████████████████████████████████| 1000/1000 [00:03<00:00, 286.87it/s]\n",
      "Training: 100%|████████████████████████████████████████████████████████████████████████████████| 1000/1000 [00:03<00:00, 290.86it/s]\n",
      "Training: 100%|████████████████████████████████████████████████████████████████████████████████| 1000/1000 [00:03<00:00, 290.85it/s]\n",
      "Training: 100%|████████████████████████████████████████████████████████████████████████████████| 1000/1000 [00:03<00:00, 292.14it/s]\n",
      "Training: 100%|████████████████████████████████████████████████████████████████████████████████| 1000/1000 [00:03<00:00, 290.80it/s]\n",
      "Testing 3x3: 100%|██████████████████████████████████████████████████████████████████████████████| 100/100 [00:00<00:00, 3199.95it/s]\n"
     ]
    },
    {
     "name": "stdout",
     "output_type": "stream",
     "text": [
      "\n",
      "3x3 Results:\n",
      "Accuracy: 92.00%\n",
      "Avg prediction | Perc: 0.901\n",
      "Avg prediction | Non-Perc: 0.109\n"
     ]
    },
    {
     "name": "stderr",
     "output_type": "stream",
     "text": [
      "Testing 9x9: 100%|██████████████████████████████████████████████████████████████████████████████| 100/100 [00:00<00:00, 1279.98it/s]\n"
     ]
    },
    {
     "name": "stdout",
     "output_type": "stream",
     "text": [
      "\n",
      "9x9 Results:\n",
      "Accuracy: 94.00%\n",
      "Avg prediction | Perc: 0.921\n",
      "Avg prediction | Non-Perc: 0.100\n"
     ]
    },
    {
     "name": "stderr",
     "output_type": "stream",
     "text": [
      "Testing 27x27: 100%|█████████████████████████████████████████████████████████████████████████████| 100/100 [00:00<00:00, 710.80it/s]\n"
     ]
    },
    {
     "name": "stdout",
     "output_type": "stream",
     "text": [
      "\n",
      "27x27 Results:\n",
      "Accuracy: 92.00%\n",
      "Avg prediction | Perc: 0.957\n",
      "Avg prediction | Non-Perc: 0.093\n"
     ]
    },
    {
     "name": "stderr",
     "output_type": "stream",
     "text": [
      "Testing 9x9: 100%|██████████████████████████████████████████████████████████████████████████████| 200/200 [00:00<00:00, 1424.05it/s]\n"
     ]
    },
    {
     "name": "stdout",
     "output_type": "stream",
     "text": [
      "\n",
      "9x9 Results:\n",
      "Accuracy: 74.50%\n",
      "Avg prediction | Perc: 0.801\n",
      "Avg prediction | Non-Perc: 0.554\n",
      "\n",
      "Running 3^2 - Run 9/10\n"
     ]
    },
    {
     "name": "stderr",
     "output_type": "stream",
     "text": [
      "Generating data: 100%|██████████████████████████████████████████████████████████████████████| 10000/10000 [00:01<00:00, 8233.58it/s]\n",
      "Training: 100%|████████████████████████████████████████████████████████████████████████████████| 1000/1000 [00:03<00:00, 291.64it/s]\n",
      "Training: 100%|████████████████████████████████████████████████████████████████████████████████| 1000/1000 [00:03<00:00, 288.30it/s]\n",
      "Training: 100%|████████████████████████████████████████████████████████████████████████████████| 1000/1000 [00:03<00:00, 292.30it/s]\n",
      "Training: 100%|████████████████████████████████████████████████████████████████████████████████| 1000/1000 [00:03<00:00, 291.84it/s]\n",
      "Training: 100%|████████████████████████████████████████████████████████████████████████████████| 1000/1000 [00:03<00:00, 292.22it/s]\n",
      "Testing 3x3: 100%|██████████████████████████████████████████████████████████████████████████████| 100/100 [00:00<00:00, 2133.34it/s]\n"
     ]
    },
    {
     "name": "stdout",
     "output_type": "stream",
     "text": [
      "\n",
      "3x3 Results:\n",
      "Accuracy: 96.00%\n",
      "Avg prediction | Perc: 0.908\n",
      "Avg prediction | Non-Perc: 0.141\n"
     ]
    },
    {
     "name": "stderr",
     "output_type": "stream",
     "text": [
      "Testing 9x9: 100%|██████████████████████████████████████████████████████████████████████████████| 100/100 [00:00<00:00, 1599.98it/s]\n"
     ]
    },
    {
     "name": "stdout",
     "output_type": "stream",
     "text": [
      "\n",
      "9x9 Results:\n",
      "Accuracy: 92.00%\n",
      "Avg prediction | Perc: 0.891\n",
      "Avg prediction | Non-Perc: 0.119\n"
     ]
    },
    {
     "name": "stderr",
     "output_type": "stream",
     "text": [
      "Testing 27x27: 100%|█████████████████████████████████████████████████████████████████████████████| 100/100 [00:00<00:00, 711.11it/s]\n"
     ]
    },
    {
     "name": "stdout",
     "output_type": "stream",
     "text": [
      "\n",
      "27x27 Results:\n",
      "Accuracy: 94.00%\n",
      "Avg prediction | Perc: 0.934\n",
      "Avg prediction | Non-Perc: 0.052\n"
     ]
    },
    {
     "name": "stderr",
     "output_type": "stream",
     "text": [
      "Testing 9x9: 100%|██████████████████████████████████████████████████████████████████████████████| 200/200 [00:00<00:00, 1599.84it/s]\n"
     ]
    },
    {
     "name": "stdout",
     "output_type": "stream",
     "text": [
      "\n",
      "9x9 Results:\n",
      "Accuracy: 77.00%\n",
      "Avg prediction | Perc: 0.772\n",
      "Avg prediction | Non-Perc: 0.535\n",
      "\n",
      "Running 3^2 - Run 10/10\n"
     ]
    },
    {
     "name": "stderr",
     "output_type": "stream",
     "text": [
      "Generating data: 100%|██████████████████████████████████████████████████████████████████████| 10000/10000 [00:01<00:00, 8303.96it/s]\n",
      "Training: 100%|████████████████████████████████████████████████████████████████████████████████| 1000/1000 [00:03<00:00, 297.53it/s]\n",
      "Training: 100%|████████████████████████████████████████████████████████████████████████████████| 1000/1000 [00:03<00:00, 297.58it/s]\n",
      "Training: 100%|████████████████████████████████████████████████████████████████████████████████| 1000/1000 [00:03<00:00, 303.27it/s]\n",
      "Training: 100%|████████████████████████████████████████████████████████████████████████████████| 1000/1000 [00:03<00:00, 312.03it/s]\n",
      "Training: 100%|████████████████████████████████████████████████████████████████████████████████| 1000/1000 [00:03<00:00, 293.89it/s]\n",
      "Testing 3x3: 100%|██████████████████████████████████████████████████████████████████████████████| 100/100 [00:00<00:00, 3199.93it/s]\n"
     ]
    },
    {
     "name": "stdout",
     "output_type": "stream",
     "text": [
      "\n",
      "3x3 Results:\n",
      "Accuracy: 94.00%\n",
      "Avg prediction | Perc: 0.901\n",
      "Avg prediction | Non-Perc: 0.122\n"
     ]
    },
    {
     "name": "stderr",
     "output_type": "stream",
     "text": [
      "Testing 9x9: 100%|██████████████████████████████████████████████████████████████████████████████| 100/100 [00:00<00:00, 1599.91it/s]\n"
     ]
    },
    {
     "name": "stdout",
     "output_type": "stream",
     "text": [
      "\n",
      "9x9 Results:\n",
      "Accuracy: 93.00%\n",
      "Avg prediction | Perc: 0.882\n",
      "Avg prediction | Non-Perc: 0.086\n"
     ]
    },
    {
     "name": "stderr",
     "output_type": "stream",
     "text": [
      "Testing 27x27: 100%|█████████████████████████████████████████████████████████████████████████████| 100/100 [00:00<00:00, 646.73it/s]\n"
     ]
    },
    {
     "name": "stdout",
     "output_type": "stream",
     "text": [
      "\n",
      "27x27 Results:\n",
      "Accuracy: 95.00%\n",
      "Avg prediction | Perc: 0.962\n",
      "Avg prediction | Non-Perc: 0.058\n"
     ]
    },
    {
     "name": "stderr",
     "output_type": "stream",
     "text": [
      "Testing 9x9: 100%|██████████████████████████████████████████████████████████████████████████████| 200/200 [00:00<00:00, 1631.85it/s]\n"
     ]
    },
    {
     "name": "stdout",
     "output_type": "stream",
     "text": [
      "\n",
      "9x9 Results:\n",
      "Accuracy: 77.00%\n",
      "Avg prediction | Perc: 0.816\n",
      "Avg prediction | Non-Perc: 0.616\n",
      "\n",
      "Running 3^3 - Run 1/10\n"
     ]
    },
    {
     "name": "stderr",
     "output_type": "stream",
     "text": [
      "Generating data: 100%|██████████████████████████████████████████████████████████████████████| 10000/10000 [00:01<00:00, 6461.00it/s]\n",
      "Training: 100%|████████████████████████████████████████████████████████████████████████████████| 1000/1000 [00:09<00:00, 110.74it/s]\n",
      "Training: 100%|████████████████████████████████████████████████████████████████████████████████| 1000/1000 [00:09<00:00, 109.90it/s]\n",
      "Training: 100%|████████████████████████████████████████████████████████████████████████████████| 1000/1000 [00:09<00:00, 109.13it/s]\n",
      "Training: 100%|████████████████████████████████████████████████████████████████████████████████| 1000/1000 [00:09<00:00, 109.26it/s]\n",
      "Training: 100%|████████████████████████████████████████████████████████████████████████████████| 1000/1000 [00:09<00:00, 109.49it/s]\n",
      "Testing 9x9: 100%|██████████████████████████████████████████████████████████████████████████████| 100/100 [00:00<00:00, 1711.48it/s]\n"
     ]
    },
    {
     "name": "stdout",
     "output_type": "stream",
     "text": [
      "\n",
      "9x9 Results:\n",
      "Accuracy: 8.00%\n",
      "Avg prediction | Perc: 0.228\n",
      "Avg prediction | Non-Perc: 0.978\n"
     ]
    },
    {
     "name": "stderr",
     "output_type": "stream",
     "text": [
      "Testing 27x27: 100%|█████████████████████████████████████████████████████████████████████████████| 100/100 [00:00<00:00, 711.12it/s]\n"
     ]
    },
    {
     "name": "stdout",
     "output_type": "stream",
     "text": [
      "\n",
      "27x27 Results:\n",
      "Accuracy: 97.00%\n",
      "Avg prediction | Perc: 0.963\n",
      "Avg prediction | Non-Perc: 0.048\n"
     ]
    },
    {
     "name": "stderr",
     "output_type": "stream",
     "text": [
      "Testing 81x81: 100%|█████████████████████████████████████████████████████████████████████████████| 100/100 [00:00<00:00, 164.30it/s]\n"
     ]
    },
    {
     "name": "stdout",
     "output_type": "stream",
     "text": [
      "\n",
      "81x81 Results:\n",
      "Accuracy: 2.00%\n",
      "Avg prediction | Perc: 0.011\n",
      "Avg prediction | Non-Perc: 0.978\n"
     ]
    },
    {
     "name": "stderr",
     "output_type": "stream",
     "text": [
      "Testing 27x27: 100%|█████████████████████████████████████████████████████████████████████████████| 200/200 [00:00<00:00, 711.08it/s]\n"
     ]
    },
    {
     "name": "stdout",
     "output_type": "stream",
     "text": [
      "\n",
      "27x27 Results:\n",
      "Accuracy: 74.50%\n",
      "Avg prediction | Perc: 0.873\n",
      "Avg prediction | Non-Perc: 0.739\n",
      "\n",
      "Running 3^3 - Run 2/10\n"
     ]
    },
    {
     "name": "stderr",
     "output_type": "stream",
     "text": [
      "Generating data: 100%|██████████████████████████████████████████████████████████████████████| 10000/10000 [00:01<00:00, 6396.04it/s]\n",
      "Training: 100%|████████████████████████████████████████████████████████████████████████████████| 1000/1000 [00:09<00:00, 107.02it/s]\n",
      "Training: 100%|████████████████████████████████████████████████████████████████████████████████| 1000/1000 [00:09<00:00, 108.62it/s]\n",
      "Training: 100%|████████████████████████████████████████████████████████████████████████████████| 1000/1000 [00:09<00:00, 109.00it/s]\n",
      "Training: 100%|████████████████████████████████████████████████████████████████████████████████| 1000/1000 [00:09<00:00, 108.62it/s]\n",
      "Training: 100%|████████████████████████████████████████████████████████████████████████████████| 1000/1000 [00:09<00:00, 108.98it/s]\n",
      "Testing 9x9: 100%|██████████████████████████████████████████████████████████████████████████████| 100/100 [00:00<00:00, 1599.96it/s]\n"
     ]
    },
    {
     "name": "stdout",
     "output_type": "stream",
     "text": [
      "\n",
      "9x9 Results:\n",
      "Accuracy: 9.00%\n",
      "Avg prediction | Perc: 0.217\n",
      "Avg prediction | Non-Perc: 0.984\n"
     ]
    },
    {
     "name": "stderr",
     "output_type": "stream",
     "text": [
      "Testing 27x27: 100%|█████████████████████████████████████████████████████████████████████████████| 100/100 [00:00<00:00, 715.11it/s]\n"
     ]
    },
    {
     "name": "stdout",
     "output_type": "stream",
     "text": [
      "\n",
      "27x27 Results:\n",
      "Accuracy: 94.00%\n",
      "Avg prediction | Perc: 0.981\n",
      "Avg prediction | Non-Perc: 0.106\n"
     ]
    },
    {
     "name": "stderr",
     "output_type": "stream",
     "text": [
      "Testing 81x81: 100%|█████████████████████████████████████████████████████████████████████████████| 100/100 [00:00<00:00, 159.95it/s]\n"
     ]
    },
    {
     "name": "stdout",
     "output_type": "stream",
     "text": [
      "\n",
      "81x81 Results:\n",
      "Accuracy: 1.00%\n",
      "Avg prediction | Perc: 0.048\n",
      "Avg prediction | Non-Perc: 0.994\n"
     ]
    },
    {
     "name": "stderr",
     "output_type": "stream",
     "text": [
      "Testing 27x27: 100%|█████████████████████████████████████████████████████████████████████████████| 200/200 [00:00<00:00, 707.42it/s]\n"
     ]
    },
    {
     "name": "stdout",
     "output_type": "stream",
     "text": [
      "\n",
      "27x27 Results:\n",
      "Accuracy: 65.50%\n",
      "Avg prediction | Perc: 0.787\n",
      "Avg prediction | Non-Perc: 0.651\n",
      "\n",
      "Running 3^3 - Run 3/10\n"
     ]
    },
    {
     "name": "stderr",
     "output_type": "stream",
     "text": [
      "Generating data: 100%|██████████████████████████████████████████████████████████████████████| 10000/10000 [00:01<00:00, 6440.31it/s]\n",
      "Training: 100%|████████████████████████████████████████████████████████████████████████████████| 1000/1000 [00:09<00:00, 108.89it/s]\n",
      "Training: 100%|████████████████████████████████████████████████████████████████████████████████| 1000/1000 [00:09<00:00, 107.51it/s]\n",
      "Training: 100%|████████████████████████████████████████████████████████████████████████████████| 1000/1000 [00:09<00:00, 105.48it/s]\n",
      "Training: 100%|████████████████████████████████████████████████████████████████████████████████| 1000/1000 [00:09<00:00, 106.67it/s]\n",
      "Training: 100%|████████████████████████████████████████████████████████████████████████████████| 1000/1000 [00:09<00:00, 108.66it/s]\n",
      "Testing 9x9: 100%|██████████████████████████████████████████████████████████████████████████████| 100/100 [00:00<00:00, 1455.30it/s]\n"
     ]
    },
    {
     "name": "stdout",
     "output_type": "stream",
     "text": [
      "\n",
      "9x9 Results:\n",
      "Accuracy: 17.00%\n",
      "Avg prediction | Perc: 0.344\n",
      "Avg prediction | Non-Perc: 0.969\n"
     ]
    },
    {
     "name": "stderr",
     "output_type": "stream",
     "text": [
      "Testing 27x27: 100%|█████████████████████████████████████████████████████████████████████████████| 100/100 [00:00<00:00, 680.30it/s]\n"
     ]
    },
    {
     "name": "stdout",
     "output_type": "stream",
     "text": [
      "\n",
      "27x27 Results:\n",
      "Accuracy: 94.00%\n",
      "Avg prediction | Perc: 0.926\n",
      "Avg prediction | Non-Perc: 0.055\n"
     ]
    },
    {
     "name": "stderr",
     "output_type": "stream",
     "text": [
      "Testing 81x81: 100%|█████████████████████████████████████████████████████████████████████████████| 100/100 [00:00<00:00, 157.83it/s]\n"
     ]
    },
    {
     "name": "stdout",
     "output_type": "stream",
     "text": [
      "\n",
      "81x81 Results:\n",
      "Accuracy: 4.00%\n",
      "Avg prediction | Perc: 0.089\n",
      "Avg prediction | Non-Perc: 0.980\n"
     ]
    },
    {
     "name": "stderr",
     "output_type": "stream",
     "text": [
      "Testing 27x27: 100%|█████████████████████████████████████████████████████████████████████████████| 200/200 [00:00<00:00, 697.67it/s]\n"
     ]
    },
    {
     "name": "stdout",
     "output_type": "stream",
     "text": [
      "\n",
      "27x27 Results:\n",
      "Accuracy: 70.00%\n",
      "Avg prediction | Perc: 0.786\n",
      "Avg prediction | Non-Perc: 0.656\n",
      "\n",
      "Running 3^3 - Run 4/10\n"
     ]
    },
    {
     "name": "stderr",
     "output_type": "stream",
     "text": [
      "Generating data: 100%|██████████████████████████████████████████████████████████████████████| 10000/10000 [00:01<00:00, 6515.17it/s]\n",
      "Training: 100%|████████████████████████████████████████████████████████████████████████████████| 1000/1000 [00:09<00:00, 108.66it/s]\n",
      "Training: 100%|████████████████████████████████████████████████████████████████████████████████| 1000/1000 [00:09<00:00, 110.07it/s]\n",
      "Training: 100%|████████████████████████████████████████████████████████████████████████████████| 1000/1000 [00:09<00:00, 109.04it/s]\n",
      "Training: 100%|████████████████████████████████████████████████████████████████████████████████| 1000/1000 [00:09<00:00, 107.65it/s]\n",
      "Training: 100%|████████████████████████████████████████████████████████████████████████████████| 1000/1000 [00:09<00:00, 108.37it/s]\n",
      "Testing 9x9: 100%|██████████████████████████████████████████████████████████████████████████████| 100/100 [00:00<00:00, 1580.08it/s]\n"
     ]
    },
    {
     "name": "stdout",
     "output_type": "stream",
     "text": [
      "\n",
      "9x9 Results:\n",
      "Accuracy: 96.00%\n",
      "Avg prediction | Perc: 0.923\n",
      "Avg prediction | Non-Perc: 0.091\n"
     ]
    },
    {
     "name": "stderr",
     "output_type": "stream",
     "text": [
      "Testing 27x27: 100%|█████████████████████████████████████████████████████████████████████████████| 100/100 [00:00<00:00, 692.34it/s]\n"
     ]
    },
    {
     "name": "stdout",
     "output_type": "stream",
     "text": [
      "\n",
      "27x27 Results:\n",
      "Accuracy: 96.00%\n",
      "Avg prediction | Perc: 0.981\n",
      "Avg prediction | Non-Perc: 0.055\n"
     ]
    },
    {
     "name": "stderr",
     "output_type": "stream",
     "text": [
      "Testing 81x81: 100%|█████████████████████████████████████████████████████████████████████████████| 100/100 [00:00<00:00, 155.73it/s]\n"
     ]
    },
    {
     "name": "stdout",
     "output_type": "stream",
     "text": [
      "\n",
      "81x81 Results:\n",
      "Accuracy: 96.00%\n",
      "Avg prediction | Perc: 0.962\n",
      "Avg prediction | Non-Perc: 0.054\n"
     ]
    },
    {
     "name": "stderr",
     "output_type": "stream",
     "text": [
      "Testing 27x27: 100%|█████████████████████████████████████████████████████████████████████████████| 200/200 [00:00<00:00, 701.64it/s]\n"
     ]
    },
    {
     "name": "stdout",
     "output_type": "stream",
     "text": [
      "\n",
      "27x27 Results:\n",
      "Accuracy: 69.00%\n",
      "Avg prediction | Perc: 0.853\n",
      "Avg prediction | Non-Perc: 0.765\n",
      "\n",
      "Running 3^3 - Run 5/10\n"
     ]
    },
    {
     "name": "stderr",
     "output_type": "stream",
     "text": [
      "Generating data: 100%|██████████████████████████████████████████████████████████████████████| 10000/10000 [00:01<00:00, 6595.45it/s]\n",
      "Training: 100%|████████████████████████████████████████████████████████████████████████████████| 1000/1000 [00:09<00:00, 108.17it/s]\n",
      "Training: 100%|████████████████████████████████████████████████████████████████████████████████| 1000/1000 [00:09<00:00, 108.18it/s]\n",
      "Training: 100%|████████████████████████████████████████████████████████████████████████████████| 1000/1000 [00:09<00:00, 106.15it/s]\n",
      "Training: 100%|████████████████████████████████████████████████████████████████████████████████| 1000/1000 [00:09<00:00, 106.13it/s]\n",
      "Training: 100%|████████████████████████████████████████████████████████████████████████████████| 1000/1000 [00:09<00:00, 108.47it/s]\n",
      "Testing 9x9: 100%|██████████████████████████████████████████████████████████████████████████████| 100/100 [00:00<00:00, 1455.15it/s]\n"
     ]
    },
    {
     "name": "stdout",
     "output_type": "stream",
     "text": [
      "\n",
      "9x9 Results:\n",
      "Accuracy: 9.00%\n",
      "Avg prediction | Perc: 0.261\n",
      "Avg prediction | Non-Perc: 0.993\n"
     ]
    },
    {
     "name": "stderr",
     "output_type": "stream",
     "text": [
      "Testing 27x27: 100%|█████████████████████████████████████████████████████████████████████████████| 100/100 [00:00<00:00, 675.76it/s]\n"
     ]
    },
    {
     "name": "stdout",
     "output_type": "stream",
     "text": [
      "\n",
      "27x27 Results:\n",
      "Accuracy: 97.00%\n",
      "Avg prediction | Perc: 0.965\n",
      "Avg prediction | Non-Perc: 0.050\n"
     ]
    },
    {
     "name": "stderr",
     "output_type": "stream",
     "text": [
      "Testing 81x81: 100%|█████████████████████████████████████████████████████████████████████████████| 100/100 [00:00<00:00, 161.55it/s]\n"
     ]
    },
    {
     "name": "stdout",
     "output_type": "stream",
     "text": [
      "\n",
      "81x81 Results:\n",
      "Accuracy: 2.00%\n",
      "Avg prediction | Perc: 0.067\n",
      "Avg prediction | Non-Perc: 0.996\n"
     ]
    },
    {
     "name": "stderr",
     "output_type": "stream",
     "text": [
      "Testing 27x27: 100%|█████████████████████████████████████████████████████████████████████████████| 200/200 [00:00<00:00, 664.97it/s]\n"
     ]
    },
    {
     "name": "stdout",
     "output_type": "stream",
     "text": [
      "\n",
      "27x27 Results:\n",
      "Accuracy: 74.50%\n",
      "Avg prediction | Perc: 0.784\n",
      "Avg prediction | Non-Perc: 0.629\n",
      "\n",
      "Running 3^3 - Run 6/10\n"
     ]
    },
    {
     "name": "stderr",
     "output_type": "stream",
     "text": [
      "Generating data: 100%|██████████████████████████████████████████████████████████████████████| 10000/10000 [00:01<00:00, 6593.00it/s]\n",
      "Training: 100%|████████████████████████████████████████████████████████████████████████████████| 1000/1000 [00:09<00:00, 110.86it/s]\n",
      "Training: 100%|████████████████████████████████████████████████████████████████████████████████| 1000/1000 [00:09<00:00, 109.41it/s]\n",
      "Training: 100%|████████████████████████████████████████████████████████████████████████████████| 1000/1000 [00:09<00:00, 109.63it/s]\n",
      "Training: 100%|████████████████████████████████████████████████████████████████████████████████| 1000/1000 [00:09<00:00, 108.08it/s]\n",
      "Training: 100%|████████████████████████████████████████████████████████████████████████████████| 1000/1000 [00:09<00:00, 107.89it/s]\n",
      "Testing 9x9: 100%|██████████████████████████████████████████████████████████████████████████████| 100/100 [00:00<00:00, 1430.25it/s]\n"
     ]
    },
    {
     "name": "stdout",
     "output_type": "stream",
     "text": [
      "\n",
      "9x9 Results:\n",
      "Accuracy: 92.00%\n",
      "Avg prediction | Perc: 0.865\n",
      "Avg prediction | Non-Perc: 0.092\n"
     ]
    },
    {
     "name": "stderr",
     "output_type": "stream",
     "text": [
      "Testing 27x27: 100%|█████████████████████████████████████████████████████████████████████████████| 100/100 [00:00<00:00, 681.05it/s]\n"
     ]
    },
    {
     "name": "stdout",
     "output_type": "stream",
     "text": [
      "\n",
      "27x27 Results:\n",
      "Accuracy: 94.00%\n",
      "Avg prediction | Perc: 0.899\n",
      "Avg prediction | Non-Perc: 0.058\n"
     ]
    },
    {
     "name": "stderr",
     "output_type": "stream",
     "text": [
      "Testing 81x81: 100%|█████████████████████████████████████████████████████████████████████████████| 100/100 [00:00<00:00, 161.70it/s]\n"
     ]
    },
    {
     "name": "stdout",
     "output_type": "stream",
     "text": [
      "\n",
      "81x81 Results:\n",
      "Accuracy: 99.00%\n",
      "Avg prediction | Perc: 0.963\n",
      "Avg prediction | Non-Perc: 0.010\n"
     ]
    },
    {
     "name": "stderr",
     "output_type": "stream",
     "text": [
      "Testing 27x27: 100%|█████████████████████████████████████████████████████████████████████████████| 200/200 [00:00<00:00, 739.04it/s]\n"
     ]
    },
    {
     "name": "stdout",
     "output_type": "stream",
     "text": [
      "\n",
      "27x27 Results:\n",
      "Accuracy: 70.50%\n",
      "Avg prediction | Perc: 0.759\n",
      "Avg prediction | Non-Perc: 0.594\n",
      "\n",
      "Running 3^3 - Run 7/10\n"
     ]
    },
    {
     "name": "stderr",
     "output_type": "stream",
     "text": [
      "Generating data: 100%|██████████████████████████████████████████████████████████████████████| 10000/10000 [00:01<00:00, 6533.82it/s]\n",
      "Training: 100%|████████████████████████████████████████████████████████████████████████████████| 1000/1000 [00:09<00:00, 108.23it/s]\n",
      "Training: 100%|████████████████████████████████████████████████████████████████████████████████| 1000/1000 [00:09<00:00, 107.82it/s]\n",
      "Training: 100%|████████████████████████████████████████████████████████████████████████████████| 1000/1000 [00:09<00:00, 102.06it/s]\n",
      "Training: 100%|████████████████████████████████████████████████████████████████████████████████| 1000/1000 [00:09<00:00, 105.77it/s]\n",
      "Training: 100%|████████████████████████████████████████████████████████████████████████████████| 1000/1000 [00:09<00:00, 107.63it/s]\n",
      "Testing 9x9: 100%|██████████████████████████████████████████████████████████████████████████████| 100/100 [00:00<00:00, 1697.10it/s]\n"
     ]
    },
    {
     "name": "stdout",
     "output_type": "stream",
     "text": [
      "\n",
      "9x9 Results:\n",
      "Accuracy: 13.00%\n",
      "Avg prediction | Perc: 0.266\n",
      "Avg prediction | Non-Perc: 0.968\n"
     ]
    },
    {
     "name": "stderr",
     "output_type": "stream",
     "text": [
      "Testing 27x27: 100%|█████████████████████████████████████████████████████████████████████████████| 100/100 [00:00<00:00, 650.96it/s]\n"
     ]
    },
    {
     "name": "stdout",
     "output_type": "stream",
     "text": [
      "\n",
      "27x27 Results:\n",
      "Accuracy: 96.00%\n",
      "Avg prediction | Perc: 0.978\n",
      "Avg prediction | Non-Perc: 0.085\n"
     ]
    },
    {
     "name": "stderr",
     "output_type": "stream",
     "text": [
      "Testing 81x81: 100%|█████████████████████████████████████████████████████████████████████████████| 100/100 [00:00<00:00, 161.85it/s]\n"
     ]
    },
    {
     "name": "stdout",
     "output_type": "stream",
     "text": [
      "\n",
      "81x81 Results:\n",
      "Accuracy: 2.00%\n",
      "Avg prediction | Perc: 0.063\n",
      "Avg prediction | Non-Perc: 1.000\n"
     ]
    },
    {
     "name": "stderr",
     "output_type": "stream",
     "text": [
      "Testing 27x27: 100%|█████████████████████████████████████████████████████████████████████████████| 200/200 [00:00<00:00, 640.54it/s]\n"
     ]
    },
    {
     "name": "stdout",
     "output_type": "stream",
     "text": [
      "\n",
      "27x27 Results:\n",
      "Accuracy: 70.00%\n",
      "Avg prediction | Perc: 0.818\n",
      "Avg prediction | Non-Perc: 0.725\n",
      "\n",
      "Running 3^3 - Run 8/10\n"
     ]
    },
    {
     "name": "stderr",
     "output_type": "stream",
     "text": [
      "Generating data: 100%|██████████████████████████████████████████████████████████████████████| 10000/10000 [00:01<00:00, 6452.82it/s]\n",
      "Training: 100%|████████████████████████████████████████████████████████████████████████████████| 1000/1000 [00:09<00:00, 109.57it/s]\n",
      "Training: 100%|████████████████████████████████████████████████████████████████████████████████| 1000/1000 [00:09<00:00, 107.36it/s]\n",
      "Training: 100%|████████████████████████████████████████████████████████████████████████████████| 1000/1000 [00:09<00:00, 108.44it/s]\n",
      "Training: 100%|████████████████████████████████████████████████████████████████████████████████| 1000/1000 [00:09<00:00, 109.58it/s]\n",
      "Training: 100%|████████████████████████████████████████████████████████████████████████████████| 1000/1000 [00:09<00:00, 107.61it/s]\n",
      "Testing 9x9: 100%|██████████████████████████████████████████████████████████████████████████████| 100/100 [00:00<00:00, 1721.57it/s]\n"
     ]
    },
    {
     "name": "stdout",
     "output_type": "stream",
     "text": [
      "\n",
      "9x9 Results:\n",
      "Accuracy: 12.00%\n",
      "Avg prediction | Perc: 0.286\n",
      "Avg prediction | Non-Perc: 0.966\n"
     ]
    },
    {
     "name": "stderr",
     "output_type": "stream",
     "text": [
      "Testing 27x27: 100%|█████████████████████████████████████████████████████████████████████████████| 100/100 [00:00<00:00, 644.03it/s]\n"
     ]
    },
    {
     "name": "stdout",
     "output_type": "stream",
     "text": [
      "\n",
      "27x27 Results:\n",
      "Accuracy: 95.00%\n",
      "Avg prediction | Perc: 0.908\n",
      "Avg prediction | Non-Perc: 0.032\n"
     ]
    },
    {
     "name": "stderr",
     "output_type": "stream",
     "text": [
      "Testing 81x81: 100%|█████████████████████████████████████████████████████████████████████████████| 100/100 [00:00<00:00, 158.55it/s]\n"
     ]
    },
    {
     "name": "stdout",
     "output_type": "stream",
     "text": [
      "\n",
      "81x81 Results:\n",
      "Accuracy: 0.00%\n",
      "Avg prediction | Perc: 0.014\n",
      "Avg prediction | Non-Perc: 0.990\n"
     ]
    },
    {
     "name": "stderr",
     "output_type": "stream",
     "text": [
      "Testing 27x27: 100%|█████████████████████████████████████████████████████████████████████████████| 200/200 [00:00<00:00, 726.95it/s]\n"
     ]
    },
    {
     "name": "stdout",
     "output_type": "stream",
     "text": [
      "\n",
      "27x27 Results:\n",
      "Accuracy: 70.50%\n",
      "Avg prediction | Perc: 0.781\n",
      "Avg prediction | Non-Perc: 0.547\n",
      "\n",
      "Running 3^3 - Run 9/10\n"
     ]
    },
    {
     "name": "stderr",
     "output_type": "stream",
     "text": [
      "Generating data: 100%|██████████████████████████████████████████████████████████████████████| 10000/10000 [00:01<00:00, 6428.69it/s]\n",
      "Training: 100%|████████████████████████████████████████████████████████████████████████████████| 1000/1000 [00:09<00:00, 108.44it/s]\n",
      "Training: 100%|████████████████████████████████████████████████████████████████████████████████| 1000/1000 [00:09<00:00, 108.43it/s]\n",
      "Training: 100%|████████████████████████████████████████████████████████████████████████████████| 1000/1000 [00:09<00:00, 108.06it/s]\n",
      "Training: 100%|████████████████████████████████████████████████████████████████████████████████| 1000/1000 [00:09<00:00, 108.19it/s]\n",
      "Training: 100%|████████████████████████████████████████████████████████████████████████████████| 1000/1000 [00:09<00:00, 107.78it/s]\n",
      "Testing 9x9: 100%|██████████████████████████████████████████████████████████████████████████████| 100/100 [00:00<00:00, 1601.87it/s]\n"
     ]
    },
    {
     "name": "stdout",
     "output_type": "stream",
     "text": [
      "\n",
      "9x9 Results:\n",
      "Accuracy: 10.00%\n",
      "Avg prediction | Perc: 0.203\n",
      "Avg prediction | Non-Perc: 0.950\n"
     ]
    },
    {
     "name": "stderr",
     "output_type": "stream",
     "text": [
      "Testing 27x27: 100%|█████████████████████████████████████████████████████████████████████████████| 100/100 [00:00<00:00, 696.67it/s]\n"
     ]
    },
    {
     "name": "stdout",
     "output_type": "stream",
     "text": [
      "\n",
      "27x27 Results:\n",
      "Accuracy: 96.00%\n",
      "Avg prediction | Perc: 0.939\n",
      "Avg prediction | Non-Perc: 0.051\n"
     ]
    },
    {
     "name": "stderr",
     "output_type": "stream",
     "text": [
      "Testing 81x81: 100%|█████████████████████████████████████████████████████████████████████████████| 100/100 [00:00<00:00, 157.82it/s]\n"
     ]
    },
    {
     "name": "stdout",
     "output_type": "stream",
     "text": [
      "\n",
      "81x81 Results:\n",
      "Accuracy: 2.00%\n",
      "Avg prediction | Perc: 0.031\n",
      "Avg prediction | Non-Perc: 0.974\n"
     ]
    },
    {
     "name": "stderr",
     "output_type": "stream",
     "text": [
      "Testing 27x27: 100%|█████████████████████████████████████████████████████████████████████████████| 200/200 [00:00<00:00, 701.22it/s]\n"
     ]
    },
    {
     "name": "stdout",
     "output_type": "stream",
     "text": [
      "\n",
      "27x27 Results:\n",
      "Accuracy: 68.50%\n",
      "Avg prediction | Perc: 0.891\n",
      "Avg prediction | Non-Perc: 0.756\n",
      "\n",
      "Running 3^3 - Run 10/10\n"
     ]
    },
    {
     "name": "stderr",
     "output_type": "stream",
     "text": [
      "Generating data: 100%|██████████████████████████████████████████████████████████████████████| 10000/10000 [00:01<00:00, 6380.41it/s]\n",
      "Training: 100%|████████████████████████████████████████████████████████████████████████████████| 1000/1000 [00:09<00:00, 107.83it/s]\n",
      "Training: 100%|████████████████████████████████████████████████████████████████████████████████| 1000/1000 [00:09<00:00, 108.26it/s]\n",
      "Training: 100%|████████████████████████████████████████████████████████████████████████████████| 1000/1000 [00:09<00:00, 107.82it/s]\n",
      "Training: 100%|████████████████████████████████████████████████████████████████████████████████| 1000/1000 [00:09<00:00, 107.88it/s]\n",
      "Training: 100%|████████████████████████████████████████████████████████████████████████████████| 1000/1000 [00:09<00:00, 107.67it/s]\n",
      "Testing 9x9: 100%|██████████████████████████████████████████████████████████████████████████████| 100/100 [00:00<00:00, 1370.00it/s]\n"
     ]
    },
    {
     "name": "stdout",
     "output_type": "stream",
     "text": [
      "\n",
      "9x9 Results:\n",
      "Accuracy: 14.00%\n",
      "Avg prediction | Perc: 0.312\n",
      "Avg prediction | Non-Perc: 0.985\n"
     ]
    },
    {
     "name": "stderr",
     "output_type": "stream",
     "text": [
      "Testing 27x27: 100%|█████████████████████████████████████████████████████████████████████████████| 100/100 [00:00<00:00, 710.03it/s]\n"
     ]
    },
    {
     "name": "stdout",
     "output_type": "stream",
     "text": [
      "\n",
      "27x27 Results:\n",
      "Accuracy: 95.00%\n",
      "Avg prediction | Perc: 0.950\n",
      "Avg prediction | Non-Perc: 0.080\n"
     ]
    },
    {
     "name": "stderr",
     "output_type": "stream",
     "text": [
      "Testing 81x81: 100%|█████████████████████████████████████████████████████████████████████████████| 100/100 [00:00<00:00, 157.56it/s]\n"
     ]
    },
    {
     "name": "stdout",
     "output_type": "stream",
     "text": [
      "\n",
      "81x81 Results:\n",
      "Accuracy: 2.00%\n",
      "Avg prediction | Perc: 0.055\n",
      "Avg prediction | Non-Perc: 0.985\n"
     ]
    },
    {
     "name": "stderr",
     "output_type": "stream",
     "text": [
      "Testing 27x27: 100%|█████████████████████████████████████████████████████████████████████████████| 200/200 [00:00<00:00, 695.41it/s]\n"
     ]
    },
    {
     "name": "stdout",
     "output_type": "stream",
     "text": [
      "\n",
      "27x27 Results:\n",
      "Accuracy: 70.00%\n",
      "Avg prediction | Perc: 0.788\n",
      "Avg prediction | Non-Perc: 0.643\n",
      "\n",
      "Running 3^4 - Run 1/10\n"
     ]
    },
    {
     "name": "stderr",
     "output_type": "stream",
     "text": [
      "Generating data: 100%|██████████████████████████████████████████████████████████████████████| 10000/10000 [00:04<00:00, 2441.33it/s]\n",
      "Training: 100%|█████████████████████████████████████████████████████████████████████████████████| 1000/1000 [00:54<00:00, 18.41it/s]\n",
      "Training: 100%|█████████████████████████████████████████████████████████████████████████████████| 1000/1000 [00:54<00:00, 18.39it/s]\n",
      "Training: 100%|█████████████████████████████████████████████████████████████████████████████████| 1000/1000 [00:54<00:00, 18.37it/s]\n",
      "Training: 100%|█████████████████████████████████████████████████████████████████████████████████| 1000/1000 [00:54<00:00, 18.43it/s]\n",
      "Training: 100%|█████████████████████████████████████████████████████████████████████████████████| 1000/1000 [00:54<00:00, 18.38it/s]\n",
      "Testing 27x27: 100%|█████████████████████████████████████████████████████████████████████████████| 100/100 [00:00<00:00, 691.93it/s]\n"
     ]
    },
    {
     "name": "stdout",
     "output_type": "stream",
     "text": [
      "\n",
      "27x27 Results:\n",
      "Accuracy: 48.00%\n",
      "Avg prediction | Perc: 0.081\n",
      "Avg prediction | Non-Perc: 0.366\n"
     ]
    },
    {
     "name": "stderr",
     "output_type": "stream",
     "text": [
      "Testing 81x81: 100%|█████████████████████████████████████████████████████████████████████████████| 100/100 [00:00<00:00, 159.24it/s]\n"
     ]
    },
    {
     "name": "stdout",
     "output_type": "stream",
     "text": [
      "\n",
      "81x81 Results:\n",
      "Accuracy: 99.00%\n",
      "Avg prediction | Perc: 0.866\n",
      "Avg prediction | Non-Perc: 0.086\n"
     ]
    },
    {
     "name": "stderr",
     "output_type": "stream",
     "text": [
      "Testing 243x243: 100%|████████████████████████████████████████████████████████████████████████████| 100/100 [00:04<00:00, 21.14it/s]\n"
     ]
    },
    {
     "name": "stdout",
     "output_type": "stream",
     "text": [
      "\n",
      "243x243 Results:\n",
      "Accuracy: 9.00%\n",
      "Avg prediction | Perc: 0.385\n",
      "Avg prediction | Non-Perc: 0.767\n"
     ]
    },
    {
     "name": "stderr",
     "output_type": "stream",
     "text": [
      "Testing 81x81: 100%|█████████████████████████████████████████████████████████████████████████████| 200/200 [00:01<00:00, 156.32it/s]\n"
     ]
    },
    {
     "name": "stdout",
     "output_type": "stream",
     "text": [
      "\n",
      "81x81 Results:\n",
      "Accuracy: 64.50%\n",
      "Avg prediction | Perc: 0.612\n",
      "Avg prediction | Non-Perc: 0.477\n",
      "\n",
      "Running 3^4 - Run 2/10\n"
     ]
    },
    {
     "name": "stderr",
     "output_type": "stream",
     "text": [
      "Generating data: 100%|██████████████████████████████████████████████████████████████████████| 10000/10000 [00:04<00:00, 2339.43it/s]\n",
      "Training: 100%|█████████████████████████████████████████████████████████████████████████████████| 1000/1000 [00:54<00:00, 18.29it/s]\n",
      "Training: 100%|█████████████████████████████████████████████████████████████████████████████████| 1000/1000 [00:54<00:00, 18.34it/s]\n",
      "Training: 100%|█████████████████████████████████████████████████████████████████████████████████| 1000/1000 [00:54<00:00, 18.33it/s]\n",
      "Training: 100%|█████████████████████████████████████████████████████████████████████████████████| 1000/1000 [00:54<00:00, 18.31it/s]\n",
      "Training: 100%|█████████████████████████████████████████████████████████████████████████████████| 1000/1000 [00:54<00:00, 18.32it/s]\n",
      "Testing 27x27: 100%|█████████████████████████████████████████████████████████████████████████████| 100/100 [00:00<00:00, 755.62it/s]\n"
     ]
    },
    {
     "name": "stdout",
     "output_type": "stream",
     "text": [
      "\n",
      "27x27 Results:\n",
      "Accuracy: 41.00%\n",
      "Avg prediction | Perc: 0.113\n",
      "Avg prediction | Non-Perc: 0.406\n"
     ]
    },
    {
     "name": "stderr",
     "output_type": "stream",
     "text": [
      "Testing 81x81: 100%|█████████████████████████████████████████████████████████████████████████████| 100/100 [00:00<00:00, 156.81it/s]\n"
     ]
    },
    {
     "name": "stdout",
     "output_type": "stream",
     "text": [
      "\n",
      "81x81 Results:\n",
      "Accuracy: 99.00%\n",
      "Avg prediction | Perc: 0.870\n",
      "Avg prediction | Non-Perc: 0.114\n"
     ]
    },
    {
     "name": "stderr",
     "output_type": "stream",
     "text": [
      "Testing 243x243: 100%|████████████████████████████████████████████████████████████████████████████| 100/100 [00:04<00:00, 21.05it/s]\n"
     ]
    },
    {
     "name": "stdout",
     "output_type": "stream",
     "text": [
      "\n",
      "243x243 Results:\n",
      "Accuracy: 9.00%\n",
      "Avg prediction | Perc: 0.370\n",
      "Avg prediction | Non-Perc: 0.712\n"
     ]
    },
    {
     "name": "stderr",
     "output_type": "stream",
     "text": [
      "Testing 81x81: 100%|█████████████████████████████████████████████████████████████████████████████| 200/200 [00:01<00:00, 156.06it/s]\n"
     ]
    },
    {
     "name": "stdout",
     "output_type": "stream",
     "text": [
      "\n",
      "81x81 Results:\n",
      "Accuracy: 63.50%\n",
      "Avg prediction | Perc: 0.588\n",
      "Avg prediction | Non-Perc: 0.423\n",
      "\n",
      "Running 3^4 - Run 3/10\n"
     ]
    },
    {
     "name": "stderr",
     "output_type": "stream",
     "text": [
      "Generating data: 100%|██████████████████████████████████████████████████████████████████████| 10000/10000 [00:04<00:00, 2417.04it/s]\n",
      "Training: 100%|█████████████████████████████████████████████████████████████████████████████████| 1000/1000 [00:54<00:00, 18.33it/s]\n",
      "Training: 100%|█████████████████████████████████████████████████████████████████████████████████| 1000/1000 [00:54<00:00, 18.36it/s]\n",
      "Training: 100%|█████████████████████████████████████████████████████████████████████████████████| 1000/1000 [00:54<00:00, 18.39it/s]\n",
      "Training: 100%|█████████████████████████████████████████████████████████████████████████████████| 1000/1000 [00:54<00:00, 18.19it/s]\n",
      "Training: 100%|█████████████████████████████████████████████████████████████████████████████████| 1000/1000 [00:55<00:00, 18.01it/s]\n",
      "Testing 27x27: 100%|█████████████████████████████████████████████████████████████████████████████| 100/100 [00:00<00:00, 633.44it/s]\n"
     ]
    },
    {
     "name": "stdout",
     "output_type": "stream",
     "text": [
      "\n",
      "27x27 Results:\n",
      "Accuracy: 46.00%\n",
      "Avg prediction | Perc: 0.097\n",
      "Avg prediction | Non-Perc: 0.358\n"
     ]
    },
    {
     "name": "stderr",
     "output_type": "stream",
     "text": [
      "Testing 81x81: 100%|█████████████████████████████████████████████████████████████████████████████| 100/100 [00:00<00:00, 158.13it/s]\n"
     ]
    },
    {
     "name": "stdout",
     "output_type": "stream",
     "text": [
      "\n",
      "81x81 Results:\n",
      "Accuracy: 98.00%\n",
      "Avg prediction | Perc: 0.865\n",
      "Avg prediction | Non-Perc: 0.106\n"
     ]
    },
    {
     "name": "stderr",
     "output_type": "stream",
     "text": [
      "Testing 243x243: 100%|████████████████████████████████████████████████████████████████████████████| 100/100 [00:04<00:00, 20.83it/s]\n"
     ]
    },
    {
     "name": "stdout",
     "output_type": "stream",
     "text": [
      "\n",
      "243x243 Results:\n",
      "Accuracy: 6.00%\n",
      "Avg prediction | Perc: 0.404\n",
      "Avg prediction | Non-Perc: 0.789\n"
     ]
    },
    {
     "name": "stderr",
     "output_type": "stream",
     "text": [
      "Testing 81x81: 100%|█████████████████████████████████████████████████████████████████████████████| 200/200 [00:01<00:00, 155.14it/s]\n"
     ]
    },
    {
     "name": "stdout",
     "output_type": "stream",
     "text": [
      "\n",
      "81x81 Results:\n",
      "Accuracy: 71.00%\n",
      "Avg prediction | Perc: 0.760\n",
      "Avg prediction | Non-Perc: 0.717\n",
      "\n",
      "Running 3^4 - Run 4/10\n"
     ]
    },
    {
     "name": "stderr",
     "output_type": "stream",
     "text": [
      "Generating data: 100%|██████████████████████████████████████████████████████████████████████| 10000/10000 [00:04<00:00, 2384.30it/s]\n",
      "Training: 100%|█████████████████████████████████████████████████████████████████████████████████| 1000/1000 [00:56<00:00, 17.85it/s]\n",
      "Training: 100%|█████████████████████████████████████████████████████████████████████████████████| 1000/1000 [00:54<00:00, 18.27it/s]\n",
      "Training: 100%|█████████████████████████████████████████████████████████████████████████████████| 1000/1000 [00:54<00:00, 18.29it/s]\n",
      "Training: 100%|█████████████████████████████████████████████████████████████████████████████████| 1000/1000 [00:54<00:00, 18.23it/s]\n",
      "Training: 100%|█████████████████████████████████████████████████████████████████████████████████| 1000/1000 [00:55<00:00, 18.15it/s]\n",
      "Testing 27x27: 100%|█████████████████████████████████████████████████████████████████████████████| 100/100 [00:00<00:00, 657.26it/s]\n"
     ]
    },
    {
     "name": "stdout",
     "output_type": "stream",
     "text": [
      "\n",
      "27x27 Results:\n",
      "Accuracy: 33.00%\n",
      "Avg prediction | Perc: 0.110\n",
      "Avg prediction | Non-Perc: 0.430\n"
     ]
    },
    {
     "name": "stderr",
     "output_type": "stream",
     "text": [
      "Testing 81x81: 100%|█████████████████████████████████████████████████████████████████████████████| 100/100 [00:00<00:00, 154.75it/s]\n"
     ]
    },
    {
     "name": "stdout",
     "output_type": "stream",
     "text": [
      "\n",
      "81x81 Results:\n",
      "Accuracy: 98.00%\n",
      "Avg prediction | Perc: 0.845\n",
      "Avg prediction | Non-Perc: 0.083\n"
     ]
    },
    {
     "name": "stderr",
     "output_type": "stream",
     "text": [
      "Testing 243x243: 100%|████████████████████████████████████████████████████████████████████████████| 100/100 [00:04<00:00, 21.05it/s]\n"
     ]
    },
    {
     "name": "stdout",
     "output_type": "stream",
     "text": [
      "\n",
      "243x243 Results:\n",
      "Accuracy: 1.00%\n",
      "Avg prediction | Perc: 0.316\n",
      "Avg prediction | Non-Perc: 0.867\n"
     ]
    },
    {
     "name": "stderr",
     "output_type": "stream",
     "text": [
      "Testing 81x81: 100%|█████████████████████████████████████████████████████████████████████████████| 200/200 [00:01<00:00, 156.06it/s]\n"
     ]
    },
    {
     "name": "stdout",
     "output_type": "stream",
     "text": [
      "\n",
      "81x81 Results:\n",
      "Accuracy: 43.50%\n",
      "Avg prediction | Perc: 0.350\n",
      "Avg prediction | Non-Perc: 0.209\n",
      "\n",
      "Running 3^4 - Run 5/10\n"
     ]
    },
    {
     "name": "stderr",
     "output_type": "stream",
     "text": [
      "Generating data: 100%|██████████████████████████████████████████████████████████████████████| 10000/10000 [00:04<00:00, 2355.80it/s]\n",
      "Training: 100%|█████████████████████████████████████████████████████████████████████████████████| 1000/1000 [00:54<00:00, 18.24it/s]\n",
      "Training: 100%|█████████████████████████████████████████████████████████████████████████████████| 1000/1000 [00:55<00:00, 18.15it/s]\n",
      "Training: 100%|█████████████████████████████████████████████████████████████████████████████████| 1000/1000 [00:54<00:00, 18.19it/s]\n",
      "Training: 100%|█████████████████████████████████████████████████████████████████████████████████| 1000/1000 [00:54<00:00, 18.21it/s]\n",
      "Training: 100%|█████████████████████████████████████████████████████████████████████████████████| 1000/1000 [00:55<00:00, 18.14it/s]\n",
      "Testing 27x27: 100%|█████████████████████████████████████████████████████████████████████████████| 100/100 [00:00<00:00, 658.73it/s]\n"
     ]
    },
    {
     "name": "stdout",
     "output_type": "stream",
     "text": [
      "\n",
      "27x27 Results:\n",
      "Accuracy: 24.00%\n",
      "Avg prediction | Perc: 0.112\n",
      "Avg prediction | Non-Perc: 0.557\n"
     ]
    },
    {
     "name": "stderr",
     "output_type": "stream",
     "text": [
      "Testing 81x81: 100%|█████████████████████████████████████████████████████████████████████████████| 100/100 [00:00<00:00, 154.86it/s]\n"
     ]
    },
    {
     "name": "stdout",
     "output_type": "stream",
     "text": [
      "\n",
      "81x81 Results:\n",
      "Accuracy: 94.00%\n",
      "Avg prediction | Perc: 0.817\n",
      "Avg prediction | Non-Perc: 0.106\n"
     ]
    },
    {
     "name": "stderr",
     "output_type": "stream",
     "text": [
      "Testing 243x243: 100%|████████████████████████████████████████████████████████████████████████████| 100/100 [00:04<00:00, 20.83it/s]\n"
     ]
    },
    {
     "name": "stdout",
     "output_type": "stream",
     "text": [
      "\n",
      "243x243 Results:\n",
      "Accuracy: 0.00%\n",
      "Avg prediction | Perc: 0.286\n",
      "Avg prediction | Non-Perc: 0.865\n"
     ]
    },
    {
     "name": "stderr",
     "output_type": "stream",
     "text": [
      "Testing 81x81: 100%|█████████████████████████████████████████████████████████████████████████████| 200/200 [00:01<00:00, 155.91it/s]\n"
     ]
    },
    {
     "name": "stdout",
     "output_type": "stream",
     "text": [
      "\n",
      "81x81 Results:\n",
      "Accuracy: 40.00%\n",
      "Avg prediction | Perc: 0.333\n",
      "Avg prediction | Non-Perc: 0.192\n",
      "\n",
      "Running 3^4 - Run 6/10\n"
     ]
    },
    {
     "name": "stderr",
     "output_type": "stream",
     "text": [
      "Generating data: 100%|██████████████████████████████████████████████████████████████████████| 10000/10000 [00:04<00:00, 2330.41it/s]\n",
      "Training: 100%|█████████████████████████████████████████████████████████████████████████████████| 1000/1000 [00:55<00:00, 18.16it/s]\n",
      "Training: 100%|█████████████████████████████████████████████████████████████████████████████████| 1000/1000 [00:55<00:00, 18.12it/s]\n",
      "Training: 100%|█████████████████████████████████████████████████████████████████████████████████| 1000/1000 [00:55<00:00, 18.16it/s]\n",
      "Training: 100%|█████████████████████████████████████████████████████████████████████████████████| 1000/1000 [00:55<00:00, 18.14it/s]\n",
      "Training: 100%|█████████████████████████████████████████████████████████████████████████████████| 1000/1000 [00:55<00:00, 18.14it/s]\n",
      "Testing 27x27: 100%|█████████████████████████████████████████████████████████████████████████████| 100/100 [00:00<00:00, 679.12it/s]\n"
     ]
    },
    {
     "name": "stdout",
     "output_type": "stream",
     "text": [
      "\n",
      "27x27 Results:\n",
      "Accuracy: 45.00%\n",
      "Avg prediction | Perc: 0.115\n",
      "Avg prediction | Non-Perc: 0.324\n"
     ]
    },
    {
     "name": "stderr",
     "output_type": "stream",
     "text": [
      "Testing 81x81: 100%|█████████████████████████████████████████████████████████████████████████████| 100/100 [00:00<00:00, 155.45it/s]\n"
     ]
    },
    {
     "name": "stdout",
     "output_type": "stream",
     "text": [
      "\n",
      "81x81 Results:\n",
      "Accuracy: 96.00%\n",
      "Avg prediction | Perc: 0.875\n",
      "Avg prediction | Non-Perc: 0.124\n"
     ]
    },
    {
     "name": "stderr",
     "output_type": "stream",
     "text": [
      "Testing 243x243: 100%|████████████████████████████████████████████████████████████████████████████| 100/100 [00:04<00:00, 20.89it/s]\n"
     ]
    },
    {
     "name": "stdout",
     "output_type": "stream",
     "text": [
      "\n",
      "243x243 Results:\n",
      "Accuracy: 6.00%\n",
      "Avg prediction | Perc: 0.385\n",
      "Avg prediction | Non-Perc: 0.796\n"
     ]
    },
    {
     "name": "stderr",
     "output_type": "stream",
     "text": [
      "Testing 81x81: 100%|█████████████████████████████████████████████████████████████████████████████| 200/200 [00:01<00:00, 155.78it/s]\n"
     ]
    },
    {
     "name": "stdout",
     "output_type": "stream",
     "text": [
      "\n",
      "81x81 Results:\n",
      "Accuracy: 71.00%\n",
      "Avg prediction | Perc: 0.709\n",
      "Avg prediction | Non-Perc: 0.578\n",
      "\n",
      "Running 3^4 - Run 7/10\n"
     ]
    },
    {
     "name": "stderr",
     "output_type": "stream",
     "text": [
      "Generating data: 100%|██████████████████████████████████████████████████████████████████████| 10000/10000 [00:04<00:00, 2306.69it/s]\n",
      "Training: 100%|█████████████████████████████████████████████████████████████████████████████████| 1000/1000 [00:55<00:00, 18.11it/s]\n",
      "Training: 100%|█████████████████████████████████████████████████████████████████████████████████| 1000/1000 [00:55<00:00, 18.12it/s]\n",
      "Training: 100%|█████████████████████████████████████████████████████████████████████████████████| 1000/1000 [00:55<00:00, 18.11it/s]\n",
      "Training: 100%|█████████████████████████████████████████████████████████████████████████████████| 1000/1000 [00:56<00:00, 17.74it/s]\n",
      "Training: 100%|█████████████████████████████████████████████████████████████████████████████████| 1000/1000 [00:56<00:00, 17.59it/s]\n",
      "Testing 27x27: 100%|█████████████████████████████████████████████████████████████████████████████| 100/100 [00:00<00:00, 711.05it/s]\n"
     ]
    },
    {
     "name": "stdout",
     "output_type": "stream",
     "text": [
      "\n",
      "27x27 Results:\n",
      "Accuracy: 48.00%\n",
      "Avg prediction | Perc: 0.103\n",
      "Avg prediction | Non-Perc: 0.387\n"
     ]
    },
    {
     "name": "stderr",
     "output_type": "stream",
     "text": [
      "Testing 81x81: 100%|█████████████████████████████████████████████████████████████████████████████| 100/100 [00:00<00:00, 139.58it/s]\n"
     ]
    },
    {
     "name": "stdout",
     "output_type": "stream",
     "text": [
      "\n",
      "81x81 Results:\n",
      "Accuracy: 98.00%\n",
      "Avg prediction | Perc: 0.863\n",
      "Avg prediction | Non-Perc: 0.085\n"
     ]
    },
    {
     "name": "stderr",
     "output_type": "stream",
     "text": [
      "Testing 243x243: 100%|████████████████████████████████████████████████████████████████████████████| 100/100 [00:04<00:00, 20.65it/s]\n"
     ]
    },
    {
     "name": "stdout",
     "output_type": "stream",
     "text": [
      "\n",
      "243x243 Results:\n",
      "Accuracy: 3.00%\n",
      "Avg prediction | Perc: 0.385\n",
      "Avg prediction | Non-Perc: 0.825\n"
     ]
    },
    {
     "name": "stderr",
     "output_type": "stream",
     "text": [
      "Testing 81x81: 100%|█████████████████████████████████████████████████████████████████████████████| 200/200 [00:01<00:00, 155.54it/s]\n"
     ]
    },
    {
     "name": "stdout",
     "output_type": "stream",
     "text": [
      "\n",
      "81x81 Results:\n",
      "Accuracy: 65.50%\n",
      "Avg prediction | Perc: 0.654\n",
      "Avg prediction | Non-Perc: 0.543\n",
      "\n",
      "Running 3^4 - Run 8/10\n"
     ]
    },
    {
     "name": "stderr",
     "output_type": "stream",
     "text": [
      "Generating data: 100%|██████████████████████████████████████████████████████████████████████| 10000/10000 [00:04<00:00, 2299.29it/s]\n",
      "Training: 100%|█████████████████████████████████████████████████████████████████████████████████| 1000/1000 [00:56<00:00, 17.75it/s]\n",
      "Training: 100%|█████████████████████████████████████████████████████████████████████████████████| 1000/1000 [00:56<00:00, 17.65it/s]\n",
      "Training: 100%|█████████████████████████████████████████████████████████████████████████████████| 1000/1000 [00:58<00:00, 17.17it/s]\n",
      "Training: 100%|█████████████████████████████████████████████████████████████████████████████████| 1000/1000 [00:57<00:00, 17.46it/s]\n",
      "Training: 100%|█████████████████████████████████████████████████████████████████████████████████| 1000/1000 [00:57<00:00, 17.47it/s]\n",
      "Testing 27x27: 100%|█████████████████████████████████████████████████████████████████████████████| 100/100 [00:00<00:00, 658.64it/s]\n"
     ]
    },
    {
     "name": "stdout",
     "output_type": "stream",
     "text": [
      "\n",
      "27x27 Results:\n",
      "Accuracy: 53.00%\n",
      "Avg prediction | Perc: 0.101\n",
      "Avg prediction | Non-Perc: 0.324\n"
     ]
    },
    {
     "name": "stderr",
     "output_type": "stream",
     "text": [
      "Testing 81x81: 100%|█████████████████████████████████████████████████████████████████████████████| 100/100 [00:00<00:00, 149.46it/s]\n"
     ]
    },
    {
     "name": "stdout",
     "output_type": "stream",
     "text": [
      "\n",
      "81x81 Results:\n",
      "Accuracy: 96.00%\n",
      "Avg prediction | Perc: 0.854\n",
      "Avg prediction | Non-Perc: 0.113\n"
     ]
    },
    {
     "name": "stderr",
     "output_type": "stream",
     "text": [
      "Testing 243x243: 100%|████████████████████████████████████████████████████████████████████████████| 100/100 [00:04<00:00, 20.64it/s]\n"
     ]
    },
    {
     "name": "stdout",
     "output_type": "stream",
     "text": [
      "\n",
      "243x243 Results:\n",
      "Accuracy: 11.00%\n",
      "Avg prediction | Perc: 0.393\n",
      "Avg prediction | Non-Perc: 0.733\n"
     ]
    },
    {
     "name": "stderr",
     "output_type": "stream",
     "text": [
      "Testing 81x81: 100%|█████████████████████████████████████████████████████████████████████████████| 200/200 [00:01<00:00, 150.24it/s]\n"
     ]
    },
    {
     "name": "stdout",
     "output_type": "stream",
     "text": [
      "\n",
      "81x81 Results:\n",
      "Accuracy: 59.00%\n",
      "Avg prediction | Perc: 0.602\n",
      "Avg prediction | Non-Perc: 0.503\n",
      "\n",
      "Running 3^4 - Run 9/10\n"
     ]
    },
    {
     "name": "stderr",
     "output_type": "stream",
     "text": [
      "Generating data: 100%|██████████████████████████████████████████████████████████████████████| 10000/10000 [00:04<00:00, 2162.81it/s]\n",
      "Training: 100%|█████████████████████████████████████████████████████████████████████████████████| 1000/1000 [00:56<00:00, 17.55it/s]\n",
      "Training: 100%|█████████████████████████████████████████████████████████████████████████████████| 1000/1000 [00:56<00:00, 17.56it/s]\n",
      "Training: 100%|█████████████████████████████████████████████████████████████████████████████████| 1000/1000 [00:56<00:00, 17.55it/s]\n",
      "Training: 100%|█████████████████████████████████████████████████████████████████████████████████| 1000/1000 [00:56<00:00, 17.56it/s]\n",
      "Training: 100%|█████████████████████████████████████████████████████████████████████████████████| 1000/1000 [00:57<00:00, 17.51it/s]\n",
      "Testing 27x27: 100%|█████████████████████████████████████████████████████████████████████████████| 100/100 [00:00<00:00, 666.84it/s]\n"
     ]
    },
    {
     "name": "stdout",
     "output_type": "stream",
     "text": [
      "\n",
      "27x27 Results:\n",
      "Accuracy: 93.00%\n",
      "Avg prediction | Perc: 0.906\n",
      "Avg prediction | Non-Perc: 0.052\n"
     ]
    },
    {
     "name": "stderr",
     "output_type": "stream",
     "text": [
      "Testing 81x81: 100%|█████████████████████████████████████████████████████████████████████████████| 100/100 [00:00<00:00, 149.94it/s]\n"
     ]
    },
    {
     "name": "stdout",
     "output_type": "stream",
     "text": [
      "\n",
      "81x81 Results:\n",
      "Accuracy: 99.00%\n",
      "Avg prediction | Perc: 0.977\n",
      "Avg prediction | Non-Perc: 0.018\n"
     ]
    },
    {
     "name": "stderr",
     "output_type": "stream",
     "text": [
      "Testing 243x243: 100%|████████████████████████████████████████████████████████████████████████████| 100/100 [00:04<00:00, 20.49it/s]\n"
     ]
    },
    {
     "name": "stdout",
     "output_type": "stream",
     "text": [
      "\n",
      "243x243 Results:\n",
      "Accuracy: 98.00%\n",
      "Avg prediction | Perc: 0.996\n",
      "Avg prediction | Non-Perc: 0.041\n"
     ]
    },
    {
     "name": "stderr",
     "output_type": "stream",
     "text": [
      "Testing 81x81: 100%|█████████████████████████████████████████████████████████████████████████████| 200/200 [00:01<00:00, 147.96it/s]\n"
     ]
    },
    {
     "name": "stdout",
     "output_type": "stream",
     "text": [
      "\n",
      "81x81 Results:\n",
      "Accuracy: 69.00%\n",
      "Avg prediction | Perc: 0.888\n",
      "Avg prediction | Non-Perc: 0.845\n",
      "\n",
      "Running 3^4 - Run 10/10\n"
     ]
    },
    {
     "name": "stderr",
     "output_type": "stream",
     "text": [
      "Generating data: 100%|██████████████████████████████████████████████████████████████████████| 10000/10000 [00:04<00:00, 2125.18it/s]\n",
      "Training: 100%|█████████████████████████████████████████████████████████████████████████████████| 1000/1000 [00:57<00:00, 17.53it/s]\n",
      "Training: 100%|█████████████████████████████████████████████████████████████████████████████████| 1000/1000 [00:56<00:00, 17.58it/s]\n",
      "Training: 100%|█████████████████████████████████████████████████████████████████████████████████| 1000/1000 [00:56<00:00, 17.55it/s]\n",
      "Training: 100%|█████████████████████████████████████████████████████████████████████████████████| 1000/1000 [00:56<00:00, 17.56it/s]\n",
      "Training: 100%|█████████████████████████████████████████████████████████████████████████████████| 1000/1000 [00:57<00:00, 17.53it/s]\n",
      "Testing 27x27: 100%|█████████████████████████████████████████████████████████████████████████████| 100/100 [00:00<00:00, 648.24it/s]\n"
     ]
    },
    {
     "name": "stdout",
     "output_type": "stream",
     "text": [
      "\n",
      "27x27 Results:\n",
      "Accuracy: 39.00%\n",
      "Avg prediction | Perc: 0.101\n",
      "Avg prediction | Non-Perc: 0.403\n"
     ]
    },
    {
     "name": "stderr",
     "output_type": "stream",
     "text": [
      "Testing 81x81: 100%|█████████████████████████████████████████████████████████████████████████████| 100/100 [00:00<00:00, 149.62it/s]\n"
     ]
    },
    {
     "name": "stdout",
     "output_type": "stream",
     "text": [
      "\n",
      "81x81 Results:\n",
      "Accuracy: 99.00%\n",
      "Avg prediction | Perc: 0.903\n",
      "Avg prediction | Non-Perc: 0.106\n"
     ]
    },
    {
     "name": "stderr",
     "output_type": "stream",
     "text": [
      "Testing 243x243: 100%|████████████████████████████████████████████████████████████████████████████| 100/100 [00:04<00:00, 20.61it/s]\n"
     ]
    },
    {
     "name": "stdout",
     "output_type": "stream",
     "text": [
      "\n",
      "243x243 Results:\n",
      "Accuracy: 5.00%\n",
      "Avg prediction | Perc: 0.404\n",
      "Avg prediction | Non-Perc: 0.814\n"
     ]
    },
    {
     "name": "stderr",
     "output_type": "stream",
     "text": [
      "Testing 81x81: 100%|█████████████████████████████████████████████████████████████████████████████| 200/200 [00:01<00:00, 149.73it/s]\n"
     ]
    },
    {
     "name": "stdout",
     "output_type": "stream",
     "text": [
      "\n",
      "81x81 Results:\n",
      "Accuracy: 75.00%\n",
      "Avg prediction | Perc: 0.721\n",
      "Avg prediction | Non-Perc: 0.566\n",
      "\n",
      "Running 4^2 - Run 1/10\n"
     ]
    },
    {
     "name": "stderr",
     "output_type": "stream",
     "text": [
      "Generating data: 100%|██████████████████████████████████████████████████████████████████████| 10000/10000 [00:01<00:00, 7106.89it/s]\n",
      "Training: 100%|████████████████████████████████████████████████████████████████████████████████| 1000/1000 [00:09<00:00, 101.17it/s]\n",
      "Training: 100%|████████████████████████████████████████████████████████████████████████████████| 1000/1000 [00:04<00:00, 221.07it/s]\n",
      "Training: 100%|████████████████████████████████████████████████████████████████████████████████| 1000/1000 [00:04<00:00, 220.44it/s]\n",
      "Training: 100%|████████████████████████████████████████████████████████████████████████████████| 1000/1000 [00:04<00:00, 220.47it/s]\n",
      "Training: 100%|████████████████████████████████████████████████████████████████████████████████| 1000/1000 [00:04<00:00, 220.26it/s]\n",
      "Testing 4x4: 100%|██████████████████████████████████████████████████████████████████████████████| 100/100 [00:00<00:00, 1808.61it/s]\n"
     ]
    },
    {
     "name": "stdout",
     "output_type": "stream",
     "text": [
      "\n",
      "4x4 Results:\n",
      "Accuracy: 90.00%\n",
      "Avg prediction | Perc: 0.818\n",
      "Avg prediction | Non-Perc: 0.133\n"
     ]
    },
    {
     "name": "stderr",
     "output_type": "stream",
     "text": [
      "Testing 16x16: 100%|████████████████████████████████████████████████████████████████████████████| 100/100 [00:00<00:00, 1381.33it/s]\n"
     ]
    },
    {
     "name": "stdout",
     "output_type": "stream",
     "text": [
      "\n",
      "16x16 Results:\n",
      "Accuracy: 97.00%\n",
      "Avg prediction | Perc: 0.924\n",
      "Avg prediction | Non-Perc: 0.039\n"
     ]
    },
    {
     "name": "stderr",
     "output_type": "stream",
     "text": [
      "Testing 64x64: 100%|█████████████████████████████████████████████████████████████████████████████| 100/100 [00:00<00:00, 334.42it/s]\n"
     ]
    },
    {
     "name": "stdout",
     "output_type": "stream",
     "text": [
      "\n",
      "64x64 Results:\n",
      "Accuracy: 99.00%\n",
      "Avg prediction | Perc: 0.949\n",
      "Avg prediction | Non-Perc: 0.005\n"
     ]
    },
    {
     "name": "stderr",
     "output_type": "stream",
     "text": [
      "Testing 16x16: 100%|████████████████████████████████████████████████████████████████████████████| 200/200 [00:00<00:00, 1214.83it/s]"
     ]
    },
    {
     "name": "stdout",
     "output_type": "stream",
     "text": [
      "\n",
      "16x16 Results:\n",
      "Accuracy: 70.50%\n",
      "Avg prediction | Perc: 0.743\n",
      "Avg prediction | Non-Perc: 0.556\n"
     ]
    },
    {
     "name": "stderr",
     "output_type": "stream",
     "text": [
      "\n"
     ]
    },
    {
     "name": "stdout",
     "output_type": "stream",
     "text": [
      "\n",
      "Running 4^2 - Run 2/10\n"
     ]
    },
    {
     "name": "stderr",
     "output_type": "stream",
     "text": [
      "Generating data: 100%|██████████████████████████████████████████████████████████████████████| 10000/10000 [00:01<00:00, 7206.96it/s]\n",
      "Training: 100%|████████████████████████████████████████████████████████████████████████████████| 1000/1000 [00:04<00:00, 220.20it/s]\n",
      "Training: 100%|████████████████████████████████████████████████████████████████████████████████| 1000/1000 [00:04<00:00, 219.11it/s]\n",
      "Training: 100%|████████████████████████████████████████████████████████████████████████████████| 1000/1000 [00:04<00:00, 218.72it/s]\n",
      "Training: 100%|████████████████████████████████████████████████████████████████████████████████| 1000/1000 [00:04<00:00, 217.28it/s]\n",
      "Training: 100%|████████████████████████████████████████████████████████████████████████████████| 1000/1000 [00:04<00:00, 219.85it/s]\n",
      "Testing 4x4: 100%|██████████████████████████████████████████████████████████████████████████████| 100/100 [00:00<00:00, 2022.39it/s]\n"
     ]
    },
    {
     "name": "stdout",
     "output_type": "stream",
     "text": [
      "\n",
      "4x4 Results:\n",
      "Accuracy: 91.00%\n",
      "Avg prediction | Perc: 0.867\n",
      "Avg prediction | Non-Perc: 0.120\n"
     ]
    },
    {
     "name": "stderr",
     "output_type": "stream",
     "text": [
      "Testing 16x16: 100%|████████████████████████████████████████████████████████████████████████████| 100/100 [00:00<00:00, 1272.12it/s]\n"
     ]
    },
    {
     "name": "stdout",
     "output_type": "stream",
     "text": [
      "\n",
      "16x16 Results:\n",
      "Accuracy: 94.00%\n",
      "Avg prediction | Perc: 0.968\n",
      "Avg prediction | Non-Perc: 0.112\n"
     ]
    },
    {
     "name": "stderr",
     "output_type": "stream",
     "text": [
      "Testing 64x64: 100%|█████████████████████████████████████████████████████████████████████████████| 100/100 [00:00<00:00, 348.19it/s]\n"
     ]
    },
    {
     "name": "stdout",
     "output_type": "stream",
     "text": [
      "\n",
      "64x64 Results:\n",
      "Accuracy: 97.00%\n",
      "Avg prediction | Perc: 0.995\n",
      "Avg prediction | Non-Perc: 0.073\n"
     ]
    },
    {
     "name": "stderr",
     "output_type": "stream",
     "text": [
      "Testing 16x16: 100%|████████████████████████████████████████████████████████████████████████████| 200/200 [00:00<00:00, 1218.26it/s]"
     ]
    },
    {
     "name": "stdout",
     "output_type": "stream",
     "text": [
      "\n",
      "16x16 Results:\n",
      "Accuracy: 71.50%\n",
      "Avg prediction | Perc: 0.878\n",
      "Avg prediction | Non-Perc: 0.777\n"
     ]
    },
    {
     "name": "stderr",
     "output_type": "stream",
     "text": [
      "\n"
     ]
    },
    {
     "name": "stdout",
     "output_type": "stream",
     "text": [
      "\n",
      "Running 4^2 - Run 3/10\n"
     ]
    },
    {
     "name": "stderr",
     "output_type": "stream",
     "text": [
      "Generating data: 100%|██████████████████████████████████████████████████████████████████████| 10000/10000 [00:01<00:00, 7234.38it/s]\n",
      "Training: 100%|████████████████████████████████████████████████████████████████████████████████| 1000/1000 [00:04<00:00, 219.29it/s]\n",
      "Training: 100%|████████████████████████████████████████████████████████████████████████████████| 1000/1000 [00:04<00:00, 218.71it/s]\n",
      "Training: 100%|████████████████████████████████████████████████████████████████████████████████| 1000/1000 [00:04<00:00, 216.79it/s]\n",
      "Training: 100%|████████████████████████████████████████████████████████████████████████████████| 1000/1000 [00:04<00:00, 219.97it/s]\n",
      "Training: 100%|████████████████████████████████████████████████████████████████████████████████| 1000/1000 [00:04<00:00, 229.71it/s]\n",
      "Testing 4x4: 100%|██████████████████████████████████████████████████████████████████████████████| 100/100 [00:00<00:00, 2060.72it/s]\n"
     ]
    },
    {
     "name": "stdout",
     "output_type": "stream",
     "text": [
      "\n",
      "4x4 Results:\n",
      "Accuracy: 90.00%\n",
      "Avg prediction | Perc: 0.904\n",
      "Avg prediction | Non-Perc: 0.158\n"
     ]
    },
    {
     "name": "stderr",
     "output_type": "stream",
     "text": [
      "Testing 16x16: 100%|████████████████████████████████████████████████████████████████████████████| 100/100 [00:00<00:00, 1297.33it/s]\n"
     ]
    },
    {
     "name": "stdout",
     "output_type": "stream",
     "text": [
      "\n",
      "16x16 Results:\n",
      "Accuracy: 95.00%\n",
      "Avg prediction | Perc: 0.965\n",
      "Avg prediction | Non-Perc: 0.091\n"
     ]
    },
    {
     "name": "stderr",
     "output_type": "stream",
     "text": [
      "Testing 64x64: 100%|█████████████████████████████████████████████████████████████████████████████| 100/100 [00:00<00:00, 325.89it/s]\n"
     ]
    },
    {
     "name": "stdout",
     "output_type": "stream",
     "text": [
      "\n",
      "64x64 Results:\n",
      "Accuracy: 96.00%\n",
      "Avg prediction | Perc: 0.974\n",
      "Avg prediction | Non-Perc: 0.044\n"
     ]
    },
    {
     "name": "stderr",
     "output_type": "stream",
     "text": [
      "Testing 16x16: 100%|████████████████████████████████████████████████████████████████████████████| 200/200 [00:00<00:00, 1207.97it/s]\n"
     ]
    },
    {
     "name": "stdout",
     "output_type": "stream",
     "text": [
      "\n",
      "16x16 Results:\n",
      "Accuracy: 75.00%\n",
      "Avg prediction | Perc: 0.854\n",
      "Avg prediction | Non-Perc: 0.674\n",
      "\n",
      "Running 4^2 - Run 4/10\n"
     ]
    },
    {
     "name": "stderr",
     "output_type": "stream",
     "text": [
      "Generating data: 100%|██████████████████████████████████████████████████████████████████████| 10000/10000 [00:01<00:00, 7214.29it/s]\n",
      "Training: 100%|████████████████████████████████████████████████████████████████████████████████| 1000/1000 [00:04<00:00, 219.90it/s]\n",
      "Training: 100%|████████████████████████████████████████████████████████████████████████████████| 1000/1000 [00:04<00:00, 215.90it/s]\n",
      "Training: 100%|████████████████████████████████████████████████████████████████████████████████| 1000/1000 [00:04<00:00, 217.84it/s]\n",
      "Training: 100%|████████████████████████████████████████████████████████████████████████████████| 1000/1000 [00:04<00:00, 219.46it/s]\n",
      "Training: 100%|████████████████████████████████████████████████████████████████████████████████| 1000/1000 [00:04<00:00, 219.12it/s]\n",
      "Testing 4x4: 100%|██████████████████████████████████████████████████████████████████████████████| 100/100 [00:00<00:00, 1876.36it/s]\n"
     ]
    },
    {
     "name": "stdout",
     "output_type": "stream",
     "text": [
      "\n",
      "4x4 Results:\n",
      "Accuracy: 91.00%\n",
      "Avg prediction | Perc: 0.890\n",
      "Avg prediction | Non-Perc: 0.172\n"
     ]
    },
    {
     "name": "stderr",
     "output_type": "stream",
     "text": [
      "Testing 16x16: 100%|████████████████████████████████████████████████████████████████████████████| 100/100 [00:00<00:00, 1256.79it/s]\n"
     ]
    },
    {
     "name": "stdout",
     "output_type": "stream",
     "text": [
      "\n",
      "16x16 Results:\n",
      "Accuracy: 94.00%\n",
      "Avg prediction | Perc: 0.864\n",
      "Avg prediction | Non-Perc: 0.039\n"
     ]
    },
    {
     "name": "stderr",
     "output_type": "stream",
     "text": [
      "Testing 64x64: 100%|█████████████████████████████████████████████████████████████████████████████| 100/100 [00:00<00:00, 350.48it/s]\n"
     ]
    },
    {
     "name": "stdout",
     "output_type": "stream",
     "text": [
      "\n",
      "64x64 Results:\n",
      "Accuracy: 99.00%\n",
      "Avg prediction | Perc: 0.978\n",
      "Avg prediction | Non-Perc: 0.016\n"
     ]
    },
    {
     "name": "stderr",
     "output_type": "stream",
     "text": [
      "Testing 16x16: 100%|████████████████████████████████████████████████████████████████████████████| 200/200 [00:00<00:00, 1208.17it/s]"
     ]
    },
    {
     "name": "stdout",
     "output_type": "stream",
     "text": [
      "\n",
      "16x16 Results:\n",
      "Accuracy: 70.00%\n",
      "Avg prediction | Perc: 0.710\n",
      "Avg prediction | Non-Perc: 0.522\n"
     ]
    },
    {
     "name": "stderr",
     "output_type": "stream",
     "text": [
      "\n"
     ]
    },
    {
     "name": "stdout",
     "output_type": "stream",
     "text": [
      "\n",
      "Running 4^2 - Run 5/10\n"
     ]
    },
    {
     "name": "stderr",
     "output_type": "stream",
     "text": [
      "Generating data: 100%|██████████████████████████████████████████████████████████████████████| 10000/10000 [00:01<00:00, 7421.84it/s]\n",
      "Training: 100%|████████████████████████████████████████████████████████████████████████████████| 1000/1000 [00:04<00:00, 216.71it/s]\n",
      "Training: 100%|████████████████████████████████████████████████████████████████████████████████| 1000/1000 [00:04<00:00, 219.32it/s]\n",
      "Training: 100%|████████████████████████████████████████████████████████████████████████████████| 1000/1000 [00:04<00:00, 219.25it/s]\n",
      "Training: 100%|████████████████████████████████████████████████████████████████████████████████| 1000/1000 [00:04<00:00, 219.14it/s]\n",
      "Training: 100%|████████████████████████████████████████████████████████████████████████████████| 1000/1000 [00:04<00:00, 222.68it/s]\n",
      "Testing 4x4: 100%|██████████████████████████████████████████████████████████████████████████████| 100/100 [00:00<00:00, 2078.02it/s]\n"
     ]
    },
    {
     "name": "stdout",
     "output_type": "stream",
     "text": [
      "\n",
      "4x4 Results:\n",
      "Accuracy: 88.00%\n",
      "Avg prediction | Perc: 0.830\n",
      "Avg prediction | Non-Perc: 0.100\n"
     ]
    },
    {
     "name": "stderr",
     "output_type": "stream",
     "text": [
      "Testing 16x16: 100%|████████████████████████████████████████████████████████████████████████████| 100/100 [00:00<00:00, 1291.74it/s]\n"
     ]
    },
    {
     "name": "stdout",
     "output_type": "stream",
     "text": [
      "\n",
      "16x16 Results:\n",
      "Accuracy: 96.00%\n",
      "Avg prediction | Perc: 0.924\n",
      "Avg prediction | Non-Perc: 0.034\n"
     ]
    },
    {
     "name": "stderr",
     "output_type": "stream",
     "text": [
      "Testing 64x64: 100%|█████████████████████████████████████████████████████████████████████████████| 100/100 [00:00<00:00, 331.63it/s]\n"
     ]
    },
    {
     "name": "stdout",
     "output_type": "stream",
     "text": [
      "\n",
      "64x64 Results:\n",
      "Accuracy: 97.00%\n",
      "Avg prediction | Perc: 0.976\n",
      "Avg prediction | Non-Perc: 0.053\n"
     ]
    },
    {
     "name": "stderr",
     "output_type": "stream",
     "text": [
      "Testing 16x16: 100%|████████████████████████████████████████████████████████████████████████████| 200/200 [00:00<00:00, 1154.51it/s]\n"
     ]
    },
    {
     "name": "stdout",
     "output_type": "stream",
     "text": [
      "\n",
      "16x16 Results:\n",
      "Accuracy: 77.50%\n",
      "Avg prediction | Perc: 0.823\n",
      "Avg prediction | Non-Perc: 0.599\n",
      "\n",
      "Running 4^2 - Run 6/10\n"
     ]
    },
    {
     "name": "stderr",
     "output_type": "stream",
     "text": [
      "Generating data: 100%|██████████████████████████████████████████████████████████████████████| 10000/10000 [00:01<00:00, 7415.27it/s]\n",
      "Training: 100%|████████████████████████████████████████████████████████████████████████████████| 1000/1000 [00:04<00:00, 213.71it/s]\n",
      "Training: 100%|████████████████████████████████████████████████████████████████████████████████| 1000/1000 [00:04<00:00, 219.57it/s]\n",
      "Training: 100%|████████████████████████████████████████████████████████████████████████████████| 1000/1000 [00:04<00:00, 218.84it/s]\n",
      "Training: 100%|████████████████████████████████████████████████████████████████████████████████| 1000/1000 [00:04<00:00, 218.89it/s]\n",
      "Training: 100%|████████████████████████████████████████████████████████████████████████████████| 1000/1000 [00:04<00:00, 218.80it/s]\n",
      "Testing 4x4: 100%|██████████████████████████████████████████████████████████████████████████████| 100/100 [00:00<00:00, 2026.88it/s]\n"
     ]
    },
    {
     "name": "stdout",
     "output_type": "stream",
     "text": [
      "\n",
      "4x4 Results:\n",
      "Accuracy: 96.00%\n",
      "Avg prediction | Perc: 0.918\n",
      "Avg prediction | Non-Perc: 0.096\n"
     ]
    },
    {
     "name": "stderr",
     "output_type": "stream",
     "text": [
      "Testing 16x16: 100%|████████████████████████████████████████████████████████████████████████████| 100/100 [00:00<00:00, 1261.64it/s]\n"
     ]
    },
    {
     "name": "stdout",
     "output_type": "stream",
     "text": [
      "\n",
      "16x16 Results:\n",
      "Accuracy: 96.00%\n",
      "Avg prediction | Perc: 0.948\n",
      "Avg prediction | Non-Perc: 0.067\n"
     ]
    },
    {
     "name": "stderr",
     "output_type": "stream",
     "text": [
      "Testing 64x64: 100%|█████████████████████████████████████████████████████████████████████████████| 100/100 [00:00<00:00, 347.01it/s]\n"
     ]
    },
    {
     "name": "stdout",
     "output_type": "stream",
     "text": [
      "\n",
      "64x64 Results:\n",
      "Accuracy: 99.00%\n",
      "Avg prediction | Perc: 0.994\n",
      "Avg prediction | Non-Perc: 0.039\n"
     ]
    },
    {
     "name": "stderr",
     "output_type": "stream",
     "text": [
      "Testing 16x16: 100%|████████████████████████████████████████████████████████████████████████████| 200/200 [00:00<00:00, 1195.70it/s]\n"
     ]
    },
    {
     "name": "stdout",
     "output_type": "stream",
     "text": [
      "\n",
      "16x16 Results:\n",
      "Accuracy: 79.50%\n",
      "Avg prediction | Perc: 0.852\n",
      "Avg prediction | Non-Perc: 0.641\n",
      "\n",
      "Running 4^2 - Run 7/10\n"
     ]
    },
    {
     "name": "stderr",
     "output_type": "stream",
     "text": [
      "Generating data: 100%|██████████████████████████████████████████████████████████████████████| 10000/10000 [00:01<00:00, 7497.23it/s]\n",
      "Training: 100%|████████████████████████████████████████████████████████████████████████████████| 1000/1000 [00:04<00:00, 219.52it/s]\n",
      "Training: 100%|████████████████████████████████████████████████████████████████████████████████| 1000/1000 [00:04<00:00, 214.91it/s]\n",
      "Training: 100%|████████████████████████████████████████████████████████████████████████████████| 1000/1000 [00:04<00:00, 218.63it/s]\n",
      "Training: 100%|████████████████████████████████████████████████████████████████████████████████| 1000/1000 [00:04<00:00, 219.11it/s]\n",
      "Training: 100%|████████████████████████████████████████████████████████████████████████████████| 1000/1000 [00:04<00:00, 222.49it/s]\n",
      "Testing 4x4: 100%|██████████████████████████████████████████████████████████████████████████████| 100/100 [00:00<00:00, 1629.15it/s]\n"
     ]
    },
    {
     "name": "stdout",
     "output_type": "stream",
     "text": [
      "\n",
      "4x4 Results:\n",
      "Accuracy: 89.00%\n",
      "Avg prediction | Perc: 0.818\n",
      "Avg prediction | Non-Perc: 0.107\n"
     ]
    },
    {
     "name": "stderr",
     "output_type": "stream",
     "text": [
      "Testing 16x16: 100%|████████████████████████████████████████████████████████████████████████████| 100/100 [00:00<00:00, 1203.60it/s]\n"
     ]
    },
    {
     "name": "stdout",
     "output_type": "stream",
     "text": [
      "\n",
      "16x16 Results:\n",
      "Accuracy: 88.00%\n",
      "Avg prediction | Perc: 0.894\n",
      "Avg prediction | Non-Perc: 0.113\n"
     ]
    },
    {
     "name": "stderr",
     "output_type": "stream",
     "text": [
      "Testing 64x64: 100%|█████████████████████████████████████████████████████████████████████████████| 100/100 [00:00<00:00, 343.89it/s]\n"
     ]
    },
    {
     "name": "stdout",
     "output_type": "stream",
     "text": [
      "\n",
      "64x64 Results:\n",
      "Accuracy: 98.00%\n",
      "Avg prediction | Perc: 0.965\n",
      "Avg prediction | Non-Perc: 0.030\n"
     ]
    },
    {
     "name": "stderr",
     "output_type": "stream",
     "text": [
      "Testing 16x16: 100%|████████████████████████████████████████████████████████████████████████████| 200/200 [00:00<00:00, 1181.78it/s]\n"
     ]
    },
    {
     "name": "stdout",
     "output_type": "stream",
     "text": [
      "\n",
      "16x16 Results:\n",
      "Accuracy: 74.50%\n",
      "Avg prediction | Perc: 0.784\n",
      "Avg prediction | Non-Perc: 0.597\n",
      "\n",
      "Running 4^2 - Run 8/10\n"
     ]
    },
    {
     "name": "stderr",
     "output_type": "stream",
     "text": [
      "Generating data: 100%|██████████████████████████████████████████████████████████████████████| 10000/10000 [00:01<00:00, 7494.66it/s]\n",
      "Training: 100%|████████████████████████████████████████████████████████████████████████████████| 1000/1000 [00:04<00:00, 220.22it/s]\n",
      "Training: 100%|████████████████████████████████████████████████████████████████████████████████| 1000/1000 [00:04<00:00, 219.23it/s]\n",
      "Training: 100%|████████████████████████████████████████████████████████████████████████████████| 1000/1000 [00:04<00:00, 220.28it/s]\n",
      "Training: 100%|████████████████████████████████████████████████████████████████████████████████| 1000/1000 [00:04<00:00, 219.60it/s]\n",
      "Training: 100%|████████████████████████████████████████████████████████████████████████████████| 1000/1000 [00:04<00:00, 214.05it/s]\n",
      "Testing 4x4: 100%|██████████████████████████████████████████████████████████████████████████████| 100/100 [00:00<00:00, 2088.92it/s]\n"
     ]
    },
    {
     "name": "stdout",
     "output_type": "stream",
     "text": [
      "\n",
      "4x4 Results:\n",
      "Accuracy: 94.00%\n",
      "Avg prediction | Perc: 0.940\n",
      "Avg prediction | Non-Perc: 0.120\n"
     ]
    },
    {
     "name": "stderr",
     "output_type": "stream",
     "text": [
      "Testing 16x16: 100%|████████████████████████████████████████████████████████████████████████████| 100/100 [00:00<00:00, 1437.16it/s]\n"
     ]
    },
    {
     "name": "stdout",
     "output_type": "stream",
     "text": [
      "\n",
      "16x16 Results:\n",
      "Accuracy: 91.00%\n",
      "Avg prediction | Perc: 0.879\n",
      "Avg prediction | Non-Perc: 0.098\n"
     ]
    },
    {
     "name": "stderr",
     "output_type": "stream",
     "text": [
      "Testing 64x64: 100%|█████████████████████████████████████████████████████████████████████████████| 100/100 [00:00<00:00, 337.93it/s]\n"
     ]
    },
    {
     "name": "stdout",
     "output_type": "stream",
     "text": [
      "\n",
      "64x64 Results:\n",
      "Accuracy: 99.00%\n",
      "Avg prediction | Perc: 0.986\n",
      "Avg prediction | Non-Perc: 0.026\n"
     ]
    },
    {
     "name": "stderr",
     "output_type": "stream",
     "text": [
      "Testing 16x16: 100%|████████████████████████████████████████████████████████████████████████████| 200/200 [00:00<00:00, 1271.27it/s]\n"
     ]
    },
    {
     "name": "stdout",
     "output_type": "stream",
     "text": [
      "\n",
      "16x16 Results:\n",
      "Accuracy: 74.00%\n",
      "Avg prediction | Perc: 0.798\n",
      "Avg prediction | Non-Perc: 0.593\n",
      "\n",
      "Running 4^2 - Run 9/10\n"
     ]
    },
    {
     "name": "stderr",
     "output_type": "stream",
     "text": [
      "Generating data: 100%|██████████████████████████████████████████████████████████████████████| 10000/10000 [00:01<00:00, 7416.63it/s]\n",
      "Training: 100%|████████████████████████████████████████████████████████████████████████████████| 1000/1000 [00:04<00:00, 221.12it/s]\n",
      "Training: 100%|████████████████████████████████████████████████████████████████████████████████| 1000/1000 [00:04<00:00, 219.61it/s]\n",
      "Training: 100%|████████████████████████████████████████████████████████████████████████████████| 1000/1000 [00:04<00:00, 216.52it/s]\n",
      "Training: 100%|████████████████████████████████████████████████████████████████████████████████| 1000/1000 [00:04<00:00, 218.78it/s]\n",
      "Training: 100%|████████████████████████████████████████████████████████████████████████████████| 1000/1000 [00:04<00:00, 222.54it/s]\n",
      "Testing 4x4: 100%|██████████████████████████████████████████████████████████████████████████████| 100/100 [00:00<00:00, 2019.36it/s]\n"
     ]
    },
    {
     "name": "stdout",
     "output_type": "stream",
     "text": [
      "\n",
      "4x4 Results:\n",
      "Accuracy: 90.00%\n",
      "Avg prediction | Perc: 0.868\n",
      "Avg prediction | Non-Perc: 0.139\n"
     ]
    },
    {
     "name": "stderr",
     "output_type": "stream",
     "text": [
      "Testing 16x16: 100%|████████████████████████████████████████████████████████████████████████████| 100/100 [00:00<00:00, 1204.22it/s]\n"
     ]
    },
    {
     "name": "stdout",
     "output_type": "stream",
     "text": [
      "\n",
      "16x16 Results:\n",
      "Accuracy: 95.00%\n",
      "Avg prediction | Perc: 0.874\n",
      "Avg prediction | Non-Perc: 0.036\n"
     ]
    },
    {
     "name": "stderr",
     "output_type": "stream",
     "text": [
      "Testing 64x64: 100%|█████████████████████████████████████████████████████████████████████████████| 100/100 [00:00<00:00, 345.29it/s]\n"
     ]
    },
    {
     "name": "stdout",
     "output_type": "stream",
     "text": [
      "\n",
      "64x64 Results:\n",
      "Accuracy: 99.00%\n",
      "Avg prediction | Perc: 0.941\n",
      "Avg prediction | Non-Perc: 0.002\n"
     ]
    },
    {
     "name": "stderr",
     "output_type": "stream",
     "text": [
      "Testing 16x16: 100%|████████████████████████████████████████████████████████████████████████████| 200/200 [00:00<00:00, 1195.63it/s]\n"
     ]
    },
    {
     "name": "stdout",
     "output_type": "stream",
     "text": [
      "\n",
      "16x16 Results:\n",
      "Accuracy: 73.50%\n",
      "Avg prediction | Perc: 0.684\n",
      "Avg prediction | Non-Perc: 0.459\n",
      "\n",
      "Running 4^2 - Run 10/10\n"
     ]
    },
    {
     "name": "stderr",
     "output_type": "stream",
     "text": [
      "Generating data: 100%|██████████████████████████████████████████████████████████████████████| 10000/10000 [00:01<00:00, 7500.52it/s]\n",
      "Training: 100%|████████████████████████████████████████████████████████████████████████████████| 1000/1000 [00:04<00:00, 218.77it/s]\n",
      "Training: 100%|████████████████████████████████████████████████████████████████████████████████| 1000/1000 [00:04<00:00, 218.57it/s]\n",
      "Training: 100%|████████████████████████████████████████████████████████████████████████████████| 1000/1000 [00:04<00:00, 218.36it/s]\n",
      "Training: 100%|████████████████████████████████████████████████████████████████████████████████| 1000/1000 [00:04<00:00, 215.97it/s]\n",
      "Training: 100%|████████████████████████████████████████████████████████████████████████████████| 1000/1000 [00:04<00:00, 216.83it/s]\n",
      "Testing 4x4: 100%|██████████████████████████████████████████████████████████████████████████████| 100/100 [00:00<00:00, 2030.55it/s]\n"
     ]
    },
    {
     "name": "stdout",
     "output_type": "stream",
     "text": [
      "\n",
      "4x4 Results:\n",
      "Accuracy: 95.00%\n",
      "Avg prediction | Perc: 0.909\n",
      "Avg prediction | Non-Perc: 0.115\n"
     ]
    },
    {
     "name": "stderr",
     "output_type": "stream",
     "text": [
      "Testing 16x16: 100%|████████████████████████████████████████████████████████████████████████████| 100/100 [00:00<00:00, 1382.84it/s]\n"
     ]
    },
    {
     "name": "stdout",
     "output_type": "stream",
     "text": [
      "\n",
      "16x16 Results:\n",
      "Accuracy: 95.00%\n",
      "Avg prediction | Perc: 0.924\n",
      "Avg prediction | Non-Perc: 0.071\n"
     ]
    },
    {
     "name": "stderr",
     "output_type": "stream",
     "text": [
      "Testing 64x64: 100%|█████████████████████████████████████████████████████████████████████████████| 100/100 [00:00<00:00, 338.11it/s]\n"
     ]
    },
    {
     "name": "stdout",
     "output_type": "stream",
     "text": [
      "\n",
      "64x64 Results:\n",
      "Accuracy: 100.00%\n",
      "Avg prediction | Perc: 0.978\n",
      "Avg prediction | Non-Perc: 0.011\n"
     ]
    },
    {
     "name": "stderr",
     "output_type": "stream",
     "text": [
      "Testing 16x16: 100%|████████████████████████████████████████████████████████████████████████████| 200/200 [00:00<00:00, 1259.65it/s]\n"
     ]
    },
    {
     "name": "stdout",
     "output_type": "stream",
     "text": [
      "\n",
      "16x16 Results:\n",
      "Accuracy: 73.00%\n",
      "Avg prediction | Perc: 0.825\n",
      "Avg prediction | Non-Perc: 0.643\n",
      "\n",
      "Running 4^3 - Run 1/10\n"
     ]
    },
    {
     "name": "stderr",
     "output_type": "stream",
     "text": [
      "Generating data: 100%|██████████████████████████████████████████████████████████████████████| 10000/10000 [00:03<00:00, 2992.60it/s]\n",
      "Training: 100%|█████████████████████████████████████████████████████████████████████████████████| 1000/1000 [00:23<00:00, 43.33it/s]\n",
      "Training: 100%|█████████████████████████████████████████████████████████████████████████████████| 1000/1000 [00:22<00:00, 43.60it/s]\n",
      "Training: 100%|█████████████████████████████████████████████████████████████████████████████████| 1000/1000 [00:22<00:00, 43.56it/s]\n",
      "Training: 100%|█████████████████████████████████████████████████████████████████████████████████| 1000/1000 [00:22<00:00, 43.63it/s]\n",
      "Training: 100%|█████████████████████████████████████████████████████████████████████████████████| 1000/1000 [00:22<00:00, 43.75it/s]\n",
      "Testing 16x16: 100%|████████████████████████████████████████████████████████████████████████████| 100/100 [00:00<00:00, 1135.89it/s]\n"
     ]
    },
    {
     "name": "stdout",
     "output_type": "stream",
     "text": [
      "\n",
      "16x16 Results:\n",
      "Accuracy: 8.00%\n",
      "Avg prediction | Perc: 0.237\n",
      "Avg prediction | Non-Perc: 0.992\n"
     ]
    },
    {
     "name": "stderr",
     "output_type": "stream",
     "text": [
      "Testing 64x64: 100%|█████████████████████████████████████████████████████████████████████████████| 100/100 [00:00<00:00, 335.16it/s]\n"
     ]
    },
    {
     "name": "stdout",
     "output_type": "stream",
     "text": [
      "\n",
      "64x64 Results:\n",
      "Accuracy: 96.00%\n",
      "Avg prediction | Perc: 0.961\n",
      "Avg prediction | Non-Perc: 0.044\n"
     ]
    },
    {
     "name": "stderr",
     "output_type": "stream",
     "text": [
      "Testing 256x256: 100%|████████████████████████████████████████████████████████████████████████████| 100/100 [00:03<00:00, 31.27it/s]\n"
     ]
    },
    {
     "name": "stdout",
     "output_type": "stream",
     "text": [
      "\n",
      "256x256 Results:\n",
      "Accuracy: 0.00%\n",
      "Avg prediction | Perc: 0.009\n",
      "Avg prediction | Non-Perc: 0.999\n"
     ]
    },
    {
     "name": "stderr",
     "output_type": "stream",
     "text": [
      "Testing 64x64: 100%|█████████████████████████████████████████████████████████████████████████████| 200/200 [00:00<00:00, 330.04it/s]\n"
     ]
    },
    {
     "name": "stdout",
     "output_type": "stream",
     "text": [
      "\n",
      "64x64 Results:\n",
      "Accuracy: 75.50%\n",
      "Avg prediction | Perc: 0.831\n",
      "Avg prediction | Non-Perc: 0.613\n",
      "\n",
      "Running 4^3 - Run 2/10\n"
     ]
    },
    {
     "name": "stderr",
     "output_type": "stream",
     "text": [
      "Generating data: 100%|██████████████████████████████████████████████████████████████████████| 10000/10000 [00:03<00:00, 2977.98it/s]\n",
      "Training: 100%|█████████████████████████████████████████████████████████████████████████████████| 1000/1000 [00:23<00:00, 43.29it/s]\n",
      "Training: 100%|█████████████████████████████████████████████████████████████████████████████████| 1000/1000 [00:23<00:00, 43.37it/s]\n",
      "Training: 100%|█████████████████████████████████████████████████████████████████████████████████| 1000/1000 [00:23<00:00, 43.14it/s]\n",
      "Training: 100%|█████████████████████████████████████████████████████████████████████████████████| 1000/1000 [00:23<00:00, 43.38it/s]\n",
      "Training: 100%|█████████████████████████████████████████████████████████████████████████████████| 1000/1000 [00:23<00:00, 43.47it/s]\n",
      "Testing 16x16: 100%|████████████████████████████████████████████████████████████████████████████| 100/100 [00:00<00:00, 1246.58it/s]\n"
     ]
    },
    {
     "name": "stdout",
     "output_type": "stream",
     "text": [
      "\n",
      "16x16 Results:\n",
      "Accuracy: 11.00%\n",
      "Avg prediction | Perc: 0.193\n",
      "Avg prediction | Non-Perc: 0.943\n"
     ]
    },
    {
     "name": "stderr",
     "output_type": "stream",
     "text": [
      "Testing 64x64: 100%|█████████████████████████████████████████████████████████████████████████████| 100/100 [00:00<00:00, 329.01it/s]\n"
     ]
    },
    {
     "name": "stdout",
     "output_type": "stream",
     "text": [
      "\n",
      "64x64 Results:\n",
      "Accuracy: 95.00%\n",
      "Avg prediction | Perc: 1.000\n",
      "Avg prediction | Non-Perc: 0.082\n"
     ]
    },
    {
     "name": "stderr",
     "output_type": "stream",
     "text": [
      "Testing 256x256: 100%|████████████████████████████████████████████████████████████████████████████| 100/100 [00:03<00:00, 31.18it/s]\n"
     ]
    },
    {
     "name": "stdout",
     "output_type": "stream",
     "text": [
      "\n",
      "256x256 Results:\n",
      "Accuracy: 4.00%\n",
      "Avg prediction | Perc: 0.002\n",
      "Avg prediction | Non-Perc: 0.947\n"
     ]
    },
    {
     "name": "stderr",
     "output_type": "stream",
     "text": [
      "Testing 64x64: 100%|█████████████████████████████████████████████████████████████████████████████| 200/200 [00:00<00:00, 326.76it/s]\n"
     ]
    },
    {
     "name": "stdout",
     "output_type": "stream",
     "text": [
      "\n",
      "64x64 Results:\n",
      "Accuracy: 74.50%\n",
      "Avg prediction | Perc: 0.960\n",
      "Avg prediction | Non-Perc: 0.870\n",
      "\n",
      "Running 4^3 - Run 3/10\n"
     ]
    },
    {
     "name": "stderr",
     "output_type": "stream",
     "text": [
      "Generating data: 100%|██████████████████████████████████████████████████████████████████████| 10000/10000 [00:03<00:00, 2970.50it/s]\n",
      "Training: 100%|█████████████████████████████████████████████████████████████████████████████████| 1000/1000 [00:22<00:00, 43.65it/s]\n",
      "Training: 100%|█████████████████████████████████████████████████████████████████████████████████| 1000/1000 [00:22<00:00, 43.51it/s]\n",
      "Training: 100%|█████████████████████████████████████████████████████████████████████████████████| 1000/1000 [00:23<00:00, 43.41it/s]\n",
      "Training: 100%|█████████████████████████████████████████████████████████████████████████████████| 1000/1000 [00:23<00:00, 43.31it/s]\n",
      "Training: 100%|█████████████████████████████████████████████████████████████████████████████████| 1000/1000 [00:23<00:00, 43.40it/s]\n",
      "Testing 16x16: 100%|████████████████████████████████████████████████████████████████████████████| 100/100 [00:00<00:00, 1148.83it/s]\n"
     ]
    },
    {
     "name": "stdout",
     "output_type": "stream",
     "text": [
      "\n",
      "16x16 Results:\n",
      "Accuracy: 15.00%\n",
      "Avg prediction | Perc: 0.313\n",
      "Avg prediction | Non-Perc: 0.979\n"
     ]
    },
    {
     "name": "stderr",
     "output_type": "stream",
     "text": [
      "Testing 64x64: 100%|█████████████████████████████████████████████████████████████████████████████| 100/100 [00:00<00:00, 339.91it/s]\n"
     ]
    },
    {
     "name": "stdout",
     "output_type": "stream",
     "text": [
      "\n",
      "64x64 Results:\n",
      "Accuracy: 96.00%\n",
      "Avg prediction | Perc: 0.939\n",
      "Avg prediction | Non-Perc: 0.047\n"
     ]
    },
    {
     "name": "stderr",
     "output_type": "stream",
     "text": [
      "Testing 256x256: 100%|████████████████████████████████████████████████████████████████████████████| 100/100 [00:03<00:00, 31.23it/s]\n"
     ]
    },
    {
     "name": "stdout",
     "output_type": "stream",
     "text": [
      "\n",
      "256x256 Results:\n",
      "Accuracy: 0.00%\n",
      "Avg prediction | Perc: 0.020\n",
      "Avg prediction | Non-Perc: 1.000\n"
     ]
    },
    {
     "name": "stderr",
     "output_type": "stream",
     "text": [
      "Testing 64x64: 100%|█████████████████████████████████████████████████████████████████████████████| 200/200 [00:00<00:00, 331.59it/s]\n"
     ]
    },
    {
     "name": "stdout",
     "output_type": "stream",
     "text": [
      "\n",
      "64x64 Results:\n",
      "Accuracy: 71.50%\n",
      "Avg prediction | Perc: 0.777\n",
      "Avg prediction | Non-Perc: 0.553\n",
      "\n",
      "Running 4^3 - Run 4/10\n"
     ]
    },
    {
     "name": "stderr",
     "output_type": "stream",
     "text": [
      "Generating data: 100%|██████████████████████████████████████████████████████████████████████| 10000/10000 [00:03<00:00, 2961.83it/s]\n",
      "Training: 100%|█████████████████████████████████████████████████████████████████████████████████| 1000/1000 [00:22<00:00, 43.55it/s]\n",
      "Training: 100%|█████████████████████████████████████████████████████████████████████████████████| 1000/1000 [00:22<00:00, 43.60it/s]\n",
      "Training: 100%|█████████████████████████████████████████████████████████████████████████████████| 1000/1000 [00:22<00:00, 43.56it/s]\n",
      "Training: 100%|█████████████████████████████████████████████████████████████████████████████████| 1000/1000 [00:22<00:00, 43.53it/s]\n",
      "Training: 100%|█████████████████████████████████████████████████████████████████████████████████| 1000/1000 [00:22<00:00, 43.56it/s]\n",
      "Testing 16x16: 100%|████████████████████████████████████████████████████████████████████████████| 100/100 [00:00<00:00, 1295.61it/s]\n"
     ]
    },
    {
     "name": "stdout",
     "output_type": "stream",
     "text": [
      "\n",
      "16x16 Results:\n",
      "Accuracy: 10.00%\n",
      "Avg prediction | Perc: 0.267\n",
      "Avg prediction | Non-Perc: 0.998\n"
     ]
    },
    {
     "name": "stderr",
     "output_type": "stream",
     "text": [
      "Testing 64x64: 100%|█████████████████████████████████████████████████████████████████████████████| 100/100 [00:00<00:00, 331.95it/s]\n"
     ]
    },
    {
     "name": "stdout",
     "output_type": "stream",
     "text": [
      "\n",
      "64x64 Results:\n",
      "Accuracy: 96.00%\n",
      "Avg prediction | Perc: 0.926\n",
      "Avg prediction | Non-Perc: 0.038\n"
     ]
    },
    {
     "name": "stderr",
     "output_type": "stream",
     "text": [
      "Testing 256x256: 100%|████████████████████████████████████████████████████████████████████████████| 100/100 [00:03<00:00, 31.22it/s]\n"
     ]
    },
    {
     "name": "stdout",
     "output_type": "stream",
     "text": [
      "\n",
      "256x256 Results:\n",
      "Accuracy: 4.00%\n",
      "Avg prediction | Perc: 0.080\n",
      "Avg prediction | Non-Perc: 1.000\n"
     ]
    },
    {
     "name": "stderr",
     "output_type": "stream",
     "text": [
      "Testing 64x64: 100%|█████████████████████████████████████████████████████████████████████████████| 200/200 [00:00<00:00, 334.02it/s]\n"
     ]
    },
    {
     "name": "stdout",
     "output_type": "stream",
     "text": [
      "\n",
      "64x64 Results:\n",
      "Accuracy: 69.50%\n",
      "Avg prediction | Perc: 0.643\n",
      "Avg prediction | Non-Perc: 0.427\n",
      "\n",
      "Running 4^3 - Run 5/10\n"
     ]
    },
    {
     "name": "stderr",
     "output_type": "stream",
     "text": [
      "Generating data: 100%|██████████████████████████████████████████████████████████████████████| 10000/10000 [00:03<00:00, 2949.90it/s]\n",
      "Training: 100%|█████████████████████████████████████████████████████████████████████████████████| 1000/1000 [00:22<00:00, 43.64it/s]\n",
      "Training: 100%|█████████████████████████████████████████████████████████████████████████████████| 1000/1000 [00:22<00:00, 43.64it/s]\n",
      "Training: 100%|█████████████████████████████████████████████████████████████████████████████████| 1000/1000 [00:22<00:00, 43.94it/s]\n",
      "Training: 100%|█████████████████████████████████████████████████████████████████████████████████| 1000/1000 [00:22<00:00, 44.19it/s]\n",
      "Training: 100%|█████████████████████████████████████████████████████████████████████████████████| 1000/1000 [00:22<00:00, 44.24it/s]\n",
      "Testing 16x16: 100%|████████████████████████████████████████████████████████████████████████████| 100/100 [00:00<00:00, 1249.83it/s]\n"
     ]
    },
    {
     "name": "stdout",
     "output_type": "stream",
     "text": [
      "\n",
      "16x16 Results:\n",
      "Accuracy: 4.00%\n",
      "Avg prediction | Perc: 0.136\n",
      "Avg prediction | Non-Perc: 0.988\n"
     ]
    },
    {
     "name": "stderr",
     "output_type": "stream",
     "text": [
      "Testing 64x64: 100%|█████████████████████████████████████████████████████████████████████████████| 100/100 [00:00<00:00, 345.26it/s]\n"
     ]
    },
    {
     "name": "stdout",
     "output_type": "stream",
     "text": [
      "\n",
      "64x64 Results:\n",
      "Accuracy: 95.00%\n",
      "Avg prediction | Perc: 0.998\n",
      "Avg prediction | Non-Perc: 0.082\n"
     ]
    },
    {
     "name": "stderr",
     "output_type": "stream",
     "text": [
      "Testing 256x256: 100%|████████████████████████████████████████████████████████████████████████████| 100/100 [00:03<00:00, 31.11it/s]\n"
     ]
    },
    {
     "name": "stdout",
     "output_type": "stream",
     "text": [
      "\n",
      "256x256 Results:\n",
      "Accuracy: 2.00%\n",
      "Avg prediction | Perc: 0.002\n",
      "Avg prediction | Non-Perc: 0.964\n"
     ]
    },
    {
     "name": "stderr",
     "output_type": "stream",
     "text": [
      "Testing 64x64: 100%|█████████████████████████████████████████████████████████████████████████████| 200/200 [00:00<00:00, 332.67it/s]\n"
     ]
    },
    {
     "name": "stdout",
     "output_type": "stream",
     "text": [
      "\n",
      "64x64 Results:\n",
      "Accuracy: 73.00%\n",
      "Avg prediction | Perc: 0.935\n",
      "Avg prediction | Non-Perc: 0.866\n",
      "\n",
      "Running 4^3 - Run 6/10\n"
     ]
    },
    {
     "name": "stderr",
     "output_type": "stream",
     "text": [
      "Generating data: 100%|██████████████████████████████████████████████████████████████████████| 10000/10000 [00:03<00:00, 2937.24it/s]\n",
      "Training: 100%|█████████████████████████████████████████████████████████████████████████████████| 1000/1000 [00:23<00:00, 43.33it/s]\n",
      "Training: 100%|█████████████████████████████████████████████████████████████████████████████████| 1000/1000 [00:23<00:00, 43.35it/s]\n",
      "Training: 100%|█████████████████████████████████████████████████████████████████████████████████| 1000/1000 [00:23<00:00, 43.38it/s]\n",
      "Training: 100%|█████████████████████████████████████████████████████████████████████████████████| 1000/1000 [00:23<00:00, 43.41it/s]\n",
      "Training: 100%|█████████████████████████████████████████████████████████████████████████████████| 1000/1000 [00:22<00:00, 43.50it/s]\n",
      "Testing 16x16: 100%|████████████████████████████████████████████████████████████████████████████| 100/100 [00:00<00:00, 1344.49it/s]\n"
     ]
    },
    {
     "name": "stdout",
     "output_type": "stream",
     "text": [
      "\n",
      "16x16 Results:\n",
      "Accuracy: 10.00%\n",
      "Avg prediction | Perc: 0.209\n",
      "Avg prediction | Non-Perc: 0.979\n"
     ]
    },
    {
     "name": "stderr",
     "output_type": "stream",
     "text": [
      "Testing 64x64: 100%|█████████████████████████████████████████████████████████████████████████████| 100/100 [00:00<00:00, 335.74it/s]\n"
     ]
    },
    {
     "name": "stdout",
     "output_type": "stream",
     "text": [
      "\n",
      "64x64 Results:\n",
      "Accuracy: 98.00%\n",
      "Avg prediction | Perc: 0.983\n",
      "Avg prediction | Non-Perc: 0.042\n"
     ]
    },
    {
     "name": "stderr",
     "output_type": "stream",
     "text": [
      "Testing 256x256: 100%|████████████████████████████████████████████████████████████████████████████| 100/100 [00:03<00:00, 31.24it/s]\n"
     ]
    },
    {
     "name": "stdout",
     "output_type": "stream",
     "text": [
      "\n",
      "256x256 Results:\n",
      "Accuracy: 2.00%\n",
      "Avg prediction | Perc: 0.067\n",
      "Avg prediction | Non-Perc: 1.000\n"
     ]
    },
    {
     "name": "stderr",
     "output_type": "stream",
     "text": [
      "Testing 64x64: 100%|█████████████████████████████████████████████████████████████████████████████| 200/200 [00:00<00:00, 319.80it/s]\n"
     ]
    },
    {
     "name": "stdout",
     "output_type": "stream",
     "text": [
      "\n",
      "64x64 Results:\n",
      "Accuracy: 66.50%\n",
      "Avg prediction | Perc: 0.721\n",
      "Avg prediction | Non-Perc: 0.554\n",
      "\n",
      "Running 4^3 - Run 7/10\n"
     ]
    },
    {
     "name": "stderr",
     "output_type": "stream",
     "text": [
      "Generating data: 100%|██████████████████████████████████████████████████████████████████████| 10000/10000 [00:03<00:00, 2936.12it/s]\n",
      "Training: 100%|█████████████████████████████████████████████████████████████████████████████████| 1000/1000 [00:23<00:00, 43.32it/s]\n",
      "Training: 100%|█████████████████████████████████████████████████████████████████████████████████| 1000/1000 [00:23<00:00, 43.44it/s]\n",
      "Training: 100%|█████████████████████████████████████████████████████████████████████████████████| 1000/1000 [00:23<00:00, 43.33it/s]\n",
      "Training: 100%|█████████████████████████████████████████████████████████████████████████████████| 1000/1000 [00:22<00:00, 43.48it/s]\n",
      "Training: 100%|█████████████████████████████████████████████████████████████████████████████████| 1000/1000 [00:22<00:00, 43.55it/s]\n",
      "Testing 16x16: 100%|████████████████████████████████████████████████████████████████████████████| 100/100 [00:00<00:00, 1208.08it/s]\n"
     ]
    },
    {
     "name": "stdout",
     "output_type": "stream",
     "text": [
      "\n",
      "16x16 Results:\n",
      "Accuracy: 90.00%\n",
      "Avg prediction | Perc: 0.820\n",
      "Avg prediction | Non-Perc: 0.053\n"
     ]
    },
    {
     "name": "stderr",
     "output_type": "stream",
     "text": [
      "Testing 64x64: 100%|█████████████████████████████████████████████████████████████████████████████| 100/100 [00:00<00:00, 325.59it/s]\n"
     ]
    },
    {
     "name": "stdout",
     "output_type": "stream",
     "text": [
      "\n",
      "64x64 Results:\n",
      "Accuracy: 98.00%\n",
      "Avg prediction | Perc: 0.916\n",
      "Avg prediction | Non-Perc: 0.003\n"
     ]
    },
    {
     "name": "stderr",
     "output_type": "stream",
     "text": [
      "Testing 256x256: 100%|████████████████████████████████████████████████████████████████████████████| 100/100 [00:03<00:00, 31.16it/s]\n"
     ]
    },
    {
     "name": "stdout",
     "output_type": "stream",
     "text": [
      "\n",
      "256x256 Results:\n",
      "Accuracy: 98.00%\n",
      "Avg prediction | Perc: 0.925\n",
      "Avg prediction | Non-Perc: 0.000\n"
     ]
    },
    {
     "name": "stderr",
     "output_type": "stream",
     "text": [
      "Testing 64x64: 100%|█████████████████████████████████████████████████████████████████████████████| 200/200 [00:00<00:00, 326.00it/s]\n"
     ]
    },
    {
     "name": "stdout",
     "output_type": "stream",
     "text": [
      "\n",
      "64x64 Results:\n",
      "Accuracy: 46.50%\n",
      "Avg prediction | Perc: 0.366\n",
      "Avg prediction | Non-Perc: 0.210\n",
      "\n",
      "Running 4^3 - Run 8/10\n"
     ]
    },
    {
     "name": "stderr",
     "output_type": "stream",
     "text": [
      "Generating data: 100%|██████████████████████████████████████████████████████████████████████| 10000/10000 [00:03<00:00, 2941.68it/s]\n",
      "Training: 100%|█████████████████████████████████████████████████████████████████████████████████| 1000/1000 [00:22<00:00, 43.50it/s]\n",
      "Training: 100%|█████████████████████████████████████████████████████████████████████████████████| 1000/1000 [00:22<00:00, 43.48it/s]\n",
      "Training: 100%|█████████████████████████████████████████████████████████████████████████████████| 1000/1000 [00:22<00:00, 43.60it/s]\n",
      "Training: 100%|█████████████████████████████████████████████████████████████████████████████████| 1000/1000 [00:22<00:00, 44.03it/s]\n",
      "Training: 100%|█████████████████████████████████████████████████████████████████████████████████| 1000/1000 [00:22<00:00, 44.15it/s]\n",
      "Testing 16x16: 100%|████████████████████████████████████████████████████████████████████████████| 100/100 [00:00<00:00, 1302.41it/s]\n"
     ]
    },
    {
     "name": "stdout",
     "output_type": "stream",
     "text": [
      "\n",
      "16x16 Results:\n",
      "Accuracy: 6.00%\n",
      "Avg prediction | Perc: 0.160\n",
      "Avg prediction | Non-Perc: 0.989\n"
     ]
    },
    {
     "name": "stderr",
     "output_type": "stream",
     "text": [
      "Testing 64x64: 100%|█████████████████████████████████████████████████████████████████████████████| 100/100 [00:00<00:00, 330.70it/s]\n"
     ]
    },
    {
     "name": "stdout",
     "output_type": "stream",
     "text": [
      "\n",
      "64x64 Results:\n",
      "Accuracy: 99.00%\n",
      "Avg prediction | Perc: 0.997\n",
      "Avg prediction | Non-Perc: 0.019\n"
     ]
    },
    {
     "name": "stderr",
     "output_type": "stream",
     "text": [
      "Testing 256x256: 100%|████████████████████████████████████████████████████████████████████████████| 100/100 [00:03<00:00, 30.70it/s]\n"
     ]
    },
    {
     "name": "stdout",
     "output_type": "stream",
     "text": [
      "\n",
      "256x256 Results:\n",
      "Accuracy: 1.00%\n",
      "Avg prediction | Perc: 0.012\n",
      "Avg prediction | Non-Perc: 0.985\n"
     ]
    },
    {
     "name": "stderr",
     "output_type": "stream",
     "text": [
      "Testing 64x64: 100%|█████████████████████████████████████████████████████████████████████████████| 200/200 [00:00<00:00, 334.52it/s]\n"
     ]
    },
    {
     "name": "stdout",
     "output_type": "stream",
     "text": [
      "\n",
      "64x64 Results:\n",
      "Accuracy: 74.50%\n",
      "Avg prediction | Perc: 0.902\n",
      "Avg prediction | Non-Perc: 0.796\n",
      "\n",
      "Running 4^3 - Run 9/10\n"
     ]
    },
    {
     "name": "stderr",
     "output_type": "stream",
     "text": [
      "Generating data: 100%|██████████████████████████████████████████████████████████████████████| 10000/10000 [00:03<00:00, 2920.05it/s]\n",
      "Training: 100%|█████████████████████████████████████████████████████████████████████████████████| 1000/1000 [00:22<00:00, 44.73it/s]\n",
      "Training: 100%|█████████████████████████████████████████████████████████████████████████████████| 1000/1000 [00:21<00:00, 46.43it/s]\n",
      "Training: 100%|█████████████████████████████████████████████████████████████████████████████████| 1000/1000 [00:21<00:00, 46.28it/s]\n",
      "Training: 100%|█████████████████████████████████████████████████████████████████████████████████| 1000/1000 [00:21<00:00, 46.23it/s]\n",
      "Training: 100%|█████████████████████████████████████████████████████████████████████████████████| 1000/1000 [00:21<00:00, 45.89it/s]\n",
      "Testing 16x16: 100%|████████████████████████████████████████████████████████████████████████████| 100/100 [00:00<00:00, 1397.20it/s]\n"
     ]
    },
    {
     "name": "stdout",
     "output_type": "stream",
     "text": [
      "\n",
      "16x16 Results:\n",
      "Accuracy: 10.00%\n",
      "Avg prediction | Perc: 0.225\n",
      "Avg prediction | Non-Perc: 0.984\n"
     ]
    },
    {
     "name": "stderr",
     "output_type": "stream",
     "text": [
      "Testing 64x64: 100%|█████████████████████████████████████████████████████████████████████████████| 100/100 [00:00<00:00, 363.26it/s]\n"
     ]
    },
    {
     "name": "stdout",
     "output_type": "stream",
     "text": [
      "\n",
      "64x64 Results:\n",
      "Accuracy: 100.00%\n",
      "Avg prediction | Perc: 0.991\n",
      "Avg prediction | Non-Perc: 0.008\n"
     ]
    },
    {
     "name": "stderr",
     "output_type": "stream",
     "text": [
      "Testing 256x256: 100%|████████████████████████████████████████████████████████████████████████████| 100/100 [00:03<00:00, 31.81it/s]\n"
     ]
    },
    {
     "name": "stdout",
     "output_type": "stream",
     "text": [
      "\n",
      "256x256 Results:\n",
      "Accuracy: 0.00%\n",
      "Avg prediction | Perc: 0.011\n",
      "Avg prediction | Non-Perc: 0.999\n"
     ]
    },
    {
     "name": "stderr",
     "output_type": "stream",
     "text": [
      "Testing 64x64: 100%|█████████████████████████████████████████████████████████████████████████████| 200/200 [00:00<00:00, 344.88it/s]\n"
     ]
    },
    {
     "name": "stdout",
     "output_type": "stream",
     "text": [
      "\n",
      "64x64 Results:\n",
      "Accuracy: 66.50%\n",
      "Avg prediction | Perc: 0.774\n",
      "Avg prediction | Non-Perc: 0.630\n",
      "\n",
      "Running 4^3 - Run 10/10\n"
     ]
    },
    {
     "name": "stderr",
     "output_type": "stream",
     "text": [
      "Generating data: 100%|██████████████████████████████████████████████████████████████████████| 10000/10000 [00:02<00:00, 3709.74it/s]\n",
      "Training: 100%|█████████████████████████████████████████████████████████████████████████████████| 1000/1000 [00:21<00:00, 45.93it/s]\n",
      "Training: 100%|█████████████████████████████████████████████████████████████████████████████████| 1000/1000 [00:21<00:00, 46.18it/s]\n",
      "Training: 100%|█████████████████████████████████████████████████████████████████████████████████| 1000/1000 [00:21<00:00, 45.89it/s]\n",
      "Training: 100%|█████████████████████████████████████████████████████████████████████████████████| 1000/1000 [00:21<00:00, 45.86it/s]\n",
      "Training: 100%|█████████████████████████████████████████████████████████████████████████████████| 1000/1000 [00:21<00:00, 46.08it/s]\n",
      "Testing 16x16: 100%|████████████████████████████████████████████████████████████████████████████| 100/100 [00:00<00:00, 1650.27it/s]\n"
     ]
    },
    {
     "name": "stdout",
     "output_type": "stream",
     "text": [
      "\n",
      "16x16 Results:\n",
      "Accuracy: 7.00%\n",
      "Avg prediction | Perc: 0.145\n",
      "Avg prediction | Non-Perc: 0.963\n"
     ]
    },
    {
     "name": "stderr",
     "output_type": "stream",
     "text": [
      "Testing 64x64: 100%|█████████████████████████████████████████████████████████████████████████████| 100/100 [00:00<00:00, 355.04it/s]\n"
     ]
    },
    {
     "name": "stdout",
     "output_type": "stream",
     "text": [
      "\n",
      "64x64 Results:\n",
      "Accuracy: 98.00%\n",
      "Avg prediction | Perc: 0.997\n",
      "Avg prediction | Non-Perc: 0.043\n"
     ]
    },
    {
     "name": "stderr",
     "output_type": "stream",
     "text": [
      "Testing 256x256: 100%|████████████████████████████████████████████████████████████████████████████| 100/100 [00:03<00:00, 31.91it/s]\n"
     ]
    },
    {
     "name": "stdout",
     "output_type": "stream",
     "text": [
      "\n",
      "256x256 Results:\n",
      "Accuracy: 0.00%\n",
      "Avg prediction | Perc: 0.006\n",
      "Avg prediction | Non-Perc: 0.991\n"
     ]
    },
    {
     "name": "stderr",
     "output_type": "stream",
     "text": [
      "Testing 64x64: 100%|█████████████████████████████████████████████████████████████████████████████| 200/200 [00:00<00:00, 350.92it/s]\n"
     ]
    },
    {
     "name": "stdout",
     "output_type": "stream",
     "text": [
      "\n",
      "64x64 Results:\n",
      "Accuracy: 63.50%\n",
      "Avg prediction | Perc: 0.869\n",
      "Avg prediction | Non-Perc: 0.778\n"
     ]
    }
   ],
   "source": [
    "# Main experiment loop\n",
    "all_results = {}\n",
    "all_plots = {}\n",
    "combinations = [(3, 2), (3, 3), (3, 4), (4, 2), (4, 3)]\n",
    "n_runs = 10\n",
    "\n",
    "for DIM, POWER in combinations:\n",
    "    key = f\"{DIM}^{POWER}\"\n",
    "    all_results[key] = []\n",
    "    all_plots[key] = []\n",
    "    \n",
    "    for run in range(n_runs):\n",
    "        print(f\"\\nRunning {key} - Run {run+1}/{n_runs}\")\n",
    "        summaries, plot_data = run_experiment(DIM, POWER, run)\n",
    "        all_results[key].append(summaries)\n",
    "        all_plots[key].append(plot_data)\n",
    "    "
   ]
  },
  {
   "cell_type": "code",
   "execution_count": 4,
   "id": "fe09ad63-807a-41f3-8599-25159af1a324",
   "metadata": {},
   "outputs": [],
   "source": [
    "# Generate consolidated PDF report\n",
    "with PdfPages(\"consolidated_results.pdf\") as pdf:\n",
    "    for DIM, POWER in combinations:\n",
    "        key = f\"{DIM}^{POWER}\"\n",
    "        \n",
    "        plt.figure(figsize=(10, 6))\n",
    "        fixed_points = []\n",
    "        \n",
    "        for run_idx, (ps, outputs) in enumerate(all_plots[key]):\n",
    "            plt.plot(ps, outputs, alpha=0.5)\n",
    "            \n",
    "            # Find intersection with f(p) = p\n",
    "            diff = np.array(outputs) - np.array(ps)\n",
    "            sign_changes = np.where(np.diff(np.sign(diff)))[0]\n",
    "            \n",
    "            # For each sign change, find the approximate fixed point\n",
    "            run_fixed_points = []\n",
    "            for i in sign_changes:\n",
    "                if i+1 < len(ps):\n",
    "                    x0, x1 = ps[i], ps[i+1]\n",
    "                    y0, y1 = outputs[i], outputs[i+1]\n",
    "                    # Linear approximation of intersection\n",
    "                    t = (x0 - y0) / ((y1 - y0) - (x1 - x0))\n",
    "                    fixed_point = x0 + t * (x1 - x0)\n",
    "                    run_fixed_points.append(fixed_point)\n",
    "            \n",
    "            if run_fixed_points:\n",
    "                # Take the fixed point closest to the known critical point (~0.5927)\n",
    "                best_fp = min(run_fixed_points, key=lambda x: abs(x - 0.5927))\n",
    "                fixed_points.append(best_fp)\n",
    "                plt.scatter([best_fp], [best_fp], color='black', s=20)\n",
    "        \n",
    "        # Plot f(p) = p line\n",
    "        plt.plot([0, 1], [0, 1], color=\"black\", linestyle=\"--\", label=\"f(p) = p\")\n",
    "        \n",
    "        # Add mean fixed point if available\n",
    "        if fixed_points:\n",
    "            mean_fp = np.mean(fixed_points)\n",
    "            plt.plot(mean_fp, mean_fp, color='red', label=f\"Mean Fixed Point: {mean_fp:.4f}\")\n",
    "        \n",
    "        plt.title(f\"PFC Rule Projection - Configuration {key}\", fontsize=20)\n",
    "        plt.xlabel(\"$p$\", fontsize=16)\n",
    "        plt.ylabel(r\"$f_{\\theta}(p\\mathbf{1})$\", fontsize=16)\n",
    "        plt.legend(fontsize=12)\n",
    "        pdf.savefig()\n",
    "        plt.close()\n",
    "\n",
    "# Generate consolidated text report\n",
    "with open(\"consolidated_accuracies.txt\", \"w\", encoding=\"utf8\") as f:\n",
    "    for DIM, POWER in combinations:\n",
    "        key = f\"{DIM}^{POWER}\"\n",
    "        \n",
    "        f.write(f\"\\n{'='*40}\\nConfiguration: {key}\\n{'='*40}\\n\")\n",
    "        \n",
    "        # Get fixed points for this configuration\n",
    "        config_fixed_points = []\n",
    "        for run_data in all_plots[key]:\n",
    "            ps, outputs = run_data\n",
    "            diff = np.array(outputs) - np.array(ps)\n",
    "            sign_changes = np.where(np.diff(np.sign(diff)))[0]\n",
    "            \n",
    "            run_fixed_points = []\n",
    "            for i in sign_changes:\n",
    "                if i+1 < len(ps):\n",
    "                    x0, x1 = ps[i], ps[i+1]\n",
    "                    y0, y1 = outputs[i], outputs[i+1]\n",
    "                    t = (x0 - y0) / ((y1 - y0) - (x1 - x0))\n",
    "                    fixed_point = x0 + t * (x1 - x0)\n",
    "                    run_fixed_points.append(fixed_point)\n",
    "            \n",
    "            if run_fixed_points:\n",
    "                best_fp = min(run_fixed_points, key=lambda x: abs(x - 0.5927))\n",
    "                config_fixed_points.append(best_fp)\n",
    "        \n",
    "        if config_fixed_points:\n",
    "            mean_fp = np.mean(config_fixed_points)\n",
    "            std_fp = np.std(config_fixed_points)\n",
    "            f.write(\"Fixed Points (intersection with f(p) = p):\\n\")\n",
    "            f.write(f\"  Values: {[f'{fp:.6f}' for fp in config_fixed_points]}\\n\")\n",
    "            f.write(f\"  Mean: {mean_fp:.6f} ± {std_fp:.6f}\\n\\n\")\n",
    "        else:\n",
    "            f.write(\"No clear fixed points found (no intersection with f(p) = p)\\n\\n\")\n",
    "        \n",
    "        # Write accuracy information with full details for each test type\n",
    "        test_types = [\"smaller_0.1-0.9\", \"standard_0.1-0.9\", \"larger_0.1-0.9\", \"standard_0.58-0.61\"]\n",
    "        for test_type in test_types:\n",
    "            f.write(f\"{test_type.replace('_', ' ')}:\\n\")\n",
    "            \n",
    "            # Get all runs' results for this test type\n",
    "            all_runs_results = [run[test_type] for run in all_results[key]]\n",
    "            \n",
    "            # Write detailed accuracy for each run\n",
    "            for run_idx, (acc, mean_perc, mean_non_perc) in enumerate(all_runs_results):\n",
    "                f.write(f\"  Run {run_idx+1}:\\n\")\n",
    "                f.write(f\"    Accuracy: {acc:.4f}\\n\")\n",
    "                f.write(f\"    Avg prediction | Perc: {mean_perc:.4f}\\n\")\n",
    "                f.write(f\"    Avg prediction | Non-Perc: {mean_non_perc:.4f}\\n\")\n",
    "            \n",
    "            # Calculate and write summary statistics\n",
    "            accs = [x[0] for x in all_runs_results]\n",
    "            mean_percs = [x[1] for x in all_runs_results]\n",
    "            mean_non_percs = [x[2] for x in all_runs_results]\n",
    "            \n",
    "            f.write(\"\\n  Summary statistics:\\n\")\n",
    "            f.write(f\"    Accuracy: {np.mean(accs):.4f} ± {np.std(accs):.4f}\\n\")\n",
    "            f.write(f\"    Avg prediction | Perc: {np.mean(mean_percs):.4f} ± {np.std(mean_percs):.4f}\\n\")\n",
    "            f.write(f\"    Avg prediction | Non-Perc: {np.mean(mean_non_percs):.4f} ± {np.std(mean_non_percs):.4f}\\n\\n\")"
   ]
  }
 ],
 "metadata": {
  "kernelspec": {
   "display_name": "Python 3 (ipykernel)",
   "language": "python",
   "name": "python3"
  },
  "language_info": {
   "codemirror_mode": {
    "name": "ipython",
    "version": 3
   },
   "file_extension": ".py",
   "mimetype": "text/x-python",
   "name": "python",
   "nbconvert_exporter": "python",
   "pygments_lexer": "ipython3",
   "version": "3.9.4"
  }
 },
 "nbformat": 4,
 "nbformat_minor": 5
}

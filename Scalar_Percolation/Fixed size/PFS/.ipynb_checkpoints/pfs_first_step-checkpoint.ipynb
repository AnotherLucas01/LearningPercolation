{
 "cells": [
  {
   "cell_type": "code",
   "execution_count": 1,
   "id": "944e6060-c069-4c88-8611-32794e639c69",
   "metadata": {},
   "outputs": [],
   "source": [
    "import numpy as np\n",
    "import torch\n",
    "import torch.nn as nn\n",
    "import torch.nn.functional as F\n",
    "import torch.optim as optim\n",
    "from scipy.ndimage import label\n",
    "from tqdm import tqdm\n",
    "\n",
    "# Configuration\n",
    "DIM = 4\n",
    "POWER = 5\n",
    "MAX_STEPS = POWER + 5\n",
    "\n",
    "def generate_percolation_lattice(size, p):\n",
    "    return np.random.choice([0, 1], (size, size), p=[1-p, p]).astype(np.uint8)\n",
    "\n",
    "def check_percolation(lattice):\n",
    "    labeled, _ = label(lattice)\n",
    "    top = set(labeled[0]) - {0}\n",
    "    bottom = set(labeled[-1]) - {0}\n",
    "    left = set(labeled[:,0]) - {0}\n",
    "    right = set(labeled[:,-1]) - {0}\n",
    "    return float(bool(top & bottom) or bool(left & right))\n",
    "\n",
    "def first_coarse_graining(binary_lattice, dim):\n",
    "    \"\"\"Average non-overlapping dim×dim blocks.\"\"\"\n",
    "    t = torch.tensor(binary_lattice, dtype=torch.float32).unsqueeze(0).unsqueeze(0)\n",
    "    patches = F.unfold(t, kernel_size=dim, stride=dim)             # [1, dim*dim, num_patches]\n",
    "    patches = patches.permute(0, 2, 1)                             # [1, num_patches, dim*dim]\n",
    "    coarse_vals = patches.mean(dim=2)                             # [1, num_patches]\n",
    "    H, W = binary_lattice.shape\n",
    "    new_h, new_w = H // dim, W // dim\n",
    "    return coarse_vals.view(1, 1, new_h, new_w).squeeze(0)        # [1, new_h, new_w]\n",
    "\n",
    "class PercolationModel(nn.Module):\n",
    "    def __init__(self, dim):\n",
    "        super().__init__()\n",
    "        self.dim = dim\n",
    "        self.rule = nn.Sequential(\n",
    "            nn.Linear(dim * dim, 64),\n",
    "            nn.ReLU(),\n",
    "            nn.Linear(64, 1),\n",
    "            nn.Sigmoid()\n",
    "        )\n",
    "    \n",
    "    def forward(self, x, max_steps=MAX_STEPS):\n",
    "        b, c, H, W = x.shape\n",
    "        for _ in range(max_steps):\n",
    "            if H < self.dim or W < self.dim:\n",
    "                break\n",
    "            patches = F.unfold(x, kernel_size=self.dim, stride=self.dim)  # [b, dim*dim, np]\n",
    "            patches = patches.permute(0, 2, 1).contiguous()               # [b, np, dim*dim]\n",
    "            out = self.rule(patches.view(-1, self.dim*self.dim))          # [b*np, 1]\n",
    "            new_h, new_w = H // self.dim, W // self.dim\n",
    "            x = out.view(b, 1, new_h, new_w)\n",
    "            _, _, H, W = x.shape\n",
    "        return x.squeeze(1).view(b, -1)  # returns shape [b, new_h*new_w] or [b] if fully reduced\n",
    "\n",
    "def prepare_dataset(N, size):\n",
    "    data = []\n",
    "    for _ in tqdm(range(N), desc=\"Generating data\"):\n",
    "        p = np.random.uniform(0.1, 0.9)\n",
    "        L = generate_percolation_lattice(size, p)\n",
    "        data.append((L, check_percolation(L)))\n",
    "    return data\n",
    "\n",
    "def train_epoch(model, device, data, batch_size, opt, crit):\n",
    "    model.train()\n",
    "    total_loss = 0.0\n",
    "    for i in tqdm(range(0, len(data), batch_size), desc=\"Training\"):\n",
    "        batch = data[i:i+batch_size]\n",
    "        lattices = [first_coarse_graining(x, DIM) for x, _ in batch]  # list of [1,H',W']\n",
    "        inputs = torch.stack(lattices).to(device)                     # [B,1,H',W']\n",
    "        targets = torch.tensor([y for _, y in batch], dtype=torch.float32, device=device)\n",
    "        \n",
    "        opt.zero_grad()\n",
    "        outputs = model(inputs)                                       # [B] or [B,1]\n",
    "        loss = crit(outputs.view(-1), targets)\n",
    "        loss.backward()\n",
    "        opt.step()\n",
    "        total_loss += loss.item() * len(batch)\n",
    "    return total_loss / len(data)\n",
    "\n",
    "def evaluate(model, device, data):\n",
    "    model.eval()\n",
    "    correct = 0\n",
    "    with torch.no_grad():\n",
    "        for L, lbl in tqdm(data, desc=\"Evaluating\"):\n",
    "            t = first_coarse_graining(L, DIM).to(device).unsqueeze(0)  # [1,1,H',W']\n",
    "            out = model(t).item()\n",
    "            pred = (out > 0.5)\n",
    "            correct += (pred == bool(lbl))\n",
    "    return correct / len(data)\n",
    "\n",
    "\n"
   ]
  },
  {
   "cell_type": "code",
   "execution_count": 2,
   "id": "e4240f80-13c6-4049-bc6f-ab07f030b262",
   "metadata": {},
   "outputs": [
    {
     "name": "stderr",
     "output_type": "stream",
     "text": [
      "Generating data: 100%|████████████████████████████████████████████████████████████████████████| 10000/10000 [05:49<00:00, 28.58it/s]\n",
      "Generating data: 100%|██████████████████████████████████████████████████████████████████████████| 2000/2000 [01:11<00:00, 27.78it/s]\n",
      "Training: 100%|█████████████████████████████████████████████████████████████████████████████████| 1000/1000 [01:12<00:00, 13.70it/s]\n",
      "Evaluating: 100%|██████████████████████████████████████████████████████████████████████████████| 2000/2000 [00:10<00:00, 187.86it/s]\n"
     ]
    },
    {
     "name": "stdout",
     "output_type": "stream",
     "text": [
      "Epoch 1 — Loss: 0.2058, Acc: 98.60%\n"
     ]
    },
    {
     "name": "stderr",
     "output_type": "stream",
     "text": [
      "Training: 100%|█████████████████████████████████████████████████████████████████████████████████| 1000/1000 [01:13<00:00, 13.67it/s]\n",
      "Evaluating: 100%|██████████████████████████████████████████████████████████████████████████████| 2000/2000 [00:10<00:00, 182.17it/s]\n"
     ]
    },
    {
     "name": "stdout",
     "output_type": "stream",
     "text": [
      "Epoch 2 — Loss: 0.0426, Acc: 99.60%\n"
     ]
    },
    {
     "name": "stderr",
     "output_type": "stream",
     "text": [
      "Training: 100%|█████████████████████████████████████████████████████████████████████████████████| 1000/1000 [01:11<00:00, 13.91it/s]\n",
      "Evaluating: 100%|██████████████████████████████████████████████████████████████████████████████| 2000/2000 [00:09<00:00, 217.33it/s]\n"
     ]
    },
    {
     "name": "stdout",
     "output_type": "stream",
     "text": [
      "Epoch 3 — Loss: 0.0395, Acc: 99.15%\n"
     ]
    },
    {
     "name": "stderr",
     "output_type": "stream",
     "text": [
      "Training: 100%|█████████████████████████████████████████████████████████████████████████████████| 1000/1000 [01:13<00:00, 13.65it/s]\n",
      "Evaluating: 100%|██████████████████████████████████████████████████████████████████████████████| 2000/2000 [00:10<00:00, 186.95it/s]\n"
     ]
    },
    {
     "name": "stdout",
     "output_type": "stream",
     "text": [
      "Epoch 4 — Loss: 0.0395, Acc: 99.50%\n"
     ]
    },
    {
     "name": "stderr",
     "output_type": "stream",
     "text": [
      "Training: 100%|█████████████████████████████████████████████████████████████████████████████████| 1000/1000 [01:12<00:00, 13.85it/s]\n",
      "Evaluating: 100%|██████████████████████████████████████████████████████████████████████████████| 2000/2000 [00:10<00:00, 185.32it/s]"
     ]
    },
    {
     "name": "stdout",
     "output_type": "stream",
     "text": [
      "Epoch 5 — Loss: 0.0385, Acc: 99.50%\n"
     ]
    },
    {
     "name": "stderr",
     "output_type": "stream",
     "text": [
      "\n"
     ]
    }
   ],
   "source": [
    "# ----------------- Run -----------------\n",
    "DEVICE = torch.device('cuda' if torch.cuda.is_available() else 'cpu')\n",
    "SIZE = DIM ** POWER\n",
    "train_data = prepare_dataset(10_000, SIZE)\n",
    "test_data  = prepare_dataset(2_000, SIZE)\n",
    "\n",
    "model = PercolationModel(DIM).to(DEVICE)\n",
    "opt   = optim.Adam(model.parameters(), lr=1e-3)\n",
    "crit  = nn.BCELoss()\n",
    "\n",
    "for epoch in range(1, 6):\n",
    "    loss = train_epoch(model, DEVICE, train_data, 10, opt, crit)\n",
    "    acc  = evaluate(model, DEVICE, test_data)\n",
    "    print(f\"Epoch {epoch} — Loss: {loss:.4f}, Acc: {acc:.2%}\")"
   ]
  },
  {
   "cell_type": "code",
   "execution_count": 3,
   "id": "75279bf2-72a1-4eb9-ba88-ee4b4485d75f",
   "metadata": {},
   "outputs": [
    {
     "name": "stderr",
     "output_type": "stream",
     "text": [
      "Testing 256x256: 100%|███████████████████████████████████████████████████████████████████████████| 100/100 [00:00<00:00, 232.22it/s]\n"
     ]
    },
    {
     "name": "stdout",
     "output_type": "stream",
     "text": [
      "\n",
      "256x256 Results:\n",
      "Accuracy: 96.00%\n",
      "Avg prediction | Perc: 0.897\n",
      "Avg prediction | Non-Perc: 0.009\n"
     ]
    },
    {
     "name": "stderr",
     "output_type": "stream",
     "text": [
      "Testing 1024x1024: 100%|██████████████████████████████████████████████████████████████████████████| 100/100 [00:05<00:00, 18.04it/s]\n"
     ]
    },
    {
     "name": "stdout",
     "output_type": "stream",
     "text": [
      "\n",
      "1024x1024 Results:\n",
      "Accuracy: 8.00%\n",
      "Avg prediction | Perc: 0.233\n",
      "Avg prediction | Non-Perc: 0.999\n"
     ]
    },
    {
     "name": "stderr",
     "output_type": "stream",
     "text": [
      "Testing 4096x4096: 100%|██████████████████████████████████████████████████████████████████████████| 100/100 [01:13<00:00,  1.37it/s]\n"
     ]
    },
    {
     "name": "stdout",
     "output_type": "stream",
     "text": [
      "\n",
      "4096x4096 Results:\n",
      "Accuracy: 93.00%\n",
      "Avg prediction | Perc: 0.807\n",
      "Avg prediction | Non-Perc: 0.009\n"
     ]
    },
    {
     "name": "stderr",
     "output_type": "stream",
     "text": [
      "Testing 1024x1024: 100%|██████████████████████████████████████████████████████████████████████████| 200/200 [00:10<00:00, 18.86it/s]"
     ]
    },
    {
     "name": "stdout",
     "output_type": "stream",
     "text": [
      "\n",
      "1024x1024 Results:\n",
      "Accuracy: 63.50%\n",
      "Avg prediction | Perc: 0.999\n",
      "Avg prediction | Non-Perc: 0.999\n"
     ]
    },
    {
     "name": "stderr",
     "output_type": "stream",
     "text": [
      "\n"
     ]
    }
   ],
   "source": [
    "# Full testing\n",
    "def test_extensive_systems(model, dim, power, device='cpu', num_tests=10,\n",
    "                          system_size='standard', p_range=(0.1, 0.9), verbose=True):\n",
    "    \"\"\"\n",
    "    Tests model on raw lattices without initial coarse-graining\n",
    "    Args:\n",
    "        system_size: 'smaller' (dim^(power-1)), 'standard' (dim^power), or 'larger' (dim^(power+1))\n",
    "    \"\"\"\n",
    "    model.eval()\n",
    "    \n",
    "    # Calculate lattice size\n",
    "    size_power = {\n",
    "        'smaller': power - 1,\n",
    "        'standard': power,\n",
    "        'larger': power + 1\n",
    "    }[system_size]\n",
    "    \n",
    "    lattice_size = dim ** size_power\n",
    "    results = []\n",
    "    \n",
    "    for _ in tqdm(range(num_tests), desc=f\"Testing {lattice_size}x{lattice_size}\"):\n",
    "        # Generate raw lattice\n",
    "        p = np.random.uniform(*p_range)\n",
    "        lattice = generate_percolation_lattice(lattice_size, p)\n",
    "        true_label = check_percolation(lattice)\n",
    "        \n",
    "        # Directly convert to tensor (no coarse-graining)\n",
    "        input_tensor = torch.tensor(lattice, dtype=torch.float32)\n",
    "        input_tensor = input_tensor.unsqueeze(0).unsqueeze(0).to(device)  # [1,1,H,W]\n",
    "        \n",
    "        with torch.no_grad():\n",
    "            pred = model(input_tensor).item()\n",
    "        \n",
    "        results.append((lattice, true_label, pred))\n",
    "    \n",
    "    # Calculate metrics\n",
    "    threshold = 0.5\n",
    "    correct = sum(1 for _, lbl, pred in results if (pred > threshold) == lbl)\n",
    "    acc = correct / num_tests\n",
    "    \n",
    "    if verbose:\n",
    "        print(f\"\\n{lattice_size}x{lattice_size} Results:\")\n",
    "        print(f\"Accuracy: {acc:.2%}\")\n",
    "        print(f\"Avg prediction | Perc: {np.mean([p for _,l,p in results if l==1]):.3f}\")\n",
    "        print(f\"Avg prediction | Non-Perc: {np.mean([p for _,l,p in results if l==0]):.3f}\")\n",
    "    \n",
    "    return results\n",
    "\n",
    "# Test configurations\n",
    "test_configs = [\n",
    "    {'system_size': 'smaller', 'num_tests': 100, 'p_range': (0.1, 0.9)},\n",
    "    {'system_size': 'standard', 'num_tests': 100, 'p_range': (0.1, 0.9)},\n",
    "    {'system_size': 'larger', 'num_tests': 100, 'p_range': (0.1, 0.9)},\n",
    "    {'system_size': 'standard', 'num_tests': 200, 'p_range': (0.58, 0.61)}\n",
    "]\n",
    "\n",
    "# Unified test execution\n",
    "test_results = {}\n",
    "for config in test_configs:\n",
    "    key = f\"{config['system_size']}_{config['p_range'][0]}-{config['p_range'][1]}\"\n",
    "    test_results[key] = test_extensive_systems(\n",
    "        model=model,\n",
    "        dim=DIM,\n",
    "        power=POWER,\n",
    "        device=DEVICE,\n",
    "        **config\n",
    "    )\n",
    "\n",
    "\n",
    "# 1. Compute summary statistics for each config\n",
    "summaries = {}\n",
    "for key, results in test_results.items():\n",
    "    # results is a list of (lattice, true_label, pred) tuples\n",
    "    acc = sum((pred > 0.5) == lbl for _, lbl, pred in results) / len(results)\n",
    "    mean_perc     = np.mean([pred for _, lbl, pred in results if lbl == 1]) if any(lbl==1 for _,lbl,_ in results) else float('nan')\n",
    "    mean_non_perc = np.mean([pred for _, lbl, pred in results if lbl == 0]) if any(lbl==0 for _,lbl,_ in results) else float('nan')\n",
    "    summaries[key] = (acc, mean_perc, mean_non_perc)\n",
    "\n",
    "# 2. Write to file\n",
    "filename = f'Accuracy_{DIM}x{DIM}_via_AFS.txt'\n",
    "with open(filename, 'w') as f:\n",
    "    f.write(f'PercolationModel {DIM}×{DIM} results via AFS\\n')\n",
    "    f.write('='*40 + '\\n\\n')\n",
    "    for key, (acc, mp, mnp) in summaries.items():\n",
    "        f.write(f'Config: {key}\\n')\n",
    "        f.write(f'  → Accuracy       : {acc:.2%}\\n')\n",
    "        f.write(f'  → Avg if perc    : {mp:.3f}\\n')\n",
    "        f.write(f'  → Avg if non-perc: {mnp:.3f}\\n\\n')\n",
    "\n",
    "print(f\"Saved test summary to {filename}\")\n"
   ]
  },
  {
   "cell_type": "code",
   "execution_count": 4,
   "id": "1a63d7f0-f19b-4fa8-8588-a7074546d3b3",
   "metadata": {},
   "outputs": [
    {
     "data": {
      "image/png": "[encoded data removed]",
      "text/plain": [
       "<Figure size 1000x600 with 1 Axes>"
      ]
     },
     "metadata": {},
     "output_type": "display_data"
    }
   ],
   "source": [
    "# Visualization\n",
    "\n",
    "def visualize_rule(model, dim, device='cpu'):\n",
    "    import matplotlib.pyplot as plt\n",
    "    p_values = np.linspace(0, 1, 100)\n",
    "    model.eval()\n",
    "    rule_predictions = []\n",
    "\n",
    "    with torch.no_grad():\n",
    "        for p in p_values:\n",
    "            # Use a full dim×dim block to query the learned rule\n",
    "            input_block = torch.full((1, 1, dim, dim), p, device=device, dtype=torch.float32)\n",
    "            pred = model(input_block).item()\n",
    "            rule_predictions.append(pred)\n",
    "    \n",
    "    plt.figure(figsize=(10, 6))\n",
    "    plt.plot(p_values, rule_predictions, label=f'Learned {dim}×{dim} Rule')\n",
    "    plt.xlabel('Occupation Probability p')\n",
    "    plt.ylabel('Coarse-grained Percolation Probability')\n",
    "    plt.title(f'Learned {dim}×{dim} Rule via AFS')\n",
    "    plt.legend()\n",
    "    plt.grid(True)\n",
    "    plt.savefig(f'Learned_{dim}x{dim}_Rule_via_AFS.pdf')\n",
    "    plt.show()\n",
    "\n",
    "# Call it\n",
    "visualize_rule(model, DIM, DEVICE)\n"
   ]
  }
 ],
 "metadata": {
  "kernelspec": {
   "display_name": "Python 3 (ipykernel)",
   "language": "python",
   "name": "python3"
  },
  "language_info": {
   "codemirror_mode": {
    "name": "ipython",
    "version": 3
   },
   "file_extension": ".py",
   "mimetype": "text/x-python",
   "name": "python",
   "nbconvert_exporter": "python",
   "pygments_lexer": "ipython3",
   "version": "3.9.4"
  }
 },
 "nbformat": 4,
 "nbformat_minor": 5
}

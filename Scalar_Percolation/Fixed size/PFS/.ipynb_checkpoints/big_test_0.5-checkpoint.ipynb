{
 "cells": [
  {
   "cell_type": "code",
   "execution_count": 1,
   "id": "18c4b579-b7d6-457c-bdb5-7db7c9730bcd",
   "metadata": {},
   "outputs": [],
   "source": [
    "# Core Imports and Functions\n",
    "import numpy as np\n",
    "import torch\n",
    "import torch.nn as nn\n",
    "import torch.nn.functional as F\n",
    "import torch.optim as optim\n",
    "from scipy.ndimage import label\n",
    "from tqdm import tqdm\n",
    "import matplotlib.pyplot as plt\n",
    "from matplotlib.backends.backend_pdf import PdfPages\n",
    "import itertools\n",
    "from functools import lru_cache\n",
    "\n",
    "# Configuration Parameters\n",
    "DIM = 3        # Base dimension for patches (3×3)\n",
    "POWER = 4      # Lattice size = DIM^POWER\n",
    "MAX_STEPS = POWER + 5  # Maximum coarse-graining steps\n",
    "\n",
    "# NEW: Precompute percolation probabilities for all possible patch configurations\n",
    "@lru_cache(maxsize=None)\n",
    "def compute_patch_percolation_prob(dim):\n",
    "    \"\"\"Compute percolation probability for all possible patch configurations\"\"\"\n",
    "    size = dim * dim\n",
    "    # Generate all possible binary configurations\n",
    "    all_configs = np.array(list(itertools.product([0, 1], repeat=size)))\n",
    "    percolation_probs = np.zeros(size + 1)  # Indexed by number of occupied sites\n",
    "    \n",
    "    # Count configurations and percolating configurations for each density\n",
    "    config_counts = np.zeros(size + 1, dtype=int)\n",
    "    percolation_counts = np.zeros(size + 1, dtype=int)\n",
    "    \n",
    "    for config in all_configs:\n",
    "        lattice = config.reshape((dim, dim))\n",
    "        k = np.sum(config)  # Number of occupied sites\n",
    "        percolates = check_percolation(lattice)\n",
    "        config_counts[k] += 1\n",
    "        percolation_counts[k] += percolates\n",
    "    \n",
    "    # Compute probabilities\n",
    "    for k in range(size + 1):\n",
    "        if config_counts[k] > 0:\n",
    "            percolation_probs[k] = percolation_counts[k] / config_counts[k]\n",
    "    \n",
    "    return percolation_probs\n",
    "\n",
    "\n",
    "# NEW: First coarse-graining with probability mapping\n",
    "def first_coarse_graining(binary_lattice, dim):\n",
    "    \"\"\"Apply coarse-graining with percolation probability mapping\"\"\"\n",
    "    # Precompute percolation probabilities for this patch size\n",
    "    percolation_probs = compute_patch_percolation_prob(dim)\n",
    "    \n",
    "    # Convert to tensor and extract patches\n",
    "    t = torch.tensor(binary_lattice, dtype=torch.float32).unsqueeze(0).unsqueeze(0)\n",
    "    patches = F.unfold(t, kernel_size=dim, stride=dim)  # [1, dim*dim, num_patches]\n",
    "    patches = patches.permute(0, 2, 1)  # [1, num_patches, dim*dim]\n",
    "    \n",
    "    # Convert to numpy for processing\n",
    "    patches_np = patches.cpu().numpy()\n",
    "    \n",
    "    # Compute percolation probabilities for each patch\n",
    "    coarse_vals = []\n",
    "    for patch in patches_np[0]:\n",
    "        # Count occupied sites\n",
    "        occupied = np.sum(patch > 0.5)  # Threshold to handle floating point issues\n",
    "        # Get precomputed percolation probability\n",
    "        prob = percolation_probs[occupied]\n",
    "        coarse_vals.append(prob)\n",
    "    \n",
    "    # Convert back to tensor\n",
    "    coarse_vals = torch.tensor(coarse_vals, dtype=torch.float32).unsqueeze(0)  # [1, num_patches]\n",
    "    \n",
    "    H, W = binary_lattice.shape\n",
    "    new_h, new_w = H // dim, W // dim\n",
    "    return coarse_vals.view(1, 1, new_h, new_w)  # [1, 1, new_h, new_w]\n",
    "\n",
    "def generate_percolation_lattice(size, p):\n",
    "    return np.random.choice([0, 1], (size, size), p=[1 - p, p])\n",
    "\n",
    "def check_percolation(lattice):\n",
    "    labeled, _ = label(lattice)\n",
    "    \n",
    "    # Vertical percolation (top-bottom)\n",
    "    top = set(labeled[0, :]) - {0}\n",
    "    bottom = set(labeled[-1, :]) - {0}\n",
    "    vertical = bool(top & bottom)\n",
    "    \n",
    "    # Horizontal percolation (left-right)\n",
    "    left = set(labeled[:, 0]) - {0}\n",
    "    right = set(labeled[:, -1]) - {0}\n",
    "    horizontal = bool(left & right)\n",
    "    \n",
    "    return float(vertical or horizontal)\n",
    "\n",
    "class PercolationModel(nn.Module):\n",
    "    def __init__(self, dim):\n",
    "        super().__init__()\n",
    "        self.dim = dim\n",
    "        self.rule = nn.Sequential(\n",
    "            nn.Linear(dim * dim, 64),\n",
    "            nn.ReLU(),\n",
    "            nn.Linear(64, 1),\n",
    "            nn.Sigmoid()\n",
    "        )\n",
    "    \n",
    "    def forward(self, x, max_steps=MAX_STEPS):\n",
    "        b, c, H, W = x.shape\n",
    "        \n",
    "        for _ in range(max_steps):\n",
    "            if H < self.dim or W < self.dim:\n",
    "                break\n",
    "            \n",
    "            # Extract dim×dim patches\n",
    "            patches = F.unfold(x, kernel_size=self.dim, stride=self.dim)\n",
    "            patches = patches.permute(0, 2, 1).contiguous()  # (B, #patches, dim*dim)\n",
    "            patches = patches.view(-1, self.dim * self.dim)   # (B * #patches, dim*dim)\n",
    "            \n",
    "            out = self.rule(patches)  # (B * #patches, 1)\n",
    "            \n",
    "            new_h, new_w = H // self.dim, W // self.dim\n",
    "            x = out.view(b, 1, new_h, new_w)  # (B, 1, new_h, new_w)\n",
    "            _, c, H, W = x.shape\n",
    "\n",
    "        return x.squeeze()  # (B,)\n",
    "\n",
    "def prepare_dataset(num_samples, lattice_size):\n",
    "    data = []\n",
    "    for _ in tqdm(range(num_samples), desc=\"Generating data\"):\n",
    "        p = np.random.uniform(0, 1)\n",
    "        lattice = generate_percolation_lattice(lattice_size, p)\n",
    "        lbl = check_percolation(lattice)\n",
    "        data.append((lattice, lbl))\n",
    "    return data\n",
    "\n",
    "def train_epoch(model, device, train_data, batch_size, optimizer, criterion, dim):\n",
    "    model.train()\n",
    "    running_loss = 0.0\n",
    "    for i in tqdm(range(0, len(train_data), batch_size), desc=\"Training\"):\n",
    "        batch = train_data[i : i + batch_size]\n",
    "        \n",
    "        # MODIFIED: Apply first coarse-graining with probability mapping\n",
    "        lattices = [first_coarse_graining(x, dim) for x, _ in batch]  # Each is [1,1,H',W']\n",
    "        \n",
    "        # Stack into a (B, 1, H, W) tensor\n",
    "        inputs = torch.cat(lattices, dim=0).to(device)  # [B, 1, H', W']\n",
    "        targets = torch.tensor([y for _, y in batch], dtype=torch.float32).to(device)\n",
    "        \n",
    "        optimizer.zero_grad()\n",
    "        outputs = model(inputs, max_steps=MAX_STEPS)  # (B,) after .squeeze()\n",
    "        loss = criterion(outputs, targets)\n",
    "        loss.backward()\n",
    "        optimizer.step()\n",
    "        \n",
    "        running_loss += loss.item() * len(batch)\n",
    "    \n",
    "    return running_loss / len(train_data)\n",
    "\n",
    "def test_systems(model, dim, power, device=\"cpu\", num_tests=10,\n",
    "                 system_size=\"standard\", p_range=(0, 1), verbose=True):\n",
    "    model.eval()\n",
    "    \n",
    "    size_power = {\n",
    "        \"smaller\": power - 1,\n",
    "        \"standard\": power,\n",
    "        \"larger\": power + 1\n",
    "    }[system_size]\n",
    "    \n",
    "    lattice_size = dim ** size_power\n",
    "    results = []\n",
    "    \n",
    "    for _ in tqdm(range(num_tests), desc=f\"Testing {lattice_size}x{lattice_size}\"):\n",
    "        p = np.random.uniform(*p_range)\n",
    "        lattice = generate_percolation_lattice(lattice_size, p)\n",
    "        true_label = check_percolation(lattice)\n",
    "        \n",
    "        # MODIFIED: Apply first coarse-graining with probability mapping\n",
    "        input_tensor = first_coarse_graining(lattice, dim).to(device)  # [1,1,H',W']\n",
    "        \n",
    "        with torch.no_grad():\n",
    "            pred = model(input_tensor).item()\n",
    "        \n",
    "        results.append((lattice, true_label, pred))\n",
    "    \n",
    "    threshold = 0.5\n",
    "    correct = sum(1 for _, lbl, pred in results if (pred > threshold) == lbl)\n",
    "    acc = correct / num_tests\n",
    "    \n",
    "    if verbose:\n",
    "        print(f\"\\n{lattice_size}x{lattice_size} Results:\")\n",
    "        print(f\"Accuracy: {acc:.2%}\")\n",
    "        print(f\"Avg prediction | Perc: {np.mean([p for _, l, p in results if l == 1]):.3f}\")\n",
    "        print(f\"Avg prediction | Non-Perc: {np.mean([p for _, l, p in results if l == 0]):.3f}\")\n",
    "    \n",
    "    return results"
   ]
  },
  {
   "cell_type": "code",
   "execution_count": 2,
   "id": "fa4cc7a0-b193-495a-aa5f-ac81c6f04615",
   "metadata": {},
   "outputs": [],
   "source": [
    "# Initialization\n",
    "DEVICE = torch.device(\"cuda\" if torch.cuda.is_available() else \"cpu\")\n",
    "SIZE = DIM ** POWER\n",
    "TRAIN_SAMPLES = 10000\n",
    "BATCH_SIZE = 10\n",
    "EPOCHS = 5\n",
    "\n",
    "def run_experiment(DIM, POWER, run_num):\n",
    "    SIZE = DIM ** POWER\n",
    "    MAX_STEPS = POWER + 5\n",
    "    \n",
    "    # Generate training dataset\n",
    "    train_data = prepare_dataset(TRAIN_SAMPLES, SIZE)\n",
    "    \n",
    "    # Initialize model, optimizer, loss\n",
    "    model = PercolationModel(dim=DIM).to(DEVICE)\n",
    "    optimizer = optim.Adam(model.parameters(), lr=0.001)\n",
    "    criterion = nn.BCELoss()\n",
    "\n",
    "    # Training loop\n",
    "    for epoch in range(EPOCHS):\n",
    "        loss = train_epoch(model, DEVICE, train_data, BATCH_SIZE, optimizer, criterion, DIM)\n",
    "\n",
    "    # Testing configurations\n",
    "    test_configs = [\n",
    "        {\"system_size\": \"smaller\", \"num_tests\": 100, \"p_range\": (0.1, 0.9)},\n",
    "        {\"system_size\": \"standard\", \"num_tests\": 100, \"p_range\": (0.1, 0.9)},\n",
    "        {\"system_size\": \"larger\", \"num_tests\": 100, \"p_range\": (0.1, 0.9)},\n",
    "        {\"system_size\": \"standard\", \"num_tests\": 200, \"p_range\": (0.58, 0.61)},\n",
    "    ]\n",
    "    \n",
    "    test_results = {}\n",
    "    for config in test_configs:\n",
    "        key = f\"{config['system_size']}_{config['p_range'][0]}-{config['p_range'][1]}\"\n",
    "        test_results[key] = test_systems(\n",
    "            model=model,\n",
    "            dim=DIM,\n",
    "            power=POWER,\n",
    "            device=DEVICE,\n",
    "            **config\n",
    "        )\n",
    "\n",
    "    # Summarize test results\n",
    "    summaries = {}\n",
    "    for key, results in test_results.items():\n",
    "        acc = sum((pred > 0.5) == lbl for _, lbl, pred in results) / len(results)\n",
    "        mean_perc = np.nanmean([pred for _, lbl, pred in results if lbl == 1])\n",
    "        mean_non_perc = np.nanmean([pred for _, lbl, pred in results if lbl == 0])\n",
    "        summaries[key] = (acc, mean_perc, mean_non_perc)\n",
    "\n",
    "    # Generate rule-projection data by feeding 3×3 patch of constant p\n",
    "    ps_coarse = np.linspace(0.0, 1.0, 101)\n",
    "    ps_fine = np.linspace(0.5, 0.7, 201)\n",
    "    ps = np.unique(np.concatenate((ps_coarse, ps_fine)))\n",
    "    ps.sort()\n",
    "\n",
    "    mean_outputs = []\n",
    "    with torch.no_grad():\n",
    "        for p in ps:\n",
    "            # Create a single 3×3 patch with all entries = p\n",
    "            patch = np.full((DIM * DIM,), p, dtype=np.float32)        # shape: (dim*dim,)\n",
    "            patch_tensor = torch.from_numpy(patch).unsqueeze(0).to(DEVICE)  # (1, dim*dim)\n",
    "            out = model.rule(patch_tensor).cpu().numpy().item()        # scalar\n",
    "            mean_outputs.append(out)\n",
    "\n",
    "    return summaries, (ps, mean_outputs)"
   ]
  },
  {
   "cell_type": "code",
   "execution_count": 3,
   "id": "ee36c515-844f-4396-97ae-dcb6e9b1df2c",
   "metadata": {
    "scrolled": true
   },
   "outputs": [
    {
     "name": "stdout",
     "output_type": "stream",
     "text": [
      "\n",
      "Running 3^2 - Run 1/10\n"
     ]
    },
    {
     "name": "stderr",
     "output_type": "stream",
     "text": [
      "Generating data: 100%|██████████████████████████████████████████████████████████████████████| 10000/10000 [00:01<00:00, 9428.09it/s]\n",
      "Training: 100%|████████████████████████████████████████████████████████████████████████████████| 1000/1000 [00:02<00:00, 346.27it/s]\n",
      "Training: 100%|████████████████████████████████████████████████████████████████████████████████| 1000/1000 [00:02<00:00, 345.15it/s]\n",
      "Training: 100%|████████████████████████████████████████████████████████████████████████████████| 1000/1000 [00:03<00:00, 312.48it/s]\n",
      "Training: 100%|████████████████████████████████████████████████████████████████████████████████| 1000/1000 [00:02<00:00, 338.97it/s]\n",
      "Training: 100%|████████████████████████████████████████████████████████████████████████████████| 1000/1000 [00:02<00:00, 346.62it/s]\n",
      "Testing 3x3: 100%|██████████████████████████████████████████████████████████████████████████████| 100/100 [00:00<00:00, 2962.54it/s]\n"
     ]
    },
    {
     "name": "stdout",
     "output_type": "stream",
     "text": [
      "\n",
      "3x3 Results:\n",
      "Accuracy: 91.00%\n",
      "Avg prediction | Perc: 0.835\n",
      "Avg prediction | Non-Perc: 0.115\n"
     ]
    },
    {
     "name": "stderr",
     "output_type": "stream",
     "text": [
      "Testing 9x9: 100%|██████████████████████████████████████████████████████████████████████████████| 100/100 [00:00<00:00, 1771.01it/s]\n"
     ]
    },
    {
     "name": "stdout",
     "output_type": "stream",
     "text": [
      "\n",
      "9x9 Results:\n",
      "Accuracy: 92.00%\n",
      "Avg prediction | Perc: 0.908\n",
      "Avg prediction | Non-Perc: 0.088\n"
     ]
    },
    {
     "name": "stderr",
     "output_type": "stream",
     "text": [
      "Testing 27x27: 100%|█████████████████████████████████████████████████████████████████████████████| 100/100 [00:00<00:00, 868.04it/s]\n"
     ]
    },
    {
     "name": "stdout",
     "output_type": "stream",
     "text": [
      "\n",
      "27x27 Results:\n",
      "Accuracy: 95.00%\n",
      "Avg prediction | Perc: 0.976\n",
      "Avg prediction | Non-Perc: 0.091\n"
     ]
    },
    {
     "name": "stderr",
     "output_type": "stream",
     "text": [
      "Testing 9x9: 100%|██████████████████████████████████████████████████████████████████████████████| 200/200 [00:00<00:00, 2010.53it/s]\n"
     ]
    },
    {
     "name": "stdout",
     "output_type": "stream",
     "text": [
      "\n",
      "9x9 Results:\n",
      "Accuracy: 75.50%\n",
      "Avg prediction | Perc: 0.856\n",
      "Avg prediction | Non-Perc: 0.618\n",
      "\n",
      "Running 3^2 - Run 2/10\n"
     ]
    },
    {
     "name": "stderr",
     "output_type": "stream",
     "text": [
      "Generating data: 100%|█████████████████████████████████████████████████████████████████████| 10000/10000 [00:00<00:00, 10415.49it/s]\n",
      "Training: 100%|████████████████████████████████████████████████████████████████████████████████| 1000/1000 [00:02<00:00, 344.98it/s]\n",
      "Training: 100%|████████████████████████████████████████████████████████████████████████████████| 1000/1000 [00:02<00:00, 344.80it/s]\n",
      "Training: 100%|████████████████████████████████████████████████████████████████████████████████| 1000/1000 [00:02<00:00, 345.41it/s]\n",
      "Training: 100%|████████████████████████████████████████████████████████████████████████████████| 1000/1000 [00:04<00:00, 244.08it/s]\n",
      "Training: 100%|████████████████████████████████████████████████████████████████████████████████| 1000/1000 [00:03<00:00, 328.72it/s]\n",
      "Testing 3x3: 100%|██████████████████████████████████████████████████████████████████████████████| 100/100 [00:00<00:00, 2915.28it/s]\n"
     ]
    },
    {
     "name": "stdout",
     "output_type": "stream",
     "text": [
      "\n",
      "3x3 Results:\n",
      "Accuracy: 89.00%\n",
      "Avg prediction | Perc: 0.825\n",
      "Avg prediction | Non-Perc: 0.092\n"
     ]
    },
    {
     "name": "stderr",
     "output_type": "stream",
     "text": [
      "Testing 9x9: 100%|██████████████████████████████████████████████████████████████████████████████| 100/100 [00:00<00:00, 1742.66it/s]\n"
     ]
    },
    {
     "name": "stdout",
     "output_type": "stream",
     "text": [
      "\n",
      "9x9 Results:\n",
      "Accuracy: 92.00%\n",
      "Avg prediction | Perc: 0.896\n",
      "Avg prediction | Non-Perc: 0.098\n"
     ]
    },
    {
     "name": "stderr",
     "output_type": "stream",
     "text": [
      "Testing 27x27: 100%|█████████████████████████████████████████████████████████████████████████████| 100/100 [00:00<00:00, 821.63it/s]\n"
     ]
    },
    {
     "name": "stdout",
     "output_type": "stream",
     "text": [
      "\n",
      "27x27 Results:\n",
      "Accuracy: 99.00%\n",
      "Avg prediction | Perc: 0.992\n",
      "Avg prediction | Non-Perc: 0.035\n"
     ]
    },
    {
     "name": "stderr",
     "output_type": "stream",
     "text": [
      "Testing 9x9: 100%|██████████████████████████████████████████████████████████████████████████████| 200/200 [00:00<00:00, 1806.91it/s]\n"
     ]
    },
    {
     "name": "stdout",
     "output_type": "stream",
     "text": [
      "\n",
      "9x9 Results:\n",
      "Accuracy: 78.00%\n",
      "Avg prediction | Perc: 0.837\n",
      "Avg prediction | Non-Perc: 0.557\n",
      "\n",
      "Running 3^2 - Run 3/10\n"
     ]
    },
    {
     "name": "stderr",
     "output_type": "stream",
     "text": [
      "Generating data: 100%|█████████████████████████████████████████████████████████████████████| 10000/10000 [00:00<00:00, 10384.95it/s]\n",
      "Training: 100%|████████████████████████████████████████████████████████████████████████████████| 1000/1000 [00:03<00:00, 306.33it/s]\n",
      "Training: 100%|████████████████████████████████████████████████████████████████████████████████| 1000/1000 [00:03<00:00, 328.20it/s]\n",
      "Training: 100%|████████████████████████████████████████████████████████████████████████████████| 1000/1000 [00:03<00:00, 311.91it/s]\n",
      "Training: 100%|████████████████████████████████████████████████████████████████████████████████| 1000/1000 [00:03<00:00, 329.22it/s]\n",
      "Training: 100%|████████████████████████████████████████████████████████████████████████████████| 1000/1000 [00:02<00:00, 358.71it/s]\n",
      "Testing 3x3: 100%|██████████████████████████████████████████████████████████████████████████████| 100/100 [00:00<00:00, 3752.82it/s]\n"
     ]
    },
    {
     "name": "stdout",
     "output_type": "stream",
     "text": [
      "\n",
      "3x3 Results:\n",
      "Accuracy: 91.00%\n",
      "Avg prediction | Perc: 0.879\n",
      "Avg prediction | Non-Perc: 0.164\n"
     ]
    },
    {
     "name": "stderr",
     "output_type": "stream",
     "text": [
      "Testing 9x9: 100%|██████████████████████████████████████████████████████████████████████████████| 100/100 [00:00<00:00, 2092.42it/s]\n"
     ]
    },
    {
     "name": "stdout",
     "output_type": "stream",
     "text": [
      "\n",
      "9x9 Results:\n",
      "Accuracy: 95.00%\n",
      "Avg prediction | Perc: 0.909\n",
      "Avg prediction | Non-Perc: 0.081\n"
     ]
    },
    {
     "name": "stderr",
     "output_type": "stream",
     "text": [
      "Testing 27x27: 100%|█████████████████████████████████████████████████████████████████████████████| 100/100 [00:00<00:00, 833.07it/s]\n"
     ]
    },
    {
     "name": "stdout",
     "output_type": "stream",
     "text": [
      "\n",
      "27x27 Results:\n",
      "Accuracy: 97.00%\n",
      "Avg prediction | Perc: 0.960\n",
      "Avg prediction | Non-Perc: 0.056\n"
     ]
    },
    {
     "name": "stderr",
     "output_type": "stream",
     "text": [
      "Testing 9x9: 100%|██████████████████████████████████████████████████████████████████████████████| 200/200 [00:00<00:00, 1810.81it/s]\n"
     ]
    },
    {
     "name": "stdout",
     "output_type": "stream",
     "text": [
      "\n",
      "9x9 Results:\n",
      "Accuracy: 76.50%\n",
      "Avg prediction | Perc: 0.847\n",
      "Avg prediction | Non-Perc: 0.573\n",
      "\n",
      "Running 3^2 - Run 4/10\n"
     ]
    },
    {
     "name": "stderr",
     "output_type": "stream",
     "text": [
      "Generating data: 100%|█████████████████████████████████████████████████████████████████████| 10000/10000 [00:00<00:00, 10611.29it/s]\n",
      "Training: 100%|████████████████████████████████████████████████████████████████████████████████| 1000/1000 [00:02<00:00, 365.57it/s]\n",
      "Training: 100%|████████████████████████████████████████████████████████████████████████████████| 1000/1000 [00:02<00:00, 359.51it/s]\n",
      "Training: 100%|████████████████████████████████████████████████████████████████████████████████| 1000/1000 [00:02<00:00, 365.72it/s]\n",
      "Training: 100%|████████████████████████████████████████████████████████████████████████████████| 1000/1000 [00:02<00:00, 352.03it/s]\n",
      "Training: 100%|████████████████████████████████████████████████████████████████████████████████| 1000/1000 [00:03<00:00, 324.80it/s]\n",
      "Testing 3x3: 100%|██████████████████████████████████████████████████████████████████████████████| 100/100 [00:00<00:00, 3098.29it/s]\n"
     ]
    },
    {
     "name": "stdout",
     "output_type": "stream",
     "text": [
      "\n",
      "3x3 Results:\n",
      "Accuracy: 95.00%\n",
      "Avg prediction | Perc: 0.892\n",
      "Avg prediction | Non-Perc: 0.078\n"
     ]
    },
    {
     "name": "stderr",
     "output_type": "stream",
     "text": [
      "Testing 9x9: 100%|██████████████████████████████████████████████████████████████████████████████| 100/100 [00:00<00:00, 1820.33it/s]\n"
     ]
    },
    {
     "name": "stdout",
     "output_type": "stream",
     "text": [
      "\n",
      "9x9 Results:\n",
      "Accuracy: 91.00%\n",
      "Avg prediction | Perc: 0.895\n",
      "Avg prediction | Non-Perc: 0.116\n"
     ]
    },
    {
     "name": "stderr",
     "output_type": "stream",
     "text": [
      "Testing 27x27: 100%|█████████████████████████████████████████████████████████████████████████████| 100/100 [00:00<00:00, 793.69it/s]\n"
     ]
    },
    {
     "name": "stdout",
     "output_type": "stream",
     "text": [
      "\n",
      "27x27 Results:\n",
      "Accuracy: 94.00%\n",
      "Avg prediction | Perc: 0.960\n",
      "Avg prediction | Non-Perc: 0.090\n"
     ]
    },
    {
     "name": "stderr",
     "output_type": "stream",
     "text": [
      "Testing 9x9: 100%|██████████████████████████████████████████████████████████████████████████████| 200/200 [00:00<00:00, 2045.21it/s]\n"
     ]
    },
    {
     "name": "stdout",
     "output_type": "stream",
     "text": [
      "\n",
      "9x9 Results:\n",
      "Accuracy: 79.50%\n",
      "Avg prediction | Perc: 0.832\n",
      "Avg prediction | Non-Perc: 0.563\n",
      "\n",
      "Running 3^2 - Run 5/10\n"
     ]
    },
    {
     "name": "stderr",
     "output_type": "stream",
     "text": [
      "Generating data: 100%|██████████████████████████████████████████████████████████████████████| 10000/10000 [00:01<00:00, 9777.36it/s]\n",
      "Training: 100%|████████████████████████████████████████████████████████████████████████████████| 1000/1000 [00:03<00:00, 327.02it/s]\n",
      "Training: 100%|████████████████████████████████████████████████████████████████████████████████| 1000/1000 [00:02<00:00, 343.08it/s]\n",
      "Training: 100%|████████████████████████████████████████████████████████████████████████████████| 1000/1000 [00:02<00:00, 342.56it/s]\n",
      "Training: 100%|████████████████████████████████████████████████████████████████████████████████| 1000/1000 [00:03<00:00, 311.10it/s]\n",
      "Training: 100%|████████████████████████████████████████████████████████████████████████████████| 1000/1000 [00:02<00:00, 339.47it/s]\n",
      "Testing 3x3: 100%|██████████████████████████████████████████████████████████████████████████████| 100/100 [00:00<00:00, 3230.36it/s]\n"
     ]
    },
    {
     "name": "stdout",
     "output_type": "stream",
     "text": [
      "\n",
      "3x3 Results:\n",
      "Accuracy: 92.00%\n",
      "Avg prediction | Perc: 0.878\n",
      "Avg prediction | Non-Perc: 0.133\n"
     ]
    },
    {
     "name": "stderr",
     "output_type": "stream",
     "text": [
      "Testing 9x9: 100%|██████████████████████████████████████████████████████████████████████████████| 100/100 [00:00<00:00, 1832.19it/s]\n"
     ]
    },
    {
     "name": "stdout",
     "output_type": "stream",
     "text": [
      "\n",
      "9x9 Results:\n",
      "Accuracy: 95.00%\n",
      "Avg prediction | Perc: 0.918\n",
      "Avg prediction | Non-Perc: 0.086\n"
     ]
    },
    {
     "name": "stderr",
     "output_type": "stream",
     "text": [
      "Testing 27x27: 100%|█████████████████████████████████████████████████████████████████████████████| 100/100 [00:00<00:00, 892.38it/s]\n"
     ]
    },
    {
     "name": "stdout",
     "output_type": "stream",
     "text": [
      "\n",
      "27x27 Results:\n",
      "Accuracy: 96.00%\n",
      "Avg prediction | Perc: 0.919\n",
      "Avg prediction | Non-Perc: 0.036\n"
     ]
    },
    {
     "name": "stderr",
     "output_type": "stream",
     "text": [
      "Testing 9x9: 100%|██████████████████████████████████████████████████████████████████████████████| 200/200 [00:00<00:00, 1834.14it/s]\n"
     ]
    },
    {
     "name": "stdout",
     "output_type": "stream",
     "text": [
      "\n",
      "9x9 Results:\n",
      "Accuracy: 76.00%\n",
      "Avg prediction | Perc: 0.750\n",
      "Avg prediction | Non-Perc: 0.476\n",
      "\n",
      "Running 3^2 - Run 6/10\n"
     ]
    },
    {
     "name": "stderr",
     "output_type": "stream",
     "text": [
      "Generating data: 100%|█████████████████████████████████████████████████████████████████████| 10000/10000 [00:00<00:00, 10414.03it/s]\n",
      "Training: 100%|████████████████████████████████████████████████████████████████████████████████| 1000/1000 [00:02<00:00, 343.04it/s]\n",
      "Training: 100%|████████████████████████████████████████████████████████████████████████████████| 1000/1000 [00:02<00:00, 343.08it/s]\n",
      "Training: 100%|████████████████████████████████████████████████████████████████████████████████| 1000/1000 [00:02<00:00, 360.04it/s]\n",
      "Training: 100%|████████████████████████████████████████████████████████████████████████████████| 1000/1000 [00:02<00:00, 372.69it/s]\n",
      "Training: 100%|████████████████████████████████████████████████████████████████████████████████| 1000/1000 [00:02<00:00, 367.67it/s]\n",
      "Testing 3x3: 100%|██████████████████████████████████████████████████████████████████████████████| 100/100 [00:00<00:00, 3109.75it/s]\n"
     ]
    },
    {
     "name": "stdout",
     "output_type": "stream",
     "text": [
      "\n",
      "3x3 Results:\n",
      "Accuracy: 91.00%\n",
      "Avg prediction | Perc: 0.853\n",
      "Avg prediction | Non-Perc: 0.117\n"
     ]
    },
    {
     "name": "stderr",
     "output_type": "stream",
     "text": [
      "Testing 9x9: 100%|██████████████████████████████████████████████████████████████████████████████| 100/100 [00:00<00:00, 1873.59it/s]\n"
     ]
    },
    {
     "name": "stdout",
     "output_type": "stream",
     "text": [
      "\n",
      "9x9 Results:\n",
      "Accuracy: 93.00%\n",
      "Avg prediction | Perc: 0.865\n",
      "Avg prediction | Non-Perc: 0.092\n"
     ]
    },
    {
     "name": "stderr",
     "output_type": "stream",
     "text": [
      "Testing 27x27: 100%|█████████████████████████████████████████████████████████████████████████████| 100/100 [00:00<00:00, 850.74it/s]\n"
     ]
    },
    {
     "name": "stdout",
     "output_type": "stream",
     "text": [
      "\n",
      "27x27 Results:\n",
      "Accuracy: 93.00%\n",
      "Avg prediction | Perc: 0.896\n",
      "Avg prediction | Non-Perc: 0.041\n"
     ]
    },
    {
     "name": "stderr",
     "output_type": "stream",
     "text": [
      "Testing 9x9: 100%|██████████████████████████████████████████████████████████████████████████████| 200/200 [00:00<00:00, 2083.45it/s]\n"
     ]
    },
    {
     "name": "stdout",
     "output_type": "stream",
     "text": [
      "\n",
      "9x9 Results:\n",
      "Accuracy: 77.50%\n",
      "Avg prediction | Perc: 0.803\n",
      "Avg prediction | Non-Perc: 0.530\n",
      "\n",
      "Running 3^2 - Run 7/10\n"
     ]
    },
    {
     "name": "stderr",
     "output_type": "stream",
     "text": [
      "Generating data: 100%|█████████████████████████████████████████████████████████████████████| 10000/10000 [00:00<00:00, 10645.43it/s]\n",
      "Training: 100%|████████████████████████████████████████████████████████████████████████████████| 1000/1000 [00:02<00:00, 378.50it/s]\n",
      "Training: 100%|████████████████████████████████████████████████████████████████████████████████| 1000/1000 [00:02<00:00, 371.04it/s]\n",
      "Training: 100%|████████████████████████████████████████████████████████████████████████████████| 1000/1000 [00:02<00:00, 368.34it/s]\n",
      "Training: 100%|████████████████████████████████████████████████████████████████████████████████| 1000/1000 [00:02<00:00, 354.22it/s]\n",
      "Training: 100%|████████████████████████████████████████████████████████████████████████████████| 1000/1000 [00:02<00:00, 356.51it/s]\n",
      "Testing 3x3: 100%|██████████████████████████████████████████████████████████████████████████████| 100/100 [00:00<00:00, 3077.80it/s]\n"
     ]
    },
    {
     "name": "stdout",
     "output_type": "stream",
     "text": [
      "\n",
      "3x3 Results:\n",
      "Accuracy: 86.00%\n",
      "Avg prediction | Perc: 0.837\n",
      "Avg prediction | Non-Perc: 0.162\n"
     ]
    },
    {
     "name": "stderr",
     "output_type": "stream",
     "text": [
      "Testing 9x9: 100%|██████████████████████████████████████████████████████████████████████████████| 100/100 [00:00<00:00, 1796.27it/s]\n"
     ]
    },
    {
     "name": "stdout",
     "output_type": "stream",
     "text": [
      "\n",
      "9x9 Results:\n",
      "Accuracy: 91.00%\n",
      "Avg prediction | Perc: 0.888\n",
      "Avg prediction | Non-Perc: 0.108\n"
     ]
    },
    {
     "name": "stderr",
     "output_type": "stream",
     "text": [
      "Testing 27x27: 100%|█████████████████████████████████████████████████████████████████████████████| 100/100 [00:00<00:00, 858.22it/s]\n"
     ]
    },
    {
     "name": "stdout",
     "output_type": "stream",
     "text": [
      "\n",
      "27x27 Results:\n",
      "Accuracy: 97.00%\n",
      "Avg prediction | Perc: 0.953\n",
      "Avg prediction | Non-Perc: 0.039\n"
     ]
    },
    {
     "name": "stderr",
     "output_type": "stream",
     "text": [
      "Testing 9x9: 100%|██████████████████████████████████████████████████████████████████████████████| 200/200 [00:00<00:00, 1952.64it/s]\n"
     ]
    },
    {
     "name": "stdout",
     "output_type": "stream",
     "text": [
      "\n",
      "9x9 Results:\n",
      "Accuracy: 72.50%\n",
      "Avg prediction | Perc: 0.793\n",
      "Avg prediction | Non-Perc: 0.597\n",
      "\n",
      "Running 3^2 - Run 8/10\n"
     ]
    },
    {
     "name": "stderr",
     "output_type": "stream",
     "text": [
      "Generating data: 100%|█████████████████████████████████████████████████████████████████████| 10000/10000 [00:00<00:00, 10289.01it/s]\n",
      "Training: 100%|████████████████████████████████████████████████████████████████████████████████| 1000/1000 [00:03<00:00, 323.54it/s]\n",
      "Training: 100%|████████████████████████████████████████████████████████████████████████████████| 1000/1000 [00:02<00:00, 356.86it/s]\n",
      "Training: 100%|████████████████████████████████████████████████████████████████████████████████| 1000/1000 [00:02<00:00, 347.98it/s]\n",
      "Training: 100%|████████████████████████████████████████████████████████████████████████████████| 1000/1000 [00:02<00:00, 348.34it/s]\n",
      "Training: 100%|████████████████████████████████████████████████████████████████████████████████| 1000/1000 [00:02<00:00, 338.02it/s]\n",
      "Testing 3x3: 100%|██████████████████████████████████████████████████████████████████████████████| 100/100 [00:00<00:00, 3206.19it/s]\n"
     ]
    },
    {
     "name": "stdout",
     "output_type": "stream",
     "text": [
      "\n",
      "3x3 Results:\n",
      "Accuracy: 94.00%\n",
      "Avg prediction | Perc: 0.901\n",
      "Avg prediction | Non-Perc: 0.126\n"
     ]
    },
    {
     "name": "stderr",
     "output_type": "stream",
     "text": [
      "Testing 9x9: 100%|██████████████████████████████████████████████████████████████████████████████| 100/100 [00:00<00:00, 1885.74it/s]\n"
     ]
    },
    {
     "name": "stdout",
     "output_type": "stream",
     "text": [
      "\n",
      "9x9 Results:\n",
      "Accuracy: 89.00%\n",
      "Avg prediction | Perc: 0.881\n",
      "Avg prediction | Non-Perc: 0.098\n"
     ]
    },
    {
     "name": "stderr",
     "output_type": "stream",
     "text": [
      "Testing 27x27: 100%|█████████████████████████████████████████████████████████████████████████████| 100/100 [00:00<00:00, 851.42it/s]\n"
     ]
    },
    {
     "name": "stdout",
     "output_type": "stream",
     "text": [
      "\n",
      "27x27 Results:\n",
      "Accuracy: 97.00%\n",
      "Avg prediction | Perc: 0.989\n",
      "Avg prediction | Non-Perc: 0.078\n"
     ]
    },
    {
     "name": "stderr",
     "output_type": "stream",
     "text": [
      "Testing 9x9: 100%|██████████████████████████████████████████████████████████████████████████████| 200/200 [00:00<00:00, 2085.57it/s]\n"
     ]
    },
    {
     "name": "stdout",
     "output_type": "stream",
     "text": [
      "\n",
      "9x9 Results:\n",
      "Accuracy: 74.50%\n",
      "Avg prediction | Perc: 0.851\n",
      "Avg prediction | Non-Perc: 0.632\n",
      "\n",
      "Running 3^2 - Run 9/10\n"
     ]
    },
    {
     "name": "stderr",
     "output_type": "stream",
     "text": [
      "Generating data: 100%|█████████████████████████████████████████████████████████████████████| 10000/10000 [00:00<00:00, 10624.59it/s]\n",
      "Training: 100%|████████████████████████████████████████████████████████████████████████████████| 1000/1000 [00:02<00:00, 364.75it/s]\n",
      "Training: 100%|████████████████████████████████████████████████████████████████████████████████| 1000/1000 [00:02<00:00, 358.50it/s]\n",
      "Training: 100%|████████████████████████████████████████████████████████████████████████████████| 1000/1000 [00:02<00:00, 360.86it/s]\n",
      "Training: 100%|████████████████████████████████████████████████████████████████████████████████| 1000/1000 [00:02<00:00, 358.22it/s]\n",
      "Training: 100%|████████████████████████████████████████████████████████████████████████████████| 1000/1000 [00:02<00:00, 352.79it/s]\n",
      "Testing 3x3: 100%|██████████████████████████████████████████████████████████████████████████████| 100/100 [00:00<00:00, 3513.58it/s]\n"
     ]
    },
    {
     "name": "stdout",
     "output_type": "stream",
     "text": [
      "\n",
      "3x3 Results:\n",
      "Accuracy: 93.00%\n",
      "Avg prediction | Perc: 0.900\n",
      "Avg prediction | Non-Perc: 0.139\n"
     ]
    },
    {
     "name": "stderr",
     "output_type": "stream",
     "text": [
      "Testing 9x9: 100%|██████████████████████████████████████████████████████████████████████████████| 100/100 [00:00<00:00, 1927.44it/s]\n"
     ]
    },
    {
     "name": "stdout",
     "output_type": "stream",
     "text": [
      "\n",
      "9x9 Results:\n",
      "Accuracy: 92.00%\n",
      "Avg prediction | Perc: 0.869\n",
      "Avg prediction | Non-Perc: 0.098\n"
     ]
    },
    {
     "name": "stderr",
     "output_type": "stream",
     "text": [
      "Testing 27x27: 100%|█████████████████████████████████████████████████████████████████████████████| 100/100 [00:00<00:00, 891.74it/s]\n"
     ]
    },
    {
     "name": "stdout",
     "output_type": "stream",
     "text": [
      "\n",
      "27x27 Results:\n",
      "Accuracy: 96.00%\n",
      "Avg prediction | Perc: 0.924\n",
      "Avg prediction | Non-Perc: 0.054\n"
     ]
    },
    {
     "name": "stderr",
     "output_type": "stream",
     "text": [
      "Testing 9x9: 100%|██████████████████████████████████████████████████████████████████████████████| 200/200 [00:00<00:00, 2149.17it/s]\n"
     ]
    },
    {
     "name": "stdout",
     "output_type": "stream",
     "text": [
      "\n",
      "9x9 Results:\n",
      "Accuracy: 72.00%\n",
      "Avg prediction | Perc: 0.715\n",
      "Avg prediction | Non-Perc: 0.519\n",
      "\n",
      "Running 3^2 - Run 10/10\n"
     ]
    },
    {
     "name": "stderr",
     "output_type": "stream",
     "text": [
      "Generating data: 100%|██████████████████████████████████████████████████████████████████████| 10000/10000 [00:01<00:00, 9897.08it/s]\n",
      "Training: 100%|████████████████████████████████████████████████████████████████████████████████| 1000/1000 [00:02<00:00, 365.17it/s]\n",
      "Training: 100%|████████████████████████████████████████████████████████████████████████████████| 1000/1000 [00:02<00:00, 364.05it/s]\n",
      "Training: 100%|████████████████████████████████████████████████████████████████████████████████| 1000/1000 [00:02<00:00, 362.65it/s]\n",
      "Training: 100%|████████████████████████████████████████████████████████████████████████████████| 1000/1000 [00:02<00:00, 365.24it/s]\n",
      "Training: 100%|████████████████████████████████████████████████████████████████████████████████| 1000/1000 [00:02<00:00, 357.44it/s]\n",
      "Testing 3x3: 100%|██████████████████████████████████████████████████████████████████████████████| 100/100 [00:00<00:00, 3005.33it/s]\n"
     ]
    },
    {
     "name": "stdout",
     "output_type": "stream",
     "text": [
      "\n",
      "3x3 Results:\n",
      "Accuracy: 94.00%\n",
      "Avg prediction | Perc: 0.891\n",
      "Avg prediction | Non-Perc: 0.116\n"
     ]
    },
    {
     "name": "stderr",
     "output_type": "stream",
     "text": [
      "Testing 9x9: 100%|██████████████████████████████████████████████████████████████████████████████| 100/100 [00:00<00:00, 2006.04it/s]\n"
     ]
    },
    {
     "name": "stdout",
     "output_type": "stream",
     "text": [
      "\n",
      "9x9 Results:\n",
      "Accuracy: 89.00%\n",
      "Avg prediction | Perc: 0.826\n",
      "Avg prediction | Non-Perc: 0.077\n"
     ]
    },
    {
     "name": "stderr",
     "output_type": "stream",
     "text": [
      "Testing 27x27: 100%|█████████████████████████████████████████████████████████████████████████████| 100/100 [00:00<00:00, 851.38it/s]\n"
     ]
    },
    {
     "name": "stdout",
     "output_type": "stream",
     "text": [
      "\n",
      "27x27 Results:\n",
      "Accuracy: 96.00%\n",
      "Avg prediction | Perc: 0.948\n",
      "Avg prediction | Non-Perc: 0.064\n"
     ]
    },
    {
     "name": "stderr",
     "output_type": "stream",
     "text": [
      "Testing 9x9: 100%|██████████████████████████████████████████████████████████████████████████████| 200/200 [00:00<00:00, 2001.49it/s]\n"
     ]
    },
    {
     "name": "stdout",
     "output_type": "stream",
     "text": [
      "\n",
      "9x9 Results:\n",
      "Accuracy: 78.50%\n",
      "Avg prediction | Perc: 0.797\n",
      "Avg prediction | Non-Perc: 0.543\n",
      "\n",
      "Running 3^3 - Run 1/10\n"
     ]
    },
    {
     "name": "stderr",
     "output_type": "stream",
     "text": [
      "Generating data: 100%|██████████████████████████████████████████████████████████████████████| 10000/10000 [00:01<00:00, 7713.63it/s]\n",
      "Training: 100%|████████████████████████████████████████████████████████████████████████████████| 1000/1000 [00:08<00:00, 122.49it/s]\n",
      "Training: 100%|████████████████████████████████████████████████████████████████████████████████| 1000/1000 [00:08<00:00, 124.56it/s]\n",
      "Training: 100%|████████████████████████████████████████████████████████████████████████████████| 1000/1000 [00:08<00:00, 124.35it/s]\n",
      "Training: 100%|████████████████████████████████████████████████████████████████████████████████| 1000/1000 [00:08<00:00, 122.95it/s]\n",
      "Training: 100%|████████████████████████████████████████████████████████████████████████████████| 1000/1000 [00:08<00:00, 123.99it/s]\n",
      "Testing 9x9: 100%|██████████████████████████████████████████████████████████████████████████████| 100/100 [00:00<00:00, 2001.13it/s]\n"
     ]
    },
    {
     "name": "stdout",
     "output_type": "stream",
     "text": [
      "\n",
      "9x9 Results:\n",
      "Accuracy: 16.00%\n",
      "Avg prediction | Perc: 0.343\n",
      "Avg prediction | Non-Perc: 0.984\n"
     ]
    },
    {
     "name": "stderr",
     "output_type": "stream",
     "text": [
      "Testing 27x27: 100%|█████████████████████████████████████████████████████████████████████████████| 100/100 [00:00<00:00, 913.26it/s]\n"
     ]
    },
    {
     "name": "stdout",
     "output_type": "stream",
     "text": [
      "\n",
      "27x27 Results:\n",
      "Accuracy: 91.00%\n",
      "Avg prediction | Perc: 0.958\n",
      "Avg prediction | Non-Perc: 0.138\n"
     ]
    },
    {
     "name": "stderr",
     "output_type": "stream",
     "text": [
      "Testing 81x81: 100%|█████████████████████████████████████████████████████████████████████████████| 100/100 [00:00<00:00, 172.06it/s]\n"
     ]
    },
    {
     "name": "stdout",
     "output_type": "stream",
     "text": [
      "\n",
      "81x81 Results:\n",
      "Accuracy: 4.00%\n",
      "Avg prediction | Perc: 0.051\n",
      "Avg prediction | Non-Perc: 0.977\n"
     ]
    },
    {
     "name": "stderr",
     "output_type": "stream",
     "text": [
      "Testing 27x27: 100%|█████████████████████████████████████████████████████████████████████████████| 200/200 [00:00<00:00, 858.16it/s]\n"
     ]
    },
    {
     "name": "stdout",
     "output_type": "stream",
     "text": [
      "\n",
      "27x27 Results:\n",
      "Accuracy: 75.50%\n",
      "Avg prediction | Perc: 0.800\n",
      "Avg prediction | Non-Perc: 0.605\n",
      "\n",
      "Running 3^3 - Run 2/10\n"
     ]
    },
    {
     "name": "stderr",
     "output_type": "stream",
     "text": [
      "Generating data: 100%|██████████████████████████████████████████████████████████████████████| 10000/10000 [00:01<00:00, 8255.18it/s]\n",
      "Training: 100%|████████████████████████████████████████████████████████████████████████████████| 1000/1000 [00:08<00:00, 124.96it/s]\n",
      "Training: 100%|████████████████████████████████████████████████████████████████████████████████| 1000/1000 [00:08<00:00, 124.92it/s]\n",
      "Training: 100%|████████████████████████████████████████████████████████████████████████████████| 1000/1000 [00:08<00:00, 124.08it/s]\n",
      "Training: 100%|████████████████████████████████████████████████████████████████████████████████| 1000/1000 [00:07<00:00, 125.20it/s]\n",
      "Training: 100%|████████████████████████████████████████████████████████████████████████████████| 1000/1000 [00:08<00:00, 124.80it/s]\n",
      "Testing 9x9: 100%|██████████████████████████████████████████████████████████████████████████████| 100/100 [00:00<00:00, 1883.82it/s]\n"
     ]
    },
    {
     "name": "stdout",
     "output_type": "stream",
     "text": [
      "\n",
      "9x9 Results:\n",
      "Accuracy: 11.00%\n",
      "Avg prediction | Perc: 0.328\n",
      "Avg prediction | Non-Perc: 0.982\n"
     ]
    },
    {
     "name": "stderr",
     "output_type": "stream",
     "text": [
      "Testing 27x27: 100%|█████████████████████████████████████████████████████████████████████████████| 100/100 [00:00<00:00, 849.03it/s]\n"
     ]
    },
    {
     "name": "stdout",
     "output_type": "stream",
     "text": [
      "\n",
      "27x27 Results:\n",
      "Accuracy: 95.00%\n",
      "Avg prediction | Perc: 0.937\n",
      "Avg prediction | Non-Perc: 0.079\n"
     ]
    },
    {
     "name": "stderr",
     "output_type": "stream",
     "text": [
      "Testing 81x81: 100%|█████████████████████████████████████████████████████████████████████████████| 100/100 [00:00<00:00, 171.81it/s]\n"
     ]
    },
    {
     "name": "stdout",
     "output_type": "stream",
     "text": [
      "\n",
      "81x81 Results:\n",
      "Accuracy: 5.00%\n",
      "Avg prediction | Perc: 0.135\n",
      "Avg prediction | Non-Perc: 0.992\n"
     ]
    },
    {
     "name": "stderr",
     "output_type": "stream",
     "text": [
      "Testing 27x27: 100%|█████████████████████████████████████████████████████████████████████████████| 200/200 [00:00<00:00, 856.85it/s]\n"
     ]
    },
    {
     "name": "stdout",
     "output_type": "stream",
     "text": [
      "\n",
      "27x27 Results:\n",
      "Accuracy: 76.50%\n",
      "Avg prediction | Perc: 0.749\n",
      "Avg prediction | Non-Perc: 0.505\n",
      "\n",
      "Running 3^3 - Run 3/10\n"
     ]
    },
    {
     "name": "stderr",
     "output_type": "stream",
     "text": [
      "Generating data: 100%|██████████████████████████████████████████████████████████████████████| 10000/10000 [00:01<00:00, 8253.82it/s]\n",
      "Training: 100%|████████████████████████████████████████████████████████████████████████████████| 1000/1000 [00:08<00:00, 124.67it/s]\n",
      "Training: 100%|████████████████████████████████████████████████████████████████████████████████| 1000/1000 [00:08<00:00, 124.86it/s]\n",
      "Training: 100%|████████████████████████████████████████████████████████████████████████████████| 1000/1000 [00:07<00:00, 125.08it/s]\n",
      "Training: 100%|████████████████████████████████████████████████████████████████████████████████| 1000/1000 [00:08<00:00, 124.57it/s]\n",
      "Training: 100%|████████████████████████████████████████████████████████████████████████████████| 1000/1000 [00:08<00:00, 124.43it/s]\n",
      "Testing 9x9: 100%|██████████████████████████████████████████████████████████████████████████████| 100/100 [00:00<00:00, 2270.16it/s]\n"
     ]
    },
    {
     "name": "stdout",
     "output_type": "stream",
     "text": [
      "\n",
      "9x9 Results:\n",
      "Accuracy: 12.00%\n",
      "Avg prediction | Perc: 0.292\n",
      "Avg prediction | Non-Perc: 0.954\n"
     ]
    },
    {
     "name": "stderr",
     "output_type": "stream",
     "text": [
      "Testing 27x27: 100%|█████████████████████████████████████████████████████████████████████████████| 100/100 [00:00<00:00, 852.96it/s]\n"
     ]
    },
    {
     "name": "stdout",
     "output_type": "stream",
     "text": [
      "\n",
      "27x27 Results:\n",
      "Accuracy: 92.00%\n",
      "Avg prediction | Perc: 0.927\n",
      "Avg prediction | Non-Perc: 0.078\n"
     ]
    },
    {
     "name": "stderr",
     "output_type": "stream",
     "text": [
      "Testing 81x81: 100%|█████████████████████████████████████████████████████████████████████████████| 100/100 [00:00<00:00, 171.28it/s]\n"
     ]
    },
    {
     "name": "stdout",
     "output_type": "stream",
     "text": [
      "\n",
      "81x81 Results:\n",
      "Accuracy: 3.00%\n",
      "Avg prediction | Perc: 0.064\n",
      "Avg prediction | Non-Perc: 0.967\n"
     ]
    },
    {
     "name": "stderr",
     "output_type": "stream",
     "text": [
      "Testing 27x27: 100%|█████████████████████████████████████████████████████████████████████████████| 200/200 [00:00<00:00, 854.70it/s]\n"
     ]
    },
    {
     "name": "stdout",
     "output_type": "stream",
     "text": [
      "\n",
      "27x27 Results:\n",
      "Accuracy: 70.00%\n",
      "Avg prediction | Perc: 0.832\n",
      "Avg prediction | Non-Perc: 0.716\n",
      "\n",
      "Running 3^3 - Run 4/10\n"
     ]
    },
    {
     "name": "stderr",
     "output_type": "stream",
     "text": [
      "Generating data: 100%|██████████████████████████████████████████████████████████████████████| 10000/10000 [00:01<00:00, 8279.13it/s]\n",
      "Training: 100%|████████████████████████████████████████████████████████████████████████████████| 1000/1000 [00:07<00:00, 125.94it/s]\n",
      "Training: 100%|████████████████████████████████████████████████████████████████████████████████| 1000/1000 [00:08<00:00, 121.90it/s]\n",
      "Training: 100%|████████████████████████████████████████████████████████████████████████████████| 1000/1000 [00:08<00:00, 121.91it/s]\n",
      "Training: 100%|████████████████████████████████████████████████████████████████████████████████| 1000/1000 [00:08<00:00, 124.25it/s]\n",
      "Training: 100%|████████████████████████████████████████████████████████████████████████████████| 1000/1000 [00:07<00:00, 128.69it/s]\n",
      "Testing 9x9: 100%|██████████████████████████████████████████████████████████████████████████████| 100/100 [00:00<00:00, 2097.08it/s]\n"
     ]
    },
    {
     "name": "stdout",
     "output_type": "stream",
     "text": [
      "\n",
      "9x9 Results:\n",
      "Accuracy: 7.00%\n",
      "Avg prediction | Perc: 0.215\n",
      "Avg prediction | Non-Perc: 0.992\n"
     ]
    },
    {
     "name": "stderr",
     "output_type": "stream",
     "text": [
      "Testing 27x27: 100%|█████████████████████████████████████████████████████████████████████████████| 100/100 [00:00<00:00, 851.66it/s]\n"
     ]
    },
    {
     "name": "stdout",
     "output_type": "stream",
     "text": [
      "\n",
      "27x27 Results:\n",
      "Accuracy: 96.00%\n",
      "Avg prediction | Perc: 0.929\n",
      "Avg prediction | Non-Perc: 0.045\n"
     ]
    },
    {
     "name": "stderr",
     "output_type": "stream",
     "text": [
      "Testing 81x81: 100%|█████████████████████████████████████████████████████████████████████████████| 100/100 [00:00<00:00, 175.38it/s]\n"
     ]
    },
    {
     "name": "stdout",
     "output_type": "stream",
     "text": [
      "\n",
      "81x81 Results:\n",
      "Accuracy: 1.00%\n",
      "Avg prediction | Perc: 0.018\n",
      "Avg prediction | Non-Perc: 0.988\n"
     ]
    },
    {
     "name": "stderr",
     "output_type": "stream",
     "text": [
      "Testing 27x27: 100%|█████████████████████████████████████████████████████████████████████████████| 200/200 [00:00<00:00, 892.79it/s]\n"
     ]
    },
    {
     "name": "stdout",
     "output_type": "stream",
     "text": [
      "\n",
      "27x27 Results:\n",
      "Accuracy: 72.50%\n",
      "Avg prediction | Perc: 0.867\n",
      "Avg prediction | Non-Perc: 0.684\n",
      "\n",
      "Running 3^3 - Run 5/10\n"
     ]
    },
    {
     "name": "stderr",
     "output_type": "stream",
     "text": [
      "Generating data: 100%|██████████████████████████████████████████████████████████████████████| 10000/10000 [00:01<00:00, 8410.70it/s]\n",
      "Training: 100%|████████████████████████████████████████████████████████████████████████████████| 1000/1000 [00:07<00:00, 128.95it/s]\n",
      "Training: 100%|████████████████████████████████████████████████████████████████████████████████| 1000/1000 [00:07<00:00, 127.88it/s]\n",
      "Training: 100%|████████████████████████████████████████████████████████████████████████████████| 1000/1000 [00:07<00:00, 128.22it/s]\n",
      "Training: 100%|████████████████████████████████████████████████████████████████████████████████| 1000/1000 [00:07<00:00, 128.16it/s]\n",
      "Training: 100%|████████████████████████████████████████████████████████████████████████████████| 1000/1000 [00:07<00:00, 127.98it/s]\n",
      "Testing 9x9: 100%|██████████████████████████████████████████████████████████████████████████████| 100/100 [00:00<00:00, 1892.59it/s]\n"
     ]
    },
    {
     "name": "stdout",
     "output_type": "stream",
     "text": [
      "\n",
      "9x9 Results:\n",
      "Accuracy: 91.00%\n",
      "Avg prediction | Perc: 0.873\n",
      "Avg prediction | Non-Perc: 0.074\n"
     ]
    },
    {
     "name": "stderr",
     "output_type": "stream",
     "text": [
      "Testing 27x27: 100%|█████████████████████████████████████████████████████████████████████████████| 100/100 [00:00<00:00, 853.39it/s]\n"
     ]
    },
    {
     "name": "stdout",
     "output_type": "stream",
     "text": [
      "\n",
      "27x27 Results:\n",
      "Accuracy: 94.00%\n",
      "Avg prediction | Perc: 0.910\n",
      "Avg prediction | Non-Perc: 0.055\n"
     ]
    },
    {
     "name": "stderr",
     "output_type": "stream",
     "text": [
      "Testing 81x81: 100%|█████████████████████████████████████████████████████████████████████████████| 100/100 [00:00<00:00, 173.61it/s]\n"
     ]
    },
    {
     "name": "stdout",
     "output_type": "stream",
     "text": [
      "\n",
      "81x81 Results:\n",
      "Accuracy: 97.00%\n",
      "Avg prediction | Perc: 0.951\n",
      "Avg prediction | Non-Perc: 0.042\n"
     ]
    },
    {
     "name": "stderr",
     "output_type": "stream",
     "text": [
      "Testing 27x27: 100%|█████████████████████████████████████████████████████████████████████████████| 200/200 [00:00<00:00, 893.19it/s]\n"
     ]
    },
    {
     "name": "stdout",
     "output_type": "stream",
     "text": [
      "\n",
      "27x27 Results:\n",
      "Accuracy: 74.00%\n",
      "Avg prediction | Perc: 0.730\n",
      "Avg prediction | Non-Perc: 0.555\n",
      "\n",
      "Running 3^3 - Run 6/10\n"
     ]
    },
    {
     "name": "stderr",
     "output_type": "stream",
     "text": [
      "Generating data: 100%|██████████████████████████████████████████████████████████████████████| 10000/10000 [00:01<00:00, 8367.40it/s]\n",
      "Training: 100%|████████████████████████████████████████████████████████████████████████████████| 1000/1000 [00:07<00:00, 128.57it/s]\n",
      "Training: 100%|████████████████████████████████████████████████████████████████████████████████| 1000/1000 [00:08<00:00, 123.16it/s]\n",
      "Training: 100%|████████████████████████████████████████████████████████████████████████████████| 1000/1000 [00:08<00:00, 124.92it/s]\n",
      "Training: 100%|████████████████████████████████████████████████████████████████████████████████| 1000/1000 [00:08<00:00, 124.25it/s]\n",
      "Training: 100%|████████████████████████████████████████████████████████████████████████████████| 1000/1000 [00:08<00:00, 124.83it/s]\n",
      "Testing 9x9: 100%|██████████████████████████████████████████████████████████████████████████████| 100/100 [00:00<00:00, 1884.28it/s]\n"
     ]
    },
    {
     "name": "stdout",
     "output_type": "stream",
     "text": [
      "\n",
      "9x9 Results:\n",
      "Accuracy: 14.00%\n",
      "Avg prediction | Perc: 0.294\n",
      "Avg prediction | Non-Perc: 0.971\n"
     ]
    },
    {
     "name": "stderr",
     "output_type": "stream",
     "text": [
      "Testing 27x27: 100%|█████████████████████████████████████████████████████████████████████████████| 100/100 [00:00<00:00, 849.04it/s]\n"
     ]
    },
    {
     "name": "stdout",
     "output_type": "stream",
     "text": [
      "\n",
      "27x27 Results:\n",
      "Accuracy: 93.00%\n",
      "Avg prediction | Perc: 0.960\n",
      "Avg prediction | Non-Perc: 0.095\n"
     ]
    },
    {
     "name": "stderr",
     "output_type": "stream",
     "text": [
      "Testing 81x81: 100%|█████████████████████████████████████████████████████████████████████████████| 100/100 [00:00<00:00, 172.48it/s]\n"
     ]
    },
    {
     "name": "stdout",
     "output_type": "stream",
     "text": [
      "\n",
      "81x81 Results:\n",
      "Accuracy: 2.00%\n",
      "Avg prediction | Perc: 0.068\n",
      "Avg prediction | Non-Perc: 0.983\n"
     ]
    },
    {
     "name": "stderr",
     "output_type": "stream",
     "text": [
      "Testing 27x27: 100%|█████████████████████████████████████████████████████████████████████████████| 200/200 [00:00<00:00, 855.62it/s]\n"
     ]
    },
    {
     "name": "stdout",
     "output_type": "stream",
     "text": [
      "\n",
      "27x27 Results:\n",
      "Accuracy: 71.00%\n",
      "Avg prediction | Perc: 0.795\n",
      "Avg prediction | Non-Perc: 0.611\n",
      "\n",
      "Running 3^3 - Run 7/10\n"
     ]
    },
    {
     "name": "stderr",
     "output_type": "stream",
     "text": [
      "Generating data: 100%|██████████████████████████████████████████████████████████████████████| 10000/10000 [00:01<00:00, 8219.14it/s]\n",
      "Training: 100%|████████████████████████████████████████████████████████████████████████████████| 1000/1000 [00:07<00:00, 125.34it/s]\n",
      "Training: 100%|████████████████████████████████████████████████████████████████████████████████| 1000/1000 [00:08<00:00, 124.56it/s]\n",
      "Training: 100%|████████████████████████████████████████████████████████████████████████████████| 1000/1000 [00:08<00:00, 124.43it/s]\n",
      "Training: 100%|████████████████████████████████████████████████████████████████████████████████| 1000/1000 [00:08<00:00, 123.19it/s]\n",
      "Training: 100%|████████████████████████████████████████████████████████████████████████████████| 1000/1000 [00:08<00:00, 124.66it/s]\n",
      "Testing 9x9: 100%|██████████████████████████████████████████████████████████████████████████████| 100/100 [00:00<00:00, 2004.00it/s]\n"
     ]
    },
    {
     "name": "stdout",
     "output_type": "stream",
     "text": [
      "\n",
      "9x9 Results:\n",
      "Accuracy: 16.00%\n",
      "Avg prediction | Perc: 0.324\n",
      "Avg prediction | Non-Perc: 0.985\n"
     ]
    },
    {
     "name": "stderr",
     "output_type": "stream",
     "text": [
      "Testing 27x27: 100%|█████████████████████████████████████████████████████████████████████████████| 100/100 [00:00<00:00, 854.06it/s]\n"
     ]
    },
    {
     "name": "stdout",
     "output_type": "stream",
     "text": [
      "\n",
      "27x27 Results:\n",
      "Accuracy: 93.00%\n",
      "Avg prediction | Perc: 0.915\n",
      "Avg prediction | Non-Perc: 0.042\n"
     ]
    },
    {
     "name": "stderr",
     "output_type": "stream",
     "text": [
      "Testing 81x81: 100%|█████████████████████████████████████████████████████████████████████████████| 100/100 [00:00<00:00, 170.45it/s]\n"
     ]
    },
    {
     "name": "stdout",
     "output_type": "stream",
     "text": [
      "\n",
      "81x81 Results:\n",
      "Accuracy: 1.00%\n",
      "Avg prediction | Perc: 0.054\n",
      "Avg prediction | Non-Perc: 0.995\n"
     ]
    },
    {
     "name": "stderr",
     "output_type": "stream",
     "text": [
      "Testing 27x27: 100%|█████████████████████████████████████████████████████████████████████████████| 200/200 [00:00<00:00, 851.19it/s]\n"
     ]
    },
    {
     "name": "stdout",
     "output_type": "stream",
     "text": [
      "\n",
      "27x27 Results:\n",
      "Accuracy: 65.00%\n",
      "Avg prediction | Perc: 0.710\n",
      "Avg prediction | Non-Perc: 0.582\n",
      "\n",
      "Running 3^3 - Run 8/10\n"
     ]
    },
    {
     "name": "stderr",
     "output_type": "stream",
     "text": [
      "Generating data: 100%|██████████████████████████████████████████████████████████████████████| 10000/10000 [00:01<00:00, 8109.31it/s]\n",
      "Training: 100%|████████████████████████████████████████████████████████████████████████████████| 1000/1000 [00:08<00:00, 120.74it/s]\n",
      "Training: 100%|████████████████████████████████████████████████████████████████████████████████| 1000/1000 [00:08<00:00, 123.77it/s]\n",
      "Training: 100%|████████████████████████████████████████████████████████████████████████████████| 1000/1000 [00:08<00:00, 123.52it/s]\n",
      "Training: 100%|████████████████████████████████████████████████████████████████████████████████| 1000/1000 [00:08<00:00, 119.71it/s]\n",
      "Training: 100%|████████████████████████████████████████████████████████████████████████████████| 1000/1000 [00:08<00:00, 121.31it/s]\n",
      "Testing 9x9: 100%|██████████████████████████████████████████████████████████████████████████████| 100/100 [00:00<00:00, 1991.09it/s]\n"
     ]
    },
    {
     "name": "stdout",
     "output_type": "stream",
     "text": [
      "\n",
      "9x9 Results:\n",
      "Accuracy: 98.00%\n",
      "Avg prediction | Perc: 0.873\n",
      "Avg prediction | Non-Perc: 0.038\n"
     ]
    },
    {
     "name": "stderr",
     "output_type": "stream",
     "text": [
      "Testing 27x27: 100%|█████████████████████████████████████████████████████████████████████████████| 100/100 [00:00<00:00, 858.25it/s]\n"
     ]
    },
    {
     "name": "stdout",
     "output_type": "stream",
     "text": [
      "\n",
      "27x27 Results:\n",
      "Accuracy: 99.00%\n",
      "Avg prediction | Perc: 0.949\n",
      "Avg prediction | Non-Perc: 0.020\n"
     ]
    },
    {
     "name": "stderr",
     "output_type": "stream",
     "text": [
      "Testing 81x81: 100%|█████████████████████████████████████████████████████████████████████████████| 100/100 [00:00<00:00, 169.87it/s]\n"
     ]
    },
    {
     "name": "stdout",
     "output_type": "stream",
     "text": [
      "\n",
      "81x81 Results:\n",
      "Accuracy: 97.00%\n",
      "Avg prediction | Perc: 0.944\n",
      "Avg prediction | Non-Perc: 0.013\n"
     ]
    },
    {
     "name": "stderr",
     "output_type": "stream",
     "text": [
      "Testing 27x27: 100%|█████████████████████████████████████████████████████████████████████████████| 200/200 [00:00<00:00, 817.36it/s]\n"
     ]
    },
    {
     "name": "stdout",
     "output_type": "stream",
     "text": [
      "\n",
      "27x27 Results:\n",
      "Accuracy: 68.50%\n",
      "Avg prediction | Perc: 0.620\n",
      "Avg prediction | Non-Perc: 0.422\n",
      "\n",
      "Running 3^3 - Run 9/10\n"
     ]
    },
    {
     "name": "stderr",
     "output_type": "stream",
     "text": [
      "Generating data: 100%|██████████████████████████████████████████████████████████████████████| 10000/10000 [00:01<00:00, 8320.67it/s]\n",
      "Training: 100%|████████████████████████████████████████████████████████████████████████████████| 1000/1000 [00:08<00:00, 120.81it/s]\n",
      "Training: 100%|████████████████████████████████████████████████████████████████████████████████| 1000/1000 [00:08<00:00, 121.29it/s]\n",
      "Training: 100%|████████████████████████████████████████████████████████████████████████████████| 1000/1000 [00:08<00:00, 122.12it/s]\n",
      "Training: 100%|████████████████████████████████████████████████████████████████████████████████| 1000/1000 [00:08<00:00, 113.15it/s]\n",
      "Training: 100%|████████████████████████████████████████████████████████████████████████████████| 1000/1000 [00:08<00:00, 117.48it/s]\n",
      "Testing 9x9: 100%|██████████████████████████████████████████████████████████████████████████████| 100/100 [00:00<00:00, 1846.41it/s]\n"
     ]
    },
    {
     "name": "stdout",
     "output_type": "stream",
     "text": [
      "\n",
      "9x9 Results:\n",
      "Accuracy: 11.00%\n",
      "Avg prediction | Perc: 0.250\n",
      "Avg prediction | Non-Perc: 0.968\n"
     ]
    },
    {
     "name": "stderr",
     "output_type": "stream",
     "text": [
      "Testing 27x27: 100%|█████████████████████████████████████████████████████████████████████████████| 100/100 [00:00<00:00, 816.67it/s]\n"
     ]
    },
    {
     "name": "stdout",
     "output_type": "stream",
     "text": [
      "\n",
      "27x27 Results:\n",
      "Accuracy: 95.00%\n",
      "Avg prediction | Perc: 0.927\n",
      "Avg prediction | Non-Perc: 0.061\n"
     ]
    },
    {
     "name": "stderr",
     "output_type": "stream",
     "text": [
      "Testing 81x81: 100%|█████████████████████████████████████████████████████████████████████████████| 100/100 [00:00<00:00, 164.52it/s]\n"
     ]
    },
    {
     "name": "stdout",
     "output_type": "stream",
     "text": [
      "\n",
      "81x81 Results:\n",
      "Accuracy: 1.00%\n",
      "Avg prediction | Perc: 0.019\n",
      "Avg prediction | Non-Perc: 0.988\n"
     ]
    },
    {
     "name": "stderr",
     "output_type": "stream",
     "text": [
      "Testing 27x27: 100%|█████████████████████████████████████████████████████████████████████████████| 200/200 [00:00<00:00, 797.94it/s]\n"
     ]
    },
    {
     "name": "stdout",
     "output_type": "stream",
     "text": [
      "\n",
      "27x27 Results:\n",
      "Accuracy: 76.00%\n",
      "Avg prediction | Perc: 0.845\n",
      "Avg prediction | Non-Perc: 0.689\n",
      "\n",
      "Running 3^3 - Run 10/10\n"
     ]
    },
    {
     "name": "stderr",
     "output_type": "stream",
     "text": [
      "Generating data: 100%|██████████████████████████████████████████████████████████████████████| 10000/10000 [00:01<00:00, 7777.62it/s]\n",
      "Training: 100%|████████████████████████████████████████████████████████████████████████████████| 1000/1000 [00:08<00:00, 117.42it/s]\n",
      "Training: 100%|████████████████████████████████████████████████████████████████████████████████| 1000/1000 [00:08<00:00, 115.49it/s]\n",
      "Training: 100%|████████████████████████████████████████████████████████████████████████████████| 1000/1000 [00:08<00:00, 114.54it/s]\n",
      "Training: 100%|████████████████████████████████████████████████████████████████████████████████| 1000/1000 [00:08<00:00, 117.85it/s]\n",
      "Training: 100%|████████████████████████████████████████████████████████████████████████████████| 1000/1000 [00:08<00:00, 114.40it/s]\n",
      "Testing 9x9: 100%|██████████████████████████████████████████████████████████████████████████████| 100/100 [00:00<00:00, 2098.61it/s]\n"
     ]
    },
    {
     "name": "stdout",
     "output_type": "stream",
     "text": [
      "\n",
      "9x9 Results:\n",
      "Accuracy: 8.00%\n",
      "Avg prediction | Perc: 0.223\n",
      "Avg prediction | Non-Perc: 0.990\n"
     ]
    },
    {
     "name": "stderr",
     "output_type": "stream",
     "text": [
      "Testing 27x27: 100%|█████████████████████████████████████████████████████████████████████████████| 100/100 [00:00<00:00, 751.91it/s]\n"
     ]
    },
    {
     "name": "stdout",
     "output_type": "stream",
     "text": [
      "\n",
      "27x27 Results:\n",
      "Accuracy: 97.00%\n",
      "Avg prediction | Perc: 0.958\n",
      "Avg prediction | Non-Perc: 0.036\n"
     ]
    },
    {
     "name": "stderr",
     "output_type": "stream",
     "text": [
      "Testing 81x81: 100%|█████████████████████████████████████████████████████████████████████████████| 100/100 [00:00<00:00, 164.56it/s]\n"
     ]
    },
    {
     "name": "stdout",
     "output_type": "stream",
     "text": [
      "\n",
      "81x81 Results:\n",
      "Accuracy: 2.00%\n",
      "Avg prediction | Perc: 0.026\n",
      "Avg prediction | Non-Perc: 0.974\n"
     ]
    },
    {
     "name": "stderr",
     "output_type": "stream",
     "text": [
      "Testing 27x27: 100%|█████████████████████████████████████████████████████████████████████████████| 200/200 [00:00<00:00, 815.26it/s]\n"
     ]
    },
    {
     "name": "stdout",
     "output_type": "stream",
     "text": [
      "\n",
      "27x27 Results:\n",
      "Accuracy: 66.50%\n",
      "Avg prediction | Perc: 0.865\n",
      "Avg prediction | Non-Perc: 0.751\n",
      "\n",
      "Running 3^4 - Run 1/10\n"
     ]
    },
    {
     "name": "stderr",
     "output_type": "stream",
     "text": [
      "Generating data: 100%|██████████████████████████████████████████████████████████████████████| 10000/10000 [00:04<00:00, 2478.71it/s]\n",
      "Training: 100%|█████████████████████████████████████████████████████████████████████████████████| 1000/1000 [00:53<00:00, 18.76it/s]\n",
      "Training: 100%|█████████████████████████████████████████████████████████████████████████████████| 1000/1000 [00:53<00:00, 18.57it/s]\n",
      "Training: 100%|█████████████████████████████████████████████████████████████████████████████████| 1000/1000 [00:53<00:00, 18.57it/s]\n",
      "Training: 100%|█████████████████████████████████████████████████████████████████████████████████| 1000/1000 [00:52<00:00, 19.00it/s]\n",
      "Training: 100%|█████████████████████████████████████████████████████████████████████████████████| 1000/1000 [00:53<00:00, 18.65it/s]\n",
      "Testing 27x27: 100%|█████████████████████████████████████████████████████████████████████████████| 100/100 [00:00<00:00, 769.95it/s]\n"
     ]
    },
    {
     "name": "stdout",
     "output_type": "stream",
     "text": [
      "\n",
      "27x27 Results:\n",
      "Accuracy: 4.00%\n",
      "Avg prediction | Perc: 0.398\n",
      "Avg prediction | Non-Perc: 0.894\n"
     ]
    },
    {
     "name": "stderr",
     "output_type": "stream",
     "text": [
      "Testing 81x81: 100%|█████████████████████████████████████████████████████████████████████████████| 100/100 [00:00<00:00, 156.80it/s]\n"
     ]
    },
    {
     "name": "stdout",
     "output_type": "stream",
     "text": [
      "\n",
      "81x81 Results:\n",
      "Accuracy: 100.00%\n",
      "Avg prediction | Perc: 0.963\n",
      "Avg prediction | Non-Perc: 0.021\n"
     ]
    },
    {
     "name": "stderr",
     "output_type": "stream",
     "text": [
      "Testing 243x243: 100%|████████████████████████████████████████████████████████████████████████████| 100/100 [00:04<00:00, 20.76it/s]\n"
     ]
    },
    {
     "name": "stdout",
     "output_type": "stream",
     "text": [
      "\n",
      "243x243 Results:\n",
      "Accuracy: 61.00%\n",
      "Avg prediction | Perc: 0.002\n",
      "Avg prediction | Non-Perc: 0.408\n"
     ]
    },
    {
     "name": "stderr",
     "output_type": "stream",
     "text": [
      "Testing 81x81: 100%|█████████████████████████████████████████████████████████████████████████████| 200/200 [00:01<00:00, 159.07it/s]\n"
     ]
    },
    {
     "name": "stdout",
     "output_type": "stream",
     "text": [
      "\n",
      "81x81 Results:\n",
      "Accuracy: 71.50%\n",
      "Avg prediction | Perc: 0.919\n",
      "Avg prediction | Non-Perc: 0.840\n",
      "\n",
      "Running 3^4 - Run 2/10\n"
     ]
    },
    {
     "name": "stderr",
     "output_type": "stream",
     "text": [
      "Generating data: 100%|██████████████████████████████████████████████████████████████████████| 10000/10000 [00:03<00:00, 2713.61it/s]\n",
      "Training: 100%|█████████████████████████████████████████████████████████████████████████████████| 1000/1000 [00:54<00:00, 18.24it/s]\n",
      "Training: 100%|█████████████████████████████████████████████████████████████████████████████████| 1000/1000 [00:54<00:00, 18.26it/s]\n",
      "Training: 100%|█████████████████████████████████████████████████████████████████████████████████| 1000/1000 [00:53<00:00, 18.54it/s]\n",
      "Training: 100%|█████████████████████████████████████████████████████████████████████████████████| 1000/1000 [00:55<00:00, 17.92it/s]\n",
      "Training: 100%|█████████████████████████████████████████████████████████████████████████████████| 1000/1000 [00:54<00:00, 18.41it/s]\n",
      "Testing 27x27: 100%|█████████████████████████████████████████████████████████████████████████████| 100/100 [00:00<00:00, 750.45it/s]\n"
     ]
    },
    {
     "name": "stdout",
     "output_type": "stream",
     "text": [
      "\n",
      "27x27 Results:\n",
      "Accuracy: 51.00%\n",
      "Avg prediction | Perc: 0.106\n",
      "Avg prediction | Non-Perc: 0.377\n"
     ]
    },
    {
     "name": "stderr",
     "output_type": "stream",
     "text": [
      "Testing 81x81: 100%|█████████████████████████████████████████████████████████████████████████████| 100/100 [00:00<00:00, 161.72it/s]\n"
     ]
    },
    {
     "name": "stdout",
     "output_type": "stream",
     "text": [
      "\n",
      "81x81 Results:\n",
      "Accuracy: 99.00%\n",
      "Avg prediction | Perc: 0.879\n",
      "Avg prediction | Non-Perc: 0.106\n"
     ]
    },
    {
     "name": "stderr",
     "output_type": "stream",
     "text": [
      "Testing 243x243: 100%|████████████████████████████████████████████████████████████████████████████| 100/100 [00:04<00:00, 21.31it/s]\n"
     ]
    },
    {
     "name": "stdout",
     "output_type": "stream",
     "text": [
      "\n",
      "243x243 Results:\n",
      "Accuracy: 7.00%\n",
      "Avg prediction | Perc: 0.366\n",
      "Avg prediction | Non-Perc: 0.778\n"
     ]
    },
    {
     "name": "stderr",
     "output_type": "stream",
     "text": [
      "Testing 81x81: 100%|█████████████████████████████████████████████████████████████████████████████| 200/200 [00:01<00:00, 158.28it/s]\n"
     ]
    },
    {
     "name": "stdout",
     "output_type": "stream",
     "text": [
      "\n",
      "81x81 Results:\n",
      "Accuracy: 69.00%\n",
      "Avg prediction | Perc: 0.633\n",
      "Avg prediction | Non-Perc: 0.522\n",
      "\n",
      "Running 3^4 - Run 3/10\n"
     ]
    },
    {
     "name": "stderr",
     "output_type": "stream",
     "text": [
      "Generating data: 100%|██████████████████████████████████████████████████████████████████████| 10000/10000 [00:03<00:00, 2697.52it/s]\n",
      "Training: 100%|█████████████████████████████████████████████████████████████████████████████████| 1000/1000 [00:54<00:00, 18.49it/s]\n",
      "Training: 100%|█████████████████████████████████████████████████████████████████████████████████| 1000/1000 [00:53<00:00, 18.69it/s]\n",
      "Training: 100%|█████████████████████████████████████████████████████████████████████████████████| 1000/1000 [00:53<00:00, 18.63it/s]\n",
      "Training: 100%|█████████████████████████████████████████████████████████████████████████████████| 1000/1000 [00:53<00:00, 18.71it/s]\n",
      "Training: 100%|█████████████████████████████████████████████████████████████████████████████████| 1000/1000 [00:53<00:00, 18.70it/s]\n",
      "Testing 27x27: 100%|█████████████████████████████████████████████████████████████████████████████| 100/100 [00:00<00:00, 721.09it/s]\n"
     ]
    },
    {
     "name": "stdout",
     "output_type": "stream",
     "text": [
      "\n",
      "27x27 Results:\n",
      "Accuracy: 8.00%\n",
      "Avg prediction | Perc: 0.451\n",
      "Avg prediction | Non-Perc: 0.900\n"
     ]
    },
    {
     "name": "stderr",
     "output_type": "stream",
     "text": [
      "Testing 81x81: 100%|█████████████████████████████████████████████████████████████████████████████| 100/100 [00:00<00:00, 153.06it/s]\n"
     ]
    },
    {
     "name": "stdout",
     "output_type": "stream",
     "text": [
      "\n",
      "81x81 Results:\n",
      "Accuracy: 99.00%\n",
      "Avg prediction | Perc: 0.947\n",
      "Avg prediction | Non-Perc: 0.024\n"
     ]
    },
    {
     "name": "stderr",
     "output_type": "stream",
     "text": [
      "Testing 243x243: 100%|████████████████████████████████████████████████████████████████████████████| 100/100 [00:04<00:00, 21.32it/s]\n"
     ]
    },
    {
     "name": "stdout",
     "output_type": "stream",
     "text": [
      "\n",
      "243x243 Results:\n",
      "Accuracy: 50.00%\n",
      "Avg prediction | Perc: 0.010\n",
      "Avg prediction | Non-Perc: 0.444\n"
     ]
    },
    {
     "name": "stderr",
     "output_type": "stream",
     "text": [
      "Testing 81x81: 100%|█████████████████████████████████████████████████████████████████████████████| 200/200 [00:01<00:00, 157.47it/s]\n"
     ]
    },
    {
     "name": "stdout",
     "output_type": "stream",
     "text": [
      "\n",
      "81x81 Results:\n",
      "Accuracy: 70.50%\n",
      "Avg prediction | Perc: 0.751\n",
      "Avg prediction | Non-Perc: 0.581\n",
      "\n",
      "Running 3^4 - Run 4/10\n"
     ]
    },
    {
     "name": "stderr",
     "output_type": "stream",
     "text": [
      "Generating data: 100%|██████████████████████████████████████████████████████████████████████| 10000/10000 [00:03<00:00, 3124.76it/s]\n",
      "Training: 100%|█████████████████████████████████████████████████████████████████████████████████| 1000/1000 [00:53<00:00, 18.58it/s]\n",
      "Training: 100%|█████████████████████████████████████████████████████████████████████████████████| 1000/1000 [00:53<00:00, 18.57it/s]\n",
      "Training: 100%|█████████████████████████████████████████████████████████████████████████████████| 1000/1000 [00:53<00:00, 18.61it/s]\n",
      "Training: 100%|█████████████████████████████████████████████████████████████████████████████████| 1000/1000 [00:53<00:00, 18.78it/s]\n",
      "Training: 100%|█████████████████████████████████████████████████████████████████████████████████| 1000/1000 [00:54<00:00, 18.48it/s]\n",
      "Testing 27x27: 100%|█████████████████████████████████████████████████████████████████████████████| 100/100 [00:00<00:00, 805.54it/s]\n"
     ]
    },
    {
     "name": "stdout",
     "output_type": "stream",
     "text": [
      "\n",
      "27x27 Results:\n",
      "Accuracy: 5.00%\n",
      "Avg prediction | Perc: 0.445\n",
      "Avg prediction | Non-Perc: 0.908\n"
     ]
    },
    {
     "name": "stderr",
     "output_type": "stream",
     "text": [
      "Testing 81x81: 100%|█████████████████████████████████████████████████████████████████████████████| 100/100 [00:00<00:00, 164.81it/s]\n"
     ]
    },
    {
     "name": "stdout",
     "output_type": "stream",
     "text": [
      "\n",
      "81x81 Results:\n",
      "Accuracy: 99.00%\n",
      "Avg prediction | Perc: 0.950\n",
      "Avg prediction | Non-Perc: 0.020\n"
     ]
    },
    {
     "name": "stderr",
     "output_type": "stream",
     "text": [
      "Testing 243x243: 100%|████████████████████████████████████████████████████████████████████████████| 100/100 [00:04<00:00, 21.37it/s]\n"
     ]
    },
    {
     "name": "stdout",
     "output_type": "stream",
     "text": [
      "\n",
      "243x243 Results:\n",
      "Accuracy: 58.00%\n",
      "Avg prediction | Perc: 0.030\n",
      "Avg prediction | Non-Perc: 0.426\n"
     ]
    },
    {
     "name": "stderr",
     "output_type": "stream",
     "text": [
      "Testing 81x81: 100%|█████████████████████████████████████████████████████████████████████████████| 200/200 [00:01<00:00, 120.58it/s]\n"
     ]
    },
    {
     "name": "stdout",
     "output_type": "stream",
     "text": [
      "\n",
      "81x81 Results:\n",
      "Accuracy: 64.50%\n",
      "Avg prediction | Perc: 0.575\n",
      "Avg prediction | Non-Perc: 0.418\n",
      "\n",
      "Running 3^4 - Run 5/10\n"
     ]
    },
    {
     "name": "stderr",
     "output_type": "stream",
     "text": [
      "Generating data: 100%|██████████████████████████████████████████████████████████████████████| 10000/10000 [00:04<00:00, 2410.02it/s]\n",
      "Training: 100%|█████████████████████████████████████████████████████████████████████████████████| 1000/1000 [00:54<00:00, 18.40it/s]\n",
      "Training: 100%|█████████████████████████████████████████████████████████████████████████████████| 1000/1000 [00:54<00:00, 18.44it/s]\n",
      "Training: 100%|█████████████████████████████████████████████████████████████████████████████████| 1000/1000 [00:54<00:00, 18.49it/s]\n",
      "Training: 100%|█████████████████████████████████████████████████████████████████████████████████| 1000/1000 [00:53<00:00, 18.64it/s]\n",
      "Training: 100%|█████████████████████████████████████████████████████████████████████████████████| 1000/1000 [00:54<00:00, 18.34it/s]\n",
      "Testing 27x27: 100%|█████████████████████████████████████████████████████████████████████████████| 100/100 [00:00<00:00, 813.83it/s]\n"
     ]
    },
    {
     "name": "stdout",
     "output_type": "stream",
     "text": [
      "\n",
      "27x27 Results:\n",
      "Accuracy: 33.00%\n",
      "Avg prediction | Perc: 0.125\n",
      "Avg prediction | Non-Perc: 0.450\n"
     ]
    },
    {
     "name": "stderr",
     "output_type": "stream",
     "text": [
      "Testing 81x81: 100%|█████████████████████████████████████████████████████████████████████████████| 100/100 [00:00<00:00, 161.47it/s]\n"
     ]
    },
    {
     "name": "stdout",
     "output_type": "stream",
     "text": [
      "\n",
      "81x81 Results:\n",
      "Accuracy: 100.00%\n",
      "Avg prediction | Perc: 0.838\n",
      "Avg prediction | Non-Perc: 0.134\n"
     ]
    },
    {
     "name": "stderr",
     "output_type": "stream",
     "text": [
      "Testing 243x243: 100%|████████████████████████████████████████████████████████████████████████████| 100/100 [00:04<00:00, 20.94it/s]\n"
     ]
    },
    {
     "name": "stdout",
     "output_type": "stream",
     "text": [
      "\n",
      "243x243 Results:\n",
      "Accuracy: 4.00%\n",
      "Avg prediction | Perc: 0.349\n",
      "Avg prediction | Non-Perc: 0.780\n"
     ]
    },
    {
     "name": "stderr",
     "output_type": "stream",
     "text": [
      "Testing 81x81: 100%|█████████████████████████████████████████████████████████████████████████████| 200/200 [00:01<00:00, 153.20it/s]\n"
     ]
    },
    {
     "name": "stdout",
     "output_type": "stream",
     "text": [
      "\n",
      "81x81 Results:\n",
      "Accuracy: 63.00%\n",
      "Avg prediction | Perc: 0.545\n",
      "Avg prediction | Non-Perc: 0.440\n",
      "\n",
      "Running 3^4 - Run 6/10\n"
     ]
    },
    {
     "name": "stderr",
     "output_type": "stream",
     "text": [
      "Generating data: 100%|██████████████████████████████████████████████████████████████████████| 10000/10000 [00:03<00:00, 3093.00it/s]\n",
      "Training: 100%|█████████████████████████████████████████████████████████████████████████████████| 1000/1000 [00:53<00:00, 18.61it/s]\n",
      "Training: 100%|█████████████████████████████████████████████████████████████████████████████████| 1000/1000 [00:54<00:00, 18.42it/s]\n",
      "Training: 100%|█████████████████████████████████████████████████████████████████████████████████| 1000/1000 [00:54<00:00, 18.30it/s]\n",
      "Training: 100%|█████████████████████████████████████████████████████████████████████████████████| 1000/1000 [00:54<00:00, 18.20it/s]\n",
      "Training: 100%|█████████████████████████████████████████████████████████████████████████████████| 1000/1000 [00:54<00:00, 18.45it/s]\n",
      "Testing 27x27: 100%|█████████████████████████████████████████████████████████████████████████████| 100/100 [00:00<00:00, 740.21it/s]\n"
     ]
    },
    {
     "name": "stdout",
     "output_type": "stream",
     "text": [
      "\n",
      "27x27 Results:\n",
      "Accuracy: 39.00%\n",
      "Avg prediction | Perc: 0.118\n",
      "Avg prediction | Non-Perc: 0.464\n"
     ]
    },
    {
     "name": "stderr",
     "output_type": "stream",
     "text": [
      "Testing 81x81: 100%|█████████████████████████████████████████████████████████████████████████████| 100/100 [00:00<00:00, 159.87it/s]\n"
     ]
    },
    {
     "name": "stdout",
     "output_type": "stream",
     "text": [
      "\n",
      "81x81 Results:\n",
      "Accuracy: 99.00%\n",
      "Avg prediction | Perc: 0.884\n",
      "Avg prediction | Non-Perc: 0.131\n"
     ]
    },
    {
     "name": "stderr",
     "output_type": "stream",
     "text": [
      "Testing 243x243: 100%|████████████████████████████████████████████████████████████████████████████| 100/100 [00:04<00:00, 21.00it/s]\n"
     ]
    },
    {
     "name": "stdout",
     "output_type": "stream",
     "text": [
      "\n",
      "243x243 Results:\n",
      "Accuracy: 1.00%\n",
      "Avg prediction | Perc: 0.405\n",
      "Avg prediction | Non-Perc: 0.844\n"
     ]
    },
    {
     "name": "stderr",
     "output_type": "stream",
     "text": [
      "Testing 81x81: 100%|█████████████████████████████████████████████████████████████████████████████| 200/200 [00:01<00:00, 162.89it/s]\n"
     ]
    },
    {
     "name": "stdout",
     "output_type": "stream",
     "text": [
      "\n",
      "81x81 Results:\n",
      "Accuracy: 72.00%\n",
      "Avg prediction | Perc: 0.652\n",
      "Avg prediction | Non-Perc: 0.584\n",
      "\n",
      "Running 3^4 - Run 7/10\n"
     ]
    },
    {
     "name": "stderr",
     "output_type": "stream",
     "text": [
      "Generating data: 100%|██████████████████████████████████████████████████████████████████████| 10000/10000 [00:03<00:00, 3045.59it/s]\n",
      "Training: 100%|█████████████████████████████████████████████████████████████████████████████████| 1000/1000 [00:52<00:00, 18.89it/s]\n",
      "Training: 100%|█████████████████████████████████████████████████████████████████████████████████| 1000/1000 [00:53<00:00, 18.59it/s]\n",
      "Training: 100%|█████████████████████████████████████████████████████████████████████████████████| 1000/1000 [00:55<00:00, 18.18it/s]\n",
      "Training: 100%|█████████████████████████████████████████████████████████████████████████████████| 1000/1000 [00:54<00:00, 18.25it/s]\n",
      "Training: 100%|█████████████████████████████████████████████████████████████████████████████████| 1000/1000 [00:53<00:00, 18.55it/s]\n",
      "Testing 27x27: 100%|█████████████████████████████████████████████████████████████████████████████| 100/100 [00:00<00:00, 814.83it/s]\n"
     ]
    },
    {
     "name": "stdout",
     "output_type": "stream",
     "text": [
      "\n",
      "27x27 Results:\n",
      "Accuracy: 96.00%\n",
      "Avg prediction | Perc: 0.941\n",
      "Avg prediction | Non-Perc: 0.034\n"
     ]
    },
    {
     "name": "stderr",
     "output_type": "stream",
     "text": [
      "Testing 81x81: 100%|█████████████████████████████████████████████████████████████████████████████| 100/100 [00:00<00:00, 165.82it/s]\n"
     ]
    },
    {
     "name": "stdout",
     "output_type": "stream",
     "text": [
      "\n",
      "81x81 Results:\n",
      "Accuracy: 97.00%\n",
      "Avg prediction | Perc: 0.937\n",
      "Avg prediction | Non-Perc: 0.011\n"
     ]
    },
    {
     "name": "stderr",
     "output_type": "stream",
     "text": [
      "Testing 243x243: 100%|████████████████████████████████████████████████████████████████████████████| 100/100 [00:04<00:00, 21.55it/s]\n"
     ]
    },
    {
     "name": "stdout",
     "output_type": "stream",
     "text": [
      "\n",
      "243x243 Results:\n",
      "Accuracy: 100.00%\n",
      "Avg prediction | Perc: 0.990\n",
      "Avg prediction | Non-Perc: 0.002\n"
     ]
    },
    {
     "name": "stderr",
     "output_type": "stream",
     "text": [
      "Testing 81x81: 100%|█████████████████████████████████████████████████████████████████████████████| 200/200 [00:01<00:00, 164.27it/s]\n"
     ]
    },
    {
     "name": "stdout",
     "output_type": "stream",
     "text": [
      "\n",
      "81x81 Results:\n",
      "Accuracy: 74.50%\n",
      "Avg prediction | Perc: 0.757\n",
      "Avg prediction | Non-Perc: 0.558\n",
      "\n",
      "Running 3^4 - Run 8/10\n"
     ]
    },
    {
     "name": "stderr",
     "output_type": "stream",
     "text": [
      "Generating data: 100%|██████████████████████████████████████████████████████████████████████| 10000/10000 [00:03<00:00, 3011.21it/s]\n",
      "Training: 100%|█████████████████████████████████████████████████████████████████████████████████| 1000/1000 [00:53<00:00, 18.70it/s]\n",
      "Training: 100%|█████████████████████████████████████████████████████████████████████████████████| 1000/1000 [00:54<00:00, 18.49it/s]\n",
      "Training: 100%|█████████████████████████████████████████████████████████████████████████████████| 1000/1000 [00:53<00:00, 18.71it/s]\n",
      "Training: 100%|█████████████████████████████████████████████████████████████████████████████████| 1000/1000 [00:52<00:00, 19.06it/s]\n",
      "Training: 100%|█████████████████████████████████████████████████████████████████████████████████| 1000/1000 [00:52<00:00, 19.05it/s]\n",
      "Testing 27x27: 100%|█████████████████████████████████████████████████████████████████████████████| 100/100 [00:00<00:00, 797.33it/s]\n"
     ]
    },
    {
     "name": "stdout",
     "output_type": "stream",
     "text": [
      "\n",
      "27x27 Results:\n",
      "Accuracy: 28.00%\n",
      "Avg prediction | Perc: 0.086\n",
      "Avg prediction | Non-Perc: 0.503\n"
     ]
    },
    {
     "name": "stderr",
     "output_type": "stream",
     "text": [
      "Testing 81x81: 100%|█████████████████████████████████████████████████████████████████████████████| 100/100 [00:00<00:00, 165.89it/s]\n"
     ]
    },
    {
     "name": "stdout",
     "output_type": "stream",
     "text": [
      "\n",
      "81x81 Results:\n",
      "Accuracy: 96.00%\n",
      "Avg prediction | Perc: 0.853\n",
      "Avg prediction | Non-Perc: 0.138\n"
     ]
    },
    {
     "name": "stderr",
     "output_type": "stream",
     "text": [
      "Testing 243x243: 100%|████████████████████████████████████████████████████████████████████████████| 100/100 [00:04<00:00, 21.45it/s]\n"
     ]
    },
    {
     "name": "stdout",
     "output_type": "stream",
     "text": [
      "\n",
      "243x243 Results:\n",
      "Accuracy: 7.00%\n",
      "Avg prediction | Perc: 0.334\n",
      "Avg prediction | Non-Perc: 0.731\n"
     ]
    },
    {
     "name": "stderr",
     "output_type": "stream",
     "text": [
      "Testing 81x81: 100%|█████████████████████████████████████████████████████████████████████████████| 200/200 [00:01<00:00, 148.76it/s]\n"
     ]
    },
    {
     "name": "stdout",
     "output_type": "stream",
     "text": [
      "\n",
      "81x81 Results:\n",
      "Accuracy: 70.00%\n",
      "Avg prediction | Perc: 0.577\n",
      "Avg prediction | Non-Perc: 0.432\n",
      "\n",
      "Running 3^4 - Run 9/10\n"
     ]
    },
    {
     "name": "stderr",
     "output_type": "stream",
     "text": [
      "Generating data: 100%|██████████████████████████████████████████████████████████████████████| 10000/10000 [00:03<00:00, 3145.97it/s]\n",
      "Training: 100%|█████████████████████████████████████████████████████████████████████████████████| 1000/1000 [00:53<00:00, 18.68it/s]\n",
      "Training: 100%|█████████████████████████████████████████████████████████████████████████████████| 1000/1000 [00:59<00:00, 16.86it/s]\n",
      "Training: 100%|█████████████████████████████████████████████████████████████████████████████████| 1000/1000 [00:55<00:00, 17.94it/s]\n",
      "Training: 100%|█████████████████████████████████████████████████████████████████████████████████| 1000/1000 [01:01<00:00, 16.36it/s]\n",
      "Training: 100%|█████████████████████████████████████████████████████████████████████████████████| 1000/1000 [00:54<00:00, 18.34it/s]\n",
      "Testing 27x27: 100%|█████████████████████████████████████████████████████████████████████████████| 100/100 [00:00<00:00, 819.85it/s]\n"
     ]
    },
    {
     "name": "stdout",
     "output_type": "stream",
     "text": [
      "\n",
      "27x27 Results:\n",
      "Accuracy: 25.00%\n",
      "Avg prediction | Perc: 0.091\n",
      "Avg prediction | Non-Perc: 0.532\n"
     ]
    },
    {
     "name": "stderr",
     "output_type": "stream",
     "text": [
      "Testing 81x81: 100%|█████████████████████████████████████████████████████████████████████████████| 100/100 [00:00<00:00, 162.92it/s]\n"
     ]
    },
    {
     "name": "stdout",
     "output_type": "stream",
     "text": [
      "\n",
      "81x81 Results:\n",
      "Accuracy: 100.00%\n",
      "Avg prediction | Perc: 0.895\n",
      "Avg prediction | Non-Perc: 0.130\n"
     ]
    },
    {
     "name": "stderr",
     "output_type": "stream",
     "text": [
      "Testing 243x243: 100%|████████████████████████████████████████████████████████████████████████████| 100/100 [00:04<00:00, 21.26it/s]\n"
     ]
    },
    {
     "name": "stdout",
     "output_type": "stream",
     "text": [
      "\n",
      "243x243 Results:\n",
      "Accuracy: 3.00%\n",
      "Avg prediction | Perc: 0.364\n",
      "Avg prediction | Non-Perc: 0.748\n"
     ]
    },
    {
     "name": "stderr",
     "output_type": "stream",
     "text": [
      "Testing 81x81: 100%|█████████████████████████████████████████████████████████████████████████████| 200/200 [00:01<00:00, 164.48it/s]\n"
     ]
    },
    {
     "name": "stdout",
     "output_type": "stream",
     "text": [
      "\n",
      "81x81 Results:\n",
      "Accuracy: 65.00%\n",
      "Avg prediction | Perc: 0.564\n",
      "Avg prediction | Non-Perc: 0.449\n",
      "\n",
      "Running 3^4 - Run 10/10\n"
     ]
    },
    {
     "name": "stderr",
     "output_type": "stream",
     "text": [
      "Generating data: 100%|██████████████████████████████████████████████████████████████████████| 10000/10000 [00:03<00:00, 3061.39it/s]\n",
      "Training: 100%|█████████████████████████████████████████████████████████████████████████████████| 1000/1000 [00:53<00:00, 18.69it/s]\n",
      "Training: 100%|█████████████████████████████████████████████████████████████████████████████████| 1000/1000 [00:53<00:00, 18.63it/s]\n",
      "Training: 100%|█████████████████████████████████████████████████████████████████████████████████| 1000/1000 [00:56<00:00, 17.66it/s]\n",
      "Training: 100%|█████████████████████████████████████████████████████████████████████████████████| 1000/1000 [00:53<00:00, 18.67it/s]\n",
      "Training: 100%|█████████████████████████████████████████████████████████████████████████████████| 1000/1000 [00:54<00:00, 18.21it/s]\n",
      "Testing 27x27: 100%|█████████████████████████████████████████████████████████████████████████████| 100/100 [00:00<00:00, 816.75it/s]\n"
     ]
    },
    {
     "name": "stdout",
     "output_type": "stream",
     "text": [
      "\n",
      "27x27 Results:\n",
      "Accuracy: 6.00%\n",
      "Avg prediction | Perc: 0.423\n",
      "Avg prediction | Non-Perc: 0.902\n"
     ]
    },
    {
     "name": "stderr",
     "output_type": "stream",
     "text": [
      "Testing 81x81: 100%|█████████████████████████████████████████████████████████████████████████████| 100/100 [00:00<00:00, 159.95it/s]\n"
     ]
    },
    {
     "name": "stdout",
     "output_type": "stream",
     "text": [
      "\n",
      "81x81 Results:\n",
      "Accuracy: 96.00%\n",
      "Avg prediction | Perc: 0.897\n",
      "Avg prediction | Non-Perc: 0.024\n"
     ]
    },
    {
     "name": "stderr",
     "output_type": "stream",
     "text": [
      "Testing 243x243: 100%|████████████████████████████████████████████████████████████████████████████| 100/100 [00:04<00:00, 21.23it/s]\n"
     ]
    },
    {
     "name": "stdout",
     "output_type": "stream",
     "text": [
      "\n",
      "243x243 Results:\n",
      "Accuracy: 64.00%\n",
      "Avg prediction | Perc: 0.025\n",
      "Avg prediction | Non-Perc: 0.389\n"
     ]
    },
    {
     "name": "stderr",
     "output_type": "stream",
     "text": [
      "Testing 81x81: 100%|█████████████████████████████████████████████████████████████████████████████| 200/200 [00:01<00:00, 153.96it/s]\n"
     ]
    },
    {
     "name": "stdout",
     "output_type": "stream",
     "text": [
      "\n",
      "81x81 Results:\n",
      "Accuracy: 66.00%\n",
      "Avg prediction | Perc: 0.570\n",
      "Avg prediction | Non-Perc: 0.399\n",
      "\n",
      "Running 4^2 - Run 1/10\n"
     ]
    },
    {
     "name": "stderr",
     "output_type": "stream",
     "text": [
      "Generating data: 100%|██████████████████████████████████████████████████████████████████████| 10000/10000 [00:01<00:00, 8558.80it/s]\n",
      "Training: 100%|████████████████████████████████████████████████████████████████████████████████| 1000/1000 [00:08<00:00, 121.05it/s]\n",
      "Training: 100%|████████████████████████████████████████████████████████████████████████████████| 1000/1000 [00:03<00:00, 255.41it/s]\n",
      "Training: 100%|████████████████████████████████████████████████████████████████████████████████| 1000/1000 [00:03<00:00, 284.76it/s]\n",
      "Training: 100%|████████████████████████████████████████████████████████████████████████████████| 1000/1000 [00:04<00:00, 248.43it/s]\n",
      "Training: 100%|████████████████████████████████████████████████████████████████████████████████| 1000/1000 [00:04<00:00, 227.82it/s]\n",
      "Testing 4x4: 100%|██████████████████████████████████████████████████████████████████████████████| 100/100 [00:00<00:00, 3108.41it/s]\n"
     ]
    },
    {
     "name": "stdout",
     "output_type": "stream",
     "text": [
      "\n",
      "4x4 Results:\n",
      "Accuracy: 93.00%\n",
      "Avg prediction | Perc: 0.862\n",
      "Avg prediction | Non-Perc: 0.095\n"
     ]
    },
    {
     "name": "stderr",
     "output_type": "stream",
     "text": [
      "Testing 16x16: 100%|████████████████████████████████████████████████████████████████████████████| 100/100 [00:00<00:00, 1099.19it/s]\n"
     ]
    },
    {
     "name": "stdout",
     "output_type": "stream",
     "text": [
      "\n",
      "16x16 Results:\n",
      "Accuracy: 96.00%\n",
      "Avg prediction | Perc: 0.921\n",
      "Avg prediction | Non-Perc: 0.040\n"
     ]
    },
    {
     "name": "stderr",
     "output_type": "stream",
     "text": [
      "Testing 64x64: 100%|█████████████████████████████████████████████████████████████████████████████| 100/100 [00:00<00:00, 353.59it/s]\n"
     ]
    },
    {
     "name": "stdout",
     "output_type": "stream",
     "text": [
      "\n",
      "64x64 Results:\n",
      "Accuracy: 100.00%\n",
      "Avg prediction | Perc: 0.980\n",
      "Avg prediction | Non-Perc: 0.020\n"
     ]
    },
    {
     "name": "stderr",
     "output_type": "stream",
     "text": [
      "Testing 16x16: 100%|████████████████████████████████████████████████████████████████████████████| 200/200 [00:00<00:00, 1553.29it/s]\n"
     ]
    },
    {
     "name": "stdout",
     "output_type": "stream",
     "text": [
      "\n",
      "16x16 Results:\n",
      "Accuracy: 70.00%\n",
      "Avg prediction | Perc: 0.818\n",
      "Avg prediction | Non-Perc: 0.662\n",
      "\n",
      "Running 4^2 - Run 2/10\n"
     ]
    },
    {
     "name": "stderr",
     "output_type": "stream",
     "text": [
      "Generating data: 100%|██████████████████████████████████████████████████████████████████████| 10000/10000 [00:01<00:00, 9132.59it/s]\n",
      "Training: 100%|████████████████████████████████████████████████████████████████████████████████| 1000/1000 [00:03<00:00, 273.30it/s]\n",
      "Training: 100%|████████████████████████████████████████████████████████████████████████████████| 1000/1000 [00:03<00:00, 274.62it/s]\n",
      "Training: 100%|████████████████████████████████████████████████████████████████████████████████| 1000/1000 [00:03<00:00, 281.24it/s]\n",
      "Training: 100%|████████████████████████████████████████████████████████████████████████████████| 1000/1000 [00:03<00:00, 250.52it/s]\n",
      "Training: 100%|████████████████████████████████████████████████████████████████████████████████| 1000/1000 [00:04<00:00, 237.34it/s]\n",
      "Testing 4x4: 100%|██████████████████████████████████████████████████████████████████████████████| 100/100 [00:00<00:00, 3114.74it/s]\n"
     ]
    },
    {
     "name": "stdout",
     "output_type": "stream",
     "text": [
      "\n",
      "4x4 Results:\n",
      "Accuracy: 92.00%\n",
      "Avg prediction | Perc: 0.857\n",
      "Avg prediction | Non-Perc: 0.120\n"
     ]
    },
    {
     "name": "stderr",
     "output_type": "stream",
     "text": [
      "Testing 16x16: 100%|████████████████████████████████████████████████████████████████████████████| 100/100 [00:00<00:00, 1880.17it/s]\n"
     ]
    },
    {
     "name": "stdout",
     "output_type": "stream",
     "text": [
      "\n",
      "16x16 Results:\n",
      "Accuracy: 93.00%\n",
      "Avg prediction | Perc: 0.930\n",
      "Avg prediction | Non-Perc: 0.080\n"
     ]
    },
    {
     "name": "stderr",
     "output_type": "stream",
     "text": [
      "Testing 64x64: 100%|█████████████████████████████████████████████████████████████████████████████| 100/100 [00:00<00:00, 390.87it/s]\n"
     ]
    },
    {
     "name": "stdout",
     "output_type": "stream",
     "text": [
      "\n",
      "64x64 Results:\n",
      "Accuracy: 95.00%\n",
      "Avg prediction | Perc: 0.947\n",
      "Avg prediction | Non-Perc: 0.056\n"
     ]
    },
    {
     "name": "stderr",
     "output_type": "stream",
     "text": [
      "Testing 16x16: 100%|████████████████████████████████████████████████████████████████████████████| 200/200 [00:00<00:00, 1707.50it/s]\n"
     ]
    },
    {
     "name": "stdout",
     "output_type": "stream",
     "text": [
      "\n",
      "16x16 Results:\n",
      "Accuracy: 79.00%\n",
      "Avg prediction | Perc: 0.803\n",
      "Avg prediction | Non-Perc: 0.588\n",
      "\n",
      "Running 4^2 - Run 3/10\n"
     ]
    },
    {
     "name": "stderr",
     "output_type": "stream",
     "text": [
      "Generating data: 100%|██████████████████████████████████████████████████████████████████████| 10000/10000 [00:01<00:00, 9370.21it/s]\n",
      "Training: 100%|████████████████████████████████████████████████████████████████████████████████| 1000/1000 [00:03<00:00, 254.15it/s]\n",
      "Training: 100%|████████████████████████████████████████████████████████████████████████████████| 1000/1000 [00:03<00:00, 261.56it/s]\n",
      "Training: 100%|████████████████████████████████████████████████████████████████████████████████| 1000/1000 [00:03<00:00, 262.49it/s]\n",
      "Training: 100%|████████████████████████████████████████████████████████████████████████████████| 1000/1000 [00:03<00:00, 266.69it/s]\n",
      "Training: 100%|████████████████████████████████████████████████████████████████████████████████| 1000/1000 [00:03<00:00, 254.34it/s]\n",
      "Testing 4x4: 100%|██████████████████████████████████████████████████████████████████████████████| 100/100 [00:00<00:00, 3161.79it/s]\n"
     ]
    },
    {
     "name": "stdout",
     "output_type": "stream",
     "text": [
      "\n",
      "4x4 Results:\n",
      "Accuracy: 92.00%\n",
      "Avg prediction | Perc: 0.870\n",
      "Avg prediction | Non-Perc: 0.101\n"
     ]
    },
    {
     "name": "stderr",
     "output_type": "stream",
     "text": [
      "Testing 16x16: 100%|████████████████████████████████████████████████████████████████████████████| 100/100 [00:00<00:00, 1605.26it/s]\n"
     ]
    },
    {
     "name": "stdout",
     "output_type": "stream",
     "text": [
      "\n",
      "16x16 Results:\n",
      "Accuracy: 96.00%\n",
      "Avg prediction | Perc: 0.932\n",
      "Avg prediction | Non-Perc: 0.048\n"
     ]
    },
    {
     "name": "stderr",
     "output_type": "stream",
     "text": [
      "Testing 64x64: 100%|█████████████████████████████████████████████████████████████████████████████| 100/100 [00:00<00:00, 389.57it/s]\n"
     ]
    },
    {
     "name": "stdout",
     "output_type": "stream",
     "text": [
      "\n",
      "64x64 Results:\n",
      "Accuracy: 97.00%\n",
      "Avg prediction | Perc: 0.969\n",
      "Avg prediction | Non-Perc: 0.030\n"
     ]
    },
    {
     "name": "stderr",
     "output_type": "stream",
     "text": [
      "Testing 16x16: 100%|████████████████████████████████████████████████████████████████████████████| 200/200 [00:00<00:00, 1710.14it/s]\n"
     ]
    },
    {
     "name": "stdout",
     "output_type": "stream",
     "text": [
      "\n",
      "16x16 Results:\n",
      "Accuracy: 76.00%\n",
      "Avg prediction | Perc: 0.814\n",
      "Avg prediction | Non-Perc: 0.606\n",
      "\n",
      "Running 4^2 - Run 4/10\n"
     ]
    },
    {
     "name": "stderr",
     "output_type": "stream",
     "text": [
      "Generating data: 100%|██████████████████████████████████████████████████████████████████████| 10000/10000 [00:01<00:00, 9281.58it/s]\n",
      "Training: 100%|████████████████████████████████████████████████████████████████████████████████| 1000/1000 [00:03<00:00, 291.57it/s]\n",
      "Training: 100%|████████████████████████████████████████████████████████████████████████████████| 1000/1000 [00:03<00:00, 285.83it/s]\n",
      "Training: 100%|████████████████████████████████████████████████████████████████████████████████| 1000/1000 [00:03<00:00, 279.90it/s]\n",
      "Training: 100%|████████████████████████████████████████████████████████████████████████████████| 1000/1000 [00:03<00:00, 289.28it/s]\n",
      "Training: 100%|████████████████████████████████████████████████████████████████████████████████| 1000/1000 [00:03<00:00, 275.71it/s]\n",
      "Testing 4x4: 100%|██████████████████████████████████████████████████████████████████████████████| 100/100 [00:00<00:00, 3692.04it/s]\n"
     ]
    },
    {
     "name": "stdout",
     "output_type": "stream",
     "text": [
      "\n",
      "4x4 Results:\n",
      "Accuracy: 91.00%\n",
      "Avg prediction | Perc: 0.853\n",
      "Avg prediction | Non-Perc: 0.108\n"
     ]
    },
    {
     "name": "stderr",
     "output_type": "stream",
     "text": [
      "Testing 16x16: 100%|████████████████████████████████████████████████████████████████████████████| 100/100 [00:00<00:00, 1719.22it/s]\n"
     ]
    },
    {
     "name": "stdout",
     "output_type": "stream",
     "text": [
      "\n",
      "16x16 Results:\n",
      "Accuracy: 90.00%\n",
      "Avg prediction | Perc: 0.859\n",
      "Avg prediction | Non-Perc: 0.079\n"
     ]
    },
    {
     "name": "stderr",
     "output_type": "stream",
     "text": [
      "Testing 64x64: 100%|█████████████████████████████████████████████████████████████████████████████| 100/100 [00:00<00:00, 381.35it/s]\n"
     ]
    },
    {
     "name": "stdout",
     "output_type": "stream",
     "text": [
      "\n",
      "64x64 Results:\n",
      "Accuracy: 96.00%\n",
      "Avg prediction | Perc: 0.983\n",
      "Avg prediction | Non-Perc: 0.062\n"
     ]
    },
    {
     "name": "stderr",
     "output_type": "stream",
     "text": [
      "Testing 16x16: 100%|████████████████████████████████████████████████████████████████████████████| 200/200 [00:00<00:00, 1528.90it/s]\n"
     ]
    },
    {
     "name": "stdout",
     "output_type": "stream",
     "text": [
      "\n",
      "16x16 Results:\n",
      "Accuracy: 75.50%\n",
      "Avg prediction | Perc: 0.818\n",
      "Avg prediction | Non-Perc: 0.617\n",
      "\n",
      "Running 4^2 - Run 5/10\n"
     ]
    },
    {
     "name": "stderr",
     "output_type": "stream",
     "text": [
      "Generating data: 100%|██████████████████████████████████████████████████████████████████████| 10000/10000 [00:01<00:00, 9167.08it/s]\n",
      "Training: 100%|████████████████████████████████████████████████████████████████████████████████| 1000/1000 [00:03<00:00, 260.42it/s]\n",
      "Training: 100%|████████████████████████████████████████████████████████████████████████████████| 1000/1000 [00:03<00:00, 264.19it/s]\n",
      "Training: 100%|████████████████████████████████████████████████████████████████████████████████| 1000/1000 [00:03<00:00, 262.99it/s]\n",
      "Training: 100%|████████████████████████████████████████████████████████████████████████████████| 1000/1000 [00:03<00:00, 267.32it/s]\n",
      "Training: 100%|████████████████████████████████████████████████████████████████████████████████| 1000/1000 [00:03<00:00, 268.95it/s]\n",
      "Testing 4x4: 100%|██████████████████████████████████████████████████████████████████████████████| 100/100 [00:00<00:00, 2892.86it/s]\n"
     ]
    },
    {
     "name": "stdout",
     "output_type": "stream",
     "text": [
      "\n",
      "4x4 Results:\n",
      "Accuracy: 90.00%\n",
      "Avg prediction | Perc: 0.881\n",
      "Avg prediction | Non-Perc: 0.123\n"
     ]
    },
    {
     "name": "stderr",
     "output_type": "stream",
     "text": [
      "Testing 16x16: 100%|████████████████████████████████████████████████████████████████████████████| 100/100 [00:00<00:00, 1592.63it/s]\n"
     ]
    },
    {
     "name": "stdout",
     "output_type": "stream",
     "text": [
      "\n",
      "16x16 Results:\n",
      "Accuracy: 93.00%\n",
      "Avg prediction | Perc: 0.947\n",
      "Avg prediction | Non-Perc: 0.086\n"
     ]
    },
    {
     "name": "stderr",
     "output_type": "stream",
     "text": [
      "Testing 64x64: 100%|█████████████████████████████████████████████████████████████████████████████| 100/100 [00:00<00:00, 384.76it/s]\n"
     ]
    },
    {
     "name": "stdout",
     "output_type": "stream",
     "text": [
      "\n",
      "64x64 Results:\n",
      "Accuracy: 96.00%\n",
      "Avg prediction | Perc: 0.994\n",
      "Avg prediction | Non-Perc: 0.081\n"
     ]
    },
    {
     "name": "stderr",
     "output_type": "stream",
     "text": [
      "Testing 16x16: 100%|████████████████████████████████████████████████████████████████████████████| 200/200 [00:00<00:00, 1645.25it/s]\n"
     ]
    },
    {
     "name": "stdout",
     "output_type": "stream",
     "text": [
      "\n",
      "16x16 Results:\n",
      "Accuracy: 79.00%\n",
      "Avg prediction | Perc: 0.868\n",
      "Avg prediction | Non-Perc: 0.638\n",
      "\n",
      "Running 4^2 - Run 6/10\n"
     ]
    },
    {
     "name": "stderr",
     "output_type": "stream",
     "text": [
      "Generating data: 100%|██████████████████████████████████████████████████████████████████████| 10000/10000 [00:01<00:00, 9419.31it/s]\n",
      "Training: 100%|████████████████████████████████████████████████████████████████████████████████| 1000/1000 [00:03<00:00, 271.71it/s]\n",
      "Training: 100%|████████████████████████████████████████████████████████████████████████████████| 1000/1000 [00:03<00:00, 256.13it/s]\n",
      "Training: 100%|████████████████████████████████████████████████████████████████████████████████| 1000/1000 [00:03<00:00, 279.36it/s]\n",
      "Training: 100%|████████████████████████████████████████████████████████████████████████████████| 1000/1000 [00:03<00:00, 270.51it/s]\n",
      "Training: 100%|████████████████████████████████████████████████████████████████████████████████| 1000/1000 [00:03<00:00, 273.91it/s]\n",
      "Testing 4x4: 100%|██████████████████████████████████████████████████████████████████████████████| 100/100 [00:00<00:00, 3100.14it/s]\n"
     ]
    },
    {
     "name": "stdout",
     "output_type": "stream",
     "text": [
      "\n",
      "4x4 Results:\n",
      "Accuracy: 91.00%\n",
      "Avg prediction | Perc: 0.875\n",
      "Avg prediction | Non-Perc: 0.141\n"
     ]
    },
    {
     "name": "stderr",
     "output_type": "stream",
     "text": [
      "Testing 16x16: 100%|████████████████████████████████████████████████████████████████████████████| 100/100 [00:00<00:00, 1605.03it/s]\n"
     ]
    },
    {
     "name": "stdout",
     "output_type": "stream",
     "text": [
      "\n",
      "16x16 Results:\n",
      "Accuracy: 98.00%\n",
      "Avg prediction | Perc: 0.968\n",
      "Avg prediction | Non-Perc: 0.065\n"
     ]
    },
    {
     "name": "stderr",
     "output_type": "stream",
     "text": [
      "Testing 64x64: 100%|█████████████████████████████████████████████████████████████████████████████| 100/100 [00:00<00:00, 371.54it/s]\n"
     ]
    },
    {
     "name": "stdout",
     "output_type": "stream",
     "text": [
      "\n",
      "64x64 Results:\n",
      "Accuracy: 97.00%\n",
      "Avg prediction | Perc: 0.978\n",
      "Avg prediction | Non-Perc: 0.052\n"
     ]
    },
    {
     "name": "stderr",
     "output_type": "stream",
     "text": [
      "Testing 16x16: 100%|████████████████████████████████████████████████████████████████████████████| 200/200 [00:00<00:00, 1593.57it/s]\n"
     ]
    },
    {
     "name": "stdout",
     "output_type": "stream",
     "text": [
      "\n",
      "16x16 Results:\n",
      "Accuracy: 73.00%\n",
      "Avg prediction | Perc: 0.759\n",
      "Avg prediction | Non-Perc: 0.569\n",
      "\n",
      "Running 4^2 - Run 7/10\n"
     ]
    },
    {
     "name": "stderr",
     "output_type": "stream",
     "text": [
      "Generating data: 100%|██████████████████████████████████████████████████████████████████████| 10000/10000 [00:01<00:00, 9039.72it/s]\n",
      "Training: 100%|████████████████████████████████████████████████████████████████████████████████| 1000/1000 [00:03<00:00, 276.84it/s]\n",
      "Training: 100%|████████████████████████████████████████████████████████████████████████████████| 1000/1000 [00:03<00:00, 262.41it/s]\n",
      "Training: 100%|████████████████████████████████████████████████████████████████████████████████| 1000/1000 [00:03<00:00, 260.69it/s]\n",
      "Training: 100%|████████████████████████████████████████████████████████████████████████████████| 1000/1000 [00:03<00:00, 270.96it/s]\n",
      "Training: 100%|████████████████████████████████████████████████████████████████████████████████| 1000/1000 [00:03<00:00, 274.94it/s]\n",
      "Testing 4x4: 100%|██████████████████████████████████████████████████████████████████████████████| 100/100 [00:00<00:00, 3557.42it/s]\n"
     ]
    },
    {
     "name": "stdout",
     "output_type": "stream",
     "text": [
      "\n",
      "4x4 Results:\n",
      "Accuracy: 91.00%\n",
      "Avg prediction | Perc: 0.870\n",
      "Avg prediction | Non-Perc: 0.143\n"
     ]
    },
    {
     "name": "stderr",
     "output_type": "stream",
     "text": [
      "Testing 16x16: 100%|████████████████████████████████████████████████████████████████████████████| 100/100 [00:00<00:00, 1559.72it/s]\n"
     ]
    },
    {
     "name": "stdout",
     "output_type": "stream",
     "text": [
      "\n",
      "16x16 Results:\n",
      "Accuracy: 96.00%\n",
      "Avg prediction | Perc: 0.907\n",
      "Avg prediction | Non-Perc: 0.040\n"
     ]
    },
    {
     "name": "stderr",
     "output_type": "stream",
     "text": [
      "Testing 64x64: 100%|█████████████████████████████████████████████████████████████████████████████| 100/100 [00:00<00:00, 381.77it/s]\n"
     ]
    },
    {
     "name": "stdout",
     "output_type": "stream",
     "text": [
      "\n",
      "64x64 Results:\n",
      "Accuracy: 95.00%\n",
      "Avg prediction | Perc: 0.911\n",
      "Avg prediction | Non-Perc: 0.026\n"
     ]
    },
    {
     "name": "stderr",
     "output_type": "stream",
     "text": [
      "Testing 16x16: 100%|████████████████████████████████████████████████████████████████████████████| 200/200 [00:00<00:00, 1442.64it/s]\n"
     ]
    },
    {
     "name": "stdout",
     "output_type": "stream",
     "text": [
      "\n",
      "16x16 Results:\n",
      "Accuracy: 78.50%\n",
      "Avg prediction | Perc: 0.802\n",
      "Avg prediction | Non-Perc: 0.596\n",
      "\n",
      "Running 4^2 - Run 8/10\n"
     ]
    },
    {
     "name": "stderr",
     "output_type": "stream",
     "text": [
      "Generating data: 100%|██████████████████████████████████████████████████████████████████████| 10000/10000 [00:01<00:00, 8892.30it/s]\n",
      "Training: 100%|████████████████████████████████████████████████████████████████████████████████| 1000/1000 [00:03<00:00, 281.02it/s]\n",
      "Training: 100%|████████████████████████████████████████████████████████████████████████████████| 1000/1000 [00:03<00:00, 270.54it/s]\n",
      "Training: 100%|████████████████████████████████████████████████████████████████████████████████| 1000/1000 [00:03<00:00, 289.34it/s]\n",
      "Training: 100%|████████████████████████████████████████████████████████████████████████████████| 1000/1000 [00:03<00:00, 272.46it/s]\n",
      "Training: 100%|████████████████████████████████████████████████████████████████████████████████| 1000/1000 [00:03<00:00, 257.42it/s]\n",
      "Testing 4x4: 100%|██████████████████████████████████████████████████████████████████████████████| 100/100 [00:00<00:00, 2646.45it/s]\n"
     ]
    },
    {
     "name": "stdout",
     "output_type": "stream",
     "text": [
      "\n",
      "4x4 Results:\n",
      "Accuracy: 92.00%\n",
      "Avg prediction | Perc: 0.868\n",
      "Avg prediction | Non-Perc: 0.102\n"
     ]
    },
    {
     "name": "stderr",
     "output_type": "stream",
     "text": [
      "Testing 16x16: 100%|████████████████████████████████████████████████████████████████████████████| 100/100 [00:00<00:00, 1547.70it/s]\n"
     ]
    },
    {
     "name": "stdout",
     "output_type": "stream",
     "text": [
      "\n",
      "16x16 Results:\n",
      "Accuracy: 97.00%\n",
      "Avg prediction | Perc: 0.966\n",
      "Avg prediction | Non-Perc: 0.096\n"
     ]
    },
    {
     "name": "stderr",
     "output_type": "stream",
     "text": [
      "Testing 64x64: 100%|█████████████████████████████████████████████████████████████████████████████| 100/100 [00:00<00:00, 383.43it/s]\n"
     ]
    },
    {
     "name": "stdout",
     "output_type": "stream",
     "text": [
      "\n",
      "64x64 Results:\n",
      "Accuracy: 97.00%\n",
      "Avg prediction | Perc: 0.958\n",
      "Avg prediction | Non-Perc: 0.043\n"
     ]
    },
    {
     "name": "stderr",
     "output_type": "stream",
     "text": [
      "Testing 16x16: 100%|████████████████████████████████████████████████████████████████████████████| 200/200 [00:00<00:00, 1809.95it/s]\n"
     ]
    },
    {
     "name": "stdout",
     "output_type": "stream",
     "text": [
      "\n",
      "16x16 Results:\n",
      "Accuracy: 73.00%\n",
      "Avg prediction | Perc: 0.803\n",
      "Avg prediction | Non-Perc: 0.616\n",
      "\n",
      "Running 4^2 - Run 9/10\n"
     ]
    },
    {
     "name": "stderr",
     "output_type": "stream",
     "text": [
      "Generating data: 100%|██████████████████████████████████████████████████████████████████████| 10000/10000 [00:01<00:00, 9365.34it/s]\n",
      "Training: 100%|████████████████████████████████████████████████████████████████████████████████| 1000/1000 [00:03<00:00, 278.96it/s]\n",
      "Training: 100%|████████████████████████████████████████████████████████████████████████████████| 1000/1000 [00:03<00:00, 283.12it/s]\n",
      "Training: 100%|████████████████████████████████████████████████████████████████████████████████| 1000/1000 [00:03<00:00, 271.67it/s]\n",
      "Training: 100%|████████████████████████████████████████████████████████████████████████████████| 1000/1000 [00:03<00:00, 261.14it/s]\n",
      "Training: 100%|████████████████████████████████████████████████████████████████████████████████| 1000/1000 [00:03<00:00, 261.86it/s]\n",
      "Testing 4x4: 100%|██████████████████████████████████████████████████████████████████████████████| 100/100 [00:00<00:00, 3107.35it/s]\n"
     ]
    },
    {
     "name": "stdout",
     "output_type": "stream",
     "text": [
      "\n",
      "4x4 Results:\n",
      "Accuracy: 91.00%\n",
      "Avg prediction | Perc: 0.862\n",
      "Avg prediction | Non-Perc: 0.122\n"
     ]
    },
    {
     "name": "stderr",
     "output_type": "stream",
     "text": [
      "Testing 16x16: 100%|████████████████████████████████████████████████████████████████████████████| 100/100 [00:00<00:00, 1564.01it/s]\n"
     ]
    },
    {
     "name": "stdout",
     "output_type": "stream",
     "text": [
      "\n",
      "16x16 Results:\n",
      "Accuracy: 95.00%\n",
      "Avg prediction | Perc: 0.914\n",
      "Avg prediction | Non-Perc: 0.070\n"
     ]
    },
    {
     "name": "stderr",
     "output_type": "stream",
     "text": [
      "Testing 64x64: 100%|█████████████████████████████████████████████████████████████████████████████| 100/100 [00:00<00:00, 354.20it/s]\n"
     ]
    },
    {
     "name": "stdout",
     "output_type": "stream",
     "text": [
      "\n",
      "64x64 Results:\n",
      "Accuracy: 97.00%\n",
      "Avg prediction | Perc: 0.931\n",
      "Avg prediction | Non-Perc: 0.004\n"
     ]
    },
    {
     "name": "stderr",
     "output_type": "stream",
     "text": [
      "Testing 16x16: 100%|████████████████████████████████████████████████████████████████████████████| 200/200 [00:00<00:00, 1658.86it/s]\n"
     ]
    },
    {
     "name": "stdout",
     "output_type": "stream",
     "text": [
      "\n",
      "16x16 Results:\n",
      "Accuracy: 76.00%\n",
      "Avg prediction | Perc: 0.738\n",
      "Avg prediction | Non-Perc: 0.544\n",
      "\n",
      "Running 4^2 - Run 10/10\n"
     ]
    },
    {
     "name": "stderr",
     "output_type": "stream",
     "text": [
      "Generating data: 100%|██████████████████████████████████████████████████████████████████████| 10000/10000 [00:01<00:00, 9221.03it/s]\n",
      "Training: 100%|████████████████████████████████████████████████████████████████████████████████| 1000/1000 [00:03<00:00, 271.67it/s]\n",
      "Training: 100%|████████████████████████████████████████████████████████████████████████████████| 1000/1000 [00:03<00:00, 278.68it/s]\n",
      "Training: 100%|████████████████████████████████████████████████████████████████████████████████| 1000/1000 [00:03<00:00, 273.72it/s]\n",
      "Training: 100%|████████████████████████████████████████████████████████████████████████████████| 1000/1000 [00:03<00:00, 281.05it/s]\n",
      "Training: 100%|████████████████████████████████████████████████████████████████████████████████| 1000/1000 [00:03<00:00, 279.16it/s]\n",
      "Testing 4x4: 100%|██████████████████████████████████████████████████████████████████████████████| 100/100 [00:00<00:00, 3325.99it/s]\n"
     ]
    },
    {
     "name": "stdout",
     "output_type": "stream",
     "text": [
      "\n",
      "4x4 Results:\n",
      "Accuracy: 88.00%\n",
      "Avg prediction | Perc: 0.856\n",
      "Avg prediction | Non-Perc: 0.152\n"
     ]
    },
    {
     "name": "stderr",
     "output_type": "stream",
     "text": [
      "Testing 16x16: 100%|████████████████████████████████████████████████████████████████████████████| 100/100 [00:00<00:00, 1618.94it/s]\n"
     ]
    },
    {
     "name": "stdout",
     "output_type": "stream",
     "text": [
      "\n",
      "16x16 Results:\n",
      "Accuracy: 93.00%\n",
      "Avg prediction | Perc: 0.950\n",
      "Avg prediction | Non-Perc: 0.082\n"
     ]
    },
    {
     "name": "stderr",
     "output_type": "stream",
     "text": [
      "Testing 64x64: 100%|█████████████████████████████████████████████████████████████████████████████| 100/100 [00:00<00:00, 387.81it/s]\n"
     ]
    },
    {
     "name": "stdout",
     "output_type": "stream",
     "text": [
      "\n",
      "64x64 Results:\n",
      "Accuracy: 94.00%\n",
      "Avg prediction | Perc: 0.999\n",
      "Avg prediction | Non-Perc: 0.110\n"
     ]
    },
    {
     "name": "stderr",
     "output_type": "stream",
     "text": [
      "Testing 16x16: 100%|████████████████████████████████████████████████████████████████████████████| 200/200 [00:00<00:00, 1647.19it/s]\n"
     ]
    },
    {
     "name": "stdout",
     "output_type": "stream",
     "text": [
      "\n",
      "16x16 Results:\n",
      "Accuracy: 75.50%\n",
      "Avg prediction | Perc: 0.908\n",
      "Avg prediction | Non-Perc: 0.751\n",
      "\n",
      "Running 4^3 - Run 1/10\n"
     ]
    },
    {
     "name": "stderr",
     "output_type": "stream",
     "text": [
      "Generating data: 100%|██████████████████████████████████████████████████████████████████████| 10000/10000 [00:02<00:00, 3912.42it/s]\n",
      "Training: 100%|█████████████████████████████████████████████████████████████████████████████████| 1000/1000 [00:20<00:00, 48.73it/s]\n",
      "Training: 100%|█████████████████████████████████████████████████████████████████████████████████| 1000/1000 [00:20<00:00, 48.72it/s]\n",
      "Training: 100%|█████████████████████████████████████████████████████████████████████████████████| 1000/1000 [00:21<00:00, 47.57it/s]\n",
      "Training: 100%|█████████████████████████████████████████████████████████████████████████████████| 1000/1000 [00:21<00:00, 45.84it/s]\n",
      "Training: 100%|█████████████████████████████████████████████████████████████████████████████████| 1000/1000 [00:21<00:00, 46.83it/s]\n",
      "Testing 16x16: 100%|████████████████████████████████████████████████████████████████████████████| 100/100 [00:00<00:00, 1678.53it/s]\n"
     ]
    },
    {
     "name": "stdout",
     "output_type": "stream",
     "text": [
      "\n",
      "16x16 Results:\n",
      "Accuracy: 13.00%\n",
      "Avg prediction | Perc: 0.246\n",
      "Avg prediction | Non-Perc: 0.988\n"
     ]
    },
    {
     "name": "stderr",
     "output_type": "stream",
     "text": [
      "Testing 64x64: 100%|█████████████████████████████████████████████████████████████████████████████| 100/100 [00:00<00:00, 352.88it/s]\n"
     ]
    },
    {
     "name": "stdout",
     "output_type": "stream",
     "text": [
      "\n",
      "64x64 Results:\n",
      "Accuracy: 97.00%\n",
      "Avg prediction | Perc: 0.976\n",
      "Avg prediction | Non-Perc: 0.036\n"
     ]
    },
    {
     "name": "stderr",
     "output_type": "stream",
     "text": [
      "Testing 256x256: 100%|████████████████████████████████████████████████████████████████████████████| 100/100 [00:03<00:00, 30.95it/s]\n"
     ]
    },
    {
     "name": "stdout",
     "output_type": "stream",
     "text": [
      "\n",
      "256x256 Results:\n",
      "Accuracy: 1.00%\n",
      "Avg prediction | Perc: 0.019\n",
      "Avg prediction | Non-Perc: 1.000\n"
     ]
    },
    {
     "name": "stderr",
     "output_type": "stream",
     "text": [
      "Testing 64x64: 100%|█████████████████████████████████████████████████████████████████████████████| 200/200 [00:00<00:00, 353.85it/s]\n"
     ]
    },
    {
     "name": "stdout",
     "output_type": "stream",
     "text": [
      "\n",
      "64x64 Results:\n",
      "Accuracy: 70.00%\n",
      "Avg prediction | Perc: 0.753\n",
      "Avg prediction | Non-Perc: 0.509\n",
      "\n",
      "Running 4^3 - Run 2/10\n"
     ]
    },
    {
     "name": "stderr",
     "output_type": "stream",
     "text": [
      "Generating data: 100%|██████████████████████████████████████████████████████████████████████| 10000/10000 [00:02<00:00, 3765.55it/s]\n",
      "Training: 100%|█████████████████████████████████████████████████████████████████████████████████| 1000/1000 [00:21<00:00, 46.18it/s]\n",
      "Training: 100%|█████████████████████████████████████████████████████████████████████████████████| 1000/1000 [00:21<00:00, 46.32it/s]\n",
      "Training: 100%|█████████████████████████████████████████████████████████████████████████████████| 1000/1000 [00:20<00:00, 48.85it/s]\n",
      "Training: 100%|█████████████████████████████████████████████████████████████████████████████████| 1000/1000 [00:20<00:00, 47.87it/s]\n",
      "Training: 100%|█████████████████████████████████████████████████████████████████████████████████| 1000/1000 [00:20<00:00, 47.84it/s]\n",
      "Testing 16x16: 100%|████████████████████████████████████████████████████████████████████████████| 100/100 [00:00<00:00, 1701.54it/s]\n"
     ]
    },
    {
     "name": "stdout",
     "output_type": "stream",
     "text": [
      "\n",
      "16x16 Results:\n",
      "Accuracy: 98.00%\n",
      "Avg prediction | Perc: 0.945\n",
      "Avg prediction | Non-Perc: 0.053\n"
     ]
    },
    {
     "name": "stderr",
     "output_type": "stream",
     "text": [
      "Testing 64x64: 100%|█████████████████████████████████████████████████████████████████████████████| 100/100 [00:00<00:00, 382.35it/s]\n"
     ]
    },
    {
     "name": "stdout",
     "output_type": "stream",
     "text": [
      "\n",
      "64x64 Results:\n",
      "Accuracy: 99.00%\n",
      "Avg prediction | Perc: 0.989\n",
      "Avg prediction | Non-Perc: 0.019\n"
     ]
    },
    {
     "name": "stderr",
     "output_type": "stream",
     "text": [
      "Testing 256x256: 100%|████████████████████████████████████████████████████████████████████████████| 100/100 [00:03<00:00, 30.38it/s]\n"
     ]
    },
    {
     "name": "stdout",
     "output_type": "stream",
     "text": [
      "\n",
      "256x256 Results:\n",
      "Accuracy: 99.00%\n",
      "Avg prediction | Perc: 0.992\n",
      "Avg prediction | Non-Perc: 0.018\n"
     ]
    },
    {
     "name": "stderr",
     "output_type": "stream",
     "text": [
      "Testing 64x64: 100%|█████████████████████████████████████████████████████████████████████████████| 200/200 [00:00<00:00, 356.10it/s]\n"
     ]
    },
    {
     "name": "stdout",
     "output_type": "stream",
     "text": [
      "\n",
      "64x64 Results:\n",
      "Accuracy: 75.00%\n",
      "Avg prediction | Perc: 0.847\n",
      "Avg prediction | Non-Perc: 0.664\n",
      "\n",
      "Running 4^3 - Run 3/10\n"
     ]
    },
    {
     "name": "stderr",
     "output_type": "stream",
     "text": [
      "Generating data: 100%|██████████████████████████████████████████████████████████████████████| 10000/10000 [00:02<00:00, 3967.08it/s]\n",
      "Training: 100%|█████████████████████████████████████████████████████████████████████████████████| 1000/1000 [00:20<00:00, 48.10it/s]\n",
      "Training: 100%|█████████████████████████████████████████████████████████████████████████████████| 1000/1000 [00:20<00:00, 47.96it/s]\n",
      "Training: 100%|█████████████████████████████████████████████████████████████████████████████████| 1000/1000 [00:24<00:00, 40.09it/s]\n",
      "Training: 100%|█████████████████████████████████████████████████████████████████████████████████| 1000/1000 [00:22<00:00, 45.10it/s]\n",
      "Training: 100%|█████████████████████████████████████████████████████████████████████████████████| 1000/1000 [00:20<00:00, 48.52it/s]\n",
      "Testing 16x16: 100%|████████████████████████████████████████████████████████████████████████████| 100/100 [00:00<00:00, 1478.51it/s]\n"
     ]
    },
    {
     "name": "stdout",
     "output_type": "stream",
     "text": [
      "\n",
      "16x16 Results:\n",
      "Accuracy: 3.00%\n",
      "Avg prediction | Perc: 0.093\n",
      "Avg prediction | Non-Perc: 0.970\n"
     ]
    },
    {
     "name": "stderr",
     "output_type": "stream",
     "text": [
      "Testing 64x64: 100%|█████████████████████████████████████████████████████████████████████████████| 100/100 [00:00<00:00, 352.85it/s]\n"
     ]
    },
    {
     "name": "stdout",
     "output_type": "stream",
     "text": [
      "\n",
      "64x64 Results:\n",
      "Accuracy: 99.00%\n",
      "Avg prediction | Perc: 0.974\n",
      "Avg prediction | Non-Perc: 0.015\n"
     ]
    },
    {
     "name": "stderr",
     "output_type": "stream",
     "text": [
      "Testing 256x256: 100%|████████████████████████████████████████████████████████████████████████████| 100/100 [00:03<00:00, 31.89it/s]\n"
     ]
    },
    {
     "name": "stdout",
     "output_type": "stream",
     "text": [
      "\n",
      "256x256 Results:\n",
      "Accuracy: 0.00%\n",
      "Avg prediction | Perc: 0.017\n",
      "Avg prediction | Non-Perc: 0.995\n"
     ]
    },
    {
     "name": "stderr",
     "output_type": "stream",
     "text": [
      "Testing 64x64: 100%|█████████████████████████████████████████████████████████████████████████████| 200/200 [00:00<00:00, 367.86it/s]\n"
     ]
    },
    {
     "name": "stdout",
     "output_type": "stream",
     "text": [
      "\n",
      "64x64 Results:\n",
      "Accuracy: 75.00%\n",
      "Avg prediction | Perc: 0.901\n",
      "Avg prediction | Non-Perc: 0.788\n",
      "\n",
      "Running 4^3 - Run 4/10\n"
     ]
    },
    {
     "name": "stderr",
     "output_type": "stream",
     "text": [
      "Generating data: 100%|██████████████████████████████████████████████████████████████████████| 10000/10000 [00:02<00:00, 3949.22it/s]\n",
      "Training: 100%|█████████████████████████████████████████████████████████████████████████████████| 1000/1000 [00:20<00:00, 48.19it/s]\n",
      "Training: 100%|█████████████████████████████████████████████████████████████████████████████████| 1000/1000 [00:20<00:00, 47.92it/s]\n",
      "Training: 100%|█████████████████████████████████████████████████████████████████████████████████| 1000/1000 [00:20<00:00, 48.94it/s]\n",
      "Training: 100%|█████████████████████████████████████████████████████████████████████████████████| 1000/1000 [00:20<00:00, 49.10it/s]\n",
      "Training: 100%|█████████████████████████████████████████████████████████████████████████████████| 1000/1000 [00:20<00:00, 48.53it/s]\n",
      "Testing 16x16: 100%|████████████████████████████████████████████████████████████████████████████| 100/100 [00:00<00:00, 1701.41it/s]\n"
     ]
    },
    {
     "name": "stdout",
     "output_type": "stream",
     "text": [
      "\n",
      "16x16 Results:\n",
      "Accuracy: 6.00%\n",
      "Avg prediction | Perc: 0.239\n",
      "Avg prediction | Non-Perc: 0.994\n"
     ]
    },
    {
     "name": "stderr",
     "output_type": "stream",
     "text": [
      "Testing 64x64: 100%|█████████████████████████████████████████████████████████████████████████████| 100/100 [00:00<00:00, 374.58it/s]\n"
     ]
    },
    {
     "name": "stdout",
     "output_type": "stream",
     "text": [
      "\n",
      "64x64 Results:\n",
      "Accuracy: 96.00%\n",
      "Avg prediction | Perc: 0.920\n",
      "Avg prediction | Non-Perc: 0.019\n"
     ]
    },
    {
     "name": "stderr",
     "output_type": "stream",
     "text": [
      "Testing 256x256: 100%|████████████████████████████████████████████████████████████████████████████| 100/100 [00:03<00:00, 32.84it/s]\n"
     ]
    },
    {
     "name": "stdout",
     "output_type": "stream",
     "text": [
      "\n",
      "256x256 Results:\n",
      "Accuracy: 3.00%\n",
      "Avg prediction | Perc: 0.082\n",
      "Avg prediction | Non-Perc: 1.000\n"
     ]
    },
    {
     "name": "stderr",
     "output_type": "stream",
     "text": [
      "Testing 64x64: 100%|█████████████████████████████████████████████████████████████████████████████| 200/200 [00:00<00:00, 382.64it/s]\n"
     ]
    },
    {
     "name": "stdout",
     "output_type": "stream",
     "text": [
      "\n",
      "64x64 Results:\n",
      "Accuracy: 65.00%\n",
      "Avg prediction | Perc: 0.592\n",
      "Avg prediction | Non-Perc: 0.417\n",
      "\n",
      "Running 4^3 - Run 5/10\n"
     ]
    },
    {
     "name": "stderr",
     "output_type": "stream",
     "text": [
      "Generating data: 100%|██████████████████████████████████████████████████████████████████████| 10000/10000 [00:02<00:00, 4066.33it/s]\n",
      "Training: 100%|█████████████████████████████████████████████████████████████████████████████████| 1000/1000 [00:20<00:00, 47.80it/s]\n",
      "Training: 100%|█████████████████████████████████████████████████████████████████████████████████| 1000/1000 [00:20<00:00, 48.34it/s]\n",
      "Training: 100%|█████████████████████████████████████████████████████████████████████████████████| 1000/1000 [00:20<00:00, 48.46it/s]\n",
      "Training: 100%|█████████████████████████████████████████████████████████████████████████████████| 1000/1000 [00:20<00:00, 48.49it/s]\n",
      "Training: 100%|█████████████████████████████████████████████████████████████████████████████████| 1000/1000 [00:20<00:00, 48.11it/s]\n",
      "Testing 16x16: 100%|████████████████████████████████████████████████████████████████████████████| 100/100 [00:00<00:00, 1682.25it/s]\n"
     ]
    },
    {
     "name": "stdout",
     "output_type": "stream",
     "text": [
      "\n",
      "16x16 Results:\n",
      "Accuracy: 94.00%\n",
      "Avg prediction | Perc: 0.913\n",
      "Avg prediction | Non-Perc: 0.077\n"
     ]
    },
    {
     "name": "stderr",
     "output_type": "stream",
     "text": [
      "Testing 64x64: 100%|█████████████████████████████████████████████████████████████████████████████| 100/100 [00:00<00:00, 354.11it/s]\n"
     ]
    },
    {
     "name": "stdout",
     "output_type": "stream",
     "text": [
      "\n",
      "64x64 Results:\n",
      "Accuracy: 99.00%\n",
      "Avg prediction | Perc: 0.982\n",
      "Avg prediction | Non-Perc: 0.033\n"
     ]
    },
    {
     "name": "stderr",
     "output_type": "stream",
     "text": [
      "Testing 256x256: 100%|████████████████████████████████████████████████████████████████████████████| 100/100 [00:03<00:00, 31.58it/s]\n"
     ]
    },
    {
     "name": "stdout",
     "output_type": "stream",
     "text": [
      "\n",
      "256x256 Results:\n",
      "Accuracy: 100.00%\n",
      "Avg prediction | Perc: 0.997\n",
      "Avg prediction | Non-Perc: 0.002\n"
     ]
    },
    {
     "name": "stderr",
     "output_type": "stream",
     "text": [
      "Testing 64x64: 100%|█████████████████████████████████████████████████████████████████████████████| 200/200 [00:00<00:00, 345.95it/s]\n"
     ]
    },
    {
     "name": "stdout",
     "output_type": "stream",
     "text": [
      "\n",
      "64x64 Results:\n",
      "Accuracy: 70.00%\n",
      "Avg prediction | Perc: 0.894\n",
      "Avg prediction | Non-Perc: 0.759\n",
      "\n",
      "Running 4^3 - Run 6/10\n"
     ]
    },
    {
     "name": "stderr",
     "output_type": "stream",
     "text": [
      "Generating data: 100%|██████████████████████████████████████████████████████████████████████| 10000/10000 [00:02<00:00, 4033.42it/s]\n",
      "Training: 100%|█████████████████████████████████████████████████████████████████████████████████| 1000/1000 [00:21<00:00, 46.55it/s]\n",
      "Training: 100%|█████████████████████████████████████████████████████████████████████████████████| 1000/1000 [00:21<00:00, 45.74it/s]\n",
      "Training: 100%|█████████████████████████████████████████████████████████████████████████████████| 1000/1000 [00:20<00:00, 48.16it/s]\n",
      "Training: 100%|█████████████████████████████████████████████████████████████████████████████████| 1000/1000 [00:20<00:00, 47.70it/s]\n",
      "Training: 100%|█████████████████████████████████████████████████████████████████████████████████| 1000/1000 [00:20<00:00, 47.80it/s]\n",
      "Testing 16x16: 100%|████████████████████████████████████████████████████████████████████████████| 100/100 [00:00<00:00, 1592.12it/s]\n"
     ]
    },
    {
     "name": "stdout",
     "output_type": "stream",
     "text": [
      "\n",
      "16x16 Results:\n",
      "Accuracy: 3.00%\n",
      "Avg prediction | Perc: 0.135\n",
      "Avg prediction | Non-Perc: 0.987\n"
     ]
    },
    {
     "name": "stderr",
     "output_type": "stream",
     "text": [
      "Testing 64x64: 100%|█████████████████████████████████████████████████████████████████████████████| 100/100 [00:00<00:00, 365.40it/s]\n"
     ]
    },
    {
     "name": "stdout",
     "output_type": "stream",
     "text": [
      "\n",
      "64x64 Results:\n",
      "Accuracy: 96.00%\n",
      "Avg prediction | Perc: 0.972\n",
      "Avg prediction | Non-Perc: 0.059\n"
     ]
    },
    {
     "name": "stderr",
     "output_type": "stream",
     "text": [
      "Testing 256x256: 100%|████████████████████████████████████████████████████████████████████████████| 100/100 [00:03<00:00, 32.11it/s]\n"
     ]
    },
    {
     "name": "stdout",
     "output_type": "stream",
     "text": [
      "\n",
      "256x256 Results:\n",
      "Accuracy: 1.00%\n",
      "Avg prediction | Perc: 0.026\n",
      "Avg prediction | Non-Perc: 0.998\n"
     ]
    },
    {
     "name": "stderr",
     "output_type": "stream",
     "text": [
      "Testing 64x64: 100%|█████████████████████████████████████████████████████████████████████████████| 200/200 [00:00<00:00, 370.58it/s]\n"
     ]
    },
    {
     "name": "stdout",
     "output_type": "stream",
     "text": [
      "\n",
      "64x64 Results:\n",
      "Accuracy: 73.50%\n",
      "Avg prediction | Perc: 0.832\n",
      "Avg prediction | Non-Perc: 0.647\n",
      "\n",
      "Running 4^3 - Run 7/10\n"
     ]
    },
    {
     "name": "stderr",
     "output_type": "stream",
     "text": [
      "Generating data: 100%|██████████████████████████████████████████████████████████████████████| 10000/10000 [00:02<00:00, 4072.62it/s]\n",
      "Training: 100%|█████████████████████████████████████████████████████████████████████████████████| 1000/1000 [00:20<00:00, 47.86it/s]\n",
      "Training: 100%|█████████████████████████████████████████████████████████████████████████████████| 1000/1000 [00:20<00:00, 48.87it/s]\n",
      "Training: 100%|█████████████████████████████████████████████████████████████████████████████████| 1000/1000 [00:20<00:00, 48.23it/s]\n",
      "Training: 100%|█████████████████████████████████████████████████████████████████████████████████| 1000/1000 [00:20<00:00, 48.47it/s]\n",
      "Training: 100%|█████████████████████████████████████████████████████████████████████████████████| 1000/1000 [00:20<00:00, 48.54it/s]\n",
      "Testing 16x16: 100%|████████████████████████████████████████████████████████████████████████████| 100/100 [00:00<00:00, 1734.70it/s]\n"
     ]
    },
    {
     "name": "stdout",
     "output_type": "stream",
     "text": [
      "\n",
      "16x16 Results:\n",
      "Accuracy: 5.00%\n",
      "Avg prediction | Perc: 0.119\n",
      "Avg prediction | Non-Perc: 0.977\n"
     ]
    },
    {
     "name": "stderr",
     "output_type": "stream",
     "text": [
      "Testing 64x64: 100%|█████████████████████████████████████████████████████████████████████████████| 100/100 [00:00<00:00, 369.45it/s]\n"
     ]
    },
    {
     "name": "stdout",
     "output_type": "stream",
     "text": [
      "\n",
      "64x64 Results:\n",
      "Accuracy: 100.00%\n",
      "Avg prediction | Perc: 0.953\n",
      "Avg prediction | Non-Perc: 0.025\n"
     ]
    },
    {
     "name": "stderr",
     "output_type": "stream",
     "text": [
      "Testing 256x256: 100%|████████████████████████████████████████████████████████████████████████████| 100/100 [00:03<00:00, 32.67it/s]\n"
     ]
    },
    {
     "name": "stdout",
     "output_type": "stream",
     "text": [
      "\n",
      "256x256 Results:\n",
      "Accuracy: 2.00%\n",
      "Avg prediction | Perc: 0.030\n",
      "Avg prediction | Non-Perc: 0.985\n"
     ]
    },
    {
     "name": "stderr",
     "output_type": "stream",
     "text": [
      "Testing 64x64: 100%|█████████████████████████████████████████████████████████████████████████████| 200/200 [00:00<00:00, 382.66it/s]\n"
     ]
    },
    {
     "name": "stdout",
     "output_type": "stream",
     "text": [
      "\n",
      "64x64 Results:\n",
      "Accuracy: 73.00%\n",
      "Avg prediction | Perc: 0.794\n",
      "Avg prediction | Non-Perc: 0.622\n",
      "\n",
      "Running 4^3 - Run 8/10\n"
     ]
    },
    {
     "name": "stderr",
     "output_type": "stream",
     "text": [
      "Generating data: 100%|██████████████████████████████████████████████████████████████████████| 10000/10000 [00:02<00:00, 4049.61it/s]\n",
      "Training: 100%|█████████████████████████████████████████████████████████████████████████████████| 1000/1000 [00:20<00:00, 49.03it/s]\n",
      "Training: 100%|█████████████████████████████████████████████████████████████████████████████████| 1000/1000 [00:20<00:00, 49.26it/s]\n",
      "Training: 100%|█████████████████████████████████████████████████████████████████████████████████| 1000/1000 [00:20<00:00, 49.11it/s]\n",
      "Training: 100%|█████████████████████████████████████████████████████████████████████████████████| 1000/1000 [00:20<00:00, 48.95it/s]\n",
      "Training: 100%|█████████████████████████████████████████████████████████████████████████████████| 1000/1000 [00:20<00:00, 49.04it/s]\n",
      "Testing 16x16: 100%|████████████████████████████████████████████████████████████████████████████| 100/100 [00:00<00:00, 1686.88it/s]\n"
     ]
    },
    {
     "name": "stdout",
     "output_type": "stream",
     "text": [
      "\n",
      "16x16 Results:\n",
      "Accuracy: 4.00%\n",
      "Avg prediction | Perc: 0.150\n",
      "Avg prediction | Non-Perc: 0.986\n"
     ]
    },
    {
     "name": "stderr",
     "output_type": "stream",
     "text": [
      "Testing 64x64: 100%|█████████████████████████████████████████████████████████████████████████████| 100/100 [00:00<00:00, 382.50it/s]\n"
     ]
    },
    {
     "name": "stdout",
     "output_type": "stream",
     "text": [
      "\n",
      "64x64 Results:\n",
      "Accuracy: 97.00%\n",
      "Avg prediction | Perc: 0.977\n",
      "Avg prediction | Non-Perc: 0.046\n"
     ]
    },
    {
     "name": "stderr",
     "output_type": "stream",
     "text": [
      "Testing 256x256: 100%|████████████████████████████████████████████████████████████████████████████| 100/100 [00:03<00:00, 32.65it/s]\n"
     ]
    },
    {
     "name": "stdout",
     "output_type": "stream",
     "text": [
      "\n",
      "256x256 Results:\n",
      "Accuracy: 2.00%\n",
      "Avg prediction | Perc: 0.006\n",
      "Avg prediction | Non-Perc: 0.971\n"
     ]
    },
    {
     "name": "stderr",
     "output_type": "stream",
     "text": [
      "Testing 64x64: 100%|█████████████████████████████████████████████████████████████████████████████| 200/200 [00:00<00:00, 382.48it/s]\n"
     ]
    },
    {
     "name": "stdout",
     "output_type": "stream",
     "text": [
      "\n",
      "64x64 Results:\n",
      "Accuracy: 79.50%\n",
      "Avg prediction | Perc: 0.881\n",
      "Avg prediction | Non-Perc: 0.667\n",
      "\n",
      "Running 4^3 - Run 9/10\n"
     ]
    },
    {
     "name": "stderr",
     "output_type": "stream",
     "text": [
      "Generating data: 100%|██████████████████████████████████████████████████████████████████████| 10000/10000 [00:02<00:00, 4077.82it/s]\n",
      "Training: 100%|█████████████████████████████████████████████████████████████████████████████████| 1000/1000 [00:20<00:00, 49.35it/s]\n",
      "Training: 100%|█████████████████████████████████████████████████████████████████████████████████| 1000/1000 [00:20<00:00, 49.26it/s]\n",
      "Training: 100%|█████████████████████████████████████████████████████████████████████████████████| 1000/1000 [00:20<00:00, 49.06it/s]\n",
      "Training: 100%|█████████████████████████████████████████████████████████████████████████████████| 1000/1000 [00:20<00:00, 49.10it/s]\n",
      "Training: 100%|█████████████████████████████████████████████████████████████████████████████████| 1000/1000 [00:20<00:00, 48.60it/s]\n",
      "Testing 16x16: 100%|████████████████████████████████████████████████████████████████████████████| 100/100 [00:00<00:00, 1558.30it/s]\n"
     ]
    },
    {
     "name": "stdout",
     "output_type": "stream",
     "text": [
      "\n",
      "16x16 Results:\n",
      "Accuracy: 8.00%\n",
      "Avg prediction | Perc: 0.181\n",
      "Avg prediction | Non-Perc: 0.980\n"
     ]
    },
    {
     "name": "stderr",
     "output_type": "stream",
     "text": [
      "Testing 64x64: 100%|█████████████████████████████████████████████████████████████████████████████| 100/100 [00:00<00:00, 370.40it/s]\n"
     ]
    },
    {
     "name": "stdout",
     "output_type": "stream",
     "text": [
      "\n",
      "64x64 Results:\n",
      "Accuracy: 98.00%\n",
      "Avg prediction | Perc: 0.927\n",
      "Avg prediction | Non-Perc: 0.019\n"
     ]
    },
    {
     "name": "stderr",
     "output_type": "stream",
     "text": [
      "Testing 256x256: 100%|████████████████████████████████████████████████████████████████████████████| 100/100 [00:03<00:00, 32.03it/s]\n"
     ]
    },
    {
     "name": "stdout",
     "output_type": "stream",
     "text": [
      "\n",
      "256x256 Results:\n",
      "Accuracy: 2.00%\n",
      "Avg prediction | Perc: 0.074\n",
      "Avg prediction | Non-Perc: 0.999\n"
     ]
    },
    {
     "name": "stderr",
     "output_type": "stream",
     "text": [
      "Testing 64x64: 100%|█████████████████████████████████████████████████████████████████████████████| 200/200 [00:00<00:00, 371.16it/s]\n"
     ]
    },
    {
     "name": "stdout",
     "output_type": "stream",
     "text": [
      "\n",
      "64x64 Results:\n",
      "Accuracy: 67.00%\n",
      "Avg prediction | Perc: 0.612\n",
      "Avg prediction | Non-Perc: 0.435\n",
      "\n",
      "Running 4^3 - Run 10/10\n"
     ]
    },
    {
     "name": "stderr",
     "output_type": "stream",
     "text": [
      "Generating data: 100%|██████████████████████████████████████████████████████████████████████| 10000/10000 [00:02<00:00, 4040.72it/s]\n",
      "Training: 100%|█████████████████████████████████████████████████████████████████████████████████| 1000/1000 [00:20<00:00, 49.35it/s]\n",
      "Training: 100%|█████████████████████████████████████████████████████████████████████████████████| 1000/1000 [00:20<00:00, 49.22it/s]\n",
      "Training: 100%|█████████████████████████████████████████████████████████████████████████████████| 1000/1000 [00:20<00:00, 49.12it/s]\n",
      "Training: 100%|█████████████████████████████████████████████████████████████████████████████████| 1000/1000 [00:20<00:00, 49.00it/s]\n",
      "Training: 100%|█████████████████████████████████████████████████████████████████████████████████| 1000/1000 [00:20<00:00, 49.26it/s]\n",
      "Testing 16x16: 100%|████████████████████████████████████████████████████████████████████████████| 100/100 [00:00<00:00, 1719.73it/s]\n"
     ]
    },
    {
     "name": "stdout",
     "output_type": "stream",
     "text": [
      "\n",
      "16x16 Results:\n",
      "Accuracy: 9.00%\n",
      "Avg prediction | Perc: 0.224\n",
      "Avg prediction | Non-Perc: 0.992\n"
     ]
    },
    {
     "name": "stderr",
     "output_type": "stream",
     "text": [
      "Testing 64x64: 100%|█████████████████████████████████████████████████████████████████████████████| 100/100 [00:00<00:00, 378.00it/s]\n"
     ]
    },
    {
     "name": "stdout",
     "output_type": "stream",
     "text": [
      "\n",
      "64x64 Results:\n",
      "Accuracy: 100.00%\n",
      "Avg prediction | Perc: 0.992\n",
      "Avg prediction | Non-Perc: 0.022\n"
     ]
    },
    {
     "name": "stderr",
     "output_type": "stream",
     "text": [
      "Testing 256x256: 100%|████████████████████████████████████████████████████████████████████████████| 100/100 [00:03<00:00, 32.32it/s]\n"
     ]
    },
    {
     "name": "stdout",
     "output_type": "stream",
     "text": [
      "\n",
      "256x256 Results:\n",
      "Accuracy: 2.00%\n",
      "Avg prediction | Perc: 0.051\n",
      "Avg prediction | Non-Perc: 1.000\n"
     ]
    },
    {
     "name": "stderr",
     "output_type": "stream",
     "text": [
      "Testing 64x64: 100%|█████████████████████████████████████████████████████████████████████████████| 200/200 [00:00<00:00, 375.25it/s]\n"
     ]
    },
    {
     "name": "stdout",
     "output_type": "stream",
     "text": [
      "\n",
      "64x64 Results:\n",
      "Accuracy: 69.00%\n",
      "Avg prediction | Perc: 0.723\n",
      "Avg prediction | Non-Perc: 0.552\n"
     ]
    }
   ],
   "source": [
    "# Main experiment loop\n",
    "all_results = {}\n",
    "all_plots = {}\n",
    "combinations = [(3, 2), (3, 3), (3, 4), (4, 2), (4, 3)]\n",
    "n_runs = 10\n",
    "\n",
    "for DIM, POWER in combinations:\n",
    "    key = f\"{DIM}^{POWER}\"\n",
    "    all_results[key] = []\n",
    "    all_plots[key] = []\n",
    "    \n",
    "    for run in range(n_runs):\n",
    "        print(f\"\\nRunning {key} - Run {run+1}/{n_runs}\")\n",
    "        summaries, plot_data = run_experiment(DIM, POWER, run)\n",
    "        all_results[key].append(summaries)\n",
    "        all_plots[key].append(plot_data)\n",
    "    "
   ]
  },
  {
   "cell_type": "code",
   "execution_count": 4,
   "id": "fe09ad63-807a-41f3-8599-25159af1a324",
   "metadata": {},
   "outputs": [],
   "source": [
    "# Generate consolidated PDF report\n",
    "with PdfPages(\"consolidated_results.pdf\") as pdf:\n",
    "    for DIM, POWER in combinations:\n",
    "        key = f\"{DIM}^{POWER}\"\n",
    "        \n",
    "        plt.figure(figsize=(10, 6))\n",
    "        fixed_points = []\n",
    "        \n",
    "        for run_idx, (ps, outputs) in enumerate(all_plots[key]):\n",
    "            plt.plot(ps, outputs, alpha=0.5, label=f\"Run {run_idx+1}\")\n",
    "            \n",
    "            # Find intersection with f(p) = p\n",
    "            diff = np.array(outputs) - np.array(ps)\n",
    "            sign_changes = np.where(np.diff(np.sign(diff)))[0]\n",
    "            \n",
    "            # For each sign change, find the approximate fixed point\n",
    "            run_fixed_points = []\n",
    "            for i in sign_changes:\n",
    "                if i+1 < len(ps):\n",
    "                    x0, x1 = ps[i], ps[i+1]\n",
    "                    y0, y1 = outputs[i], outputs[i+1]\n",
    "                    # Linear approximation of intersection\n",
    "                    t = (x0 - y0) / ((y1 - y0) - (x1 - x0))\n",
    "                    fixed_point = x0 + t * (x1 - x0)\n",
    "                    run_fixed_points.append(fixed_point)\n",
    "            \n",
    "            if run_fixed_points:\n",
    "                # Take the fixed point closest to the known critical point (~0.5927)\n",
    "                best_fp = min(run_fixed_points, key=lambda x: abs(x - 0.5927))\n",
    "                fixed_points.append(best_fp)\n",
    "                plt.scatter([best_fp], [best_fp], color='black', s=20)\n",
    "        \n",
    "        # Plot f(p) = p line\n",
    "        plt.plot([0, 1], [0, 1], color=\"black\", linestyle=\"--\", label=\"f(p) = p\")\n",
    "        \n",
    "        # Add mean fixed point if available\n",
    "        if fixed_points:\n",
    "            mean_fp = np.mean(fixed_points)\n",
    "            plt.plot(mean_fp, mean_fp, color='red', label=f\"Mean Fixed Point: {mean_fp:.4f}\")\n",
    "        \n",
    "        plt.title(f\"PFC Rule Projection - Configuration {key}\", fontsize=18)\n",
    "        plt.xlabel(\"Density (p)\", fontsize=14)\n",
    "        plt.ylabel(r\"$f_{\\theta}(p\\mathbf{1})$\", fontsize=14)\n",
    "        plt.legend(fontsize=12)\n",
    "        pdf.savefig()\n",
    "        plt.close()\n",
    "\n",
    "# Generate consolidated text report\n",
    "with open(\"consolidated_accuracies.txt\", \"w\", encoding=\"utf8\") as f:\n",
    "    for DIM, POWER in combinations:\n",
    "        key = f\"{DIM}^{POWER}\"\n",
    "        \n",
    "        f.write(f\"\\n{'='*40}\\nConfiguration: {key}\\n{'='*40}\\n\")\n",
    "        \n",
    "        # Get fixed points for this configuration\n",
    "        config_fixed_points = []\n",
    "        for run_data in all_plots[key]:\n",
    "            ps, outputs = run_data\n",
    "            diff = np.array(outputs) - np.array(ps)\n",
    "            sign_changes = np.where(np.diff(np.sign(diff)))[0]\n",
    "            \n",
    "            run_fixed_points = []\n",
    "            for i in sign_changes:\n",
    "                if i+1 < len(ps):\n",
    "                    x0, x1 = ps[i], ps[i+1]\n",
    "                    y0, y1 = outputs[i], outputs[i+1]\n",
    "                    t = (x0 - y0) / ((y1 - y0) - (x1 - x0))\n",
    "                    fixed_point = x0 + t * (x1 - x0)\n",
    "                    run_fixed_points.append(fixed_point)\n",
    "            \n",
    "            if run_fixed_points:\n",
    "                best_fp = min(run_fixed_points, key=lambda x: abs(x - 0.5927))\n",
    "                config_fixed_points.append(best_fp)\n",
    "        \n",
    "        if config_fixed_points:\n",
    "            mean_fp = np.mean(config_fixed_points)\n",
    "            std_fp = np.std(config_fixed_points)\n",
    "            f.write(\"Fixed Points (intersection with f(p) = p):\\n\")\n",
    "            f.write(f\"  Values: {[f'{fp:.6f}' for fp in config_fixed_points]}\\n\")\n",
    "            f.write(f\"  Mean: {mean_fp:.6f} ± {std_fp:.6f}\\n\\n\")\n",
    "        else:\n",
    "            f.write(\"No clear fixed points found (no intersection with f(p) = p)\\n\\n\")\n",
    "        \n",
    "        # Write accuracy information with full details for each test type\n",
    "        test_types = [\"smaller_0.1-0.9\", \"standard_0.1-0.9\", \"larger_0.1-0.9\", \"standard_0.58-0.61\"]\n",
    "        for test_type in test_types:\n",
    "            f.write(f\"{test_type.replace('_', ' ')}:\\n\")\n",
    "            \n",
    "            # Get all runs' results for this test type\n",
    "            all_runs_results = [run[test_type] for run in all_results[key]]\n",
    "            \n",
    "            # Write detailed accuracy for each run\n",
    "            for run_idx, (acc, mean_perc, mean_non_perc) in enumerate(all_runs_results):\n",
    "                f.write(f\"  Run {run_idx+1}:\\n\")\n",
    "                f.write(f\"    Accuracy: {acc:.4f}\\n\")\n",
    "                f.write(f\"    Avg prediction | Perc: {mean_perc:.4f}\\n\")\n",
    "                f.write(f\"    Avg prediction | Non-Perc: {mean_non_perc:.4f}\\n\")\n",
    "            \n",
    "            # Calculate and write summary statistics\n",
    "            accs = [x[0] for x in all_runs_results]\n",
    "            mean_percs = [x[1] for x in all_runs_results]\n",
    "            mean_non_percs = [x[2] for x in all_runs_results]\n",
    "            \n",
    "            f.write(\"\\n  Summary statistics:\\n\")\n",
    "            f.write(f\"    Accuracy: {np.mean(accs):.4f} ± {np.std(accs):.4f}\\n\")\n",
    "            f.write(f\"    Avg prediction | Perc: {np.mean(mean_percs):.4f} ± {np.std(mean_percs):.4f}\\n\")\n",
    "            f.write(f\"    Avg prediction | Non-Perc: {np.mean(mean_non_percs):.4f} ± {np.std(mean_non_percs):.4f}\\n\\n\")"
   ]
  }
 ],
 "metadata": {
  "kernelspec": {
   "display_name": "Python 3 (ipykernel)",
   "language": "python",
   "name": "python3"
  },
  "language_info": {
   "codemirror_mode": {
    "name": "ipython",
    "version": 3
   },
   "file_extension": ".py",
   "mimetype": "text/x-python",
   "name": "python",
   "nbconvert_exporter": "python",
   "pygments_lexer": "ipython3",
   "version": "3.9.4"
  }
 },
 "nbformat": 4,
 "nbformat_minor": 5
}

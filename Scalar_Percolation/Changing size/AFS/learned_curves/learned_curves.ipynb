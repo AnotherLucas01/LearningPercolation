{
 "cells": [
  {
   "cell_type": "code",
   "execution_count": null,
   "id": "ff427cfa-d9cc-49e5-8d00-0c98cb370956",
   "metadata": {},
   "outputs": [
    {
     "name": "stdout",
     "output_type": "stream",
     "text": [
      "\n",
      "\n",
      "==================================================\n",
      "STARTING EXPERIMENTS FOR DIM=3\n",
      "==================================================\n",
      "\n",
      "==================================================\n",
      "STARTING RUNS FOR DIM=3, RATIO=0.2\n",
      "==================================================\n",
      "\n",
      "Starting experiment for DIM=3\n",
      "Parameters: 1409, Ratio: 0.2, Training samples: 7045\n",
      "\n",
      "========================================\n",
      "Run 1/10 for DIM=3, Ratio=0.2\n",
      "========================================\n"
     ]
    },
    {
     "name": "stderr",
     "output_type": "stream",
     "text": [
      "Generating data: 100%|████████████████████████████████████████████████████████████████████████| 3522/3522 [00:00<00:00, 3744.36it/s]\n",
      "Generating critical data: 100%|███████████████████████████████████████████████████████████████| 3522/3522 [00:00<00:00, 3600.92it/s]\n"
     ]
    },
    {
     "name": "stdout",
     "output_type": "stream",
     "text": [
      "Epoch 1/10 — Loss: 0.4088\n",
      "Epoch 10/10 — Loss: 0.3005\n",
      "Critical point estimate: 0.5758\n",
      "Critical exponent ν: 0.7907\n",
      "\n",
      "========================================\n",
      "Run 2/10 for DIM=3, Ratio=0.2\n",
      "========================================\n"
     ]
    },
    {
     "name": "stderr",
     "output_type": "stream",
     "text": [
      "Generating data: 100%|████████████████████████████████████████████████████████████████████████| 3522/3522 [00:01<00:00, 3314.35it/s]\n",
      "Generating critical data: 100%|███████████████████████████████████████████████████████████████| 3522/3522 [00:01<00:00, 2715.77it/s]\n"
     ]
    },
    {
     "name": "stdout",
     "output_type": "stream",
     "text": [
      "Epoch 1/10 — Loss: 0.4032\n",
      "Epoch 10/10 — Loss: 0.2972\n",
      "Critical point estimate: 0.5657\n",
      "Critical exponent ν: 0.7940\n",
      "\n",
      "========================================\n",
      "Run 3/10 for DIM=3, Ratio=0.2\n",
      "========================================\n"
     ]
    },
    {
     "name": "stderr",
     "output_type": "stream",
     "text": [
      "Generating data: 100%|████████████████████████████████████████████████████████████████████████| 3522/3522 [00:01<00:00, 3363.28it/s]\n",
      "Generating critical data: 100%|███████████████████████████████████████████████████████████████| 3522/3522 [00:01<00:00, 3265.95it/s]\n"
     ]
    },
    {
     "name": "stdout",
     "output_type": "stream",
     "text": [
      "Epoch 1/10 — Loss: 0.4255\n",
      "Epoch 10/10 — Loss: 0.3047\n",
      "Critical point estimate: 0.5758\n",
      "Critical exponent ν: 0.8593\n",
      "\n",
      "========================================\n",
      "Run 4/10 for DIM=3, Ratio=0.2\n",
      "========================================\n"
     ]
    },
    {
     "name": "stderr",
     "output_type": "stream",
     "text": [
      "Generating data: 100%|████████████████████████████████████████████████████████████████████████| 3522/3522 [00:00<00:00, 3694.60it/s]\n",
      "Generating critical data: 100%|███████████████████████████████████████████████████████████████| 3522/3522 [00:00<00:00, 3577.10it/s]\n"
     ]
    },
    {
     "name": "stdout",
     "output_type": "stream",
     "text": [
      "Epoch 1/10 — Loss: 0.4398\n",
      "Epoch 10/10 — Loss: 0.3121\n",
      "Critical point estimate: 0.5455\n",
      "Critical exponent ν: 0.8013\n",
      "\n",
      "========================================\n",
      "Run 5/10 for DIM=3, Ratio=0.2\n",
      "========================================\n"
     ]
    },
    {
     "name": "stderr",
     "output_type": "stream",
     "text": [
      "Generating data: 100%|████████████████████████████████████████████████████████████████████████| 3522/3522 [00:01<00:00, 3520.32it/s]\n",
      "Generating critical data: 100%|███████████████████████████████████████████████████████████████| 3522/3522 [00:01<00:00, 3046.03it/s]\n"
     ]
    },
    {
     "name": "stdout",
     "output_type": "stream",
     "text": [
      "Epoch 1/10 — Loss: 0.4020\n",
      "Epoch 10/10 — Loss: 0.2868\n",
      "Critical point estimate: 0.5657\n",
      "Critical exponent ν: 0.7742\n",
      "\n",
      "========================================\n",
      "Run 6/10 for DIM=3, Ratio=0.2\n",
      "========================================\n"
     ]
    },
    {
     "name": "stderr",
     "output_type": "stream",
     "text": [
      "Generating data: 100%|████████████████████████████████████████████████████████████████████████| 3522/3522 [00:01<00:00, 3120.37it/s]\n",
      "Generating critical data: 100%|███████████████████████████████████████████████████████████████| 3522/3522 [00:01<00:00, 2778.04it/s]\n"
     ]
    },
    {
     "name": "stdout",
     "output_type": "stream",
     "text": [
      "Epoch 1/10 — Loss: 0.4073\n",
      "Epoch 10/10 — Loss: 0.2897\n",
      "Critical point estimate: 0.5657\n",
      "Critical exponent ν: 0.6636\n",
      "\n",
      "========================================\n",
      "Run 7/10 for DIM=3, Ratio=0.2\n",
      "========================================\n"
     ]
    },
    {
     "name": "stderr",
     "output_type": "stream",
     "text": [
      "Generating data: 100%|████████████████████████████████████████████████████████████████████████| 3522/3522 [00:00<00:00, 3536.04it/s]\n",
      "Generating critical data: 100%|███████████████████████████████████████████████████████████████| 3522/3522 [00:01<00:00, 3343.41it/s]\n"
     ]
    },
    {
     "name": "stdout",
     "output_type": "stream",
     "text": [
      "Epoch 1/10 — Loss: 0.4204\n",
      "Epoch 10/10 — Loss: 0.2898\n",
      "Critical point estimate: 0.5657\n",
      "Critical exponent ν: 0.7660\n",
      "\n",
      "========================================\n",
      "Run 8/10 for DIM=3, Ratio=0.2\n",
      "========================================\n"
     ]
    },
    {
     "name": "stderr",
     "output_type": "stream",
     "text": [
      "Generating data: 100%|████████████████████████████████████████████████████████████████████████| 3522/3522 [00:00<00:00, 3571.85it/s]\n",
      "Generating critical data: 100%|███████████████████████████████████████████████████████████████| 3522/3522 [00:01<00:00, 3412.06it/s]\n"
     ]
    },
    {
     "name": "stdout",
     "output_type": "stream",
     "text": [
      "Epoch 1/10 — Loss: 0.4514\n",
      "Epoch 10/10 — Loss: 0.2957\n",
      "Critical point estimate: 0.5556\n",
      "Critical exponent ν: 0.7963\n",
      "\n",
      "========================================\n",
      "Run 9/10 for DIM=3, Ratio=0.2\n",
      "========================================\n"
     ]
    },
    {
     "name": "stderr",
     "output_type": "stream",
     "text": [
      "Generating data: 100%|████████████████████████████████████████████████████████████████████████| 3522/3522 [00:00<00:00, 3565.90it/s]\n",
      "Generating critical data: 100%|███████████████████████████████████████████████████████████████| 3522/3522 [00:01<00:00, 3446.33it/s]\n"
     ]
    },
    {
     "name": "stdout",
     "output_type": "stream",
     "text": [
      "Epoch 1/10 — Loss: 0.4212\n",
      "Epoch 10/10 — Loss: 0.2872\n",
      "Critical point estimate: 0.5455\n",
      "Critical exponent ν: 0.7949\n",
      "\n",
      "========================================\n",
      "Run 10/10 for DIM=3, Ratio=0.2\n",
      "========================================\n"
     ]
    },
    {
     "name": "stderr",
     "output_type": "stream",
     "text": [
      "Generating data: 100%|████████████████████████████████████████████████████████████████████████| 3522/3522 [00:00<00:00, 3750.48it/s]\n",
      "Generating critical data: 100%|███████████████████████████████████████████████████████████████| 3522/3522 [00:00<00:00, 3697.41it/s]\n"
     ]
    },
    {
     "name": "stdout",
     "output_type": "stream",
     "text": [
      "Epoch 1/10 — Loss: 0.4299\n",
      "Epoch 10/10 — Loss: 0.2878\n",
      "Critical point estimate: 0.5657\n",
      "Critical exponent ν: 0.8567\n",
      "\n",
      "==================================================\n",
      "STARTING RUNS FOR DIM=3, RATIO=0.5\n",
      "==================================================\n",
      "\n",
      "Starting experiment for DIM=3\n",
      "Parameters: 1409, Ratio: 0.5, Training samples: 2818\n",
      "\n",
      "========================================\n",
      "Run 1/10 for DIM=3, Ratio=0.5\n",
      "========================================\n"
     ]
    },
    {
     "name": "stderr",
     "output_type": "stream",
     "text": [
      "Generating data: 100%|████████████████████████████████████████████████████████████████████████| 1409/1409 [00:00<00:00, 3611.61it/s]\n",
      "Generating critical data: 100%|███████████████████████████████████████████████████████████████| 1409/1409 [00:00<00:00, 3905.70it/s]\n"
     ]
    },
    {
     "name": "stdout",
     "output_type": "stream",
     "text": [
      "Epoch 1/250 — Loss: 0.5875\n",
      "Epoch 50/250 — Loss: 0.2891\n",
      "Epoch 100/250 — Loss: 0.2716\n",
      "Epoch 150/250 — Loss: 0.2731\n",
      "Epoch 200/250 — Loss: 0.2820\n",
      "Epoch 250/250 — Loss: 0.2297\n",
      "Critical point estimate: 0.5657\n",
      "Critical exponent ν: 0.6788\n",
      "\n",
      "========================================\n",
      "Run 2/10 for DIM=3, Ratio=0.5\n",
      "========================================\n"
     ]
    },
    {
     "name": "stderr",
     "output_type": "stream",
     "text": [
      "Generating data: 100%|████████████████████████████████████████████████████████████████████████| 1409/1409 [00:00<00:00, 3622.65it/s]\n",
      "Generating critical data: 100%|███████████████████████████████████████████████████████████████| 1409/1409 [00:00<00:00, 3318.96it/s]\n"
     ]
    },
    {
     "name": "stdout",
     "output_type": "stream",
     "text": [
      "Epoch 1/250 — Loss: 0.5265\n",
      "Epoch 50/250 — Loss: 0.2629\n",
      "Epoch 100/250 — Loss: 0.2529\n",
      "Epoch 150/250 — Loss: 0.2312\n",
      "Epoch 200/250 — Loss: 0.2412\n",
      "Epoch 250/250 — Loss: 0.2205\n",
      "Critical point estimate: 0.5455\n",
      "Critical exponent ν: 0.5720\n",
      "\n",
      "========================================\n",
      "Run 3/10 for DIM=3, Ratio=0.5\n",
      "========================================\n"
     ]
    },
    {
     "name": "stderr",
     "output_type": "stream",
     "text": [
      "Generating data: 100%|████████████████████████████████████████████████████████████████████████| 1409/1409 [00:00<00:00, 3542.71it/s]\n",
      "Generating critical data: 100%|███████████████████████████████████████████████████████████████| 1409/1409 [00:00<00:00, 3557.72it/s]\n"
     ]
    },
    {
     "name": "stdout",
     "output_type": "stream",
     "text": [
      "Epoch 1/250 — Loss: 0.5703\n",
      "Epoch 50/250 — Loss: 0.2740\n",
      "Epoch 100/250 — Loss: 0.2543\n",
      "Epoch 150/250 — Loss: 0.2542\n",
      "Epoch 200/250 — Loss: 0.2253\n",
      "Epoch 250/250 — Loss: 0.2196\n",
      "Critical point estimate: 0.5455\n",
      "Critical exponent ν: 0.7363\n",
      "\n",
      "========================================\n",
      "Run 4/10 for DIM=3, Ratio=0.5\n",
      "========================================\n"
     ]
    },
    {
     "name": "stderr",
     "output_type": "stream",
     "text": [
      "Generating data: 100%|████████████████████████████████████████████████████████████████████████| 1409/1409 [00:00<00:00, 3798.78it/s]\n",
      "Generating critical data: 100%|███████████████████████████████████████████████████████████████| 1409/1409 [00:00<00:00, 3480.84it/s]\n"
     ]
    },
    {
     "name": "stdout",
     "output_type": "stream",
     "text": [
      "Epoch 1/250 — Loss: 0.5366\n",
      "Epoch 50/250 — Loss: 0.2761\n",
      "Epoch 100/250 — Loss: 0.2674\n",
      "Epoch 150/250 — Loss: 0.2492\n",
      "Epoch 200/250 — Loss: 0.2368\n",
      "Epoch 250/250 — Loss: 0.2329\n",
      "Critical point estimate: 0.5758\n",
      "Critical exponent ν: 0.6653\n",
      "\n",
      "========================================\n",
      "Run 5/10 for DIM=3, Ratio=0.5\n",
      "========================================\n"
     ]
    },
    {
     "name": "stderr",
     "output_type": "stream",
     "text": [
      "Generating data: 100%|████████████████████████████████████████████████████████████████████████| 1409/1409 [00:00<00:00, 3738.34it/s]\n",
      "Generating critical data: 100%|███████████████████████████████████████████████████████████████| 1409/1409 [00:00<00:00, 3377.74it/s]\n"
     ]
    },
    {
     "name": "stdout",
     "output_type": "stream",
     "text": [
      "Epoch 1/250 — Loss: 0.5359\n",
      "Epoch 50/250 — Loss: 0.2719\n",
      "Epoch 100/250 — Loss: 0.2568\n",
      "Epoch 150/250 — Loss: 0.2601\n",
      "Epoch 200/250 — Loss: 0.2333\n",
      "Epoch 250/250 — Loss: 0.2294\n",
      "Critical point estimate: 0.5253\n",
      "Critical exponent ν: 0.5255\n",
      "\n",
      "========================================\n",
      "Run 6/10 for DIM=3, Ratio=0.5\n",
      "========================================\n"
     ]
    },
    {
     "name": "stderr",
     "output_type": "stream",
     "text": [
      "Generating data: 100%|████████████████████████████████████████████████████████████████████████| 1409/1409 [00:00<00:00, 3601.23it/s]\n",
      "Generating critical data: 100%|███████████████████████████████████████████████████████████████| 1409/1409 [00:00<00:00, 3634.53it/s]\n"
     ]
    },
    {
     "name": "stdout",
     "output_type": "stream",
     "text": [
      "Epoch 1/250 — Loss: 0.5260\n",
      "Epoch 50/250 — Loss: 0.2732\n",
      "Epoch 100/250 — Loss: 0.2455\n",
      "Epoch 150/250 — Loss: 0.2371\n",
      "Epoch 200/250 — Loss: 0.2374\n",
      "Epoch 250/250 — Loss: 0.2132\n",
      "Critical point estimate: 0.5657\n",
      "Critical exponent ν: 0.4228\n",
      "\n",
      "========================================\n",
      "Run 7/10 for DIM=3, Ratio=0.5\n",
      "========================================\n"
     ]
    },
    {
     "name": "stderr",
     "output_type": "stream",
     "text": [
      "Generating data: 100%|████████████████████████████████████████████████████████████████████████| 1409/1409 [00:00<00:00, 3332.91it/s]\n",
      "Generating critical data: 100%|███████████████████████████████████████████████████████████████| 1409/1409 [00:00<00:00, 3300.71it/s]\n"
     ]
    },
    {
     "name": "stdout",
     "output_type": "stream",
     "text": [
      "Epoch 1/250 — Loss: 0.5999\n",
      "Epoch 50/250 — Loss: 0.2825\n",
      "Epoch 100/250 — Loss: 0.2711\n",
      "Epoch 150/250 — Loss: 0.2509\n",
      "Epoch 200/250 — Loss: 0.2473\n",
      "Epoch 250/250 — Loss: 0.2383\n",
      "Critical point estimate: 0.5455\n",
      "Critical exponent ν: 0.7042\n",
      "\n",
      "========================================\n",
      "Run 8/10 for DIM=3, Ratio=0.5\n",
      "========================================\n"
     ]
    },
    {
     "name": "stderr",
     "output_type": "stream",
     "text": [
      "Generating data: 100%|████████████████████████████████████████████████████████████████████████| 1409/1409 [00:00<00:00, 3518.99it/s]\n",
      "Generating critical data: 100%|███████████████████████████████████████████████████████████████| 1409/1409 [00:00<00:00, 3227.02it/s]\n"
     ]
    },
    {
     "name": "stdout",
     "output_type": "stream",
     "text": [
      "Epoch 1/250 — Loss: 0.5640\n",
      "Epoch 50/250 — Loss: 0.2928\n",
      "Epoch 100/250 — Loss: 0.2807\n",
      "Epoch 150/250 — Loss: 0.2657\n",
      "Epoch 200/250 — Loss: 0.2504\n",
      "Epoch 250/250 — Loss: 0.2390\n",
      "Critical point estimate: 0.5354\n",
      "Critical exponent ν: 0.5099\n",
      "\n",
      "========================================\n",
      "Run 9/10 for DIM=3, Ratio=0.5\n",
      "========================================\n"
     ]
    },
    {
     "name": "stderr",
     "output_type": "stream",
     "text": [
      "Generating data: 100%|████████████████████████████████████████████████████████████████████████| 1409/1409 [00:00<00:00, 3516.55it/s]\n",
      "Generating critical data: 100%|███████████████████████████████████████████████████████████████| 1409/1409 [00:00<00:00, 3237.18it/s]\n"
     ]
    },
    {
     "name": "stdout",
     "output_type": "stream",
     "text": [
      "Epoch 1/250 — Loss: 0.5923\n",
      "Epoch 50/250 — Loss: 0.2788\n",
      "Epoch 100/250 — Loss: 0.2823\n",
      "Epoch 150/250 — Loss: 0.2542\n",
      "Epoch 200/250 — Loss: 0.2436\n",
      "Epoch 250/250 — Loss: 0.2384\n",
      "Critical point estimate: 0.5556\n",
      "Critical exponent ν: 0.5664\n",
      "\n",
      "========================================\n",
      "Run 10/10 for DIM=3, Ratio=0.5\n",
      "========================================\n"
     ]
    },
    {
     "name": "stderr",
     "output_type": "stream",
     "text": [
      "Generating data: 100%|████████████████████████████████████████████████████████████████████████| 1409/1409 [00:00<00:00, 3466.88it/s]\n",
      "Generating critical data: 100%|███████████████████████████████████████████████████████████████| 1409/1409 [00:00<00:00, 3337.41it/s]\n"
     ]
    },
    {
     "name": "stdout",
     "output_type": "stream",
     "text": [
      "Epoch 1/250 — Loss: 0.5396\n",
      "Epoch 50/250 — Loss: 0.2786\n",
      "Epoch 100/250 — Loss: 0.2654\n",
      "Epoch 150/250 — Loss: 0.2457\n",
      "Epoch 200/250 — Loss: 0.2452\n",
      "Epoch 250/250 — Loss: 0.2276\n",
      "Critical point estimate: 0.5556\n",
      "Critical exponent ν: 0.5480\n",
      "\n",
      "==================================================\n",
      "STARTING RUNS FOR DIM=3, RATIO=2\n",
      "==================================================\n",
      "\n",
      "Starting experiment for DIM=3\n",
      "Parameters: 1409, Ratio: 2, Training samples: 704\n",
      "\n",
      "========================================\n",
      "Run 1/10 for DIM=3, Ratio=2\n",
      "========================================\n"
     ]
    },
    {
     "name": "stderr",
     "output_type": "stream",
     "text": [
      "Generating data: 100%|██████████████████████████████████████████████████████████████████████████| 352/352 [00:00<00:00, 3114.17it/s]\n",
      "Generating critical data: 100%|█████████████████████████████████████████████████████████████████| 352/352 [00:00<00:00, 3255.97it/s]\n"
     ]
    },
    {
     "name": "stdout",
     "output_type": "stream",
     "text": [
      "Epoch 1/110 — Loss: 0.6568\n",
      "Epoch 50/110 — Loss: 0.2753\n",
      "Epoch 100/110 — Loss: 0.2274\n",
      "Epoch 110/110 — Loss: 0.2226\n",
      "Critical point estimate: 0.5556\n",
      "Critical exponent ν: 0.7065\n",
      "\n",
      "========================================\n",
      "Run 2/10 for DIM=3, Ratio=2\n",
      "========================================\n"
     ]
    },
    {
     "name": "stderr",
     "output_type": "stream",
     "text": [
      "Generating data: 100%|██████████████████████████████████████████████████████████████████████████| 352/352 [00:00<00:00, 3553.80it/s]\n",
      "Generating critical data: 100%|█████████████████████████████████████████████████████████████████| 352/352 [00:00<00:00, 3564.72it/s]\n"
     ]
    },
    {
     "name": "stdout",
     "output_type": "stream",
     "text": [
      "Epoch 1/110 — Loss: 0.6769\n",
      "Epoch 50/110 — Loss: 0.3132\n",
      "Epoch 100/110 — Loss: 0.2890\n",
      "Epoch 110/110 — Loss: 0.2883\n",
      "Critical point estimate: 0.5455\n",
      "Critical exponent ν: 0.7670\n",
      "\n",
      "========================================\n",
      "Run 3/10 for DIM=3, Ratio=2\n",
      "========================================\n"
     ]
    },
    {
     "name": "stderr",
     "output_type": "stream",
     "text": [
      "Generating data: 100%|██████████████████████████████████████████████████████████████████████████| 352/352 [00:00<00:00, 3754.53it/s]\n",
      "Generating critical data: 100%|█████████████████████████████████████████████████████████████████| 352/352 [00:00<00:00, 3754.76it/s]\n"
     ]
    },
    {
     "name": "stdout",
     "output_type": "stream",
     "text": [
      "Epoch 1/110 — Loss: 0.6524\n",
      "Epoch 50/110 — Loss: 0.2657\n",
      "Epoch 100/110 — Loss: 0.2624\n",
      "Epoch 110/110 — Loss: 0.2541\n",
      "Critical point estimate: 0.5354\n",
      "Critical exponent ν: 0.8221\n",
      "\n",
      "========================================\n",
      "Run 4/10 for DIM=3, Ratio=2\n",
      "========================================\n"
     ]
    },
    {
     "name": "stderr",
     "output_type": "stream",
     "text": [
      "Generating data: 100%|██████████████████████████████████████████████████████████████████████████| 352/352 [00:00<00:00, 3560.07it/s]\n",
      "Generating critical data: 100%|█████████████████████████████████████████████████████████████████| 352/352 [00:00<00:00, 3692.26it/s]\n"
     ]
    },
    {
     "name": "stdout",
     "output_type": "stream",
     "text": [
      "Epoch 1/110 — Loss: 0.6470\n",
      "Epoch 50/110 — Loss: 0.2765\n",
      "Epoch 100/110 — Loss: 0.2523\n",
      "Epoch 110/110 — Loss: 0.2685\n",
      "Critical point estimate: 0.5354\n",
      "Critical exponent ν: 0.6101\n",
      "\n",
      "========================================\n",
      "Run 5/10 for DIM=3, Ratio=2\n",
      "========================================\n"
     ]
    },
    {
     "name": "stderr",
     "output_type": "stream",
     "text": [
      "Generating data: 100%|██████████████████████████████████████████████████████████████████████████| 352/352 [00:00<00:00, 4156.85it/s]\n",
      "Generating critical data: 100%|█████████████████████████████████████████████████████████████████| 352/352 [00:00<00:00, 3047.23it/s]\n"
     ]
    },
    {
     "name": "stdout",
     "output_type": "stream",
     "text": [
      "Epoch 1/110 — Loss: 0.6644\n",
      "Epoch 50/110 — Loss: 0.3177\n",
      "Epoch 100/110 — Loss: 0.2709\n",
      "Epoch 110/110 — Loss: 0.2600\n",
      "Critical point estimate: 0.5354\n",
      "Critical exponent ν: 0.6133\n",
      "\n",
      "========================================\n",
      "Run 6/10 for DIM=3, Ratio=2\n",
      "========================================\n"
     ]
    },
    {
     "name": "stderr",
     "output_type": "stream",
     "text": [
      "Generating data: 100%|██████████████████████████████████████████████████████████████████████████| 352/352 [00:00<00:00, 3213.45it/s]\n",
      "Generating critical data: 100%|█████████████████████████████████████████████████████████████████| 352/352 [00:00<00:00, 3744.20it/s]\n"
     ]
    },
    {
     "name": "stdout",
     "output_type": "stream",
     "text": [
      "Epoch 1/110 — Loss: 0.6809\n",
      "Epoch 50/110 — Loss: 0.2666\n",
      "Epoch 100/110 — Loss: 0.2394\n",
      "Epoch 110/110 — Loss: 0.2166\n",
      "Critical point estimate: 0.5556\n",
      "Critical exponent ν: 0.6789\n",
      "\n",
      "========================================\n",
      "Run 7/10 for DIM=3, Ratio=2\n",
      "========================================\n"
     ]
    },
    {
     "name": "stderr",
     "output_type": "stream",
     "text": [
      "Generating data: 100%|██████████████████████████████████████████████████████████████████████████| 352/352 [00:00<00:00, 3878.89it/s]\n",
      "Generating critical data: 100%|█████████████████████████████████████████████████████████████████| 352/352 [00:00<00:00, 3753.46it/s]\n"
     ]
    },
    {
     "name": "stdout",
     "output_type": "stream",
     "text": [
      "Epoch 1/110 — Loss: 0.6614\n",
      "Epoch 50/110 — Loss: 0.2661\n",
      "Epoch 100/110 — Loss: 0.2381\n",
      "Epoch 110/110 — Loss: 0.2278\n",
      "Critical point estimate: 0.5556\n",
      "Critical exponent ν: 0.6765\n",
      "\n",
      "========================================\n",
      "Run 8/10 for DIM=3, Ratio=2\n",
      "========================================\n"
     ]
    },
    {
     "name": "stderr",
     "output_type": "stream",
     "text": [
      "Generating data: 100%|██████████████████████████████████████████████████████████████████████████| 352/352 [00:00<00:00, 3395.55it/s]\n",
      "Generating critical data: 100%|█████████████████████████████████████████████████████████████████| 352/352 [00:00<00:00, 3224.63it/s]\n"
     ]
    },
    {
     "name": "stdout",
     "output_type": "stream",
     "text": [
      "Epoch 1/110 — Loss: 0.6545\n",
      "Epoch 50/110 — Loss: 0.2674\n",
      "Epoch 100/110 — Loss: 0.2432\n",
      "Epoch 110/110 — Loss: 0.2383\n",
      "Critical point estimate: 0.5253\n",
      "Critical exponent ν: 0.7362\n",
      "\n",
      "========================================\n",
      "Run 9/10 for DIM=3, Ratio=2\n",
      "========================================\n"
     ]
    },
    {
     "name": "stderr",
     "output_type": "stream",
     "text": [
      "Generating data: 100%|██████████████████████████████████████████████████████████████████████████| 352/352 [00:00<00:00, 3754.51it/s]\n",
      "Generating critical data: 100%|█████████████████████████████████████████████████████████████████| 352/352 [00:00<00:00, 3754.42it/s]\n"
     ]
    },
    {
     "name": "stdout",
     "output_type": "stream",
     "text": [
      "Epoch 1/110 — Loss: 0.6701\n",
      "Epoch 50/110 — Loss: 0.3084\n",
      "Epoch 100/110 — Loss: 0.2806\n",
      "Epoch 110/110 — Loss: 0.2794\n",
      "Critical point estimate: 0.5253\n",
      "Critical exponent ν: 0.7160\n",
      "\n",
      "========================================\n",
      "Run 10/10 for DIM=3, Ratio=2\n",
      "========================================\n"
     ]
    },
    {
     "name": "stderr",
     "output_type": "stream",
     "text": [
      "Generating data: 100%|██████████████████████████████████████████████████████████████████████████| 352/352 [00:00<00:00, 3204.87it/s]\n",
      "Generating critical data: 100%|█████████████████████████████████████████████████████████████████| 352/352 [00:00<00:00, 3757.80it/s]\n"
     ]
    },
    {
     "name": "stdout",
     "output_type": "stream",
     "text": [
      "Epoch 1/110 — Loss: 0.6472\n",
      "Epoch 50/110 — Loss: 0.2719\n",
      "Epoch 100/110 — Loss: 0.2738\n",
      "Epoch 110/110 — Loss: 0.2670\n",
      "Critical point estimate: 0.4949\n",
      "Critical exponent ν: 0.6271\n",
      "\n",
      "==================================================\n",
      "STARTING RUNS FOR DIM=3, RATIO=5\n",
      "==================================================\n",
      "\n",
      "Starting experiment for DIM=3\n",
      "Parameters: 1409, Ratio: 5, Training samples: 281\n",
      "\n",
      "========================================\n",
      "Run 1/10 for DIM=3, Ratio=5\n",
      "========================================\n"
     ]
    },
    {
     "name": "stderr",
     "output_type": "stream",
     "text": [
      "Generating data: 100%|██████████████████████████████████████████████████████████████████████████| 140/140 [00:00<00:00, 4012.89it/s]\n",
      "Generating critical data: 100%|█████████████████████████████████████████████████████████████████| 140/140 [00:00<00:00, 4111.63it/s]\n"
     ]
    },
    {
     "name": "stdout",
     "output_type": "stream",
     "text": [
      "Epoch 1/200 — Loss: 0.6963\n",
      "Epoch 50/200 — Loss: 0.2492\n",
      "Epoch 100/200 — Loss: 0.2351\n",
      "Epoch 150/200 — Loss: 0.2414\n",
      "Epoch 200/200 — Loss: 0.1351\n",
      "Critical point estimate: 0.5051\n",
      "Critical exponent ν: 0.6506\n",
      "\n",
      "========================================\n",
      "Run 2/10 for DIM=3, Ratio=5\n",
      "========================================\n"
     ]
    },
    {
     "name": "stderr",
     "output_type": "stream",
     "text": [
      "Generating data: 100%|██████████████████████████████████████████████████████████████████████████| 140/140 [00:00<00:00, 4479.86it/s]\n",
      "Generating critical data: 100%|█████████████████████████████████████████████████████████████████| 140/140 [00:00<00:00, 2986.59it/s]\n"
     ]
    },
    {
     "name": "stdout",
     "output_type": "stream",
     "text": [
      "Epoch 1/200 — Loss: 0.6876\n",
      "Epoch 50/200 — Loss: 0.2962\n",
      "Epoch 100/200 — Loss: 0.2038\n",
      "Epoch 150/200 — Loss: 0.1665\n",
      "Epoch 200/200 — Loss: 0.1483\n",
      "Critical point estimate: 0.5253\n",
      "Critical exponent ν: 0.5640\n",
      "\n",
      "========================================\n",
      "Run 3/10 for DIM=3, Ratio=5\n",
      "========================================\n"
     ]
    },
    {
     "name": "stderr",
     "output_type": "stream",
     "text": [
      "Generating data: 100%|██████████████████████████████████████████████████████████████████████████| 140/140 [00:00<00:00, 2669.16it/s]\n",
      "Generating critical data: 100%|█████████████████████████████████████████████████████████████████| 140/140 [00:00<00:00, 3104.58it/s]\n"
     ]
    },
    {
     "name": "stdout",
     "output_type": "stream",
     "text": [
      "Epoch 1/200 — Loss: 0.6848\n",
      "Epoch 50/200 — Loss: 0.2412\n",
      "Epoch 100/200 — Loss: 0.1919\n",
      "Epoch 150/200 — Loss: 0.3132\n",
      "Epoch 200/200 — Loss: 0.1360\n",
      "Critical point estimate: 0.4949\n",
      "Critical exponent ν: 0.5008\n",
      "\n",
      "========================================\n",
      "Run 4/10 for DIM=3, Ratio=5\n",
      "========================================\n"
     ]
    },
    {
     "name": "stderr",
     "output_type": "stream",
     "text": [
      "Generating data: 100%|██████████████████████████████████████████████████████████████████████████| 140/140 [00:00<00:00, 2987.08it/s]\n",
      "Generating critical data: 100%|█████████████████████████████████████████████████████████████████| 140/140 [00:00<00:00, 2986.14it/s]\n"
     ]
    },
    {
     "name": "stdout",
     "output_type": "stream",
     "text": [
      "Epoch 1/200 — Loss: 0.6943\n",
      "Epoch 50/200 — Loss: 0.2896\n",
      "Epoch 100/200 — Loss: 0.2694\n",
      "Epoch 150/200 — Loss: 0.2618\n",
      "Epoch 200/200 — Loss: 0.2416\n",
      "Critical point estimate: 0.4949\n",
      "Critical exponent ν: 0.6143\n",
      "\n",
      "========================================\n",
      "Run 5/10 for DIM=3, Ratio=5\n",
      "========================================\n"
     ]
    },
    {
     "name": "stderr",
     "output_type": "stream",
     "text": [
      "Generating data: 100%|██████████████████████████████████████████████████████████████████████████| 140/140 [00:00<00:00, 4421.24it/s]\n",
      "Generating critical data: 100%|█████████████████████████████████████████████████████████████████| 140/140 [00:00<00:00, 3225.89it/s]\n"
     ]
    },
    {
     "name": "stdout",
     "output_type": "stream",
     "text": [
      "Epoch 1/200 — Loss: 0.6909\n",
      "Epoch 50/200 — Loss: 0.3013\n",
      "Epoch 100/200 — Loss: 0.2746\n",
      "Epoch 150/200 — Loss: 0.2847\n",
      "Epoch 200/200 — Loss: 0.2054\n",
      "Critical point estimate: 0.5354\n",
      "Critical exponent ν: 0.7376\n",
      "\n",
      "========================================\n",
      "Run 6/10 for DIM=3, Ratio=5\n",
      "========================================\n"
     ]
    },
    {
     "name": "stderr",
     "output_type": "stream",
     "text": [
      "Generating data: 100%|██████████████████████████████████████████████████████████████████████████| 140/140 [00:00<00:00, 4475.90it/s]\n",
      "Generating critical data: 100%|█████████████████████████████████████████████████████████████████| 140/140 [00:00<00:00, 4478.36it/s]\n"
     ]
    },
    {
     "name": "stdout",
     "output_type": "stream",
     "text": [
      "Epoch 1/200 — Loss: 0.6911\n",
      "Epoch 50/200 — Loss: 0.2804\n",
      "Epoch 100/200 — Loss: 0.2408\n",
      "Epoch 150/200 — Loss: 0.2633\n",
      "Epoch 200/200 — Loss: 0.2027\n",
      "Critical point estimate: 0.5556\n",
      "Critical exponent ν: 0.7255\n",
      "\n",
      "========================================\n",
      "Run 7/10 for DIM=3, Ratio=5\n",
      "========================================\n"
     ]
    },
    {
     "name": "stderr",
     "output_type": "stream",
     "text": [
      "Generating data: 100%|██████████████████████████████████████████████████████████████████████████| 140/140 [00:00<00:00, 3558.65it/s]\n",
      "Generating critical data: 100%|█████████████████████████████████████████████████████████████████| 140/140 [00:00<00:00, 3652.51it/s]\n"
     ]
    },
    {
     "name": "stdout",
     "output_type": "stream",
     "text": [
      "Epoch 1/200 — Loss: 0.6990\n",
      "Epoch 50/200 — Loss: 0.3154\n",
      "Epoch 100/200 — Loss: 0.2781\n",
      "Epoch 150/200 — Loss: 0.2544\n",
      "Epoch 200/200 — Loss: 0.2341\n",
      "Critical point estimate: 0.5354\n",
      "Critical exponent ν: 0.6651\n",
      "\n",
      "========================================\n",
      "Run 8/10 for DIM=3, Ratio=5\n",
      "========================================\n"
     ]
    },
    {
     "name": "stderr",
     "output_type": "stream",
     "text": [
      "Generating data: 100%|██████████████████████████████████████████████████████████████████████████| 140/140 [00:00<00:00, 4491.14it/s]\n",
      "Generating critical data: 100%|█████████████████████████████████████████████████████████████████| 140/140 [00:00<00:00, 2813.70it/s]\n"
     ]
    },
    {
     "name": "stdout",
     "output_type": "stream",
     "text": [
      "Epoch 1/200 — Loss: 0.6623\n",
      "Epoch 50/200 — Loss: 0.2980\n",
      "Epoch 100/200 — Loss: 0.2776\n",
      "Epoch 150/200 — Loss: 0.2634\n",
      "Epoch 200/200 — Loss: 0.1978\n",
      "Critical point estimate: 0.5455\n",
      "Critical exponent ν: 0.6524\n",
      "\n",
      "========================================\n",
      "Run 9/10 for DIM=3, Ratio=5\n",
      "========================================\n"
     ]
    },
    {
     "name": "stderr",
     "output_type": "stream",
     "text": [
      "Generating data: 100%|██████████████████████████████████████████████████████████████████████████| 140/140 [00:00<00:00, 3197.54it/s]\n",
      "Generating critical data: 100%|█████████████████████████████████████████████████████████████████| 140/140 [00:00<00:00, 3750.82it/s]\n"
     ]
    },
    {
     "name": "stdout",
     "output_type": "stream",
     "text": [
      "Epoch 1/200 — Loss: 0.7062\n",
      "Epoch 50/200 — Loss: 0.3083\n",
      "Epoch 100/200 — Loss: 0.2814\n",
      "Epoch 150/200 — Loss: 0.2596\n",
      "Epoch 200/200 — Loss: 0.2372\n",
      "Critical point estimate: 0.5253\n",
      "Critical exponent ν: 0.6522\n",
      "\n",
      "========================================\n",
      "Run 10/10 for DIM=3, Ratio=5\n",
      "========================================\n"
     ]
    },
    {
     "name": "stderr",
     "output_type": "stream",
     "text": [
      "Generating data: 100%|██████████████████████████████████████████████████████████████████████████| 140/140 [00:00<00:00, 3826.10it/s]\n",
      "Generating critical data: 100%|█████████████████████████████████████████████████████████████████| 140/140 [00:00<00:00, 3752.26it/s]\n"
     ]
    },
    {
     "name": "stdout",
     "output_type": "stream",
     "text": [
      "Epoch 1/200 — Loss: 0.6845\n",
      "Epoch 50/200 — Loss: 0.2436\n",
      "Epoch 100/200 — Loss: 0.2768\n",
      "Epoch 150/200 — Loss: 0.2179\n",
      "Epoch 200/200 — Loss: 0.1830\n",
      "Critical point estimate: 0.5657\n",
      "Critical exponent ν: 0.5876\n",
      "\n",
      "\n",
      "==================================================\n",
      "STARTING EXPERIMENTS FOR DIM=4\n",
      "==================================================\n",
      "\n",
      "==================================================\n",
      "STARTING RUNS FOR DIM=4, RATIO=0.2\n",
      "==================================================\n",
      "\n",
      "Starting experiment for DIM=4\n",
      "Parameters: 1633, Ratio: 0.2, Training samples: 8165\n",
      "\n",
      "========================================\n",
      "Run 1/10 for DIM=4, Ratio=0.2\n",
      "========================================\n"
     ]
    },
    {
     "name": "stderr",
     "output_type": "stream",
     "text": [
      "Generating data: 100%|█████████████████████████████████████████████████████████████████████████| 4082/4082 [00:04<00:00, 872.96it/s]\n",
      "Generating critical data: 100%|████████████████████████████████████████████████████████████████| 4082/4082 [00:05<00:00, 786.39it/s]\n"
     ]
    },
    {
     "name": "stdout",
     "output_type": "stream",
     "text": [
      "Epoch 1/125 — Loss: 0.4082\n",
      "Epoch 50/125 — Loss: 0.2241\n",
      "Epoch 100/125 — Loss: 0.2185\n",
      "Epoch 125/125 — Loss: 0.2138\n",
      "Critical point estimate: 0.5657\n",
      "Critical exponent ν: 0.8875\n",
      "\n",
      "========================================\n",
      "Run 2/10 for DIM=4, Ratio=0.2\n",
      "========================================\n"
     ]
    },
    {
     "name": "stderr",
     "output_type": "stream",
     "text": [
      "Generating data: 100%|█████████████████████████████████████████████████████████████████████████| 4082/4082 [00:04<00:00, 848.65it/s]\n",
      "Generating critical data: 100%|████████████████████████████████████████████████████████████████| 4082/4082 [00:04<00:00, 833.46it/s]\n"
     ]
    },
    {
     "name": "stdout",
     "output_type": "stream",
     "text": [
      "Epoch 1/125 — Loss: 0.4476\n",
      "Epoch 50/125 — Loss: 0.2228\n",
      "Epoch 100/125 — Loss: 0.2168\n",
      "Epoch 125/125 — Loss: 0.2131\n",
      "Critical point estimate: 0.5758\n",
      "Critical exponent ν: 0.7495\n",
      "\n",
      "========================================\n",
      "Run 3/10 for DIM=4, Ratio=0.2\n",
      "========================================\n"
     ]
    },
    {
     "name": "stderr",
     "output_type": "stream",
     "text": [
      "Generating data: 100%|█████████████████████████████████████████████████████████████████████████| 4082/4082 [00:04<00:00, 879.25it/s]\n",
      "Generating critical data: 100%|████████████████████████████████████████████████████████████████| 4082/4082 [00:05<00:00, 808.83it/s]\n"
     ]
    },
    {
     "name": "stdout",
     "output_type": "stream",
     "text": [
      "Epoch 1/125 — Loss: 0.4394\n",
      "Epoch 50/125 — Loss: 0.2248\n",
      "Epoch 100/125 — Loss: 0.2195\n",
      "Epoch 125/125 — Loss: 0.2165\n",
      "Critical point estimate: 0.5859\n",
      "Critical exponent ν: 0.7717\n",
      "\n",
      "========================================\n",
      "Run 4/10 for DIM=4, Ratio=0.2\n",
      "========================================\n"
     ]
    },
    {
     "name": "stderr",
     "output_type": "stream",
     "text": [
      "Generating data: 100%|█████████████████████████████████████████████████████████████████████████| 4082/4082 [00:04<00:00, 853.03it/s]\n",
      "Generating critical data: 100%|████████████████████████████████████████████████████████████████| 4082/4082 [00:05<00:00, 771.79it/s]\n"
     ]
    },
    {
     "name": "stdout",
     "output_type": "stream",
     "text": [
      "Epoch 1/125 — Loss: 0.4268\n",
      "Epoch 50/125 — Loss: 0.2369\n",
      "Epoch 100/125 — Loss: 0.2328\n",
      "Epoch 125/125 — Loss: 0.2255\n",
      "Critical point estimate: 0.5859\n",
      "Critical exponent ν: 0.7809\n",
      "\n",
      "========================================\n",
      "Run 5/10 for DIM=4, Ratio=0.2\n",
      "========================================\n"
     ]
    },
    {
     "name": "stderr",
     "output_type": "stream",
     "text": [
      "Generating data: 100%|█████████████████████████████████████████████████████████████████████████| 4082/4082 [00:06<00:00, 670.82it/s]\n",
      "Generating critical data: 100%|████████████████████████████████████████████████████████████████| 4082/4082 [00:06<00:00, 660.30it/s]\n"
     ]
    },
    {
     "name": "stdout",
     "output_type": "stream",
     "text": [
      "Epoch 1/125 — Loss: 0.4570\n",
      "Epoch 50/125 — Loss: 0.2265\n",
      "Epoch 100/125 — Loss: 0.2157\n",
      "Epoch 125/125 — Loss: 0.2134\n",
      "Critical point estimate: 0.5758\n",
      "Critical exponent ν: 0.7692\n",
      "\n",
      "========================================\n",
      "Run 6/10 for DIM=4, Ratio=0.2\n",
      "========================================\n"
     ]
    },
    {
     "name": "stderr",
     "output_type": "stream",
     "text": [
      "Generating data: 100%|█████████████████████████████████████████████████████████████████████████| 4082/4082 [00:05<00:00, 701.37it/s]\n",
      "Generating critical data: 100%|████████████████████████████████████████████████████████████████| 4082/4082 [00:06<00:00, 640.55it/s]\n"
     ]
    },
    {
     "name": "stdout",
     "output_type": "stream",
     "text": [
      "Epoch 1/125 — Loss: 0.4492\n",
      "Epoch 50/125 — Loss: 0.2295\n",
      "Epoch 100/125 — Loss: 0.2166\n",
      "Epoch 125/125 — Loss: 0.2157\n",
      "Critical point estimate: 0.5859\n",
      "Critical exponent ν: 0.8037\n",
      "\n",
      "========================================\n",
      "Run 7/10 for DIM=4, Ratio=0.2\n",
      "========================================\n"
     ]
    },
    {
     "name": "stderr",
     "output_type": "stream",
     "text": [
      "Generating data: 100%|█████████████████████████████████████████████████████████████████████████| 4082/4082 [00:05<00:00, 748.11it/s]\n",
      "Generating critical data: 100%|████████████████████████████████████████████████████████████████| 4082/4082 [00:05<00:00, 719.15it/s]\n"
     ]
    },
    {
     "name": "stdout",
     "output_type": "stream",
     "text": [
      "Epoch 1/125 — Loss: 0.4726\n",
      "Epoch 50/125 — Loss: 0.2425\n",
      "Epoch 100/125 — Loss: 0.2140\n",
      "Epoch 125/125 — Loss: 0.2164\n",
      "Critical point estimate: 0.5859\n",
      "Critical exponent ν: 0.7404\n",
      "\n",
      "========================================\n",
      "Run 8/10 for DIM=4, Ratio=0.2\n",
      "========================================\n"
     ]
    },
    {
     "name": "stderr",
     "output_type": "stream",
     "text": [
      "Generating data: 100%|█████████████████████████████████████████████████████████████████████████| 4082/4082 [00:05<00:00, 751.15it/s]\n",
      "Generating critical data: 100%|████████████████████████████████████████████████████████████████| 4082/4082 [00:05<00:00, 726.06it/s]\n"
     ]
    },
    {
     "name": "stdout",
     "output_type": "stream",
     "text": [
      "Epoch 1/125 — Loss: 0.4042\n",
      "Epoch 50/125 — Loss: 0.2318\n",
      "Epoch 100/125 — Loss: 0.2237\n",
      "Epoch 125/125 — Loss: 0.2253\n",
      "Critical point estimate: 0.5758\n",
      "Critical exponent ν: 0.7457\n",
      "\n",
      "========================================\n",
      "Run 9/10 for DIM=4, Ratio=0.2\n",
      "========================================\n"
     ]
    },
    {
     "name": "stderr",
     "output_type": "stream",
     "text": [
      "Generating data: 100%|█████████████████████████████████████████████████████████████████████████| 4082/4082 [00:05<00:00, 732.14it/s]\n",
      "Generating critical data: 100%|████████████████████████████████████████████████████████████████| 4082/4082 [00:05<00:00, 692.36it/s]\n"
     ]
    },
    {
     "name": "stdout",
     "output_type": "stream",
     "text": [
      "Epoch 1/125 — Loss: 0.4261\n",
      "Epoch 50/125 — Loss: 0.2313\n",
      "Epoch 100/125 — Loss: 0.2234\n",
      "Epoch 125/125 — Loss: 0.2335\n",
      "Critical point estimate: 0.5859\n",
      "Critical exponent ν: 0.8802\n",
      "\n",
      "========================================\n",
      "Run 10/10 for DIM=4, Ratio=0.2\n",
      "========================================\n"
     ]
    },
    {
     "name": "stderr",
     "output_type": "stream",
     "text": [
      "Generating data: 100%|█████████████████████████████████████████████████████████████████████████| 4082/4082 [00:05<00:00, 683.35it/s]\n",
      "Generating critical data: 100%|████████████████████████████████████████████████████████████████| 4082/4082 [00:05<00:00, 702.68it/s]\n"
     ]
    },
    {
     "name": "stdout",
     "output_type": "stream",
     "text": [
      "Epoch 1/125 — Loss: 0.4528\n",
      "Epoch 50/125 — Loss: 0.2319\n",
      "Epoch 100/125 — Loss: 0.2234\n",
      "Epoch 125/125 — Loss: 0.2182\n",
      "Critical point estimate: 0.5758\n",
      "Critical exponent ν: 0.7617\n",
      "\n",
      "==================================================\n",
      "STARTING RUNS FOR DIM=4, RATIO=0.5\n",
      "==================================================\n",
      "\n",
      "Starting experiment for DIM=4\n",
      "Parameters: 1633, Ratio: 0.5, Training samples: 3266\n",
      "\n",
      "========================================\n",
      "Run 1/10 for DIM=4, Ratio=0.5\n",
      "========================================\n"
     ]
    },
    {
     "name": "stderr",
     "output_type": "stream",
     "text": [
      "Generating data: 100%|█████████████████████████████████████████████████████████████████████████| 1633/1633 [00:02<00:00, 683.92it/s]\n",
      "Generating critical data: 100%|████████████████████████████████████████████████████████████████| 1633/1633 [00:02<00:00, 697.38it/s]\n"
     ]
    },
    {
     "name": "stdout",
     "output_type": "stream",
     "text": [
      "Epoch 1/40 — Loss: 0.5935\n",
      "Epoch 40/40 — Loss: 0.2527\n",
      "Critical point estimate: 0.5657\n",
      "Critical exponent ν: 0.9618\n",
      "\n",
      "========================================\n",
      "Run 2/10 for DIM=4, Ratio=0.5\n",
      "========================================\n"
     ]
    },
    {
     "name": "stderr",
     "output_type": "stream",
     "text": [
      "Generating data: 100%|█████████████████████████████████████████████████████████████████████████| 1633/1633 [00:02<00:00, 672.75it/s]\n",
      "Generating critical data: 100%|████████████████████████████████████████████████████████████████| 1633/1633 [00:02<00:00, 660.39it/s]\n"
     ]
    },
    {
     "name": "stdout",
     "output_type": "stream",
     "text": [
      "Epoch 1/40 — Loss: 0.5252\n",
      "Epoch 40/40 — Loss: 0.2404\n",
      "Critical point estimate: 0.5859\n",
      "Critical exponent ν: 0.9139\n",
      "\n",
      "========================================\n",
      "Run 3/10 for DIM=4, Ratio=0.5\n",
      "========================================\n"
     ]
    },
    {
     "name": "stderr",
     "output_type": "stream",
     "text": [
      "Generating data: 100%|█████████████████████████████████████████████████████████████████████████| 1633/1633 [00:02<00:00, 674.91it/s]\n",
      "Generating critical data: 100%|████████████████████████████████████████████████████████████████| 1633/1633 [00:02<00:00, 644.69it/s]\n"
     ]
    },
    {
     "name": "stdout",
     "output_type": "stream",
     "text": [
      "Epoch 1/40 — Loss: 0.5997\n",
      "Epoch 40/40 — Loss: 0.2421\n",
      "Critical point estimate: 0.5960\n",
      "Critical exponent ν: 0.9895\n",
      "\n",
      "========================================\n",
      "Run 4/10 for DIM=4, Ratio=0.5\n",
      "========================================\n"
     ]
    },
    {
     "name": "stderr",
     "output_type": "stream",
     "text": [
      "Generating data: 100%|█████████████████████████████████████████████████████████████████████████| 1633/1633 [00:02<00:00, 727.29it/s]\n",
      "Generating critical data: 100%|████████████████████████████████████████████████████████████████| 1633/1633 [00:02<00:00, 643.88it/s]\n"
     ]
    },
    {
     "name": "stdout",
     "output_type": "stream",
     "text": [
      "Epoch 1/40 — Loss: 0.5455\n",
      "Epoch 40/40 — Loss: 0.2669\n",
      "Critical point estimate: 0.5859\n",
      "Critical exponent ν: 1.0230\n",
      "\n",
      "========================================\n",
      "Run 5/10 for DIM=4, Ratio=0.5\n",
      "========================================\n"
     ]
    },
    {
     "name": "stderr",
     "output_type": "stream",
     "text": [
      "Generating data: 100%|█████████████████████████████████████████████████████████████████████████| 1633/1633 [00:02<00:00, 751.21it/s]\n",
      "Generating critical data: 100%|████████████████████████████████████████████████████████████████| 1633/1633 [00:02<00:00, 639.78it/s]\n"
     ]
    },
    {
     "name": "stdout",
     "output_type": "stream",
     "text": [
      "Epoch 1/40 — Loss: 0.5842\n",
      "Epoch 40/40 — Loss: 0.2451\n",
      "Critical point estimate: 0.5859\n",
      "Critical exponent ν: 1.0078\n",
      "\n",
      "========================================\n",
      "Run 6/10 for DIM=4, Ratio=0.5\n",
      "========================================\n"
     ]
    },
    {
     "name": "stderr",
     "output_type": "stream",
     "text": [
      "Generating data: 100%|█████████████████████████████████████████████████████████████████████████| 1633/1633 [00:02<00:00, 699.60it/s]\n",
      "Generating critical data: 100%|████████████████████████████████████████████████████████████████| 1633/1633 [00:02<00:00, 652.10it/s]\n"
     ]
    },
    {
     "name": "stdout",
     "output_type": "stream",
     "text": [
      "Epoch 1/40 — Loss: 0.5751\n",
      "Epoch 40/40 — Loss: 0.2606\n",
      "Critical point estimate: 0.5758\n",
      "Critical exponent ν: 0.8897\n",
      "\n",
      "========================================\n",
      "Run 7/10 for DIM=4, Ratio=0.5\n",
      "========================================\n"
     ]
    },
    {
     "name": "stderr",
     "output_type": "stream",
     "text": [
      "Generating data: 100%|█████████████████████████████████████████████████████████████████████████| 1633/1633 [00:02<00:00, 687.89it/s]\n",
      "Generating critical data: 100%|████████████████████████████████████████████████████████████████| 1633/1633 [00:02<00:00, 668.98it/s]\n"
     ]
    },
    {
     "name": "stdout",
     "output_type": "stream",
     "text": [
      "Epoch 1/40 — Loss: 0.6647\n",
      "Epoch 40/40 — Loss: 0.2662\n",
      "Critical point estimate: 0.5859\n",
      "Critical exponent ν: 0.9470\n",
      "\n",
      "========================================\n",
      "Run 8/10 for DIM=4, Ratio=0.5\n",
      "========================================\n"
     ]
    },
    {
     "name": "stderr",
     "output_type": "stream",
     "text": [
      "Generating data: 100%|█████████████████████████████████████████████████████████████████████████| 1633/1633 [00:02<00:00, 681.87it/s]\n",
      "Generating critical data: 100%|████████████████████████████████████████████████████████████████| 1633/1633 [00:02<00:00, 672.61it/s]\n"
     ]
    },
    {
     "name": "stdout",
     "output_type": "stream",
     "text": [
      "Epoch 1/40 — Loss: 0.6071\n",
      "Epoch 40/40 — Loss: 0.2407\n",
      "Critical point estimate: 0.5758\n",
      "Critical exponent ν: 0.8401\n",
      "\n",
      "========================================\n",
      "Run 9/10 for DIM=4, Ratio=0.5\n",
      "========================================\n"
     ]
    },
    {
     "name": "stderr",
     "output_type": "stream",
     "text": [
      "Generating data: 100%|█████████████████████████████████████████████████████████████████████████| 1633/1633 [00:02<00:00, 755.22it/s]\n",
      "Generating critical data: 100%|████████████████████████████████████████████████████████████████| 1633/1633 [00:02<00:00, 612.55it/s]\n"
     ]
    },
    {
     "name": "stdout",
     "output_type": "stream",
     "text": [
      "Epoch 1/40 — Loss: 0.5930\n",
      "Epoch 40/40 — Loss: 0.2576\n",
      "Critical point estimate: 0.5354\n",
      "Critical exponent ν: 0.7490\n",
      "\n",
      "========================================\n",
      "Run 10/10 for DIM=4, Ratio=0.5\n",
      "========================================\n"
     ]
    },
    {
     "name": "stderr",
     "output_type": "stream",
     "text": [
      "Generating data: 100%|█████████████████████████████████████████████████████████████████████████| 1633/1633 [00:02<00:00, 707.58it/s]\n",
      "Generating critical data: 100%|████████████████████████████████████████████████████████████████| 1633/1633 [00:02<00:00, 615.71it/s]\n"
     ]
    },
    {
     "name": "stdout",
     "output_type": "stream",
     "text": [
      "Epoch 1/40 — Loss: 0.6084\n",
      "Epoch 40/40 — Loss: 0.2299\n",
      "Critical point estimate: 0.5758\n",
      "Critical exponent ν: 0.9082\n",
      "\n",
      "==================================================\n",
      "STARTING RUNS FOR DIM=4, RATIO=2\n",
      "==================================================\n",
      "\n",
      "Starting experiment for DIM=4\n",
      "Parameters: 1633, Ratio: 2, Training samples: 816\n",
      "\n",
      "========================================\n",
      "Run 1/10 for DIM=4, Ratio=2\n",
      "========================================\n"
     ]
    },
    {
     "name": "stderr",
     "output_type": "stream",
     "text": [
      "Generating data: 100%|███████████████████████████████████████████████████████████████████████████| 408/408 [00:00<00:00, 719.01it/s]\n",
      "Generating critical data: 100%|██████████████████████████████████████████████████████████████████| 408/408 [00:00<00:00, 639.06it/s]\n"
     ]
    },
    {
     "name": "stdout",
     "output_type": "stream",
     "text": [
      "Epoch 1/125 — Loss: 0.6784\n",
      "Epoch 50/125 — Loss: 0.2730\n",
      "Epoch 100/125 — Loss: 0.2288\n",
      "Epoch 125/125 — Loss: 0.2187\n",
      "Critical point estimate: 0.5758\n",
      "Critical exponent ν: 0.7402\n",
      "\n",
      "========================================\n",
      "Run 2/10 for DIM=4, Ratio=2\n",
      "========================================\n"
     ]
    },
    {
     "name": "stderr",
     "output_type": "stream",
     "text": [
      "Generating data: 100%|███████████████████████████████████████████████████████████████████████████| 408/408 [00:00<00:00, 736.21it/s]\n",
      "Generating critical data: 100%|██████████████████████████████████████████████████████████████████| 408/408 [00:00<00:00, 657.92it/s]\n"
     ]
    },
    {
     "name": "stdout",
     "output_type": "stream",
     "text": [
      "Epoch 1/125 — Loss: 0.6678\n",
      "Epoch 50/125 — Loss: 0.3174\n",
      "Epoch 100/125 — Loss: 0.2894\n",
      "Epoch 125/125 — Loss: 0.2753\n",
      "Critical point estimate: 0.5758\n",
      "Critical exponent ν: 1.2228\n",
      "\n",
      "========================================\n",
      "Run 3/10 for DIM=4, Ratio=2\n",
      "========================================\n"
     ]
    },
    {
     "name": "stderr",
     "output_type": "stream",
     "text": [
      "Generating data: 100%|███████████████████████████████████████████████████████████████████████████| 408/408 [00:00<00:00, 656.40it/s]\n",
      "Generating critical data: 100%|██████████████████████████████████████████████████████████████████| 408/408 [00:00<00:00, 637.80it/s]\n"
     ]
    },
    {
     "name": "stdout",
     "output_type": "stream",
     "text": [
      "Epoch 1/125 — Loss: 0.6598\n",
      "Epoch 50/125 — Loss: 0.2804\n",
      "Epoch 100/125 — Loss: 0.2531\n",
      "Epoch 125/125 — Loss: 0.2313\n",
      "Critical point estimate: 0.5556\n",
      "Critical exponent ν: 0.7866\n",
      "\n",
      "========================================\n",
      "Run 4/10 for DIM=4, Ratio=2\n",
      "========================================\n"
     ]
    },
    {
     "name": "stderr",
     "output_type": "stream",
     "text": [
      "Generating data: 100%|███████████████████████████████████████████████████████████████████████████| 408/408 [00:00<00:00, 665.83it/s]\n",
      "Generating critical data: 100%|██████████████████████████████████████████████████████████████████| 408/408 [00:00<00:00, 548.05it/s]\n"
     ]
    },
    {
     "name": "stdout",
     "output_type": "stream",
     "text": [
      "Epoch 1/125 — Loss: 0.6723\n",
      "Epoch 50/125 — Loss: 0.2579\n",
      "Epoch 100/125 — Loss: 0.1884\n",
      "Epoch 125/125 — Loss: 0.1983\n",
      "Critical point estimate: 0.5354\n",
      "Critical exponent ν: 0.7850\n",
      "\n",
      "========================================\n",
      "Run 5/10 for DIM=4, Ratio=2\n",
      "========================================\n"
     ]
    },
    {
     "name": "stderr",
     "output_type": "stream",
     "text": [
      "Generating data: 100%|███████████████████████████████████████████████████████████████████████████| 408/408 [00:00<00:00, 707.22it/s]\n",
      "Generating critical data: 100%|██████████████████████████████████████████████████████████████████| 408/408 [00:00<00:00, 619.99it/s]\n"
     ]
    },
    {
     "name": "stdout",
     "output_type": "stream",
     "text": [
      "Epoch 1/125 — Loss: 0.6743\n",
      "Epoch 50/125 — Loss: 0.2786\n",
      "Epoch 100/125 — Loss: 0.2267\n",
      "Epoch 125/125 — Loss: 0.2443\n",
      "Critical point estimate: 0.5556\n",
      "Critical exponent ν: 0.8973\n",
      "\n",
      "========================================\n",
      "Run 6/10 for DIM=4, Ratio=2\n",
      "========================================\n"
     ]
    },
    {
     "name": "stderr",
     "output_type": "stream",
     "text": [
      "Generating data: 100%|███████████████████████████████████████████████████████████████████████████| 408/408 [00:00<00:00, 623.17it/s]\n",
      "Generating critical data: 100%|██████████████████████████████████████████████████████████████████| 408/408 [00:00<00:00, 619.67it/s]\n"
     ]
    },
    {
     "name": "stdout",
     "output_type": "stream",
     "text": [
      "Epoch 1/125 — Loss: 0.6705\n",
      "Epoch 50/125 — Loss: 0.2834\n",
      "Epoch 100/125 — Loss: 0.2660\n",
      "Epoch 125/125 — Loss: 0.2418\n",
      "Critical point estimate: 0.5657\n",
      "Critical exponent ν: 0.8532\n",
      "\n",
      "========================================\n",
      "Run 7/10 for DIM=4, Ratio=2\n",
      "========================================\n"
     ]
    },
    {
     "name": "stderr",
     "output_type": "stream",
     "text": [
      "Generating data: 100%|███████████████████████████████████████████████████████████████████████████| 408/408 [00:00<00:00, 639.68it/s]\n",
      "Generating critical data: 100%|██████████████████████████████████████████████████████████████████| 408/408 [00:00<00:00, 688.21it/s]\n"
     ]
    },
    {
     "name": "stdout",
     "output_type": "stream",
     "text": [
      "Epoch 1/125 — Loss: 0.6741\n",
      "Epoch 50/125 — Loss: 0.2839\n",
      "Epoch 100/125 — Loss: 0.2485\n",
      "Epoch 125/125 — Loss: 0.2568\n",
      "Critical point estimate: 0.5657\n",
      "Critical exponent ν: 0.8810\n",
      "\n",
      "========================================\n",
      "Run 8/10 for DIM=4, Ratio=2\n",
      "========================================\n"
     ]
    },
    {
     "name": "stderr",
     "output_type": "stream",
     "text": [
      "Generating data: 100%|███████████████████████████████████████████████████████████████████████████| 408/408 [00:00<00:00, 671.80it/s]\n",
      "Generating critical data: 100%|██████████████████████████████████████████████████████████████████| 408/408 [00:00<00:00, 684.26it/s]\n"
     ]
    },
    {
     "name": "stdout",
     "output_type": "stream",
     "text": [
      "Epoch 1/125 — Loss: 0.6542\n",
      "Epoch 50/125 — Loss: 0.3013\n",
      "Epoch 100/125 — Loss: 0.2459\n",
      "Epoch 125/125 — Loss: 0.2346\n",
      "Critical point estimate: 0.5657\n",
      "Critical exponent ν: 0.8434\n",
      "\n",
      "========================================\n",
      "Run 9/10 for DIM=4, Ratio=2\n",
      "========================================\n"
     ]
    },
    {
     "name": "stderr",
     "output_type": "stream",
     "text": [
      "Generating data: 100%|███████████████████████████████████████████████████████████████████████████| 408/408 [00:00<00:00, 641.79it/s]\n",
      "Generating critical data: 100%|██████████████████████████████████████████████████████████████████| 408/408 [00:00<00:00, 593.34it/s]\n"
     ]
    },
    {
     "name": "stdout",
     "output_type": "stream",
     "text": [
      "Epoch 1/125 — Loss: 0.6723\n",
      "Epoch 50/125 — Loss: 0.2685\n",
      "Epoch 100/125 — Loss: 0.2204\n",
      "Epoch 125/125 — Loss: 0.2032\n",
      "Critical point estimate: 0.5556\n",
      "Critical exponent ν: 0.6839\n",
      "\n",
      "========================================\n",
      "Run 10/10 for DIM=4, Ratio=2\n",
      "========================================\n"
     ]
    },
    {
     "name": "stderr",
     "output_type": "stream",
     "text": [
      "Generating data: 100%|███████████████████████████████████████████████████████████████████████████| 408/408 [00:00<00:00, 685.02it/s]\n",
      "Generating critical data: 100%|██████████████████████████████████████████████████████████████████| 408/408 [00:00<00:00, 697.25it/s]\n"
     ]
    },
    {
     "name": "stdout",
     "output_type": "stream",
     "text": [
      "Epoch 1/125 — Loss: 0.6721\n",
      "Epoch 50/125 — Loss: 0.3259\n",
      "Epoch 100/125 — Loss: 0.2950\n",
      "Epoch 125/125 — Loss: 0.2763\n",
      "Critical point estimate: 0.5455\n",
      "Critical exponent ν: 1.0117\n",
      "\n",
      "==================================================\n",
      "STARTING RUNS FOR DIM=4, RATIO=5\n",
      "==================================================\n",
      "\n",
      "Starting experiment for DIM=4\n",
      "Parameters: 1633, Ratio: 5, Training samples: 326\n",
      "\n",
      "========================================\n",
      "Run 1/10 for DIM=4, Ratio=5\n",
      "========================================\n"
     ]
    },
    {
     "name": "stderr",
     "output_type": "stream",
     "text": [
      "Generating data: 100%|███████████████████████████████████████████████████████████████████████████| 163/163 [00:00<00:00, 651.44it/s]\n",
      "Generating critical data: 100%|██████████████████████████████████████████████████████████████████| 163/163 [00:00<00:00, 741.80it/s]\n"
     ]
    },
    {
     "name": "stdout",
     "output_type": "stream",
     "text": [
      "Epoch 1/250 — Loss: 0.6883\n",
      "Epoch 50/250 — Loss: 0.3049\n",
      "Epoch 100/250 — Loss: 0.2905\n",
      "Epoch 150/250 — Loss: 0.2561\n",
      "Epoch 200/250 — Loss: 0.2957\n",
      "Epoch 250/250 — Loss: 0.2923\n",
      "Critical point estimate: 0.5455\n",
      "Critical exponent ν: 0.9027\n",
      "\n",
      "========================================\n",
      "Run 2/10 for DIM=4, Ratio=5\n",
      "========================================\n"
     ]
    },
    {
     "name": "stderr",
     "output_type": "stream",
     "text": [
      "Generating data: 100%|███████████████████████████████████████████████████████████████████████████| 163/163 [00:00<00:00, 641.52it/s]\n",
      "Generating critical data: 100%|██████████████████████████████████████████████████████████████████| 163/163 [00:00<00:00, 666.84it/s]\n"
     ]
    },
    {
     "name": "stdout",
     "output_type": "stream",
     "text": [
      "Epoch 1/250 — Loss: 0.6818\n",
      "Epoch 50/250 — Loss: 0.3600\n",
      "Epoch 100/250 — Loss: 0.2463\n",
      "Epoch 150/250 — Loss: 0.3148\n",
      "Epoch 200/250 — Loss: 0.2519\n",
      "Epoch 250/250 — Loss: 0.2594\n",
      "Critical point estimate: 0.5960\n",
      "Critical exponent ν: 0.9407\n",
      "\n",
      "========================================\n",
      "Run 3/10 for DIM=4, Ratio=5\n",
      "========================================\n"
     ]
    },
    {
     "name": "stderr",
     "output_type": "stream",
     "text": [
      "Generating data: 100%|███████████████████████████████████████████████████████████████████████████| 163/163 [00:00<00:00, 719.20it/s]\n",
      "Generating critical data: 100%|██████████████████████████████████████████████████████████████████| 163/163 [00:00<00:00, 669.72it/s]\n"
     ]
    },
    {
     "name": "stdout",
     "output_type": "stream",
     "text": [
      "Epoch 1/250 — Loss: 0.6869\n",
      "Epoch 50/250 — Loss: 0.2434\n",
      "Epoch 100/250 — Loss: 0.2414\n",
      "Epoch 150/250 — Loss: 0.1736\n",
      "Epoch 200/250 — Loss: 0.1420\n",
      "Epoch 250/250 — Loss: 0.1882\n",
      "Critical point estimate: 0.5354\n",
      "Critical exponent ν: 0.7039\n",
      "\n",
      "========================================\n",
      "Run 4/10 for DIM=4, Ratio=5\n",
      "========================================\n"
     ]
    },
    {
     "name": "stderr",
     "output_type": "stream",
     "text": [
      "Generating data: 100%|███████████████████████████████████████████████████████████████████████████| 163/163 [00:00<00:00, 595.45it/s]\n",
      "Generating critical data: 100%|██████████████████████████████████████████████████████████████████| 163/163 [00:00<00:00, 695.93it/s]\n"
     ]
    },
    {
     "name": "stdout",
     "output_type": "stream",
     "text": [
      "Epoch 1/250 — Loss: 0.6968\n",
      "Epoch 50/250 — Loss: 0.2634\n",
      "Epoch 100/250 — Loss: 0.3496\n",
      "Epoch 150/250 — Loss: 0.1982\n",
      "Epoch 200/250 — Loss: 0.1930\n",
      "Epoch 250/250 — Loss: 0.1683\n",
      "Critical point estimate: 0.5556\n",
      "Critical exponent ν: 0.7050\n",
      "\n",
      "========================================\n",
      "Run 5/10 for DIM=4, Ratio=5\n",
      "========================================\n"
     ]
    },
    {
     "name": "stderr",
     "output_type": "stream",
     "text": [
      "Generating data: 100%|███████████████████████████████████████████████████████████████████████████| 163/163 [00:00<00:00, 761.70it/s]\n",
      "Generating critical data: 100%|██████████████████████████████████████████████████████████████████| 163/163 [00:00<00:00, 649.53it/s]\n"
     ]
    },
    {
     "name": "stdout",
     "output_type": "stream",
     "text": [
      "Epoch 1/250 — Loss: 0.6674\n",
      "Epoch 50/250 — Loss: 0.3021\n",
      "Epoch 100/250 — Loss: 0.2977\n",
      "Epoch 150/250 — Loss: 0.3399\n",
      "Epoch 200/250 — Loss: 0.2521\n",
      "Epoch 250/250 — Loss: 0.3108\n",
      "Critical point estimate: 0.4848\n",
      "Critical exponent ν: 0.6756\n",
      "\n",
      "========================================\n",
      "Run 6/10 for DIM=4, Ratio=5\n",
      "========================================\n"
     ]
    },
    {
     "name": "stderr",
     "output_type": "stream",
     "text": [
      "Generating data: 100%|███████████████████████████████████████████████████████████████████████████| 163/163 [00:00<00:00, 743.66it/s]\n",
      "Generating critical data: 100%|██████████████████████████████████████████████████████████████████| 163/163 [00:00<00:00, 620.30it/s]\n"
     ]
    },
    {
     "name": "stdout",
     "output_type": "stream",
     "text": [
      "Epoch 1/250 — Loss: 0.6919\n",
      "Epoch 50/250 — Loss: 0.3470\n",
      "Epoch 100/250 — Loss: 0.3162\n",
      "Epoch 150/250 — Loss: 0.1879\n",
      "Epoch 200/250 — Loss: 0.3521\n",
      "Epoch 250/250 — Loss: 0.1918\n",
      "Critical point estimate: 0.5455\n",
      "Critical exponent ν: 0.7078\n",
      "\n",
      "========================================\n",
      "Run 7/10 for DIM=4, Ratio=5\n",
      "========================================\n"
     ]
    },
    {
     "name": "stderr",
     "output_type": "stream",
     "text": [
      "Generating data: 100%|███████████████████████████████████████████████████████████████████████████| 163/163 [00:00<00:00, 698.94it/s]\n",
      "Generating critical data: 100%|██████████████████████████████████████████████████████████████████| 163/163 [00:00<00:00, 597.86it/s]\n"
     ]
    },
    {
     "name": "stdout",
     "output_type": "stream",
     "text": [
      "Epoch 1/250 — Loss: 0.6848\n",
      "Epoch 50/250 — Loss: 0.2581\n",
      "Epoch 100/250 — Loss: 0.2002\n",
      "Epoch 150/250 — Loss: 0.3394\n",
      "Epoch 200/250 — Loss: 0.2916\n",
      "Epoch 250/250 — Loss: 0.1727\n",
      "Critical point estimate: 0.5657\n",
      "Critical exponent ν: 0.7495\n",
      "\n",
      "========================================\n",
      "Run 8/10 for DIM=4, Ratio=5\n",
      "========================================\n"
     ]
    },
    {
     "name": "stderr",
     "output_type": "stream",
     "text": [
      "Generating data: 100%|███████████████████████████████████████████████████████████████████████████| 163/163 [00:00<00:00, 680.00it/s]\n",
      "Generating critical data: 100%|██████████████████████████████████████████████████████████████████| 163/163 [00:00<00:00, 692.79it/s]\n"
     ]
    },
    {
     "name": "stdout",
     "output_type": "stream",
     "text": [
      "Epoch 1/250 — Loss: 0.6820\n",
      "Epoch 50/250 — Loss: 0.3275\n",
      "Epoch 100/250 — Loss: 0.3307\n",
      "Epoch 150/250 — Loss: 0.1946\n",
      "Epoch 200/250 — Loss: 0.2816\n",
      "Epoch 250/250 — Loss: 0.1673\n",
      "Critical point estimate: 0.5455\n",
      "Critical exponent ν: 0.6320\n",
      "\n",
      "========================================\n",
      "Run 9/10 for DIM=4, Ratio=5\n",
      "========================================\n"
     ]
    },
    {
     "name": "stderr",
     "output_type": "stream",
     "text": [
      "Generating data: 100%|███████████████████████████████████████████████████████████████████████████| 163/163 [00:00<00:00, 691.30it/s]\n",
      "Generating critical data: 100%|██████████████████████████████████████████████████████████████████| 163/163 [00:00<00:00, 691.42it/s]\n"
     ]
    },
    {
     "name": "stdout",
     "output_type": "stream",
     "text": [
      "Epoch 1/250 — Loss: 0.6835\n",
      "Epoch 50/250 — Loss: 0.2161\n",
      "Epoch 100/250 — Loss: 0.2644\n",
      "Epoch 150/250 — Loss: 0.2792\n",
      "Epoch 200/250 — Loss: 0.1648\n",
      "Epoch 250/250 — Loss: 0.2006\n",
      "Critical point estimate: 0.5657\n",
      "Critical exponent ν: 0.6487\n",
      "\n",
      "========================================\n",
      "Run 10/10 for DIM=4, Ratio=5\n",
      "========================================\n"
     ]
    },
    {
     "name": "stderr",
     "output_type": "stream",
     "text": [
      "Generating data: 100%|███████████████████████████████████████████████████████████████████████████| 163/163 [00:00<00:00, 600.64it/s]\n",
      "Generating critical data: 100%|██████████████████████████████████████████████████████████████████| 163/163 [00:00<00:00, 624.77it/s]\n"
     ]
    },
    {
     "name": "stdout",
     "output_type": "stream",
     "text": [
      "Epoch 1/250 — Loss: 0.7013\n",
      "Epoch 50/250 — Loss: 0.2693\n",
      "Epoch 100/250 — Loss: 0.1836\n",
      "Epoch 150/250 — Loss: 0.3210\n",
      "Epoch 200/250 — Loss: 0.1581\n",
      "Epoch 250/250 — Loss: 0.3399\n",
      "Critical point estimate: 0.8485\n",
      "Critical exponent ν: nan\n",
      "\n",
      "\n",
      "==================================================\n",
      "STARTING EXPERIMENTS FOR DIM=5\n",
      "==================================================\n",
      "\n",
      "==================================================\n",
      "STARTING RUNS FOR DIM=5, RATIO=0.2\n",
      "==================================================\n",
      "\n",
      "Starting experiment for DIM=5\n",
      "Parameters: 1921, Ratio: 0.2, Training samples: 9605\n",
      "\n",
      "========================================\n",
      "Run 1/10 for DIM=5, Ratio=0.2\n",
      "========================================\n"
     ]
    },
    {
     "name": "stderr",
     "output_type": "stream",
     "text": [
      "Generating data: 100%|█████████████████████████████████████████████████████████████████████████| 4802/4802 [00:39<00:00, 122.17it/s]\n",
      "Generating critical data: 100%|████████████████████████████████████████████████████████████████| 4802/4802 [00:42<00:00, 113.08it/s]\n"
     ]
    },
    {
     "name": "stdout",
     "output_type": "stream",
     "text": [
      "Epoch 1/25 — Loss: 0.4445\n",
      "Epoch 25/25 — Loss: 0.2549\n",
      "Critical point estimate: 0.1515\n",
      "Critical exponent ν: nan\n",
      "\n",
      "========================================\n",
      "Run 2/10 for DIM=5, Ratio=0.2\n",
      "========================================\n"
     ]
    },
    {
     "name": "stderr",
     "output_type": "stream",
     "text": [
      "Generating data: 100%|█████████████████████████████████████████████████████████████████████████| 4802/4802 [00:37<00:00, 129.71it/s]\n",
      "Generating critical data: 100%|████████████████████████████████████████████████████████████████| 4802/4802 [00:39<00:00, 121.63it/s]\n"
     ]
    },
    {
     "name": "stdout",
     "output_type": "stream",
     "text": [
      "Epoch 1/25 — Loss: 0.4332\n",
      "Epoch 25/25 — Loss: 0.2349\n",
      "Critical point estimate: 0.5859\n",
      "Critical exponent ν: 0.9400\n",
      "\n",
      "========================================\n",
      "Run 3/10 for DIM=5, Ratio=0.2\n",
      "========================================\n"
     ]
    },
    {
     "name": "stderr",
     "output_type": "stream",
     "text": [
      "Generating data: 100%|█████████████████████████████████████████████████████████████████████████| 4802/4802 [00:37<00:00, 127.63it/s]\n",
      "Generating critical data: 100%|████████████████████████████████████████████████████████████████| 4802/4802 [00:39<00:00, 122.84it/s]\n"
     ]
    },
    {
     "name": "stdout",
     "output_type": "stream",
     "text": [
      "Epoch 1/25 — Loss: 0.5092\n",
      "Epoch 25/25 — Loss: 0.2348\n",
      "Critical point estimate: 0.5859\n",
      "Critical exponent ν: 1.0008\n",
      "\n",
      "========================================\n",
      "Run 4/10 for DIM=5, Ratio=0.2\n",
      "========================================\n"
     ]
    },
    {
     "name": "stderr",
     "output_type": "stream",
     "text": [
      "Generating data: 100%|█████████████████████████████████████████████████████████████████████████| 4802/4802 [00:38<00:00, 126.36it/s]\n",
      "Generating critical data: 100%|████████████████████████████████████████████████████████████████| 4802/4802 [00:40<00:00, 118.52it/s]\n"
     ]
    },
    {
     "name": "stdout",
     "output_type": "stream",
     "text": [
      "Epoch 1/25 — Loss: 0.4468\n",
      "Epoch 25/25 — Loss: 0.2214\n",
      "Critical point estimate: 0.5758\n",
      "Critical exponent ν: 0.9494\n",
      "\n",
      "========================================\n",
      "Run 5/10 for DIM=5, Ratio=0.2\n",
      "========================================\n"
     ]
    },
    {
     "name": "stderr",
     "output_type": "stream",
     "text": [
      "Generating data: 100%|█████████████████████████████████████████████████████████████████████████| 4802/4802 [00:38<00:00, 124.75it/s]\n",
      "Generating critical data: 100%|████████████████████████████████████████████████████████████████| 4802/4802 [00:41<00:00, 116.06it/s]\n"
     ]
    },
    {
     "name": "stdout",
     "output_type": "stream",
     "text": [
      "Epoch 1/25 — Loss: 0.5064\n",
      "Epoch 25/25 — Loss: 0.2053\n",
      "Critical point estimate: 0.5859\n",
      "Critical exponent ν: 1.0062\n",
      "\n",
      "========================================\n",
      "Run 6/10 for DIM=5, Ratio=0.2\n",
      "========================================\n"
     ]
    },
    {
     "name": "stderr",
     "output_type": "stream",
     "text": [
      "Generating data: 100%|█████████████████████████████████████████████████████████████████████████| 4802/4802 [00:37<00:00, 128.96it/s]\n",
      "Generating critical data: 100%|████████████████████████████████████████████████████████████████| 4802/4802 [00:39<00:00, 120.68it/s]\n"
     ]
    },
    {
     "name": "stdout",
     "output_type": "stream",
     "text": [
      "Epoch 1/25 — Loss: 0.4513\n",
      "Epoch 25/25 — Loss: 0.2183\n",
      "Critical point estimate: 0.5758\n",
      "Critical exponent ν: 0.9541\n",
      "\n",
      "========================================\n",
      "Run 7/10 for DIM=5, Ratio=0.2\n",
      "========================================\n"
     ]
    },
    {
     "name": "stderr",
     "output_type": "stream",
     "text": [
      "Generating data: 100%|█████████████████████████████████████████████████████████████████████████| 4802/4802 [00:37<00:00, 127.15it/s]\n",
      "Generating critical data: 100%|████████████████████████████████████████████████████████████████| 4802/4802 [00:41<00:00, 116.68it/s]\n"
     ]
    },
    {
     "name": "stdout",
     "output_type": "stream",
     "text": [
      "Epoch 1/25 — Loss: 0.5239\n",
      "Epoch 25/25 — Loss: 0.2172\n",
      "Critical point estimate: 0.5859\n",
      "Critical exponent ν: 0.9357\n",
      "\n",
      "========================================\n",
      "Run 8/10 for DIM=5, Ratio=0.2\n",
      "========================================\n"
     ]
    },
    {
     "name": "stderr",
     "output_type": "stream",
     "text": [
      "Generating data: 100%|█████████████████████████████████████████████████████████████████████████| 4802/4802 [00:37<00:00, 127.92it/s]\n",
      "Generating critical data: 100%|████████████████████████████████████████████████████████████████| 4802/4802 [00:40<00:00, 119.42it/s]\n"
     ]
    },
    {
     "name": "stdout",
     "output_type": "stream",
     "text": [
      "Epoch 1/25 — Loss: 0.4728\n",
      "Epoch 25/25 — Loss: 0.2270\n",
      "Critical point estimate: 0.6162\n",
      "Critical exponent ν: 1.0130\n",
      "\n",
      "========================================\n",
      "Run 9/10 for DIM=5, Ratio=0.2\n",
      "========================================\n"
     ]
    },
    {
     "name": "stderr",
     "output_type": "stream",
     "text": [
      "Generating data: 100%|█████████████████████████████████████████████████████████████████████████| 4802/4802 [00:36<00:00, 130.18it/s]\n",
      "Generating critical data: 100%|████████████████████████████████████████████████████████████████| 4802/4802 [00:38<00:00, 123.28it/s]\n"
     ]
    },
    {
     "name": "stdout",
     "output_type": "stream",
     "text": [
      "Epoch 1/25 — Loss: 0.4459\n",
      "Epoch 25/25 — Loss: 0.2395\n",
      "Critical point estimate: 0.5758\n",
      "Critical exponent ν: 0.9758\n",
      "\n",
      "========================================\n",
      "Run 10/10 for DIM=5, Ratio=0.2\n",
      "========================================\n"
     ]
    },
    {
     "name": "stderr",
     "output_type": "stream",
     "text": [
      "Generating data: 100%|█████████████████████████████████████████████████████████████████████████| 4802/4802 [00:36<00:00, 132.25it/s]\n",
      "Generating critical data: 100%|████████████████████████████████████████████████████████████████| 4802/4802 [00:39<00:00, 122.12it/s]\n"
     ]
    },
    {
     "name": "stdout",
     "output_type": "stream",
     "text": [
      "Epoch 1/25 — Loss: 0.4635\n",
      "Epoch 25/25 — Loss: 0.2492\n",
      "Critical point estimate: 0.5758\n",
      "Critical exponent ν: 0.9205\n",
      "\n",
      "==================================================\n",
      "STARTING RUNS FOR DIM=5, RATIO=0.5\n",
      "==================================================\n",
      "\n",
      "Starting experiment for DIM=5\n",
      "Parameters: 1921, Ratio: 0.5, Training samples: 3842\n",
      "\n",
      "========================================\n",
      "Run 1/10 for DIM=5, Ratio=0.5\n",
      "========================================\n"
     ]
    },
    {
     "name": "stderr",
     "output_type": "stream",
     "text": [
      "Generating data: 100%|█████████████████████████████████████████████████████████████████████████| 1921/1921 [00:13<00:00, 141.18it/s]\n",
      "Generating critical data: 100%|████████████████████████████████████████████████████████████████| 1921/1921 [00:16<00:00, 116.51it/s]\n"
     ]
    },
    {
     "name": "stdout",
     "output_type": "stream",
     "text": [
      "Epoch 1/40 — Loss: 0.6142\n",
      "Epoch 40/40 — Loss: 0.2210\n",
      "Critical point estimate: 0.5960\n",
      "Critical exponent ν: 1.0466\n",
      "\n",
      "========================================\n",
      "Run 2/10 for DIM=5, Ratio=0.5\n",
      "========================================\n"
     ]
    },
    {
     "name": "stderr",
     "output_type": "stream",
     "text": [
      "Generating data: 100%|█████████████████████████████████████████████████████████████████████████| 1921/1921 [00:14<00:00, 132.25it/s]\n",
      "Generating critical data: 100%|████████████████████████████████████████████████████████████████| 1921/1921 [00:15<00:00, 121.46it/s]\n"
     ]
    },
    {
     "name": "stdout",
     "output_type": "stream",
     "text": [
      "Epoch 1/40 — Loss: 0.6106\n",
      "Epoch 40/40 — Loss: 0.2430\n",
      "Critical point estimate: 0.5960\n",
      "Critical exponent ν: 1.0767\n",
      "\n",
      "========================================\n",
      "Run 3/10 for DIM=5, Ratio=0.5\n",
      "========================================\n"
     ]
    },
    {
     "name": "stderr",
     "output_type": "stream",
     "text": [
      "Generating data: 100%|█████████████████████████████████████████████████████████████████████████| 1921/1921 [00:14<00:00, 136.36it/s]\n",
      "Generating critical data: 100%|████████████████████████████████████████████████████████████████| 1921/1921 [00:15<00:00, 124.38it/s]\n"
     ]
    },
    {
     "name": "stdout",
     "output_type": "stream",
     "text": [
      "Epoch 1/40 — Loss: 0.5603\n",
      "Epoch 40/40 — Loss: 0.2560\n",
      "Critical point estimate: 0.5960\n",
      "Critical exponent ν: 1.0340\n",
      "\n",
      "========================================\n",
      "Run 4/10 for DIM=5, Ratio=0.5\n",
      "========================================\n"
     ]
    },
    {
     "name": "stderr",
     "output_type": "stream",
     "text": [
      "Generating data: 100%|█████████████████████████████████████████████████████████████████████████| 1921/1921 [00:14<00:00, 130.90it/s]\n",
      "Generating critical data: 100%|████████████████████████████████████████████████████████████████| 1921/1921 [00:14<00:00, 133.72it/s]\n"
     ]
    },
    {
     "name": "stdout",
     "output_type": "stream",
     "text": [
      "Epoch 1/40 — Loss: 0.6363\n",
      "Epoch 40/40 — Loss: 0.2211\n",
      "Critical point estimate: 0.5960\n",
      "Critical exponent ν: 0.9904\n",
      "\n",
      "========================================\n",
      "Run 5/10 for DIM=5, Ratio=0.5\n",
      "========================================\n"
     ]
    },
    {
     "name": "stderr",
     "output_type": "stream",
     "text": [
      "Generating data: 100%|█████████████████████████████████████████████████████████████████████████| 1921/1921 [00:11<00:00, 173.66it/s]\n",
      "Generating critical data: 100%|████████████████████████████████████████████████████████████████| 1921/1921 [00:11<00:00, 160.25it/s]\n"
     ]
    },
    {
     "name": "stdout",
     "output_type": "stream",
     "text": [
      "Epoch 1/40 — Loss: 0.5892\n",
      "Epoch 40/40 — Loss: 0.2627\n",
      "Critical point estimate: 0.5960\n",
      "Critical exponent ν: 1.1205\n",
      "\n",
      "========================================\n",
      "Run 6/10 for DIM=5, Ratio=0.5\n",
      "========================================\n"
     ]
    },
    {
     "name": "stderr",
     "output_type": "stream",
     "text": [
      "Generating data: 100%|█████████████████████████████████████████████████████████████████████████| 1921/1921 [00:11<00:00, 171.04it/s]\n",
      "Generating critical data: 100%|████████████████████████████████████████████████████████████████| 1921/1921 [00:10<00:00, 177.53it/s]\n"
     ]
    },
    {
     "name": "stdout",
     "output_type": "stream",
     "text": [
      "Epoch 1/40 — Loss: 0.5918\n",
      "Epoch 40/40 — Loss: 0.2284\n",
      "Critical point estimate: 0.5758\n",
      "Critical exponent ν: 0.9751\n",
      "\n",
      "========================================\n",
      "Run 7/10 for DIM=5, Ratio=0.5\n",
      "========================================\n"
     ]
    },
    {
     "name": "stderr",
     "output_type": "stream",
     "text": [
      "Generating data: 100%|█████████████████████████████████████████████████████████████████████████| 1921/1921 [00:12<00:00, 148.43it/s]\n",
      "Generating critical data: 100%|████████████████████████████████████████████████████████████████| 1921/1921 [00:12<00:00, 152.01it/s]\n"
     ]
    },
    {
     "name": "stdout",
     "output_type": "stream",
     "text": [
      "Epoch 1/40 — Loss: 0.5977\n",
      "Epoch 40/40 — Loss: 0.2441\n",
      "Critical point estimate: 0.5657\n",
      "Critical exponent ν: 1.0357\n",
      "\n",
      "========================================\n",
      "Run 8/10 for DIM=5, Ratio=0.5\n",
      "========================================\n"
     ]
    },
    {
     "name": "stderr",
     "output_type": "stream",
     "text": [
      "Generating data: 100%|█████████████████████████████████████████████████████████████████████████| 1921/1921 [00:12<00:00, 154.10it/s]\n",
      "Generating critical data: 100%|████████████████████████████████████████████████████████████████| 1921/1921 [00:12<00:00, 149.44it/s]\n"
     ]
    },
    {
     "name": "stdout",
     "output_type": "stream",
     "text": [
      "Epoch 1/40 — Loss: 0.5873\n",
      "Epoch 40/40 — Loss: 0.2300\n",
      "Critical point estimate: 0.5859\n",
      "Critical exponent ν: 0.9750\n",
      "\n",
      "========================================\n",
      "Run 9/10 for DIM=5, Ratio=0.5\n",
      "========================================\n"
     ]
    },
    {
     "name": "stderr",
     "output_type": "stream",
     "text": [
      "Generating data: 100%|█████████████████████████████████████████████████████████████████████████| 1921/1921 [00:12<00:00, 148.06it/s]\n",
      "Generating critical data: 100%|████████████████████████████████████████████████████████████████| 1921/1921 [00:12<00:00, 149.51it/s]\n"
     ]
    },
    {
     "name": "stdout",
     "output_type": "stream",
     "text": [
      "Epoch 1/40 — Loss: 0.5725\n",
      "Epoch 40/40 — Loss: 0.2449\n",
      "Critical point estimate: 0.6061\n",
      "Critical exponent ν: 1.0495\n",
      "\n",
      "========================================\n",
      "Run 10/10 for DIM=5, Ratio=0.5\n",
      "========================================\n"
     ]
    },
    {
     "name": "stderr",
     "output_type": "stream",
     "text": [
      "Generating data: 100%|█████████████████████████████████████████████████████████████████████████| 1921/1921 [00:12<00:00, 152.88it/s]\n",
      "Generating critical data: 100%|████████████████████████████████████████████████████████████████| 1921/1921 [00:13<00:00, 138.96it/s]\n"
     ]
    },
    {
     "name": "stdout",
     "output_type": "stream",
     "text": [
      "Epoch 1/40 — Loss: 0.6450\n",
      "Epoch 40/40 — Loss: 0.2600\n",
      "Critical point estimate: 0.5859\n",
      "Critical exponent ν: 1.1123\n",
      "\n",
      "==================================================\n",
      "STARTING RUNS FOR DIM=5, RATIO=2\n",
      "==================================================\n",
      "\n",
      "Starting experiment for DIM=5\n",
      "Parameters: 1921, Ratio: 2, Training samples: 960\n",
      "\n",
      "========================================\n",
      "Run 1/10 for DIM=5, Ratio=2\n",
      "========================================\n"
     ]
    },
    {
     "name": "stderr",
     "output_type": "stream",
     "text": [
      "Generating data: 100%|███████████████████████████████████████████████████████████████████████████| 480/480 [00:02<00:00, 163.58it/s]\n",
      "Generating critical data: 100%|██████████████████████████████████████████████████████████████████| 480/480 [00:03<00:00, 141.94it/s]\n"
     ]
    },
    {
     "name": "stdout",
     "output_type": "stream",
     "text": [
      "Epoch 1/250 — Loss: 0.6813\n",
      "Epoch 50/250 — Loss: 0.2629\n",
      "Epoch 100/250 — Loss: 0.1934\n",
      "Epoch 150/250 — Loss: 0.1700\n",
      "Epoch 200/250 — Loss: 0.2824\n",
      "Epoch 250/250 — Loss: 0.2629\n",
      "Critical point estimate: 0.5859\n",
      "Critical exponent ν: 0.8478\n",
      "\n",
      "========================================\n",
      "Run 2/10 for DIM=5, Ratio=2\n",
      "========================================\n"
     ]
    },
    {
     "name": "stderr",
     "output_type": "stream",
     "text": [
      "Generating data: 100%|███████████████████████████████████████████████████████████████████████████| 480/480 [00:03<00:00, 144.96it/s]\n",
      "Generating critical data: 100%|██████████████████████████████████████████████████████████████████| 480/480 [00:03<00:00, 132.18it/s]\n"
     ]
    },
    {
     "name": "stdout",
     "output_type": "stream",
     "text": [
      "Epoch 1/250 — Loss: 0.6889\n",
      "Epoch 50/250 — Loss: 0.2684\n",
      "Epoch 100/250 — Loss: 0.2665\n",
      "Epoch 150/250 — Loss: 0.2277\n",
      "Epoch 200/250 — Loss: 0.2872\n",
      "Epoch 250/250 — Loss: 0.1785\n",
      "Critical point estimate: 0.5859\n",
      "Critical exponent ν: 0.8206\n",
      "\n",
      "========================================\n",
      "Run 3/10 for DIM=5, Ratio=2\n",
      "========================================\n"
     ]
    },
    {
     "name": "stderr",
     "output_type": "stream",
     "text": [
      "Generating data: 100%|███████████████████████████████████████████████████████████████████████████| 480/480 [00:03<00:00, 151.52it/s]\n",
      "Generating critical data: 100%|██████████████████████████████████████████████████████████████████| 480/480 [00:03<00:00, 123.84it/s]\n"
     ]
    },
    {
     "name": "stdout",
     "output_type": "stream",
     "text": [
      "Epoch 1/250 — Loss: 0.6602\n",
      "Epoch 50/250 — Loss: 0.2766\n",
      "Epoch 100/250 — Loss: 0.2538\n",
      "Epoch 150/250 — Loss: 0.2622\n",
      "Epoch 200/250 — Loss: 0.2117\n",
      "Epoch 250/250 — Loss: 0.3020\n",
      "Critical point estimate: 0.6061\n",
      "Critical exponent ν: 1.0103\n",
      "\n",
      "========================================\n",
      "Run 4/10 for DIM=5, Ratio=2\n",
      "========================================\n"
     ]
    },
    {
     "name": "stderr",
     "output_type": "stream",
     "text": [
      "Generating data: 100%|███████████████████████████████████████████████████████████████████████████| 480/480 [00:03<00:00, 121.38it/s]\n",
      "Generating critical data: 100%|██████████████████████████████████████████████████████████████████| 480/480 [00:04<00:00, 114.88it/s]\n"
     ]
    },
    {
     "name": "stdout",
     "output_type": "stream",
     "text": [
      "Epoch 1/250 — Loss: 0.6815\n",
      "Epoch 50/250 — Loss: 0.2305\n",
      "Epoch 100/250 — Loss: 0.2059\n",
      "Epoch 150/250 — Loss: 0.5075\n",
      "Epoch 200/250 — Loss: 0.2220\n",
      "Epoch 250/250 — Loss: 0.2230\n",
      "Critical point estimate: 0.5859\n",
      "Critical exponent ν: 0.9222\n",
      "\n",
      "========================================\n",
      "Run 5/10 for DIM=5, Ratio=2\n",
      "========================================\n"
     ]
    },
    {
     "name": "stderr",
     "output_type": "stream",
     "text": [
      "Generating data: 100%|███████████████████████████████████████████████████████████████████████████| 480/480 [00:03<00:00, 124.19it/s]\n",
      "Generating critical data: 100%|██████████████████████████████████████████████████████████████████| 480/480 [00:04<00:00, 111.61it/s]\n"
     ]
    },
    {
     "name": "stdout",
     "output_type": "stream",
     "text": [
      "Epoch 1/250 — Loss: 0.6726\n",
      "Epoch 50/250 — Loss: 0.2807\n",
      "Epoch 100/250 — Loss: 0.2774\n",
      "Epoch 150/250 — Loss: 0.2173\n",
      "Epoch 200/250 — Loss: 0.1924\n",
      "Epoch 250/250 — Loss: 0.1781\n",
      "Critical point estimate: 0.5657\n",
      "Critical exponent ν: 0.7239\n",
      "\n",
      "========================================\n",
      "Run 6/10 for DIM=5, Ratio=2\n",
      "========================================\n"
     ]
    },
    {
     "name": "stderr",
     "output_type": "stream",
     "text": [
      "Generating data: 100%|███████████████████████████████████████████████████████████████████████████| 480/480 [00:04<00:00, 119.73it/s]\n",
      "Generating critical data: 100%|██████████████████████████████████████████████████████████████████| 480/480 [00:04<00:00, 112.73it/s]\n"
     ]
    },
    {
     "name": "stdout",
     "output_type": "stream",
     "text": [
      "Epoch 1/250 — Loss: 0.6778\n",
      "Epoch 50/250 — Loss: 0.3098\n",
      "Epoch 100/250 — Loss: 0.4598\n",
      "Epoch 150/250 — Loss: 0.2089\n",
      "Epoch 200/250 — Loss: 0.2091\n",
      "Epoch 250/250 — Loss: 0.2326\n",
      "Critical point estimate: 0.5859\n",
      "Critical exponent ν: 0.9250\n",
      "\n",
      "========================================\n",
      "Run 7/10 for DIM=5, Ratio=2\n",
      "========================================\n"
     ]
    },
    {
     "name": "stderr",
     "output_type": "stream",
     "text": [
      "Generating data: 100%|███████████████████████████████████████████████████████████████████████████| 480/480 [00:03<00:00, 154.77it/s]\n",
      "Generating critical data: 100%|██████████████████████████████████████████████████████████████████| 480/480 [00:03<00:00, 139.82it/s]\n"
     ]
    },
    {
     "name": "stdout",
     "output_type": "stream",
     "text": [
      "Epoch 1/250 — Loss: 0.6585\n",
      "Epoch 50/250 — Loss: 0.2168\n"
     ]
    }
   ],
   "source": [
    "import numpy as np\n",
    "import torch\n",
    "import torch.nn as nn\n",
    "import torch.nn.functional as F\n",
    "import torch.optim as optim\n",
    "from scipy.ndimage import label\n",
    "from tqdm import tqdm\n",
    "import matplotlib.pyplot as plt\n",
    "import os\n",
    "import json\n",
    "from collections import defaultdict\n",
    "from matplotlib.backends.backend_pdf import PdfPages\n",
    "\n",
    "MAX_STEPS = 10\n",
    "\n",
    "def generate_percolation_lattice(size, p):\n",
    "    return np.random.choice([0, 1], (size, size), p=[1-p, p]).astype(np.uint8)\n",
    "\n",
    "def check_percolation(lattice):\n",
    "    labeled, _ = label(lattice)\n",
    "    top = set(labeled[0]) - {0}\n",
    "    bottom = set(labeled[-1]) - {0}\n",
    "    left = set(labeled[:,0]) - {0}\n",
    "    right = set(labeled[:,-1]) - {0}\n",
    "    return float(bool(top & bottom) or bool(left & right))\n",
    "\n",
    "def first_coarse_graining(binary_lattice, dim):\n",
    "    \"\"\"Average non-overlapping dim×dim blocks.\"\"\"\n",
    "    t = torch.tensor(binary_lattice, dtype=torch.float32).unsqueeze(0).unsqueeze(0)\n",
    "    patches = F.unfold(t, kernel_size=dim, stride=dim)\n",
    "    patches = patches.permute(0, 2, 1)\n",
    "    coarse_vals = patches.mean(dim=2)\n",
    "    H, W = binary_lattice.shape\n",
    "    new_h, new_w = H // dim, W // dim\n",
    "    return coarse_vals.view(1, 1, new_h, new_w).squeeze(0)\n",
    "\n",
    "class PercolationModel(nn.Module):\n",
    "    def __init__(self, dim):\n",
    "        super().__init__()\n",
    "        self.dim = dim\n",
    "        self.rule = nn.Sequential(\n",
    "            nn.Linear(dim * dim, 32),  # First layer with 32 neurons\n",
    "            nn.ReLU(),\n",
    "            nn.Linear(32, 32),        # Second layer with 32 neurons\n",
    "            nn.ReLU(),\n",
    "            nn.Linear(32, 1),          # Final output layer\n",
    "            nn.Sigmoid()\n",
    "        )\n",
    "    \n",
    "    def forward(self, x, max_steps=MAX_STEPS):\n",
    "        b, c, H, W = x.shape\n",
    "        for _ in range(max_steps):\n",
    "            if H < self.dim or W < self.dim:\n",
    "                break\n",
    "            patches = F.unfold(x, kernel_size=self.dim, stride=self.dim)\n",
    "            patches = patches.permute(0, 2, 1).contiguous()\n",
    "            out = self.rule(patches.view(-1, self.dim*self.dim))\n",
    "            new_h, new_w = H // self.dim, W // self.dim\n",
    "            x = out.view(b, 1, new_h, new_w)\n",
    "            _, _, H, W = x.shape\n",
    "        return x.squeeze(1).view(b, -1)\n",
    "\n",
    "def prepare_dataset(N, sizes):\n",
    "    data = []\n",
    "    for _ in tqdm(range(int(N/2)), desc=\"Generating data\"):\n",
    "        p = np.random.uniform(0.1, 0.9)\n",
    "        size = np.random.choice(sizes)\n",
    "        L = generate_percolation_lattice(size, p)\n",
    "        data.append((L, check_percolation(L)))\n",
    "    for _ in tqdm(range(int(N/2)), desc=\"Generating critical data\"):\n",
    "        p = np.random.uniform(0.55, 0.65)\n",
    "        size = np.random.choice(sizes)\n",
    "        L = generate_percolation_lattice(size, p)\n",
    "        data.append((L, check_percolation(L)))\n",
    "    return data\n",
    "\n",
    "def train_epoch(model, device, data, batch_size, opt, crit, dim):\n",
    "    model.train()\n",
    "    total_loss = 0.0\n",
    "    for i in range(0, len(data), batch_size):\n",
    "        batch = data[i:i+batch_size]\n",
    "        processed = []\n",
    "        for x, y in batch:\n",
    "            cg_lattice = first_coarse_graining(x, dim)\n",
    "            h, w = cg_lattice.shape[-2], cg_lattice.shape[-1]\n",
    "            processed.append((cg_lattice, y, (h, w)))\n",
    "        \n",
    "        groups = {}\n",
    "        for cg, y, size in processed:\n",
    "            if size not in groups:\n",
    "                groups[size] = []\n",
    "            groups[size].append((cg, y))\n",
    "        \n",
    "        group_loss = 0.0\n",
    "        for size_key, group in groups.items():\n",
    "            lattices = [item[0] for item in group]\n",
    "            labels = [item[1] for item in group]\n",
    "            inputs = torch.stack(lattices).to(device)\n",
    "            targets = torch.tensor(labels, dtype=torch.float32, device=device)\n",
    "            \n",
    "            opt.zero_grad()\n",
    "            outputs = model(inputs)\n",
    "            loss = crit(outputs.view(-1), targets)\n",
    "            loss.backward()\n",
    "            opt.step()\n",
    "            group_loss += loss.item() * len(group)\n",
    "        \n",
    "        total_loss += group_loss\n",
    "    \n",
    "    return total_loss / len(data)\n",
    "\n",
    "def test_systems(model, dim, power, device='cpu',\n",
    "                 num_tests=50, system_size='standard',\n",
    "                 p_range=(0,1), verbose=True):\n",
    "    model.to(device).eval()\n",
    "    mapping = {\n",
    "        f'{dim}^2': power - 1,\n",
    "        f'{dim}^3': power,\n",
    "        f'{dim}^4': power + 1,\n",
    "        f'{dim}^5': power + 2,\n",
    "        f'{dim}^6': power + 3,\n",
    "        f'{dim}^7': power + 4\n",
    "    }\n",
    "    size_power = mapping[system_size]\n",
    "    L = dim ** size_power\n",
    "\n",
    "    results = []\n",
    "    for _ in range(num_tests):\n",
    "        p = np.random.uniform(*p_range)\n",
    "        raw = generate_percolation_lattice(L, p)\n",
    "        lbl = check_percolation(raw)\n",
    "        coarse = first_coarse_graining(raw, dim)\n",
    "        inp = coarse.unsqueeze(0).to(device)\n",
    "        \n",
    "        with torch.no_grad():\n",
    "            out = model(inp).view(-1).item()\n",
    "        results.append((raw, lbl, out))\n",
    "\n",
    "    acc = sum((pred > 0.5) == lbl for _, lbl, pred in results) / num_tests\n",
    "    pos = [pred for _, lbl, pred in results if lbl == 1]\n",
    "    neg = [pred for _, lbl, pred in results if lbl == 0]\n",
    "    \n",
    "    metrics = {\n",
    "        'accuracy': acc,\n",
    "        'avg_pred_perc': np.mean(pos) if pos else 0,\n",
    "        'avg_pred_non_perc': np.mean(neg) if neg else 0\n",
    "    }\n",
    "    \n",
    "    if verbose:\n",
    "        print(f\"\\nAfter manual first coarse-grain -> NN cascade on {L}×{L}:\")\n",
    "        print(f\" Accuracy        : {acc:.2%}\")\n",
    "        print(f\" Avg pred | Perc     : {metrics['avg_pred_perc']:.3f}\")\n",
    "        print(f\" Avg pred | Non-Perc : {metrics['avg_pred_non_perc']:.3f}\")\n",
    "\n",
    "    return metrics\n",
    "\n",
    "def visualize_rule(model, dim, device='cpu'):\n",
    "    p_values = np.linspace(0, 1, 100)\n",
    "    model.eval()\n",
    "    mean_outputs = []\n",
    "    with torch.no_grad():\n",
    "        for p in p_values:\n",
    "            # Create a single input vector with all values = p\n",
    "            inputs = torch.full((1, dim*dim), p, \n",
    "                               dtype=torch.float32, device=device)\n",
    "            # Get deterministic output\n",
    "            output = model.rule(inputs).item()\n",
    "            mean_outputs.append(output)\n",
    "    \n",
    "    mean_outputs = np.array(mean_outputs)\n",
    "    diff = mean_outputs - p_values\n",
    "    crossings = []\n",
    "    for i in range(len(p_values) - 1):\n",
    "        if p_values[i] < 0.1 or p_values[i] > 0.9:\n",
    "            continue\n",
    "        if diff[i] * diff[i+1] <= 0:\n",
    "            x1, x2 = p_values[i], p_values[i+1]\n",
    "            y1, y2 = diff[i], diff[i+1]\n",
    "            if y1 == y2:\n",
    "                continue\n",
    "            cross = x1 - y1 * (x2 - x1) / (y2 - y1)\n",
    "            crossings.append(cross)\n",
    "    \n",
    "    valid_mask = (p_values >= 0.1) & (p_values <= 0.9)\n",
    "    valid_p = p_values[valid_mask]\n",
    "    valid_out = mean_outputs[valid_mask]\n",
    "    abs_diff = np.abs(valid_out - valid_p)\n",
    "    if len(valid_p) > 0:\n",
    "        p_c_model = valid_p[np.argmin(abs_diff)]\n",
    "    else:\n",
    "        p_c_model = p_values[np.argmin(np.abs(mean_outputs - p_values))]\n",
    "    \n",
    "    idx = np.argmin(np.abs(p_values - p_c_model))\n",
    "    \n",
    "    if idx == 0:\n",
    "        deriv = (mean_outputs[1] - mean_outputs[0]) / (p_values[1] - p_values[0])\n",
    "    elif idx == len(p_values) - 1:\n",
    "        deriv = (mean_outputs[-1] - mean_outputs[-2]) / (p_values[-1] - p_values[-2])\n",
    "    else:\n",
    "        deriv = (mean_outputs[idx+1] - mean_outputs[idx-1]) / (p_values[idx+1] - p_values[idx-1])\n",
    "    \n",
    "    lambda_val = abs(deriv)\n",
    "    if lambda_val > 1:\n",
    "        nu = np.log(dim) / np.log(lambda_val)\n",
    "    else:\n",
    "        nu = float('nan')\n",
    "    \n",
    "    return p_values, mean_outputs, p_c_model, crossings, deriv, nu\n",
    "\n",
    "def run_experiment(dim, power, num_runs, device, ratio, epochs):\n",
    "    all_rule_curves = []\n",
    "    all_test_results = defaultdict(list)\n",
    "    all_pc_values = []\n",
    "    all_nu_values = []\n",
    "    \n",
    "    # Calculate model parameters to determine training samples\n",
    "    model = PercolationModel(dim).to(device)\n",
    "    num_params = sum(p.numel() for p in model.parameters())\n",
    "    train_samples = int(num_params / ratio)\n",
    "    \n",
    "    print(f\"\\nStarting experiment for DIM={dim}\")\n",
    "    print(f\"Parameters: {num_params}, Ratio: {ratio}, Training samples: {train_samples}\")\n",
    "    \n",
    "    for run_idx in range(num_runs):\n",
    "        print(f\"\\n{'='*40}\")\n",
    "        print(f\"Run {run_idx+1}/{num_runs} for DIM={dim}, Ratio={ratio}\")\n",
    "        print(f\"{'='*40}\")\n",
    "        \n",
    "        sizes = [dim**2, dim**3, dim**4]\n",
    "        train_data = prepare_dataset(train_samples, sizes)\n",
    "        \n",
    "        model = PercolationModel(dim).to(device)\n",
    "        opt = optim.Adam(model.parameters(), lr=1e-3)\n",
    "        crit = nn.BCELoss()\n",
    "        \n",
    "        # Training loop with custom epochs\n",
    "        for epoch in range(1, epochs + 1):\n",
    "            loss = train_epoch(model, device, train_data, 10, opt, crit, dim)\n",
    "            if epoch % 50 == 0 or epoch == 1 or epoch == epochs:\n",
    "                print(f\"Epoch {epoch}/{epochs} — Loss: {loss:.4f}\")\n",
    "        \n",
    "        # Test configurations - adjust sample counts\n",
    "        test_configs = [\n",
    "            {'system_size': f'{dim}^2', 'num_tests': 100, 'p_range': (0.55, 0.65)},\n",
    "            {'system_size': f'{dim}^3', 'num_tests': 100, 'p_range': (0.55, 0.65)},\n",
    "            {'system_size': f'{dim}^4', 'num_tests': 100, 'p_range': (0.55, 0.65)},\n",
    "            {'system_size': f'{dim}^5', 'num_tests': 10, 'p_range': (0.55, 0.65)},\n",
    "        ]\n",
    "        \n",
    "        for config in test_configs:\n",
    "            key = f\"{config['system_size']}_{config['p_range'][0]}-{config['p_range'][1]}\"\n",
    "            metrics = test_systems(\n",
    "                model, dim, power, device,\n",
    "                num_tests=config['num_tests'],\n",
    "                system_size=config['system_size'],\n",
    "                p_range=config['p_range'],\n",
    "                verbose=False\n",
    "            )\n",
    "            all_test_results[key].append(metrics)\n",
    "        \n",
    "        p_vals, outputs, p_c_model, crossings, deriv, nu = visualize_rule(model, dim, device)\n",
    "        all_rule_curves.append((p_vals, outputs, p_c_model, crossings))\n",
    "        all_pc_values.append(p_c_model)\n",
    "        all_nu_values.append(nu)\n",
    "        \n",
    "        print(f\"Critical point estimate: {p_c_model:.4f}\")\n",
    "        print(f\"Critical exponent ν: {nu:.4f}\")\n",
    "        \n",
    "        del model, opt, crit, train_data\n",
    "        torch.cuda.empty_cache()\n",
    "    \n",
    "    return all_rule_curves, all_test_results, all_pc_values, all_nu_values\n",
    "\n",
    "def save_consolidated_results_for_ratio(dim, ratio, results):\n",
    "    all_rule_curves, all_test_results, all_pc_values, all_nu_values = results\n",
    "    \n",
    "    # Create directory structure\n",
    "    base_dir = f\"results_dim_{dim}\"\n",
    "    ratio_dir = os.path.join(base_dir, f\"ratio_{ratio}\")\n",
    "    os.makedirs(ratio_dir, exist_ok=True)\n",
    "    \n",
    "    # Save PDF report\n",
    "    pdf_path = os.path.join(ratio_dir, \"consolidated_results.pdf\")\n",
    "    with PdfPages(pdf_path) as pdf:\n",
    "        valid_nu = [nu for nu in all_nu_values if not np.isnan(nu)]\n",
    "        avg_pc = np.mean(all_pc_values)\n",
    "        std_pc = np.std(all_pc_values)\n",
    "        avg_nu = np.mean(valid_nu) if valid_nu else float('nan')\n",
    "        std_nu = np.std(valid_nu) if valid_nu else float('nan')\n",
    "        \n",
    "        plt.figure(figsize=(10, 6))\n",
    "        for i, (p_vals, outputs, p_c_model, crossings) in enumerate(all_rule_curves):\n",
    "            plt.plot(p_vals, outputs, alpha=0.5, color='blue')\n",
    "            valid_crossings = [cross for cross in crossings if 0.1 <= cross <= 0.9]\n",
    "            for cross in valid_crossings:\n",
    "                plt.scatter(cross, cross, color='black', s=30, zorder=3)\n",
    "        \n",
    "        plt.plot([0, 1], [0, 1], 'k--', label=r'$f(p) = p$', linewidth=1.5)\n",
    "        plt.plot([], [], ' ', label=f'$p_c = {avg_pc:.3f} \\\\pm {std_pc:.3f}$')\n",
    "        if not np.isnan(avg_nu):\n",
    "            plt.plot([], [], ' ', label=f'$\\\\nu = {avg_nu:.3f} \\\\pm {std_nu:.3f}$')\n",
    "        \n",
    "        plt.xlabel('$p$', fontsize=16)\n",
    "        plt.ylabel(r'$f_{\\theta}(p\\mathbf{1})$', fontsize=16)\n",
    "        plt.title(f\"Rule Projection - DIM={dim}, Ratio={ratio}\", fontsize=20)\n",
    "        plt.legend(fontsize=13)\n",
    "        plt.xlim(0, 1)\n",
    "        plt.ylim(0, 1)\n",
    "        pdf.savefig(bbox_inches='tight')\n",
    "        plt.close()\n",
    "    \n",
    "    # Save text report\n",
    "    txt_path = os.path.join(ratio_dir, \"consolidated_results.txt\")\n",
    "    with open(txt_path, \"w\", encoding=\"utf-8\") as f:\n",
    "        f.write(f\"{'='*40}\\n\")\n",
    "        f.write(f\"Critical Point Analysis (DIM={dim}, Ratio={ratio})\\n\")\n",
    "        f.write(f\"{'='*40}\\n\\n\")\n",
    "        f.write(\"p_c values from each run:\\n\")\n",
    "        for i, pc in enumerate(all_pc_values):\n",
    "            f.write(f\"Run {i+1}: {pc:.6f}\\n\")\n",
    "        \n",
    "        f.write(f\"\\nAverage p_c: {np.mean(all_pc_values):.6f}\\n\")\n",
    "        f.write(f\"Standard deviation: {np.std(all_pc_values):.6f}\\n\\n\")\n",
    "        \n",
    "        f.write(f\"Critical Exponent ν values:\\n\")\n",
    "        for i, nu in enumerate(all_nu_values):\n",
    "            status = \"VALID\" if not np.isnan(nu) else \"INVALID (λ≤1)\"\n",
    "            f.write(f\"Run {i+1}: {nu:.6f} [{status}]\\n\")\n",
    "        \n",
    "        if valid_nu:\n",
    "            f.write(f\"\\nAverage ν (valid runs): {np.mean(valid_nu):.6f}\\n\")\n",
    "            f.write(f\"Standard deviation: {np.std(valid_nu):.6f}\\n\")\n",
    "        else:\n",
    "            f.write(\"\\nNo valid ν values (all runs had λ≤1)\\n\")\n",
    "        f.write(\"\\n\")\n",
    "        \n",
    "        f.write(f\"{'='*40}\\n\")\n",
    "        f.write(f\"Test Performance Metrics (DIM={dim}, Ratio={ratio})\\n\")\n",
    "        f.write(f\"{'='*40}\\n\\n\")\n",
    "        \n",
    "        for config, results_list in all_test_results.items():\n",
    "            parts = config.split('_')\n",
    "            system_size = parts[0]\n",
    "            p_range = parts[1]\n",
    "            \n",
    "            accuracies = [r['accuracy'] for r in results_list]\n",
    "            avg_perc = [r['avg_pred_perc'] for r in results_list]\n",
    "            avg_non_perc = [r['avg_pred_non_perc'] for r in results_list]\n",
    "            \n",
    "            f.write(f\"System: {system_size}, p-range: {p_range}\\n\")\n",
    "            f.write(\"-\"*50 + \"\\n\")\n",
    "            \n",
    "            f.write(\"Run | Accuracy | Avg Perc | Avg Non-Perc\\n\")\n",
    "            f.write(\"----|----------|----------|------------\\n\")\n",
    "            for i in range(len(results_list)):\n",
    "                f.write(f\"{i+1:3d} | {accuracies[i]:.4f} | {avg_perc[i]:.4f} | {avg_non_perc[i]:.4f}\\n\")\n",
    "            \n",
    "            f.write(\"\\nSummary Statistics:\\n\")\n",
    "            f.write(f\"Accuracy: {np.mean(accuracies):.4f} ± {np.std(accuracies):.4f}\\n\")\n",
    "            f.write(f\"Avg Perc: {np.mean(avg_perc):.4f} ± {np.std(avg_perc):.4f}\\n\")\n",
    "            f.write(f\"Avg Non-Perc: {np.mean(avg_non_perc):.4f} ± {np.std(avg_non_perc):.4f}\\n\")\n",
    "            f.write(\"=\"*50 + \"\\n\\n\")\n",
    "        f.write(\"\\n\\n\")\n",
    "\n",
    "def main():\n",
    "    DEVICE = torch.device('cuda' if torch.cuda.is_available() else 'cpu')\n",
    "    POWER = 3\n",
    "    \n",
    "    # Define experiment parameters: {dim: {ratio: epochs}}\n",
    "    EXPERIMENT_PARAMS = {\n",
    "        3: {\n",
    "            0.2: 10,\n",
    "            0.5: 250,\n",
    "            2: 110,\n",
    "            5: 200\n",
    "        },\n",
    "        4: {\n",
    "            0.2: 125,\n",
    "            0.5: 40,\n",
    "            2: 125,\n",
    "            5: 250\n",
    "        },\n",
    "        5: {\n",
    "            0.2: 25,\n",
    "            0.5: 40,\n",
    "            2: 250,\n",
    "            5: 60\n",
    "        }\n",
    "    }\n",
    "    \n",
    "    # Run experiments for each dimension and ratio\n",
    "    for dim, ratio_epochs in EXPERIMENT_PARAMS.items():\n",
    "        print(f\"\\n\\n{'='*50}\")\n",
    "        print(f\"STARTING EXPERIMENTS FOR DIM={dim}\")\n",
    "        print(f\"{'='*50}\")\n",
    "        \n",
    "        for ratio, epochs in ratio_epochs.items():\n",
    "            print(f\"\\n{'='*50}\")\n",
    "            print(f\"STARTING RUNS FOR DIM={dim}, RATIO={ratio}\")\n",
    "            print(f\"{'='*50}\")\n",
    "            \n",
    "            results = run_experiment(\n",
    "                dim=dim,\n",
    "                power=POWER,\n",
    "                num_runs=10,\n",
    "                device=DEVICE,\n",
    "                ratio=ratio,\n",
    "                epochs=epochs\n",
    "            )\n",
    "            \n",
    "            save_consolidated_results_for_ratio(dim, ratio, results)\n",
    "\n",
    "if __name__ == \"__main__\":\n",
    "    main()"
   ]
  }
 ],
 "metadata": {
  "kernelspec": {
   "display_name": "Python 3 (ipykernel)",
   "language": "python",
   "name": "python3"
  },
  "language_info": {
   "codemirror_mode": {
    "name": "ipython",
    "version": 3
   },
   "file_extension": ".py",
   "mimetype": "text/x-python",
   "name": "python",
   "nbconvert_exporter": "python",
   "pygments_lexer": "ipython3",
   "version": "3.9.4"
  }
 },
 "nbformat": 4,
 "nbformat_minor": 5
}

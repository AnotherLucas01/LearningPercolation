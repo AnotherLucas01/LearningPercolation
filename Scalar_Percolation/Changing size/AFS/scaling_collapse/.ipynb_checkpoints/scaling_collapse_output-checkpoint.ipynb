{
 "cells": [
  {
   "cell_type": "code",
   "execution_count": 1,
   "id": "944e6060-c069-4c88-8611-32794e639c69",
   "metadata": {},
   "outputs": [],
   "source": [
    "import numpy as np\n",
    "import torch\n",
    "import torch.nn as nn\n",
    "import torch.nn.functional as F\n",
    "import torch.optim as optim\n",
    "from scipy.ndimage import label\n",
    "from tqdm import tqdm\n",
    "import matplotlib.pyplot as plt\n",
    "from matplotlib.backends.backend_pdf import PdfPages\n",
    "\n",
    "MAX_STEPS = 10\n",
    "\n",
    "def generate_percolation_lattice(size, p):\n",
    "    return np.random.choice([0, 1], (size, size), p=[1-p, p]).astype(np.uint8)\n",
    "\n",
    "def check_percolation(lattice):\n",
    "    labeled, _ = label(lattice)\n",
    "    top = set(labeled[0]) - {0}\n",
    "    bottom = set(labeled[-1]) - {0}\n",
    "    left = set(labeled[:,0]) - {0}\n",
    "    right = set(labeled[:,-1]) - {0}\n",
    "    return float(bool(top & bottom) or bool(left & right))\n",
    "\n",
    "def first_coarse_graining(binary_lattice, dim):\n",
    "    \"\"\"Average non-overlapping dim×dim blocks.\"\"\"\n",
    "    t = torch.tensor(binary_lattice, dtype=torch.float32).unsqueeze(0).unsqueeze(0)\n",
    "    patches = F.unfold(t, kernel_size=dim, stride=dim)             # [1, dim*dim, num_patches]\n",
    "    patches = patches.permute(0, 2, 1)                             # [1, num_patches, dim*dim]\n",
    "    coarse_vals = patches.mean(dim=2)                             # [1, num_patches]\n",
    "    H, W = binary_lattice.shape\n",
    "    new_h, new_w = H // dim, W // dim\n",
    "    return coarse_vals.view(1, 1, new_h, new_w).squeeze(0)        # [1, new_h, new_w]\n",
    "\n",
    "class PercolationModel(nn.Module):\n",
    "    def __init__(self, dim):\n",
    "        super().__init__()\n",
    "        self.dim = dim\n",
    "        self.rule = nn.Sequential(\n",
    "            nn.Linear(dim * dim, 64),\n",
    "            nn.ReLU(),\n",
    "            nn.Linear(64, 1),\n",
    "            nn.Sigmoid()\n",
    "        )\n",
    "    \n",
    "    def forward(self, x, max_steps=MAX_STEPS):\n",
    "        b, c, H, W = x.shape\n",
    "        for _ in range(max_steps):\n",
    "            if H < self.dim or W < self.dim:\n",
    "                break\n",
    "            patches = F.unfold(x, kernel_size=self.dim, stride=self.dim)  # [b, dim*dim, np]\n",
    "            patches = patches.permute(0, 2, 1).contiguous()               # [b, np, dim*dim]\n",
    "            out = self.rule(patches.view(-1, self.dim*self.dim))          # [b*np, 1]\n",
    "            new_h, new_w = H // self.dim, W // self.dim\n",
    "            x = out.view(b, 1, new_h, new_w)\n",
    "            _, _, H, W = x.shape\n",
    "        return x.squeeze(1).view(b, -1)  # returns shape [b, new_h*new_w] or [b] if fully reduced\n",
    "\n",
    "def prepare_dataset(N, sizes):\n",
    "    data = []\n",
    "    for _ in tqdm(range(N), desc=\"Generating data\"):\n",
    "        p = np.random.uniform(0.1, 0.9)\n",
    "        size = np.random.choice(sizes)\n",
    "        L = generate_percolation_lattice(size, p)\n",
    "        data.append((L, check_percolation(L)))\n",
    "    return data\n",
    "\n",
    "def train_epoch(model, device, data, batch_size, opt, crit):\n",
    "    model.train()\n",
    "    total_loss = 0.0\n",
    "    # Process in batches, then split into size groups\n",
    "    for i in tqdm(range(0, len(data), batch_size), desc=\"Training\"):\n",
    "        batch = data[i:i+batch_size]\n",
    "        processed = []\n",
    "        # Apply first_coarse_graining and get sizes\n",
    "        for x, y in batch:\n",
    "            cg_lattice = first_coarse_graining(x, DIM)  # [1, H', W']\n",
    "            h, w = cg_lattice.shape[-2], cg_lattice.shape[-1]\n",
    "            processed.append((cg_lattice, y, (h, w)))\n",
    "        \n",
    "        # Group by size\n",
    "        groups = {}\n",
    "        for cg, y, size in processed:\n",
    "            if size not in groups:\n",
    "                groups[size] = []\n",
    "            groups[size].append((cg, y))\n",
    "        \n",
    "        # Process each group\n",
    "        group_loss = 0.0\n",
    "        for size_key, group in groups.items():\n",
    "            lattices = [item[0] for item in group]\n",
    "            labels = [item[1] for item in group]\n",
    "            inputs = torch.stack(lattices).to(device)  # [B, 1, H, W]\n",
    "            targets = torch.tensor(labels, dtype=torch.float32, device=device)\n",
    "            \n",
    "            opt.zero_grad()\n",
    "            outputs = model(inputs)  # [B, 1]\n",
    "            loss = crit(outputs.view(-1), targets)\n",
    "            loss.backward()\n",
    "            opt.step()\n",
    "            group_loss += loss.item() * len(group)\n",
    "        \n",
    "        total_loss += group_loss\n",
    "    \n",
    "    return total_loss / len(data)\n",
    "\n",
    "def test_systems(model, dim, power, device='cpu',\n",
    "                              num_tests=50, system_size='standard',\n",
    "                              p_range=(0,1), verbose=True):\n",
    "    \"\"\"\n",
    "    For each test:\n",
    "      1) generate a raw DIM^size_power × DIM^size_power lattice\n",
    "      2) compute true percolation label on that raw lattice\n",
    "      3) manually coarse-grain once (patch size = dim)\n",
    "      4) feed the result into model (which will do further recursive steps)\n",
    "    \"\"\"\n",
    "    model.to(device).eval()\n",
    "\n",
    "    # Determine the exponent for lattice_size\n",
    "    size_power = {'3^2': power-1, '3^3': power, '3^4': power+1, '3^5': power+2, '3^6': power+3, '3^7': power+4}[system_size]\n",
    "    L = dim ** size_power\n",
    "\n",
    "    results = []\n",
    "    for _ in tqdm(range(num_tests), desc=f\"Testing {L}×{L}\"):\n",
    "        # 1) Raw lattice + label\n",
    "        p   = np.random.uniform(*p_range)\n",
    "        raw = generate_percolation_lattice(L, p)\n",
    "        lbl = check_percolation(raw)\n",
    "\n",
    "        # 2) Manual first coarse-graining\n",
    "        coarse = first_coarse_graining(raw, dim)   # tensor shape [1, L/dim, L/dim]\n",
    "\n",
    "        # 3) Prepare input for the model\n",
    "        inp = coarse.unsqueeze(0).to(device)       # [1, 1, L/dim, L/dim]\n",
    "\n",
    "        # 4) Get network prediction\n",
    "        with torch.no_grad():\n",
    "            # Let the model do its remaining recursion as usual\n",
    "            # (the `max_steps` is large enough that it will recurse until <dim)\n",
    "            out = model(inp).view(-1).item()\n",
    "\n",
    "        results.append((raw, lbl, out))\n",
    "\n",
    "    # Compute accuracy at 0.5 threshold\n",
    "    acc = sum((pred > 0.5) == lbl for _, lbl, pred in results) / num_tests\n",
    "\n",
    "    if verbose:\n",
    "        pos = [pred for _, lbl, pred in results if lbl==1]\n",
    "        neg = [pred for _, lbl, pred in results if lbl==0]\n",
    "        print(f\"\\nAfter manual first coarse-grain -> NN cascade on {L}×{L}:\")\n",
    "        print(f\" Accuracy        : {acc:.2%}\")\n",
    "        print(f\" Avg pred | Perc     : {np.mean(pos):.3f}\")\n",
    "        print(f\" Avg pred | Non-Perc : {np.mean(neg):.3f}\")\n",
    "\n",
    "    return results\n"
   ]
  },
  {
   "cell_type": "code",
   "execution_count": 2,
   "id": "e4240f80-13c6-4049-bc6f-ab07f030b262",
   "metadata": {},
   "outputs": [
    {
     "name": "stderr",
     "output_type": "stream",
     "text": [
      "Generating data: 100%|██████████████████████████████████████████████████████████████████████| 20000/20000 [00:03<00:00, 5415.47it/s]\n",
      "Training: 100%|████████████████████████████████████████████████████████████████████████████████| 2000/2000 [00:08<00:00, 224.09it/s]\n"
     ]
    },
    {
     "name": "stdout",
     "output_type": "stream",
     "text": [
      "Epoch 1 — Loss: 0.1826\n"
     ]
    },
    {
     "name": "stderr",
     "output_type": "stream",
     "text": [
      "Training: 100%|████████████████████████████████████████████████████████████████████████████████| 2000/2000 [00:09<00:00, 211.33it/s]\n"
     ]
    },
    {
     "name": "stdout",
     "output_type": "stream",
     "text": [
      "Epoch 2 — Loss: 0.1269\n"
     ]
    },
    {
     "name": "stderr",
     "output_type": "stream",
     "text": [
      "Training: 100%|████████████████████████████████████████████████████████████████████████████████| 2000/2000 [00:10<00:00, 194.71it/s]\n"
     ]
    },
    {
     "name": "stdout",
     "output_type": "stream",
     "text": [
      "Epoch 3 — Loss: 0.1256\n"
     ]
    },
    {
     "name": "stderr",
     "output_type": "stream",
     "text": [
      "Training: 100%|████████████████████████████████████████████████████████████████████████████████| 2000/2000 [00:09<00:00, 217.66it/s]\n"
     ]
    },
    {
     "name": "stdout",
     "output_type": "stream",
     "text": [
      "Epoch 4 — Loss: 0.1242\n"
     ]
    },
    {
     "name": "stderr",
     "output_type": "stream",
     "text": [
      "Training: 100%|████████████████████████████████████████████████████████████████████████████████| 2000/2000 [00:09<00:00, 218.33it/s]"
     ]
    },
    {
     "name": "stdout",
     "output_type": "stream",
     "text": [
      "Epoch 5 — Loss: 0.1227\n"
     ]
    },
    {
     "name": "stderr",
     "output_type": "stream",
     "text": [
      "\n"
     ]
    }
   ],
   "source": [
    "# ----------------- Run -----------------\n",
    "DEVICE = torch.device('cuda' if torch.cuda.is_available() else 'cpu')\n",
    "\n",
    "# Add this configuration block (critical for model initialization)\n",
    "DIM = 3      # Patch size for coarse-graining (fixed for the model architecture)\n",
    "POWER = 3    # Base exponent for lattice sizes (3^POWER = 27x27 as \"standard\")\n",
    "SIZES = [DIM**2, DIM**3, DIM**4]  # Mixed training sizes: 9x9, 27x27, 81x81\n",
    "\n",
    "# Generate mixed-size training data\n",
    "train_data = prepare_dataset(20_000, SIZES)\n",
    "\n",
    "# Initialize model with DIM=3 (matches patch size used in first_coarse_graining)\n",
    "model = PercolationModel(DIM).to(DEVICE)\n",
    "opt = optim.Adam(model.parameters(), lr=1e-3)\n",
    "crit = nn.BCELoss()\n",
    "\n",
    "# Training loop (unchanged)\n",
    "for epoch in range(1, 6):\n",
    "    loss = train_epoch(model, DEVICE, train_data, 10, opt, crit)\n",
    "    print(f\"Epoch {epoch} — Loss: {loss:.4f}\")"
   ]
  },
  {
   "cell_type": "code",
   "execution_count": 3,
   "id": "c65a765c-ea1d-4f75-a9d8-7346fea8438b",
   "metadata": {},
   "outputs": [
    {
     "data": {
      "image/png": "[encoded data removed]",
      "text/plain": [
       "<Figure size 1000x600 with 1 Axes>"
      ]
     },
     "metadata": {},
     "output_type": "display_data"
    }
   ],
   "source": [
    "def visualize_rule(model, dim, device='cpu', num_samples=1000):\n",
    "    \"\"\"Visualize the learned rule for dim×dim patches with critical points\"\"\"\n",
    "    import matplotlib.pyplot as plt\n",
    "    from scipy.ndimage import gaussian_filter1d  # For smoothing if needed\n",
    "    \n",
    "    p_values = np.linspace(0, 1, 100)\n",
    "    model.eval()\n",
    "    mean_outputs = []\n",
    "\n",
    "    with torch.no_grad():\n",
    "        for p in p_values:\n",
    "            inputs = torch.full((num_samples, dim*dim), p, \n",
    "                               dtype=torch.float32, device=device)\n",
    "            outputs = model.rule(inputs).cpu().numpy()\n",
    "            mean_outputs.append(outputs.mean())\n",
    "    \n",
    "    # Calculate derivatives to find concavity change\n",
    "    first_deriv = np.gradient(mean_outputs)\n",
    "    second_deriv = np.gradient(first_deriv)\n",
    "    \n",
    "    # Find point where second derivative crosses zero (maximum curvature)\n",
    "    # Smooth derivatives if noisy (optional)\n",
    "    # second_deriv = gaussian_filter1d(second_deriv, sigma=1)\n",
    "    zero_crossings = np.where(np.diff(np.sign(second_deriv)))[0]\n",
    "    \n",
    "    if len(zero_crossings) > 0:\n",
    "        # Take last crossing for percolation threshold\n",
    "        crit_idx = zero_crossings[np.argmax(p_values[zero_crossings])]  \n",
    "        p_c_model = p_values[crit_idx]\n",
    "    else:\n",
    "        p_c_model = p_values[np.argmin(np.abs(second_deriv))]\n",
    "    \n",
    "    # Plotting\n",
    "    plt.figure(figsize=(10, 6))\n",
    "    plt.plot(p_values, mean_outputs, color='darkorange', linewidth=2.5,\n",
    "            label=f'Learned {dim}×{dim} Rule')\n",
    "    \n",
    "    # Theoretical critical point\n",
    "    plt.axvline(0.5927, color='black', linestyle='--', \n",
    "               label='Theoretical $p_c$ (0.5927)')\n",
    "    \n",
    "    # Model-predicted critical point\n",
    "    plt.axvline(p_c_model, color='royalblue', linestyle=':',\n",
    "               label=f'Model $p_c$ ({p_c_model:.3f})')\n",
    "    \n",
    "    plt.xlabel('Input Patch Mean ($p$)')\n",
    "    plt.ylabel('Model Output')\n",
    "    plt.title(f'Learned Coarse-Graining Rule with Critical Points')\n",
    "    plt.legend()\n",
    "    plt.grid(True, alpha=0.3)\n",
    "    plt.savefig(f'Learned_{dim}x{dim}_Rule_with_crit_points.pdf', bbox_inches='tight')\n",
    "    plt.show()\n",
    "\n",
    "# Usage\n",
    "visualize_rule(model, DIM, DEVICE)"
   ]
  },
  {
   "cell_type": "code",
   "execution_count": 4,
   "id": "b1908817-954f-40dd-a0d7-73258a749883",
   "metadata": {},
   "outputs": [
    {
     "name": "stderr",
     "output_type": "stream",
     "text": [
      "Testing 9×9: 100%|██████████████████████████████████████████████████████████████████████████████| 100/100 [00:00<00:00, 1950.64it/s]\n"
     ]
    },
    {
     "name": "stdout",
     "output_type": "stream",
     "text": [
      "\n",
      "After manual first coarse-grain -> NN cascade on 9×9:\n",
      " Accuracy        : 93.00%\n",
      " Avg pred | Perc     : 0.860\n",
      " Avg pred | Non-Perc : 0.126\n"
     ]
    },
    {
     "name": "stderr",
     "output_type": "stream",
     "text": [
      "Testing 27×27: 100%|████████████████████████████████████████████████████████████████████████████| 100/100 [00:00<00:00, 2216.00it/s]\n"
     ]
    },
    {
     "name": "stdout",
     "output_type": "stream",
     "text": [
      "\n",
      "After manual first coarse-grain -> NN cascade on 27×27:\n",
      " Accuracy        : 93.00%\n",
      " Avg pred | Perc     : 0.856\n",
      " Avg pred | Non-Perc : 0.033\n"
     ]
    },
    {
     "name": "stderr",
     "output_type": "stream",
     "text": [
      "Testing 81×81: 100%|████████████████████████████████████████████████████████████████████████████| 100/100 [00:00<00:00, 1066.69it/s]\n"
     ]
    },
    {
     "name": "stdout",
     "output_type": "stream",
     "text": [
      "\n",
      "After manual first coarse-grain -> NN cascade on 81×81:\n",
      " Accuracy        : 99.00%\n",
      " Avg pred | Perc     : 0.956\n",
      " Avg pred | Non-Perc : 0.006\n"
     ]
    },
    {
     "name": "stderr",
     "output_type": "stream",
     "text": [
      "Testing 243×243: 100%|███████████████████████████████████████████████████████████████████████████| 100/100 [00:00<00:00, 338.16it/s]\n"
     ]
    },
    {
     "name": "stdout",
     "output_type": "stream",
     "text": [
      "\n",
      "After manual first coarse-grain -> NN cascade on 243×243:\n",
      " Accuracy        : 99.00%\n",
      " Avg pred | Perc     : 0.975\n",
      " Avg pred | Non-Perc : 0.000\n"
     ]
    },
    {
     "name": "stderr",
     "output_type": "stream",
     "text": [
      "Testing 729×729: 100%|██████████████████████████████████████████████████████████████████████████████| 50/50 [00:01<00:00, 44.99it/s]\n"
     ]
    },
    {
     "name": "stdout",
     "output_type": "stream",
     "text": [
      "\n",
      "After manual first coarse-grain -> NN cascade on 729×729:\n",
      " Accuracy        : 100.00%\n",
      " Avg pred | Perc     : 0.994\n",
      " Avg pred | Non-Perc : 0.000\n"
     ]
    },
    {
     "name": "stderr",
     "output_type": "stream",
     "text": [
      "Testing 2187×2187: 100%|████████████████████████████████████████████████████████████████████████████| 10/10 [00:02<00:00,  4.97it/s]\n"
     ]
    },
    {
     "name": "stdout",
     "output_type": "stream",
     "text": [
      "\n",
      "After manual first coarse-grain -> NN cascade on 2187×2187:\n",
      " Accuracy        : 100.00%\n",
      " Avg pred | Perc     : 0.994\n",
      " Avg pred | Non-Perc : 0.000\n"
     ]
    },
    {
     "name": "stderr",
     "output_type": "stream",
     "text": [
      "Testing 27×27: 100%|████████████████████████████████████████████████████████████████████████████| 200/200 [00:00<00:00, 1919.35it/s]"
     ]
    },
    {
     "name": "stdout",
     "output_type": "stream",
     "text": [
      "\n",
      "After manual first coarse-grain -> NN cascade on 27×27:\n",
      " Accuracy        : 83.50%\n",
      " Avg pred | Perc     : 0.779\n",
      " Avg pred | Non-Perc : 0.205\n"
     ]
    },
    {
     "name": "stderr",
     "output_type": "stream",
     "text": [
      "\n"
     ]
    }
   ],
   "source": [
    "# ----------------- Testing & Reporting -----------------\n",
    "def run_experiment(model, device):\n",
    "    \"\"\"Run all test configurations on a single trained model\"\"\"\n",
    "    test_configs = [\n",
    "        {'system_size': '3^2', 'num_tests': 100, 'p_range': (0.1, 0.9)},\n",
    "        {'system_size': '3^3', 'num_tests': 100, 'p_range': (0.1, 0.9)},\n",
    "        {'system_size': '3^4', 'num_tests': 100, 'p_range': (0.1, 0.9)},\n",
    "        {'system_size': '3^5', 'num_tests': 100, 'p_range': (0.1, 0.9)},\n",
    "        {'system_size': '3^6', 'num_tests': 50, 'p_range': (0.1, 0.9)},\n",
    "        {'system_size': '3^7', 'num_tests': 10, 'p_range': (0.1, 0.9)},\n",
    "        {'system_size': '3^3', 'num_tests': 200, 'p_range': (0.5, 0.7)}\n",
    "    ]\n",
    "    \n",
    "    test_results = {}\n",
    "    for config in test_configs:\n",
    "        key = f\"{config['system_size']}_{config['p_range'][0]}-{config['p_range'][1]}\"\n",
    "        test_results[key] = test_systems(\n",
    "            model=model,\n",
    "            dim=DIM,         # Use fixed DIM from training\n",
    "            power=POWER,     # Use fixed POWER from training\n",
    "            device=device,\n",
    "            **config\n",
    "        )\n",
    "\n",
    "    # Generate plot data using the model's rule\n",
    "    ps = np.linspace(0.0, 1.0, 101)\n",
    "    n_patches = 1000\n",
    "    mean_outputs = []\n",
    "    \n",
    "    with torch.no_grad():\n",
    "        for p in ps:\n",
    "            # Create random patches matching the model's expected input dimension\n",
    "            patches = np.random.rand(n_patches, DIM*DIM)  # [num_patches, dim²]\n",
    "            inp = torch.from_numpy(patches.astype(np.float32)).to(device)\n",
    "            outs = model.rule(inp).cpu().numpy().flatten()\n",
    "            mean_outputs.append(outs.mean())\n",
    "    \n",
    "    return test_results, (ps, mean_outputs)\n",
    "\n",
    "# Generate consolidated reports for the single model\n",
    "def generate_reports(test_results):\n",
    "    # Text Report\n",
    "    with open('mixed_size_accuracies.txt', 'w') as f:\n",
    "        f.write(\"=\"*40 + \"\\nMixed Size Model Performance\\n\" + \"=\"*40 + \"\\n\")\n",
    "        \n",
    "        for key, results in test_results.items():\n",
    "            acc = sum((pred > 0.5) == lbl for _, lbl, pred in results)/len(results)\n",
    "            pos = [pred for _, lbl, pred in results if lbl==1]\n",
    "            neg = [pred for _, lbl, pred in results if lbl==0]\n",
    "            \n",
    "            f.write(f\"\\nTest Config: {key}\\n\")\n",
    "            f.write(f\"Accuracy: {acc:.2%}\\n\")\n",
    "            f.write(f\"Avg Perc Pred: {np.mean(pos):.3f}\\n\")\n",
    "            f.write(f\"Avg Non-Perc Pred: {np.mean(neg):.3f}\\n\")\n",
    "\n",
    "# ----------------- Main Execution -----------------\n",
    "# After training (5 epochs in original code), run:\n",
    "test_results, plot_data = run_experiment(model, DEVICE)\n",
    "generate_reports(test_results)"
   ]
  }
 ],
 "metadata": {
  "kernelspec": {
   "display_name": "Python 3 (ipykernel)",
   "language": "python",
   "name": "python3"
  },
  "language_info": {
   "codemirror_mode": {
    "name": "ipython",
    "version": 3
   },
   "file_extension": ".py",
   "mimetype": "text/x-python",
   "name": "python",
   "nbconvert_exporter": "python",
   "pygments_lexer": "ipython3",
   "version": "3.9.4"
  }
 },
 "nbformat": 4,
 "nbformat_minor": 5
}
